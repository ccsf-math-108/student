{
 "cells": [
  {
   "cell_type": "markdown",
   "id": "9ac32937-7672-4b04-b6b5-2b8b3d4a3623",
   "metadata": {},
   "source": [
    "# Discussion Worksheet: Visualizations Topic 4"
   ]
  },
  {
   "cell_type": "markdown",
   "id": "065758e1-65bf-4086-b1d4-0be9e6f8ee6c",
   "metadata": {},
   "source": [
    "_You will use the following set up and data to come up with an answer and visual for at least one question from each of the parts listed below._"
   ]
  },
  {
   "cell_type": "code",
   "execution_count": null,
   "id": "3c2b5b6b-b987-437d-a898-91bb6c4a02ca",
   "metadata": {},
   "outputs": [],
   "source": [
    "from datascience import *\n",
    "import numpy as np\n",
    "%matplotlib inline\n",
    "import matplotlib.pyplot as plots\n",
    "plots.style.use('fivethirtyeight')"
   ]
  },
  {
   "cell_type": "markdown",
   "id": "561b37e5-3a1b-43ef-bba7-5c0782c2bd76",
   "metadata": {},
   "source": [
    "Run the following code cell to load the survey data as the table `survey`.\n",
    "* The data has not been cleaned, so you will find missing (`nan`) data and other issues.\n",
    "* The column labels are codes for the survey questions.\n",
    "* Review the [translation of the codes](https://github.com/ccsf-math-108/materials-fa23/blob/main/resources/welcome_survey_codes.md)."
   ]
  },
  {
   "cell_type": "code",
   "execution_count": null,
   "id": "1fc34c7f-005d-4036-a8ce-31b7c95e8867",
   "metadata": {},
   "outputs": [],
   "source": [
    "url = 'https://raw.githubusercontent.com/ccsf-math-108/materials-fa23/main/resources/welcome_survey_fa23.csv'\n",
    "survey = Table.read_table(url)\n",
    "survey.show(2)"
   ]
  },
  {
   "cell_type": "markdown",
   "id": "c348e235-5915-4827-abaa-ea4a738f93a5",
   "metadata": {},
   "source": [
    "## Part A"
   ]
  },
  {
   "cell_type": "markdown",
   "id": "3b32074c-cd2a-429b-93f8-575c0d066e23",
   "metadata": {},
   "source": [
    "Answer at least one of the following questions using a visual that you create from the data set:\n",
    "1. How old are the people in MATH 108?\n",
    "2. What are the educational backgrounds of people in MATH 108?"
   ]
  },
  {
   "cell_type": "code",
   "execution_count": null,
   "id": "3fd0dae1-7ae4-4935-a408-bc4c1735da6f",
   "metadata": {},
   "outputs": [],
   "source": [
    "..."
   ]
  },
  {
   "cell_type": "markdown",
   "id": "0c9fdc5a-b556-4e07-897b-72ad237291f6",
   "metadata": {},
   "source": [
    "## Part B"
   ]
  },
  {
   "cell_type": "markdown",
   "id": "3ed6ab7d-3b59-4a3c-9158-9798b987b48a",
   "metadata": {},
   "source": [
    "Answer at least one of the following questions using a visual that you create from the data set:\n",
    "1. How likely are people to ask for help given their comfort level with programming or statistics?\n",
    "2. Do our reaction times change as we age?"
   ]
  },
  {
   "cell_type": "code",
   "execution_count": null,
   "id": "5190daee-a1fe-4254-9e13-464748d280f9",
   "metadata": {},
   "outputs": [],
   "source": [
    "..."
   ]
  }
 ],
 "metadata": {
  "kernelspec": {
   "display_name": "Python 3 (ipykernel)",
   "language": "python",
   "name": "python3"
  },
  "language_info": {
   "codemirror_mode": {
    "name": "ipython",
    "version": 3
   },
   "file_extension": ".py",
   "mimetype": "text/x-python",
   "name": "python",
   "nbconvert_exporter": "python",
   "pygments_lexer": "ipython3",
   "version": "3.10.12"
  }
 },
 "nbformat": 4,
 "nbformat_minor": 5
}
