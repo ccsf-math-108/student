{
 "cells": [
  {
   "cell_type": "code",
   "execution_count": null,
   "metadata": {
    "deletable": false,
    "editable": false
   },
   "outputs": [],
   "source": [
    "# Initialize Otter\n",
    "import otter\n",
    "grader = otter.Notebook(\"hw04.ipynb\")"
   ]
  },
  {
   "cell_type": "markdown",
   "metadata": {},
   "source": [
    "<img style=\"display: block; margin-left: auto; margin-right: auto\" src=\"./ccsf-logo.png\" width=\"250rem;\" alt=\"The CCSF black and white logo\">"
   ]
  },
  {
   "cell_type": "markdown",
   "metadata": {},
   "source": [
    "<div style=\"text-align: center;\">\n",
    "    <h1>Homework 4: Functions, Histograms, and Groups</h1>\n",
    "    <em>View the related <a href=\"https://ccsf.instructure.com\" target=\"_blank\">Canvas</a> Assignment page for additional details.</em>\n",
    "</div>"
   ]
  },
  {
   "cell_type": "markdown",
   "metadata": {},
   "source": [
    "**Reading**: \n",
    "\n",
    "* [Visualizing Numerical Distributions](https://inferentialthinking.com/chapters/07/2/Visualizing_Numerical_Distributions.html) \n",
    "* [Functions and Tables](https://inferentialthinking.com/chapters/08/Functions_and_Tables.html)"
   ]
  },
  {
   "cell_type": "markdown",
   "metadata": {},
   "source": [
    "Please complete this notebook by filling in the cells provided. Before you begin, execute the following cell to load the provided tests. Each time you start your server, you will need to execute this cell again to load the tests.\n",
    "\n",
    "\n",
    "**Throughout this homework and all future ones, please be sure to not re-assign variables throughout the notebook!** For example, if you use `max_temperature` in your answer to one question, do not reassign it later on. Moreover, please be sure to only put your written answers in the provided cells. "
   ]
  },
  {
   "cell_type": "markdown",
   "metadata": {},
   "source": [
    "Run the following cell to import the relevant modules and settings."
   ]
  },
  {
   "cell_type": "code",
   "execution_count": null,
   "metadata": {
    "execution": {
     "iopub.execute_input": "2022-09-29T20:50:59.229916Z",
     "iopub.status.busy": "2022-09-29T20:50:59.228963Z",
     "iopub.status.idle": "2022-09-29T20:51:00.950825Z",
     "shell.execute_reply": "2022-09-29T20:51:00.949705Z"
    }
   },
   "outputs": [],
   "source": [
    "import numpy as np\n",
    "from datascience import *\n",
    "import matplotlib\n",
    "%matplotlib inline\n",
    "import matplotlib.pyplot as plt\n",
    "plt.style.use('fivethirtyeight')"
   ]
  },
  {
   "cell_type": "markdown",
   "metadata": {},
   "source": [
    "## 1. Burrito-ful San Diego"
   ]
  },
  {
   "cell_type": "markdown",
   "metadata": {},
   "source": [
    "Tam, Margaret and Winifred are trying to use Data Science to find the best burritos in San Diego! Their friends Irene and Maya provided them with two comprehensive datasets on many burrito establishments in the San Diego area taken from (and cleaned from): https://www.kaggle.com/srcole/burritos-in-san-diego/data"
   ]
  },
  {
   "cell_type": "markdown",
   "metadata": {},
   "source": [
    "The following cell reads in a table called `ratings` which contains names of burrito restaurants, their Yelp rating, Google rating, as well as their Overall rating. It also reads in a table called `burritos_types` which contains names of burrito restaurants, their menu items, and the cost of the respective menu item at the restaurant."
   ]
  },
  {
   "cell_type": "code",
   "execution_count": null,
   "metadata": {
    "deletable": false,
    "execution": {
     "iopub.execute_input": "2022-09-29T20:51:00.955348Z",
     "iopub.status.busy": "2022-09-29T20:51:00.954894Z",
     "iopub.status.idle": "2022-09-29T20:51:00.974785Z",
     "shell.execute_reply": "2022-09-29T20:51:00.973782Z"
    },
    "tags": []
   },
   "outputs": [],
   "source": [
    "ratings = Table.read_table(\"ratings.csv\")\n",
    "ratings.show(5)\n",
    "burritos_types = Table.read_table(\"burritos_types.csv\")\n",
    "burritos_types.show(5)"
   ]
  },
  {
   "cell_type": "markdown",
   "metadata": {},
   "source": [
    "### Task 01 📍"
   ]
  },
  {
   "cell_type": "markdown",
   "metadata": {},
   "source": [
    "It would be easier if we could combine the information in both tables. Assign `burritos` to the result of joining the two tables together.\n",
    "\n",
    "*Note: it doesn't matter which table you put in as the argument to the table method, either order will work for the autograder tests.*\n",
    "\n",
    "*Hint: If you need refreshers on table methods, look at the course Python Reference.\n",
    "\n",
    "\n",
    "_Points:_ 3"
   ]
  },
  {
   "cell_type": "code",
   "execution_count": null,
   "metadata": {
    "execution": {
     "iopub.execute_input": "2022-09-29T20:51:01.014465Z",
     "iopub.status.busy": "2022-09-29T20:51:01.013516Z",
     "iopub.status.idle": "2022-09-29T20:51:01.027019Z",
     "shell.execute_reply": "2022-09-29T20:51:01.026036Z"
    },
    "tags": []
   },
   "outputs": [],
   "source": [
    "burritos = ...\n",
    "burritos.show(5)"
   ]
  },
  {
   "cell_type": "code",
   "execution_count": null,
   "metadata": {
    "deletable": false,
    "editable": false
   },
   "outputs": [],
   "source": [
    "grader.check(\"task_01\")"
   ]
  },
  {
   "cell_type": "markdown",
   "metadata": {},
   "source": [
    "### Task 02 📍🔎"
   ]
  },
  {
   "cell_type": "markdown",
   "metadata": {},
   "source": [
    "<!-- BEGIN QUESTION -->\n",
    "\n",
    "Let's look at how the Yelp scores compare to the Google scores in the `burritos` table. First, assign `yelp_and_google` to a table only containing the columns `Yelp` and `Google`. Then, make a scatter plot with Yelp scores on the x-axis and the Google scores on the y-axis. \n",
    "\n",
    "\n",
    "_Points:_ 1"
   ]
  },
  {
   "cell_type": "code",
   "execution_count": null,
   "metadata": {
    "execution": {
     "iopub.execute_input": "2022-09-29T20:51:01.069277Z",
     "iopub.status.busy": "2022-09-29T20:51:01.068954Z",
     "iopub.status.idle": "2022-09-29T20:51:01.283680Z",
     "shell.execute_reply": "2022-09-29T20:51:01.282625Z"
    },
    "export_pdf": true,
    "tags": []
   },
   "outputs": [],
   "source": [
    "yelp_and_google = ...\n",
    "...\n",
    "# Don't change/edit/remove the following line.\n",
    "# To help you make conclusions, we have plotted a straight line on the graph (y=x)\n",
    "plt.plot(np.arange(2.5,5,.5), np.arange(2.5,5,.5));"
   ]
  },
  {
   "cell_type": "markdown",
   "metadata": {},
   "source": [
    "<!-- END QUESTION -->\n",
    "\n",
    "### Task 03 📍🔎"
   ]
  },
  {
   "cell_type": "markdown",
   "metadata": {},
   "source": [
    "<!-- BEGIN QUESTION -->\n",
    "\n",
    "Looking at the scatter plot you just made, do you notice any pattern(s) (i.e. is one of the two types of scores consistently higher than the other one)? If so, describe them **briefly** in the cell below.\n",
    "\n",
    "\n",
    "_Points:_ 1"
   ]
  },
  {
   "cell_type": "markdown",
   "metadata": {},
   "source": [
    "_Type your answer here, replacing this text._"
   ]
  },
  {
   "cell_type": "markdown",
   "metadata": {},
   "source": [
    "<!-- END QUESTION -->\n",
    "\n",
    "Here's a refresher on how `.group` works! You can read how `.group` works in the [textbook](https://www.inferentialthinking.com/chapters/08/2/Classifying_by_One_Variable.html), or you can view the video below. The video resource was made by Divyesh Chotai!"
   ]
  },
  {
   "cell_type": "code",
   "execution_count": null,
   "metadata": {
    "execution": {
     "iopub.execute_input": "2022-09-29T20:51:01.288866Z",
     "iopub.status.busy": "2022-09-29T20:51:01.288160Z",
     "iopub.status.idle": "2022-09-29T20:51:01.329878Z",
     "shell.execute_reply": "2022-09-29T20:51:01.328882Z"
    }
   },
   "outputs": [],
   "source": [
    "from IPython.display import YouTubeVideo\n",
    "YouTubeVideo(\"HLoYTCUP0fc\")"
   ]
  },
  {
   "cell_type": "markdown",
   "metadata": {},
   "source": [
    "### Task 04 📍"
   ]
  },
  {
   "cell_type": "markdown",
   "metadata": {},
   "source": [
    "From the `burritos` table, some of the restaurant locations have multiple reviews. Winifred thinks California burritos are the best type of burritos, and wants to see the average overall rating for California burritos at each location.\n",
    "\n",
    "Create a table that has two columns: the name of the restaurant and the average overall rating of California burritos at each location.\n",
    "\n",
    "As you work on this on this assignment, consider the following:\n",
    "\n",
    "* There actually isn't specific review data on menu items, so assume that each California burrito review is the same as its associated restaurant review.\n",
    "* The data is a bit messy and there are multiple representations of the world California, so use the predicate `are.equal_to('California')` to filter the data to exact matches of California burritos.\n",
    "* You can break up the solution into multiple lines, as long as you assign the final output table to `california_burritos`! For reference however, the staff solution only used one line.\n",
    "\n",
    "\n",
    "_Points:_ 3"
   ]
  },
  {
   "cell_type": "code",
   "execution_count": null,
   "metadata": {
    "execution": {
     "iopub.execute_input": "2022-09-29T20:51:01.334491Z",
     "iopub.status.busy": "2022-09-29T20:51:01.334182Z",
     "iopub.status.idle": "2022-09-29T20:51:01.343343Z",
     "shell.execute_reply": "2022-09-29T20:51:01.342320Z"
    },
    "tags": []
   },
   "outputs": [],
   "source": [
    "california_burritos = ...\n",
    "california_burritos"
   ]
  },
  {
   "cell_type": "code",
   "execution_count": null,
   "metadata": {
    "deletable": false,
    "editable": false
   },
   "outputs": [],
   "source": [
    "grader.check(\"task_04\")"
   ]
  },
  {
   "cell_type": "markdown",
   "metadata": {},
   "source": [
    "### Task 05 📍"
   ]
  },
  {
   "cell_type": "markdown",
   "metadata": {},
   "source": [
    "Given this new table `california_burritos`, Winifred can figure out the name of the restaurant with the highest overall average rating! Assign `best_restaurant` to a line of code that evaluates to a string that corresponds to the name of the restaurant with the highest overall average rating. \n",
    "\n",
    "\n",
    "_Points:_ 2"
   ]
  },
  {
   "cell_type": "code",
   "execution_count": null,
   "metadata": {
    "execution": {
     "iopub.execute_input": "2022-09-29T20:51:01.376082Z",
     "iopub.status.busy": "2022-09-29T20:51:01.375748Z",
     "iopub.status.idle": "2022-09-29T20:51:01.382457Z",
     "shell.execute_reply": "2022-09-29T20:51:01.381571Z"
    },
    "tags": []
   },
   "outputs": [],
   "source": [
    "best_restaurant = ...\n",
    "best_restaurant"
   ]
  },
  {
   "cell_type": "code",
   "execution_count": null,
   "metadata": {
    "deletable": false,
    "editable": false
   },
   "outputs": [],
   "source": [
    "grader.check(\"task_05\")"
   ]
  },
  {
   "cell_type": "markdown",
   "metadata": {},
   "source": [
    "### Task 06 📍"
   ]
  },
  {
   "cell_type": "markdown",
   "metadata": {},
   "source": [
    "Using the `burritos` table, assign `menu_average` to a table that has three columns that uniquely pairs the name of the restaurant, the menu item featured in the review, and the average Overall score for that menu item at that restaurant.\n",
    "\n",
    "*Hint: Use .group, and remember that you can group by multiple columns. Here's an example from the [textbook](https://www.inferentialthinking.com/chapters/08/3/Cross-Classifying_by_More_than_One_Variable.html)*.\n",
    "\n",
    "\n",
    "_Points:_ 2"
   ]
  },
  {
   "cell_type": "code",
   "execution_count": null,
   "metadata": {
    "execution": {
     "iopub.execute_input": "2022-09-29T20:51:01.405229Z",
     "iopub.status.busy": "2022-09-29T20:51:01.404951Z",
     "iopub.status.idle": "2022-09-29T20:51:01.430748Z",
     "shell.execute_reply": "2022-09-29T20:51:01.429810Z"
    },
    "tags": []
   },
   "outputs": [],
   "source": [
    "menu_average = ...\n",
    "menu_average"
   ]
  },
  {
   "cell_type": "code",
   "execution_count": null,
   "metadata": {
    "deletable": false,
    "editable": false
   },
   "outputs": [],
   "source": [
    "grader.check(\"task_06\")"
   ]
  },
  {
   "cell_type": "markdown",
   "metadata": {},
   "source": [
    "### Task 07 📍🔎"
   ]
  },
  {
   "cell_type": "markdown",
   "metadata": {},
   "source": [
    "<!-- BEGIN QUESTION -->\n",
    "\n",
    "Tam thinks that burritos in San Diego are cheaper (and taste better) than the burritos in Berkeley. Plot a histogram that visualizes that distribution of the costs of the burritos from San Diego in the `burritos` table. Also use the provided `bins` variable when making your histogram, so that visually the histogram is more informative.\n",
    "\n",
    "\n",
    "_Points:_ 1"
   ]
  },
  {
   "cell_type": "code",
   "execution_count": null,
   "metadata": {
    "execution": {
     "iopub.execute_input": "2022-09-29T20:51:01.456154Z",
     "iopub.status.busy": "2022-09-29T20:51:01.455856Z",
     "iopub.status.idle": "2022-09-29T20:51:01.681638Z",
     "shell.execute_reply": "2022-09-29T20:51:01.676689Z"
    },
    "export_pdf": true,
    "tags": []
   },
   "outputs": [],
   "source": [
    "bins = np.arange(0, 15, 1)\n",
    "# Use the provided bins when you generate your histogram.\n",
    "..."
   ]
  },
  {
   "cell_type": "markdown",
   "metadata": {},
   "source": [
    "<!-- END QUESTION -->\n",
    "\n",
    "## 2. San Francisco City Employee Salaries\n"
   ]
  },
  {
   "cell_type": "markdown",
   "metadata": {},
   "source": [
    "This exercise is designed to give you practice with using the Table methods `.pivot` and `.group`.\n",
    "\n",
    "Run the cell below to view a demo on how you can use pivot on a table. (Thank you to [Divyesh Chotai](https://www.linkedin.com/in/divyesh-taneja/)!)"
   ]
  },
  {
   "cell_type": "code",
   "execution_count": null,
   "metadata": {
    "execution": {
     "iopub.execute_input": "2022-09-29T20:51:01.688941Z",
     "iopub.status.busy": "2022-09-29T20:51:01.688573Z",
     "iopub.status.idle": "2022-09-29T20:51:01.731006Z",
     "shell.execute_reply": "2022-09-29T20:51:01.730019Z"
    }
   },
   "outputs": [],
   "source": [
    "from IPython.display import YouTubeVideo\n",
    "YouTubeVideo(\"4WzXo8eKLAg\")"
   ]
  },
  {
   "cell_type": "markdown",
   "metadata": {},
   "source": [
    "DataSF provides publically available data sets. For this portion of the homework you will focus on [Employee Compensation](https://data.sfgov.org/City-Management-and-Ethics/Employee-Compensation/88g8-5mnd) data provided by the SF Controller's Office. We have filtered it to retain just the relevant columns and restricted the data to the calendar year 2021. Run the following cell to load our data into a table called `full_sf`."
   ]
  },
  {
   "cell_type": "code",
   "execution_count": null,
   "metadata": {
    "execution": {
     "iopub.execute_input": "2022-09-29T20:51:01.735148Z",
     "iopub.status.busy": "2022-09-29T20:51:01.734808Z",
     "iopub.status.idle": "2022-09-29T20:51:03.309685Z",
     "shell.execute_reply": "2022-09-29T20:51:03.308661Z"
    },
    "tags": []
   },
   "outputs": [],
   "source": [
    "full_sf = Table.read_table(\"sf2021.csv\")\\\n",
    "               .select('Employee Identifier', 'Organization Group', 'Department', 'Job Family', 'Job', 'Salaries', 'Overtime', 'Total Benefits', 'Total Compensation')\n",
    "full_sf.show(30)"
   ]
  },
  {
   "cell_type": "markdown",
   "metadata": {},
   "source": [
    "The table has one row for each of the San Francisco government employees in 2021.\n",
    "\n",
    "The first four columns describe the employee's job. For example, the employee in the third row of the table had a job called \"IS Business Analyst-Senior\". We will call this the employee's *position* or *job title*. The job was in a Job Family called Information Systems (hence the IS in the job title), and was in the Adult Probation Department that is part of the Public Protection Organization Group of the government. You will mostly be working with the `Job` column.\n",
    "\n",
    "The next three columns contain the dollar amounts paid to the employee in the calendar year 2019 for salary, overtime, and benefits. Note that an employee's salary does not include their overtime earnings.\n",
    "\n",
    "The last column contains the total compensation paid to the employee. It is the sum of the previous three columns:\n",
    "\n",
    "$$\\text{Total Compensation} = \\text{Salaries} + \\text{Overtime} + \\text{Total Benefits}$$\n",
    "\n",
    "For this homework, we will be using the following columns:\n",
    "1. `Organization Group`: A group of departments. For example, the Public Protection Org. Group includes departments such as the Police, Fire, Adult Protection, District Attorney, etc.\n",
    "2. `Department`: The primary organizational unit used by the City and County of San Francisco.\n",
    "3. `Job`: The specific position that a given worker fills.\n",
    "4. `Total Compensation`: The sum of a worker's salary, overtime, and benefits in 2019.\n",
    "\n",
    "\n",
    "Run the following cell to select the relevant columns and create a new table named `sf`."
   ]
  },
  {
   "cell_type": "code",
   "execution_count": null,
   "metadata": {
    "execution": {
     "iopub.execute_input": "2022-09-29T20:51:03.314460Z",
     "iopub.status.busy": "2022-09-29T20:51:03.314130Z",
     "iopub.status.idle": "2022-09-29T20:51:03.362098Z",
     "shell.execute_reply": "2022-09-29T20:51:03.361183Z"
    }
   },
   "outputs": [],
   "source": [
    "sf = full_sf.select(\"Job\", \"Department\", \"Organization Group\",  \"Total Compensation\")\n",
    "sf.show(5)"
   ]
  },
  {
   "cell_type": "markdown",
   "metadata": {},
   "source": [
    "We want to use this table to generate arrays with the job titles of the members of each `Organization Group`."
   ]
  },
  {
   "cell_type": "markdown",
   "metadata": {},
   "source": [
    "### Task 08 📍"
   ]
  },
  {
   "cell_type": "markdown",
   "metadata": {},
   "source": [
    "Set `job_titles` to a table with two columns. \n",
    "* The first column should be called \"Organization Group\".\n",
    "* The first column should have the name of every \"Organization Group\" once\n",
    "* The second column should be called \"Jobs\" with each row in that second column containing an *array* of the names of all the job titles within that \"Organization Group\". \n",
    "* Don't worry if there are multiple of the same job titles.\n",
    "\n",
    "Consider a few things while working on this:\n",
    "* Think about how `group` works: it collects values into an array and then applies a function to that array. We have defined two functions below for you, and you will need to use one of them in your call to `group`. \n",
    "* It might be helpful to create intermediary tables and experiment with the given functions.\n",
    "\n",
    "_Points:_ 6"
   ]
  },
  {
   "cell_type": "code",
   "execution_count": null,
   "metadata": {
    "execution": {
     "iopub.execute_input": "2022-09-29T20:51:03.367020Z",
     "iopub.status.busy": "2022-09-29T20:51:03.366616Z",
     "iopub.status.idle": "2022-09-29T20:51:04.311728Z",
     "shell.execute_reply": "2022-09-29T20:51:04.310759Z"
    },
    "tags": []
   },
   "outputs": [],
   "source": [
    "# Pick one of the two functions defined below in your call to group.\n",
    "def first_item(array):\n",
    "    '''Returns the first item'''\n",
    "    return array.item(0)\n",
    "\n",
    "def full_array(array):\n",
    "    '''Returns the array that is passed through'''\n",
    "    return array \n",
    "\n",
    "# Make a call to group using one of the functions above when you define job_titles\n",
    "job_titles = ...\n",
    "job_titles"
   ]
  },
  {
   "cell_type": "code",
   "execution_count": null,
   "metadata": {
    "deletable": false,
    "editable": false
   },
   "outputs": [],
   "source": [
    "grader.check(\"task_08\")"
   ]
  },
  {
   "cell_type": "markdown",
   "metadata": {},
   "source": [
    "---\n",
    "\n",
    "Understanding the code you just wrote in the previous task is important for moving forward with the class! If you made a lucky guess, take some time to look at the code, step by step.\n",
    "\n",
    "---"
   ]
  },
  {
   "cell_type": "markdown",
   "metadata": {},
   "source": [
    "### Task 09 📍🔎"
   ]
  },
  {
   "cell_type": "markdown",
   "metadata": {},
   "source": [
    "<!-- BEGIN QUESTION -->\n",
    "\n",
    "At the moment, the `Job` column of the `sf` table is not sorted (no particular order). Would the arrays you generated in the `Jobs` column of the previous question be the same if we had sorted alphabetically instead before generating them? Explain your answer. To receive full credit, your answer should reference\n",
    "1. *how* the `.group` method works\n",
    "2. *how* sorting the `Jobs` column would affect this.\n",
    "\n",
    "Keep in mind that two arrays are the **same** if they contain the same number of elements and the elements located at corresponding indexes in the two arrays are identical. An example of arrays that are NOT the same: `array([1,2]) != array([2,1])`.\n",
    "\n",
    "\n",
    "_Points:_ 2"
   ]
  },
  {
   "cell_type": "markdown",
   "metadata": {},
   "source": [
    "_Type your answer here, replacing this text._"
   ]
  },
  {
   "cell_type": "markdown",
   "metadata": {},
   "source": [
    "<!-- END QUESTION -->\n",
    "\n",
    "### Task 10 📍"
   ]
  },
  {
   "cell_type": "markdown",
   "metadata": {},
   "source": [
    "Set `department_ranges` to a table containing departments as the rows, and the organization groups as the columns. The values in the rows should correspond to a total compensation range, where range is defined as the **difference between the highest total compensation and the lowest total compensation in the department for that organization group**.\n",
    "\n",
    "Keep in mind the following while working on this:\n",
    "\n",
    "* First you'll need to define a new function `compensation_range` which takes in an array of compensations and returns the range of compensations in that array.\n",
    "* What table function allows you to specify the rows and columns of a new table? You probably watched a video on it earlier in the homework! \n",
    "\n",
    "\n",
    "_Points:_ 4"
   ]
  },
  {
   "cell_type": "code",
   "execution_count": null,
   "metadata": {
    "execution": {
     "iopub.execute_input": "2022-09-29T20:51:04.388656Z",
     "iopub.status.busy": "2022-09-29T20:51:04.388138Z",
     "iopub.status.idle": "2022-09-29T20:51:05.761075Z",
     "shell.execute_reply": "2022-09-29T20:51:05.760083Z"
    },
    "tags": []
   },
   "outputs": [],
   "source": [
    "# Define compensation_range first\n",
    "...\n",
    "    ...\n",
    "\n",
    "department_ranges = ...\n",
    "department_ranges"
   ]
  },
  {
   "cell_type": "code",
   "execution_count": null,
   "metadata": {
    "deletable": false,
    "editable": false
   },
   "outputs": [],
   "source": [
    "grader.check(\"task_10\")"
   ]
  },
  {
   "cell_type": "markdown",
   "metadata": {},
   "source": [
    "### Task 11 📍🔎"
   ]
  },
  {
   "cell_type": "markdown",
   "metadata": {},
   "source": [
    "<!-- BEGIN QUESTION -->\n",
    "\n",
    "Give an explanation as to why some of the row values are `0` in the `department_ranges` table from the previous question.\n",
    "\n",
    "\n",
    "_Points:_ 1"
   ]
  },
  {
   "cell_type": "markdown",
   "metadata": {},
   "source": [
    "_Type your answer here, replacing this text._"
   ]
  },
  {
   "cell_type": "markdown",
   "metadata": {},
   "source": [
    "<!-- END QUESTION -->\n",
    "\n",
    "### Task 12 📍"
   ]
  },
  {
   "cell_type": "markdown",
   "metadata": {},
   "source": [
    "<!-- BEGIN QUESTION -->\n",
    "\n",
    "Find the number of departments appearing in the `sf` table that have an average total compensation of greater than 125,000 dollars; assign this value to the variable `num_over_125k`.\n",
    "\n",
    "The variable names we've provided below are meant to help guide the intermediate steps and general thought process. Feel free to delete them if you'd prefer to start from scratch, but make sure your final answer is assigned to `num_over_125k`!\n",
    "\n",
    "_Points:_ 2"
   ]
  },
  {
   "cell_type": "code",
   "execution_count": null,
   "metadata": {
    "execution": {
     "iopub.execute_input": "2022-09-29T20:51:05.806667Z",
     "iopub.status.busy": "2022-09-29T20:51:05.806382Z",
     "iopub.status.idle": "2022-09-29T20:51:06.656865Z",
     "shell.execute_reply": "2022-09-29T20:51:06.655886Z"
    },
    "tags": []
   },
   "outputs": [],
   "source": [
    "depts_and_comp = ...\n",
    "avg_of_depts = ...\n",
    "num_over_125k = ...\n",
    "num_over_125k"
   ]
  },
  {
   "cell_type": "code",
   "execution_count": null,
   "metadata": {
    "deletable": false,
    "editable": false
   },
   "outputs": [],
   "source": [
    "grader.check(\"task_12\")"
   ]
  },
  {
   "cell_type": "markdown",
   "metadata": {},
   "source": [
    "<!-- END QUESTION -->\n",
    "\n",
    "# Submit your Homework to Canvas\n",
    "\n",
    "Once you have finished working on the homework questions, prepare to submit your work in Canvas by completing the following steps.\n",
    "\n",
    "1. Double-check that you have run the code cell near the end of the notebook that contains the command \"grader.check_all()\". This command will run all of the run tests on all your responses to the code questions.\n",
    "2. Double-check that you have responded to all the open-response questions.\n",
    "3. Select the menu item \"File\" and \"Save Notebook\" in the notebook's Toolbar to save your work and create a specific checkpoint in the notebook's work history.\n",
    "4. Select the menu items \"File\", \"Download Notebook\" in the notebook's Toolbar to download the notebook (.ipynb) file. \n",
    "5. In the related Canvas Assignment, click Start Assignment or New Attempt to upload the downloaded .ipynb file.\n",
    "\n",
    "**Keep in mind that the autograder does not always check for correctness. Sometimes it just checks for the format of your answer, so passing the autograder for a question does not mean you got the answer correct for that question.**"
   ]
  },
  {
   "cell_type": "markdown",
   "metadata": {
    "deletable": false,
    "editable": false
   },
   "source": [
    "---\n",
    "\n",
    "To double-check your work, the cell below will rerun all of the autograder tests."
   ]
  },
  {
   "cell_type": "code",
   "execution_count": null,
   "metadata": {
    "deletable": false,
    "editable": false
   },
   "outputs": [],
   "source": [
    "grader.check_all()"
   ]
  }
 ],
 "metadata": {
  "hide_input": false,
  "kernelspec": {
   "display_name": "Python 3 (ipykernel)",
   "language": "python",
   "name": "python3"
  },
  "language_info": {
   "codemirror_mode": {
    "name": "ipython",
    "version": 3
   },
   "file_extension": ".py",
   "mimetype": "text/x-python",
   "name": "python",
   "nbconvert_exporter": "python",
   "pygments_lexer": "ipython3",
   "version": "3.10.5"
  },
  "otter": {
   "tests": {
    "task_01": {
     "name": "task_01",
     "points": 3,
     "suites": [
      {
       "cases": [
        {
         "code": ">>> \n>>> set([\"Name\", \"Menu_Item\", \"Yelp\", 'Google', \"Overall\", \"Cost\"]) == set(burritos.labels)\nTrue",
         "failure_message": "❌ Make sure you have all the columns from both tables.",
         "hidden": false,
         "locked": false,
         "points": 1,
         "success_message": "✅ It looksl ike you have all the columns from both tables!"
        },
        {
         "code": ">>> \n>>> burritos.num_rows == 212\nTrue",
         "failure_message": "❌ You don't seem to ahve the correct number of rows in your table.",
         "hidden": false,
         "locked": false,
         "points": 1,
         "success_message": "✅ You have the correct number of rows in your table!"
        }
       ],
       "scored": true,
       "setup": "",
       "teardown": "",
       "type": "doctest"
      }
     ]
    },
    "task_04": {
     "name": "task_04",
     "points": 3,
     "suites": [
      {
       "cases": [
        {
         "code": ">>> \n>>> california_burritos.num_columns == 2\nTrue",
         "failure_message": "❌ The number of columns should be 2",
         "hidden": false,
         "locked": false,
         "points": 1,
         "success_message": "✅ You have the correct number of columns."
        },
        {
         "code": ">>> \n>>> california_burritos.num_rows == 46\nTrue",
         "failure_message": "❌ The number of rows should be 46.",
         "hidden": false,
         "locked": false,
         "points": 1,
         "success_message": "✅ You have the correct number of rows."
        }
       ],
       "scored": true,
       "setup": "",
       "teardown": "",
       "type": "doctest"
      }
     ]
    },
    "task_05": {
     "name": "task_05",
     "points": 2,
     "suites": [
      {
       "cases": [
        {
         "code": ">>> \n>>> type(best_restaurant) == str\nTrue",
         "failure_message": "❌ best_restaurant should be a string.",
         "hidden": false,
         "locked": false,
         "points": 1,
         "success_message": "✅ Nice! best_restaurant is a string."
        }
       ],
       "scored": true,
       "setup": "",
       "teardown": "",
       "type": "doctest"
      }
     ]
    },
    "task_06": {
     "name": "task_06",
     "points": 2,
     "suites": [
      {
       "cases": [
        {
         "code": ">>> \n>>> menu_average.num_columns == 3\nTrue",
         "failure_message": "❌ The number of columns of the resulting table should be 3",
         "hidden": false,
         "locked": false,
         "points": 1,
         "success_message": "✅ You have the correct number of columns."
        }
       ],
       "scored": true,
       "setup": "",
       "teardown": "",
       "type": "doctest"
      }
     ]
    },
    "task_08": {
     "name": "task_08",
     "points": 6,
     "suites": [
      {
       "cases": [
        {
         "code": ">>> \n>>> job_titles.num_columns == 2\nTrue",
         "failure_message": "❌ You don't have the correct number of columns. Remove the columns you don't need.",
         "hidden": false,
         "locked": false,
         "points": 1,
         "success_message": "✅ You have the correct number of columns."
        },
        {
         "code": ">>> \n>>> job_titles.num_rows == 6\nTrue",
         "failure_message": "❌ It doesn't seem that you have the correct number of columns.",
         "hidden": false,
         "locked": false,
         "points": 1,
         "success_message": "✅ You have the correct number of rows."
        },
        {
         "code": ">>> \n>>> # Make sure that you have the correct column labels!\n>>> np.asarray(job_titles.labels).item(0) == \"Organization Group\"\nTrue",
         "failure_message": "❌ The first column label doesn't look correct.",
         "hidden": false,
         "locked": false,
         "points": 1,
         "success_message": "✅ The first column label looks correct."
        },
        {
         "code": ">>> \n>>> # Make sure that you have the correct column labels!\n>>> np.asarray(job_titles.labels).item(1) not in [\"Job full_array\", \"Job first_item\"]\nTrue",
         "failure_message": "❌ Your last column label don't look correct.",
         "hidden": false,
         "locked": false,
         "points": 1,
         "success_message": "✅ Your last column label looks correct.."
        }
       ],
       "scored": true,
       "setup": "",
       "teardown": "",
       "type": "doctest"
      }
     ]
    },
    "task_10": {
     "name": "task_10",
     "points": 4,
     "suites": [
      {
       "cases": [
        {
         "code": ">>> \n>>> compensation_range(make_array(5, 1, 20, 1000)) == 999\nTrue",
         "failure_message": "❌ Your function compensation_range doesn't seem to be working correctly.",
         "hidden": false,
         "locked": false,
         "points": 1,
         "success_message": "✅ Your function compensation_range seems to be working correctly."
        },
        {
         "code": ">>> \n>>> set(['Department', 'Community Health', 'Culture & Recreation','General Administration & Finance',\n...      'Human Welfare & Neighborhood Development', 'Public Protection', \n...      'Public Works, Transportation & Commerce']) == set(department_ranges.labels)\nTrue",
         "failure_message": "❌ You don't seem to have the correct column labels in department_ranges.",
         "hidden": false,
         "locked": false,
         "points": 1,
         "success_message": "✅ You have the correct column labels in department_ranges."
        },
        {
         "code": ">>> \n>>> sum(department_ranges.column(1)) == 641762.51000000001\nTrue",
         "failure_message": "❌ The values in one of the columns of department_ranges don't seem correct.",
         "hidden": false,
         "locked": false,
         "points": 1,
         "success_message": "✅ The values in one of the columns of department_ranges seem correct."
        }
       ],
       "scored": true,
       "setup": "",
       "teardown": "",
       "type": "doctest"
      }
     ]
    },
    "task_12": {
     "name": "task_12",
     "points": 2,
     "suites": [
      {
       "cases": [
        {
         "code": ">>> \n>>> isinstance(num_over_125k, int)\nTrue",
         "failure_message": "❌ num_over_125k should be an integer.",
         "hidden": false,
         "locked": false,
         "points": 1,
         "success_message": "✅ You have num_over_125k assigned to an integer value."
        }
       ],
       "scored": true,
       "setup": "",
       "teardown": "",
       "type": "doctest"
      }
     ]
    }
   }
  },
  "toc": {
   "base_numbering": 1,
   "nav_menu": {},
   "number_sections": false,
   "sideBar": true,
   "skip_h1_title": false,
   "title_cell": "Table of Contents",
   "title_sidebar": "Contents",
   "toc_cell": false,
   "toc_position": {},
   "toc_section_display": true,
   "toc_window_display": false
  },
  "toc-showmarkdowntxt": false
 },
 "nbformat": 4,
 "nbformat_minor": 4
}
