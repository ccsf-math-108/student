{
 "cells": [
  {
   "cell_type": "code",
   "execution_count": null,
   "id": "9128f536",
   "metadata": {
    "deletable": false,
    "editable": false
   },
   "outputs": [],
   "source": [
    "# Initialize Otter\n",
    "import otter\n",
    "grader = otter.Notebook(\"hw06.2.ipynb\")"
   ]
  },
  {
   "cell_type": "markdown",
   "id": "c85bbafb",
   "metadata": {},
   "source": [
    "<img style=\"display: block; margin-left: auto; margin-right: auto\" src=\"./ccsf-logo.png\" width=\"250rem;\" alt=\"The CCSF black and white logo\">"
   ]
  },
  {
   "cell_type": "markdown",
   "id": "6b362c80",
   "metadata": {},
   "source": [
    "<div style=\"text-align: center;\">\n",
    "    <h1>Homework 6.2: Assessing a Models</h1>\n",
    "    <em>View the related <a href=\"https://ccsf.instructure.com\" target=\"_blank\">Canvas</a> Assignment page for additional details.</em>\n",
    "</div>"
   ]
  },
  {
   "cell_type": "markdown",
   "id": "7bafc9ae",
   "metadata": {
    "tags": []
   },
   "source": [
    "**Reading**: \n",
    "* [Assessing a Model](https://inferentialthinking.com/chapters/11/1/Assessing_a_Model.html)"
   ]
  },
  {
   "cell_type": "markdown",
   "id": "76b7907c",
   "metadata": {},
   "source": [
    "Please complete this notebook by filling in the cells provided.\n",
    "\n",
    "For all problems that you must write our explanations and sentences for, you **must** provide your answer in the designated space. Moreover, throughout this homework and all future ones, please be sure to not re-assign variables throughout the notebook! For example, if you use `max_temperature` in your answer to one question, do not reassign it later on."
   ]
  },
  {
   "cell_type": "code",
   "execution_count": null,
   "id": "c6adf068",
   "metadata": {
    "execution": {
     "iopub.execute_input": "2022-10-17T06:44:19.023425Z",
     "iopub.status.busy": "2022-10-17T06:44:19.023072Z",
     "iopub.status.idle": "2022-10-17T06:44:20.813322Z",
     "shell.execute_reply": "2022-10-17T06:44:20.811992Z"
    }
   },
   "outputs": [],
   "source": [
    "import numpy as np\n",
    "from datascience import *\n",
    "import matplotlib\n",
    "%matplotlib inline\n",
    "import matplotlib.pyplot as plt\n",
    "plt.style.use('fivethirtyeight')\n",
    "import warnings\n",
    "warnings.simplefilter('ignore', FutureWarning)"
   ]
  },
  {
   "cell_type": "markdown",
   "id": "c6f79064",
   "metadata": {
    "tags": []
   },
   "source": [
    "## Assessing Jade's Models"
   ]
  },
  {
   "cell_type": "markdown",
   "id": "a8249ff1",
   "metadata": {
    "tags": []
   },
   "source": [
    "### Games with Jade"
   ]
  },
  {
   "cell_type": "markdown",
   "id": "adbb7508",
   "metadata": {},
   "source": [
    "Our friend Jade comes over and asks us to play a game with her. The game works like this: \n",
    "\n",
    "> We will draw randomly with replacement from a simplified 13 card deck with 4 face cards (A, J, Q, K), and 9 numbered cards (2, 3, 4, 5, 6, 7, 8, 9, 10). If we draw cards with replacement 13 times, and if the number of face cards is greater than or equal to 4, we lose.\n",
    "> \n",
    "> Otherwise, Jade wins.\n",
    "\n",
    "We play the game once and we lose, observing 8 total face cards. We are angry and accuse Jade of cheating! Jade is adamant, however, that the deck is fair.\n",
    "\n",
    "Jade's model claims that there is an equal chance of getting any of the cards (A, 2, 3, 4, 5, 6, 7, 8, 9, 10, J, Q, K), but we do not believe her. We believe that the deck is clearly rigged, with face cards (A, J, Q, K) being more likely than the numbered cards (2, 3, 4, 5, 6, 7, 8, 9, 10)."
   ]
  },
  {
   "cell_type": "markdown",
   "id": "8a810611",
   "metadata": {
    "tags": []
   },
   "source": [
    "#### Task 01 📍"
   ]
  },
  {
   "cell_type": "markdown",
   "id": "7ac375d5",
   "metadata": {},
   "source": [
    "Assign `deck_model_probabilities` to a two-item array containing the chance of drawing a face card as the first element, and the chance of drawing a numbered card as the second element under Jade's model. Since we're working with probabilities, make sure your values are between 0 and 1. \n",
    "\n",
    "\n",
    "_Points:_ 3"
   ]
  },
  {
   "cell_type": "code",
   "execution_count": null,
   "id": "67c782f2",
   "metadata": {
    "execution": {
     "iopub.execute_input": "2022-10-17T06:44:20.829731Z",
     "iopub.status.busy": "2022-10-17T06:44:20.828546Z",
     "iopub.status.idle": "2022-10-17T06:44:20.837680Z",
     "shell.execute_reply": "2022-10-17T06:44:20.836682Z"
    },
    "tags": []
   },
   "outputs": [],
   "source": [
    "deck_model_probabilities = ...\n",
    "deck_model_probabilities"
   ]
  },
  {
   "cell_type": "code",
   "execution_count": null,
   "id": "adc25b84",
   "metadata": {
    "deletable": false,
    "editable": false
   },
   "outputs": [],
   "source": [
    "grader.check(\"task_01\")"
   ]
  },
  {
   "cell_type": "markdown",
   "id": "16627ef9",
   "metadata": {
    "tags": []
   },
   "source": [
    "#### Task 02 📍"
   ]
  },
  {
   "cell_type": "markdown",
   "id": "8f483b9e",
   "metadata": {},
   "source": [
    "We believe Jade's model is incorrect. In particular, we believe there to be a  larger chance of getting a face card. Which of the following statistics can we use during our simulation to test between the model and our alternative? Assign `statistic_choice` to the correct answer. \n",
    "\n",
    "1. The actual number of face cards we get in 13 draws\n",
    "2. The distance (absolute value) between the actual number of face cards in 13 draws and the expected number of face cards in 13 draws (4)\n",
    "3. The expected number of face cards in 13 draws (4)\n",
    "\n",
    "\n",
    "\n",
    "_Points:_ 2"
   ]
  },
  {
   "cell_type": "code",
   "execution_count": null,
   "id": "2bd31124",
   "metadata": {
    "execution": {
     "iopub.execute_input": "2022-10-17T06:44:20.881544Z",
     "iopub.status.busy": "2022-10-17T06:44:20.880910Z",
     "iopub.status.idle": "2022-10-17T06:44:20.886494Z",
     "shell.execute_reply": "2022-10-17T06:44:20.885584Z"
    },
    "tags": []
   },
   "outputs": [],
   "source": [
    "statistic_choice = ...\n",
    "statistic_choice"
   ]
  },
  {
   "cell_type": "code",
   "execution_count": null,
   "id": "7a56e0cb",
   "metadata": {
    "deletable": false,
    "editable": false
   },
   "outputs": [],
   "source": [
    "grader.check(\"task_02\")"
   ]
  },
  {
   "cell_type": "markdown",
   "id": "31c2d13b",
   "metadata": {},
   "source": [
    "#### Task 03 📍"
   ]
  },
  {
   "cell_type": "markdown",
   "id": "ea5dff8f",
   "metadata": {},
   "source": [
    "Define the function `deck_simulation_and_statistic`, which, given a sample size and an array of model proportions (like the one you created in Task 1), returns the number of face cards in one simulation of drawing a card under the model specified in `model_proportions`. \n",
    "\n",
    "As you form your response, think about how you can use the function `sample_proportions`. \n",
    "\n",
    "\n",
    "_Points:_ 1"
   ]
  },
  {
   "cell_type": "code",
   "execution_count": null,
   "id": "3da1c52f",
   "metadata": {
    "execution": {
     "iopub.execute_input": "2022-10-17T06:44:20.909711Z",
     "iopub.status.busy": "2022-10-17T06:44:20.909358Z",
     "iopub.status.idle": "2022-10-17T06:44:20.916245Z",
     "shell.execute_reply": "2022-10-17T06:44:20.915336Z"
    },
    "tags": []
   },
   "outputs": [],
   "source": [
    "def deck_simulation_and_statistic(sample_size, model_proportions):\n",
    "    ...\n",
    "\n",
    "deck_simulation_and_statistic(13, deck_model_probabilities)"
   ]
  },
  {
   "cell_type": "code",
   "execution_count": null,
   "id": "6d2257f2",
   "metadata": {
    "deletable": false,
    "editable": false
   },
   "outputs": [],
   "source": [
    "grader.check(\"task_03\")"
   ]
  },
  {
   "cell_type": "markdown",
   "id": "4de9e796",
   "metadata": {},
   "source": [
    "#### Task 04 📍"
   ]
  },
  {
   "cell_type": "markdown",
   "id": "1e094140",
   "metadata": {},
   "source": [
    "Use your function from above to simulate the drawing of 13 cards 5000 times under the proportions that you specified in Task 1. Keep track of all of your statistics in `deck_statistics`. \n",
    "\n",
    "\n",
    "_Points:_ 2"
   ]
  },
  {
   "cell_type": "code",
   "execution_count": null,
   "id": "7685fd91",
   "metadata": {
    "execution": {
     "iopub.execute_input": "2022-10-17T06:44:20.930238Z",
     "iopub.status.busy": "2022-10-17T06:44:20.929944Z",
     "iopub.status.idle": "2022-10-17T06:44:20.985671Z",
     "shell.execute_reply": "2022-10-17T06:44:20.984786Z"
    },
    "tags": []
   },
   "outputs": [],
   "source": [
    "repetitions = 5000 \n",
    "...\n",
    "\n",
    "deck_statistics"
   ]
  },
  {
   "cell_type": "code",
   "execution_count": null,
   "id": "88c7a156",
   "metadata": {
    "deletable": false,
    "editable": false
   },
   "outputs": [],
   "source": [
    "grader.check(\"task_04\")"
   ]
  },
  {
   "cell_type": "markdown",
   "id": "2145bb80",
   "metadata": {},
   "source": [
    "Let’s take a look at the distribution of simulated statistics."
   ]
  },
  {
   "cell_type": "code",
   "execution_count": null,
   "id": "6bc455b9",
   "metadata": {
    "execution": {
     "iopub.execute_input": "2022-10-17T06:44:21.011840Z",
     "iopub.status.busy": "2022-10-17T06:44:21.011522Z",
     "iopub.status.idle": "2022-10-17T06:44:21.223301Z",
     "shell.execute_reply": "2022-10-17T06:44:21.222059Z"
    }
   },
   "outputs": [],
   "source": [
    "#Draw a distribution of statistics \n",
    "Table().with_column('Deck Statistics', deck_statistics).hist()"
   ]
  },
  {
   "cell_type": "markdown",
   "id": "cf853b75",
   "metadata": {},
   "source": [
    "#### Task 05 📍🔎"
   ]
  },
  {
   "cell_type": "markdown",
   "id": "742c5a84",
   "metadata": {},
   "source": [
    "<!-- BEGIN QUESTION -->\n",
    "\n",
    "Given your observed value, do you believe that Jade's model is reasonable, or is our alternative more likely? Explain your answer using the distribution drawn in the previous problem. \n",
    "\n",
    "\n",
    "_Points:_ 2"
   ]
  },
  {
   "cell_type": "markdown",
   "id": "e25e60f2",
   "metadata": {},
   "source": [
    "_Type your answer here, replacing this text._"
   ]
  },
  {
   "cell_type": "markdown",
   "id": "a51aca03",
   "metadata": {},
   "source": [
    "<!-- END QUESTION -->\n",
    "\n"
   ]
  },
  {
   "cell_type": "markdown",
   "id": "45525e31",
   "metadata": {
    "deletable": false,
    "editable": false
   },
   "source": [
    "---\n",
    "\n",
    "To double-check your work, the cell below will rerun all of the autograder tests."
   ]
  },
  {
   "cell_type": "code",
   "execution_count": null,
   "id": "c7619ca2",
   "metadata": {
    "deletable": false,
    "editable": false
   },
   "outputs": [],
   "source": [
    "grader.check_all()"
   ]
  }
 ],
 "metadata": {
  "kernelspec": {
   "display_name": "Python 3 (ipykernel)",
   "language": "python",
   "name": "python3"
  },
  "language_info": {
   "codemirror_mode": {
    "name": "ipython",
    "version": 3
   },
   "file_extension": ".py",
   "mimetype": "text/x-python",
   "name": "python",
   "nbconvert_exporter": "python",
   "pygments_lexer": "ipython3",
   "version": "3.10.5"
  },
  "otter": {
   "tests": {
    "task_01": {
     "name": "task_01",
     "points": 3,
     "suites": [
      {
       "cases": [
        {
         "code": ">>> \n>>> len(deck_model_probabilities) == 2\nTrue",
         "failure_message": "❌ deck_model_probabilities should have a length 2",
         "hidden": false,
         "locked": false,
         "points": 0,
         "success_message": "✅ deck_model_probabilities has length 2"
        },
        {
         "code": ">>> \n>>> sum(deck_model_probabilities) == 1\nTrue",
         "failure_message": "❌ The sum of the values in deck_model_probabilities should be 1.",
         "hidden": false,
         "locked": false,
         "points": 1,
         "success_message": "✅ The sum of the values in deck_model_probabilities is 1."
        }
       ],
       "scored": true,
       "setup": "",
       "teardown": "",
       "type": "doctest"
      }
     ]
    },
    "task_02": {
     "name": "task_02",
     "points": 2,
     "suites": [
      {
       "cases": [
        {
         "code": ">>> \n>>> statistic_choice in [1, 2, 3]\nTrue",
         "failure_message": "❌ statistic_choice should name the value 1, 2, or 3.",
         "hidden": false,
         "locked": false,
         "points": 1,
         "success_message": "✅ statistic_choice represents a possible value."
        }
       ],
       "scored": true,
       "setup": "",
       "teardown": "",
       "type": "doctest"
      }
     ]
    },
    "task_03": {
     "name": "task_03",
     "points": 1,
     "suites": [
      {
       "cases": [
        {
         "code": ">>> \n>>> # The statistic should be between 0 and 13 face cards for a sample size of 13\n>>> num_face = deck_simulation_and_statistic(13, deck_model_probabilities)\n>>> 0 <= num_face <= 13\nTrue",
         "failure_message": "❌ The statistic should be between 0 and 13 face cards for a sample size of 13.",
         "hidden": false,
         "locked": false,
         "points": 1,
         "success_message": "✅ The calculated value of the statistic is a possible value."
        }
       ],
       "scored": true,
       "setup": "",
       "teardown": "",
       "type": "doctest"
      }
     ]
    },
    "task_04": {
     "name": "task_04",
     "points": 2,
     "suites": [
      {
       "cases": [
        {
         "code": ">>> \n>>> len(deck_statistics) == repetitions\nTrue",
         "failure_message": "❌ There should be exactly as many elements in deck_statistics as the number 'repetitions'.",
         "hidden": false,
         "locked": false,
         "points": 1,
         "success_message": "✅ There is exactly as many elements in deck_statistics as the number 'repetitions'."
        },
        {
         "code": ">>> \n>>> all([0 <= k <= 13 for k in deck_statistics])\nTrue",
         "failure_message": "❌ Each element of deck_statistics should be between 0 and 13 inclusive.",
         "hidden": false,
         "locked": false,
         "points": 1,
         "success_message": "✅ Each element of deck_statistics is between 0 and 13 inclusive"
        }
       ],
       "scored": true,
       "setup": "",
       "teardown": "",
       "type": "doctest"
      }
     ]
    }
   }
  }
 },
 "nbformat": 4,
 "nbformat_minor": 5
}
