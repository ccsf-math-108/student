{
 "cells": [
  {
   "cell_type": "code",
   "execution_count": null,
   "metadata": {
    "deletable": false,
    "editable": false
   },
   "outputs": [],
   "source": [
    "# Initialize Otter\n",
    "import otter\n",
    "grader = otter.Notebook(\"hw02.ipynb\")"
   ]
  },
  {
   "cell_type": "markdown",
   "metadata": {},
   "source": [
    "<img style=\"display: block; margin-left: auto; margin-right: auto\" src=\"./ccsf-logo.png\" width=\"250rem;\" alt=\"The CCSF black and white logo\">"
   ]
  },
  {
   "cell_type": "markdown",
   "metadata": {},
   "source": [
    "# Homework 02: Data Types"
   ]
  },
  {
   "cell_type": "markdown",
   "metadata": {},
   "source": [
    "**Recommended Reading**: \n",
    "* [Data Types](https://inferentialthinking.com/chapters/04/Data_Types.html) \n",
    "* [Sequences](https://inferentialthinking.com/chapters/05/Sequences.html)"
   ]
  },
  {
   "cell_type": "markdown",
   "metadata": {},
   "source": [
    "## Assignment Reminders"
   ]
  },
  {
   "cell_type": "markdown",
   "metadata": {},
   "source": [
    "- Make sure to run the code cell at the top of this notebook that starts with `# Initialize Otter` to load the auto-grader.\n",
    "- For all tasks indicated with a 🔎 that you must write explanations and sentences for, provide your answer in the designated space.\n",
    "- Throughout this assignment and all future ones, please be sure to not re-assign variables throughout the notebook! _For example, if you use `max_temperature` in your answer to one question, do not reassign it later on. Otherwise, you will fail tests that you thought you were passing previously!_\n",
    "- We encourage you to discuss this assignment with others, but make sure to write and submit your own code. Refer to the syllabus to learn more about how to learn cooperatively.\n",
    "\n",
    "*View the related <a href=\"https://ccsf.instructure.com\" target=\"_blank\">Canvas</a> Assignment page for additional details.*\n",
    "\n",
    "Run the following code cell to import the tools for this assignment."
   ]
  },
  {
   "cell_type": "code",
   "execution_count": null,
   "metadata": {},
   "outputs": [],
   "source": [
    "# Import Modules\n",
    "import numpy as np\n",
    "from datascience import *"
   ]
  },
  {
   "cell_type": "markdown",
   "metadata": {},
   "source": [
    "Please complete this notebook by filling in the cells provided.\n",
    " \n",
    "Throughout this homework and all future ones, please be sure to not re-assign variables throughout the notebook! For example, if you use `max_temperature` in your answer to one question, do not reassign it later on. "
   ]
  },
  {
   "cell_type": "markdown",
   "metadata": {},
   "source": [
    "## Creating Arrays\n"
   ]
  },
  {
   "cell_type": "markdown",
   "metadata": {},
   "source": [
    "### Note About Arrays for Those with Python Experience"
   ]
  },
  {
   "cell_type": "markdown",
   "metadata": {},
   "source": [
    "Python lists are different/behave differently than NumPy arrays. In this course, we use a version of NumPy arrays, so please make your arrays using tools in the `datascience` module such as `make_array` and don't use a python list."
   ]
  },
  {
   "cell_type": "markdown",
   "metadata": {},
   "source": [
    "### Task 01 📍"
   ]
  },
  {
   "cell_type": "markdown",
   "metadata": {
    "deletable": false,
    "editable": false
   },
   "source": [
    "Make an array called `weird_numbers` containing the following numbers (in the given order):\n",
    "\n",
    "1. 3,000\n",
    "2. the square root of 5\n",
    "3. -2\n",
    "4. $\\pi$ to the power of the square root of 2\n",
    "\n",
    "Remember that `math` module contains the square root function and the constant value $\\pi$.\n",
    "\n",
    "_Points:_ 2"
   ]
  },
  {
   "cell_type": "code",
   "execution_count": null,
   "metadata": {
    "tags": []
   },
   "outputs": [],
   "source": [
    "# You will probably want to import something to start!\n",
    "...\n",
    "weird_numbers = ...\n",
    "weird_numbers"
   ]
  },
  {
   "cell_type": "code",
   "execution_count": null,
   "metadata": {
    "deletable": false,
    "editable": false
   },
   "outputs": [],
   "source": [
    "grader.check(\"task_01\")"
   ]
  },
  {
   "cell_type": "markdown",
   "metadata": {},
   "source": [
    "### Task 02 📍"
   ]
  },
  {
   "cell_type": "markdown",
   "metadata": {
    "deletable": false,
    "editable": false
   },
   "source": [
    "Make an array called `book_title_words` containing the following three strings: \"Eats\", \"Shoots\", and \"and Leaves\".\n",
    "\n",
    "\n",
    "_Points:_ 2"
   ]
  },
  {
   "cell_type": "code",
   "execution_count": null,
   "metadata": {
    "tags": []
   },
   "outputs": [],
   "source": [
    "book_title_words = ...\n",
    "book_title_words"
   ]
  },
  {
   "cell_type": "code",
   "execution_count": null,
   "metadata": {
    "deletable": false,
    "editable": false
   },
   "outputs": [],
   "source": [
    "grader.check(\"task_02\")"
   ]
  },
  {
   "cell_type": "markdown",
   "metadata": {},
   "source": [
    "Strings have a method called `join`.  `join` takes one argument, an array of strings.  It returns a single string.  Specifically, the value of `a_string.join(an_array)` is a single string that's the [concatenation](https://en.wikipedia.org/wiki/Concatenation) (\"putting together\") of all the strings in `an_array`, **except** `a_string` is inserted in between each string."
   ]
  },
  {
   "cell_type": "markdown",
   "metadata": {},
   "source": [
    "### Task 03 📍"
   ]
  },
  {
   "cell_type": "markdown",
   "metadata": {
    "deletable": false,
    "editable": false
   },
   "source": [
    "Use the array `book_title_words` and the method `join` to make two strings:\n",
    "\n",
    "1. \"Eats, Shoots, and Leaves\" (call this one `with_commas`)\n",
    "2. \"Eats Shoots and Leaves\" (call this one `without_commas`)\n",
    "\n",
    "*Hint:* If you're not sure what `join` does, first try just calling, for example, `\"foo\".join(book_title_words)` .\n",
    "\n",
    "\n",
    "_Points:_ 2"
   ]
  },
  {
   "cell_type": "code",
   "execution_count": null,
   "metadata": {
    "tags": []
   },
   "outputs": [],
   "source": [
    "with_commas = ...\n",
    "without_commas = ...\n",
    "\n",
    "# These lines are provided just to print out your answers.\n",
    "print('with_commas:', with_commas)\n",
    "print('without_commas:', without_commas)"
   ]
  },
  {
   "cell_type": "code",
   "execution_count": null,
   "metadata": {
    "deletable": false,
    "editable": false
   },
   "outputs": [],
   "source": [
    "grader.check(\"task_03\")"
   ]
  },
  {
   "cell_type": "markdown",
   "metadata": {},
   "source": [
    "### Task 04 📍🔎"
   ]
  },
  {
   "cell_type": "markdown",
   "metadata": {
    "deletable": false,
    "editable": false
   },
   "source": [
    "<!-- BEGIN QUESTION -->\n",
    "\n",
    "Running the following code makes an array and does not show an error:\n",
    "\n",
    "``` python\n",
    "make_array('a string', 1234)\n",
    "```\n",
    "\n",
    "Does this mean that it is possible to make an array where one item is a string and the other item is an integer? Respond with Yes or No and provide an explanation to support your response.\n",
    "\n",
    "_Points:_ 2"
   ]
  },
  {
   "cell_type": "markdown",
   "metadata": {},
   "source": [
    "_Type your answer here, replacing this text._"
   ]
  },
  {
   "cell_type": "markdown",
   "metadata": {
    "deletable": false,
    "editable": false
   },
   "source": [
    "<!-- END QUESTION -->\n",
    "\n",
    "## Indexing Arrays\n"
   ]
  },
  {
   "cell_type": "markdown",
   "metadata": {},
   "source": [
    "These exercises give you practice accessing individual elements of arrays.  In Python (and in many programming languages), elements are accessed by *index*, so the first element is the element at index 0, the second element is at index 1, etc."
   ]
  },
  {
   "cell_type": "markdown",
   "metadata": {},
   "source": [
    "### A Note About using `an_array.item(...)` vs. `an_array[...]`."
   ]
  },
  {
   "cell_type": "markdown",
   "metadata": {},
   "source": [
    "When you are working with an array (`an_array` for example) in this class:\n",
    "\n",
    "**We recommend that you use `an_array.item(...)` to access the items in an element in the array to be consistent with the course materials.** \n",
    "\n",
    "We are working to accept using `an_array[0]` in all situations. The bracket notation is the more standard way of indexing, but you might run into issues with data types that might lead to the auto-grader saying your work is incorrect."
   ]
  },
  {
   "cell_type": "markdown",
   "metadata": {},
   "source": [
    "### Task 05 📍"
   ]
  },
  {
   "cell_type": "markdown",
   "metadata": {
    "deletable": false,
    "editable": false
   },
   "source": [
    "The cell below creates an array of some numbers.  Set `third_element` to the third element of `some_numbers`.\n",
    "\n",
    "\n",
    "_Points:_ 2"
   ]
  },
  {
   "cell_type": "code",
   "execution_count": null,
   "metadata": {
    "tags": []
   },
   "outputs": [],
   "source": [
    "some_numbers = make_array(-1, -3, -6, -10, -15)\n",
    "\n",
    "third_element = ...\n",
    "third_element"
   ]
  },
  {
   "cell_type": "code",
   "execution_count": null,
   "metadata": {
    "deletable": false,
    "editable": false
   },
   "outputs": [],
   "source": [
    "grader.check(\"task_05\")"
   ]
  },
  {
   "cell_type": "markdown",
   "metadata": {},
   "source": [
    "The test above checks that your answer is in the correct format. **This test does not check that you answered correctly**, only that you assigned a number successfully. The same is true for most of the tests in this homework, and every other homework for this class."
   ]
  },
  {
   "cell_type": "markdown",
   "metadata": {},
   "source": [
    "### Task 06 📍"
   ]
  },
  {
   "cell_type": "markdown",
   "metadata": {
    "deletable": false,
    "editable": false
   },
   "source": [
    "You'll sometimes want to find the *last* element of an array.  Suppose an array has 145 elements.  What is the index of its last element?\n",
    "\n",
    "\n",
    "_Points:_ 2"
   ]
  },
  {
   "cell_type": "code",
   "execution_count": null,
   "metadata": {
    "tags": []
   },
   "outputs": [],
   "source": [
    "index_of_last_element = ..."
   ]
  },
  {
   "cell_type": "code",
   "execution_count": null,
   "metadata": {
    "deletable": false,
    "editable": false
   },
   "outputs": [],
   "source": [
    "grader.check(\"task_06\")"
   ]
  },
  {
   "cell_type": "markdown",
   "metadata": {},
   "source": [
    "More often, you don't know the number of elements in an array, its *length*.  (For example, it might be a large dataset you found on the Internet.)  The function `len` takes a single argument, an array, and returns the `len`gth of that array (an integer)."
   ]
  },
  {
   "cell_type": "markdown",
   "metadata": {},
   "source": [
    "### Task 07 📍"
   ]
  },
  {
   "cell_type": "markdown",
   "metadata": {
    "deletable": false,
    "editable": false
   },
   "source": [
    "The cell below loads an array called `president_birth_years`.  Calling `.column(...)` on a table returns an array of the column specified, in this case the `Birth Year` column of the `president_births` table. The last element in that array is the most recent birth year of any deceased president. Assign that year to `most_recent_birth_year`.\n",
    "\n",
    "\n",
    "_Points:_ 2"
   ]
  },
  {
   "cell_type": "code",
   "execution_count": null,
   "metadata": {
    "tags": []
   },
   "outputs": [],
   "source": [
    "president_birth_years = Table.read_table(\"president_births.csv\").column('Birth Year')\n",
    "\n",
    "last_index = ...\n",
    "most_recent_birth_year = ...\n",
    "most_recent_birth_year"
   ]
  },
  {
   "cell_type": "code",
   "execution_count": null,
   "metadata": {
    "deletable": false,
    "editable": false
   },
   "outputs": [],
   "source": [
    "grader.check(\"task_07\")"
   ]
  },
  {
   "cell_type": "markdown",
   "metadata": {},
   "source": [
    "### Task 08 📍"
   ]
  },
  {
   "cell_type": "markdown",
   "metadata": {
    "deletable": false,
    "editable": false
   },
   "source": [
    "Finally, assign `sum_of_birth_years` to the sum of the third, tenth, and last birth year in `president_birth_years`. You might consider breaking up your solution into parts.\n",
    "\n",
    "_Points:_ 2"
   ]
  },
  {
   "cell_type": "code",
   "execution_count": null,
   "metadata": {
    "tags": []
   },
   "outputs": [],
   "source": [
    "sum_of_birth_years = ..."
   ]
  },
  {
   "cell_type": "code",
   "execution_count": null,
   "metadata": {
    "deletable": false,
    "editable": false
   },
   "outputs": [],
   "source": [
    "grader.check(\"task_08\")"
   ]
  },
  {
   "cell_type": "markdown",
   "metadata": {},
   "source": [
    "## Basic Array Arithmetic\n"
   ]
  },
  {
   "cell_type": "markdown",
   "metadata": {},
   "source": [
    "### Task 09 📍"
   ]
  },
  {
   "cell_type": "markdown",
   "metadata": {
    "deletable": false,
    "editable": false
   },
   "source": [
    "Multiply the numbers 42, 4224, 42422424, and -250 by 157. Assign each variable below such that `first_product` is assigned to the result of $42 * 157$, `second_product` is assigned to the result of $4224 * 157$, and so on. \n",
    "\n",
    "For this task, **don't** use arrays. You'll use them later.\n",
    "\n",
    "\n",
    "_Points:_ 2"
   ]
  },
  {
   "cell_type": "code",
   "execution_count": null,
   "metadata": {
    "tags": []
   },
   "outputs": [],
   "source": [
    "first_product = ...\n",
    "second_product = ...\n",
    "third_product = ...\n",
    "fourth_product = ...\n",
    "print(first_product, second_product, third_product, fourth_product)"
   ]
  },
  {
   "cell_type": "code",
   "execution_count": null,
   "metadata": {
    "deletable": false,
    "editable": false
   },
   "outputs": [],
   "source": [
    "grader.check(\"task_09\")"
   ]
  },
  {
   "cell_type": "markdown",
   "metadata": {},
   "source": [
    "### Task 10 📍"
   ]
  },
  {
   "cell_type": "markdown",
   "metadata": {
    "deletable": false,
    "editable": false
   },
   "source": [
    "Now, do the same calculation, but using an array called `numbers` and only a single multiplication (`*`) operator.  Store the 4 results in an array named `products`.\n",
    "\n",
    "\n",
    "_Points:_ 2"
   ]
  },
  {
   "cell_type": "code",
   "execution_count": null,
   "metadata": {
    "tags": []
   },
   "outputs": [],
   "source": [
    "numbers = ...\n",
    "products = numbers * 157\n",
    "products"
   ]
  },
  {
   "cell_type": "code",
   "execution_count": null,
   "metadata": {
    "deletable": false,
    "editable": false
   },
   "outputs": [],
   "source": [
    "grader.check(\"task_10\")"
   ]
  },
  {
   "cell_type": "markdown",
   "metadata": {},
   "source": [
    "### Task 11 📍"
   ]
  },
  {
   "cell_type": "markdown",
   "metadata": {
    "deletable": false,
    "editable": false
   },
   "source": [
    "Oops, we made a typo!  Instead of 157, we wanted to multiply each number by 1577.  Compute the correct products in the cell below using array arithmetic.  Notice that your job is really easy if you previously defined an array containing the 4 numbers.\n",
    "\n",
    "\n",
    "_Points:_ 2"
   ]
  },
  {
   "cell_type": "code",
   "execution_count": null,
   "metadata": {
    "tags": []
   },
   "outputs": [],
   "source": [
    "correct_products = ...\n",
    "correct_products"
   ]
  },
  {
   "cell_type": "code",
   "execution_count": null,
   "metadata": {
    "deletable": false,
    "editable": false
   },
   "outputs": [],
   "source": [
    "grader.check(\"task_11\")"
   ]
  },
  {
   "cell_type": "markdown",
   "metadata": {},
   "source": [
    "### Task 12 📍"
   ]
  },
  {
   "cell_type": "markdown",
   "metadata": {
    "deletable": false,
    "editable": false
   },
   "source": [
    "We've loaded an array of temperatures in the next cell.  Each number is the highest temperature observed on a particular day at a climate observation station, mostly from the US.  Since they're from the US government agency [NOAA](https://noaa.gov), all the temperatures are in Fahrenheit.\n",
    "\n",
    "Convert all temperature values from Fahrenheit to Celsius by first subtracting 32 from them, then multiplying the results by $\\frac{5}{9}$. Make sure to **ROUND** the final result after converting to Celsius to the nearest integer using the `np.round` function. Remember to check the documentation of a function if you are not sure how it works.\n",
    "\n",
    "_Points:_ 2"
   ]
  },
  {
   "cell_type": "code",
   "execution_count": null,
   "metadata": {
    "tags": []
   },
   "outputs": [],
   "source": [
    "max_temperatures = Table.read_table(\"temperatures.csv\").column(\"Daily Max Temperature\")\n",
    "\n",
    "celsius_max_temperatures = ...\n",
    "celsius_max_temperatures"
   ]
  },
  {
   "cell_type": "code",
   "execution_count": null,
   "metadata": {
    "deletable": false,
    "editable": false
   },
   "outputs": [],
   "source": [
    "grader.check(\"task_12\")"
   ]
  },
  {
   "cell_type": "markdown",
   "metadata": {},
   "source": [
    "### Task 13 📍"
   ]
  },
  {
   "cell_type": "markdown",
   "metadata": {
    "deletable": false,
    "editable": false
   },
   "source": [
    "The cell below loads all the *lowest* temperatures from each day (in Fahrenheit).  Compute the size of the daily temperature range for each day.  That is, compute the difference between each daily maximum temperature and the corresponding daily minimum temperature.  **Pay attention to the units, give your answer in Celsius!** Make sure **NOT** to round your answer for this question!\n",
    "\n",
    "\n",
    "_Points:_ 2"
   ]
  },
  {
   "cell_type": "code",
   "execution_count": null,
   "metadata": {
    "tags": []
   },
   "outputs": [],
   "source": [
    "min_temperatures = Table.read_table(\"temperatures.csv\").column(\"Daily Min Temperature\")\n",
    "\n",
    "celsius_temperature_ranges = ...\n",
    "celsius_temperature_ranges"
   ]
  },
  {
   "cell_type": "code",
   "execution_count": null,
   "metadata": {
    "deletable": false,
    "editable": false
   },
   "outputs": [],
   "source": [
    "grader.check(\"task_13\")"
   ]
  },
  {
   "cell_type": "markdown",
   "metadata": {},
   "source": [
    "## World Population\n"
   ]
  },
  {
   "cell_type": "markdown",
   "metadata": {},
   "source": [
    "The cell below loads a table of estimates of the world population for from 1950 until 2015. The estimates come from the [US Census Bureau website](https://www.census.gov/en.html)."
   ]
  },
  {
   "cell_type": "code",
   "execution_count": null,
   "metadata": {
    "tags": []
   },
   "outputs": [],
   "source": [
    "world = Table.read_table(\"world_population.csv\").select('Year', 'Population')\n",
    "world"
   ]
  },
  {
   "cell_type": "markdown",
   "metadata": {},
   "source": [
    "The name `population` is assigned to an array of population estimates."
   ]
  },
  {
   "cell_type": "code",
   "execution_count": null,
   "metadata": {},
   "outputs": [],
   "source": [
    "population = world.column(1)\n",
    "population"
   ]
  },
  {
   "cell_type": "markdown",
   "metadata": {},
   "source": [
    "In this question, you will apply some built-in Numpy functions to this array. Numpy is a module that is often used in Data Science!"
   ]
  },
  {
   "cell_type": "markdown",
   "metadata": {},
   "source": [
    "<img src=\"array_diff.png\" style=\"width: 600px;\"/>\n",
    "\n",
    "The difference function `np.diff` subtracts each element in an array from the element after it within the array. As a result, the length of the array `np.diff` returns will always be one less than the length of the input array."
   ]
  },
  {
   "cell_type": "markdown",
   "metadata": {},
   "source": [
    "<img src=\"array_cumsum.png\" style=\"width: 700px;\"/>\n",
    "\n",
    "The cumulative sum function `np.cumsum` outputs an array of partial sums. For example, the third element in the output array corresponds to the sum of the first, second, and third elements."
   ]
  },
  {
   "cell_type": "markdown",
   "metadata": {},
   "source": [
    "### Task 14 📍"
   ]
  },
  {
   "cell_type": "markdown",
   "metadata": {
    "deletable": false,
    "editable": false
   },
   "source": [
    "Very often in data science, we are interested understanding how values change with time. Use `np.diff` and `np.max` (or just `max`) to calculate the largest annual change in population between any two consecutive years.\n",
    "\n",
    "\n",
    "_Points:_ 2"
   ]
  },
  {
   "cell_type": "code",
   "execution_count": null,
   "metadata": {
    "tags": []
   },
   "outputs": [],
   "source": [
    "largest_population_change = ...\n",
    "largest_population_change"
   ]
  },
  {
   "cell_type": "code",
   "execution_count": null,
   "metadata": {
    "deletable": false,
    "editable": false
   },
   "outputs": [],
   "source": [
    "grader.check(\"task_14\")"
   ]
  },
  {
   "cell_type": "markdown",
   "metadata": {},
   "source": [
    "### Task 15 📍"
   ]
  },
  {
   "cell_type": "markdown",
   "metadata": {},
   "source": [
    "What do the values in the resulting array represent (choose one)?"
   ]
  },
  {
   "cell_type": "code",
   "execution_count": null,
   "metadata": {},
   "outputs": [],
   "source": [
    "np.cumsum(np.diff(population))"
   ]
  },
  {
   "cell_type": "markdown",
   "metadata": {
    "deletable": false,
    "editable": false
   },
   "source": [
    "1) The total population change between consecutive years, starting at 1951.\n",
    "\n",
    "2) The total population change between 1950 and each later year, starting at 1951.\n",
    "\n",
    "3) The total population change between 1950 and each later year, starting inclusively at 1950.\n",
    "\n",
    "Assign `cumulative_sum_answer` to 1, 2, or 3\n",
    "\n",
    "\n",
    "_Points:_ 2"
   ]
  },
  {
   "cell_type": "code",
   "execution_count": null,
   "metadata": {
    "tags": []
   },
   "outputs": [],
   "source": [
    "cumulative_sum_answer = ..."
   ]
  },
  {
   "cell_type": "code",
   "execution_count": null,
   "metadata": {
    "deletable": false,
    "editable": false
   },
   "outputs": [],
   "source": [
    "grader.check(\"task_15\")"
   ]
  },
  {
   "cell_type": "markdown",
   "metadata": {},
   "source": [
    "## Old Faithful\n"
   ]
  },
  {
   "cell_type": "markdown",
   "metadata": {},
   "source": [
    "Old Faithful is a geyser in Yellowstone that erupts every 44 to 125 minutes (according to [Wikipedia](https://en.wikipedia.org/wiki/Old_Faithful)). People are [often told that the geyser erupts every hour](http://yellowstone.net/geysers/old-faithful/), but in fact the waiting time between eruptions is more variable. Let's take a look."
   ]
  },
  {
   "cell_type": "markdown",
   "metadata": {},
   "source": [
    "### Task 16 📍"
   ]
  },
  {
   "cell_type": "markdown",
   "metadata": {
    "deletable": false,
    "editable": false
   },
   "source": [
    "The first line below assigns `waiting_times` to an array of 272 consecutive waiting times between eruptions, taken from a classic 1938 dataset. Assign the names `shortest`, `longest`, and `average` so that the `print` statement is correct.\n",
    "\n",
    "\n",
    "_Points:_ 2"
   ]
  },
  {
   "cell_type": "code",
   "execution_count": null,
   "metadata": {
    "tags": []
   },
   "outputs": [],
   "source": [
    "waiting_times = Table.read_table('old_faithful.csv').column('waiting')\n",
    "\n",
    "shortest = ...\n",
    "longest = ...\n",
    "average = ...\n",
    "\n",
    "print(\"Old Faithful erupts every\", shortest, \"to\", longest, \"minutes and every\", average, \"minutes on average.\")"
   ]
  },
  {
   "cell_type": "code",
   "execution_count": null,
   "metadata": {
    "deletable": false,
    "editable": false
   },
   "outputs": [],
   "source": [
    "grader.check(\"task_16\")"
   ]
  },
  {
   "cell_type": "markdown",
   "metadata": {},
   "source": [
    "### Task 17 📍"
   ]
  },
  {
   "cell_type": "markdown",
   "metadata": {
    "deletable": false,
    "editable": false
   },
   "source": [
    "Assign `biggest_decrease` to the biggest decrease in waiting time between two consecutive eruptions. For example, the third eruption occurred after 74 minutes and the fourth after 62 minutes, so the decrease in waiting time was 74 - 62 = 12 minutes. \n",
    "\n",
    "*Hint 1*: You'll need an array arithmetic function [mentioned in the textbook](https://inferentialthinking.com/chapters/05/1/Arrays.html#functions-on-arrays). You have also seen this function earlier in the homework!\n",
    "\n",
    "*Hint 2*: We want to return the absolute value of the biggest decrease.\n",
    "\n",
    "\n",
    "_Points:_ 2"
   ]
  },
  {
   "cell_type": "code",
   "execution_count": null,
   "metadata": {
    "tags": []
   },
   "outputs": [],
   "source": [
    "biggest_decrease = ...\n",
    "biggest_decrease"
   ]
  },
  {
   "cell_type": "code",
   "execution_count": null,
   "metadata": {
    "deletable": false,
    "editable": false
   },
   "outputs": [],
   "source": [
    "grader.check(\"task_17\")"
   ]
  },
  {
   "cell_type": "markdown",
   "metadata": {},
   "source": [
    "### Task 18 📍"
   ]
  },
  {
   "cell_type": "markdown",
   "metadata": {
    "deletable": false,
    "editable": false
   },
   "source": [
    "If you expected Old Faithful to erupt every hour, you would expect to wait a total of `60 * k` minutes to see `k` eruptions. Set `abs_diff_from_expected` to an array with 272 elements, where the element at index `i` is the absolute difference between the expected and actual total amount of waiting time to see the first `i+1` eruptions. \n",
    "\n",
    "**Hint**: You'll need to compare a cumulative sum to a range of values. We recommend that you use `np.arange`, and you can read about it in [section 5.2 of the textbook](https://www.inferentialthinking.com/chapters/05/2/Ranges.html).\n",
    "\n",
    "For example, since the first three waiting times are 79, 54, and 74, the total waiting time for 3 eruptions is $79 + 54 + 74 = 207$. The expected waiting time for 3 eruptions is $60 * 3 = 180$. Therefore, `abs_diff_from_expected.item(2)` should be $|207 - 180| = 27$. \n",
    "\n",
    "**Tip**: We included some extra variables to help you break up this task into smaller pieces. We are only checking the `abs_diff_from_expected`, so you can remove any other variables that you don't want to use.\n",
    "\n",
    "_Points:_ 1"
   ]
  },
  {
   "cell_type": "code",
   "execution_count": null,
   "metadata": {
    "tags": []
   },
   "outputs": [],
   "source": [
    "waiting_times_cumsum = ...\n",
    "expected_waiting_times_mins = ...\n",
    "diff_from_expected = ...\n",
    "abs_diff_from_expected = ...\n",
    "abs_diff_from_expected"
   ]
  },
  {
   "cell_type": "code",
   "execution_count": null,
   "metadata": {
    "deletable": false,
    "editable": false
   },
   "outputs": [],
   "source": [
    "grader.check(\"task_18\")"
   ]
  },
  {
   "cell_type": "markdown",
   "metadata": {},
   "source": [
    "### Task 19 📍"
   ]
  },
  {
   "cell_type": "markdown",
   "metadata": {
    "deletable": false,
    "editable": false
   },
   "source": [
    "Let's imagine your guess for the next wait time was always just the length of the previous waiting time. If you always guessed the previous waiting time, how big would your error in guessing the waiting times be, on average?\n",
    "\n",
    "For example, since the first three waiting times are 79, 54, and 74, the average difference between your guess and the actual time for just the second and third eruption would be $\\frac{|79-54|+ |54-74|}{2} = 22.5$.\n",
    "\n",
    "*Tip: You can do this in one command, but we recommend that you break it up into smaller parts like we set up for you in Task 18.*\n",
    "\n",
    "\n",
    "_Points:_ 2"
   ]
  },
  {
   "cell_type": "code",
   "execution_count": null,
   "metadata": {
    "tags": []
   },
   "outputs": [],
   "source": [
    "average_error = ...\n",
    "average_error"
   ]
  },
  {
   "cell_type": "code",
   "execution_count": null,
   "metadata": {
    "deletable": false,
    "editable": false
   },
   "outputs": [],
   "source": [
    "grader.check(\"task_19\")"
   ]
  },
  {
   "cell_type": "markdown",
   "metadata": {},
   "source": [
    "## Submit your Homework to Canvas\n",
    "\n",
    "Once you have finished working on the homework tasks, prepare to submit your work in Canvas by completing the following steps.\n",
    "\n",
    "1. In the related Canvas Assignment page, check the rubric to know how you will be scored for this assignment.\n",
    "2. Double-check that you have run the code cell near the end of the notebook that contains the command `\"grader.check_all()\"`. This command will run all of the run tests on all your responses to the auto-graded tasks marked with 📍.\n",
    "3. Double-check your responses to the manually graded tasks marked with 📍🔎.\n",
    "3. Select the menu item \"File\" and \"Save Notebook\" in the notebook's Toolbar to save your work and create a specific checkpoint in the notebook's work history.\n",
    "4. Select the menu items \"File\", \"Download\" in the notebook's Toolbar to download the notebook (.ipynb) file. \n",
    "5. In the related Canvas Assignment page, click Start Assignment or New Attempt to upload the downloaded .ipynb file.\n",
    "\n",
    "**Keep in mind that the autograder does not always check for correctness. Sometimes it just checks for the format of your answer, so passing the autograder for a question does not mean you got the answer correct for that question.**"
   ]
  },
  {
   "cell_type": "markdown",
   "metadata": {
    "deletable": false,
    "editable": false
   },
   "source": [
    "---\n",
    "\n",
    "To double-check your work, the cell below will rerun all of the autograder tests."
   ]
  },
  {
   "cell_type": "code",
   "execution_count": null,
   "metadata": {
    "deletable": false,
    "editable": false
   },
   "outputs": [],
   "source": [
    "grader.check_all()"
   ]
  }
 ],
 "metadata": {
  "hide_input": false,
  "kernelspec": {
   "display_name": "Python 3 (ipykernel)",
   "language": "python",
   "name": "python3"
  },
  "language_info": {
   "codemirror_mode": {
    "name": "ipython",
    "version": 3
   },
   "file_extension": ".py",
   "mimetype": "text/x-python",
   "name": "python",
   "nbconvert_exporter": "python",
   "pygments_lexer": "ipython3",
   "version": "3.10.12"
  },
  "otter": {
   "OK_FORMAT": true,
   "assignment_name": "hw02_fa23",
   "tests": {
    "task_01": {
     "name": "task_01",
     "points": 2,
     "suites": [
      {
       "cases": [
        {
         "code": ">>> \n>>> import numpy\n>>> isinstance(weird_numbers, numpy.ndarray) and len(weird_numbers) == 4\nTrue",
         "failure_message": "❌ You didn't provide an array of 4 values. Consider using make_array.",
         "hidden": false,
         "locked": false,
         "points": 1,
         "success_message": "✅ You provided an array of 4 values."
        },
        {
         "code": ">>> np.allclose(weird_numbers, np.array([3000.,  2.23606798, -2,  5.04749727]), rtol=1e-03, atol=1e-03) == True\nTrue",
         "hidden": false,
         "locked": false,
         "points": 1
        }
       ],
       "scored": true,
       "setup": "",
       "teardown": "",
       "type": "doctest"
      }
     ]
    },
    "task_02": {
     "name": "task_02",
     "points": 2,
     "suites": [
      {
       "cases": [
        {
         "code": ">>> \n>>> import numpy\n>>> isinstance(book_title_words, numpy.ndarray) and len(book_title_words) == 3\nTrue",
         "failure_message": "❌ You didn't provide an array of 3 values. Consider using make_array.",
         "hidden": false,
         "locked": false,
         "points": 0.5,
         "success_message": "✅ You provided an array of 3 values."
        },
        {
         "code": ">>> \n>>> not any([',' in text for text in book_title_words])\nTrue",
         "failure_message": "❌ It looks like you included commas in the text. The three pieces of text in the array should be: 'Eats' 'Shoots' 'Leaves'",
         "hidden": false,
         "locked": false,
         "points": 0,
         "success_message": "✅ Great work not including the commas."
        },
        {
         "code": ">>> \n>>> # \n>>> 'and ' in book_title_words.item(2)\nTrue",
         "failure_message": "❌ It looks like you didn't include both words in the last piece of text. It should be the actual string: 'and Leaves'.",
         "hidden": false,
         "locked": false,
         "points": 0,
         "success_message": "✅ Great work including 'and' with the last string."
        }
       ],
       "scored": true,
       "setup": "",
       "teardown": "",
       "type": "doctest"
      }
     ]
    },
    "task_03": {
     "name": "task_03",
     "points": 2,
     "suites": [
      {
       "cases": [
        {
         "code": ">>> \n>>> isinstance(with_commas, str) and isinstance(without_commas, str)\nTrue",
         "failure_message": "❌ I doesn't seem that with_commas and without_commas are strings. Make sure to use the join method on a string. Use ', ' for a comma and ' ' for a space.",
         "hidden": false,
         "locked": false,
         "points": 0,
         "success_message": "✅ Nice! with_commas and without_commas are both strings."
        }
       ],
       "scored": true,
       "setup": "",
       "teardown": "",
       "type": "doctest"
      }
     ]
    },
    "task_05": {
     "name": "task_05",
     "points": 2,
     "suites": [
      {
       "cases": [
        {
         "code": ">>> \n>>> third_element != -10\nTrue",
         "failure_message": "❌ It looks like you wrote some_numbers.item(3), but the third element has index 2, not 3.",
         "hidden": false,
         "locked": false,
         "points": 1,
         "success_message": "✅ Nice work not using the wrong index."
        }
       ],
       "scored": true,
       "setup": "",
       "teardown": "",
       "type": "doctest"
      }
     ]
    },
    "task_06": {
     "name": "task_06",
     "points": 2,
     "suites": [
      {
       "cases": [
        {
         "code": ">>> \n>>> index_of_last_element <= 145\nTrue",
         "failure_message": "❌ It doesn't seem like you've assigned a possible int to index_of_last_element.",
         "hidden": false,
         "locked": false,
         "points": 1,
         "success_message": "✅ You assigned a possible int to index_of_last_element."
        }
       ],
       "scored": true,
       "setup": "",
       "teardown": "",
       "type": "doctest"
      }
     ]
    },
    "task_07": {
     "name": "task_07",
     "points": 2,
     "suites": [
      {
       "cases": [
        {
         "code": ">>> \n>>> import numpy as np\n>>> isinstance(most_recent_birth_year, (int,  np.integer))\nTrue",
         "failure_message": "❌ Make sure you are assigning an integer from the president_birth_years array. Try using .item(...)",
         "hidden": false,
         "locked": false,
         "points": 1,
         "success_message": "✅ You successfully submitted an integer."
        }
       ],
       "scored": true,
       "setup": "",
       "teardown": "",
       "type": "doctest"
      }
     ]
    },
    "task_08": {
     "name": "task_08",
     "points": 2,
     "suites": [
      {
       "cases": [
        {
         "code": ">>> \n>>> import numpy as np\n>>> isinstance(sum_of_birth_years, (int, np.integer))\nTrue",
         "failure_message": "❌ Make sure you are assigning a sum of 3 integers from the sum_of_birth_years array.",
         "hidden": false,
         "locked": false,
         "points": 1,
         "success_message": "✅ You successfully submitted an integer."
        }
       ],
       "scored": true,
       "setup": "",
       "teardown": "",
       "type": "doctest"
      }
     ]
    },
    "task_09": {
     "name": "task_09",
     "points": 2,
     "suites": [
      {
       "cases": [
        {
         "code": ">>> \n>>> all(x % 157 == 0 for x in (first_product, second_product, third_product, fourth_product))\nTrue",
         "failure_message": "❌ Not all of your products are divisible by 157, so it doesn't seem that you've multiplied the 4 numbers by 157.",
         "hidden": false,
         "locked": false,
         "points": 1,
         "success_message": "✅ It seems like you've multiplied the 4 numbers by 157."
        }
       ],
       "scored": true,
       "setup": "",
       "teardown": "",
       "type": "doctest"
      }
     ]
    },
    "task_10": {
     "name": "task_10",
     "points": 2,
     "suites": [
      {
       "cases": [
        {
         "code": ">>> \n>>> import numpy\n>>> isinstance(numbers, numpy.ndarray)\nTrue",
         "failure_message": "❌ Make sure you are assigning an array to numbers. Try using make_array()",
         "hidden": false,
         "locked": false,
         "points": 1,
         "success_message": "✅ Good work. It seems like you've assigned an array to numbers."
        }
       ],
       "scored": true,
       "setup": "",
       "teardown": "",
       "type": "doctest"
      }
     ]
    },
    "task_11": {
     "name": "task_11",
     "points": 2,
     "suites": [
      {
       "cases": [
        {
         "code": ">>> \n>>> import numpy as np\n>>> isinstance(correct_products, np.ndarray) and all(x % 1577 == 0 for x in correct_products)\nTrue",
         "failure_message": "❌ All the values in your array should be divible by 1577.",
         "hidden": false,
         "locked": false,
         "points": 1,
         "success_message": "✅ Good work. It seems like all the values in your array are divible by 1577."
        }
       ],
       "scored": true,
       "setup": "",
       "teardown": "",
       "type": "doctest"
      }
     ]
    },
    "task_12": {
     "name": "task_12",
     "points": 2,
     "suites": [
      {
       "cases": [
        {
         "code": ">>> \n>>> sum(celsius_max_temperatures) != 356705.0\nTrue",
         "failure_message": "❌ Looks like you multiplied and subtracted in the wrong order.",
         "hidden": false,
         "locked": false,
         "points": 0.5,
         "success_message": "✅ Nice work. It is easy to multiple and subtract in the wrong order by mistake."
        },
        {
         "code": ">>> \n>>> import numpy as np\n>>> celsius_max_temperatures[0] - np.floor(celsius_max_temperatures[0]) == 0 and celsius_max_temperatures[0] != 25\nTrue",
         "failure_message": "❌ Make sure you round your results to the nearest integer. Try using np.round.",
         "hidden": false,
         "locked": false,
         "points": 0.5,
         "success_message": "✅ It seems like you've rounded your results to the nearest integer."
        }
       ],
       "scored": true,
       "setup": "",
       "teardown": "",
       "type": "doctest"
      }
     ]
    },
    "task_13": {
     "name": "task_13",
     "points": 2,
     "suites": [
      {
       "cases": [
        {
         "code": ">>> \n>>> abs(celsius_temperature_ranges[0]) != 12 and celsius_temperature_ranges[0] >= 0\nTrue",
         "failure_message": "❌ Make sure that you are not submitting Fahrenheit values.",
         "hidden": false,
         "locked": false,
         "points": 0.5,
         "success_message": "✅ It seems like you are not submitting Fahrenheit values. Nice work!"
        },
        {
         "code": ">>> \n>>> import numpy as np\n>>> celsius_temperature_ranges[0] - np.floor(celsius_temperature_ranges[0]) != 0\nTrue",
         "failure_message": "❌ Make sure to not round your results on this task.",
         "hidden": false,
         "locked": false,
         "points": 0.5,
         "success_message": "✅ It doesn't seem that you rounded the results. Great work catching that detail in the instructions."
        }
       ],
       "scored": true,
       "setup": "",
       "teardown": "",
       "type": "doctest"
      }
     ]
    },
    "task_14": {
     "name": "task_14",
     "points": 2,
     "suites": [
      {
       "cases": [
        {
         "code": ">>> \n>>> import numpy as np\n>>> isinstance(largest_population_change, (int, np.integer))\nTrue",
         "failure_message": "❌ It doesn't seem that you are using the numpy functions.",
         "hidden": false,
         "locked": false,
         "points": 1,
         "success_message": "✅ Nice work using numpy functions."
        }
       ],
       "scored": true,
       "setup": "",
       "teardown": "",
       "type": "doctest"
      }
     ]
    },
    "task_15": {
     "name": "task_15",
     "points": 2,
     "suites": [
      {
       "cases": [
        {
         "code": ">>> \n>>> cumulative_sum_answer in {1, 2, 3}\nTrue",
         "failure_message": "❌ Make sure to assign 1, 2, or 3 to cumulative_sum_answer.",
         "hidden": false,
         "locked": false,
         "points": 1,
         "success_message": "✅ It seems like you've entered a possible answer."
        }
       ],
       "scored": true,
       "setup": "",
       "teardown": "",
       "type": "doctest"
      }
     ]
    },
    "task_16": {
     "name": "task_16",
     "points": 2,
     "suites": [
      {
       "cases": [
        {
         "code": ">>> \n>>> shortest <= average <= longest\nTrue",
         "failure_message": "❌ The average value is between the shortest and the longest values. Make sure to use functions like min, max, and np.average (or np.mean).",
         "hidden": false,
         "locked": false,
         "points": 1,
         "success_message": "✅ Your average value is between your shortest and longest values."
        }
       ],
       "scored": true,
       "setup": "",
       "teardown": "",
       "type": "doctest"
      }
     ]
    },
    "task_17": {
     "name": "task_17",
     "points": 2,
     "suites": [
      {
       "cases": [
        {
         "code": ">>> biggest_decrease != 47\nTrue",
         "failure_message": "❌ If you are getting 47 as your answer, you might be computing the biggest change rather than biggest decrease.",
         "hidden": false,
         "locked": false,
         "points": 0.5,
         "success_message": "✅ It seems that you didn't compute the biggest change. Nice work."
        },
        {
         "code": ">>> \n>>> 30 <= biggest_decrease < 47\nTrue",
         "failure_message": "❌ The biggest decrease is above 30, but not 47",
         "hidden": false,
         "locked": false,
         "points": 0.5,
         "success_message": "✅ Your value seems to be in a reasonable interval of values."
        }
       ],
       "scored": true,
       "setup": "",
       "teardown": "",
       "type": "doctest"
      }
     ]
    },
    "task_18": {
     "name": "task_18",
     "points": 1,
     "suites": [
      {
       "cases": [
        {
         "code": ">>> \n>>> abs_diff_from_expected.size == 272\nTrue",
         "failure_message": "❌ You don't seem to have the correct number of values. Don't forget to use np.cumsum",
         "hidden": false,
         "locked": false,
         "points": 0.5,
         "success_message": "✅ You have the correct number of values."
        },
        {
         "code": ">>> \n>>> abs_diff_from_expected.item(271) == abs(60 * 272 - sum(waiting_times))\nTrue",
         "failure_message": "❌ One of your values doesn't look correct.",
         "hidden": false,
         "locked": false,
         "points": 0.5,
         "success_message": "✅ One of your values looks correct."
        }
       ],
       "scored": true,
       "setup": "",
       "teardown": "",
       "type": "doctest"
      }
     ]
    },
    "task_19": {
     "name": "task_19",
     "points": 2,
     "suites": [
      {
       "cases": [
        {
         "code": ">>> \n>>> 15 <= average_error <= 25\nTrue",
         "failure_message": "❌ Your average_erro value should be at least 15 and at most 25.",
         "hidden": false,
         "locked": false,
         "points": 1,
         "success_message": "✅ Your average_error value is in a reasonable interval of numbers."
        }
       ],
       "scored": true,
       "setup": "",
       "teardown": "",
       "type": "doctest"
      }
     ]
    }
   }
  },
  "toc-autonumbering": false
 },
 "nbformat": 4,
 "nbformat_minor": 4
}
