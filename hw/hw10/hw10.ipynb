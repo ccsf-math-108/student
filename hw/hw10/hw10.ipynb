{
 "cells": [
  {
   "cell_type": "code",
   "execution_count": null,
   "id": "b58273e2",
   "metadata": {
    "deletable": false,
    "editable": false
   },
   "outputs": [],
   "source": [
    "# Initialize Otter\n",
    "import otter\n",
    "grader = otter.Notebook(\"hw10.ipynb\")"
   ]
  },
  {
   "cell_type": "markdown",
   "id": "d122c86b-a775-48b3-8212-5a62712efc7d",
   "metadata": {},
   "source": [
    "<img style=\"display: block; margin-left: auto; margin-right: auto\" src=\"./ccsf-logo.png\" width=\"250rem;\" alt=\"The CCSF black and white logo\">"
   ]
  },
  {
   "cell_type": "markdown",
   "id": "2ff7f1d2-fc88-401d-a4d4-3e842e066f79",
   "metadata": {},
   "source": [
    "# Homework 10: Confidence Intervals"
   ]
  },
  {
   "cell_type": "markdown",
   "id": "d800d4e1-0b7c-4b10-b10d-0357c6f39716",
   "metadata": {},
   "source": [
    "## References\n",
    "\n",
    "* [Estimation](https://inferentialthinking.com/chapters/13/Estimation.html)\n",
    "* [`datascience` Documentation](https://datascience.readthedocs.io/)\n",
    "* [Python Quick Reference](https://ccsf-math-108.github.io/materials-fa23/resources/quick_reference.html)"
   ]
  },
  {
   "cell_type": "markdown",
   "id": "c83419a2-7a20-4488-a95d-157b45168566",
   "metadata": {},
   "source": [
    "## Assignment Reminders"
   ]
  },
  {
   "cell_type": "markdown",
   "id": "fb4e2718-ce22-42ee-bac3-da65137b65fe",
   "metadata": {},
   "source": [
    "- Make sure to run the code cell at the top of this notebook that starts with `# Initialize Otter` to load the auto-grader.\n",
    "- For all tasks indicated with a 🔎 that you must write explanations and sentences for, provide your answer in the designated space.\n",
    "- Throughout this assignment and all future ones, please be sure to not re-assign variables throughout the notebook! _For example, if you use `max_temperature` in your answer to one question, do not reassign it later on. Otherwise, you will fail tests that you thought you were passing previously!_\n",
    "- We encourage you to discuss this assignment with others but make sure to write and submit your own code. Refer to the syllabus to learn more about how to learn cooperatively.\n",
    "- Unless you are asked otherwise, use the non-interactive visualizations when asked to produce a visualization for a task.\n",
    "- View the related <a href=\"https://ccsf.instructure.com\" target=\"_blank\">Canvas</a> Assignment page for additional details.\n",
    "\n",
    "Run the following code cell to import the tools for this assignment."
   ]
  },
  {
   "cell_type": "code",
   "execution_count": null,
   "id": "da2cdb71-75de-4ae5-9bf2-4b1b35c0636c",
   "metadata": {
    "tags": []
   },
   "outputs": [],
   "source": [
    "from datascience import *\n",
    "import numpy as np\n",
    "%matplotlib inline\n",
    "import matplotlib.pyplot as plt\n",
    "plt.style.use('fivethirtyeight')"
   ]
  },
  {
   "cell_type": "markdown",
   "id": "b36d78aa-259d-4316-aa05-622b95249d9d",
   "metadata": {},
   "source": [
    "## Thai Restaurants\n"
   ]
  },
  {
   "cell_type": "markdown",
   "id": "0de40acf-e2c1-4e81-b118-711b5d67d519",
   "metadata": {},
   "source": [
    "Oswaldo and Varun are trying to see what the best Thai restaurant in Berkeley is. They survey 1,500 UC Berkeley students selected uniformly at random and ask each student what Thai restaurant is the best. (*Note: This data is fabricated for the purposes of this homework.*) The choices of Thai restaurants are [Lucky House](https://www.google.com/maps/place/Lucky+House+Thai+Cuisine/@37.8707428,-122.270045,15.32z/data=!4m5!3m4!1s0x80857e9e69a8c921:0x7b6d80f58406fb26!8m2!3d37.8721393!4d-122.2672699), [Imm Thai](https://www.google.com/maps/place/Imm+Thai+Street+Food/@37.8704926,-122.2687372,15.51z/data=!4m5!3m4!1s0x80857e9eec4f1e63:0x5f54d96f0dccdb72!8m2!3d37.8719079!4d-122.2691186), [Thai Temple](https://www.google.com/maps/place/Wat+Mongkolratanaram/@37.8689514,-122.2698649,14.75z/data=!4m5!3m4!1s0x80857e886e39daf1:0xe309caa1b5710fc0!8m2!3d37.8563633!4d-122.2707584), and [Thai Basil](https://www.google.com/maps/place/Thai+Basil/@37.8691911,-122.266539,15.37z/data=!4m5!3m4!1s0x80857c2f6ae0e2f1:0x6978b6e8a72d58d4!8m2!3d37.868327!4d-122.258081). After compiling the results, Oswaldo and Varun release the following percentages, percentages of votes that each restaurant received, from their sample:\n",
    "\n",
    "|Thai Restaurant  | Percentage|\n",
    "|:------------:|:------------:|\n",
    "|Lucky House | 8% |\n",
    "|Imm Thai | 52% |\n",
    "|Thai Temple | 25% |\n",
    "|Thai Basil | 15% |\n",
    "\n",
    "These percentages represent a uniform random sample of the population of UC Berkeley students. We will attempt to estimate the corresponding *parameters*, or the percentage of the votes that each restaurant will receive from the entire population (the entire population is all UC Berkeley students). We will use confidence intervals to compute a range of values that reflects the uncertainty of our estimates.\n",
    "\n",
    "The table `votes` contains the results of the survey."
   ]
  },
  {
   "cell_type": "code",
   "execution_count": null,
   "id": "c73b1ef9-8192-4d14-a9df-b668a9622629",
   "metadata": {},
   "outputs": [],
   "source": [
    "# Just run this cell\n",
    "votes = Table.read_table('votes.csv').sample(with_replacement = False)\n",
    "votes"
   ]
  },
  {
   "cell_type": "markdown",
   "id": "674e8fe4-2d09-46c9-b549-88d959cfa838",
   "metadata": {},
   "source": [
    "### Task 01 📍"
   ]
  },
  {
   "cell_type": "markdown",
   "id": "5874b036-1346-47eb-9729-dde6db69b600",
   "metadata": {
    "deletable": false,
    "editable": false
   },
   "source": [
    "Complete the function `one_resampled_percentage` below. It should return Imm Thai's **percentage** of votes after simulating one bootstrap sample of `tbl`.\n",
    "\n",
    "* You can assume that `tbl` contains the original sample data. Your function should create a resample from this data.\n",
    "* `tbl` will always be in the same format as `votes`.\n",
    "* This function should be completed **without** `.group` or `.pivot`. Using these functions will cause your code to timeout.\n",
    "* Given a table of votes, how can you figure out what percentage of the votes are for a certain restaurant? **Be sure to use percentages, not proportions, for this question!**\n",
    "\n",
    "_Points:_ 3"
   ]
  },
  {
   "cell_type": "code",
   "execution_count": null,
   "id": "edc553a5-aff7-4c37-9acf-ef61dd687e10",
   "metadata": {
    "tags": []
   },
   "outputs": [],
   "source": [
    "def one_resampled_percentage(tbl):\n",
    "    ...\n",
    "    \n",
    "one_resampled_percentage(votes)"
   ]
  },
  {
   "cell_type": "code",
   "execution_count": null,
   "id": "215b072f",
   "metadata": {
    "deletable": false,
    "editable": false
   },
   "outputs": [],
   "source": [
    "grader.check(\"task_01\")"
   ]
  },
  {
   "cell_type": "markdown",
   "id": "61316972-2a3e-4537-a40b-b563ea487375",
   "metadata": {},
   "source": [
    "### Task 02 📍"
   ]
  },
  {
   "cell_type": "markdown",
   "id": "59d426c1-03cb-4f09-9186-80eaa82c62ca",
   "metadata": {
    "deletable": false,
    "editable": false
   },
   "source": [
    "Complete the `percentages_in_resamples` function such that it simulates and returns an array of **2023 elements**, where each element represents a bootstrapped estimate of the percentage of voters who will vote for Imm Thai. You should use the `one_resampled_percentage` function you wrote above.\n",
    "\n",
    "* We perform our simulation with **only 2023 trials** in this problem to reduce the runtime, but we should generally use more repetitions.\n",
    "\n",
    "_Points:_ 3"
   ]
  },
  {
   "cell_type": "code",
   "execution_count": null,
   "id": "59d8cbf3-89f0-44fd-88a9-19c2ca49d0c2",
   "metadata": {
    "for_assignment_type": "solution",
    "tags": []
   },
   "outputs": [],
   "source": [
    "def percentages_in_resamples():\n",
    "    percentage_imm = make_array()\n",
    "    ..."
   ]
  },
  {
   "cell_type": "markdown",
   "id": "b8e88b20-3e3b-4881-97b9-48f45e49833c",
   "metadata": {},
   "source": [
    "In the following cell, we run the function you just defined, `percentages_in_resamples`, and create a histogram of the calculated statistic for the 2023 bootstrap estimates of the percentage of voters who voted for Imm Thai. \n",
    "\n",
    "*Note:* This might take a few seconds to run."
   ]
  },
  {
   "cell_type": "code",
   "execution_count": null,
   "id": "9538148f-3f14-416b-bec4-c7e4a9b78f01",
   "metadata": {},
   "outputs": [],
   "source": [
    "resampled_percentages = percentages_in_resamples()\n",
    "Table().with_column('Estimated Percentage', resampled_percentages).hist(\"Estimated Percentage\")"
   ]
  },
  {
   "cell_type": "markdown",
   "id": "80b91439-6653-4f23-9062-010caca15115",
   "metadata": {},
   "source": [
    "### Task 03 📍"
   ]
  },
  {
   "cell_type": "markdown",
   "id": "324de803-bf80-469a-a15f-dc353b49f259",
   "metadata": {
    "deletable": false,
    "editable": false
   },
   "source": [
    "Using the array `resampled_percentages`, find the values at the two edges of the middle 95% of the bootstrapped percentage estimates. (Compute the lower and upper ends of the interval, named `imm_lower_bound` and `imm_upper_bound`, respectively.)\n",
    "\n",
    "\n",
    "_Points:_ 2"
   ]
  },
  {
   "cell_type": "code",
   "execution_count": null,
   "id": "9628db80-911a-4e61-958d-166ab70736ae",
   "metadata": {
    "tags": []
   },
   "outputs": [],
   "source": [
    "imm_lower_bound = ...\n",
    "imm_upper_bound = ...\n",
    "print(f\"Bootstrapped 95% confidence interval for the percentage of Imm Thai voters in the population:[{imm_lower_bound:.2f}, {imm_upper_bound:.2f}]\")"
   ]
  },
  {
   "cell_type": "code",
   "execution_count": null,
   "id": "ccd3b718",
   "metadata": {
    "deletable": false,
    "editable": false
   },
   "outputs": [],
   "source": [
    "grader.check(\"task_03\")"
   ]
  },
  {
   "cell_type": "markdown",
   "id": "c82fa26c-6bc7-4d3f-8e99-f30282c8fd30",
   "metadata": {},
   "source": [
    "### Task 04 📍"
   ]
  },
  {
   "cell_type": "markdown",
   "id": "8a8b7876-b900-4a4e-ade7-de6e177b3020",
   "metadata": {
    "deletable": false,
    "editable": false
   },
   "source": [
    "The survey results seem to indicate that Imm Thai is beating all the other Thai restaurants among the voters. We would like to use confidence intervals to determine a range of likely values for Imm Thai's true lead over all the other restaurants combined. The calculation for Imm Thai's lead over Lucky House, Thai Temple, and Thai Basil combined is:\n",
    "\n",
    "$$\\text{Imm Thai's percent of the vote} - (\\text{100 percent} - \\text{Imm Thai's percent of the vote})$$\n",
    "\n",
    "Define the function `one_resampled_difference` that returns **exactly one value** of Imm Thai's percentage lead over Lucky House, Thai Temple, and Thai Basil combined from one bootstrap sample of `tbl`.\n",
    "\n",
    "* Imm Thai's lead can be negative.\n",
    "* Given a table of votes, how can you figure out what percentage of the votes are for a certain restaurant? **Be sure to use percentages, not proportions, for this question!**\n",
    "* If the skeleton code provided within the function is not helpful for you, feel free to approach the question using your own variables.\n",
    "\n",
    "\n",
    "_Points:_ 2"
   ]
  },
  {
   "cell_type": "code",
   "execution_count": null,
   "id": "60674f5e-49e5-4032-9821-a58decd1826c",
   "metadata": {
    "tags": []
   },
   "outputs": [],
   "source": [
    "def one_resampled_difference(tbl):\n",
    "    bootstrap = ...\n",
    "    imm_percentage = ...\n",
    "    ..."
   ]
  },
  {
   "cell_type": "code",
   "execution_count": null,
   "id": "e3e8697f",
   "metadata": {
    "deletable": false,
    "editable": false
   },
   "outputs": [],
   "source": [
    "grader.check(\"task_04\")"
   ]
  },
  {
   "cell_type": "markdown",
   "id": "8ff85c79-fb05-41ee-93d9-4f3865db9c47",
   "metadata": {},
   "source": [
    "### Task 05 📍🔎"
   ]
  },
  {
   "cell_type": "markdown",
   "id": "05b20b5f-0117-4f45-bf95-abba6ff401eb",
   "metadata": {
    "deletable": false,
    "editable": false
   },
   "source": [
    "<!-- BEGIN QUESTION -->\n",
    "\n",
    "Write a function called `leads_in_resamples` that returns an array of 2023 elements representing the bootstrapped estimates (the result of calling `one_resampled_difference`) of Imm Thai's lead over Lucky House, Thai Temple, and Thai Basil combined. Afterwards, run the cell to plot a histogram of the resulting samples. \n",
    "\n",
    "* If you see an error involving `NoneType`, consider what components a function needs to have!\n",
    "\n",
    "_Points:_ 2"
   ]
  },
  {
   "cell_type": "code",
   "execution_count": null,
   "id": "7f9b5617-7e4d-4b1b-84d2-8918d0ce8438",
   "metadata": {
    "export_pdf": true,
    "for_assignment_type": "solution",
    "tags": []
   },
   "outputs": [],
   "source": [
    "def leads_in_resamples():\n",
    "    ...\n",
    "\n",
    "sampled_leads = leads_in_resamples()\n",
    "Table().with_column('Estimated Lead', sampled_leads).hist(\"Estimated Lead\")"
   ]
  },
  {
   "cell_type": "markdown",
   "id": "0e596efc-a426-475d-b738-13b37bbf9097",
   "metadata": {
    "deletable": false,
    "editable": false
   },
   "source": [
    "<!-- END QUESTION -->\n",
    "\n",
    "### Task 06 📍"
   ]
  },
  {
   "cell_type": "markdown",
   "id": "4d8078c9-6537-46cb-851d-1b39b37642a0",
   "metadata": {
    "deletable": false,
    "editable": false
   },
   "source": [
    "Use the simulated data in `sampled_leads` from Task 05 to compute an approximate 95% confidence interval for Imm Thai's true lead over Lucky House, Thai Temple, and Thai Basil combined.\n",
    "\n",
    "\n",
    "_Points:_ 3"
   ]
  },
  {
   "cell_type": "code",
   "execution_count": null,
   "id": "0efc93f8-c7a1-444e-9cfb-10b9175402ce",
   "metadata": {
    "tags": []
   },
   "outputs": [],
   "source": [
    "diff_lower_bound = ...\n",
    "diff_upper_bound = ...\n",
    "print(\"Bootstrapped 95% confidence interval for Imm Thai's true lead over Lucky House, Thai Temple, and Thai Basil combined: [{:f}, {:f}]\".format(diff_lower_bound, diff_upper_bound))"
   ]
  },
  {
   "cell_type": "code",
   "execution_count": null,
   "id": "aacb29eb",
   "metadata": {
    "deletable": false,
    "editable": false
   },
   "outputs": [],
   "source": [
    "grader.check(\"task_06\")"
   ]
  },
  {
   "cell_type": "markdown",
   "id": "5567763f-d68e-4f47-a637-03e00e845a79",
   "metadata": {},
   "source": [
    "## Interpreting Confidence Intervals"
   ]
  },
  {
   "cell_type": "markdown",
   "id": "5c698c1e-2ddd-4d24-8978-33b391aedfdc",
   "metadata": {},
   "source": [
    "We computed the following 95% confidence interval for the percentage of Imm Thai voters: \n",
    "\n",
    "$$[49.40, 54.47]$$\n",
    "\n",
    "(Your answer may have been a bit different; that doesn't mean it was wrong!)"
   ]
  },
  {
   "cell_type": "markdown",
   "id": "31ca5b34-f10d-45b6-b39d-1630c937f27a",
   "metadata": {},
   "source": [
    "### Task 07 📍🔎"
   ]
  },
  {
   "cell_type": "markdown",
   "id": "0e577f7f-38d9-40ba-b603-3bb7335d603d",
   "metadata": {
    "deletable": false,
    "editable": false
   },
   "source": [
    "<!-- BEGIN QUESTION -->\n",
    "\n",
    "Can we say there is a 95% probability that the interval [49.40, 54.47] contains the true percentage of the population that votes for Imm Thai as the best Berkeley Thai restaurant? Answer \"yes\" or \"no\" and explain your reasoning. \n",
    "\n",
    "*Note:* ambiguous answers using language like \"sometimes\" or \"maybe\" will not receive credit.\n",
    "\n",
    "\n",
    "_Points:_ 2"
   ]
  },
  {
   "cell_type": "markdown",
   "id": "6beaa9ee",
   "metadata": {},
   "source": [
    "_Type your answer here, replacing this text._"
   ]
  },
  {
   "cell_type": "markdown",
   "id": "642e0d24-60a5-462e-a331-de9d3bc4c2b0",
   "metadata": {
    "deletable": false,
    "editable": false
   },
   "source": [
    "<!-- END QUESTION -->\n",
    "\n",
    "### Task 08 📍🔎"
   ]
  },
  {
   "cell_type": "markdown",
   "id": "4e3ae82b-ba20-4f9d-8ed6-97c3cf2bdccc",
   "metadata": {
    "deletable": false,
    "editable": false
   },
   "source": [
    "<!-- BEGIN QUESTION -->\n",
    "\n",
    "We also created 70%, 90%, and 99% confidence intervals from the same sample, but we forgot to label which confidence interval represented which percentages! Match each confidence level (70%, 90%, 99%) with its corresponding interval in the cell below (e.g. __ % CI: [49.87, 54.0] $\\rightarrow$ replace the blank with one of the three confidence levels). **Then**, explain your thought process and how you came up with your answers.\n",
    "\n",
    "The intervals are below:\n",
    "\n",
    "* [49.87, 54.00]\n",
    "* [50.67, 53.27]\n",
    "* [48.80, 55.40]\n",
    "\n",
    "\n",
    "_Points:_ 2"
   ]
  },
  {
   "cell_type": "markdown",
   "id": "1ea49588",
   "metadata": {},
   "source": [
    "_Type your answer here, replacing this text._"
   ]
  },
  {
   "cell_type": "markdown",
   "id": "365e793d-6107-4525-9029-f2c49f67edbf",
   "metadata": {
    "deletable": false,
    "editable": false
   },
   "source": [
    "<!-- END QUESTION -->\n",
    "\n",
    "### Task 09 📍"
   ]
  },
  {
   "cell_type": "markdown",
   "id": "c24491a6-c717-44a8-8f3b-c6efe8a52ae0",
   "metadata": {
    "deletable": false,
    "editable": false
   },
   "source": [
    "Suppose we produced 5,000 new samples (each one a uniform random sample of 1,500 voters/students) from the population and created a 95% confidence interval from each one. Roughly how many of those 5,000 intervals do you expect will actually contain the true percentage of the population?\n",
    "\n",
    "Assign your answer to `true_percentage_intervals`.\n",
    "\n",
    "\n",
    "_Points:_ 2"
   ]
  },
  {
   "cell_type": "code",
   "execution_count": null,
   "id": "7278d145-e875-463d-8e8b-ac3e2e6d2be3",
   "metadata": {
    "tags": []
   },
   "outputs": [],
   "source": [
    "true_percentage_intervals = ..."
   ]
  },
  {
   "cell_type": "code",
   "execution_count": null,
   "id": "11c1f2cf",
   "metadata": {
    "deletable": false,
    "editable": false
   },
   "outputs": [],
   "source": [
    "grader.check(\"task_09\")"
   ]
  },
  {
   "cell_type": "markdown",
   "id": "9b5be0af-c25c-4ec7-a658-e077a61a9fee",
   "metadata": {},
   "source": [
    "Recall the second bootstrap confidence interval you created, which estimated Imm Thai's lead over Lucky House, Thai Temple, and Thai Basil combined. Among\n",
    "voters in the sample, Imm Thai's lead was 4%. \n",
    "\n",
    "Our 95% confidence interval for the true lead (in the population of all voters) was\n",
    "\n",
    "$$[-0.80, 8.80]$$\n",
    "\n",
    "Suppose we are interested in testing a simple yes-or-no question:\n",
    "\n",
    "> \"Is the percentage of votes for Imm Thai tied with the percentage of votes for Lucky House, Thai Temple, and Thai Basil combined?\"\n",
    "\n",
    "Our null hypothesis is that the percentages are equal, or equivalently, that Imm Thai's lead is exactly 0. Our alternative hypothesis is that Imm Thai's lead is not equal to 0.  In the questions below, don't compute any confidence interval yourself - use only the 95% confidence interval we created and shared with you."
   ]
  },
  {
   "cell_type": "markdown",
   "id": "92b84b65-9eff-4dd8-abff-098b912e96f8",
   "metadata": {},
   "source": [
    "### Task 10 📍"
   ]
  },
  {
   "cell_type": "markdown",
   "id": "2aed7754-f760-4529-91c1-34437cb5b86b",
   "metadata": {
    "deletable": false,
    "editable": false
   },
   "source": [
    "Say we use a 5% P-value cutoff.  Do we reject the null, fail to reject the null, or are we unable to tell using our confidence interval?\n",
    "\n",
    "Assign `restaurants_tied` to the number corresponding to the correct answer.\n",
    "\n",
    "1. Reject the null / Data is consistent with the alternative hypothesis\n",
    "2. Fail to reject the null / Data is consistent with the null hypothesis\n",
    "3. Unable to tell using the provided confidence interval\n",
    "\n",
    "_Consider the relationship between the p-value cutoff and confidence. If you're confused, take a look at [this chapter](https://inferentialthinking.com/chapters/13/4/Using_Confidence_Intervals.html) of the textbook._\n",
    "\n",
    "\n",
    "_Points:_ 2"
   ]
  },
  {
   "cell_type": "code",
   "execution_count": null,
   "id": "8988e02b-7c7f-4607-a17e-cfbb8ccbd7db",
   "metadata": {
    "tags": []
   },
   "outputs": [],
   "source": [
    "restaurants_tied = ..."
   ]
  },
  {
   "cell_type": "code",
   "execution_count": null,
   "id": "597a6ece",
   "metadata": {
    "deletable": false,
    "editable": false
   },
   "outputs": [],
   "source": [
    "grader.check(\"task_10\")"
   ]
  },
  {
   "cell_type": "markdown",
   "id": "b9cdee3d-17e6-4518-8a45-aa5d13cc99cc",
   "metadata": {},
   "source": [
    "### Task 11 📍"
   ]
  },
  {
   "cell_type": "markdown",
   "id": "2c58337b-c5b6-46a1-87a2-1bfe791eaca6",
   "metadata": {
    "deletable": false,
    "editable": false
   },
   "source": [
    "What if, instead, we use a P-value cutoff of 1%? Do we reject the null, fail to reject the null, or are we unable to tell using our confidence interval?\n",
    "\n",
    "Assign `cutoff_one_percent` to the number corresponding to the correct answer.\n",
    "\n",
    "1. Reject the null / Data is consistent with the alternative hypothesis\n",
    "2. Fail to reject the null / Data is consistent with the null hypothesis\n",
    "3. Unable to tell using the provided confidence interval\n",
    "\n",
    "\n",
    "_Points:_ 2"
   ]
  },
  {
   "cell_type": "code",
   "execution_count": null,
   "id": "a9461763-a65a-4d0e-bd04-1bc49bff42f6",
   "metadata": {
    "tags": []
   },
   "outputs": [],
   "source": [
    "cutoff_one_percent = ..."
   ]
  },
  {
   "cell_type": "code",
   "execution_count": null,
   "id": "2fcb5c55",
   "metadata": {
    "deletable": false,
    "editable": false
   },
   "outputs": [],
   "source": [
    "grader.check(\"task_11\")"
   ]
  },
  {
   "cell_type": "markdown",
   "id": "e9be6187-e279-4da6-ad18-b775b8c65114",
   "metadata": {},
   "source": [
    "### Task 12 📍"
   ]
  },
  {
   "cell_type": "markdown",
   "id": "faeda0c6-be81-44d8-9775-b60deb19658f",
   "metadata": {
    "deletable": false,
    "editable": false
   },
   "source": [
    "What if we use a P-value cutoff of 10%? Do we reject, fail to reject, or are we unable to tell using our confidence interval?\n",
    "\n",
    "Assign `cutoff_ten_percent` to the number corresponding to the correct answer.\n",
    "\n",
    "1. Reject the null / Data is consistent with the alternative hypothesis\n",
    "2. Fail to reject the null / Data is consistent with the null hypothesis\n",
    "3. Unable to tell using our staff confidence interval\n",
    "\n",
    "\n",
    "_Points:_ 2"
   ]
  },
  {
   "cell_type": "code",
   "execution_count": null,
   "id": "8b05f7cc-53f8-468a-a3ef-a49ae086a0da",
   "metadata": {
    "tags": []
   },
   "outputs": [],
   "source": [
    "cutoff_ten_percent = ..."
   ]
  },
  {
   "cell_type": "code",
   "execution_count": null,
   "id": "9ee70e48",
   "metadata": {
    "deletable": false,
    "editable": false
   },
   "outputs": [],
   "source": [
    "grader.check(\"task_12\")"
   ]
  },
  {
   "cell_type": "markdown",
   "id": "f48c1e33-9053-42ab-8781-083142475482",
   "metadata": {},
   "source": [
    "## Submit your Homework to Canvas\n",
    "\n",
    "Once you have finished working on the homework tasks, prepare to submit your work in Canvas by completing the following steps.\n",
    "\n",
    "1. In the related Canvas Assignment page, check the rubric to know how you will be scored for this assignment.\n",
    "2. Double-check that you have run the code cell near the end of the notebook that contains the command `\"grader.check_all()\"`. This command will run all of the run tests on all your responses to the auto-graded tasks marked with 📍.\n",
    "3. Double-check your responses to the manually graded tasks marked with 📍🔎.\n",
    "3. Select the menu item \"File\" and \"Save Notebook\" in the notebook's Toolbar to save your work and create a specific checkpoint in the notebook's work history.\n",
    "4. Select the menu items \"File\", \"Download\" in the notebook's Toolbar to download the notebook (.ipynb) file. \n",
    "5. In the related Canvas Assignment page, click Start Assignment or New Attempt to upload the downloaded .ipynb file.\n",
    "\n",
    "**Keep in mind that the autograder does not always check for correctness. Sometimes it just checks for the format of your answer, so passing the autograder for a question does not mean you got the answer correct for that question.**"
   ]
  },
  {
   "cell_type": "markdown",
   "id": "006d61a8",
   "metadata": {
    "deletable": false,
    "editable": false
   },
   "source": [
    "---\n",
    "\n",
    "To double-check your work, the cell below will rerun all of the autograder tests."
   ]
  },
  {
   "cell_type": "code",
   "execution_count": null,
   "id": "b56e651d",
   "metadata": {
    "deletable": false,
    "editable": false
   },
   "outputs": [],
   "source": [
    "grader.check_all()"
   ]
  }
 ],
 "metadata": {
  "kernelspec": {
   "display_name": "Python 3 (ipykernel)",
   "language": "python",
   "name": "python3"
  },
  "language_info": {
   "codemirror_mode": {
    "name": "ipython",
    "version": 3
   },
   "file_extension": ".py",
   "mimetype": "text/x-python",
   "name": "python",
   "nbconvert_exporter": "python",
   "pygments_lexer": "ipython3",
   "version": "3.10.12"
  },
  "otter": {
   "OK_FORMAT": true,
   "assignment_name": "hw10_fa23",
   "tests": {
    "task_01": {
     "name": "task_01",
     "points": 3,
     "suites": [
      {
       "cases": [
        {
         "code": ">>> isinstance(one_resampled_percentage(votes), (float, np.float_))\nTrue",
         "failure_message": "❌ Your function should return a float.",
         "hidden": false,
         "locked": false,
         "points": 1,
         "success_message": "✅ Your function returns a float."
        },
        {
         "code": ">>> 35 <= one_resampled_percentage(votes) <= 65\nTrue",
         "failure_message": "❌ Your function does not return a value within a range of possible answers.",
         "hidden": false,
         "locked": false,
         "points": 1,
         "success_message": "✅ Your function returns a value within a range of possible answers."
        }
       ],
       "scored": true,
       "setup": "",
       "teardown": "",
       "type": "doctest"
      }
     ]
    },
    "task_02": {
     "name": "task_02",
     "points": 3,
     "suites": [
      {
       "cases": [],
       "scored": true,
       "setup": "",
       "teardown": "",
       "type": "doctest"
      }
     ]
    },
    "task_03": {
     "name": "task_03",
     "points": 2,
     "suites": [
      {
       "cases": [
        {
         "code": ">>> 40 <= imm_lower_bound <= imm_upper_bound <= 60\nTrue",
         "failure_message": "❌ Your values for imm_lower_bound and imm_upper_bound are not within an appropriate interval.",
         "hidden": false,
         "locked": false,
         "points": 1,
         "success_message": "✅ Your values for imm_lower_bound and imm_upper_bound are within an appropriate interval."
        }
       ],
       "scored": true,
       "setup": "",
       "teardown": "",
       "type": "doctest"
      }
     ]
    },
    "task_04": {
     "name": "task_04",
     "points": 2,
     "suites": [
      {
       "cases": [
        {
         "code": ">>> isinstance(one_resampled_difference(votes), (float, np.float_))\nTrue",
         "failure_message": "❌ Your function should return a float.",
         "hidden": false,
         "locked": false,
         "points": 1,
         "success_message": "✅ Your function returns a float."
        }
       ],
       "scored": true,
       "setup": "",
       "teardown": "",
       "type": "doctest"
      }
     ]
    },
    "task_06": {
     "name": "task_06",
     "points": 3,
     "suites": [
      {
       "cases": [
        {
         "code": ">>> -5 <= diff_lower_bound <= diff_upper_bound <= 12\nTrue",
         "failure_message": "❌ The values of diff_lower_bound and diff_upper_bound are not within a reasonable interval.",
         "hidden": false,
         "locked": false,
         "points": 1,
         "success_message": "✅ The values of diff_lower_bound and diff_upper_bound are within a reasonable interval."
        }
       ],
       "scored": true,
       "setup": "",
       "teardown": "",
       "type": "doctest"
      }
     ]
    },
    "task_09": {
     "name": "task_09",
     "points": 2,
     "suites": [
      {
       "cases": [
        {
         "code": ">>> 1000 <= true_percentage_intervals <= 10000\nTrue",
         "failure_message": "❌ The value of true_percentage_intervals is not within a possible interval. ",
         "hidden": false,
         "locked": false,
         "points": 1,
         "success_message": "✅ The value of true_percentage_intervals is within a possible interval."
        }
       ],
       "scored": true,
       "setup": "",
       "teardown": "",
       "type": "doctest"
      }
     ]
    },
    "task_10": {
     "name": "task_10",
     "points": 2,
     "suites": [
      {
       "cases": [
        {
         "code": ">>> 1 <= restaurants_tied <= 3\nTrue",
         "failure_message": "❌ restaurants_tied should name 1, 2, or 3.",
         "hidden": false,
         "locked": false,
         "points": 1,
         "success_message": "✅ restaurants_tied represents a possible answer."
        }
       ],
       "scored": true,
       "setup": "",
       "teardown": "",
       "type": "doctest"
      }
     ]
    },
    "task_11": {
     "name": "task_11",
     "points": 2,
     "suites": [
      {
       "cases": [
        {
         "code": ">>> 1 <= cutoff_one_percent <= 3\nTrue",
         "failure_message": "❌ cutoff_one_person should name 1, 2, or 3.",
         "hidden": false,
         "locked": false,
         "points": 1,
         "success_message": "✅ cutoff_one_percent represents a possible answer."
        }
       ],
       "scored": true,
       "setup": "",
       "teardown": "",
       "type": "doctest"
      }
     ]
    },
    "task_12": {
     "name": "task_12",
     "points": 2,
     "suites": [
      {
       "cases": [
        {
         "code": ">>> 1 <= cutoff_ten_percent <= 3\nTrue",
         "failure_message": "❌ cutoff_ten_percent should name 1, 2, or 3.",
         "hidden": false,
         "locked": false,
         "points": 1,
         "success_message": "✅ cutoff_ten_percent represents a possible answer."
        }
       ],
       "scored": true,
       "setup": "",
       "teardown": "",
       "type": "doctest"
      }
     ]
    }
   }
  }
 },
 "nbformat": 4,
 "nbformat_minor": 5
}
