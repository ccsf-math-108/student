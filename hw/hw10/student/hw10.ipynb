{
 "cells": [
  {
   "cell_type": "code",
   "execution_count": null,
   "id": "ac9a1067",
   "metadata": {
    "deletable": false,
    "editable": false
   },
   "outputs": [],
   "source": [
    "# Initialize Otter\n",
    "import otter\n",
    "grader = otter.Notebook(\"hw10.ipynb\")"
   ]
  },
  {
   "cell_type": "markdown",
   "id": "62cd94e2",
   "metadata": {},
   "source": [
    "# Homework 10: Linear Regression"
   ]
  },
  {
   "cell_type": "markdown",
   "id": "909ebc14",
   "metadata": {},
   "source": [
    "**Recommended Readings**: \n",
    "\n",
    "* [The Regression Line](https://www.inferentialthinking.com/chapters/15/2/Regression_Line.html)\n",
    "* [Method of Least Squares](https://www.inferentialthinking.com/chapters/15/3/Method_of_Least_Squares.html)\n",
    "* [Least Squares Regression](https://www.inferentialthinking.com/chapters/15/4/Least_Squares_Regression.html)"
   ]
  },
  {
   "cell_type": "markdown",
   "id": "7424b3f8",
   "metadata": {},
   "source": [
    "Please complete this notebook by filling in the cells provided. Before you begin, execute the following cell to setup the notebook by importing some helpful libraries. Each time you start your server, you will need to execute this cell again.\n",
    "\n",
    "For all problems that you must write explanations and sentences for, you **must** provide your answer in the designated space. **Moreover, throughout this homework and all future ones, please be sure to not re-assign variables throughout the notebook!** For example, if you use `max_temperature` in your answer to one question, do not reassign it later on. Otherwise, you will fail tests that you thought you were passing previously!\n",
    "\n",
    "**Note: This homework has hidden tests on it. That means even though tests may say 100% passed, it doesn't mean your final grade will be 100%. We will be running more tests for correctness once everyone turns in the homework.**\n",
    "\n",
    "Directly sharing answers is not okay, but discussing problems is encouraged."
   ]
  },
  {
   "cell_type": "code",
   "execution_count": null,
   "id": "d8387863",
   "metadata": {
    "execution": {
     "iopub.execute_input": "2022-11-11T05:52:36.656669Z",
     "iopub.status.busy": "2022-11-11T05:52:36.656260Z",
     "iopub.status.idle": "2022-11-11T05:52:38.569796Z",
     "shell.execute_reply": "2022-11-11T05:52:38.568734Z"
    }
   },
   "outputs": [],
   "source": [
    "import numpy as np\n",
    "from datascience import *\n",
    "import matplotlib\n",
    "%matplotlib inline\n",
    "import matplotlib.pyplot as plt\n",
    "plt.style.use('fivethirtyeight')\n",
    "import warnings\n",
    "warnings.simplefilter('ignore', FutureWarning)\n",
    "from datetime import datetime"
   ]
  },
  {
   "cell_type": "markdown",
   "id": "ce43ad32",
   "metadata": {},
   "source": [
    "## Triple Jump Distances vs. Vertical Jump Heights "
   ]
  },
  {
   "cell_type": "markdown",
   "id": "b4dbcbd8",
   "metadata": {},
   "source": [
    "Does skill in one sport imply skill in a related sport?  The answer might be different for different activities. Let's find out whether it's true for the [triple jump](https://en.wikipedia.org/wiki/Triple_jump) (a horizontal jump similar to a long jump) and the [vertical jump](https://en.wikipedia.org/wiki/Vertical_jump).  Since we're learning about linear regression, we will look specifically for a *linear* association between skill level in the two sports.\n",
    "\n",
    "The following data was collected by observing 40 collegiate-level soccer players. Each athlete's distances in both events were measured in centimeters. Run the cell below to load the data."
   ]
  },
  {
   "cell_type": "code",
   "execution_count": null,
   "id": "efdd9b93",
   "metadata": {
    "ExecuteTime": {
     "end_time": "2018-04-03T22:42:22.463984Z",
     "start_time": "2018-04-03T22:42:22.455963Z"
    },
    "execution": {
     "iopub.execute_input": "2022-11-11T05:52:38.576298Z",
     "iopub.status.busy": "2022-11-11T05:52:38.574867Z",
     "iopub.status.idle": "2022-11-11T05:52:38.590262Z",
     "shell.execute_reply": "2022-11-11T05:52:38.589219Z"
    }
   },
   "outputs": [],
   "source": [
    "jumps = Table.read_table('triple_vertical.csv')\n",
    "jumps"
   ]
  },
  {
   "cell_type": "markdown",
   "id": "ec31e3f6",
   "metadata": {},
   "source": [
    "### Task 01 📍"
   ]
  },
  {
   "cell_type": "markdown",
   "id": "41ba6c2b",
   "metadata": {},
   "source": [
    "Create a function `standard_units` that converts the values in the array `data` to standard units.\n",
    "\n",
    "_Points:_ 4"
   ]
  },
  {
   "cell_type": "code",
   "execution_count": null,
   "id": "e9d7b9af",
   "metadata": {
    "execution": {
     "iopub.execute_input": "2022-11-11T05:52:38.611522Z",
     "iopub.status.busy": "2022-11-11T05:52:38.610970Z",
     "iopub.status.idle": "2022-11-11T05:52:38.616915Z",
     "shell.execute_reply": "2022-11-11T05:52:38.615724Z"
    },
    "tags": []
   },
   "outputs": [],
   "source": [
    "def standard_units(data):\n",
    "    ..."
   ]
  },
  {
   "cell_type": "code",
   "execution_count": null,
   "id": "d6d55b01",
   "metadata": {
    "deletable": false,
    "editable": false
   },
   "outputs": [],
   "source": [
    "grader.check(\"task_01\")"
   ]
  },
  {
   "cell_type": "markdown",
   "id": "680f1d11",
   "metadata": {},
   "source": [
    "### Task 02 📍"
   ]
  },
  {
   "cell_type": "markdown",
   "id": "a75c7c70",
   "metadata": {},
   "source": [
    "Now, using the `standard_units` function, define the function `correlation` which computes the correlation between `x` and `y`.\n",
    "\n",
    "_Points:_ 2"
   ]
  },
  {
   "cell_type": "code",
   "execution_count": null,
   "id": "c04d4554",
   "metadata": {
    "execution": {
     "iopub.execute_input": "2022-11-11T05:52:38.669033Z",
     "iopub.status.busy": "2022-11-11T05:52:38.668339Z",
     "iopub.status.idle": "2022-11-11T05:52:38.673481Z",
     "shell.execute_reply": "2022-11-11T05:52:38.672493Z"
    },
    "tags": []
   },
   "outputs": [],
   "source": [
    "def correlation(x, y):\n",
    "    ..."
   ]
  },
  {
   "cell_type": "code",
   "execution_count": null,
   "id": "34ec8ae7",
   "metadata": {
    "deletable": false,
    "editable": false
   },
   "outputs": [],
   "source": [
    "grader.check(\"task_02\")"
   ]
  },
  {
   "cell_type": "markdown",
   "id": "27873566",
   "metadata": {},
   "source": [
    "### Task 03 📍🔎"
   ]
  },
  {
   "cell_type": "markdown",
   "id": "23279c4c",
   "metadata": {},
   "source": [
    "<!-- BEGIN QUESTION -->\n",
    "\n",
    "Before running a regression, it's important to see what the data looks like, because our eyes are good at picking out unusual patterns in data.  Draw a scatter plot, **that includes the regression line**, with the triple jump distances on the horizontal axis and the vertical jump heights on vertical axis.\n",
    "\n",
    "See [the documentation on `scatter`](http://data8.org/datascience/_autosummary/datascience.tables.Table.scatter.html#datascience.tables.Table.scatter) for instructions on how to have Python draw the regression line automatically.\n",
    "\n",
    "*Hint:* The `fit_line` argument may be useful here!\n",
    "\n",
    "_Points:_ 2"
   ]
  },
  {
   "cell_type": "code",
   "execution_count": null,
   "id": "f2ec3764",
   "metadata": {
    "ExecuteTime": {
     "end_time": "2018-04-03T07:28:04.288689Z",
     "start_time": "2018-04-03T07:28:04.108660Z"
    },
    "deletable": false,
    "execution": {
     "iopub.execute_input": "2022-11-11T05:52:38.700317Z",
     "iopub.status.busy": "2022-11-11T05:52:38.699998Z",
     "iopub.status.idle": "2022-11-11T05:52:38.951578Z",
     "shell.execute_reply": "2022-11-11T05:52:38.950154Z"
    },
    "manual_problem_id": "jumping_1",
    "tags": []
   },
   "outputs": [],
   "source": [
    "..."
   ]
  },
  {
   "cell_type": "markdown",
   "id": "43fb2790",
   "metadata": {},
   "source": [
    "<!-- END QUESTION -->\n",
    "\n",
    "### Task 04 📍🔎"
   ]
  },
  {
   "cell_type": "markdown",
   "id": "44803706",
   "metadata": {},
   "source": [
    "<!-- BEGIN QUESTION -->\n",
    "\n",
    "1. Does the correlation coefficient $r$ look closest to 0, .5, or -.5? \n",
    "2. Provide a brief explanation of your choice.\n",
    "\n",
    "_Points:_ 2"
   ]
  },
  {
   "cell_type": "markdown",
   "id": "0aa61f29",
   "metadata": {},
   "source": [
    "_Type your answer here, replacing this text._"
   ]
  },
  {
   "cell_type": "markdown",
   "id": "822901bb",
   "metadata": {},
   "source": [
    "<!-- END QUESTION -->\n",
    "\n",
    "### Task 05 📍"
   ]
  },
  {
   "cell_type": "markdown",
   "id": "336f2685",
   "metadata": {},
   "source": [
    "Create a function called `parameter_estimates` that takes in the argument `tbl`, a two-column table where the first column is the x-axis and the second column is the y-axis. It should return an array with three elements: \n",
    "1. the **correlation coefficient** of the two columns\n",
    "2. the **slope**\n",
    "3. the **intercept** of the regression line that predicts the second column from the first, in original units.\n",
    "\n",
    "*Hint:* This is a rare occasion where it's better to implement the function using column indices instead of column names, in order to be able to call this function on any table. If you need a reminder about how to use column indices to pull out individual columns, please refer to [the Tables section of the textbook](https://www.inferentialthinking.com/chapters/06/Tables.html#accessing-the-data-in-a-column).\n",
    "\n",
    "_Points:_ 4"
   ]
  },
  {
   "cell_type": "code",
   "execution_count": null,
   "id": "8ef7a32c",
   "metadata": {
    "ExecuteTime": {
     "end_time": "2018-04-03T22:42:28.451495Z",
     "start_time": "2018-04-03T22:42:28.441469Z"
    },
    "execution": {
     "iopub.execute_input": "2022-11-11T05:52:38.958721Z",
     "iopub.status.busy": "2022-11-11T05:52:38.957888Z",
     "iopub.status.idle": "2022-11-11T05:52:38.966668Z",
     "shell.execute_reply": "2022-11-11T05:52:38.965418Z"
    },
    "for_assignment_type": "solution",
    "tags": []
   },
   "outputs": [],
   "source": [
    "def parameter_estimates(tbl):\n",
    "    ...\n",
    "    return make_array(r, slope, intercept)\n",
    "\n",
    "parameters = parameter_estimates(jumps) \n",
    "print('r:', parameters.item(0), '; slope:', parameters.item(1), '; intercept:', parameters.item(2))"
   ]
  },
  {
   "cell_type": "code",
   "execution_count": null,
   "id": "6090914f",
   "metadata": {
    "deletable": false,
    "editable": false
   },
   "outputs": [],
   "source": [
    "grader.check(\"task_05\")"
   ]
  },
  {
   "cell_type": "markdown",
   "id": "e4b023a4",
   "metadata": {},
   "source": [
    "### Task 06 📍"
   ]
  },
  {
   "cell_type": "markdown",
   "id": "ca0d9eff",
   "metadata": {},
   "source": [
    "Now, suppose you want to go the other way and predict a triple jump distance given a vertical jump distance. What would the regression parameters of this linear model be? How do they compare to the regression parameters from the model where you were predicting vertical jump distance given a triple jump distance (in Task 05)?\n",
    "\n",
    "Set `regression_changes` to an array of 3 elements, with each element corresponding to whether or not the corresponding item returned by `parameter_estimates` changes when switching vertical and triple as $x$ and $y$. For example, if $r$ changes, the slope changes, but the intercept wouldn't change, the `regression_changes` would be assigned to `make_array(True, True, False)`.\n",
    "\n",
    "_Points:_ 3"
   ]
  },
  {
   "cell_type": "code",
   "execution_count": null,
   "id": "49b58e85",
   "metadata": {
    "execution": {
     "iopub.execute_input": "2022-11-11T05:52:39.020238Z",
     "iopub.status.busy": "2022-11-11T05:52:39.019893Z",
     "iopub.status.idle": "2022-11-11T05:52:39.027109Z",
     "shell.execute_reply": "2022-11-11T05:52:39.026137Z"
    },
    "tags": []
   },
   "outputs": [],
   "source": [
    "regression_changes = ...\n",
    "regression_changes"
   ]
  },
  {
   "cell_type": "code",
   "execution_count": null,
   "id": "96d4870a",
   "metadata": {
    "deletable": false,
    "editable": false
   },
   "outputs": [],
   "source": [
    "grader.check(\"task_06\")"
   ]
  },
  {
   "cell_type": "markdown",
   "id": "3fcb8019",
   "metadata": {},
   "source": [
    "### Task 07 📍"
   ]
  },
  {
   "cell_type": "markdown",
   "id": "18737946",
   "metadata": {},
   "source": [
    "Let's use `parameters` (from Task 05) to predict what certain athletes' vertical jump heights would be given their triple jump distances.\n",
    "\n",
    "The world record for the triple jump distance is 18.29 *meters* by Johnathan Edwards. What is the prediction for Edwards' vertical jump using this line?\n",
    "\n",
    "*Hint:* Make sure to convert from meters to centimeters!\n",
    "\n",
    "_Points:_ 2"
   ]
  },
  {
   "cell_type": "code",
   "execution_count": null,
   "id": "85224965",
   "metadata": {
    "deletable": false,
    "execution": {
     "iopub.execute_input": "2022-11-11T05:52:39.064730Z",
     "iopub.status.busy": "2022-11-11T05:52:39.063839Z",
     "iopub.status.idle": "2022-11-11T05:52:39.069382Z",
     "shell.execute_reply": "2022-11-11T05:52:39.068343Z"
    },
    "tags": []
   },
   "outputs": [],
   "source": [
    "triple_record_vert_est = ...\n",
    "print(\"Predicted vertical jump distance: {:f} centimeters\".format(triple_record_vert_est))"
   ]
  },
  {
   "cell_type": "code",
   "execution_count": null,
   "id": "71d6b890",
   "metadata": {
    "deletable": false,
    "editable": false
   },
   "outputs": [],
   "source": [
    "grader.check(\"task_07\")"
   ]
  },
  {
   "cell_type": "markdown",
   "id": "37ce56ae",
   "metadata": {},
   "source": [
    "### Task 08 📍🔎"
   ]
  },
  {
   "cell_type": "markdown",
   "id": "ea9b40cf",
   "metadata": {},
   "source": [
    "<!-- BEGIN QUESTION -->\n",
    "\n",
    "1. Do you think it makes sense to use this line to predict Edwards' vertical jump?\n",
    "2. Justify your response.\n",
    "\n",
    "*Hint:* Compare Edwards' triple jump distance to the triple jump distances in `jumps`. Is it relatively similar to the rest of the data (shown in Task 03)? \n",
    "\n",
    "_Points:_ 2"
   ]
  },
  {
   "cell_type": "markdown",
   "id": "abf70227",
   "metadata": {},
   "source": [
    "_Type your answer here, replacing this text._"
   ]
  },
  {
   "cell_type": "markdown",
   "id": "7bcd0d38",
   "metadata": {},
   "source": [
    "<!-- END QUESTION -->\n",
    "\n",
    "## Cryptocurrencies"
   ]
  },
  {
   "cell_type": "markdown",
   "id": "f35bec3d",
   "metadata": {},
   "source": [
    "Imagine you're an investor in December 2017. Cryptocurrencies, online currencies backed by secure software, are becoming extremely valuable, and you want in on the action!\n",
    "\n",
    "The two most valuable cryptocurrencies are Bitcoin (BTC) and Ethereum (ETH). Each one has a dollar price attached to it at any given moment in time. For example, on December 1st, 2017, one BTC costs $\\$10,859.56$ and one ETH costs $\\$424.64.$\n",
    "\n",
    "For fun, here are the current prices of [Bitcoin](https://www.coinbase.com/price/bitcoin) and [Ethereum](https://www.coinbase.com/price/ethereum)!\n",
    "\n",
    "**You want to predict the price of ETH at some point in time based on the price of BTC.** Below, we load two [tables](https://www.kaggle.com/jessevent/all-crypto-currencies/data) called `btc` and `eth`. Each has 5 columns:\n",
    "* `date`, the date\n",
    "* `open`, the value of the currency at the beginning of the day\n",
    "* `close`, the value of the currency at the end of the day\n",
    "* `market`, the market cap or total dollar value invested in the currency\n",
    "* `day`, the number of days since the start of our data"
   ]
  },
  {
   "cell_type": "code",
   "execution_count": null,
   "id": "9575349f",
   "metadata": {
    "ExecuteTime": {
     "end_time": "2018-04-04T09:57:46.445990Z",
     "start_time": "2018-04-04T09:57:46.433958Z"
    },
    "execution": {
     "iopub.execute_input": "2022-11-11T05:52:39.094931Z",
     "iopub.status.busy": "2022-11-11T05:52:39.094395Z",
     "iopub.status.idle": "2022-11-11T05:52:39.110462Z",
     "shell.execute_reply": "2022-11-11T05:52:39.109557Z"
    },
    "tags": []
   },
   "outputs": [],
   "source": [
    "btc = Table.read_table('btc.csv')\n",
    "btc.show(5)"
   ]
  },
  {
   "cell_type": "code",
   "execution_count": null,
   "id": "809bde4c",
   "metadata": {
    "ExecuteTime": {
     "end_time": "2018-04-04T09:57:46.458022Z",
     "start_time": "2018-04-04T09:57:46.446994Z"
    },
    "execution": {
     "iopub.execute_input": "2022-11-11T05:52:39.114520Z",
     "iopub.status.busy": "2022-11-11T05:52:39.114073Z",
     "iopub.status.idle": "2022-11-11T05:52:39.129033Z",
     "shell.execute_reply": "2022-11-11T05:52:39.128020Z"
    },
    "tags": []
   },
   "outputs": [],
   "source": [
    "eth = Table.read_table('eth.csv')\n",
    "eth.show(5)"
   ]
  },
  {
   "cell_type": "markdown",
   "id": "3df9268c",
   "metadata": {},
   "source": [
    "### Task 09 📍🔎"
   ]
  },
  {
   "cell_type": "markdown",
   "id": "b48d4243",
   "metadata": {},
   "source": [
    "<!-- BEGIN QUESTION -->\n",
    "\n",
    "In the cell below, create an overlaid line plot that visualizes the BTC and ETH open prices as a function of the day. Both BTC and ETH open prices should be plotted on the same graph.\n",
    "\n",
    "*Hint*: [Section 7.3](https://inferentialthinking.com/chapters/07/3/Overlaid_Graphs.html#overlaid-line-plots) in the textbook might be helpful!\n",
    "\n",
    "_Points:_ 2"
   ]
  },
  {
   "cell_type": "code",
   "execution_count": null,
   "id": "59d1f543",
   "metadata": {
    "deletable": false,
    "execution": {
     "iopub.execute_input": "2022-11-11T05:52:39.133576Z",
     "iopub.status.busy": "2022-11-11T05:52:39.132898Z",
     "iopub.status.idle": "2022-11-11T05:52:39.371377Z",
     "shell.execute_reply": "2022-11-11T05:52:39.370350Z"
    },
    "for_assignment_type": "student",
    "tags": []
   },
   "outputs": [],
   "source": [
    "# Create a line plot of btc and eth open prices as a function of time\n",
    "..."
   ]
  },
  {
   "cell_type": "markdown",
   "id": "0139fec0",
   "metadata": {},
   "source": [
    "<!-- END QUESTION -->\n",
    "\n",
    "### Task 10 📍"
   ]
  },
  {
   "cell_type": "markdown",
   "id": "6c28ccfd",
   "metadata": {},
   "source": [
    "Now, calculate the correlation coefficient between the opening prices of BTC and ETH using the `correlation` function you defined earlier.\n",
    "\n",
    "_Points:_ 3"
   ]
  },
  {
   "cell_type": "code",
   "execution_count": null,
   "id": "e8cd5095",
   "metadata": {
    "ExecuteTime": {
     "end_time": "2018-04-04T09:57:57.365938Z",
     "start_time": "2018-04-04T09:57:57.357879Z"
    },
    "deletable": false,
    "execution": {
     "iopub.execute_input": "2022-11-11T05:52:39.376165Z",
     "iopub.status.busy": "2022-11-11T05:52:39.375465Z",
     "iopub.status.idle": "2022-11-11T05:52:39.382428Z",
     "shell.execute_reply": "2022-11-11T05:52:39.381661Z"
    },
    "tags": []
   },
   "outputs": [],
   "source": [
    "r = ...\n",
    "r"
   ]
  },
  {
   "cell_type": "code",
   "execution_count": null,
   "id": "6710617f",
   "metadata": {
    "deletable": false,
    "editable": false
   },
   "outputs": [],
   "source": [
    "grader.check(\"task_10\")"
   ]
  },
  {
   "cell_type": "markdown",
   "id": "a0a00f86",
   "metadata": {},
   "source": [
    "### Task 11 📍"
   ]
  },
  {
   "cell_type": "markdown",
   "id": "e76c0bcd",
   "metadata": {},
   "source": [
    "Write a function `eth_predictor` which takes an opening BTC price and predicts the opening price of ETH. Again, it will be helpful to use the function `parameter_estimates` that you defined earlier in this homework.\n",
    "\n",
    "*Hint*: Double-check what the `tbl` input to `parameter_estimates` must look like!\n",
    "\n",
    "*Note:* Make sure that your `eth_predictor` is using least squares linear regression.\n",
    "\n",
    "_Points:_ 2"
   ]
  },
  {
   "cell_type": "code",
   "execution_count": null,
   "id": "2cd25a45",
   "metadata": {
    "deletable": false,
    "execution": {
     "iopub.execute_input": "2022-11-11T05:52:39.419508Z",
     "iopub.status.busy": "2022-11-11T05:52:39.419201Z",
     "iopub.status.idle": "2022-11-11T05:52:39.424397Z",
     "shell.execute_reply": "2022-11-11T05:52:39.423542Z"
    },
    "tags": []
   },
   "outputs": [],
   "source": [
    "def eth_predictor(btc_price):\n",
    "    parameters = ...\n",
    "    slope = ...\n",
    "    intercept = ...\n",
    "    ..."
   ]
  },
  {
   "cell_type": "code",
   "execution_count": null,
   "id": "e5490025",
   "metadata": {
    "deletable": false,
    "editable": false
   },
   "outputs": [],
   "source": [
    "grader.check(\"task_11\")"
   ]
  },
  {
   "cell_type": "markdown",
   "id": "81d55cc6",
   "metadata": {},
   "source": [
    "### Task 12 📍🔎"
   ]
  },
  {
   "cell_type": "markdown",
   "id": "cb80e5d0",
   "metadata": {
    "tags": []
   },
   "source": [
    "<!-- BEGIN QUESTION -->\n",
    "\n",
    "Now, using the `eth_predictor` function you just defined, make a scatter plot with BTC prices along the x-axis and both real and predicted ETH prices along the y-axis. The color of the dots for the real ETH prices should be different from the color for the predicted ETH prices.\n",
    "\n",
    "*Hint 1:* An example of such a scatter plot is generated can be found [in the Regression Line section of the textbook](https://inferentialthinking.com/chapters/15/2/Regression_Line.html).\n",
    "\n",
    "*Hint 2:* Think about the table that must be produced and used to generate this scatter plot. What data should the columns represent? Based on the data that you need, how many columns should be present in this table? Also, what should each row represent? Constructing the table will be the main part of this question; once you have this table, generating the scatter plot should be straightforward as usual.\n",
    "\n",
    "_Points:_ 2"
   ]
  },
  {
   "cell_type": "code",
   "execution_count": null,
   "id": "1fe882e7",
   "metadata": {
    "execution": {
     "iopub.execute_input": "2022-11-11T05:52:39.452595Z",
     "iopub.status.busy": "2022-11-11T05:52:39.452295Z",
     "iopub.status.idle": "2022-11-11T05:52:39.916517Z",
     "shell.execute_reply": "2022-11-11T05:52:39.915349Z"
    },
    "for_assignment_type": "solution",
    "tags": []
   },
   "outputs": [],
   "source": [
    "btc_open = ...\n",
    "eth_pred = ...\n",
    "eth_pred_actual = ...\n",
    "..."
   ]
  },
  {
   "cell_type": "markdown",
   "id": "0fc0933e",
   "metadata": {},
   "source": [
    "<!-- END QUESTION -->\n",
    "\n",
    "### Task 13 📍🔎"
   ]
  },
  {
   "cell_type": "markdown",
   "id": "f6457a31",
   "metadata": {},
   "source": [
    "<!-- BEGIN QUESTION -->\n",
    "\n",
    "Considering the shape of the scatter plot of the true data, is the model we used reasonable?\n",
    "* If so, what features or characteristics make this model reasonable? \n",
    "* If not, what features or characteristics make it unreasonable?\n",
    "\n",
    "_Points:_ 2"
   ]
  },
  {
   "cell_type": "markdown",
   "id": "6a4eb382",
   "metadata": {},
   "source": [
    "_Type your answer here, replacing this text._"
   ]
  },
  {
   "cell_type": "markdown",
   "id": "e65904ec",
   "metadata": {},
   "source": [
    "<!-- END QUESTION -->\n",
    "\n",
    "## Evaluating NBA Game Predictions"
   ]
  },
  {
   "cell_type": "markdown",
   "id": "ce86efb5",
   "metadata": {},
   "source": [
    "### A Brief Introduction to Sports Betting\n",
    "\n",
    "In a basketball game, each team scores some number of points.  Conventionally, the team playing at its own arena is called the \"home team\", and their opponent is called the \"away team\".  The winner is the team with more points at the end of the game.\n",
    "\n",
    "We can summarize what happened in a game by the \"**outcome**\", defined as the **the away team's score minus the home team's score**:\n",
    "\n",
    "$$\\text{outcome} = \\text{points scored by the away team} - \\text{points scored by the home team}$$\n",
    "\n",
    "If this number is positive, the away team won.  If it's negative, the home team won. \n",
    "\n",
    "In order to facilitate betting on games, analysts at casinos try to predict the outcome of the game. This prediction of the outcome is called the **spread.**\n"
   ]
  },
  {
   "cell_type": "code",
   "execution_count": null,
   "id": "74c4191f",
   "metadata": {
    "execution": {
     "iopub.execute_input": "2022-11-11T05:52:39.929666Z",
     "iopub.status.busy": "2022-11-11T05:52:39.929263Z",
     "iopub.status.idle": "2022-11-11T05:52:39.948888Z",
     "shell.execute_reply": "2022-11-11T05:52:39.947888Z"
    },
    "tags": []
   },
   "outputs": [],
   "source": [
    "spreads = Table.read_table(\"spreads.csv\")\n",
    "spreads"
   ]
  },
  {
   "cell_type": "markdown",
   "id": "77826767",
   "metadata": {},
   "source": [
    "Here's a scatter plot of the outcomes and spreads, with the spreads on the horizontal axis."
   ]
  },
  {
   "cell_type": "code",
   "execution_count": null,
   "id": "baeb35ee",
   "metadata": {
    "execution": {
     "iopub.execute_input": "2022-11-11T05:52:39.953040Z",
     "iopub.status.busy": "2022-11-11T05:52:39.952357Z",
     "iopub.status.idle": "2022-11-11T05:52:40.152549Z",
     "shell.execute_reply": "2022-11-11T05:52:40.151700Z"
    },
    "tags": []
   },
   "outputs": [],
   "source": [
    "spreads.scatter(\"Spread\", \"Outcome\")"
   ]
  },
  {
   "cell_type": "markdown",
   "id": "c6a93a32",
   "metadata": {},
   "source": [
    "From the scatter plot, you can see that the spread and outcome are almost never 0, aside from one case of the spread being 0. This is because a game of basketball never ends in a tie. One team has to win, so the outcome can never be 0. The spread is almost never 0 because it's chosen to estimate the outcome."
   ]
  },
  {
   "cell_type": "markdown",
   "id": "ab0ab5b1",
   "metadata": {},
   "source": [
    "Let's investigate how well the casinos are predicting game outcomes.\n",
    "\n",
    "One question we can ask is: Is the casino's prediction correct on average? In other words, for every value of the spread, is the average outcome of games assigned that spread equal to the spread? If not, the casino would apparently be making a systematic error in its predictions."
   ]
  },
  {
   "cell_type": "markdown",
   "id": "547406fb",
   "metadata": {},
   "source": [
    "### Task 14 📍"
   ]
  },
  {
   "cell_type": "markdown",
   "id": "ad7ddeca",
   "metadata": {},
   "source": [
    "Compute the correlation coefficient between outcomes and spreads.\n",
    "\n",
    "*Note:* It might be helpful to use the `correlation` function.\n",
    "\n",
    "_Points:_ 2"
   ]
  },
  {
   "cell_type": "code",
   "execution_count": null,
   "id": "664fb73d",
   "metadata": {
    "deletable": false,
    "execution": {
     "iopub.execute_input": "2022-11-11T05:52:40.157530Z",
     "iopub.status.busy": "2022-11-11T05:52:40.156820Z",
     "iopub.status.idle": "2022-11-11T05:52:40.165081Z",
     "shell.execute_reply": "2022-11-11T05:52:40.164260Z"
    },
    "tags": []
   },
   "outputs": [],
   "source": [
    "spread_r = ...\n",
    "spread_r"
   ]
  },
  {
   "cell_type": "code",
   "execution_count": null,
   "id": "fe35f3f4",
   "metadata": {
    "deletable": false,
    "editable": false
   },
   "outputs": [],
   "source": [
    "grader.check(\"task_14\")"
   ]
  },
  {
   "cell_type": "markdown",
   "id": "595a39b8",
   "metadata": {},
   "source": [
    "### Task 15 📍"
   ]
  },
  {
   "cell_type": "markdown",
   "id": "7198a2d4",
   "metadata": {},
   "source": [
    "Among games with a spread between 3.5 and 6.5 (including both 3.5 and 6.5), what was the average outcome?\n",
    "\n",
    "_Points:_ 2"
   ]
  },
  {
   "cell_type": "code",
   "execution_count": null,
   "id": "9bff13d9",
   "metadata": {
    "deletable": false,
    "execution": {
     "iopub.execute_input": "2022-11-11T05:52:40.189186Z",
     "iopub.status.busy": "2022-11-11T05:52:40.188524Z",
     "iopub.status.idle": "2022-11-11T05:52:40.203925Z",
     "shell.execute_reply": "2022-11-11T05:52:40.202901Z"
    },
    "tags": []
   },
   "outputs": [],
   "source": [
    "spreads_around_5 = ...\n",
    "spread_5_outcome_average = ...\n",
    "print(\"Average outcome for spreads around 5:\", spread_5_outcome_average)"
   ]
  },
  {
   "cell_type": "code",
   "execution_count": null,
   "id": "0b1d0b23",
   "metadata": {
    "deletable": false,
    "editable": false
   },
   "outputs": [],
   "source": [
    "grader.check(\"task_15\")"
   ]
  },
  {
   "cell_type": "markdown",
   "id": "59fdf1dd",
   "metadata": {},
   "source": [
    "### Task 16 📍"
   ]
  },
  {
   "cell_type": "markdown",
   "id": "4a6981b5",
   "metadata": {},
   "source": [
    "Use the function `parameter_estimates` that you defined earlier to compute the least-squares linear regression line that predicts outcomes from spreads, in original units. \n",
    "\n",
    "We have provided a two column table for you in the cell below with the first column representing `Spread` (x) and the second column representing `Outcome` (y), which you should use as an argument to the function.\n",
    "\n",
    "_Points:_ 4"
   ]
  },
  {
   "cell_type": "code",
   "execution_count": null,
   "id": "dac82ef0",
   "metadata": {
    "deletable": false,
    "execution": {
     "iopub.execute_input": "2022-11-11T05:52:40.232507Z",
     "iopub.status.busy": "2022-11-11T05:52:40.231585Z",
     "iopub.status.idle": "2022-11-11T05:52:40.239025Z",
     "shell.execute_reply": "2022-11-11T05:52:40.238169Z"
    },
    "tags": []
   },
   "outputs": [],
   "source": [
    "compute_tbl = spreads.select('Spread', 'Outcome')\n",
    "estimates = ...\n",
    "spread_slope = ...\n",
    "spread_intercept = ...\n",
    "print(\"Slope:\", round(spread_slope, 3))\n",
    "print(\"Intercept\", round(spread_intercept, 3))"
   ]
  },
  {
   "cell_type": "code",
   "execution_count": null,
   "id": "d2edb295",
   "metadata": {
    "deletable": false,
    "editable": false
   },
   "outputs": [],
   "source": [
    "grader.check(\"task_16\")"
   ]
  },
  {
   "cell_type": "markdown",
   "id": "f3eabdc7",
   "metadata": {},
   "source": [
    "### Task 17 📍🔎"
   ]
  },
  {
   "cell_type": "markdown",
   "id": "55c1b714",
   "metadata": {},
   "source": [
    "<!-- BEGIN QUESTION -->\n",
    "\n",
    "Suppose that we create another model that simply predicts the average outcome regardless of the value for spread. Does this new model minimize the least squared error? Why or why not?\n",
    "\n",
    "_Points:_ 2"
   ]
  },
  {
   "cell_type": "markdown",
   "id": "12b252d5",
   "metadata": {},
   "source": [
    "_Type your answer here, replacing this text._"
   ]
  },
  {
   "cell_type": "markdown",
   "id": "ba582af1",
   "metadata": {},
   "source": [
    "<!-- END QUESTION -->\n",
    "\n",
    "### Fitting a Least-Squares Regression Line\n",
    "\n",
    "Recall that the least-squares regression line is the unique straight line that minimizes root mean squared error (RMSE) among all possible fit lines. Using this property, we can find the equation of the regression line by finding the pair of slope and intercept values that minimize root mean squared error. "
   ]
  },
  {
   "cell_type": "markdown",
   "id": "b6ba8cd3",
   "metadata": {},
   "source": [
    "### Task 18 📍"
   ]
  },
  {
   "cell_type": "markdown",
   "id": "1874ff7d",
   "metadata": {},
   "source": [
    "Define a function called `errors`.  \n",
    "\n",
    "* It should take three arguments:\n",
    "    1. a table `tbl` like `spreads` (with the same column names and meanings, but not necessarily the same data)\n",
    "    2. the `slope` of a line (a number)\n",
    "    3. the `intercept` of a line (a number).\n",
    "* It should **return an array of the errors** made when a line with that slope and intercept is used to predict outcome from spread for each game in the given table.\n",
    "\n",
    "*Note*: Make sure you are returning an array of the errors, and not the RMSE. \n",
    "\n",
    "_Points:_ 3"
   ]
  },
  {
   "cell_type": "code",
   "execution_count": null,
   "id": "170dce43",
   "metadata": {
    "execution": {
     "iopub.execute_input": "2022-11-11T05:52:40.285219Z",
     "iopub.status.busy": "2022-11-11T05:52:40.284879Z",
     "iopub.status.idle": "2022-11-11T05:52:40.289940Z",
     "shell.execute_reply": "2022-11-11T05:52:40.288957Z"
    },
    "tags": []
   },
   "outputs": [],
   "source": [
    "def errors(tbl, slope, intercept):\n",
    "    ..."
   ]
  },
  {
   "cell_type": "code",
   "execution_count": null,
   "id": "258c8219",
   "metadata": {
    "deletable": false,
    "editable": false
   },
   "outputs": [],
   "source": [
    "grader.check(\"task_18\")"
   ]
  },
  {
   "cell_type": "markdown",
   "id": "42927a59",
   "metadata": {},
   "source": [
    "### Task 19 📍🔎"
   ]
  },
  {
   "cell_type": "markdown",
   "id": "80447650",
   "metadata": {
    "tags": []
   },
   "source": [
    "1. Using `errors`, compute the errors for the line with slope `0.5` and intercept `25` on the `spreads` dataset. Name that array `outcome_errors`.  \n",
    "2. Then, make a scatter plot of the errors.\n",
    "\n",
    "*Hint:* To make a scatter plot of the errors, plot the error for each outcome in the dataset.  Put the actual spread on the horizontal axis and the outcome error on the vertical axis.\n",
    "\n",
    "_Points:_ 1"
   ]
  },
  {
   "cell_type": "code",
   "execution_count": null,
   "id": "24ba7c37",
   "metadata": {
    "execution": {
     "iopub.execute_input": "2022-11-11T05:52:40.325179Z",
     "iopub.status.busy": "2022-11-11T05:52:40.324422Z",
     "iopub.status.idle": "2022-11-11T05:52:40.522863Z",
     "shell.execute_reply": "2022-11-11T05:52:40.521531Z"
    },
    "tags": []
   },
   "outputs": [],
   "source": [
    "outcome_errors = ...\n",
    "..."
   ]
  },
  {
   "cell_type": "code",
   "execution_count": null,
   "id": "3ed61bae",
   "metadata": {
    "deletable": false,
    "editable": false
   },
   "outputs": [],
   "source": [
    "grader.check(\"task_19\")"
   ]
  },
  {
   "cell_type": "markdown",
   "id": "32c7fa4d",
   "metadata": {},
   "source": [
    "You should find that the errors are almost all negative.  That means our line is not the best fit to our data.  Let's find a better one."
   ]
  },
  {
   "cell_type": "markdown",
   "id": "b3948eac",
   "metadata": {},
   "source": [
    "### Task 20 📍"
   ]
  },
  {
   "cell_type": "markdown",
   "id": "59b106ef",
   "metadata": {},
   "source": [
    "Define a function called `fit_line`.  It should take a table like `spreads` (with the same column names and meanings) as its argument.  It should return an array containing the slope (as the first element) and intercept (as the second element) of the least-squares regression line predicting outcome from spread for that table.\n",
    "\n",
    "*Hint*: Define a function `rmse` within `fit_line` that takes a slope and intercept as its arguments. `rmse` will use the table passed into `fit_line` to compute predicted outcomes and then return the root mean squared error between the predicted and actual outcomes. Within `fit_line`, you can call `rmse` the way you would any other function.\n",
    "\n",
    "If you haven't tried to use the `minimize` function yet, now is a great time to practice. Check out an [example from the textbook using the minimize function.](https://www.inferentialthinking.com/chapters/15/3/Method_of_Least_Squares.html#numerical-optimization).\n",
    "\n",
    "_Points:_ 3"
   ]
  },
  {
   "cell_type": "code",
   "execution_count": null,
   "id": "1fc518ac",
   "metadata": {
    "execution": {
     "iopub.execute_input": "2022-11-11T05:52:40.538596Z",
     "iopub.status.busy": "2022-11-11T05:52:40.538272Z",
     "iopub.status.idle": "2022-11-11T05:52:40.579784Z",
     "shell.execute_reply": "2022-11-11T05:52:40.578701Z"
    },
    "tags": []
   },
   "outputs": [],
   "source": [
    "def fit_line(tbl):\n",
    "    # Your code may need more than 1 line below here.\n",
    "    def rmse(..., ...):\n",
    "        return ... \n",
    "    return ... \n",
    "    \n",
    "# Here is an example call to your function.  To test your function,\n",
    "# figure out the right slope and intercept by hand.\n",
    "example_table = Table().with_columns(\n",
    "    \"Spread\", make_array(0, 1),\n",
    "    \"Outcome\", make_array(1, 3))\n",
    "fit_line(example_table)"
   ]
  },
  {
   "cell_type": "code",
   "execution_count": null,
   "id": "564e39fe",
   "metadata": {
    "deletable": false,
    "editable": false
   },
   "outputs": [],
   "source": [
    "grader.check(\"task_20\")"
   ]
  },
  {
   "cell_type": "markdown",
   "id": "dcc1fdc9",
   "metadata": {},
   "source": [
    "### Task 21 📍"
   ]
  },
  {
   "cell_type": "markdown",
   "id": "fbcedcc9",
   "metadata": {},
   "source": [
    "Use `fit_line` to fit a line to `spreads`, and assign the output to `best_line`. Assign the first and second elements in `best_line` to `best_line_slope` and `best_line_intercept`, respectively.\n",
    "\n",
    "Then, set `new_errors` to the array of errors that we get by calling `errors` with our new line. The provided code will graph the corresponding residual plot with a best fit line.\n",
    "\n",
    "*Hint:* Make sure that the residual plot makes sense. What qualities should the best fit line of a residual plot have?\n",
    "\n",
    "_Points:_ 4"
   ]
  },
  {
   "cell_type": "code",
   "execution_count": null,
   "id": "4e48209a",
   "metadata": {
    "execution": {
     "iopub.execute_input": "2022-11-11T05:52:40.676274Z",
     "iopub.status.busy": "2022-11-11T05:52:40.675485Z",
     "iopub.status.idle": "2022-11-11T05:52:40.911933Z",
     "shell.execute_reply": "2022-11-11T05:52:40.910865Z"
    },
    "tags": []
   },
   "outputs": [],
   "source": [
    "best_line = ...\n",
    "best_line_slope = ...\n",
    "best_line_intercept = ...\n",
    "\n",
    "new_errors = ...\n",
    "\n",
    "# This code displays the residual plot, given your values for the best_line_slope and best_line_intercept\n",
    "Table().with_columns(\"Spread\", \n",
    "                    spreads.column(\"Spread\"), \n",
    "                    \"Outcome errors\", \n",
    "                    new_errors\n",
    "                   ).scatter(\"Spread\", \"Outcome errors\", fit_line=True)\n",
    "\n",
    "# This just prints your slope and intercept\n",
    "\"Slope: {:g} | Intercept: {:g}\".format(best_line_slope, best_line_intercept)"
   ]
  },
  {
   "cell_type": "code",
   "execution_count": null,
   "id": "9a727704",
   "metadata": {
    "deletable": false,
    "editable": false
   },
   "outputs": [],
   "source": [
    "grader.check(\"task_21\")"
   ]
  },
  {
   "cell_type": "markdown",
   "id": "178b8c97",
   "metadata": {},
   "source": [
    "### Task 22 📍🔎"
   ]
  },
  {
   "cell_type": "markdown",
   "id": "2d6aafdb",
   "metadata": {},
   "source": [
    "<!-- BEGIN QUESTION -->\n",
    "\n",
    "The slope and intercept pair you found in Task 21 should be very similar to the values that you found in Task 16. Why were we able to minimize RMSE to find the same slope and intercept from the previous formulas?\n",
    "\n",
    "_Points:_ 2"
   ]
  },
  {
   "cell_type": "markdown",
   "id": "0ba91121",
   "metadata": {},
   "source": [
    "_Type your answer here, replacing this text._"
   ]
  },
  {
   "cell_type": "markdown",
   "id": "28e6af75",
   "metadata": {},
   "source": [
    "<!-- END QUESTION -->\n",
    "\n",
    "## Submit your Homework to Canvas\n",
    "\n",
    "Once you have finished working on the homework questions, prepare to submit your work in Canvas by completing the following steps.\n",
    "\n",
    "1. Double-check that you have run the code cell near the end of the notebook that contains the command \"grader.check_all()\". This command will run all of the run tests on all your responses to the code questions.\n",
    "2. Double-check that you have responded to all the open-response questions.\n",
    "3. Select the menu item \"File\" and \"Save and Checkpoint\" in the notebook's Toolbar to save your work and create a specific checkpoint in the notebook's work history.\n",
    "4. Select the menu items \"File\", \"Download as\", and \"Notebook (.ipynb)\" in the notebook's Toolbar to download the notebook file.\n",
    "5. In the related Canvas Assignment, click Start Assignment or New Attempt to upload the downloaded notebook file.\n",
    "\n",
    "**Keep in mind that the autograder does not always check for correctness. Sometimes it just checks for the format of your answer, so passing the autograder for a question does not mean you got the answer correct for that question.**"
   ]
  },
  {
   "cell_type": "markdown",
   "id": "b568d2f4",
   "metadata": {
    "deletable": false,
    "editable": false
   },
   "source": [
    "---\n",
    "\n",
    "To double-check your work, the cell below will rerun all of the autograder tests."
   ]
  },
  {
   "cell_type": "code",
   "execution_count": null,
   "id": "f6665b37",
   "metadata": {
    "deletable": false,
    "editable": false
   },
   "outputs": [],
   "source": [
    "grader.check_all()"
   ]
  }
 ],
 "metadata": {
  "kernelspec": {
   "display_name": "Python 3 (ipykernel)",
   "language": "python",
   "name": "python3"
  },
  "language_info": {
   "codemirror_mode": {
    "name": "ipython",
    "version": 3
   },
   "file_extension": ".py",
   "mimetype": "text/x-python",
   "name": "python",
   "nbconvert_exporter": "python",
   "pygments_lexer": "ipython3",
   "version": "3.10.5"
  },
  "otter": {
   "tests": {
    "task_01": {
     "name": "task_01",
     "points": 4,
     "suites": [
      {
       "cases": [
        {
         "code": ">>> \n>>> standard_units(make_array(1,2,3,4,5))\narray([-1.41421356, -0.70710678,  0.        ,  0.70710678,  1.41421356])",
         "failure_message": "❌ standard_units doesn't work for the test data we provided.",
         "hidden": false,
         "locked": false,
         "points": 1,
         "success_message": "✅ standard_units works for the test data we provided."
        },
        {
         "code": ">>> \n>>> np.isclose(np.mean(standard_units([1,2,3,4,5])), 0)\nTrue",
         "failure_message": "❌ The mean of the stanardized test data should be 0.",
         "hidden": false,
         "locked": false,
         "points": 1,
         "success_message": "✅ The mean of the stanardized test data is 0."
        },
        {
         "code": ">>> \n>>> np.isclose(np.std(standard_units([1,2,3,4,5])), 0.9999999999999999)\nTrue",
         "failure_message": "❌ The standard deviation of the stanardized test data should be 1.",
         "hidden": false,
         "locked": false,
         "points": 1,
         "success_message": "✅ The standard deviation of the stanardized test data is 1."
        }
       ],
       "scored": true,
       "setup": "",
       "teardown": "",
       "type": "doctest"
      }
     ]
    },
    "task_02": {
     "name": "task_02",
     "points": 2,
     "suites": [
      {
       "cases": [
        {
         "code": ">>> \n>>> np.isclose(correlation([1,2,3], [4,5,6]), 0.9999999999999999)\nTrue",
         "failure_message": "❌ correlation should show that linear data has a coefficent of 1.",
         "hidden": false,
         "locked": false,
         "points": 1,
         "success_message": "✅ correlation shows that linear data has a coefficent of 1."
        }
       ],
       "scored": true,
       "setup": "",
       "teardown": "",
       "type": "doctest"
      }
     ]
    },
    "task_05": {
     "name": "task_05",
     "points": 4,
     "suites": [
      {
       "cases": [
        {
         "code": ">>> \n>>> len(parameters) == 3\nTrue",
         "failure_message": "❌ parameters should contain 3 items.",
         "hidden": false,
         "locked": false,
         "points": 1,
         "success_message": "✅ parameters contains 3 items."
        },
        {
         "code": ">>> \n>>> # Make sure your function is returning an array!\n>>> type(parameters) == np.ndarray\nTrue",
         "failure_message": "❌ parameters should be an array.",
         "hidden": false,
         "locked": false,
         "points": 1,
         "success_message": "✅ parameters is an array."
        },
        {
         "code": ">>> \n>>> np.isclose(parameters.item(0), 0.8343076972837598)\nTrue",
         "failure_message": "❌ The first item in parameters doesn't seem correct.",
         "hidden": false,
         "locked": false,
         "points": 1,
         "success_message": "✅ The first item in parameters seems correct."
        }
       ],
       "scored": true,
       "setup": "",
       "teardown": "",
       "type": "doctest"
      }
     ]
    },
    "task_06": {
     "name": "task_06",
     "points": 3,
     "suites": [
      {
       "cases": [
        {
         "code": ">>> \n>>> # Make sure regression_changes is a numpy array with 3 items!\n>>> len(regression_changes) == 3 and type(regression_changes) == np.ndarray\nTrue",
         "failure_message": "❌ regression_changes should have 3 items and be an array.",
         "hidden": false,
         "locked": false,
         "points": 1,
         "success_message": "✅ regression_changes has 3 items and is an array."
        },
        {
         "code": ">>> \n>>> regression_changes.item(0) in set([0, 1, False, True])\nTrue",
         "failure_message": "❌ The first item in regression_changes is not a possible value.",
         "hidden": false,
         "locked": false,
         "points": 1,
         "success_message": "✅ The first item in regression_changes is a possible value."
        }
       ],
       "scored": true,
       "setup": "",
       "teardown": "",
       "type": "doctest"
      }
     ]
    },
    "task_07": {
     "name": "task_07",
     "points": 2,
     "suites": [
      {
       "cases": [
        {
         "code": ">>> \n>>> 100 <= triple_record_vert_est <= 200\nTrue",
         "failure_message": "❌ triple_record_vert_est should be a value between 100 and 200, inclusive.",
         "hidden": false,
         "locked": false,
         "points": 1,
         "success_message": "✅ triple_record_vert_est is a value between 100 and 200, inclusive."
        }
       ],
       "scored": true,
       "setup": "",
       "teardown": "",
       "type": "doctest"
      }
     ]
    },
    "task_10": {
     "name": "task_10",
     "points": 3,
     "suites": [
      {
       "cases": [
        {
         "code": ">>> \n>>> # Correlation is a number between -1 and 1\n>>> -1 <= r <= 1\nTrue",
         "failure_message": "❌ r should be a number between -1 and 1, inclusive.",
         "hidden": false,
         "locked": false,
         "points": 1,
         "success_message": "✅ r is a number between -1 and 1, inclusive."
        },
        {
         "code": ">>> \n>>> # It appears that you implemented std_units, but did so incorrectly\n>>> standard_units(np.arange(5)) is None or np.allclose(standard_units(np.arange(5)), [-1.41421356, -0.70710678,  0,  0.70710678,  1.41421356])\nTrue",
         "failure_message": "❌ It appears that you implemented std_units, but did so incorrectly.",
         "hidden": false,
         "locked": false,
         "points": 1,
         "success_message": "✅ You implemented std_units correct."
        }
       ],
       "scored": true,
       "setup": "",
       "teardown": "",
       "type": "doctest"
      }
     ]
    },
    "task_11": {
     "name": "task_11",
     "points": 2,
     "suites": [
      {
       "cases": [
        {
         "code": ">>> \n>>> 0 < eth_predictor(10) < 100\nTrue",
         "failure_message": "❌ eth_predictor(10) should be a value betwen 0 and 100.",
         "hidden": false,
         "locked": false,
         "points": 1,
         "success_message": "✅ eth_predictor(10) is a value betwen 0 and 100."
        }
       ],
       "scored": true,
       "setup": "",
       "teardown": "",
       "type": "doctest"
      }
     ]
    },
    "task_14": {
     "name": "task_14",
     "points": 2,
     "suites": [
      {
       "cases": [
        {
         "code": ">>> \n>>> -1 <= spread_r <= 1\nTrue",
         "failure_message": "❌ spread_r should be a value between -1 and 1, inclusive.",
         "hidden": false,
         "locked": false,
         "points": 1,
         "success_message": "✅ spread_r is a value between -1 and 1, inclusive."
        }
       ],
       "scored": true,
       "setup": "",
       "teardown": "",
       "type": "doctest"
      }
     ]
    },
    "task_15": {
     "name": "task_15",
     "points": 2,
     "suites": [
      {
       "cases": [
        {
         "code": ">>> \n>>> 4 <= spread_5_outcome_average <= 6\nTrue",
         "failure_message": "❌ spread_5_outcome_average should be a value between 4 and 6, inclusive.",
         "hidden": false,
         "locked": false,
         "points": 1,
         "success_message": "✅ spread_5_outcome_average is a value between 4 and 6, inclusive."
        }
       ],
       "scored": true,
       "setup": "",
       "teardown": "",
       "type": "doctest"
      }
     ]
    },
    "task_16": {
     "name": "task_16",
     "points": 4,
     "suites": [
      {
       "cases": [
        {
         "code": ">>> \n>>> 0 <= spread_slope < 1\nTrue",
         "failure_message": "❌ spread_slope should be a value between 0 and 1.",
         "hidden": false,
         "locked": false,
         "points": 1,
         "success_message": "✅ spread_slope is a value between 0 and 1."
        },
        {
         "code": ">>> \n>>> spread_intercept > 0\nTrue",
         "failure_message": "❌ spread_intercept should be positive.",
         "hidden": false,
         "locked": false,
         "points": 1,
         "success_message": "✅ spread_intercept is positive."
        }
       ],
       "scored": true,
       "setup": "",
       "teardown": "",
       "type": "doctest"
      }
     ]
    },
    "task_18": {
     "name": "task_18",
     "points": 3,
     "suites": [
      {
       "cases": [
        {
         "code": ">>> \n>>> type(errors(spreads, 0, 0).item(0)) in set([float, np.float32, np.float64])\nTrue",
         "failure_message": "❌ errors should return float values. ",
         "hidden": false,
         "locked": false,
         "points": 1,
         "success_message": "✅ errors seems to return float values."
        },
        {
         "code": ">>> \n>>> len(errors(spreads, 0, 0)) == 1230\nTrue",
         "failure_message": "❌ errors(spreads, 0, 0) should return 1230 values.",
         "hidden": false,
         "locked": false,
         "points": 1,
         "success_message": "✅ errors(spreads, 0, 0) returns 1230 values."
        }
       ],
       "scored": true,
       "setup": "",
       "teardown": "",
       "type": "doctest"
      }
     ]
    },
    "task_19": {
     "name": "task_19",
     "points": 1,
     "suites": [
      {
       "cases": [
        {
         "code": ">>> \n>>> # If you're not passing this test, double check your errors function!\n>>> np.round(outcome_errors.item(0), 2) == -25.25\nTrue",
         "failure_message": "❌ The first value in outcome_errors doesn't seem correct. Check your errors function.",
         "hidden": false,
         "locked": false,
         "points": 1,
         "success_message": "✅ The first value in outcome_errors seems correct."
        }
       ],
       "scored": true,
       "setup": "",
       "teardown": "",
       "type": "doctest"
      }
     ]
    },
    "task_20": {
     "name": "task_20",
     "points": 3,
     "suites": [
      {
       "cases": [
        {
         "code": ">>> \n>>> type(fit_line(example_table)) == np.ndarray\nTrue",
         "failure_message": "❌ fit_line(example_table) should return an array.",
         "hidden": false,
         "locked": false,
         "points": 1,
         "success_message": "✅ fit_line(example_table) should returns array."
        },
        {
         "code": ">>> \n>>> type(fit_line(example_table).item(0)) in set([float, np.float32, np.float64])\nTrue",
         "failure_message": "❌ fit_line should should return a float value for the slope.",
         "hidden": false,
         "locked": false,
         "points": 1,
         "success_message": "✅ fit_line should returns a float value for the slope."
        }
       ],
       "scored": true,
       "setup": "",
       "teardown": "",
       "type": "doctest"
      }
     ]
    },
    "task_21": {
     "name": "task_21",
     "points": 4,
     "suites": [
      {
       "cases": [
        {
         "code": ">>> \n>>> len(new_errors) == 1230\nTrue",
         "failure_message": "❌ new_errors should have 1230 items.",
         "hidden": false,
         "locked": false,
         "points": 1,
         "success_message": "✅ new_errors has 1230 items."
        }
       ],
       "scored": true,
       "setup": "",
       "teardown": "",
       "type": "doctest"
      }
     ]
    }
   }
  }
 },
 "nbformat": 4,
 "nbformat_minor": 5
}
