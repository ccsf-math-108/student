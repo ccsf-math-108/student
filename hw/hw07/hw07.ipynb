{
 "cells": [
  {
   "cell_type": "code",
   "execution_count": null,
   "id": "e606c91b",
   "metadata": {
    "deletable": false,
    "editable": false
   },
   "outputs": [],
   "source": [
    "# Initialize Otter\n",
    "import otter\n",
    "grader = otter.Notebook(\"hw07.ipynb\")"
   ]
  },
  {
   "cell_type": "markdown",
   "id": "d122c86b-a775-48b3-8212-5a62712efc7d",
   "metadata": {},
   "source": [
    "<img style=\"display: block; margin-left: auto; margin-right: auto\" src=\"./ccsf-logo.png\" width=\"250rem;\" alt=\"The CCSF black and white logo\">"
   ]
  },
  {
   "cell_type": "markdown",
   "id": "2ff7f1d2-fc88-401d-a4d4-3e842e066f79",
   "metadata": {},
   "source": [
    "# Homework 7: Simulation"
   ]
  },
  {
   "cell_type": "markdown",
   "id": "d800d4e1-0b7c-4b10-b10d-0357c6f39716",
   "metadata": {},
   "source": [
    "## References\n",
    "\n",
    "* [Sections 10.1 - 10.4](https://inferentialthinking.com/chapters/10/1/Empirical_Distributions.html)\n",
    "* [`datascience` Documentation](https://datascience.readthedocs.io/)\n",
    "* [Python Quick Reference](https://ccsf-math-108.github.io/materials-fa23/resources/quick_reference.html)"
   ]
  },
  {
   "cell_type": "markdown",
   "id": "c83419a2-7a20-4488-a95d-157b45168566",
   "metadata": {},
   "source": [
    "## Assignment Reminders"
   ]
  },
  {
   "cell_type": "markdown",
   "id": "fb4e2718-ce22-42ee-bac3-da65137b65fe",
   "metadata": {},
   "source": [
    "- Make sure to run the code cell at the top of this notebook that starts with `# Initialize Otter` to load the auto-grader.\n",
    "- For all tasks indicated with a 🔎 that you must write explanations and sentences for, provide your answer in the designated space.\n",
    "- Throughout this assignment and all future ones, please be sure to not re-assign variables throughout the notebook! _For example, if you use `max_temperature` in your answer to one question, do not reassign it later on. Otherwise, you will fail tests that you thought you were passing previously!_\n",
    "- We encourage you to discuss this assignment with others but make sure to write and submit your own code. Refer to the syllabus to learn more about how to learn cooperatively.\n",
    "- Unless you are asked otherwise, use the non-interactive visualizations when asked to produce a visualization for a task.\n",
    "- View the related <a href=\"https://ccsf.instructure.com\" target=\"_blank\">Canvas</a> Assignment page for additional details.\n",
    "\n",
    "Run the following code cell to import the tools for this assignment."
   ]
  },
  {
   "cell_type": "code",
   "execution_count": null,
   "id": "da2cdb71-75de-4ae5-9bf2-4b1b35c0636c",
   "metadata": {
    "tags": []
   },
   "outputs": [],
   "source": [
    "from datascience import *\n",
    "import numpy as np\n",
    "%matplotlib inline\n",
    "import matplotlib.pyplot as plt\n",
    "plt.style.use('fivethirtyeight')"
   ]
  },
  {
   "cell_type": "markdown",
   "id": "eee12b91-b1cf-4951-a3ea-06bb9effa477",
   "metadata": {},
   "source": [
    "## Roulette Again"
   ]
  },
  {
   "cell_type": "markdown",
   "id": "29ead549-381f-4898-99bd-7bb38af21951",
   "metadata": {},
   "source": [
    "A Nevada roulette wheel has 38 pockets and a small ball that rests on the wheel. When the wheel is spun, the ball comes to rest in one of the 38 pockets. That pocket is declared the winner. \n",
    "\n",
    "The pockets are labeled 0, 00, 1, 2, 3, 4, ... , 36. Pockets 0 and 00 are green, and the other pockets are alternately red and black. The table `wheel` is a representation of a Nevada roulette wheel. **Note that *both* columns consist of strings.** Below is an example of a roulette wheel!\n",
    "\n",
    "<img src=\"./roulette_wheel.jpeg\" alt=\"roulette wheel\" width=\"330px\">\n",
    "\n",
    "Run the cell below to load the `wheel` table."
   ]
  },
  {
   "cell_type": "code",
   "execution_count": null,
   "id": "f94fb544-8e88-41e8-8d26-ded6639d1e94",
   "metadata": {},
   "outputs": [],
   "source": [
    "wheel = Table.read_table('roulette_wheel.csv', dtype=str)\n",
    "wheel"
   ]
  },
  {
   "cell_type": "markdown",
   "id": "83435fda-90fb-4631-a7c7-378970ae0d67",
   "metadata": {},
   "source": [
    "### Betting on Red"
   ]
  },
  {
   "cell_type": "markdown",
   "id": "e5e12cec-d96f-47a7-b5ae-ad7249f8fdc5",
   "metadata": {},
   "source": [
    "If you bet on *red*, you are betting that the winning pocket will be red. This bet *pays 1 to 1*. That means if you place a one-dollar bet on red, then:\n",
    "\n",
    "- If the winning pocket is red, you gain 1 dollar. That is, you get your original dollar back, plus one more dollar.\n",
    "- if the winning pocket is not red, you lose your dollar. In other words, you gain -1 dollars.\n",
    "\n",
    "Let's see if you can make money by betting on red at roulette."
   ]
  },
  {
   "cell_type": "markdown",
   "id": "21acfd74-e4db-4298-a9ef-b1f4cb53ee93",
   "metadata": {},
   "source": [
    "#### Task 01 📍"
   ]
  },
  {
   "cell_type": "markdown",
   "id": "33debfe0-97d7-47ca-a8fb-75bd6f4d5f8f",
   "metadata": {
    "deletable": false,
    "editable": false
   },
   "source": [
    "Define a function `dollar_bet_on_red`. The function definition should:\n",
    "1. Have one argument `color` that is a `str` for the name of a color.\n",
    "2. Return your gain in dollars as an `int` if that color had won and you had placed a one-dollar bet on red. \n",
    "\n",
    "Consider the following as you work:\n",
    "* Remember that the gain can be negative.\n",
    "* Make sure your function returns an integer.\n",
    "* You can assume that the only colors that will be passed as arguments are `'red'`, `'black'`, and `'green'`. Your function doesn't have to check that the input is correct.\n",
    "\n",
    "_Points:_ 3"
   ]
  },
  {
   "cell_type": "code",
   "execution_count": null,
   "id": "22ca33c1-f2d8-4fd4-83cd-f8f33cf20e29",
   "metadata": {
    "tags": []
   },
   "outputs": [],
   "source": [
    "def dollar_bet_on_red(...):\n",
    "    ..."
   ]
  },
  {
   "cell_type": "code",
   "execution_count": null,
   "id": "6af5f360",
   "metadata": {
    "deletable": false,
    "editable": false
   },
   "outputs": [],
   "source": [
    "grader.check(\"task_01\")"
   ]
  },
  {
   "cell_type": "markdown",
   "id": "cbb54e39-437e-4a51-8b3c-c1068f7d101e",
   "metadata": {},
   "source": [
    "Run the cell below to make sure your function is working."
   ]
  },
  {
   "cell_type": "code",
   "execution_count": null,
   "id": "1a8d8ad3-cb7d-444b-8fe6-758c5c1f62f8",
   "metadata": {},
   "outputs": [],
   "source": [
    "print(dollar_bet_on_red('green'))\n",
    "print(dollar_bet_on_red('black'))\n",
    "print(dollar_bet_on_red('red'))"
   ]
  },
  {
   "cell_type": "markdown",
   "id": "7421c0a5-5393-4781-b1a5-2d402c6862ec",
   "metadata": {
    "tags": []
   },
   "source": [
    "#### Task 02 📍"
   ]
  },
  {
   "cell_type": "markdown",
   "id": "628ad6cf-935c-4259-b249-a33e856103d4",
   "metadata": {
    "deletable": false,
    "editable": false
   },
   "source": [
    "1. Add a column labeled `'Winnings: Red'` as the last column in the table `wheel` such that, for each pocket, the column should contain your gain in dollars if that pocket won and you had bet one dollar on red. \n",
    "2. Your code should apply the function `dollar_bet_on_red` on the `wheel` table to create an array `red_winnings`.\n",
    "\n",
    "_Points:_ 3"
   ]
  },
  {
   "cell_type": "code",
   "execution_count": null,
   "id": "8680a96b-f318-4a16-bc2b-1e39db9730ee",
   "metadata": {
    "tags": []
   },
   "outputs": [],
   "source": [
    "red_winnings = ...\n",
    "wheel = ...\n",
    "wheel"
   ]
  },
  {
   "cell_type": "code",
   "execution_count": null,
   "id": "57a19360",
   "metadata": {
    "deletable": false,
    "editable": false
   },
   "outputs": [],
   "source": [
    "grader.check(\"task_02\")"
   ]
  },
  {
   "cell_type": "markdown",
   "id": "69d63228-6a7e-477c-96fd-cee6013a51b9",
   "metadata": {},
   "source": [
    "### Simulating 10 Bets on Red"
   ]
  },
  {
   "cell_type": "markdown",
   "id": "477ed258-1d41-4c9a-bd35-473b8e90bcb7",
   "metadata": {},
   "source": [
    "Roulette wheels are set up so that each time they are spun, the winning pocket is equally likely to be any of the 38 pockets regardless of the results of all other spins. Let's see what would happen if we decided to bet one dollar on red each round."
   ]
  },
  {
   "cell_type": "markdown",
   "id": "178570e3-4094-4c67-9839-f54a1e2256b6",
   "metadata": {},
   "source": [
    "#### Task 03 📍"
   ]
  },
  {
   "cell_type": "markdown",
   "id": "dc370b46-0afe-48bc-b7c6-5fe6f1a4947b",
   "metadata": {
    "deletable": false,
    "editable": false
   },
   "source": [
    "1. Create a table `ten_bets` by sampling the table `wheel` to simulate 10 spins of the roulette wheel. \n",
    "2. Your table should have the same three column labels as in `wheel`. \n",
    "3. Once you've created that table, set `sum_bets` to your net gain, an integer, in all 10 bets, assuming that you bet one dollar on red each time.\n",
    "\n",
    "While you are working on this, it may be helpful to print out `ten_bets` after you create it!\n",
    "\n",
    "_Points:_ 5"
   ]
  },
  {
   "cell_type": "code",
   "execution_count": null,
   "id": "513bdf72-436d-4251-9ff9-e6b175827a5b",
   "metadata": {
    "tags": []
   },
   "outputs": [],
   "source": [
    "ten_bets = ...\n",
    "sum_bets = ...(ten_bets.column('Winnings: Red'))\n",
    "sum_bets"
   ]
  },
  {
   "cell_type": "code",
   "execution_count": null,
   "id": "7c549ac0",
   "metadata": {
    "deletable": false,
    "editable": false
   },
   "outputs": [],
   "source": [
    "grader.check(\"task_03\")"
   ]
  },
  {
   "cell_type": "markdown",
   "id": "4e881b4f-a87f-40dc-bd4d-ca6dec0aa7df",
   "metadata": {},
   "source": [
    "Run the cells above a few times to see how much money you would make if you made 10 one-dollar bets on red. Making a negative amount of money doesn't feel good, but it is a reality in gambling. Casinos are a business, and they make money when gamblers lose."
   ]
  },
  {
   "cell_type": "markdown",
   "id": "0fa87606-3cc3-44bd-aa9b-9f1108517831",
   "metadata": {},
   "source": [
    "#### Task 04 📍"
   ]
  },
  {
   "cell_type": "markdown",
   "id": "37d608ac-4966-4068-98f1-7a1e7e522a79",
   "metadata": {
    "deletable": false,
    "editable": false
   },
   "source": [
    "Let's see what would happen if you made more bets. \n",
    "\n",
    "Define a function `net_gain_red` with one arguement that takes the number (`int`) of bets and returns the net gain (`int`) in that number of one-dollar bets on red.\n",
    "\n",
    "Reference the `wheel` table that you've defined in the notebook within your function.\n",
    "\n",
    "_Points:_ 2"
   ]
  },
  {
   "cell_type": "code",
   "execution_count": null,
   "id": "978f5944-57dc-4749-a09d-20bba7613c5d",
   "metadata": {
    "tags": []
   },
   "outputs": [],
   "source": [
    "def net_gain_red(...):\n",
    "    ...\n",
    "    \n",
    "net_gain_red(10)"
   ]
  },
  {
   "cell_type": "code",
   "execution_count": null,
   "id": "ccee06cd",
   "metadata": {
    "deletable": false,
    "editable": false
   },
   "outputs": [],
   "source": [
    "grader.check(\"task_04\")"
   ]
  },
  {
   "cell_type": "markdown",
   "id": "1d52779b-c28a-4cfd-8606-23b90188cc5d",
   "metadata": {},
   "source": [
    "#### Task 05 📍"
   ]
  },
  {
   "cell_type": "markdown",
   "id": "b868598c-627d-497e-a648-d0740876055f",
   "metadata": {
    "deletable": false,
    "editable": false
   },
   "source": [
    "1. Complete the cell below to simulate the net gain in 200 one-dollar bets on red, repeating the process 10,000 times. \n",
    "2. After the cell is run, `all_gains_red` should be an array with 10,000 entries, each of which is the net gain in 200 one-dollar bets on red.\n",
    "\n",
    "_Points:_ 2"
   ]
  },
  {
   "cell_type": "code",
   "execution_count": null,
   "id": "88be5952-a969-47cf-a61f-d94e0a9e1d21",
   "metadata": {
    "tags": []
   },
   "outputs": [],
   "source": [
    "num_bets = ...\n",
    "repetitions = ...\n",
    "\n",
    "all_gains_red = ...\n",
    "...\n",
    "\n",
    "len(all_gains_red) # Do not change this line! Check that all_gains_red is length 10000."
   ]
  },
  {
   "cell_type": "code",
   "execution_count": null,
   "id": "9e61352e",
   "metadata": {
    "deletable": false,
    "editable": false
   },
   "outputs": [],
   "source": [
    "grader.check(\"task_05\")"
   ]
  },
  {
   "cell_type": "markdown",
   "id": "bbf54c9b-0d14-4ee9-9c9e-c029b7c21b1d",
   "metadata": {
    "tags": []
   },
   "source": [
    "Run the cell below to visualize the results of your simulation."
   ]
  },
  {
   "cell_type": "code",
   "execution_count": null,
   "id": "2dae84eb-961b-4f16-baec-6114bd181078",
   "metadata": {},
   "outputs": [],
   "source": [
    "gains = Table().with_columns('Net Gain on Red', all_gains_red)\n",
    "gains.hist(bins = np.arange(-80, 41, 4))"
   ]
  },
  {
   "cell_type": "markdown",
   "id": "52d9a321-549a-4d2d-a782-8df414366cad",
   "metadata": {},
   "source": [
    "#### Task 06 📍"
   ]
  },
  {
   "cell_type": "markdown",
   "id": "cf011761-f82a-408d-acbc-9890523b6767",
   "metadata": {
    "deletable": false,
    "editable": false
   },
   "source": [
    "Using the histogram above, decide whether the following statement is true or false:\n",
    "\n",
    ">If you make 200 one-dollar bets on red, your chance of losing money is more than 50%.\n",
    "\n",
    "Assign `loss_more_than_50` to either `True` or `False` depending on your answer to the question.\n",
    "\n",
    "_Points:_ 2"
   ]
  },
  {
   "cell_type": "code",
   "execution_count": null,
   "id": "b2402ddf-75b8-4114-bc7c-20f3fd7ef72a",
   "metadata": {
    "tags": []
   },
   "outputs": [],
   "source": [
    "loss_more_than_50 = ..."
   ]
  },
  {
   "cell_type": "code",
   "execution_count": null,
   "id": "95bf294b",
   "metadata": {
    "deletable": false,
    "editable": false
   },
   "outputs": [],
   "source": [
    "grader.check(\"task_06\")"
   ]
  },
  {
   "cell_type": "markdown",
   "id": "507f646b-c8a0-4b35-a4f4-07dda44ab39c",
   "metadata": {},
   "source": [
    "### Betting on a Split"
   ]
  },
  {
   "cell_type": "markdown",
   "id": "0e49db86-c6cc-43d0-81c7-82b57b5c768b",
   "metadata": {},
   "source": [
    "If betting on red doesn't seem like a good idea, maybe a gambler might want to try a different bet. A bet on a *split* is a bet on two consecutive numbers such as 5 and 6. This bets pays 17 to 1. That means if you place a one-dollar bet on the split 5 and 6, then:\n",
    "\n",
    "- If the winning pocket is either 5 or 6, your gain is 17 dollars.\n",
    "- If any other pocket wins, you lose your dollar, so your gain is -1 dollars."
   ]
  },
  {
   "cell_type": "markdown",
   "id": "d53738e7-fbeb-4a25-b49d-d3cf6f2747c6",
   "metadata": {},
   "source": [
    "#### Task 07 📍"
   ]
  },
  {
   "cell_type": "markdown",
   "id": "b7bcdf2b-b96b-4a96-802d-693abf674b73",
   "metadata": {
    "deletable": false,
    "editable": false
   },
   "source": [
    "Define a function `dollar_bet_on_5_6_split`.\n",
    "1. The function should have 1 argument (type `str`) that represents the pocket number\n",
    "2. The function should return the gain in dollars if that pocket won and they had bet one dollar on the 5-6 split.\n",
    "\n",
    "Remember that the pockets are represented as strings.\n",
    "\n",
    "_Points:_ 4"
   ]
  },
  {
   "cell_type": "code",
   "execution_count": null,
   "id": "4336c6f7-a112-4ceb-b5e0-71f2cc88defa",
   "metadata": {
    "tags": []
   },
   "outputs": [],
   "source": [
    "def dollar_bet_on_5_6_split(...):\n",
    "    ..."
   ]
  },
  {
   "cell_type": "code",
   "execution_count": null,
   "id": "87fb150d",
   "metadata": {
    "deletable": false,
    "editable": false
   },
   "outputs": [],
   "source": [
    "grader.check(\"task_07\")"
   ]
  },
  {
   "cell_type": "markdown",
   "id": "e5b6966e-4de2-4f45-9833-2e1868a8a33d",
   "metadata": {},
   "source": [
    "Run the cell below to check that your function is doing what it should."
   ]
  },
  {
   "cell_type": "code",
   "execution_count": null,
   "id": "5cd1432d-74e4-41cf-8b69-a9b2bb039d15",
   "metadata": {},
   "outputs": [],
   "source": [
    "print(dollar_bet_on_5_6_split('5'))\n",
    "print(dollar_bet_on_5_6_split('6'))\n",
    "print(dollar_bet_on_5_6_split('00'))\n",
    "print(dollar_bet_on_5_6_split('23'))"
   ]
  },
  {
   "cell_type": "markdown",
   "id": "94f2a697-5baa-4ca6-90af-6b3ba4b431fd",
   "metadata": {},
   "source": [
    "#### Task 08 📍"
   ]
  },
  {
   "cell_type": "markdown",
   "id": "cdb66109-2593-4268-b8f7-f6006d561737",
   "metadata": {
    "deletable": false,
    "editable": false
   },
   "source": [
    "Add a column `'Winnings: 5-6 Split'` to the end of the `wheel` table. For each pocket, the column should contain your gain in dollars if that pocket won and you had bet one dollar on the 5-6 split.\n",
    "\n",
    "_Points:_ 3"
   ]
  },
  {
   "cell_type": "code",
   "execution_count": null,
   "id": "c4253c80-8d9e-4ce7-8eda-15b018162172",
   "metadata": {
    "tags": []
   },
   "outputs": [],
   "source": [
    "split_winnings = ...\n",
    "wheel = ..."
   ]
  },
  {
   "cell_type": "code",
   "execution_count": null,
   "id": "9b3a5549",
   "metadata": {
    "deletable": false,
    "editable": false
   },
   "outputs": [],
   "source": [
    "grader.check(\"task_08\")"
   ]
  },
  {
   "cell_type": "markdown",
   "id": "26d14668-9336-4c63-8c8c-a73366b07995",
   "metadata": {},
   "source": [
    "#### Task 09 📍"
   ]
  },
  {
   "cell_type": "markdown",
   "id": "ed836cb9-51c2-4e24-8009-244e19870d9f",
   "metadata": {
    "deletable": false,
    "editable": false
   },
   "source": [
    "1. Simulate the net gain in 200 one-dollar bets on the 5-6 split.\n",
    "2. Repeat the simulation for a total of 10,000 times.\n",
    "3. Store your gains in the array `all_gains_split`.\n",
    "\n",
    "_Points:_ 2"
   ]
  },
  {
   "cell_type": "code",
   "execution_count": null,
   "id": "2a59b585-c4c3-4d62-92a6-6f4dc2a2eed0",
   "metadata": {
    "tags": []
   },
   "outputs": [],
   "source": [
    "all_gains_split = ...\n",
    "...\n",
    "\n",
    "# Do not change the two lines below\n",
    "gains = gains.with_columns('Net Gain on Split', all_gains_split)\n",
    "gains.hist(bins = np.arange(-200, 150, 20))"
   ]
  },
  {
   "cell_type": "code",
   "execution_count": null,
   "id": "78b01b43",
   "metadata": {
    "deletable": false,
    "editable": false
   },
   "outputs": [],
   "source": [
    "grader.check(\"task_09\")"
   ]
  },
  {
   "cell_type": "markdown",
   "id": "0780dec2-adf1-4d0c-8ad5-49fe084c1e03",
   "metadata": {},
   "source": [
    "#### Task 10 📍"
   ]
  },
  {
   "cell_type": "markdown",
   "id": "bf6369be-e8ea-4685-b9f6-a48f86aaee0c",
   "metadata": {
    "deletable": false,
    "editable": false
   },
   "source": [
    "Look carefully at the visualization above, and assign `histogram_statements` to an array of the numbers of each statement below that can be correctly inferred from the overlaid histogram.\n",
    "\n",
    "1. If you bet one dollar 200 times on a split, your chance of losing money is more than 50%.\n",
    "2. If you bet one dollar 200 times in roulette, your chance of making more than 50 dollars is greater if you bet on a split each time than if you bet on red each time.\n",
    "3. If you bet one dollar 200 times in roulette, your chance of losing more than 50 dollars is greater if you bet on a split each time than if you bet on red each time.\n",
    "\n",
    "Notice that you've already seen one of these statements in a prior question.\n",
    "\n",
    "_Points:_ 3"
   ]
  },
  {
   "cell_type": "code",
   "execution_count": null,
   "id": "95f394b3-1313-4878-ba31-0884b08c82c0",
   "metadata": {
    "tags": []
   },
   "outputs": [],
   "source": [
    "histogram_statements = ..."
   ]
  },
  {
   "cell_type": "code",
   "execution_count": null,
   "id": "e9a47c9f",
   "metadata": {
    "deletable": false,
    "editable": false
   },
   "outputs": [],
   "source": [
    "grader.check(\"task_10\")"
   ]
  },
  {
   "cell_type": "markdown",
   "id": "88b02e85-bedb-48da-9c49-cf67bba00d64",
   "metadata": {},
   "source": [
    "If this exercise has put you off playing roulette, it has done its job. If you are still curious about other bets, [here](https://en.wikipedia.org/wiki/Roulette#Bet_odds_table) they all are, and [here](https://en.wikipedia.org/wiki/Roulette#House_edge) is the bad news. The house – that is, the casino – always has an edge over the gambler."
   ]
  },
  {
   "cell_type": "markdown",
   "id": "8e353f86-597b-4538-bd77-208a3c4fab8c",
   "metadata": {
    "tags": []
   },
   "source": [
    "## Simulating Jade's Game"
   ]
  },
  {
   "cell_type": "markdown",
   "id": "aa255476-8041-4320-8457-fa67833f9008",
   "metadata": {
    "tags": []
   },
   "source": [
    "### Games with Jade"
   ]
  },
  {
   "cell_type": "markdown",
   "id": "b4bcc5e6-c4e5-41ad-a574-c8161761d93d",
   "metadata": {},
   "source": [
    "Our friend Jade comes over and asks us to play a game with her. The game works like this: \n",
    "\n",
    "> We will draw randomly with replacement from a simplified 13 card deck with 4 face cards (A, J, Q, K), and 9 numbered cards (2, 3, 4, 5, 6, 7, 8, 9, 10). If we draw cards with replacement 13 times and if the number of face cards is greater than or equal to 4, then we lose.\n",
    "> \n",
    "> Otherwise, Jade loses.\n",
    "\n",
    "Over the next few tasks, you will simulate this game and calculate a statistic of the number of face cards in 13 draws with replacement."
   ]
  },
  {
   "cell_type": "markdown",
   "id": "4b70ace5-15fe-4074-8d9e-20457b014fdb",
   "metadata": {
    "tags": []
   },
   "source": [
    "#### Task 11 📍"
   ]
  },
  {
   "cell_type": "markdown",
   "id": "8ea4ccf6-9677-4125-990c-2073a2a7e73d",
   "metadata": {
    "deletable": false,
    "editable": false
   },
   "source": [
    "Assign `deck_probabilities` to a two-item array containing the chance of drawing a face card as the first element, and the chance of drawing a numbered card. Since we're working with probabilities, make sure your values are between 0 and 1. \n",
    "\n",
    "\n",
    "_Points:_ 3"
   ]
  },
  {
   "cell_type": "code",
   "execution_count": null,
   "id": "6cfc23a7-acec-4353-8a21-38527bae640a",
   "metadata": {
    "tags": []
   },
   "outputs": [],
   "source": [
    "deck_probabilities = ...\n",
    "deck_probabilities"
   ]
  },
  {
   "cell_type": "code",
   "execution_count": null,
   "id": "023e2487",
   "metadata": {
    "deletable": false,
    "editable": false
   },
   "outputs": [],
   "source": [
    "grader.check(\"task_11\")"
   ]
  },
  {
   "cell_type": "markdown",
   "id": "0aa64d17-486f-4350-b571-88a80b697199",
   "metadata": {},
   "source": [
    "#### Task 12 📍"
   ]
  },
  {
   "cell_type": "markdown",
   "id": "2ed7a554-f7e7-41f5-81b2-23dd602de790",
   "metadata": {
    "deletable": false,
    "editable": false
   },
   "source": [
    "Define the function `deck_simulation_and_statistic`, which, given a sample size and an array of proportions (like the one you created in Task 11), returns the number of face cards in one simulation of drawing cards under the proportions in `pop_proportions`.\n",
    "\n",
    "**Hint**: Try using the function `sample_proportions`. \n",
    "\n",
    "_Points:_ 1"
   ]
  },
  {
   "cell_type": "code",
   "execution_count": null,
   "id": "c9792fa1-3611-4aa7-99b2-8967022372f8",
   "metadata": {
    "tags": []
   },
   "outputs": [],
   "source": [
    "def deck_simulation_and_statistic(sample_size, pop_proportions):\n",
    "    simulation = ...\n",
    "    statistic = ...\n",
    "    return statistic\n",
    "\n",
    "deck_simulation_and_statistic(13, deck_probabilities)"
   ]
  },
  {
   "cell_type": "code",
   "execution_count": null,
   "id": "e1c81a60",
   "metadata": {
    "deletable": false,
    "editable": false
   },
   "outputs": [],
   "source": [
    "grader.check(\"task_12\")"
   ]
  },
  {
   "cell_type": "markdown",
   "id": "6867c7aa-e693-48db-b6f1-c92f19b551f9",
   "metadata": {},
   "source": [
    "#### Task 13 📍"
   ]
  },
  {
   "cell_type": "markdown",
   "id": "76eaa7c1-0c46-42fd-b3d1-45d7370f481a",
   "metadata": {
    "deletable": false,
    "editable": false
   },
   "source": [
    "Use your function from the previous task to simulate the drawing of 13 cards 5,000 times using the proportions that you specified in Task 11. Keep track of all of your statistics in `deck_statistics`. \n",
    "\n",
    "\n",
    "_Points:_ 2"
   ]
  },
  {
   "cell_type": "code",
   "execution_count": null,
   "id": "c3a51857-1246-45dd-85f8-4f6f5a68a4c1",
   "metadata": {
    "tags": []
   },
   "outputs": [],
   "source": [
    "repetitions = 5000 \n",
    "...\n",
    "\n",
    "deck_statistics"
   ]
  },
  {
   "cell_type": "code",
   "execution_count": null,
   "id": "f76a7ea7",
   "metadata": {
    "deletable": false,
    "editable": false
   },
   "outputs": [],
   "source": [
    "grader.check(\"task_13\")"
   ]
  },
  {
   "cell_type": "markdown",
   "id": "ed6d791c-0948-48ae-89af-24b988f5f9ad",
   "metadata": {},
   "source": [
    "Finally, take a look at the distribution of simulated statistics."
   ]
  },
  {
   "cell_type": "code",
   "execution_count": null,
   "id": "1428eee9-c7ad-4411-8f5f-28b184e0219a",
   "metadata": {},
   "outputs": [],
   "source": [
    "#Draw a distribution of statistics \n",
    "Table().with_column('Deck Statistics', deck_statistics).hist()"
   ]
  },
  {
   "cell_type": "markdown",
   "id": "a515782c-6169-4779-8b16-700f44395942",
   "metadata": {},
   "source": [
    "#### Task 14 📍🔎"
   ]
  },
  {
   "cell_type": "markdown",
   "id": "96238ce1-228f-4ddd-b4b9-b29b63193f48",
   "metadata": {
    "deletable": false,
    "editable": false
   },
   "source": [
    "<!-- BEGIN QUESTION -->\n",
    "\n",
    "We actually play the game once and we lose, observing 8 total face cards. Do you think it was very likely that we should have observed 8 total face cards in our play?\n",
    "\n",
    "Provide a yes/no response and an explanation for your conclusion. Make sure to reference the histogram in your explanation.\n",
    "\n",
    "_Points:_ 2"
   ]
  },
  {
   "cell_type": "markdown",
   "id": "fce41adf",
   "metadata": {},
   "source": [
    "_Type your answer here, replacing this text._"
   ]
  },
  {
   "cell_type": "markdown",
   "id": "f48c1e33-9053-42ab-8781-083142475482",
   "metadata": {
    "deletable": false,
    "editable": false
   },
   "source": [
    "<!-- END QUESTION -->\n",
    "\n",
    "## Submit your Homework to Canvas\n",
    "\n",
    "Once you have finished working on the homework tasks, prepare to submit your work in Canvas by completing the following steps.\n",
    "\n",
    "1. In the related Canvas Assignment page, check the rubric to know how you will be scored for this assignment.\n",
    "2. Double-check that you have run the code cell near the end of the notebook that contains the command `\"grader.check_all()\"`. This command will run all of the run tests on all your responses to the auto-graded tasks marked with 📍.\n",
    "3. Double-check your responses to the manually graded tasks marked with 📍🔎.\n",
    "3. Select the menu item \"File\" and \"Save Notebook\" in the notebook's Toolbar to save your work and create a specific checkpoint in the notebook's work history.\n",
    "4. Select the menu items \"File\", \"Download\" in the notebook's Toolbar to download the notebook (.ipynb) file. \n",
    "5. In the related Canvas Assignment page, click Start Assignment or New Attempt to upload the downloaded .ipynb file.\n",
    "\n",
    "**Keep in mind that the autograder does not always check for correctness. Sometimes it just checks for the format of your answer, so passing the autograder for a question does not mean you got the answer correct for that question.**"
   ]
  },
  {
   "cell_type": "markdown",
   "id": "d6d0e58e",
   "metadata": {
    "deletable": false,
    "editable": false
   },
   "source": [
    "---\n",
    "\n",
    "To double-check your work, the cell below will rerun all of the autograder tests."
   ]
  },
  {
   "cell_type": "code",
   "execution_count": null,
   "id": "05e2057e",
   "metadata": {
    "deletable": false,
    "editable": false
   },
   "outputs": [],
   "source": [
    "grader.check_all()"
   ]
  }
 ],
 "metadata": {
  "kernelspec": {
   "display_name": "Python 3 (ipykernel)",
   "language": "python",
   "name": "python3"
  },
  "language_info": {
   "codemirror_mode": {
    "name": "ipython",
    "version": 3
   },
   "file_extension": ".py",
   "mimetype": "text/x-python",
   "name": "python",
   "nbconvert_exporter": "python",
   "pygments_lexer": "ipython3",
   "version": "3.10.12"
  },
  "otter": {
   "OK_FORMAT": true,
   "assignment_name": "hw07_fa23",
   "tests": {
    "task_01": {
     "name": "task_01",
     "points": 3,
     "suites": [
      {
       "cases": [
        {
         "code": ">>> \n>>> dollar_bet_on_red('red') == 1\nTrue",
         "failure_message": "❌ Your function should return 1 when it is called on 'red'.",
         "hidden": false,
         "locked": false,
         "points": 1,
         "success_message": "✅ Your function correctly returns 1 when it is called on 'red'."
        }
       ],
       "scored": true,
       "setup": "",
       "teardown": "",
       "type": "doctest"
      }
     ]
    },
    "task_02": {
     "name": "task_02",
     "points": 3,
     "suites": [
      {
       "cases": [
        {
         "code": ">>> \n>>> isinstance(red_winnings, np.ndarray)\nTrue",
         "failure_message": "❌ red_winnings should be an array.",
         "hidden": false,
         "locked": false,
         "points": 1,
         "success_message": "✅ It seems that red_winnings is an array."
        },
        {
         "code": ">>> \n>>> wheel.labels[2] == \"Winnings: Red\"\nTrue",
         "failure_message": "❌ wheel is not a table with the correct labels.",
         "hidden": false,
         "locked": false,
         "points": 1,
         "success_message": "✅ wheel is a table with the correct labels."
        }
       ],
       "scored": true,
       "setup": "",
       "teardown": "",
       "type": "doctest"
      }
     ]
    },
    "task_03": {
     "name": "task_03",
     "points": 5,
     "suites": [
      {
       "cases": [
        {
         "code": ">>> \n>>> ten_bets.num_rows == 10\nTrue",
         "failure_message": "❌ ten_bets should have 10 rows.",
         "hidden": false,
         "locked": false,
         "points": 1,
         "success_message": "✅ ten_bets has 10 rows."
        },
        {
         "code": ">>> \n>>> set([\"Pocket\", \"Color\", \"Winnings: Red\"]) == set(ten_bets.labels)\nTrue",
         "failure_message": "❌ ten_bets should have the same column labels as wheels.",
         "hidden": false,
         "locked": false,
         "points": 1,
         "success_message": "✅ ten_bets has the same column labels as wheels."
        },
        {
         "code": ">>> \n>>> isinstance(sum_bets, int) or isinstance(sum_bets, np.int64)\nTrue",
         "failure_message": "❌ sum_bets should be an integer.",
         "hidden": false,
         "locked": false,
         "points": 1,
         "success_message": "✅ sum_bets is an integer."
        }
       ],
       "scored": true,
       "setup": "",
       "teardown": "",
       "type": "doctest"
      }
     ]
    },
    "task_04": {
     "name": "task_04",
     "points": 2,
     "suites": [
      {
       "cases": [
        {
         "code": ">>> \n>>> net_gain_red(10000) != net_gain_red(10000)\nTrue",
         "failure_message": "❌ There is essentially no chance that the net gain for 2 rounds of 10,000 bets should the same.",
         "hidden": false,
         "locked": false,
         "points": 1,
         "success_message": "✅ There is essentially no chance that the net gain for 2 rounds of 10,000 bets should the same."
        }
       ],
       "scored": true,
       "setup": "",
       "teardown": "",
       "type": "doctest"
      }
     ]
    },
    "task_05": {
     "name": "task_05",
     "points": 2,
     "suites": [
      {
       "cases": [
        {
         "code": ">>> \n>>> len(all_gains_red) == 10000\nTrue",
         "failure_message": "❌ all_gains_red should be an array with 10,000 items.",
         "hidden": false,
         "locked": false,
         "points": 1,
         "success_message": "✅ all_gains_red is an array with 10,000 items."
        }
       ],
       "scored": true,
       "setup": "",
       "teardown": "",
       "type": "doctest"
      }
     ]
    },
    "task_06": {
     "name": "task_06",
     "points": 2,
     "suites": [
      {
       "cases": [
        {
         "code": ">>> \n>>> isinstance(loss_more_than_50, bool)\nTrue",
         "failure_message": "❌ loss_more_than_50 should be a bool value.",
         "hidden": false,
         "locked": false,
         "points": 1,
         "success_message": "✅ loss_more_than_50 is a bool value."
        }
       ],
       "scored": true,
       "setup": "",
       "teardown": "",
       "type": "doctest"
      }
     ]
    },
    "task_07": {
     "name": "task_07",
     "points": 4,
     "suites": [
      {
       "cases": [
        {
         "code": ">>> \n>>> dollar_bet_on_5_6_split('5') == 17\nTrue",
         "failure_message": "❌ Your function didn't return the correct value for the 5 pocket.",
         "hidden": false,
         "locked": false,
         "points": 1,
         "success_message": "✅ Your function returned the correct value for the 5 pocket."
        },
        {
         "code": ">>> \n>>> dollar_bet_on_5_6_split('00') == -1\nTrue",
         "failure_message": "❌ Your function didn't return the correct value for the 00 pocket.",
         "hidden": false,
         "locked": false,
         "points": 1,
         "success_message": "✅ Your function returned the correct value for the 00 pocket."
        }
       ],
       "scored": true,
       "setup": "",
       "teardown": "",
       "type": "doctest"
      }
     ]
    },
    "task_08": {
     "name": "task_08",
     "points": 3,
     "suites": [
      {
       "cases": [
        {
         "code": ">>> \n>>> wheel.labels[3] == 'Winnings: 5-6 Split'\nTrue",
         "failure_message": "❌ Your last column label should be 'Winnings: 5-6 Split'.",
         "hidden": false,
         "locked": false,
         "points": 1,
         "success_message": "✅ Your last column label is 'Winnings: 5-6 Split'."
        },
        {
         "code": ">>> \n>>> wheel.where('Pocket', '5').column('Winnings: 5-6 Split').item(0) == 17\nTrue",
         "failure_message": "❌ The added column value associated with the 5 pocket is not correct.",
         "hidden": false,
         "locked": false,
         "points": 1,
         "success_message": "✅ The added column value associated with the 5 pocket is correct."
        }
       ],
       "scored": true,
       "setup": "",
       "teardown": "",
       "type": "doctest"
      }
     ]
    },
    "task_09": {
     "name": "task_09",
     "points": 2,
     "suites": [
      {
       "cases": [
        {
         "code": ">>> \n>>> len(all_gains_split) == 10000\nTrue",
         "failure_message": "❌ There should be 10,000 items in all_gains_split.",
         "hidden": false,
         "locked": false,
         "points": 1,
         "success_message": "✅ There are 10,000 items in all_gains_split."
        }
       ],
       "scored": true,
       "setup": "",
       "teardown": "",
       "type": "doctest"
      }
     ]
    },
    "task_10": {
     "name": "task_10",
     "points": 3,
     "suites": [
      {
       "cases": [
        {
         "code": ">>> \n>>> isinstance(histogram_statements, np.ndarray)\nTrue",
         "failure_message": "❌ histogram_statements should be an array.",
         "hidden": false,
         "locked": false,
         "points": 0,
         "success_message": "✅ histogram_statements is an array."
        },
        {
         "code": ">>> \n>>> isinstance(histogram_statements.item(0), int)\nTrue",
         "failure_message": "❌ histogram_statements should contain at least one integer.",
         "hidden": false,
         "locked": false,
         "points": 0,
         "success_message": "✅ histogram_statements contains at least one integer."
        }
       ],
       "scored": true,
       "setup": "",
       "teardown": "",
       "type": "doctest"
      }
     ]
    },
    "task_11": {
     "name": "task_11",
     "points": 3,
     "suites": [
      {
       "cases": [
        {
         "code": ">>> \n>>> len(deck_probabilities) == 2\nTrue",
         "failure_message": "❌ deck_probabilities should have a length 2",
         "hidden": false,
         "locked": false,
         "points": 0,
         "success_message": "✅ deck_probabilities has length 2"
        },
        {
         "code": ">>> \n>>> sum(deck_probabilities) == 1\nTrue",
         "failure_message": "❌ The sum of the values in deck_probabilities should be 1.",
         "hidden": false,
         "locked": false,
         "points": 1,
         "success_message": "✅ The sum of the values in deck_probabilities is 1."
        }
       ],
       "scored": true,
       "setup": "",
       "teardown": "",
       "type": "doctest"
      }
     ]
    },
    "task_12": {
     "name": "task_12",
     "points": 1,
     "suites": [
      {
       "cases": [
        {
         "code": ">>> \n>>> # The statistic should be between 0 and 13 face cards for a sample size of 13\n>>> num_face = deck_simulation_and_statistic(13, deck_probabilities)\n>>> 0 <= num_face <= 13\nTrue",
         "failure_message": "❌ The statistic should be between 0 and 13 face cards for a sample size of 13.",
         "hidden": false,
         "locked": false,
         "points": 1,
         "success_message": "✅ The calculated value of the statistic is a possible value."
        }
       ],
       "scored": true,
       "setup": "",
       "teardown": "",
       "type": "doctest"
      }
     ]
    },
    "task_13": {
     "name": "task_13",
     "points": 2,
     "suites": [
      {
       "cases": [
        {
         "code": ">>> \n>>> len(deck_statistics) == repetitions\nTrue",
         "failure_message": "❌ There should be exactly as many elements in deck_statistics as the number 'repetitions'.",
         "hidden": false,
         "locked": false,
         "points": 1,
         "success_message": "✅ There is exactly as many elements in deck_statistics as the number 'repetitions'."
        },
        {
         "code": ">>> \n>>> all([0 <= k <= 13 for k in deck_statistics])\nTrue",
         "failure_message": "❌ Each element of deck_statistics should be between 0 and 13 inclusive.",
         "hidden": false,
         "locked": false,
         "points": 1,
         "success_message": "✅ Each element of deck_statistics is between 0 and 13 inclusive"
        }
       ],
       "scored": true,
       "setup": "",
       "teardown": "",
       "type": "doctest"
      }
     ]
    }
   }
  }
 },
 "nbformat": 4,
 "nbformat_minor": 5
}
