{
 "cells": [
  {
   "cell_type": "code",
   "execution_count": null,
   "id": "dd4af6f7",
   "metadata": {
    "deletable": false,
    "editable": false
   },
   "outputs": [],
   "source": [
    "# Initialize Otter\n",
    "import otter\n",
    "grader = otter.Notebook(\"hw11.ipynb\")"
   ]
  },
  {
   "cell_type": "markdown",
   "id": "d122c86b-a775-48b3-8212-5a62712efc7d",
   "metadata": {},
   "source": [
    "<img style=\"display: block; margin-left: auto; margin-right: auto\" src=\"./ccsf-logo.png\" width=\"250rem;\" alt=\"The CCSF black and white logo\">"
   ]
  },
  {
   "cell_type": "markdown",
   "id": "2ff7f1d2-fc88-401d-a4d4-3e842e066f79",
   "metadata": {},
   "source": [
    "# Homework 11: Designing Experiments"
   ]
  },
  {
   "cell_type": "markdown",
   "id": "d800d4e1-0b7c-4b10-b10d-0357c6f39716",
   "metadata": {},
   "source": [
    "## References\n",
    "\n",
    "* [Why the Mean Matters](https://inferentialthinking.com/chapters/14/Why_the_Mean_Matters.html)\n",
    "* [`datascience` Documentation](https://datascience.readthedocs.io/)\n",
    "* [Python Quick Reference](https://ccsf-math-108.github.io/materials-fa23/resources/quick_reference.html)"
   ]
  },
  {
   "cell_type": "markdown",
   "id": "c83419a2-7a20-4488-a95d-157b45168566",
   "metadata": {},
   "source": [
    "## Assignment Reminders"
   ]
  },
  {
   "cell_type": "markdown",
   "id": "fb4e2718-ce22-42ee-bac3-da65137b65fe",
   "metadata": {},
   "source": [
    "- Make sure to run the code cell at the top of this notebook that starts with `# Initialize Otter` to load the auto-grader.\n",
    "- For all tasks indicated with a 🔎 that you must write explanations and sentences for, provide your answer in the designated space.\n",
    "- Throughout this assignment and all future ones, please be sure to not re-assign variables throughout the notebook! _For example, if you use `max_temperature` in your answer to one question, do not reassign it later on. Otherwise, you will fail tests that you thought you were passing previously!_\n",
    "- We encourage you to discuss this assignment with others but make sure to write and submit your own code. Refer to the syllabus to learn more about how to learn cooperatively.\n",
    "- Unless you are asked otherwise, use the non-interactive visualizations when asked to produce a visualization for a task.\n",
    "- View the related <a href=\"https://ccsf.instructure.com\" target=\"_blank\">Canvas</a> Assignment page for additional details.\n",
    "\n",
    "Run the following code cell to import the tools for this assignment."
   ]
  },
  {
   "cell_type": "code",
   "execution_count": null,
   "id": "da2cdb71-75de-4ae5-9bf2-4b1b35c0636c",
   "metadata": {
    "tags": []
   },
   "outputs": [],
   "source": [
    "from datascience import *\n",
    "import numpy as np\n",
    "%matplotlib inline\n",
    "import matplotlib.pyplot as plt\n",
    "plt.style.use('fivethirtyeight')"
   ]
  },
  {
   "cell_type": "markdown",
   "id": "6c57f13c-1bd0-4fa6-9264-cd6aef83e813",
   "metadata": {},
   "source": [
    "## Bounding the Tail of a Distribution\n",
    "\n",
    "A community has an average age of 45 years with a standard deviation of 5 years.\n",
    "\n",
    "In each task in this section, fill in the blank with a percent that makes the statement true **without further assumptions**, and explain your answer.\n",
    "\n",
    "*Note:* No credit will be given for loose bounds such as \"at least 0%\" or \"at most 100%\". Give the best answer that is possible with the information given."
   ]
  },
  {
   "cell_type": "markdown",
   "id": "76fa9063-02ee-4343-948e-c05a529f4e87",
   "metadata": {
    "deletable": false,
    "editable": false
   },
   "source": [
    "<!-- BEGIN QUESTION -->\n",
    "\n",
    "### Task 01 📍🔎"
   ]
  },
  {
   "cell_type": "markdown",
   "id": "edb00849-d1ad-4af8-a76b-e6ed301184d3",
   "metadata": {
    "deletable": false,
    "editable": false
   },
   "source": [
    "At least _______% of the people are between 25 and 65 years old.\n",
    "\n",
    "_Points:_ 2"
   ]
  },
  {
   "cell_type": "markdown",
   "id": "99f0f977",
   "metadata": {},
   "source": [
    "_Type your answer here, replacing this text._"
   ]
  },
  {
   "cell_type": "markdown",
   "id": "ed7712ee-f9b3-4f8a-8118-936ddba00ed5",
   "metadata": {
    "deletable": false,
    "editable": false
   },
   "source": [
    "<!-- END QUESTION -->\n",
    "\n",
    "<!-- BEGIN QUESTION -->\n",
    "\n",
    "### Task 02 📍🔎"
   ]
  },
  {
   "cell_type": "markdown",
   "id": "dadbe5ea-dc78-4bad-a5f2-2fac4ae1bca4",
   "metadata": {
    "deletable": false,
    "editable": false
   },
   "source": [
    "At most _______% of the people have ages that are not in the range 25 years to 65 years.\n",
    "\n",
    "_Points:_ 2"
   ]
  },
  {
   "cell_type": "markdown",
   "id": "f5a033bf",
   "metadata": {},
   "source": [
    "_Type your answer here, replacing this text._"
   ]
  },
  {
   "cell_type": "markdown",
   "id": "214121b2-3de1-4fb7-b407-d257cb74cb67",
   "metadata": {
    "deletable": false,
    "editable": false
   },
   "source": [
    "<!-- END QUESTION -->\n",
    "\n",
    "<!-- BEGIN QUESTION -->\n",
    "\n",
    "### Task 03 📍🔎"
   ]
  },
  {
   "cell_type": "markdown",
   "id": "a8df8859-3378-4225-8549-5d0f1c2869aa",
   "metadata": {
    "deletable": false,
    "editable": false
   },
   "source": [
    "At most _______% of the people are more than 65 years old.\n",
    "\n",
    "*Hint:* If you're stuck, try thinking about what the distribution may look like in this case.\n",
    "\n",
    "\n",
    "_Points:_ 2"
   ]
  },
  {
   "cell_type": "markdown",
   "id": "4ac96a91",
   "metadata": {},
   "source": [
    "_Type your answer here, replacing this text._"
   ]
  },
  {
   "cell_type": "markdown",
   "id": "6ae64111-e96e-449d-b8df-c14e4e5733e9",
   "metadata": {
    "deletable": false,
    "editable": false
   },
   "source": [
    "<!-- END QUESTION -->\n",
    "\n",
    "## Sample Size and Confidence Level"
   ]
  },
  {
   "cell_type": "markdown",
   "id": "92c8dbd8-e293-4033-87f6-97e4229a18f1",
   "metadata": {},
   "source": [
    "A data science class at the large Data 8 University wants to estimate the percentage of Facebook users among students at the school. To do this, they need to take a random sample of students. You can assume that their method of sampling is equivalent to drawing at random with replacement from students at the school.\n",
    "\n",
    "***Please review [Section 14.6](https://inferentialthinking.com/chapters/14/6/Choosing_a_Sample_Size.html#) of the textbook before proceeding with this section. Your work will go much faster that way!***"
   ]
  },
  {
   "cell_type": "markdown",
   "id": "9247be13-320f-412e-9100-89c5268ff52a",
   "metadata": {
    "deletable": false,
    "editable": false
   },
   "source": [
    "### Task 04 📍"
   ]
  },
  {
   "cell_type": "markdown",
   "id": "666c6f1f-483c-4fbf-8bee-a30b2c3f928b",
   "metadata": {
    "deletable": false,
    "editable": false
   },
   "source": [
    "Assign `smallest` to the smallest number of students they should sample to ensure that a **95%** confidence interval for the parameter has a width of no more than 6% from the left end to the right end.\n",
    "\n",
    "*Hint:* How can our data be represented to show if a student in the sample is a Facebook user? Given this, what assumptions can we make for the SD of the population? [Section 14.6](https://inferentialthinking.com/chapters/14/6/Choosing_a_Sample_Size.html#) might be helpful!\n",
    "\n",
    "*Note:* While the true smallest sample size would have to be an integer, please leave your answer in decimal format for the sake of our tests.\n",
    "\n",
    "\n",
    "_Points:_ 6"
   ]
  },
  {
   "cell_type": "code",
   "execution_count": null,
   "id": "cea3c0ea-cf5f-46d1-80d6-5b77c0e93fc1",
   "metadata": {
    "tags": []
   },
   "outputs": [],
   "source": [
    "smallest = ...\n",
    "smallest"
   ]
  },
  {
   "cell_type": "code",
   "execution_count": null,
   "id": "e78ab0f9",
   "metadata": {
    "deletable": false,
    "editable": false
   },
   "outputs": [],
   "source": [
    "grader.check(\"task_04\")"
   ]
  },
  {
   "cell_type": "markdown",
   "id": "47fafb44-0620-4df7-b7d6-de06092eb49d",
   "metadata": {
    "deletable": false,
    "editable": false
   },
   "source": [
    "<!-- BEGIN QUESTION -->\n",
    "\n",
    "### Task 05 📍🔎"
   ]
  },
  {
   "cell_type": "markdown",
   "id": "9cdc2a93-a9f2-41e1-9793-37c12653298f",
   "metadata": {
    "deletable": false,
    "editable": false
   },
   "source": [
    "Suppose the data science class decides to construct a 90% confidence interval instead of a 95% confidence interval, but they still require that the width of the interval is no more than 6% from the left end to the right end. Will they need the same sample size as in Task 04? Pick the right answer and explain further without calculation.\n",
    "\n",
    "1. Yes, they must use the same sample size.\n",
    "2. No, a smaller sample size will work.\n",
    "3. No, they will need a bigger sample.\n",
    "\n",
    "\n",
    "_Points:_ 2"
   ]
  },
  {
   "cell_type": "markdown",
   "id": "cbe77cb8",
   "metadata": {},
   "source": [
    "_Type your answer here, replacing this text._"
   ]
  },
  {
   "cell_type": "markdown",
   "id": "8c0798f9-4d04-4f48-9e59-bb297210c790",
   "metadata": {
    "deletable": false,
    "editable": false
   },
   "source": [
    "<!-- END QUESTION -->\n",
    "\n",
    "### Task 06 📍"
   ]
  },
  {
   "cell_type": "markdown",
   "id": "adff75ef-c176-4b45-b820-2176862816c4",
   "metadata": {
    "deletable": false,
    "editable": false
   },
   "source": [
    "The professor tells the class that a 90% confidence interval for the parameter is constructed exactly like a 95% confidence interval, except that you have to go only 1.65 SDs on either side of the estimate (±1.65) instead of 2 SDs on either side (±2). Assign `smallest_num` to the smallest number of students they should sample to ensure that a **90%** confidence interval for the parameter has a width of no more than 6% from the left end to the right end.\n",
    "\n",
    "*Note:* While the true smallest sample size would have to be an integer, please leave your answer in decimal format for the sake of our tests.\n",
    "\n",
    "\n",
    "_Points:_ 6"
   ]
  },
  {
   "cell_type": "code",
   "execution_count": null,
   "id": "42e34742-fbdb-4ca8-96e3-451150f6c20a",
   "metadata": {
    "tags": []
   },
   "outputs": [],
   "source": [
    "smallest_num = ...\n",
    "smallest_num"
   ]
  },
  {
   "cell_type": "code",
   "execution_count": null,
   "id": "5db10095",
   "metadata": {
    "deletable": false,
    "editable": false
   },
   "outputs": [],
   "source": [
    "grader.check(\"task_06\")"
   ]
  },
  {
   "cell_type": "markdown",
   "id": "caec37e2-fcc9-425d-a61f-bc0e82053e00",
   "metadata": {},
   "source": [
    "For this next exercise, please consult [Section 14.3.4](https://inferentialthinking.com/chapters/14/3/SD_and_the_Normal_Curve.html#the-standard-normal-cdf) of the textbook for similar examples.\n",
    "\n",
    "The students are curious about how the professor came up with the value 1.65 in Question 2.3. She says she ran the following two code cells. The first one calls the `datascience` library function `plot_normal_cdf`, which displays the proportion that is at most the specified number of SDs above average under the normal curve plotted with standard units on the horizontal axis. You can find the documentation [here](http://data8.org/datascience/util.html#datascience.util.plot_normal_cdf).\n",
    "\n",
    "*Note:* The acronym `cdf` stands for `cumulative distribution function`. It measures the proportion to the left of a specified point under a probability histogram."
   ]
  },
  {
   "cell_type": "code",
   "execution_count": null,
   "id": "1177d955-587d-4e6b-8a11-544882e41e42",
   "metadata": {},
   "outputs": [],
   "source": [
    "plot_normal_cdf(1.65)"
   ]
  },
  {
   "cell_type": "markdown",
   "id": "9c3c0a7e-5c73-4dec-a402-32e539356002",
   "metadata": {},
   "source": [
    "To run the second cell, the professor had to first import a Python library for probability and statistics:"
   ]
  },
  {
   "cell_type": "code",
   "execution_count": null,
   "id": "fabbb3a3-e913-476f-a4f1-d55749d0a568",
   "metadata": {},
   "outputs": [],
   "source": [
    "# Just run this cell\n",
    "from scipy import stats"
   ]
  },
  {
   "cell_type": "markdown",
   "id": "36ac9d4e-13ff-48d0-84cf-2aa9aee1c5ad",
   "metadata": {},
   "source": [
    "Then she used the `norm.cdf` method in the library to find the gold proportion above."
   ]
  },
  {
   "cell_type": "code",
   "execution_count": null,
   "id": "677d233b-28bb-4cd4-8cdf-bbdb2414ad16",
   "metadata": {},
   "outputs": [],
   "source": [
    "# Just run this cell\n",
    "stats.norm.cdf(1.65)"
   ]
  },
  {
   "cell_type": "markdown",
   "id": "5916cf35-fa96-4895-823c-92d704b2924e",
   "metadata": {},
   "source": [
    "*Note*: You do not need to understand how the `scipy` library or how to use the method yourself."
   ]
  },
  {
   "cell_type": "markdown",
   "id": "b4f3c318-6fd0-48dc-91a3-9809e1d5abf3",
   "metadata": {
    "deletable": false,
    "editable": false
   },
   "source": [
    "<!-- BEGIN QUESTION -->\n",
    "\n",
    "### Task 07 📍🔎"
   ]
  },
  {
   "cell_type": "markdown",
   "id": "2adc6104-874f-4213-9418-8aa3efa83edc",
   "metadata": {
    "deletable": false,
    "editable": false
   },
   "source": [
    "This shows that the percentage in a normal distribution that is at most 1.65 SDs above average is about **95%**. Explain why 1.65 is the right number of SDs to use when constructing a **90%** confidence interval.\n",
    "\n",
    "_Points:_ 2"
   ]
  },
  {
   "cell_type": "markdown",
   "id": "c8902a7c",
   "metadata": {},
   "source": [
    "_Type your answer here, replacing this text._"
   ]
  },
  {
   "cell_type": "markdown",
   "id": "7f1ec440",
   "metadata": {
    "deletable": false,
    "editable": false
   },
   "source": [
    "<!-- END QUESTION -->\n",
    "\n"
   ]
  },
  {
   "cell_type": "code",
   "execution_count": null,
   "id": "0cea4896-664e-4032-bb14-053c2506e6cd",
   "metadata": {},
   "outputs": [],
   "source": [
    "# Just run this cell, do not change it.\n",
    "stats.norm.cdf(2.33)"
   ]
  },
  {
   "cell_type": "markdown",
   "id": "6a83b2f0-b06e-419c-b27b-39f5501e39cc",
   "metadata": {
    "deletable": false,
    "editable": false
   },
   "source": [
    "### Task 08 📍"
   ]
  },
  {
   "cell_type": "markdown",
   "id": "3901400d-d1eb-4944-986f-34d33a6e502a",
   "metadata": {
    "deletable": false,
    "editable": false
   },
   "source": [
    "The cell above shows that the proportion that is at most 2.33 SDs above average in a normal distribution is 99%. Assign `option` to the right option (1, 2, 3, 4) to fill in the blank:\n",
    "\n",
    "If you start at the estimate and go 2.33 SDs on either side, then you will get a _______% confidence interval for the parameter.\n",
    "\n",
    "1. 99.5\n",
    "2. 99\n",
    "3. 98.5\n",
    "4. 98\n",
    "\n",
    "\n",
    "\n",
    "_Points:_ 6"
   ]
  },
  {
   "cell_type": "code",
   "execution_count": null,
   "id": "ef245f4e-2f9a-4785-9c47-cf179ccb4d27",
   "metadata": {
    "tags": []
   },
   "outputs": [],
   "source": [
    "option = ...\n",
    "option"
   ]
  },
  {
   "cell_type": "code",
   "execution_count": null,
   "id": "b4f399f1",
   "metadata": {
    "deletable": false,
    "editable": false
   },
   "outputs": [],
   "source": [
    "grader.check(\"task_08\")"
   ]
  },
  {
   "cell_type": "markdown",
   "id": "54fb075b-7b7a-4f6e-bc50-b956dd12f4fc",
   "metadata": {},
   "source": [
    "## Polling and the Normal Distribution"
   ]
  },
  {
   "cell_type": "markdown",
   "id": "bcca1146-2a1d-409e-868e-acfe23d3687a",
   "metadata": {},
   "source": [
    "Michelle is a statistical consultant, and she works for a group that supports Proposition 68 (which would mandate labeling of all horizontal and vertical axes) called Yes on 68.  They want to know how many Californians will vote for the proposition.\n",
    "\n",
    "Michelle polls a uniform random sample of all California voters, and she finds that 210 of the 400 sampled voters will vote in favor of the proposition. We have provided a table for you below which has 3 columns: the first two columns are identical to `sample`. The third column contains the proportion of total voters that chose each option."
   ]
  },
  {
   "cell_type": "code",
   "execution_count": null,
   "id": "14066787-33b5-4506-8c1c-9e5b24b984df",
   "metadata": {
    "ExecuteTime": {
     "end_time": "2018-03-20T04:34:23.388186Z",
     "start_time": "2018-03-20T04:34:23.372185Z"
    },
    "manual_problem_id": "sample_with_proportions"
   },
   "outputs": [],
   "source": [
    "sample = Table().with_columns(\n",
    "    \"Vote\",  make_array(\"Yes\", \"No\"),\n",
    "    \"Count\", make_array(210,   190))\n",
    "\n",
    "sample_size = sum(sample.column(\"Count\"))\n",
    "sample_with_proportions = sample.with_column(\"Proportion\", sample.column(\"Count\") / sample_size)\n",
    "sample_with_proportions"
   ]
  },
  {
   "cell_type": "markdown",
   "id": "4d09da6e-0310-496c-94f4-f7a8d81ed4bf",
   "metadata": {
    "deletable": false,
    "editable": false
   },
   "source": [
    "### Task 09 📍"
   ]
  },
  {
   "cell_type": "markdown",
   "id": "e1e06433-bd0b-4aea-9970-207abb227cc8",
   "metadata": {
    "deletable": false,
    "editable": false
   },
   "source": [
    "Michelle wants to use 10,000 bootstrap resamples to compute a confidence interval for the proportion of all California voters who will vote Yes.  \n",
    "\n",
    "Fill in the next cell to simulate an empirical distribution of Yes proportions. Use bootstrap resampling to simulate 10,000 election outcomes, and assign `resample_yes_proportions` to contain the Yes proportion of each bootstrap resample. Then, visualize `resample_yes_proportions` with a histogram. **You should see a bell-shaped curve centered near the proportion of Yes in the original sample.**\n",
    "\n",
    "*Hint:* `sample_proportions` may be useful here!\n",
    "\n",
    "\n",
    "_Points:_ 6"
   ]
  },
  {
   "cell_type": "code",
   "execution_count": null,
   "id": "a247d908-bbe1-4c0d-aed4-de3a2a6c7b95",
   "metadata": {
    "ExecuteTime": {
     "end_time": "2018-03-20T04:35:22.190065Z",
     "start_time": "2018-03-20T04:35:21.777769Z"
    },
    "manual_problem_id": "resample_yes_proportions",
    "tags": []
   },
   "outputs": [],
   "source": [
    "resample_yes_proportions = make_array()\n",
    "for i in np.arange(10000):\n",
    "    resample = ...\n",
    "    resample_yes_proportions = ...\n",
    "Table().with_column(\"Resample Yes proportion\", resample_yes_proportions).hist(bins=np.arange(.2, .8, .01))"
   ]
  },
  {
   "cell_type": "code",
   "execution_count": null,
   "id": "72a57661",
   "metadata": {
    "deletable": false,
    "editable": false
   },
   "outputs": [],
   "source": [
    "grader.check(\"task_09\")"
   ]
  },
  {
   "cell_type": "markdown",
   "id": "7a953c9f-55b7-4edb-a491-d2ddfb086c2f",
   "metadata": {
    "deletable": false,
    "editable": false
   },
   "source": [
    "<!-- BEGIN QUESTION -->\n",
    "\n",
    "### Task 10 📍🔎"
   ]
  },
  {
   "cell_type": "markdown",
   "id": "4bed39c0-b806-4b68-aec4-715c8c4b9730",
   "metadata": {
    "deletable": false,
    "editable": false
   },
   "source": [
    "Why does the Central Limit Theorem (CLT) apply in this situation, and how does it explain the distribution we see above?\n",
    "\n",
    "\n",
    "_Points:_ 2"
   ]
  },
  {
   "cell_type": "markdown",
   "id": "fc5e15b7",
   "metadata": {},
   "source": [
    "_Type your answer here, replacing this text._"
   ]
  },
  {
   "cell_type": "markdown",
   "id": "924edda7-f55e-4c21-9594-2433bc09d857",
   "metadata": {
    "deletable": false,
    "editable": false
   },
   "source": [
    "<!-- END QUESTION -->\n",
    "\n",
    "In a population whose members are 0 and 1, there is a simple formula for the **standard deviation of that population**:\n",
    "\n",
    "$$\\text{standard deviation of population} = \\sqrt{(\\text{proportion of 0s}) \\times (\\text{proportion of 1s})}$$\n",
    "\n",
    "(Figuring out this formula, starting from the definition of the standard deviation, is an fun exercise for those who enjoy algebra.)"
   ]
  },
  {
   "cell_type": "markdown",
   "id": "d257aef8-36ed-4245-bd19-b46414fb44c5",
   "metadata": {
    "deletable": false,
    "editable": false
   },
   "source": [
    "### Task 11 📍"
   ]
  },
  {
   "cell_type": "markdown",
   "id": "39f2e60c-2546-4548-9b3a-d57225490d15",
   "metadata": {
    "deletable": false,
    "editable": false
   },
   "source": [
    " Using only the Central Limit Theorem and the numbers of Yes and No voters in our sample of 400, *algebraically* compute the predicted standard deviation of the `resample_yes_proportions` array. Assign this number to `approximate_sd`. **Do not access the data in `resample_yes_proportions` in any way.**\n",
    "\n",
    "Remember that the standard deviation of the sample means can be computed from the population SD and the size of the sample (the formula above might be helpful). If we do not know the population SD, we can use the sample SD as a reasonable approximation in its place. [This section](https://inferentialthinking.com/chapters/14/5/Variability_of_the_Sample_Mean.html#the-sd-of-all-the-sample-means) of the textbook also may be helpful.\n",
    "\n",
    "\n",
    "_Points:_ 6"
   ]
  },
  {
   "cell_type": "code",
   "execution_count": null,
   "id": "286751e0-63c5-4bab-ae57-99258a49b6e0",
   "metadata": {
    "ExecuteTime": {
     "end_time": "2018-03-20T04:35:33.660846Z",
     "start_time": "2018-03-20T04:35:33.652810Z"
    },
    "manual_problem_id": "approximate_sd",
    "tags": []
   },
   "outputs": [],
   "source": [
    "approx_pop_sd = ...\n",
    "approximate_sd = ...\n",
    "approximate_sd"
   ]
  },
  {
   "cell_type": "code",
   "execution_count": null,
   "id": "e75a6dc6",
   "metadata": {
    "deletable": false,
    "editable": false
   },
   "outputs": [],
   "source": [
    "grader.check(\"task_11\")"
   ]
  },
  {
   "cell_type": "markdown",
   "id": "9934e040-dd7e-4cc7-bac4-985822bc40a0",
   "metadata": {
    "deletable": false,
    "editable": false
   },
   "source": [
    "### Task 12 📍"
   ]
  },
  {
   "cell_type": "markdown",
   "id": "9e3adf28-0eba-49e1-bc01-0ea8bd288dee",
   "metadata": {
    "deletable": false,
    "editable": false
   },
   "source": [
    "Compute the standard deviation of the array `resample_yes_proportions`, which will act as an approximation to the true SD of the possible sample proportions. This will help verify whether your answer to question 3.3 is approximately correct.\n",
    "\n",
    "\n",
    "_Points:_ 6"
   ]
  },
  {
   "cell_type": "code",
   "execution_count": null,
   "id": "b78a2627-27cf-4156-a986-33163239a45f",
   "metadata": {
    "ExecuteTime": {
     "end_time": "2018-03-20T04:35:34.753988Z",
     "start_time": "2018-03-20T04:35:34.745953Z"
    },
    "manual_problem_id": "exact_sd",
    "tags": []
   },
   "outputs": [],
   "source": [
    "exact_sd = ...\n",
    "exact_sd"
   ]
  },
  {
   "cell_type": "code",
   "execution_count": null,
   "id": "dbd734f1",
   "metadata": {
    "deletable": false,
    "editable": false
   },
   "outputs": [],
   "source": [
    "grader.check(\"task_12\")"
   ]
  },
  {
   "cell_type": "markdown",
   "id": "91b26b95-f56f-4051-9062-e2e8a5e2c10d",
   "metadata": {
    "deletable": false,
    "editable": false
   },
   "source": [
    "### Task 13 📍"
   ]
  },
  {
   "cell_type": "markdown",
   "id": "62bc8d53-e50e-4104-bbbd-1e0c457f49fb",
   "metadata": {
    "deletable": false,
    "editable": false
   },
   "source": [
    "**Again, without accessing `resample_yes_proportions` in any way**, compute an approximate 95% confidence interval for the proportion of Yes voters in California.\n",
    "\n",
    "The cell below draws your interval as a red bar below the histogram of `resample_yes_proportions`; use that to verify that your answer looks right.\n",
    "\n",
    "*Hint:* How many SDs correspond to 95% of the distribution promised by the CLT? Recall the discussion in the textbook [here](https://inferentialthinking.com/chapters/14/3/SD_and_the_Normal_Curve.html).\n",
    "\n",
    "*Hint:* The `approximate_sd` variable you previously defined may be helpful!\n",
    "\n",
    "\n",
    "_Points:_ 6"
   ]
  },
  {
   "cell_type": "code",
   "execution_count": null,
   "id": "a5992bfa-3f83-45d5-9679-b5c8cb227671",
   "metadata": {
    "ExecuteTime": {
     "end_time": "2018-03-20T04:35:42.572582Z",
     "start_time": "2018-03-20T04:35:42.560545Z"
    },
    "manual_problem_id": "ci_without_data",
    "tags": []
   },
   "outputs": [],
   "source": [
    "lower_limit = ...\n",
    "upper_limit = ...\n",
    "print('lower:', lower_limit, 'upper:', upper_limit)"
   ]
  },
  {
   "cell_type": "code",
   "execution_count": null,
   "id": "7a52e12a",
   "metadata": {
    "deletable": false,
    "editable": false
   },
   "outputs": [],
   "source": [
    "grader.check(\"task_13\")"
   ]
  },
  {
   "cell_type": "code",
   "execution_count": null,
   "id": "42483705-0b07-4ada-b360-98436c6ef0bb",
   "metadata": {
    "editable": false
   },
   "outputs": [],
   "source": [
    "# Run this cell to plot your confidence interval.\n",
    "Table().with_column(\"Resample Yes proportion\", resample_yes_proportions).hist(bins=np.arange(.2, .8, .01))\n",
    "plt.plot(make_array(lower_limit, upper_limit), make_array(0, 0), c='r', lw=10);"
   ]
  },
  {
   "cell_type": "markdown",
   "id": "478da4c0-06ab-48b5-8764-fc026702e63f",
   "metadata": {},
   "source": [
    "Your confidence interval should overlap the number 0.5.  That means we can't be very sure whether Proposition 68 is winning, even though the sample Yes proportion is a bit above 0.5.\n",
    "\n",
    "The Yes on 68 campaign really needs to know whether they're winning.  It's impossible to be absolutely sure without polling the whole population, but they'd be okay if the standard deviation of the sample mean were only 0.005.  They ask Michelle to run a new poll with a sample size that's large enough to achieve that.  (Polling is expensive, so the sample also shouldn't be bigger than necessary.)\n",
    "\n",
    "Michelle consults Chapter 14 of your textbook.  Instead of making the conservative assumption that the population standard deviation is 0.5 (coding Yes voters as 1 and No voters as 0), she decides to assume that it's equal to the standard deviation of the sample,\n",
    "\n",
    "$$\\sqrt{(\\text{Yes proportion in the sample}) \\times (\\text{No proportion in the sample})}.$$\n",
    "\n",
    "Under that assumption, Michelle decides that a sample of 9,975 would suffice."
   ]
  },
  {
   "cell_type": "markdown",
   "id": "a4653952-b7bd-4beb-b598-d52a6ab2ebe4",
   "metadata": {
    "deletable": false,
    "editable": false
   },
   "source": [
    "### Task 14 📍"
   ]
  },
  {
   "cell_type": "markdown",
   "id": "22ead97f-5780-4a97-9e3d-637fd3db7529",
   "metadata": {
    "deletable": false,
    "editable": false
   },
   "source": [
    "Does Michelle's sample size achieve the desired standard deviation of sample means? What SD would you achieve with a smaller sample size? A higher sample size?\n",
    "\n",
    "To explore this, first compute the SD of sample means obtained by using Michelle's sample size.\n",
    "\n",
    "_Points:_ 5"
   ]
  },
  {
   "cell_type": "code",
   "execution_count": null,
   "id": "a4ec8788-a812-4947-9cdf-542f972ac3ab",
   "metadata": {
    "ExecuteTime": {
     "end_time": "2018-03-20T04:35:45.882794Z",
     "start_time": "2018-03-20T04:35:45.870760Z"
    },
    "manual_problem_id": "michelle_sample_mean_sd",
    "tags": []
   },
   "outputs": [],
   "source": [
    "estimated_population_sd = ...\n",
    "michelle_sample_size = ...\n",
    "michelle_sample_mean_sd = ...\n",
    "print(\"With Michelle's sample size, you would predict a sample mean SD of %f.\" % michelle_sample_mean_sd)"
   ]
  },
  {
   "cell_type": "code",
   "execution_count": null,
   "id": "a96819ff",
   "metadata": {
    "deletable": false,
    "editable": false
   },
   "outputs": [],
   "source": [
    "grader.check(\"task_14\")"
   ]
  },
  {
   "cell_type": "markdown",
   "id": "00ed545d-f62e-4f69-82ba-15a183ba7ece",
   "metadata": {
    "deletable": false,
    "editable": false
   },
   "source": [
    "### Task 15 📍"
   ]
  },
  {
   "cell_type": "markdown",
   "id": "c4dbfc13-6798-4911-8fdb-0ba2476be249",
   "metadata": {
    "deletable": false,
    "editable": false
   },
   "source": [
    "Next, compute the SD of the sample means that you would get from a smaller sample size. Ideally, you should pick a number that is significantly smaller, but any sample size smaller than Michelle's will do.*\n",
    "\n",
    "\n",
    "_Points:_ 5"
   ]
  },
  {
   "cell_type": "code",
   "execution_count": null,
   "id": "7eb3dc7f-90bf-4d3b-832e-957b5a573398",
   "metadata": {
    "ExecuteTime": {
     "end_time": "2018-03-20T04:35:47.010246Z",
     "start_time": "2018-03-20T04:35:47.002724Z"
    },
    "manual_problem_id": "smaller_sample_size",
    "tags": []
   },
   "outputs": [],
   "source": [
    "smaller_sample_size = ...\n",
    "smaller_sample_mean_sd = ...\n",
    "print(\"With this smaller sample size, you would predict a sample mean SD of %f\" % smaller_sample_mean_sd)"
   ]
  },
  {
   "cell_type": "code",
   "execution_count": null,
   "id": "a894bb9c",
   "metadata": {
    "deletable": false,
    "editable": false
   },
   "outputs": [],
   "source": [
    "grader.check(\"task_15\")"
   ]
  },
  {
   "cell_type": "markdown",
   "id": "6cc2bbc8-2ae4-44ba-b005-6c565494fa29",
   "metadata": {
    "deletable": false,
    "editable": false
   },
   "source": [
    "### Task 16 📍"
   ]
  },
  {
   "cell_type": "markdown",
   "id": "56d9e951-5250-4878-b3bd-d2985176dc53",
   "metadata": {
    "deletable": false,
    "editable": false
   },
   "source": [
    "Finally, compute the SD of the sample means that you would get from a larger sample size. Here, a number that is significantly larger would make any difference more obvious, but any sample size larger than Michelle's will do.\n",
    "\n",
    "_Points:_ 5"
   ]
  },
  {
   "cell_type": "code",
   "execution_count": null,
   "id": "c9d63b94-fa91-4575-812a-886d42720580",
   "metadata": {
    "ExecuteTime": {
     "end_time": "2018-03-20T04:35:48.098047Z",
     "start_time": "2018-03-20T04:35:48.089414Z"
    },
    "manual_problem_id": "larger_sample_mean_sd",
    "tags": []
   },
   "outputs": [],
   "source": [
    "larger_sample_size = ...\n",
    "larger_sample_mean_sd = ...\n",
    "print(\"With this larger sample size, you would predict a sample mean SD of %f\" % larger_sample_mean_sd)"
   ]
  },
  {
   "cell_type": "code",
   "execution_count": null,
   "id": "dbebdc14",
   "metadata": {
    "deletable": false,
    "editable": false
   },
   "outputs": [],
   "source": [
    "grader.check(\"task_16\")"
   ]
  },
  {
   "cell_type": "markdown",
   "id": "e105463c-56a2-42fa-a68b-bf71f5f17cf0",
   "metadata": {
    "deletable": false,
    "editable": false
   },
   "source": [
    "### Task 17 📍"
   ]
  },
  {
   "cell_type": "markdown",
   "id": "9381c19f-6788-4092-bffa-7bde8414b7bb",
   "metadata": {
    "deletable": false,
    "editable": false
   },
   "source": [
    "Based on this, was Michelle's sample size approximately the minimum sufficient sample, given her assumption that the sample SD is the same as the population SD? Assign `min_sufficient` to `True` if 9,975 was indeed approximately the minimum sufficient sample, and `False` if it wasn't.\n",
    "\n",
    "\n",
    "_Points:_ 4"
   ]
  },
  {
   "cell_type": "code",
   "execution_count": null,
   "id": "e718ea6f-a67f-455a-babe-d5f3035b4d73",
   "metadata": {
    "ExecuteTime": {
     "end_time": "2018-03-20T04:35:49.134092Z",
     "start_time": "2018-03-20T04:35:49.126066Z"
    },
    "manual_problem_id": "min_sufficient",
    "tags": []
   },
   "outputs": [],
   "source": [
    "min_sufficient = ...\n",
    "min_sufficient"
   ]
  },
  {
   "cell_type": "code",
   "execution_count": null,
   "id": "acfb66d4",
   "metadata": {
    "deletable": false,
    "editable": false
   },
   "outputs": [],
   "source": [
    "grader.check(\"task_17\")"
   ]
  },
  {
   "cell_type": "markdown",
   "id": "f48c1e33-9053-42ab-8781-083142475482",
   "metadata": {},
   "source": [
    "## Submit your Homework to Canvas\n",
    "\n",
    "Once you have finished working on the homework tasks, prepare to submit your work in Canvas by completing the following steps.\n",
    "\n",
    "1. In the related Canvas Assignment page, check the rubric to know how you will be scored for this assignment.\n",
    "2. Double-check that you have run the code cell near the end of the notebook that contains the command `\"grader.check_all()\"`. This command will run all of the run tests on all your responses to the auto-graded tasks marked with 📍.\n",
    "3. Double-check your responses to the manually graded tasks marked with 📍🔎.\n",
    "3. Select the menu item \"File\" and \"Save Notebook\" in the notebook's Toolbar to save your work and create a specific checkpoint in the notebook's work history.\n",
    "4. Select the menu items \"File\", \"Download\" in the notebook's Toolbar to download the notebook (.ipynb) file. \n",
    "5. In the related Canvas Assignment page, click Start Assignment or New Attempt to upload the downloaded .ipynb file.\n",
    "\n",
    "**Keep in mind that the auto-grader does not always check for correctness. Sometimes it just checks for the format of your answer, so passing the auto-grader for a task does not mean you got the answer correct for that task.**"
   ]
  },
  {
   "cell_type": "markdown",
   "id": "7a934862",
   "metadata": {
    "deletable": false,
    "editable": false
   },
   "source": [
    "---\n",
    "\n",
    "To double-check your work, the cell below will rerun all of the autograder tests."
   ]
  },
  {
   "cell_type": "code",
   "execution_count": null,
   "id": "d4fb79cd",
   "metadata": {
    "deletable": false,
    "editable": false
   },
   "outputs": [],
   "source": [
    "grader.check_all()"
   ]
  }
 ],
 "metadata": {
  "kernelspec": {
   "display_name": "Python 3 (ipykernel)",
   "language": "python",
   "name": "python3"
  },
  "language_info": {
   "codemirror_mode": {
    "name": "ipython",
    "version": 3
   },
   "file_extension": ".py",
   "mimetype": "text/x-python",
   "name": "python",
   "nbconvert_exporter": "python",
   "pygments_lexer": "ipython3",
   "version": "3.10.12"
  },
  "otter": {
   "OK_FORMAT": true,
   "assignment_name": "hw11_fa23",
   "tests": {
    "task_04": {
     "name": "task_04",
     "points": 6,
     "suites": [
      {
       "cases": [
        {
         "code": ">>> 1100 <= smallest <= 1150\nTrue",
         "failure_message": "❌ smallest should represent a value between 110 and 1150, inclusive.",
         "hidden": false,
         "locked": false,
         "points": 2,
         "success_message": "✅ smallest represents a value between 110 and 1150, inclusive."
        }
       ],
       "scored": true,
       "setup": "",
       "teardown": "",
       "type": "doctest"
      }
     ]
    },
    "task_06": {
     "name": "task_06",
     "points": 6,
     "suites": [
      {
       "cases": [
        {
         "code": ">>> 700 <= smallest_num <= 800\nTrue",
         "failure_message": "❌ smallest_num should represent a value between 700 and 800, inclusive.",
         "hidden": false,
         "locked": false,
         "points": 2,
         "success_message": "✅ smallest_num represents a value between 700 and 800, inclusive."
        }
       ],
       "scored": true,
       "setup": "",
       "teardown": "",
       "type": "doctest"
      }
     ]
    },
    "task_08": {
     "name": "task_08",
     "points": 6,
     "suites": [
      {
       "cases": [
        {
         "code": ">>> option in {1, 2, 3, 4}\nTrue",
         "failure_message": "❌ option should represent 1, 2, 3, or 4.",
         "hidden": false,
         "locked": false,
         "points": 2,
         "success_message": "✅ option represents 1, 2, 3, or 4."
        }
       ],
       "scored": true,
       "setup": "",
       "teardown": "",
       "type": "doctest"
      }
     ]
    },
    "task_09": {
     "name": "task_09",
     "points": 6,
     "suites": [
      {
       "cases": [
        {
         "code": ">>> len(resample_yes_proportions) == 10000\nTrue",
         "failure_message": "❌ resample_yes_proportions should contain 10,000 items.",
         "hidden": false,
         "locked": false,
         "points": 2,
         "success_message": "✅ resample_yes_proportions contains 10,000 items."
        },
        {
         "code": ">>> 0 <= abs(np.mean(resample_yes_proportions) - 0.525) < 0.025 and 0 <= np.std(resample_yes_proportions) < 0.08\nTrue",
         "failure_message": "❌ The mean and standard deviation of resample_yes_proportions does not seem possible.",
         "hidden": false,
         "locked": false,
         "points": 4,
         "success_message": "✅ The mean and standard deviation of resample_yes_proportions seems possible."
        }
       ],
       "scored": true,
       "setup": "",
       "teardown": "",
       "type": "doctest"
      }
     ]
    },
    "task_11": {
     "name": "task_11",
     "points": 6,
     "suites": [
      {
       "cases": [
        {
         "code": ">>> approximate_sd < 0.025\nTrue",
         "failure_message": "❌ approximate_sd should be less than 0.025.",
         "hidden": false,
         "locked": false,
         "points": 2,
         "success_message": "✅ approximate_sd is less than 0.025."
        }
       ],
       "scored": true,
       "setup": "",
       "teardown": "",
       "type": "doctest"
      }
     ]
    },
    "task_12": {
     "name": "task_12",
     "points": 6,
     "suites": [
      {
       "cases": [
        {
         "code": ">>> exact_sd < 0.05\nTrue",
         "failure_message": "❌ exact_sd should be less than 0.05",
         "hidden": false,
         "locked": false,
         "points": 2,
         "success_message": "✅ exact_sd is less than 0.05"
        }
       ],
       "scored": true,
       "setup": "",
       "teardown": "",
       "type": "doctest"
      }
     ]
    },
    "task_13": {
     "name": "task_13",
     "points": 6,
     "suites": [
      {
       "cases": [
        {
         "code": ">>> 0.4 <= lower_limit < upper_limit <= 0.7\nTrue",
         "failure_message": "❌ The lower_limit and upper_limit values do not seem possible.",
         "hidden": false,
         "locked": false,
         "points": 2,
         "success_message": "✅ The lower_limit and upper_limit values seem possible."
        }
       ],
       "scored": true,
       "setup": "",
       "teardown": "",
       "type": "doctest"
      }
     ]
    },
    "task_14": {
     "name": "task_14",
     "points": 6,
     "suites": [
      {
       "cases": [
        {
         "code": ">>> isinstance(michelle_sample_size, (int, np.integer))\nTrue",
         "failure_message": "❌ ",
         "hidden": false,
         "locked": false,
         "points": 0.5,
         "success_message": "✅ "
        }
       ],
       "scored": true,
       "setup": "",
       "teardown": "",
       "type": "doctest"
      }
     ]
    },
    "task_15": {
     "name": "task_15",
     "points": 5,
     "suites": [
      {
       "cases": [
        {
         "code": ">>> smaller_sample_size < michelle_sample_size\nTrue",
         "failure_message": "❌ smaller_sample_size should be less than michelle_sample_size.",
         "hidden": false,
         "locked": false,
         "points": 1,
         "success_message": "✅ smaller_sample_size is less than michelle_sample_size."
        }
       ],
       "scored": true,
       "setup": "",
       "teardown": "",
       "type": "doctest"
      }
     ]
    },
    "task_16": {
     "name": "task_16",
     "points": 5,
     "suites": [
      {
       "cases": [
        {
         "code": ">>> larger_sample_size > michelle_sample_size\nTrue",
         "failure_message": "❌ larger_sample_size should be greater than michelle_sample_size.",
         "hidden": false,
         "locked": false,
         "points": 1,
         "success_message": "✅ larger_sample_size is greater than michelle_sample_size."
        }
       ],
       "scored": true,
       "setup": "",
       "teardown": "",
       "type": "doctest"
      }
     ]
    },
    "task_17": {
     "name": "task_17",
     "points": 4,
     "suites": [
      {
       "cases": [
        {
         "code": ">>> isinstance(min_sufficient, bool)\nTrue",
         "failure_message": "❌ min_sufficient should be a Boolean value.",
         "hidden": false,
         "locked": false,
         "points": 2,
         "success_message": "✅ min_sufficient is a Boolean value."
        }
       ],
       "scored": true,
       "setup": "",
       "teardown": "",
       "type": "doctest"
      }
     ]
    }
   }
  }
 },
 "nbformat": 4,
 "nbformat_minor": 5
}
