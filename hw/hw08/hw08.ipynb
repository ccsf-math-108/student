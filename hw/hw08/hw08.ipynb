{
 "cells": [
  {
   "cell_type": "code",
   "execution_count": null,
   "id": "3f71dc16",
   "metadata": {
    "deletable": false,
    "editable": false
   },
   "outputs": [],
   "source": [
    "# Initialize Otter\n",
    "import otter\n",
    "grader = otter.Notebook(\"hw08.ipynb\")"
   ]
  },
  {
   "cell_type": "markdown",
   "id": "d122c86b-a775-48b3-8212-5a62712efc7d",
   "metadata": {},
   "source": [
    "<img style=\"display: block; margin-left: auto; margin-right: auto\" src=\"./ccsf-logo.png\" width=\"250rem;\" alt=\"The CCSF black and white logo\">"
   ]
  },
  {
   "cell_type": "markdown",
   "id": "2ff7f1d2-fc88-401d-a4d4-3e842e066f79",
   "metadata": {},
   "source": [
    "# Homework 8: Testing Hypotheses"
   ]
  },
  {
   "cell_type": "markdown",
   "id": "d800d4e1-0b7c-4b10-b10d-0357c6f39716",
   "metadata": {},
   "source": [
    "## References\n",
    "\n",
    "* [Testing Hypotheses](https://www.inferentialthinking.com/chapters/11/Testing_Hypotheses.html)\n",
    "* [`datascience` Documentation](https://datascience.readthedocs.io/)\n",
    "* [Python Quick Reference](https://ccsf-math-108.github.io/materials-fa23/resources/quick_reference.html)"
   ]
  },
  {
   "cell_type": "markdown",
   "id": "c83419a2-7a20-4488-a95d-157b45168566",
   "metadata": {},
   "source": [
    "## Assignment Reminders"
   ]
  },
  {
   "cell_type": "markdown",
   "id": "fb4e2718-ce22-42ee-bac3-da65137b65fe",
   "metadata": {},
   "source": [
    "- Make sure to run the code cell at the top of this notebook that starts with `# Initialize Otter` to load the auto-grader.\n",
    "- For all tasks indicated with a 🔎 that you must write explanations and sentences for, provide your answer in the designated space.\n",
    "- Throughout this assignment and all future ones, please be sure to not re-assign variables throughout the notebook! _For example, if you use `max_temperature` in your answer to one question, do not reassign it later on. Otherwise, you will fail tests that you thought you were passing previously!_\n",
    "- We encourage you to discuss this assignment with others but make sure to write and submit your own code. Refer to the syllabus to learn more about how to learn cooperatively.\n",
    "- Unless you are asked otherwise, use the non-interactive visualizations when asked to produce a visualization for a task.\n",
    "- View the related <a href=\"https://ccsf.instructure.com\" target=\"_blank\">Canvas</a> Assignment page for additional details.\n",
    "\n",
    "Run the following code cell to import the tools for this assignment."
   ]
  },
  {
   "cell_type": "code",
   "execution_count": null,
   "id": "da2cdb71-75de-4ae5-9bf2-4b1b35c0636c",
   "metadata": {
    "tags": []
   },
   "outputs": [],
   "source": [
    "from datascience import *\n",
    "import numpy as np\n",
    "%matplotlib inline\n",
    "import matplotlib.pyplot as plt\n",
    "plt.style.use('fivethirtyeight')"
   ]
  },
  {
   "cell_type": "markdown",
   "id": "b6cb128f-2aca-4018-b110-3009267ebd5e",
   "metadata": {},
   "source": [
    "## Vaccinations Across The Nation"
   ]
  },
  {
   "cell_type": "markdown",
   "id": "6296275b-ee7d-47fd-9ebc-79b1277a5842",
   "metadata": {},
   "source": [
    "A vaccination clinic has two types of vaccines against a disease. Each person who comes in to be vaccinated gets either Vaccine 1 or Vaccine 2. One week, everyone who came in on Monday, Wednesday, and Friday was given Vaccine 1. Everyone who came in on Tuesday and Thursday was given Vaccine 2. The clinic is closed on weekends.\n",
    "\n",
    "Doctor DeNero at the clinic said, \"Oh wow, it's just like tossing a coin that lands heads with chance $\\frac{3}{5}$. Heads you get Vaccine 1 and Tails you get Vaccine 2.\"\n",
    "\n",
    "But Doctor Sahai said, \"No, it's not. We're not doing anything like tossing a coin.\"\n",
    "\n",
    "That week, the clinic gave Vaccine 1 to 211 people and Vaccine 2 to 107 people. Conduct a test of hypotheses to see which doctor's position is better supported by the data."
   ]
  },
  {
   "cell_type": "markdown",
   "id": "2b0fcccc-9cee-4ebe-9acc-4bac04909508",
   "metadata": {
    "tags": []
   },
   "source": [
    "### Task 01 📍"
   ]
  },
  {
   "cell_type": "markdown",
   "id": "03d752fc-4e92-4ec8-839a-a5067b659316",
   "metadata": {
    "deletable": false,
    "editable": false
   },
   "source": [
    "Given the information above, what was the sample size for the data, and what was the percentage of people who got **Vaccine 1?**\n",
    "\n",
    "*Note*: Your percent should be a number between 0 and 100.\n",
    "\n",
    "_Points:_ 3"
   ]
  },
  {
   "cell_type": "code",
   "execution_count": null,
   "id": "0eff1df9-ddf1-4f1d-aeb8-a965e6c87256",
   "metadata": {
    "tags": []
   },
   "outputs": [],
   "source": [
    "sample_size = ...\n",
    "percent_V1 = ...\n",
    "\n",
    "print(f\"Sample Size: {sample_size}\")\n",
    "print(f\"Vaccine 1 Percent: {percent_V1}\")"
   ]
  },
  {
   "cell_type": "code",
   "execution_count": null,
   "id": "766f4d8a",
   "metadata": {
    "deletable": false,
    "editable": false
   },
   "outputs": [],
   "source": [
    "grader.check(\"task_01\")"
   ]
  },
  {
   "cell_type": "markdown",
   "id": "51b0298c-17e9-4cee-b70a-2acc417d6e99",
   "metadata": {},
   "source": [
    "### Task 02 📍🔎"
   ]
  },
  {
   "cell_type": "markdown",
   "id": "384dc8a4-8867-40fb-9e0b-ae3e645beb3b",
   "metadata": {
    "deletable": false,
    "editable": false
   },
   "source": [
    "<!-- BEGIN QUESTION -->\n",
    "\n",
    "State the null hypothesis. It should reflect the position of either Dr. DeNero or Dr. Sahai.\n",
    "\n",
    "*Note:* Check out [11.3](https://inferentialthinking.com/chapters/11/3/Decisions_and_Uncertainty.html#step-1-the-hypotheses) for a refresher on hypotheses.\n",
    "\n",
    "_Points:_ 2"
   ]
  },
  {
   "cell_type": "markdown",
   "id": "024c9a10",
   "metadata": {},
   "source": [
    "_Type your answer here, replacing this text._"
   ]
  },
  {
   "cell_type": "markdown",
   "id": "edcb7c25-8615-4e9f-9da7-64cc3d322a6b",
   "metadata": {
    "deletable": false,
    "editable": false
   },
   "source": [
    "<!-- END QUESTION -->\n",
    "\n",
    "### Task 03 📍🔎"
   ]
  },
  {
   "cell_type": "markdown",
   "id": "09064193-e719-455c-a42e-82e1635900b5",
   "metadata": {
    "deletable": false,
    "editable": false
   },
   "source": [
    "<!-- BEGIN QUESTION -->\n",
    "\n",
    "State the alternative hypothesis. It should reflect the position of the doctor you did not choose to represent in Task 02.\n",
    "\n",
    "*Note:* Check out [11.3](https://inferentialthinking.com/chapters/11/3/Decisions_and_Uncertainty.html#step-1-the-hypotheses) for a refresher on hypotheses.\n",
    "\n",
    "_Points:_ 2"
   ]
  },
  {
   "cell_type": "markdown",
   "id": "3353edf7",
   "metadata": {},
   "source": [
    "_Type your answer here, replacing this text._"
   ]
  },
  {
   "cell_type": "markdown",
   "id": "8372706a-f353-4e04-b9cb-eda9c9757979",
   "metadata": {
    "deletable": false,
    "editable": false,
    "tags": []
   },
   "source": [
    "<!-- END QUESTION -->\n",
    "\n",
    "### Task 04 📍"
   ]
  },
  {
   "cell_type": "markdown",
   "id": "5c775476-d9c2-4b6f-bbc0-cbeacb45357a",
   "metadata": {
    "deletable": false,
    "editable": false
   },
   "source": [
    "One of the test statistics below is appropriate for testing these hypotheses. Assign the variable `valid_test_stat` to the number corresponding to the correct test statistic.\n",
    "\n",
    "1. percent of heads - 60\n",
    "2. percent of heads - 50\n",
    "3. |percent of heads - 60|\n",
    "4. |percent of heads - 50|\n",
    "\n",
    "_Points:_ 2"
   ]
  },
  {
   "cell_type": "code",
   "execution_count": null,
   "id": "319ce5a9-d043-498f-987a-efe6a210472b",
   "metadata": {
    "tags": []
   },
   "outputs": [],
   "source": [
    "valid_test_stat = ...\n",
    "valid_test_stat"
   ]
  },
  {
   "cell_type": "code",
   "execution_count": null,
   "id": "35c16965",
   "metadata": {
    "deletable": false,
    "editable": false
   },
   "outputs": [],
   "source": [
    "grader.check(\"task_04\")"
   ]
  },
  {
   "cell_type": "markdown",
   "id": "a3bb6ae6-528c-4213-844f-0630a3d9b328",
   "metadata": {
    "tags": []
   },
   "source": [
    "### Task 05 📍"
   ]
  },
  {
   "cell_type": "markdown",
   "id": "874d6350-c246-4ae4-9d4e-5988857a4de6",
   "metadata": {
    "deletable": false,
    "editable": false
   },
   "source": [
    "Using your answer from Task 01 and Task 04, find the observed value of the test statistic and assign it to the variable `observed_statistic`.\n",
    "\n",
    "_Points:_ 2"
   ]
  },
  {
   "cell_type": "code",
   "execution_count": null,
   "id": "566e20fe-2e2b-495d-91df-162707a5d90f",
   "metadata": {
    "tags": []
   },
   "outputs": [],
   "source": [
    "observed_statistic = ...\n",
    "observed_statistic"
   ]
  },
  {
   "cell_type": "code",
   "execution_count": null,
   "id": "9d91c2fc",
   "metadata": {
    "deletable": false,
    "editable": false
   },
   "outputs": [],
   "source": [
    "grader.check(\"task_05\")"
   ]
  },
  {
   "cell_type": "markdown",
   "id": "54d7a928-8bf3-402d-86c1-51ecd2a04c88",
   "metadata": {
    "tags": []
   },
   "source": [
    "### Task 06 📍"
   ]
  },
  {
   "cell_type": "markdown",
   "id": "76ca0032-7263-4fc4-b220-a559437e0d3c",
   "metadata": {
    "deletable": false,
    "editable": false
   },
   "source": [
    "In order to perform this hypothesis test, you must simulate the test statistic. From the four options below, pick the assumption that is needed for this simulation. Assign `assumption_needed` to an integer corresponding to the assumption.\n",
    "\n",
    "1. The statistic must be simulated under the null hypothesis.\n",
    "2. The statistic must be simulated under the alternative hypothesis.\n",
    "3. The statistic must be simulated under both hypotheses.\n",
    "4. No assumptions are needed. We can just simulate the statistic.\n",
    "\n",
    "_Points:_ 2"
   ]
  },
  {
   "cell_type": "code",
   "execution_count": null,
   "id": "f4911455-7f22-4361-9a36-098a4036792f",
   "metadata": {
    "tags": []
   },
   "outputs": [],
   "source": [
    "assumption_needed = ...\n",
    "assumption_needed"
   ]
  },
  {
   "cell_type": "code",
   "execution_count": null,
   "id": "68ebeda1",
   "metadata": {
    "deletable": false,
    "editable": false
   },
   "outputs": [],
   "source": [
    "grader.check(\"task_06\")"
   ]
  },
  {
   "cell_type": "markdown",
   "id": "e1cb97ef-54c5-4dbe-a94b-dece1f7beecc",
   "metadata": {},
   "source": [
    "### Task 07 📍🔎"
   ]
  },
  {
   "cell_type": "markdown",
   "id": "2d89aaa6-903b-4350-932e-530982dda2d4",
   "metadata": {
    "deletable": false,
    "editable": false
   },
   "source": [
    "<!-- BEGIN QUESTION -->\n",
    "\n",
    "Simulate 20,000 values of the test statistic under the assumption you picked in Task 06. \n",
    "\n",
    "As usual, start by defining a function that simulates one value of the statistic. Your function should use `sample_proportions`. (You may find a variable defined in Task 01 useful here!) Then, write a `for` loop to simulate multiple values and collect them in the array `simulated_statistics`.\n",
    "\n",
    "Use as many lines of code as you need. We have included the code that visualizes the distribution of the simulated values. The red dot represents the observed statistic you found in Task 05.\n",
    "\n",
    "_Points:_ 4"
   ]
  },
  {
   "cell_type": "code",
   "execution_count": null,
   "id": "68d4c2c5-4a8a-48d5-9900-a957e1b1ea8d",
   "metadata": {
    "tags": []
   },
   "outputs": [],
   "source": [
    "def one_simulated_statistic():\n",
    "    ...\n",
    "\n",
    "num_simulations = 20000\n",
    "\n",
    "simulated_statistics = ...\n",
    "for ... in ...:\n",
    "    ...\n",
    "\n",
    "# Run the this cell a few times to see how the simulated statistic changes\n",
    "one_simulated_statistic()"
   ]
  },
  {
   "cell_type": "code",
   "execution_count": null,
   "id": "35766cea-4878-4c6c-9580-2082ed2a26d0",
   "metadata": {
    "tags": []
   },
   "outputs": [],
   "source": [
    "# Run this cell to produce a histogram of the simulated statistics\n",
    "\n",
    "Table().with_columns('Simulated Statistic', simulated_statistics).hist()\n",
    "plt.scatter(observed_statistic, -0.002, color='red', s=40);"
   ]
  },
  {
   "cell_type": "markdown",
   "id": "f4fa8824-af32-4f19-bbee-ad13377af6a9",
   "metadata": {
    "deletable": false,
    "editable": false,
    "tags": []
   },
   "source": [
    "<!-- END QUESTION -->\n",
    "\n",
    "### Task 08 📍"
   ]
  },
  {
   "cell_type": "markdown",
   "id": "888a393b-0132-4bc7-96f8-2be730240536",
   "metadata": {
    "deletable": false,
    "editable": false
   },
   "source": [
    "Using `simulated_statistics`, `observed_statistic`, and `num_simulations`, find the empirical p-value based on the simulation.\n",
    "\n",
    "_Points:_ 2"
   ]
  },
  {
   "cell_type": "code",
   "execution_count": null,
   "id": "136abed3-db2a-4509-b05a-2a18146a13e0",
   "metadata": {
    "tags": []
   },
   "outputs": [],
   "source": [
    "p_value = ...\n",
    "p_value"
   ]
  },
  {
   "cell_type": "code",
   "execution_count": null,
   "id": "60b69614",
   "metadata": {
    "deletable": false,
    "editable": false
   },
   "outputs": [],
   "source": [
    "grader.check(\"task_08\")"
   ]
  },
  {
   "cell_type": "markdown",
   "id": "acda9d91-c976-486c-bcbe-a8033e8b94c5",
   "metadata": {
    "tags": []
   },
   "source": [
    "### Task 09 📍"
   ]
  },
  {
   "cell_type": "markdown",
   "id": "3bbe36ba-2516-4536-b885-5b936cb91224",
   "metadata": {
    "deletable": false,
    "editable": false
   },
   "source": [
    "Assign `correct_doctor` to the number corresponding to the correct statement below. Use the 5% cutoff for the p-value.\n",
    "\n",
    "1. The data support Dr. DeNero's position more than they support Dr. Sahai's.\n",
    "2. The data support Dr. Sahai's position more than they support Dr. DeNero's.\n",
    "\n",
    "As a reminder, here are the two claims made by Dr. DeNero and Dr. Sahai:\n",
    "> **Doctor DeNero:** \"Oh wow, it's just like tossing a coin that lands heads with chance $\\frac{3}{5}$. Heads you get Vaccine 1 and Tails you get Vaccine 2.\"\n",
    "\n",
    ">**Doctor Sahai:** \"No, it's not. We're not doing anything like tossing a coin.\"\n",
    "\n",
    "_Points:_ 2"
   ]
  },
  {
   "cell_type": "code",
   "execution_count": null,
   "id": "22931f2d-d9bf-43e4-8abf-2e94c06f55bc",
   "metadata": {
    "tags": []
   },
   "outputs": [],
   "source": [
    "correct_doctor = ...\n",
    "correct_doctor"
   ]
  },
  {
   "cell_type": "code",
   "execution_count": null,
   "id": "d034fbea",
   "metadata": {
    "deletable": false,
    "editable": false
   },
   "outputs": [],
   "source": [
    "grader.check(\"task_09\")"
   ]
  },
  {
   "cell_type": "markdown",
   "id": "6742927f-ebd3-4b99-907f-064d170d54a9",
   "metadata": {},
   "source": [
    "## Using TVD as a Test Statistic"
   ]
  },
  {
   "cell_type": "markdown",
   "id": "bffdf490-fec6-48d0-898b-e0a295e1a16e",
   "metadata": {},
   "source": [
    "Before beginning this section, please read [this section](https://inferentialthinking.com/chapters/11/2/Multiple_Categories.html#a-new-statistic-the-distance-between-two-distributions) of the textbook on TVD!"
   ]
  },
  {
   "cell_type": "markdown",
   "id": "a6f56396-780b-4f2e-b8b7-7f91627d14bc",
   "metadata": {},
   "source": [
    "**Total variation distance (TVD)** is a special type of test statistic that we use when we want to compare two distributions of *categorical data*. It is often used when we observe that a set of observed proportions/probabilities is different than what we expect under the null model. \n",
    "\n",
    "Consider a six-sided die that we roll 6,000 times. If the die is fair, we would expect that each face comes up $\\frac{1}{6}$ of the time. By random chance, a fair die won't always result in equal proportions (that is, we won't get exactly 1,000 of each face). However, if we suspect that the die might be unfair based on the data, we can conduct a hypothesis test using TVD to compare the expected [$\\frac{1}{6}$, $\\frac{1}{6}$, $\\frac{1}{6}$, $\\frac{1}{6}$, $\\frac{1}{6}$, $\\frac{1}{6}$] distribution to what is actually observed.\n",
    "\n",
    "In this part of the homework, we'll look at how we can use TVD to determine the effect that different factors have on happiness. \n",
    "\n",
    "We will be working with data from the [Gallup World Poll](https://www.gallup.com/analytics/349487/gallup-global-happiness-center.aspx#:~:text=World%20Happiness%20Report&text=Using%20the%20Gallup%20World%20Poll,about%20the%20World%20Happiness%20Report.) that is presented in the World Happiness Report, a survey of the state of global happiness. The survey ranked 155 countries by overall happiness and estimated the influence that economic production, social support, life expectancy, freedom, absence of corruption, and generosity had on population happiness. The study has been repeated for several years, but we'll be looking at data from the 2016 survey.\n",
    "\n",
    "Run the cell below to load in the `happiness_scores` table."
   ]
  },
  {
   "cell_type": "code",
   "execution_count": null,
   "id": "74091395-3ead-46f9-9195-e7a3260da1e3",
   "metadata": {},
   "outputs": [],
   "source": [
    "happiness_scores = Table.read_table(\"happiness_scores.csv\")\n",
    "happiness_scores.show(5)"
   ]
  },
  {
   "cell_type": "markdown",
   "id": "42bcb4fb-5402-48fd-910a-ab24d7ca0cc7",
   "metadata": {},
   "source": [
    "Participants in the study were asked to evaluate their life satisfaction from a scale of 0 (worst possible life) to 10 (best possible life). The responses for each country were averaged to create the `Happiness Score`.\n",
    "\n",
    "The columns `Economy (GDP per Capita)`, `Family`, `Health (Life Expectancy)`, `Freedom`, `Trust (Government Corruption)`, and `Generosity` estimate the extent to which each factor influences happiness, both for better or for worse. The happiness score is the sum of these factors; the larger a factor is, the more it contributes to overall happiness. [In other words, if you add up all the factors (in addition to a \"Difference from Dystopia\" value we excluded in the dataset), you get the happiness score.]\n",
    "\n",
    "Let's look at the different factors that affect happiness in the United States. Run the cell below to view the row in `us_happiness` that contains data for the United States."
   ]
  },
  {
   "cell_type": "code",
   "execution_count": null,
   "id": "f3fb8f41-a4aa-4397-bde9-2625de11360c",
   "metadata": {},
   "outputs": [],
   "source": [
    "us_happiness = happiness_scores.where(\"Country\", \"United States\")\n",
    "us_happiness"
   ]
  },
  {
   "cell_type": "markdown",
   "id": "40b768dd-ac6c-4071-9284-c7f8689fb42a",
   "metadata": {},
   "source": [
    "**To compare the different factors, we'll look at the proportion of the happiness score that is attributed to each variable. \n",
    "You can find these proportions in the table `us_happiness_factors` after running the cell below.**\n",
    "\n",
    "*Note:* The factors shown in `us_happiness` don't add up exactly to the happiness score, so we adjusted the proportions to  only account for the data we have access to. The proportions were found by dividing each Happiness Factor value by the sum of all Happiness Factor values in `us_happiness`."
   ]
  },
  {
   "cell_type": "code",
   "execution_count": null,
   "id": "f5e498f0-ba97-4b7e-b6bf-91ef7d50ac0f",
   "metadata": {},
   "outputs": [],
   "source": [
    "us_happiness_factors = Table().read_table(\"us_happiness_factors.csv\")\n",
    "us_happiness_factors"
   ]
  },
  {
   "cell_type": "markdown",
   "id": "fb287056-2ce1-4e12-85dc-44a4e34bc79a",
   "metadata": {},
   "source": [
    "### Task 10 📍🔎"
   ]
  },
  {
   "cell_type": "markdown",
   "id": "4405f400-7e1f-4ee1-bd56-790c13963d1d",
   "metadata": {
    "deletable": false,
    "editable": false
   },
   "source": [
    "<!-- BEGIN QUESTION -->\n",
    "\n",
    "Suppose we want to test whether or not each factor contributes the same amount to the overall Happiness Score. Define the null hypothesis, alternative hypothesis, and test statistic in the cell below. Feel free to check your work with another student or course staff.\n",
    "\n",
    "*Note:* Please format your answer as follows:\n",
    "- Null Hypothesis: ...  \n",
    "- Alternative Hypothesis: ...  \n",
    "- Test Statistic: ...  \n",
    "\n",
    "_Points:_ 3"
   ]
  },
  {
   "cell_type": "markdown",
   "id": "4944b210",
   "metadata": {},
   "source": [
    "_Type your answer here, replacing this text._"
   ]
  },
  {
   "cell_type": "markdown",
   "id": "e87b763d-4568-4fb2-8381-752823ba052e",
   "metadata": {
    "deletable": false,
    "editable": false,
    "tags": []
   },
   "source": [
    "<!-- END QUESTION -->\n",
    "\n",
    "### Task 11 📍"
   ]
  },
  {
   "cell_type": "markdown",
   "id": "c9365412-ec06-4aab-ac5b-07342534f609",
   "metadata": {
    "deletable": false,
    "editable": false
   },
   "source": [
    "Write a function `calculate_tvd` that takes in the observed distribution (`obs_dist`) and expected distribution under the null hypothesis (`null_dist`) and calculates the total variation distance. Use this function to set `observed_tvd` to be equal to the observed test statistic.\n",
    "\n",
    "_Points:_ 2"
   ]
  },
  {
   "cell_type": "code",
   "execution_count": null,
   "id": "915bb27b-fdc7-44de-8802-bb2d20a5dec9",
   "metadata": {
    "tags": []
   },
   "outputs": [],
   "source": [
    "null_distribution = np.ones(6) * (1/6)\n",
    "\n",
    "def calculate_tvd(obs_dist, null_dist):\n",
    "    ...\n",
    "    \n",
    "observed_tvd = ...\n",
    "observed_tvd"
   ]
  },
  {
   "cell_type": "code",
   "execution_count": null,
   "id": "6c42c26f",
   "metadata": {
    "deletable": false,
    "editable": false
   },
   "outputs": [],
   "source": [
    "grader.check(\"task_11\")"
   ]
  },
  {
   "cell_type": "markdown",
   "id": "41962c73-d066-4b29-a9ee-d70ba619c93e",
   "metadata": {
    "tags": []
   },
   "source": [
    "### Task 12 📍"
   ]
  },
  {
   "cell_type": "markdown",
   "id": "b517ad66-da2f-4ed2-afdb-464990e4b22c",
   "metadata": {
    "deletable": false,
    "editable": false
   },
   "source": [
    "Create an array called `simulated_tvds` that contains 10,000 simulated values under the null hypothesis. Assume that the original sample consisted of 1,000 individuals.\n",
    "\n",
    "*Hint:* The `sample_proportions` function may be helpful to you. Refer to the Python Reference Guide in Canvas."
   ]
  },
  {
   "cell_type": "code",
   "execution_count": null,
   "id": "29c0931d-c397-4ddc-827b-56236d8a1444",
   "metadata": {
    "tags": []
   },
   "outputs": [],
   "source": [
    "simulated_tvds = ...\n",
    "\n",
    "..."
   ]
  },
  {
   "cell_type": "markdown",
   "id": "f226b7ce-659b-4539-9183-d29a968f2f96",
   "metadata": {
    "deletable": false,
    "editable": false
   },
   "source": [
    "Run the cell below to plot a histogram of your simulated test statistics, as well as a red dot representing the observed value of the test statistic.\n",
    "\n",
    "_Points:_ 4"
   ]
  },
  {
   "cell_type": "code",
   "execution_count": null,
   "id": "fc6fc050-e57f-40b1-a077-c5ab9b0812ec",
   "metadata": {
    "deletable": false,
    "editable": false
   },
   "outputs": [],
   "source": [
    "Table().with_column(\"Simulated TVDs\", simulated_tvds).hist()\n",
    "plt.scatter(observed_tvd, 0, color='red', s=70, zorder=2);\n",
    "plt.show();"
   ]
  },
  {
   "cell_type": "code",
   "execution_count": null,
   "id": "21f70ca9",
   "metadata": {
    "deletable": false,
    "editable": false
   },
   "outputs": [],
   "source": [
    "grader.check(\"task_12\")"
   ]
  },
  {
   "cell_type": "markdown",
   "id": "ba863531-5671-4ca1-b7ad-c3f5d4e05d21",
   "metadata": {
    "tags": []
   },
   "source": [
    "### Task 13 📍"
   ]
  },
  {
   "cell_type": "markdown",
   "id": "8d5f16c6-2549-4949-82f5-e0e878af8cbc",
   "metadata": {
    "deletable": false,
    "editable": false
   },
   "source": [
    "Use your simulated statistics to calculate the p-value of your test. Make sure that this number is consistent with what you observed in the histogram above.\n",
    "\n",
    "_Points:_ 1"
   ]
  },
  {
   "cell_type": "code",
   "execution_count": null,
   "id": "0ffae318-469d-452b-8e7b-07e29b1b7275",
   "metadata": {
    "tags": []
   },
   "outputs": [],
   "source": [
    "p_value_tvd = ...\n",
    "p_value_tvd"
   ]
  },
  {
   "cell_type": "code",
   "execution_count": null,
   "id": "92e9c5c7",
   "metadata": {
    "deletable": false,
    "editable": false
   },
   "outputs": [],
   "source": [
    "grader.check(\"task_13\")"
   ]
  },
  {
   "cell_type": "markdown",
   "id": "f7f6e089-47a0-47f0-9a06-cfc7b6a7f1be",
   "metadata": {
    "toc-hr-collapsed": true
   },
   "source": [
    "### Task 14 📍🔎"
   ]
  },
  {
   "cell_type": "markdown",
   "id": "09e7be46-05a0-4b8d-8dae-048e81aaa0a2",
   "metadata": {
    "deletable": false,
    "editable": false
   },
   "source": [
    "<!-- BEGIN QUESTION -->\n",
    "\n",
    "What can you conclude about how each factor contributes to the overall happiness score in the US? Explain your answer using the results of your hypothesis test. Assume a p-value cutoff of 5%.\n",
    "\n",
    "_Points:_ 2"
   ]
  },
  {
   "cell_type": "markdown",
   "id": "8008a0b5",
   "metadata": {},
   "source": [
    "_Type your answer here, replacing this text._"
   ]
  },
  {
   "cell_type": "markdown",
   "id": "f48c1e33-9053-42ab-8781-083142475482",
   "metadata": {
    "deletable": false,
    "editable": false
   },
   "source": [
    "<!-- END QUESTION -->\n",
    "\n",
    "## Submit your Homework to Canvas\n",
    "\n",
    "Once you have finished working on the homework tasks, prepare to submit your work in Canvas by completing the following steps.\n",
    "\n",
    "1. In the related Canvas Assignment page, check the rubric to know how you will be scored for this assignment.\n",
    "2. Double-check that you have run the code cell near the end of the notebook that contains the command `\"grader.check_all()\"`. This command will run all of the run tests on all your responses to the auto-graded tasks marked with 📍.\n",
    "3. Double-check your responses to the manually graded tasks marked with 📍🔎.\n",
    "3. Select the menu item \"File\" and \"Save Notebook\" in the notebook's Toolbar to save your work and create a specific checkpoint in the notebook's work history.\n",
    "4. Select the menu items \"File\", \"Download\" in the notebook's Toolbar to download the notebook (.ipynb) file. \n",
    "5. In the related Canvas Assignment page, click Start Assignment or New Attempt to upload the downloaded .ipynb file.\n",
    "\n",
    "**Keep in mind that the autograder does not always check for correctness. Sometimes it just checks for the format of your answer, so passing the autograder for a question does not mean you got the answer correct for that question.**"
   ]
  },
  {
   "cell_type": "markdown",
   "id": "0f248918",
   "metadata": {
    "deletable": false,
    "editable": false
   },
   "source": [
    "---\n",
    "\n",
    "To double-check your work, the cell below will rerun all of the autograder tests."
   ]
  },
  {
   "cell_type": "code",
   "execution_count": null,
   "id": "a3e10f81",
   "metadata": {
    "deletable": false,
    "editable": false
   },
   "outputs": [],
   "source": [
    "grader.check_all()"
   ]
  }
 ],
 "metadata": {
  "kernelspec": {
   "display_name": "Python 3 (ipykernel)",
   "language": "python",
   "name": "python3"
  },
  "language_info": {
   "codemirror_mode": {
    "name": "ipython",
    "version": 3
   },
   "file_extension": ".py",
   "mimetype": "text/x-python",
   "name": "python",
   "nbconvert_exporter": "python",
   "pygments_lexer": "ipython3",
   "version": "3.10.12"
  },
  "otter": {
   "OK_FORMAT": true,
   "assignment_name": "hw08_fa23",
   "tests": {
    "task_01": {
     "name": "task_01",
     "points": 3,
     "suites": [
      {
       "cases": [
        {
         "code": ">>> isinstance(sample_size, (int, np.integer))\nTrue",
         "failure_message": "❌ sample_size should be an int",
         "hidden": false,
         "locked": false,
         "points": 0.25,
         "success_message": "✅ sample_size is an int"
        },
        {
         "code": ">>> isinstance(percent_V1, (float, np.float_)) or isinstance(percent_V1, (int, np.integer))\nTrue",
         "failure_message": "❌ percent_V1 should be numerical (float or int)",
         "hidden": false,
         "locked": false,
         "points": 0.25,
         "success_message": "✅ percent_V1 is numerical (float or int)"
        },
        {
         "code": ">>> 100 <= sample_size <= 500\nTrue",
         "failure_message": "❌ sample_size is not within a possible range of values.",
         "hidden": false,
         "locked": false,
         "points": 0.25,
         "success_message": "✅ sample_size is within a possible range of values."
        },
        {
         "code": ">>> 0 <= percent_V1 <= 100\nTrue",
         "failure_message": "❌ percent_V1 should be a value betwen 0 and 100.",
         "hidden": false,
         "locked": false,
         "points": 0.25,
         "success_message": "✅ percent_V1 is a value betwen 0 and 100."
        }
       ],
       "scored": true,
       "setup": "",
       "teardown": "",
       "type": "doctest"
      }
     ]
    },
    "task_04": {
     "name": "task_04",
     "points": 2,
     "suites": [
      {
       "cases": [
        {
         "code": ">>> isinstance(valid_test_stat, (int, np.integer))\nTrue",
         "failure_message": "❌ valid_test_stat should be an integer.",
         "hidden": false,
         "locked": false,
         "points": 0.5,
         "success_message": "✅ valid_test_stat is an integer."
        },
        {
         "code": ">>> any((valid_test_stat == x for x in np.arange(1, 5)))\nTrue",
         "failure_message": "❌ valid_test_stat should be a number between 1 and 4.",
         "hidden": false,
         "locked": false,
         "points": 0.5,
         "success_message": "✅ valid_test_stat is a number between 1 and 4."
        }
       ],
       "scored": true,
       "setup": "",
       "teardown": "",
       "type": "doctest"
      }
     ]
    },
    "task_05": {
     "name": "task_05",
     "points": 2,
     "suites": [
      {
       "cases": [
        {
         "code": ">>> isinstance(observed_statistic, (float, np.float_))\nTrue",
         "failure_message": "❌ observed_statistic should be a float.",
         "hidden": false,
         "locked": false,
         "points": 0.5,
         "success_message": "✅ observed_statistic is a float."
        },
        {
         "code": ">>> 0 <= observed_statistic <= 100\nTrue",
         "failure_message": "❌ observed_statistic should be a number between 0 and 100.",
         "hidden": false,
         "locked": false,
         "points": 0.5,
         "success_message": "✅ observed_statistic is a number between 0 and 100."
        }
       ],
       "scored": true,
       "setup": "",
       "teardown": "",
       "type": "doctest"
      }
     ]
    },
    "task_06": {
     "name": "task_06",
     "points": 2,
     "suites": [
      {
       "cases": [
        {
         "code": ">>> isinstance(assumption_needed, (int, np.integer))\nTrue",
         "failure_message": "❌ assumption_needed should be an int.",
         "hidden": false,
         "locked": false,
         "points": 0.5,
         "success_message": "✅ assumption_needed is an int."
        },
        {
         "code": ">>> 1 <= assumption_needed <= 4\nTrue",
         "failure_message": "❌ assumption_needed should be a number between 1 and 4.",
         "hidden": false,
         "locked": false,
         "points": 0.5,
         "success_message": "✅ assumption_needed is a number between 1 and 4."
        }
       ],
       "scored": true,
       "setup": "",
       "teardown": "",
       "type": "doctest"
      }
     ]
    },
    "task_08": {
     "name": "task_08",
     "points": 2,
     "suites": [
      {
       "cases": [
        {
         "code": ">>> isinstance(p_value, (float, np.float_))\nTrue",
         "failure_message": "❌ p_value should be a float.",
         "hidden": false,
         "locked": false,
         "points": 0.5,
         "success_message": "✅ p_value is a float."
        },
        {
         "code": ">>> 0 <= p_value <= 1\nTrue",
         "failure_message": "❌ p_value should be a number between 0 and 1.",
         "hidden": false,
         "locked": false,
         "points": 0.5,
         "success_message": "✅ p_value is a number between 0 and 1."
        }
       ],
       "scored": true,
       "setup": "",
       "teardown": "",
       "type": "doctest"
      }
     ]
    },
    "task_09": {
     "name": "task_09",
     "points": 2,
     "suites": [
      {
       "cases": [
        {
         "code": ">>> isinstance(correct_doctor, (int, np.integer))\nTrue",
         "failure_message": "❌ correct_doctor should be an int.",
         "hidden": false,
         "locked": false,
         "points": 0.5,
         "success_message": "✅ correct_doctor is an int."
        },
        {
         "code": ">>> any((correct_doctor == x for x in (1, 2)))\nTrue",
         "failure_message": "❌ correct_doctor should be either 1 or 2.",
         "hidden": false,
         "locked": false,
         "points": 0.5,
         "success_message": "✅ correct_doctor is either 1 or 2."
        }
       ],
       "scored": true,
       "setup": "",
       "teardown": "",
       "type": "doctest"
      }
     ]
    },
    "task_11": {
     "name": "task_11",
     "points": 2,
     "suites": [
      {
       "cases": [
        {
         "code": ">>> isinstance(observed_tvd, (float, np.float_))\nTrue",
         "failure_message": "❌ observed_tvd should be a float.",
         "hidden": false,
         "locked": false,
         "points": 1,
         "success_message": "✅ observed_tvd is a float."
        },
        {
         "code": ">>> np.isclose(round(observed_tvd, 6), 0.262086)\nTrue",
         "failure_message": "❌ observed_tvd doesn't seem correct.",
         "hidden": false,
         "locked": false,
         "points": 1,
         "success_message": "✅ observed_tvd seems correct."
        }
       ],
       "scored": true,
       "setup": "",
       "teardown": "",
       "type": "doctest"
      }
     ]
    },
    "task_12": {
     "name": "task_12",
     "points": 4,
     "suites": [
      {
       "cases": [
        {
         "code": ">>> len(simulated_tvds) == 10000\nTrue",
         "failure_message": "❌ simulated_tvds should have 10,000 items in it.",
         "hidden": false,
         "locked": false,
         "points": 1,
         "success_message": "✅ simulated_tvds has 10,000 items in it."
        },
        {
         "code": ">>> all(simulated_tvds >= 0)\nTrue",
         "failure_message": "❌ Each value in simulated_tvds should be 0 or larger.",
         "hidden": false,
         "locked": false,
         "points": 1,
         "success_message": "✅ Each value in simulated_tvds is 0 or larger."
        },
        {
         "code": ">>> len(np.unique(simulated_tvds)) != 1\nTrue",
         "failure_message": "❌ None of the values in simulated_tvds should be the same.",
         "hidden": false,
         "locked": false,
         "points": 1,
         "success_message": "✅ None of the values in simulated_tvds are the same."
        },
        {
         "code": ">>> np.mean(simulated_tvds) < 0.1\nTrue",
         "failure_message": "❌ It doesn't seem like you are simulating under the null hypothesis.",
         "hidden": false,
         "locked": false,
         "points": 1,
         "success_message": "✅ It seems like you are simulating under the null hypothesis."
        }
       ],
       "scored": true,
       "setup": "",
       "teardown": "",
       "type": "doctest"
      }
     ]
    },
    "task_13": {
     "name": "task_13",
     "points": 1,
     "suites": [
      {
       "cases": [
        {
         "code": ">>> 0 <= p_value_tvd <= 1\nTrue",
         "failure_message": "❌ p_value_tvd should be a number between 0 and 1.",
         "hidden": false,
         "locked": false,
         "points": 1,
         "success_message": "✅ p_value_tvd is a number between 0 and 1."
        }
       ],
       "scored": true,
       "setup": "",
       "teardown": "",
       "type": "doctest"
      }
     ]
    }
   }
  }
 },
 "nbformat": 4,
 "nbformat_minor": 5
}
