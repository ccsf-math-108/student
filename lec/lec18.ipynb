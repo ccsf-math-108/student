{
 "cells": [
  {
   "cell_type": "markdown",
   "id": "5ce205d7-bab4-436a-8801-4472bb108b38",
   "metadata": {
    "slideshow": {
     "slide_type": "slide"
    }
   },
   "source": [
    "<div style=\"width: 38.5%;\">\n",
    "    <p><strong>City College of San Francisco</strong><p>\n",
    "    <hr>\n",
    "    <p>MATH 108 - Foundations of Data Science</p>\n",
    "</div>"
   ]
  },
  {
   "cell_type": "markdown",
   "id": "4bba7134-f35a-41fc-bdd9-87940fb486d8",
   "metadata": {
    "slideshow": {
     "slide_type": "-"
    }
   },
   "source": [
    "# Lecture 18: Table Examples"
   ]
  },
  {
   "cell_type": "markdown",
   "id": "d22ace33-187e-4212-b883-e81730cb6178",
   "metadata": {
    "slideshow": {
     "slide_type": "-"
    }
   },
   "source": [
    "Associated Textbook Sections: [8.5](https://inferentialthinking.com/chapters/08/5/Bike_Sharing_in_the_Bay_Area.html)"
   ]
  },
  {
   "cell_type": "markdown",
   "id": "cdbea57b-854c-4320-b40c-e49c32043cd2",
   "metadata": {
    "slideshow": {
     "slide_type": "slide"
    }
   },
   "source": [
    "<div style=\"width: 38.5%;\">\n",
    "    <p><strong>City College of San Francisco</strong><p>\n",
    "    <hr>\n",
    "    <p>MATH 108 - Foundations of Data Science</p>\n",
    "</div>"
   ]
  },
  {
   "cell_type": "markdown",
   "id": "558c85d6-1084-451a-8bc9-ffbe5fa2e93f",
   "metadata": {
    "slideshow": {
     "slide_type": "slide"
    }
   },
   "source": [
    "## Outline"
   ]
  },
  {
   "cell_type": "markdown",
   "id": "d21cc630-74da-44da-bfc8-c857c7c5bbd8",
   "metadata": {
    "slideshow": {
     "slide_type": "-"
    }
   },
   "source": [
    "* [Table Review](#Table-Review)\n",
    "* [Bike Sharing in SF Bay Area](#Bike-Sharing-in-SF-Bay-Area)"
   ]
  },
  {
   "cell_type": "markdown",
   "id": "de1e4664-c6cd-44ad-beb9-80fbb070c663",
   "metadata": {
    "slideshow": {
     "slide_type": "slide"
    }
   },
   "source": [
    "## Set Up the Notebook"
   ]
  },
  {
   "cell_type": "code",
   "execution_count": null,
   "id": "d0652102-08ee-456a-8d79-284cc05e9f93",
   "metadata": {
    "slideshow": {
     "slide_type": "-"
    }
   },
   "outputs": [],
   "source": [
    "from datascience import *\n",
    "import numpy as np\n",
    "%matplotlib inline\n",
    "import matplotlib.pyplot as plt\n",
    "plt.style.use('fivethirtyeight')"
   ]
  },
  {
   "cell_type": "markdown",
   "id": "23ccc609-0c5b-4d12-82c5-706629b776a3",
   "metadata": {
    "slideshow": {
     "slide_type": "fragment"
    }
   },
   "source": [
    "---"
   ]
  },
  {
   "cell_type": "markdown",
   "id": "20335254-41ae-4bb9-9f6d-435f6397817e",
   "metadata": {},
   "source": [
    "## Table Review"
   ]
  },
  {
   "cell_type": "markdown",
   "id": "846af094-1945-445c-844b-3050e72fb6f8",
   "metadata": {},
   "source": [
    "### Important Table Methods"
   ]
  },
  {
   "cell_type": "markdown",
   "id": "8edc2fc8-eecd-4754-b456-ccb44336b400",
   "metadata": {},
   "source": [
    "* `t.select(column, ...)` or `t.drop(column, ...)`\n",
    "* `t.take([row_num, ...])` or `t.exclude([row_num, ...])`\n",
    "* `t.sort(column, descending=False)`\n",
    "* `t.where(column, are.condition(...))` \n",
    "* `t.apply(function_name, column, …)`\n",
    "* `t.group(column) or t.group(column, function_name)`\n",
    "* `t.group([column, ...])` or `t.group([column, ...], function_name)`\n",
    "* `t.pivot(cols, rows)` or `t.pivot(cols, rows, vals, function_name)`\n",
    "* `t.join(column, other_table, other_table_column)`\n"
   ]
  },
  {
   "cell_type": "markdown",
   "id": "e7f2c86f-2e4a-446d-b233-68c41e6798a4",
   "metadata": {
    "slideshow": {
     "slide_type": "fragment"
    }
   },
   "source": [
    "---"
   ]
  },
  {
   "cell_type": "markdown",
   "id": "755f536e-654f-499d-a0a0-073df7572537",
   "metadata": {},
   "source": [
    "## Bike Sharing in SF Bay Area"
   ]
  },
  {
   "cell_type": "markdown",
   "id": "fbf9af11-b2b8-48ed-9009-28e7051c1f55",
   "metadata": {},
   "source": [
    "### Bike Sharing"
   ]
  },
  {
   "cell_type": "markdown",
   "id": "c4b063d0-53d4-4a4e-8f50-b942336f3186",
   "metadata": {},
   "source": [
    "Hourly bike sharing in the Bay Area began with a pilot program in 2014-2015 that produced a public dataset.\n",
    "The SF Metropolitan Transportation Commission organized an Open Data Challenge in which participants visualized the dataset in interesting ways."
   ]
  },
  {
   "cell_type": "markdown",
   "id": "bb3893ed-5f05-4292-9c88-cbf452dcf76f",
   "metadata": {},
   "source": [
    "Load the trip data from the csv file `trip.csv`."
   ]
  },
  {
   "cell_type": "code",
   "execution_count": null,
   "id": "aafbb841-09dc-4ed2-bd7f-ade163b824aa",
   "metadata": {},
   "outputs": [],
   "source": [
    "trip = ...\n",
    "trip.show(3)"
   ]
  },
  {
   "cell_type": "markdown",
   "id": "661b4ae4-5f30-4f04-8234-faddfb911af4",
   "metadata": {},
   "source": [
    "#### Exercise 01"
   ]
  },
  {
   "cell_type": "markdown",
   "id": "905ed896-4c68-41c8-9d0e-d097ebf34381",
   "metadata": {},
   "source": [
    "Create pivot table for Start Station and End Station."
   ]
  },
  {
   "cell_type": "code",
   "execution_count": null,
   "id": "2db5bda5-5b6c-4acf-b735-6e916c561a4c",
   "metadata": {},
   "outputs": [],
   "source": [
    "..."
   ]
  },
  {
   "cell_type": "markdown",
   "id": "f18b2838-e067-451f-a587-9e3030dfc8b5",
   "metadata": {},
   "source": [
    "Notice that each value is the number of times the start and end station pair show up in the `trip` table."
   ]
  },
  {
   "cell_type": "code",
   "execution_count": null,
   "id": "faff04d7-2c14-4cde-a159-70ffa4157b68",
   "metadata": {},
   "outputs": [],
   "source": [
    "trip.where('Start Station', are.equal_to('2nd at Folsom')).where('End Station', are.equal_to('2nd at Folsom')).num_rows"
   ]
  },
  {
   "cell_type": "markdown",
   "id": "908ebc00-89d4-4a41-b6c8-629670447278",
   "metadata": {},
   "source": [
    "#### Exercise 02"
   ]
  },
  {
   "cell_type": "markdown",
   "id": "9e7ce11c-a020-47be-a8f3-e4804e62d182",
   "metadata": {},
   "source": [
    "Create pivot table showing average duration of the trips between the Start Station and End Station."
   ]
  },
  {
   "cell_type": "code",
   "execution_count": null,
   "id": "dacc9cd4-34d4-4049-a9f0-b9c6e4611609",
   "metadata": {},
   "outputs": [],
   "source": [
    "..."
   ]
  },
  {
   "cell_type": "code",
   "execution_count": null,
   "id": "99e84601-f11e-4a74-adf3-e816eb27a131",
   "metadata": {},
   "outputs": [],
   "source": [
    "trip_reduced = ...\n",
    "..."
   ]
  },
  {
   "cell_type": "markdown",
   "id": "158524eb-503e-4f56-b9ad-429c1655564d",
   "metadata": {},
   "source": [
    "### 🛑 Clear Memory to Continue 🛑"
   ]
  },
  {
   "cell_type": "markdown",
   "id": "22bd8d7f-df2c-44f6-8f85-2dc7de120c7f",
   "metadata": {},
   "source": [
    "* This data set is very large, so it takes up a lot of memory.\n",
    "* Run the following cell to clear the memory (`%reset -f`) and continue.\n",
    "* The rest of the notebook should be able to be run with the available memory."
   ]
  },
  {
   "cell_type": "code",
   "execution_count": null,
   "id": "856719a0-fb63-4fa0-bb2a-91364a515f14",
   "metadata": {},
   "outputs": [],
   "source": [
    "%reset -f\n",
    "\n",
    "# Re-Import Tools\n",
    "from datascience import *\n",
    "import numpy as np\n",
    "%matplotlib inline\n",
    "import matplotlib.pyplot as plt\n",
    "plt.style.use('fivethirtyeight')\n",
    "\n",
    "# Re-Load Data\n",
    "trip = Table.read_table('./data/trip.csv')"
   ]
  },
  {
   "cell_type": "markdown",
   "id": "7e17016d-a20a-4a90-b7c3-51e035fa7046",
   "metadata": {},
   "source": [
    "### Distribution of Duration Values"
   ]
  },
  {
   "cell_type": "markdown",
   "id": "5961b89a-b675-45a7-a567-58434f2fba67",
   "metadata": {},
   "source": [
    "Notice what happens when you try to visualize the distributions of trip duration values."
   ]
  },
  {
   "cell_type": "code",
   "execution_count": null,
   "id": "3f5f3962-2e6c-4276-b1d8-eecaf113a6af",
   "metadata": {},
   "outputs": [],
   "source": [
    "..."
   ]
  },
  {
   "cell_type": "code",
   "execution_count": null,
   "id": "0cc9d59e-cd68-42a6-81b7-a2594b6663a0",
   "metadata": {},
   "outputs": [],
   "source": [
    "..."
   ]
  },
  {
   "cell_type": "markdown",
   "id": "691a5568-217f-45e7-b2e4-afae35c948f1",
   "metadata": {},
   "source": [
    "#### Exercise 03"
   ]
  },
  {
   "cell_type": "markdown",
   "id": "1c623303-d0d0-44ee-99ed-c9f31c427c1d",
   "metadata": {},
   "source": [
    "Create histogram with bins ranging from 0 to 1800 in increments of 250."
   ]
  },
  {
   "cell_type": "code",
   "execution_count": null,
   "id": "1578b934-1e30-4e68-8310-95b24b32fb5a",
   "metadata": {},
   "outputs": [],
   "source": [
    "commute = ...\n",
    "..."
   ]
  },
  {
   "cell_type": "code",
   "execution_count": null,
   "id": "522b7071-dbac-402a-9876-15051e692b77",
   "metadata": {},
   "outputs": [],
   "source": [
    "..."
   ]
  },
  {
   "cell_type": "markdown",
   "id": "387d3e3d-f6d2-4ddf-a4de-87675605ffb1",
   "metadata": {},
   "source": [
    "#### Exercise 04"
   ]
  },
  {
   "cell_type": "markdown",
   "id": "49326c28-3c91-40d6-9d33-4dce8b88032e",
   "metadata": {},
   "source": [
    "What percent of people have a ride duration between 250 and 500 seconds, not including 500."
   ]
  },
  {
   "cell_type": "code",
   "execution_count": null,
   "id": "516c4fa1-df70-47b4-9bd9-1f4a0f608e3c",
   "metadata": {},
   "outputs": [],
   "source": [
    "num_between_250_and_500 = ...\n",
    "num_between_250_and_500"
   ]
  },
  {
   "cell_type": "code",
   "execution_count": null,
   "id": "4496647d-20cb-4f0b-884b-9ff60d61eb5f",
   "metadata": {},
   "outputs": [],
   "source": [
    "..."
   ]
  },
  {
   "cell_type": "code",
   "execution_count": null,
   "id": "917298f1-8ec5-4dcf-8a0f-596273070094",
   "metadata": {},
   "outputs": [],
   "source": [
    "..."
   ]
  },
  {
   "cell_type": "markdown",
   "id": "0387a37d-3e4e-4c99-b717-fcaa5764f2b0",
   "metadata": {},
   "source": [
    "How do you see this in the histogram?"
   ]
  },
  {
   "cell_type": "code",
   "execution_count": null,
   "id": "9d8e0f4e-0ded-447a-8280-bcba991be97e",
   "metadata": {},
   "outputs": [],
   "source": [
    "..."
   ]
  },
  {
   "cell_type": "markdown",
   "id": "b25d99df-b73d-43bd-893b-3e315e73a83c",
   "metadata": {},
   "source": [
    "The height of the [250, 500) bar is approximately 0.155, and the width of the bar is 250."
   ]
  },
  {
   "cell_type": "code",
   "execution_count": null,
   "id": "ac23461c-f826-4525-aec8-74856a83b9fe",
   "metadata": {},
   "outputs": [],
   "source": [
    "..."
   ]
  },
  {
   "cell_type": "markdown",
   "id": "38bef534-2557-4893-8bc9-dda1b30597f5",
   "metadata": {},
   "source": [
    "#### Exercise 05"
   ]
  },
  {
   "cell_type": "markdown",
   "id": "bafcdf39-4868-4271-bf01-f7f7a60e3754",
   "metadata": {},
   "source": [
    "Create histogram with more fine grained bins to see if there are any gaps in the duration values."
   ]
  },
  {
   "cell_type": "code",
   "execution_count": null,
   "id": "a51ad4f2-7205-472b-8bac-6644d5dce924",
   "metadata": {},
   "outputs": [],
   "source": [
    "..."
   ]
  },
  {
   "cell_type": "markdown",
   "id": "dc1f162f-5955-4fec-ac63-72d55ea6f319",
   "metadata": {},
   "source": [
    "### Start and End Stations"
   ]
  },
  {
   "cell_type": "markdown",
   "id": "ab1be41e-3fd0-47ce-bbde-7fdaf8db9f12",
   "metadata": {},
   "source": [
    "#### Exercise 06"
   ]
  },
  {
   "cell_type": "markdown",
   "id": "ee45088b-f0f7-4df1-9c2a-f7908d39c608",
   "metadata": {},
   "source": [
    "What is the most common start station?"
   ]
  },
  {
   "cell_type": "code",
   "execution_count": null,
   "id": "bf532ad0-c2c0-498a-8735-124dcec95635",
   "metadata": {},
   "outputs": [],
   "source": [
    "starts = ...\n",
    "starts"
   ]
  },
  {
   "cell_type": "markdown",
   "id": "f39e9522-fd2f-4f33-980f-ca02423ed0e5",
   "metadata": {},
   "source": [
    "What is the average duration of trips between stations?"
   ]
  },
  {
   "cell_type": "code",
   "execution_count": null,
   "id": "e2250808-0f3c-4079-ae1d-f8a115136397",
   "metadata": {},
   "outputs": [],
   "source": [
    "..."
   ]
  },
  {
   "cell_type": "markdown",
   "id": "be33813c-3ef7-43ff-a790-33a35ff92a66",
   "metadata": {},
   "source": [
    "### Fastest Trips between Stations"
   ]
  },
  {
   "cell_type": "markdown",
   "id": "a8f26d61-53cc-4043-8ec4-1587742f917f",
   "metadata": {},
   "source": [
    "#### Exercise 07"
   ]
  },
  {
   "cell_type": "markdown",
   "id": "5555a8da-adcc-490d-9e29-6ef42a658508",
   "metadata": {},
   "source": [
    "What is the fastest trip ever between each pair of stations?"
   ]
  },
  {
   "cell_type": "code",
   "execution_count": null,
   "id": "1394b2cb-7c9e-4eaa-8589-d226fd17ab22",
   "metadata": {},
   "outputs": [],
   "source": [
    "duration = ...\n",
    "duration"
   ]
  },
  {
   "cell_type": "code",
   "execution_count": null,
   "id": "230f9bdd-0c4a-4af0-896d-2ae505f766bb",
   "metadata": {},
   "outputs": [],
   "source": [
    "shortest = ...\n",
    "shortest.show(5)"
   ]
  },
  {
   "cell_type": "markdown",
   "id": "115e69f1-e3ad-49be-98d7-417f7f968429",
   "metadata": {},
   "source": [
    "#### Exercise 08"
   ]
  },
  {
   "cell_type": "markdown",
   "id": "37759673-1a6d-44dd-8b43-ed1887409f49",
   "metadata": {},
   "source": [
    "What are the 5 stations closest to Civic Center BART by minimum trip time."
   ]
  },
  {
   "cell_type": "code",
   "execution_count": null,
   "id": "d8c430af-62fd-4c7b-b241-4b184b64c945",
   "metadata": {},
   "outputs": [],
   "source": [
    "from_cc = ...\n",
    "..."
   ]
  },
  {
   "cell_type": "code",
   "execution_count": null,
   "id": "7c69a89f-037e-4b73-a837-5b28bc55bf38",
   "metadata": {},
   "outputs": [],
   "source": [
    "to_cc = ...\n",
    "..."
   ]
  },
  {
   "cell_type": "markdown",
   "id": "5d4541a7-3997-4083-895c-4a6be06c0c13",
   "metadata": {
    "slideshow": {
     "slide_type": "fragment"
    }
   },
   "source": [
    "---"
   ]
  },
  {
   "cell_type": "markdown",
   "id": "83ac6ddd-a98e-4294-a2d1-17ecb493ffaa",
   "metadata": {
    "slideshow": {
     "slide_type": "notes"
    }
   },
   "source": [
    "<footer>\n",
    "    <p>Adopted from UC Berkeley DATA 8 course materials.</p>\n",
    "    <p>This content is offered under a <a href=\"https://creativecommons.org/licenses/by-nc-sa/4.0/\">CC Attribution Non-Commercial Share Alike</a> license.</p>\n",
    "</footer>"
   ]
  }
 ],
 "metadata": {
  "kernelspec": {
   "display_name": "Python 3 (ipykernel)",
   "language": "python",
   "name": "python3"
  },
  "language_info": {
   "codemirror_mode": {
    "name": "ipython",
    "version": 3
   },
   "file_extension": ".py",
   "mimetype": "text/x-python",
   "name": "python",
   "nbconvert_exporter": "python",
   "pygments_lexer": "ipython3",
   "version": "3.10.12"
  }
 },
 "nbformat": 4,
 "nbformat_minor": 5
}
