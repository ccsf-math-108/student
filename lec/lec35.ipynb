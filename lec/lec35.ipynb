{
 "cells": [
  {
   "cell_type": "markdown",
   "id": "5ce205d7-bab4-436a-8801-4472bb108b38",
   "metadata": {
    "editable": true,
    "slideshow": {
     "slide_type": ""
    },
    "tags": []
   },
   "source": [
    "<div style=\"width: 38.5%;\">\n",
    "    <p><strong>City College of San Francisco</strong><p>\n",
    "    <hr>\n",
    "    <p>MATH 108 - Foundations of Data Science</p>\n",
    "</div>"
   ]
  },
  {
   "cell_type": "markdown",
   "id": "4bba7134-f35a-41fc-bdd9-87940fb486d8",
   "metadata": {
    "slideshow": {
     "slide_type": "-"
    }
   },
   "source": [
    "# Lecture 35: Residuals"
   ]
  },
  {
   "cell_type": "markdown",
   "id": "89c1118a-8995-4090-82e3-31cc5fa2db01",
   "metadata": {
    "slideshow": {
     "slide_type": "-"
    }
   },
   "source": [
    "Associated Textbook Sections: [15.5 - 15.6](https://inferentialthinking.com/chapters/15/5/Visual_Diagnostics.html)"
   ]
  },
  {
   "cell_type": "markdown",
   "id": "64cbe4d2-80bb-41c4-9467-373e0e9d9d76",
   "metadata": {
    "slideshow": {
     "slide_type": "slide"
    }
   },
   "source": [
    "## Outline"
   ]
  },
  {
   "cell_type": "markdown",
   "id": "fd82f921-eb2a-40cb-840e-c62cdd821c92",
   "metadata": {},
   "source": [
    "* [Residuals](#Residuals)\n",
    "* [Regression Diagnostics](#Regression-Diagnostics)\n",
    "* [A Measure of Clustering](#A-Measure-of-Clustering)"
   ]
  },
  {
   "cell_type": "markdown",
   "id": "5c99860d-9203-434c-8fdc-9393281e2a92",
   "metadata": {
    "slideshow": {
     "slide_type": "slide"
    }
   },
   "source": [
    "## Set Up the Notebook"
   ]
  },
  {
   "cell_type": "code",
   "execution_count": null,
   "id": "d91939a2-e468-4007-a4e1-95d836472f84",
   "metadata": {
    "slideshow": {
     "slide_type": "-"
    }
   },
   "outputs": [],
   "source": [
    "from datascience import *\n",
    "import numpy as np\n",
    "%matplotlib inline\n",
    "import matplotlib.pyplot as plt\n",
    "plt.style.use('fivethirtyeight')\n",
    "\n",
    "# Functions defined in previous lectures\n",
    "\n",
    "def standard_units(arr):\n",
    "    \"\"\" Converts an array to standard units \"\"\"\n",
    "    return (arr - np.average(arr))/np.std(arr)\n",
    "\n",
    "def correlation(t, x, y):\n",
    "    \"\"\" Computes correlation: t is a table, and x and y are column names \"\"\"\n",
    "    x_standard = standard_units(t.column(x))\n",
    "    y_standard = standard_units(t.column(y))\n",
    "    return np.average(x_standard * y_standard)\n",
    "\n",
    "def slope(t, x, y):\n",
    "    \"\"\" Computes the slope of the regression line, like correlation above \"\"\"\n",
    "    r = correlation(t, x, y)\n",
    "    y_sd = np.std(t.column(y))\n",
    "    x_sd = np.std(t.column(x))\n",
    "    return r * y_sd / x_sd\n",
    "\n",
    "def intercept(t, x, y):\n",
    "    \"\"\" Computes the intercept of the regression line, like slope above \"\"\"\n",
    "    x_mean = np.mean(t.column(x))\n",
    "    y_mean = np.mean(t.column(y))\n",
    "    return y_mean - slope(t, x, y)*x_mean\n",
    "\n",
    "def fitted_values(t, x, y):\n",
    "    \"\"\"Return an array of the regression estimates (predictions) at all the x values\"\"\"\n",
    "    a = slope(t, x, y)\n",
    "    b = intercept(t, x, y)\n",
    "    return a*t.column(x) + b"
   ]
  },
  {
   "cell_type": "markdown",
   "id": "2f528397-092b-4244-8454-a549cbfec5e6",
   "metadata": {
    "slideshow": {
     "slide_type": "fragment"
    }
   },
   "source": [
    "---"
   ]
  },
  {
   "cell_type": "markdown",
   "id": "6ce7eace-23a6-4fc3-9bb4-d2b3cb5f040d",
   "metadata": {
    "slideshow": {
     "slide_type": "slide"
    }
   },
   "source": [
    "## Residuals"
   ]
  },
  {
   "cell_type": "markdown",
   "id": "96ab29a9-08c6-41a9-9502-6fca92703223",
   "metadata": {
    "slideshow": {
     "slide_type": "subslide"
    },
    "tags": []
   },
   "source": [
    "### Residuals"
   ]
  },
  {
   "cell_type": "markdown",
   "id": "8bfe9c17-c123-4081-bec2-77caab08d654",
   "metadata": {
    "slideshow": {
     "slide_type": "-"
    }
   },
   "source": [
    "* Error in regression estimate\n",
    "* One residual corresponding to each point (x, y)\n",
    "* residual \n",
    "    * = observed y - regression estimate of y\n",
    "    *  = observed y - height of regression line at x\n",
    "    *  = vertical distance between the point and the best line\n"
   ]
  },
  {
   "cell_type": "markdown",
   "id": "88e854b8-4761-4cda-80dc-043b7313a433",
   "metadata": {
    "slideshow": {
     "slide_type": "subslide"
    },
    "tags": []
   },
   "source": [
    "### Demo: Residuals"
   ]
  },
  {
   "cell_type": "markdown",
   "id": "037e913f-6254-45ce-be71-51369505aa24",
   "metadata": {
    "slideshow": {
     "slide_type": "notes"
    },
    "tags": []
   },
   "source": [
    "Calculate and visualize the residuals associated with linear regression estimates for `Median Income` values based on `College%` in the `district_demographics2016.csv` data. "
   ]
  },
  {
   "cell_type": "code",
   "execution_count": null,
   "id": "c5394d59-7512-401e-8386-adc0d2e7a07e",
   "metadata": {
    "slideshow": {
     "slide_type": "subslide"
    },
    "tags": []
   },
   "outputs": [],
   "source": [
    "demographics = Table.read_table('data/district_demographics2016.csv')\n",
    "demographics"
   ]
  },
  {
   "cell_type": "code",
   "execution_count": null,
   "id": "c6b29917-ce5f-4725-b7ac-7e14e0c559ce",
   "metadata": {},
   "outputs": [],
   "source": [
    "predict_income = demographics.select('College%', 'Median Income')\n",
    "predict_income = predict_income.with_columns('Fitted',\n",
    "    fitted_values(demographics, 'College%', 'Median Income'))\n",
    "predict_income.scatter('College%')"
   ]
  },
  {
   "cell_type": "code",
   "execution_count": null,
   "id": "cb51397a-396c-4cc8-9c09-b820e86941aa",
   "metadata": {},
   "outputs": [],
   "source": [
    "demographics = demographics.drop(\n",
    "    'State', 'District')\n",
    "demographics.show(5)"
   ]
  },
  {
   "cell_type": "code",
   "execution_count": null,
   "id": "5932934d-515b-4a67-8bd9-bbc2cbe9089f",
   "metadata": {},
   "outputs": [],
   "source": [
    "def residuals(t, x, y):\n",
    "    predictions = fitted_values(t, x, y)\n",
    "    return t.column(y) - predictions"
   ]
  },
  {
   "cell_type": "code",
   "execution_count": null,
   "id": "6178f0f0-663b-4457-af79-a39492a5bef0",
   "metadata": {},
   "outputs": [],
   "source": [
    "demographics = demographics.with_columns(\n",
    "    'Fitted Value', fitted_values(demographics, 'College%', 'Median Income'),\n",
    "    'Residual', residuals(demographics, 'College%', 'Median Income')\n",
    ")\n",
    "demographics"
   ]
  },
  {
   "cell_type": "code",
   "execution_count": null,
   "id": "c2b59fc3-3065-4e8f-a3ae-e91ff751add3",
   "metadata": {},
   "outputs": [],
   "source": [
    "demographics.scatter('College%')"
   ]
  },
  {
   "cell_type": "code",
   "execution_count": null,
   "id": "2abc4dbd-879c-4369-a3be-f2cc154e36eb",
   "metadata": {
    "slideshow": {
     "slide_type": "subslide"
    },
    "tags": []
   },
   "outputs": [],
   "source": [
    "def plot_residuals(t, x, y):\n",
    "    tbl = t.with_columns(\n",
    "        'Fitted', fitted_values(t, x, y),\n",
    "        'Residual', residuals(t, x, y)\n",
    "    )\n",
    "    tbl.select(x, y, 'Fitted').scatter(0)\n",
    "    tbl.scatter(x, 'Residual')"
   ]
  },
  {
   "cell_type": "code",
   "execution_count": null,
   "id": "a623fcc0-03c6-429b-9436-5f06c72aac69",
   "metadata": {
    "slideshow": {
     "slide_type": "subslide"
    },
    "tags": []
   },
   "outputs": [],
   "source": [
    "plot_residuals(demographics, 'College%', 'Median Income')"
   ]
  },
  {
   "cell_type": "markdown",
   "id": "ed4adc7f-d32b-4681-b3bc-d00b4d2abd01",
   "metadata": {
    "slideshow": {
     "slide_type": "notes"
    },
    "tags": []
   },
   "source": [
    "Additionally, visualize the residuals associated with the `galton.csv` data set when predicting `Child` values from `Midparent` values using linear regression."
   ]
  },
  {
   "cell_type": "code",
   "execution_count": null,
   "id": "6b15666f-c67b-4921-87f3-6b58dcc4ffc7",
   "metadata": {
    "slideshow": {
     "slide_type": "subslide"
    },
    "tags": []
   },
   "outputs": [],
   "source": [
    "family_heights = Table.read_table('data/family_heights.csv')\n",
    "parents = (family_heights.column('father') + family_heights.column('mother'))/2\n",
    "heights = Table().with_columns(\n",
    "    'Parent Average', parents,\n",
    "    'Child', family_heights.column('childHeight')\n",
    "    )\n",
    "plot_residuals(heights, 'Parent Average', 'Child')"
   ]
  },
  {
   "cell_type": "markdown",
   "id": "cc165d17-584a-4cde-8497-654d97418b7d",
   "metadata": {
    "slideshow": {
     "slide_type": "fragment"
    },
    "tags": []
   },
   "source": [
    "---"
   ]
  },
  {
   "cell_type": "markdown",
   "id": "845dc296-9a86-466e-95ec-3958b0543669",
   "metadata": {
    "slideshow": {
     "slide_type": "slide"
    }
   },
   "source": [
    "## Regression Diagnostics"
   ]
  },
  {
   "cell_type": "markdown",
   "id": "7b6d4ce6-318c-49bd-8998-bebafb6d9928",
   "metadata": {
    "slideshow": {
     "slide_type": "subslide"
    },
    "tags": []
   },
   "source": [
    "### Example: Dugongs"
   ]
  },
  {
   "cell_type": "markdown",
   "id": "74b043a8-5d66-4a24-b752-6f3a597765a2",
   "metadata": {
    "slideshow": {
     "slide_type": "-"
    }
   },
   "source": [
    "<img src=\"img/lec32_dugong_OSU.jpeg\" width=50%>"
   ]
  },
  {
   "cell_type": "markdown",
   "id": "1c2af601-399d-430d-98ef-d0cae4f85281",
   "metadata": {
    "slideshow": {
     "slide_type": "notes"
    },
    "tags": []
   },
   "source": [
    "Image Source: [OSU Geospatial Ecology of Marine Megafauna Laboratory](https://blogs.oregonstate.edu/gemmlab/2021/09/27/let-me-introduce-you-to-dugongs/)"
   ]
  },
  {
   "cell_type": "markdown",
   "id": "ab01ffe6-f2d0-4e2d-89f0-6a6908e6d00e",
   "metadata": {
    "slideshow": {
     "slide_type": "subslide"
    },
    "tags": []
   },
   "source": [
    "### Demo: Dugongs"
   ]
  },
  {
   "cell_type": "markdown",
   "id": "353cbaae-c362-4e1a-b8d9-0477a2da9b10",
   "metadata": {
    "slideshow": {
     "slide_type": "notes"
    },
    "tags": []
   },
   "source": [
    "Visualize the relationship between a dugong's length and age based on the `dugong.csv` dataset. Although the data is not linear, calculate the correlation coefficient."
   ]
  },
  {
   "cell_type": "code",
   "execution_count": null,
   "id": "a7142220-488d-4f5f-a2d0-1a4ab53a2748",
   "metadata": {
    "scrolled": true
   },
   "outputs": [],
   "source": [
    "dugong = Table.read_table('data/dugong.csv')\n",
    "dugong.show(5)"
   ]
  },
  {
   "cell_type": "code",
   "execution_count": null,
   "id": "87f6e608-a27c-4bc4-ab68-bc817b3f011b",
   "metadata": {
    "slideshow": {
     "slide_type": "subslide"
    },
    "tags": []
   },
   "outputs": [],
   "source": [
    "dugong.scatter('Length', 'Age')"
   ]
  },
  {
   "cell_type": "code",
   "execution_count": null,
   "id": "288a80cf-1d2a-44c6-91c2-deb21981a696",
   "metadata": {
    "slideshow": {
     "slide_type": "fragment"
    },
    "tags": []
   },
   "outputs": [],
   "source": [
    "correlation(dugong, 'Length', 'Age')"
   ]
  },
  {
   "cell_type": "markdown",
   "id": "8a6cb531-3205-4241-a1aa-1494a5734db2",
   "metadata": {
    "slideshow": {
     "slide_type": "notes"
    },
    "tags": []
   },
   "source": [
    "Visualize the residuals associated with the linear regression prediction for a dugong's age based on it's height."
   ]
  },
  {
   "cell_type": "code",
   "execution_count": null,
   "id": "7b67993c-dca6-4b3c-8cd9-907b60ae08c6",
   "metadata": {
    "slideshow": {
     "slide_type": "subslide"
    },
    "tags": []
   },
   "outputs": [],
   "source": [
    "plot_residuals(dugong, 'Length', 'Age')"
   ]
  },
  {
   "cell_type": "markdown",
   "id": "4b53dd58-d77f-4595-851c-e85d5280c478",
   "metadata": {},
   "source": [
    "### Demo: US Women"
   ]
  },
  {
   "cell_type": "code",
   "execution_count": null,
   "id": "da5e04b3-112d-423c-b4ae-5de5d740154e",
   "metadata": {},
   "outputs": [],
   "source": [
    "us_women = Table.read_table('data/us_women.csv')\n",
    "us_women.show(5)"
   ]
  },
  {
   "cell_type": "code",
   "execution_count": null,
   "id": "1ba24840-597a-4475-97c6-6bab45bf1d75",
   "metadata": {},
   "outputs": [],
   "source": [
    "us_women.scatter('height')"
   ]
  },
  {
   "cell_type": "code",
   "execution_count": null,
   "id": "f1cee941-d7a7-4dde-a7a1-f2aa05737d39",
   "metadata": {},
   "outputs": [],
   "source": [
    "correlation(us_women, 'height', 'ave weight')"
   ]
  },
  {
   "cell_type": "code",
   "execution_count": null,
   "id": "9e1bc11a-a0bd-4534-8ac2-d6fca90346ba",
   "metadata": {},
   "outputs": [],
   "source": [
    "plot_residuals(us_women, 'height', 'ave weight')"
   ]
  },
  {
   "cell_type": "markdown",
   "id": "ceb97e88-12d0-449e-b487-36afeac44bef",
   "metadata": {
    "slideshow": {
     "slide_type": "subslide"
    },
    "tags": []
   },
   "source": [
    "### Residual Plot"
   ]
  },
  {
   "cell_type": "markdown",
   "id": "83fdfbd9-c7e9-4a85-91ac-b56d345212f6",
   "metadata": {
    "slideshow": {
     "slide_type": "-"
    }
   },
   "source": [
    "A scatter diagram of residuals\n",
    "* Should look like an unassociated blob for linear relations\n",
    "* But will show patterns for non-linear relations\n",
    "* Used to check whether linear regression is appropriate\n",
    "* Look for curves, trends, changes in spread, outliers, or any other patterns\n"
   ]
  },
  {
   "cell_type": "markdown",
   "id": "ce17606d-4f05-4c49-83e6-df47e00c0834",
   "metadata": {
    "slideshow": {
     "slide_type": "subslide"
    },
    "tags": []
   },
   "source": [
    "### Properties of Residuals"
   ]
  },
  {
   "cell_type": "markdown",
   "id": "df41af57-f308-4638-94d3-64f4f8d63599",
   "metadata": {
    "slideshow": {
     "slide_type": "-"
    }
   },
   "source": [
    "Residuals from a linear regression always have\n",
    "* Zero mean (so rmse = SD of residuals)\n",
    "* Zero correlation with $x$\n",
    "* Zero correlation with the fitted values"
   ]
  },
  {
   "cell_type": "markdown",
   "id": "64b90709-61c5-4375-9914-d540f7ef899e",
   "metadata": {},
   "source": [
    "#### Demo: Properties of Residuals"
   ]
  },
  {
   "cell_type": "code",
   "execution_count": null,
   "id": "60a2f82b-4e51-42a3-bbea-4b273f702b59",
   "metadata": {},
   "outputs": [],
   "source": [
    "round(np.average(residuals(dugong, 'Length', 'Age')), 6)"
   ]
  },
  {
   "cell_type": "code",
   "execution_count": null,
   "id": "611fb415-f9a7-4ad5-b2f2-0afb909b0608",
   "metadata": {},
   "outputs": [],
   "source": [
    "round(np.average(residuals(heights, 'Parent Average', 'Child')), 6)"
   ]
  },
  {
   "cell_type": "code",
   "execution_count": null,
   "id": "49e78fee-5d05-4e7d-9d49-a8aadcc7b55c",
   "metadata": {},
   "outputs": [],
   "source": [
    "round(np.average(residuals(demographics, 'College%', 'Median Income')), 6)"
   ]
  },
  {
   "cell_type": "code",
   "execution_count": null,
   "id": "0d77c98a-6375-4f72-ab53-80f3a8be6cad",
   "metadata": {},
   "outputs": [],
   "source": [
    "heights = heights.with_columns(\n",
    "    'Residual', residuals(heights, 'Parent Average', 'Child'),\n",
    "    'Fitted Value', fitted_values(heights, 'Parent Average', 'Child')\n",
    ")"
   ]
  },
  {
   "cell_type": "code",
   "execution_count": null,
   "id": "70ff9387-1896-4b91-b29a-011a88f5d906",
   "metadata": {},
   "outputs": [],
   "source": [
    "round(correlation(heights, 'Parent Average', 'Residual'), 6)"
   ]
  },
  {
   "cell_type": "code",
   "execution_count": null,
   "id": "f87689d3-fc6c-4549-bebc-096d489e1728",
   "metadata": {},
   "outputs": [],
   "source": [
    "round(correlation(heights, 'Fitted Value', 'Residual'), 6)"
   ]
  },
  {
   "cell_type": "markdown",
   "id": "a88e6477-73da-43a6-8732-e58f11ad65f6",
   "metadata": {
    "slideshow": {
     "slide_type": "fragment"
    }
   },
   "source": [
    "---"
   ]
  },
  {
   "cell_type": "markdown",
   "id": "bd157618-9e0d-4d06-be07-66be9cfd6498",
   "metadata": {
    "slideshow": {
     "slide_type": "notes"
    }
   },
   "source": [
    "<footer>\n",
    "    <p>Adopted from UC Berkeley DATA 8 course materials.</p>\n",
    "    <p>This content is offered under a <a href=\"https://creativecommons.org/licenses/by-nc-sa/4.0/\">CC Attribution Non-Commercial Share Alike</a> license.</p>\n",
    "</footer>"
   ]
  }
 ],
 "metadata": {
  "kernelspec": {
   "display_name": "Python 3 (ipykernel)",
   "language": "python",
   "name": "python3"
  },
  "language_info": {
   "codemirror_mode": {
    "name": "ipython",
    "version": 3
   },
   "file_extension": ".py",
   "mimetype": "text/x-python",
   "name": "python",
   "nbconvert_exporter": "python",
   "pygments_lexer": "ipython3",
   "version": "3.10.12"
  }
 },
 "nbformat": 4,
 "nbformat_minor": 5
}
