{
 "cells": [
  {
   "cell_type": "markdown",
   "id": "5ce205d7-bab4-436a-8801-4472bb108b38",
   "metadata": {
    "editable": true,
    "slideshow": {
     "slide_type": ""
    },
    "tags": []
   },
   "source": [
    "<div style=\"width: 38.5%;\">\n",
    "    <p><strong>City College of San Francisco</strong><p>\n",
    "    <hr>\n",
    "    <p>MATH 108 - Foundations of Data Science</p>\n",
    "</div>"
   ]
  },
  {
   "cell_type": "markdown",
   "id": "4bba7134-f35a-41fc-bdd9-87940fb486d8",
   "metadata": {
    "slideshow": {
     "slide_type": "-"
    }
   },
   "source": [
    "# Lecture 36: Regression Inference"
   ]
  },
  {
   "cell_type": "markdown",
   "id": "3aaf0525",
   "metadata": {},
   "source": [
    "Associated Textbook Sections: [16.0 - 16.3](https://inferentialthinking.com/chapters/16/Inference_for_Regression.html)"
   ]
  },
  {
   "cell_type": "markdown",
   "id": "64cbe4d2-80bb-41c4-9467-373e0e9d9d76",
   "metadata": {
    "slideshow": {
     "slide_type": "slide"
    }
   },
   "source": [
    "## Outline"
   ]
  },
  {
   "cell_type": "markdown",
   "id": "412261d6-1ffa-4701-a9e0-7327258841df",
   "metadata": {
    "tags": []
   },
   "source": [
    "* [Regression Model](#Regression-Model)\n",
    "* [Prediction Variability](#Prediction-Variability)\n",
    "* [The True Slope](#The-True-Slope)"
   ]
  },
  {
   "cell_type": "markdown",
   "id": "5c99860d-9203-434c-8fdc-9393281e2a92",
   "metadata": {
    "slideshow": {
     "slide_type": "slide"
    }
   },
   "source": [
    "## Set Up the Notebook"
   ]
  },
  {
   "cell_type": "code",
   "execution_count": null,
   "id": "d91939a2-e468-4007-a4e1-95d836472f84",
   "metadata": {
    "slideshow": {
     "slide_type": "-"
    }
   },
   "outputs": [],
   "source": [
    "from datascience import *\n",
    "import numpy as np\n",
    "%matplotlib inline\n",
    "import matplotlib.pyplot as plt\n",
    "plt.style.use('fivethirtyeight')\n",
    "\n",
    "def draw_and_compare(true_slope, true_int, sample_size):\n",
    "    x = np.random.normal(50, 5, sample_size)\n",
    "    xlims = np.array([np.min(x), np.max(x)])\n",
    "    errors = np.random.normal(0, 6, sample_size)\n",
    "    y = (true_slope * x + true_int) + errors\n",
    "    sample = Table().with_columns('x', x, 'y', y)\n",
    "\n",
    "    sample.scatter('x', 'y')\n",
    "    plt.plot(xlims, true_slope*xlims + true_int, lw=2, color='green')\n",
    "    plt.title('True Line, and Points Created')\n",
    "\n",
    "    sample.scatter('x', 'y')\n",
    "    plt.title('What We Get to See')\n",
    "\n",
    "    sample.scatter('x', 'y', fit_line=True)\n",
    "    plt.title('Regression Line: Estimate of True Line')\n",
    "\n",
    "    sample.scatter('x', 'y', fit_line=True)\n",
    "    plt.plot(xlims, true_slope*xlims + true_int, lw=2, color='green')\n",
    "    plt.title(\"Regression Line and True Line\")\n",
    "    \n",
    "def standard_units(arr):\n",
    "    return (arr - np.average(arr))/np.std(arr)\n",
    "\n",
    "def correlation(t, x, y):\n",
    "    x_standard = standard_units(t.column(x))\n",
    "    y_standard = standard_units(t.column(y))\n",
    "    return np.average(x_standard * y_standard)\n",
    "\n",
    "def slope(t, x, y):\n",
    "    r = correlation(t, x, y)\n",
    "    y_sd = np.std(t.column(y))\n",
    "    x_sd = np.std(t.column(x))\n",
    "    return r * y_sd / x_sd\n",
    "\n",
    "def intercept(t, x, y):\n",
    "    x_mean = np.mean(t.column(x))\n",
    "    y_mean = np.mean(t.column(y))\n",
    "    return y_mean - slope(t, x, y)*x_mean\n",
    "\n",
    "def fitted_values(t, x, y):\n",
    "    \"\"\"Return an array of the regression estimates at all the x values\"\"\"\n",
    "    a = slope(t, x, y)\n",
    "    b = intercept(t, x, y)\n",
    "    return a*t.column(x) + b\n",
    "\n",
    "def residuals(t, x, y):\n",
    "    predictions = fitted_values(t, x, y)\n",
    "    return t.column(y) - predictions\n",
    "\n",
    "def add_regression_to_table(t, x, y):\n",
    "    \"\"\" Returns a new table with 'Fitted value' and 'Residual' columns added \"\"\"\n",
    "    t_with_extra_cols = t.with_columns(\n",
    "        'Fitted value', fitted_values(t, x, y),\n",
    "        'Residual', residuals(t, x, y)\n",
    "    )\n",
    "    return t_with_extra_cols"
   ]
  },
  {
   "cell_type": "markdown",
   "id": "2f528397-092b-4244-8454-a549cbfec5e6",
   "metadata": {
    "slideshow": {
     "slide_type": "fragment"
    }
   },
   "source": [
    "---"
   ]
  },
  {
   "cell_type": "markdown",
   "id": "efc480d8-712a-471c-b74e-6ebc25458c31",
   "metadata": {
    "slideshow": {
     "slide_type": "slide"
    }
   },
   "source": [
    "## Regression Model"
   ]
  },
  {
   "cell_type": "markdown",
   "id": "d52a99e4-6167-46fc-b37e-398b5a748a87",
   "metadata": {
    "slideshow": {
     "slide_type": "subslide"
    },
    "tags": []
   },
   "source": [
    "### A \"Model\": Signal + Noise"
   ]
  },
  {
   "cell_type": "markdown",
   "id": "f2879a68-196c-4497-b92a-15599a881cf4",
   "metadata": {
    "slideshow": {
     "slide_type": "-"
    }
   },
   "source": [
    "<img src=\"img/lec33_signal_noise.png\" width=80%>"
   ]
  },
  {
   "cell_type": "markdown",
   "id": "f6293037-f373-4472-bb22-288fc11897b6",
   "metadata": {
    "slideshow": {
     "slide_type": "subslide"
    },
    "tags": []
   },
   "source": [
    "### What We Get To See"
   ]
  },
  {
   "cell_type": "markdown",
   "id": "72097264-208f-4a24-835f-09a27e949a85",
   "metadata": {
    "slideshow": {
     "slide_type": "-"
    }
   },
   "source": [
    "<img src=\"img/lec33_what_we_see.png\" width=50%>"
   ]
  },
  {
   "cell_type": "markdown",
   "id": "6a904718-3abb-430e-985a-67901417994e",
   "metadata": {
    "slideshow": {
     "slide_type": "subslide"
    },
    "tags": []
   },
   "source": [
    "### Demo: Regression Model"
   ]
  },
  {
   "cell_type": "markdown",
   "id": "7a1fa551-c90f-4d7d-8ab0-a2eb83f227f3",
   "metadata": {
    "slideshow": {
     "slide_type": "notes"
    },
    "tags": []
   },
   "source": [
    "Explore a few examples showing the true line, the points created, and the line produced from the sample."
   ]
  },
  {
   "cell_type": "code",
   "execution_count": null,
   "id": "30276d2c-d1ce-407b-8511-37e8a0eaeeaf",
   "metadata": {},
   "outputs": [],
   "source": [
    "draw_and_compare(2, -5, 10)"
   ]
  },
  {
   "cell_type": "code",
   "execution_count": null,
   "id": "7d4b5bef-f160-4576-b08e-14a783e9201e",
   "metadata": {},
   "outputs": [],
   "source": [
    "draw_and_compare(2, -5, 100)"
   ]
  },
  {
   "cell_type": "markdown",
   "id": "55828ce3-f3b0-4c17-9133-a1acd64aa1a3",
   "metadata": {
    "slideshow": {
     "slide_type": "fragment"
    },
    "tags": []
   },
   "source": [
    "---"
   ]
  },
  {
   "cell_type": "markdown",
   "id": "6e415033-1fe9-4d0d-bf68-626244ecbd03",
   "metadata": {
    "slideshow": {
     "slide_type": "slide"
    }
   },
   "source": [
    "## Prediction Variability"
   ]
  },
  {
   "cell_type": "markdown",
   "id": "a7c0f925-6cb2-48ee-82e2-a34375523663",
   "metadata": {
    "slideshow": {
     "slide_type": "subslide"
    },
    "tags": []
   },
   "source": [
    "### Regression Prediction"
   ]
  },
  {
   "cell_type": "markdown",
   "id": "6f869bea-e262-4c84-818e-4a1e87249e73",
   "metadata": {
    "slideshow": {
     "slide_type": "-"
    }
   },
   "source": [
    "If the data come from the regression model:\n",
    "* The \"true value\" of the response $y$ at a given value of $x$ is the height of the true line at $x$\n",
    "* We can't see the true line, so we have to estimate this height\n",
    "* The regression line is most likely close to the true line\n",
    "* Given a new value of $x$, predict $y$ by finding the point on the regression line at that $x$."
   ]
  },
  {
   "cell_type": "markdown",
   "id": "68d2c684-881a-484d-a7c1-794b3b474c5a",
   "metadata": {
    "slideshow": {
     "slide_type": "subslide"
    },
    "tags": []
   },
   "source": [
    "### Demo: Prediction"
   ]
  },
  {
   "cell_type": "markdown",
   "id": "394030f9-9164-4a29-a107-b64043ebfd0a",
   "metadata": {},
   "source": [
    "Explore the variability in the linear regression prediction of `Birth Weight` based on `Gestational Days` using the `baby.csv` dataset."
   ]
  },
  {
   "cell_type": "code",
   "execution_count": null,
   "id": "68f81b96-1d57-413c-9d73-4982514e3af9",
   "metadata": {},
   "outputs": [],
   "source": [
    "births = Table.read_table('data/baby.csv')\n",
    "births.show(3)"
   ]
  },
  {
   "cell_type": "code",
   "execution_count": null,
   "id": "716ecab1-b296-480f-b412-c4ac6de29560",
   "metadata": {},
   "outputs": [],
   "source": [
    "births.scatter('Gestational Days', 'Birth Weight')"
   ]
  },
  {
   "cell_type": "code",
   "execution_count": null,
   "id": "9a40d198-67b9-45dd-91ea-30cef7c04a08",
   "metadata": {},
   "outputs": [],
   "source": [
    "births = births.where('Gestational Days', are.between(240, 320))"
   ]
  },
  {
   "cell_type": "code",
   "execution_count": null,
   "id": "205da299-fffc-4a95-95cd-1b398ec64378",
   "metadata": {},
   "outputs": [],
   "source": [
    "births.scatter('Gestational Days', 'Birth Weight', fit_line=True)"
   ]
  },
  {
   "cell_type": "code",
   "execution_count": null,
   "id": "5240d261-ff5e-40cd-b981-cdd582e01053",
   "metadata": {},
   "outputs": [],
   "source": [
    "def prediction_at(t, x, y, x_value):\n",
    "    '''\n",
    "    t - table\n",
    "    x - label of x column\n",
    "    y - label of y column\n",
    "    x_value - the x value for which we want to predict y\n",
    "    '''\n",
    "    return slope(t, x, y) * x_value + intercept(t, x, y)"
   ]
  },
  {
   "cell_type": "code",
   "execution_count": null,
   "id": "89e1ad5c-fa9a-4f11-977b-e858f1509b97",
   "metadata": {},
   "outputs": [],
   "source": [
    "prediction_at_300 = prediction_at(births, 'Gestational Days', 'Birth Weight', 300)\n",
    "prediction_at_300"
   ]
  },
  {
   "cell_type": "code",
   "execution_count": null,
   "id": "8dccf796-7e52-40ee-9f41-a942d18c1ec8",
   "metadata": {},
   "outputs": [],
   "source": [
    "x = 300\n",
    "births.scatter('Gestational Days', 'Birth Weight', fit_line=True)\n",
    "plt.plot([x, x], [40, prediction_at_300], color='gold', lw=2);"
   ]
  },
  {
   "cell_type": "markdown",
   "id": "b80752fc-fa86-4f3c-aa37-3b43c23b6e7b",
   "metadata": {
    "slideshow": {
     "slide_type": "subslide"
    },
    "tags": []
   },
   "source": [
    "### Confidence Interval for Prediction"
   ]
  },
  {
   "cell_type": "markdown",
   "id": "748a7f6e-bf9c-408f-9e01-44e906aaace7",
   "metadata": {
    "slideshow": {
     "slide_type": "-"
    }
   },
   "source": [
    "* Bootstrap the scatter plot\n",
    "* Get a prediction for y using the regression line that goes through the resampled plot\n",
    "* Repeat the two steps above many times\n",
    "* Draw the empirical histogram of all the predictions.\n",
    "* Get the \"middle 95%\" interval.\n",
    "* That's an approximate 95% confidence interval for the height of the true line at y."
   ]
  },
  {
   "cell_type": "code",
   "execution_count": null,
   "id": "7e27738d-f598-4612-819f-09c1358c3285",
   "metadata": {},
   "outputs": [],
   "source": [
    "plt.figure(figsize=(6, 20))\n",
    "plt.subplot(5, 1, 1)\n",
    "plt.scatter(births[1], births[0], s=10)\n",
    "plt.xlim([200, 340])\n",
    "plt.title('Original sample')\n",
    "\n",
    "for i in np.arange(1, 5, 1):\n",
    "    plt.subplot(5,1,i+1)\n",
    "    rep = births.sample()\n",
    "    plt.scatter(rep[1], rep[0], s=10)\n",
    "    plt.xlim([200, 340])\n",
    "    plt.title('Bootstrap sample '+str(i))"
   ]
  },
  {
   "cell_type": "code",
   "execution_count": null,
   "id": "01bd631d-73a2-439b-9d93-f46c3a6c2e2f",
   "metadata": {},
   "outputs": [],
   "source": [
    "for i in np.arange(4):\n",
    "    resample = births.sample()\n",
    "    predicted_y = prediction_at(resample, 'Gestational Days', 'Birth Weight', 300)\n",
    "    print('Predicted y from bootstramp sample was', predicted_y)\n",
    "    resample.scatter('Gestational Days', 'Birth Weight', fit_line=True)\n",
    "    plt.scatter(300, predicted_y, color='gold', s=50, zorder=3);\n",
    "    plt.plot([x, x], [40, predicted_y], color='gold', lw=2);\n",
    "    plt.plot([200, x], [predicted_y, predicted_y], color='gold', lw=2);"
   ]
  },
  {
   "cell_type": "markdown",
   "id": "eb9c3192-7739-4b18-bccc-fd9e0ce6e86e",
   "metadata": {},
   "source": [
    "Observe the variation in the regression lines made from each sample."
   ]
  },
  {
   "cell_type": "code",
   "execution_count": null,
   "id": "bb26ff20-133a-4254-80db-b224cd6b60b0",
   "metadata": {},
   "outputs": [],
   "source": [
    "lines = Table(['slope','intercept', 'at 210', 'at 300', 'at 320'])\n",
    "\n",
    "for i in range(10):\n",
    "    resample = births.sample()\n",
    "    a = slope(resample, 'Gestational Days', 'Birth Weight')\n",
    "    b = intercept(resample, 'Gestational Days', 'Birth Weight')\n",
    "    lines.append([a, b, a * 210 + b, a * 300 + b, a * 320 + b])\n",
    "\n",
    "for i in np.arange(lines.num_rows):\n",
    "    line = lines.row(i)\n",
    "    plt.plot([210, 320], [line.item('at 210'), line.item('at 320')], lw=1)\n",
    "    plt.scatter(300, line.item('at 300'), s=30, zorder=3)"
   ]
  },
  {
   "cell_type": "code",
   "execution_count": null,
   "id": "7707b1fb-4eaa-47db-8b74-89030c8142b3",
   "metadata": {},
   "outputs": [],
   "source": [
    "lines = Table(['slope','intercept', 'at 291', 'at 300', 'at 309'])\n",
    "\n",
    "for i in range(10):\n",
    "    resample = births.sample()\n",
    "    a = slope(resample, 'Gestational Days', 'Birth Weight')\n",
    "    b = intercept(resample, 'Gestational Days', 'Birth Weight')\n",
    "    lines.append([a, b, a * 291 + b, a * 300 + b, a * 309 + b])\n",
    "\n",
    "for i in np.arange(lines.num_rows):\n",
    "    line = lines.row(i)\n",
    "    plt.plot([291, 309], [line.item('at 291'), line.item('at 309')], lw=1)\n",
    "    plt.scatter(300, line.item('at 300'), s=30, zorder=3)"
   ]
  },
  {
   "cell_type": "markdown",
   "id": "c2d00188-2026-49c2-b3e2-c501853f5585",
   "metadata": {
    "slideshow": {
     "slide_type": "subslide"
    },
    "tags": []
   },
   "source": [
    "### Demo: Confidence Interval for Prediction"
   ]
  },
  {
   "cell_type": "markdown",
   "id": "9ed4f9f5-26dd-4cb3-b6e1-71adb057ec77",
   "metadata": {},
   "source": [
    "Construct a confidence interval for the height of the true line."
   ]
  },
  {
   "cell_type": "code",
   "execution_count": null,
   "id": "26fc4fd5-a9c7-4b96-af2c-9d78ffa8d98a",
   "metadata": {},
   "outputs": [],
   "source": [
    "def bootstrap_prediction(t, x, y, new_x, repetitions=1000):\n",
    "\n",
    "    # Bootstrap the scatter, predict, collect\n",
    "    predictions = ...\n",
    "    for i in np.arange(repetitions):\n",
    "        resample = ...\n",
    "        predicted_y = ...\n",
    "        predictions = ...\n",
    "\n",
    "    # Find the ends of the approximate 95% prediction interval\n",
    "    left = ...\n",
    "    right = ...\n",
    "\n",
    "    # Display results\n",
    "    Table().with_column('Prediction', predictions).hist(bins=20)\n",
    "    plt.xlabel('predictions at x='+str(new_x))\n",
    "    plt.plot([left, right], [0, 0], color='yellow', lw=8);\n",
    "    print('Approximate 95%-confidence interval for height of true line:')\n",
    "    print(left, right, '(width =', right - left, ')') "
   ]
  },
  {
   "cell_type": "code",
   "execution_count": null,
   "id": "1b0f9a66-3090-4bdb-b6b6-775b6698dd42",
   "metadata": {},
   "outputs": [],
   "source": [
    "bootstrap_prediction(births, 'Gestational Days', 'Birth Weight', 300)"
   ]
  },
  {
   "cell_type": "markdown",
   "id": "8f838950-538a-49bf-8b39-6031db6f1c7e",
   "metadata": {
    "slideshow": {
     "slide_type": "subslide"
    },
    "tags": []
   },
   "source": [
    "### Predictions at Different Values of $x$"
   ]
  },
  {
   "cell_type": "markdown",
   "id": "57b5fa83-5dad-42e3-976c-84d1fe5e5d2e",
   "metadata": {
    "slideshow": {
     "slide_type": "-"
    }
   },
   "source": [
    "* Since $y$ is correlated with $x$, the predicted values of $y$ depend on the value of $x$.\n",
    "* The width of the prediction's CI also depends on $x$.\n",
    "* Typically, intervals are wider for values of $x$ that are further away from the mean of $x$."
   ]
  },
  {
   "cell_type": "markdown",
   "id": "a2374f48-b5da-4fcd-9c18-b8c6cc8a8a78",
   "metadata": {
    "slideshow": {
     "slide_type": "subslide"
    },
    "tags": []
   },
   "source": [
    "### Demo: Predictions at Different Values of $x$"
   ]
  },
  {
   "cell_type": "markdown",
   "id": "a0299b94-ab7c-4d2f-8767-c038188098e6",
   "metadata": {},
   "source": [
    "Explore predictions made for different values of $x$."
   ]
  },
  {
   "cell_type": "code",
   "execution_count": null,
   "id": "90d4a4aa-a96d-45be-8924-319a098f9678",
   "metadata": {},
   "outputs": [],
   "source": [
    "x = 300\n",
    "births.scatter('Gestational Days', 'Birth Weight', fit_line=True)\n",
    "plt.plot([x, x], [40, prediction_at_300], color='gold', lw=2);"
   ]
  },
  {
   "cell_type": "code",
   "execution_count": null,
   "id": "756a9fb0-0fb0-4ac2-b16d-7f629c05be17",
   "metadata": {},
   "outputs": [],
   "source": [
    "bootstrap_prediction(births, 'Gestational Days', 'Birth Weight', 210)"
   ]
  },
  {
   "cell_type": "code",
   "execution_count": null,
   "id": "2b09a1b6-343f-48c7-8643-990989ff35a7",
   "metadata": {},
   "outputs": [],
   "source": [
    "bootstrap_prediction(births, 'Gestational Days', 'Birth Weight', 280)"
   ]
  },
  {
   "cell_type": "code",
   "execution_count": null,
   "id": "e80e3cf0-cd95-437e-bf25-2bf807363731",
   "metadata": {},
   "outputs": [],
   "source": [
    "np.mean(births.column('Gestational Days'))"
   ]
  },
  {
   "cell_type": "code",
   "execution_count": null,
   "id": "d87b5296-e6ae-48a5-93b5-e409e3cacebf",
   "metadata": {},
   "outputs": [],
   "source": [
    "lines = Table(['slope','intercept', 'at 210', 'at 300', 'at 320'])\n",
    "\n",
    "for i in range(10):\n",
    "    resample = births.sample()\n",
    "    a = slope(resample, 'Gestational Days', 'Birth Weight')\n",
    "    b = intercept(resample, 'Gestational Days', 'Birth Weight')\n",
    "    lines.append([a, b, a * 210 + b, a * 300 + b, a * 320 + b])\n",
    "\n",
    "for i in np.arange(lines.num_rows):\n",
    "    line = lines.row(i)\n",
    "    plt.plot([210, 320], [line.item('at 210'), line.item('at 320')], lw=1)\n",
    "    plt.scatter(300, line.item('at 300'), s=30, zorder=3)"
   ]
  },
  {
   "cell_type": "markdown",
   "id": "c07a26d6-5d51-42d6-8be0-e38c18df4742",
   "metadata": {
    "slideshow": {
     "slide_type": "fragment"
    },
    "tags": []
   },
   "source": [
    "---"
   ]
  },
  {
   "cell_type": "markdown",
   "id": "59ebb1d5-9109-47b8-9f57-6614a9f18b76",
   "metadata": {
    "slideshow": {
     "slide_type": "slide"
    }
   },
   "source": [
    "## The True Slope"
   ]
  },
  {
   "cell_type": "markdown",
   "id": "0dc5f72f-492e-4b39-a5a6-dbaecb587060",
   "metadata": {
    "slideshow": {
     "slide_type": "subslide"
    },
    "tags": []
   },
   "source": [
    "### Confidence Interval for True Slope"
   ]
  },
  {
   "cell_type": "markdown",
   "id": "b4952f6b-4d5d-4f19-a025-8bfc12314897",
   "metadata": {
    "slideshow": {
     "slide_type": "-"
    }
   },
   "source": [
    "* Bootstrap the scatter plot.\n",
    "* Find the slope of the regression line through the bootstrapped plot.\n",
    "* Repeat.\n",
    "* Draw the empirical histogram of all the generated slopes.\n",
    "* Get the \"middle 95%\" interval.\n",
    "* That's an approximate 95% confidence interval for the slope of the true line.\n"
   ]
  },
  {
   "cell_type": "markdown",
   "id": "13f62aea-da20-4c58-92ba-58753e8e8746",
   "metadata": {
    "slideshow": {
     "slide_type": "subslide"
    },
    "tags": []
   },
   "source": [
    "### Demo: Inference for the Slope"
   ]
  },
  {
   "cell_type": "code",
   "execution_count": null,
   "id": "daa1c862-2e1d-4c9f-9596-122d100b4981",
   "metadata": {},
   "outputs": [],
   "source": [
    "births.scatter('Gestational Days', 'Birth Weight', fit_line=True)"
   ]
  },
  {
   "cell_type": "code",
   "execution_count": null,
   "id": "89ff2954-7f48-4ef2-b160-3f1c9bfc6331",
   "metadata": {},
   "outputs": [],
   "source": [
    "slope(births, 'Gestational Days', 'Birth Weight')"
   ]
  },
  {
   "cell_type": "code",
   "execution_count": null,
   "id": "3240f043-6abc-49f5-acb4-3dd1544cdaba",
   "metadata": {},
   "outputs": [],
   "source": [
    "def bootstrap_slope(t, x, y, repetitions=5000):\n",
    "    \n",
    "    # Bootstrap the scatter, find the slope, collect\n",
    "    slopes = make_array()\n",
    "    for i in np.arange(repetitions):\n",
    "        bootstrap_sample = t.sample()\n",
    "        bootstrap_slope = slope(bootstrap_sample, x, y)\n",
    "        slopes = np.append(slopes, bootstrap_slope)\n",
    "    \n",
    "    # Find the endpoints of the 95% confidence interval for the true slope\n",
    "    left = percentile(2.5, slopes)\n",
    "    right = percentile(97.5, slopes)\n",
    "    \n",
    "    # Slope of the regression line from the original sample\n",
    "    observed_slope = slope(t, x, y)\n",
    "    \n",
    "    # Display results\n",
    "    Table().with_column('Bootstrap Slopes', slopes).hist(bins=20)\n",
    "    plt.plot(make_array(left, right), make_array(0, 0), color='yellow', lw=8);\n",
    "    print('Slope of regression line:', observed_slope)\n",
    "    print('Approximate 95%-confidence interval for the slope of the true line:')\n",
    "    print(left, 'to', right)"
   ]
  },
  {
   "cell_type": "code",
   "execution_count": null,
   "id": "28c03fd0-2c9b-472c-b3d7-54ec5d9e3d38",
   "metadata": {},
   "outputs": [],
   "source": [
    "bootstrap_slope(births, 'Gestational Days', 'Birth Weight', 2500)"
   ]
  },
  {
   "cell_type": "markdown",
   "id": "841d57d0-eb20-45a0-a9dd-cb1eb6f5a40e",
   "metadata": {
    "slideshow": {
     "slide_type": "subslide"
    },
    "tags": []
   },
   "source": [
    "### Rain on the Regression Parade"
   ]
  },
  {
   "cell_type": "markdown",
   "id": "c955189f-896b-405a-a279-df1555117087",
   "metadata": {
    "slideshow": {
     "slide_type": "-"
    }
   },
   "source": [
    "<img src=\"img/lec33_rain.png\" width=60%>"
   ]
  },
  {
   "cell_type": "markdown",
   "id": "9e66d30c-1ded-4ca0-9bdd-10fdb7825ef8",
   "metadata": {
    "slideshow": {
     "slide_type": "subslide"
    },
    "tags": []
   },
   "source": [
    "### Demo: Rain on the Regression Parade"
   ]
  },
  {
   "cell_type": "code",
   "execution_count": null,
   "id": "c6e980ad-d772-4ea2-93b5-2d69c0fcb4f5",
   "metadata": {},
   "outputs": [],
   "source": [
    "draw_and_compare(0, 10, 25)"
   ]
  },
  {
   "cell_type": "markdown",
   "id": "98786ec6-7ae6-431c-9e5d-675b426ebddd",
   "metadata": {
    "slideshow": {
     "slide_type": "subslide"
    },
    "tags": []
   },
   "source": [
    "### Test Whether There Really is a Slope"
   ]
  },
  {
   "cell_type": "markdown",
   "id": "f27720ed-16a9-4364-a990-6aa75e06f470",
   "metadata": {
    "slideshow": {
     "slide_type": "-"
    }
   },
   "source": [
    "* Null hypothesis: The slope of the true line is 0.\n",
    "* Alternative hypothesis: No, it's not.\n",
    "* Method:\n",
    "    * Construct a bootstrap confidence interval for the true slope.\n",
    "    * If the interval doesn't contain 0, the data are more consistent with the alternative\n",
    "    * If the interval does contain 0, the data are more consistent with the null\n"
   ]
  },
  {
   "cell_type": "markdown",
   "id": "44d6cf75-8405-401a-95f3-a72bed7202a1",
   "metadata": {
    "slideshow": {
     "slide_type": "subslide"
    },
    "tags": []
   },
   "source": [
    "### Demo: Test Whether There Really is a Slope"
   ]
  },
  {
   "cell_type": "markdown",
   "id": "96ba6a84-481d-4efa-9738-af1f6d3d7205",
   "metadata": {},
   "source": [
    "**Null Hypothesis.** Slope of true line = 0.\n",
    "\n",
    "**Alternative Hypothesis.** Slope of true line is not 0."
   ]
  },
  {
   "cell_type": "code",
   "execution_count": null,
   "id": "8f584d05-780c-44d2-8ff3-e9d2c0fc7161",
   "metadata": {},
   "outputs": [],
   "source": [
    "slope(births, 'Maternal Age', 'Birth Weight')"
   ]
  },
  {
   "cell_type": "code",
   "execution_count": null,
   "id": "f7ae4906-8cb5-4481-9cda-1b3f2243d235",
   "metadata": {},
   "outputs": [],
   "source": [
    "births.scatter('Maternal Age', 'Birth Weight', fit_line=True)"
   ]
  },
  {
   "cell_type": "code",
   "execution_count": null,
   "id": "edf2d541-3323-4b21-a56b-feaf9324ed1b",
   "metadata": {
    "tags": []
   },
   "outputs": [],
   "source": [
    "bootstrap_slope(births, 'Maternal Age', 'Birth Weight', 2500)"
   ]
  },
  {
   "cell_type": "markdown",
   "id": "a88e6477-73da-43a6-8732-e58f11ad65f6",
   "metadata": {
    "slideshow": {
     "slide_type": "fragment"
    }
   },
   "source": [
    "---"
   ]
  },
  {
   "cell_type": "markdown",
   "id": "bd157618-9e0d-4d06-be07-66be9cfd6498",
   "metadata": {
    "slideshow": {
     "slide_type": "notes"
    }
   },
   "source": [
    "<footer>\n",
    "    <p>Adopted from UC Berkeley DATA 8 course materials.</p>\n",
    "    <p>This content is offered under a <a href=\"https://creativecommons.org/licenses/by-nc-sa/4.0/\">CC Attribution Non-Commercial Share Alike</a> license.</p>\n",
    "</footer>"
   ]
  }
 ],
 "metadata": {
  "kernelspec": {
   "display_name": "Python 3 (ipykernel)",
   "language": "python",
   "name": "python3"
  },
  "language_info": {
   "codemirror_mode": {
    "name": "ipython",
    "version": 3
   },
   "file_extension": ".py",
   "mimetype": "text/x-python",
   "name": "python",
   "nbconvert_exporter": "python",
   "pygments_lexer": "ipython3",
   "version": "3.10.12"
  }
 },
 "nbformat": 4,
 "nbformat_minor": 5
}
