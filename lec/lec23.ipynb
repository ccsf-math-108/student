{
 "cells": [
  {
   "cell_type": "markdown",
   "id": "5ce205d7-bab4-436a-8801-4472bb108b38",
   "metadata": {
    "editable": true,
    "slideshow": {
     "slide_type": ""
    },
    "tags": []
   },
   "source": [
    "<div style=\"width: 38.5%;\">\n",
    "    <p><strong>City College of San Francisco</strong><p>\n",
    "    <hr>\n",
    "    <p>MATH 108 - Foundations of Data Science</p>\n",
    "</div>"
   ]
  },
  {
   "cell_type": "markdown",
   "id": "4bba7134-f35a-41fc-bdd9-87940fb486d8",
   "metadata": {
    "slideshow": {
     "slide_type": "-"
    }
   },
   "source": [
    "# Lecture 23: A/B Testing"
   ]
  },
  {
   "cell_type": "markdown",
   "id": "d22ace33-187e-4212-b883-e81730cb6178",
   "metadata": {
    "slideshow": {
     "slide_type": "-"
    }
   },
   "source": [
    "Associated Textbook Sections: [12.0, 12.1](https://inferentialthinking.com/chapters/12/Comparing_Two_Samples.html)"
   ]
  },
  {
   "cell_type": "markdown",
   "id": "cdbea57b-854c-4320-b40c-e49c32043cd2",
   "metadata": {
    "slideshow": {
     "slide_type": "slide"
    }
   },
   "source": [
    "<div style=\"width: 38.5%;\">\n",
    "    <p><strong>City College of San Francisco</strong><p>\n",
    "    <hr>\n",
    "    <p>MATH 108 - Foundations of Data Science</p>\n",
    "</div>"
   ]
  },
  {
   "cell_type": "markdown",
   "id": "558c85d6-1084-451a-8bc9-ffbe5fa2e93f",
   "metadata": {
    "slideshow": {
     "slide_type": "slide"
    }
   },
   "source": [
    "## Outline"
   ]
  },
  {
   "cell_type": "markdown",
   "id": "d21cc630-74da-44da-bfc8-c857c7c5bbd8",
   "metadata": {
    "slideshow": {
     "slide_type": "-"
    }
   },
   "source": [
    "* [A/B Testing](#A/B-Testing)\n",
    "* [Digital Experiments](#Digital-Experiments)\n",
    "* [Hypothesis Testing Review](#Hypothesis-Testing-Review)"
   ]
  },
  {
   "cell_type": "markdown",
   "id": "de1e4664-c6cd-44ad-beb9-80fbb070c663",
   "metadata": {
    "slideshow": {
     "slide_type": "slide"
    }
   },
   "source": [
    "## Set Up the Notebook"
   ]
  },
  {
   "cell_type": "code",
   "execution_count": null,
   "id": "d0652102-08ee-456a-8d79-284cc05e9f93",
   "metadata": {
    "slideshow": {
     "slide_type": "-"
    }
   },
   "outputs": [],
   "source": [
    "from datascience import *\n",
    "import numpy as np\n",
    "%matplotlib inline\n",
    "import matplotlib.pyplot as plt\n",
    "plt.style.use('fivethirtyeight')"
   ]
  },
  {
   "cell_type": "markdown",
   "id": "23ccc609-0c5b-4d12-82c5-706629b776a3",
   "metadata": {
    "slideshow": {
     "slide_type": "fragment"
    }
   },
   "source": [
    "---"
   ]
  },
  {
   "cell_type": "markdown",
   "id": "83bbfdc3-102f-4e5b-acf4-dd27d57ffd34",
   "metadata": {
    "slideshow": {
     "slide_type": "slide"
    }
   },
   "source": [
    "## A/B Testing"
   ]
  },
  {
   "cell_type": "markdown",
   "id": "6a62e8a3-0f27-4486-a417-2bbc78eb19d1",
   "metadata": {
    "slideshow": {
     "slide_type": "subslide"
    }
   },
   "source": [
    "### Comparing Two Samples"
   ]
  },
  {
   "cell_type": "markdown",
   "id": "03aee53e-3ffc-4122-a645-9e2198dd5888",
   "metadata": {
    "slideshow": {
     "slide_type": "-"
    }
   },
   "source": [
    "* Compare values of sampled individuals in Group A with values of sampled individuals in Group B.\n",
    "* Question: Do the two sets of values come from the same underlying distribution?\n",
    "* Answering this question by performing a statistical test is called A/B testing."
   ]
  },
  {
   "cell_type": "markdown",
   "id": "55111e83-378c-4403-8308-1d9416616886",
   "metadata": {
    "slideshow": {
     "slide_type": "subslide"
    }
   },
   "source": [
    "### Demo: Smoking and Birth Weight"
   ]
  },
  {
   "cell_type": "markdown",
   "id": "c2f57316-5942-4604-83a9-1a4eec68855a",
   "metadata": {},
   "source": [
    "Load the data in `baby.csv`. This data contains information on 1174 pregnancies and was part of a larger study of all the births form 1960 to 1967 among women in the Kaiser Foundation Health Plan in Oakland, California."
   ]
  },
  {
   "cell_type": "code",
   "execution_count": null,
   "id": "645292ab-0f8e-4dd4-b2c7-4dd5d8d5faf9",
   "metadata": {
    "slideshow": {
     "slide_type": "-"
    }
   },
   "outputs": [],
   "source": [
    "births = Table().read_table(\"./data/baby.csv\")\n",
    "births"
   ]
  },
  {
   "cell_type": "markdown",
   "id": "44ae0275-4110-4b8c-94fe-98ee85e6623d",
   "metadata": {
    "slideshow": {
     "slide_type": "notes"
    }
   },
   "source": [
    "Explore the relationship between the values of `'Maternal Smoker'` and `'Birth Weight'`."
   ]
  },
  {
   "cell_type": "code",
   "execution_count": null,
   "id": "98cc9aef-7d29-4cf2-9611-f4231cc841bc",
   "metadata": {
    "slideshow": {
     "slide_type": "subslide"
    }
   },
   "outputs": [],
   "source": [
    "smoking_and_birthweight = births.select('Maternal Smoker', 'Birth Weight')\n",
    "smoking_and_birthweight.show(2)"
   ]
  },
  {
   "cell_type": "code",
   "execution_count": null,
   "id": "dc8db7d7-c5d1-48e7-af4d-ef90e747a746",
   "metadata": {
    "slideshow": {
     "slide_type": "subslide"
    }
   },
   "outputs": [],
   "source": [
    "smoking_and_birthweight.group('Maternal Smoker')"
   ]
  },
  {
   "cell_type": "code",
   "execution_count": null,
   "id": "c507c80e-eed6-4047-abfc-d77748e9c3aa",
   "metadata": {
    "slideshow": {
     "slide_type": "fragment"
    }
   },
   "outputs": [],
   "source": [
    "smoking_and_birthweight.group('Maternal Smoker', np.mean)"
   ]
  },
  {
   "cell_type": "code",
   "execution_count": null,
   "id": "bd4d924c-8fcf-4a84-978e-d6d92df36ef2",
   "metadata": {
    "slideshow": {
     "slide_type": "fragment"
    }
   },
   "outputs": [],
   "source": [
    "smoking_and_birthweight.group('Maternal Smoker', np.median)"
   ]
  },
  {
   "cell_type": "code",
   "execution_count": null,
   "id": "62692ed6-e1a1-4a17-afb2-fb72e7a08f44",
   "metadata": {
    "slideshow": {
     "slide_type": "subslide"
    },
    "tags": []
   },
   "outputs": [],
   "source": [
    "smoking_and_birthweight.hist('Birth Weight', group='Maternal Smoker')"
   ]
  },
  {
   "cell_type": "markdown",
   "id": "899a9d97-9af0-480e-8d0e-30dee6420608",
   "metadata": {
    "slideshow": {
     "slide_type": "subslide"
    }
   },
   "source": [
    "### The Groups and the Question"
   ]
  },
  {
   "cell_type": "markdown",
   "id": "555ccb89-849d-423a-aa37-8072628b61d5",
   "metadata": {
    "slideshow": {
     "slide_type": "-"
    }
   },
   "source": [
    "* Sample of mothers of newborns. Compare:\n",
    "    * (A) Birth weights of babies of mothers who smoked during pregnancy \n",
    "    * (B) Birth weights of babies of mothers who didn't smoke\n",
    "* Question: Could the differences we are observing be due to chance alone?\n"
   ]
  },
  {
   "cell_type": "markdown",
   "id": "d779286e-39c2-4561-9fce-ba86052a00dc",
   "metadata": {
    "slideshow": {
     "slide_type": "subslide"
    }
   },
   "source": [
    "### Hypotheses"
   ]
  },
  {
   "cell_type": "markdown",
   "id": "87a01d6c-3798-4cf3-bea7-7c44454687f8",
   "metadata": {
    "slideshow": {
     "slide_type": "-"
    }
   },
   "source": [
    "* Null Hypothesis: In the population, the distributions of the birth weights of the babies in the two groups are the same. (They are different in the sample just due to chance.)\n",
    "* Alternative Hypothesis: In the population, the babies of the mothers who smoked during pregnancy weigh less, on average, than the babies of the non-smokers.\n"
   ]
  },
  {
   "cell_type": "markdown",
   "id": "a2ce1972-7e0a-40ba-aa61-051b0d839f84",
   "metadata": {
    "slideshow": {
     "slide_type": "subslide"
    }
   },
   "source": [
    "### Test Statistic"
   ]
  },
  {
   "cell_type": "markdown",
   "id": "05784f93-8d90-4558-adf5-2ce23d83d468",
   "metadata": {
    "slideshow": {
     "slide_type": "-"
    }
   },
   "source": [
    "* Group A: non-smokers\n",
    "* Group B: smokers\n",
    "* Statistic: Difference between average weights: `group_B_mean - group_A_mean`  \n",
    "* Negative values of this statistic favor the alternative\n"
   ]
  },
  {
   "cell_type": "markdown",
   "id": "5d1f79b4-c103-4193-8aa0-40713f7888e4",
   "metadata": {
    "slideshow": {
     "slide_type": "notes"
    }
   },
   "source": [
    "Determine the average difference in the birth weights associated with mothers that did and didn't smoke during pregnancy."
   ]
  },
  {
   "cell_type": "code",
   "execution_count": null,
   "id": "c71e8574-82b5-4f20-95dd-d8b60c17e801",
   "metadata": {
    "slideshow": {
     "slide_type": "subslide"
    }
   },
   "outputs": [],
   "source": [
    "means_table = smoking_and_birthweight.group('Maternal Smoker', np.average)\n",
    "means_table"
   ]
  },
  {
   "cell_type": "code",
   "execution_count": null,
   "id": "2f607d50-1dce-40e5-a88f-b5692659578b",
   "metadata": {
    "slideshow": {
     "slide_type": "fragment"
    }
   },
   "outputs": [],
   "source": [
    "means = means_table.column(1)\n",
    "observed_difference = ...\n",
    "observed_difference"
   ]
  },
  {
   "cell_type": "markdown",
   "id": "329ad51d-43e1-47d8-8399-cfcb57f6748e",
   "metadata": {
    "slideshow": {
     "slide_type": "notes"
    }
   },
   "source": [
    "Create a function that take name of table, column label of numerical variable, column label of group-label variable and returns the difference of means of the two groups."
   ]
  },
  {
   "cell_type": "code",
   "execution_count": null,
   "id": "bc39e86f-9f9a-42a0-9049-d303016301a8",
   "metadata": {
    "slideshow": {
     "slide_type": "subslide"
    }
   },
   "outputs": [],
   "source": [
    "def difference_of_means(table, value_label, group_label):\n",
    "    \"\"\"Takes: name of table, column value_label of numerical variable,\n",
    "    column group_label of group-label variable\n",
    "    Returns: Difference of means of the two group-labels\"\"\"\n",
    "    \n",
    "    #table with the two relevant columns\n",
    "    reduced = ...  \n",
    "    \n",
    "    # table containing group means\n",
    "    means_table = ..\n",
    "    \n",
    "    # array of group means\n",
    "    means = ...\n",
    "    \n",
    "    return ..."
   ]
  },
  {
   "cell_type": "code",
   "execution_count": null,
   "id": "86ee14c8-ee65-473b-b89c-2fbe2f5bb95c",
   "metadata": {
    "slideshow": {
     "slide_type": "fragment"
    }
   },
   "outputs": [],
   "source": [
    "difference_of_means(births, ..., ...)"
   ]
  },
  {
   "cell_type": "markdown",
   "id": "183295b5-e00d-4d35-9933-31f5e5b6c119",
   "metadata": {
    "slideshow": {
     "slide_type": "subslide"
    }
   },
   "source": [
    "### The Data"
   ]
  },
  {
   "cell_type": "markdown",
   "id": "b77d374e-ecbd-41a1-8c38-59dc43642a42",
   "metadata": {
    "slideshow": {
     "slide_type": "-"
    }
   },
   "source": [
    "<img src=\"img/lec19_the_data.png\" width=80%>"
   ]
  },
  {
   "cell_type": "markdown",
   "id": "579af317-bc52-4999-8fb8-326e13329298",
   "metadata": {
    "slideshow": {
     "slide_type": "subslide"
    }
   },
   "source": [
    "### Shuffling Labels Under the Null"
   ]
  },
  {
   "cell_type": "markdown",
   "id": "3cfedaa8-09aa-4a46-931d-cd3706024645",
   "metadata": {
    "slideshow": {
     "slide_type": "-"
    }
   },
   "source": [
    "<img src=\"img/lec19_shuffling_labels.png\" width=80%>"
   ]
  },
  {
   "cell_type": "markdown",
   "id": "eb804a9f-d0a6-4453-91a4-87bad7b96e2c",
   "metadata": {
    "slideshow": {
     "slide_type": "subslide"
    }
   },
   "source": [
    "### Shuffling Rows"
   ]
  },
  {
   "cell_type": "markdown",
   "id": "cd90d467-8143-49b8-9e21-dcd17e5d8fc8",
   "metadata": {
    "slideshow": {
     "slide_type": "subslide"
    }
   },
   "source": [
    "#### The `sample` table method."
   ]
  },
  {
   "cell_type": "markdown",
   "id": "2bfe08bd-ec36-4ae9-aa42-36205a5ac04c",
   "metadata": {
    "slideshow": {
     "slide_type": "-"
    }
   },
   "source": [
    "* `tbl.sample(n)`: Table of `n` rows picked randomly with replacement\n",
    "* `tbl.sample()`: Table with same number of rows as original `tbl`, picked randomly with replacement\n",
    "* `tbl.sample(n, with_replacement = False)`: Table of `n` rows picked randomly without replacement\n",
    "* `tbl.sample(with_replacement = False)`: All rows of `tbl`, in random order"
   ]
  },
  {
   "cell_type": "markdown",
   "id": "e74eb674-fb86-4962-ab37-8240b1dc05d3",
   "metadata": {
    "slideshow": {
     "slide_type": "subslide"
    }
   },
   "source": [
    "#### Random Permutation (Shuffling)"
   ]
  },
  {
   "cell_type": "markdown",
   "id": "d688a9fa-b558-402f-b44f-2b8060d88eac",
   "metadata": {
    "slideshow": {
     "slide_type": "notes"
    }
   },
   "source": [
    "Demonstrate how to perform a random permutation using the `sample` method."
   ]
  },
  {
   "cell_type": "code",
   "execution_count": null,
   "id": "763f0315-5b96-481d-bd23-cec98cb4c9b2",
   "metadata": {
    "slideshow": {
     "slide_type": "-"
    }
   },
   "outputs": [],
   "source": [
    "letters = Table().with_column('Letter', make_array('a', 'b', 'c', 'd', 'e'))\n",
    "letters"
   ]
  },
  {
   "cell_type": "code",
   "execution_count": null,
   "id": "e196b738-0f9d-4f0c-a8c5-6257a8e710b5",
   "metadata": {
    "slideshow": {
     "slide_type": "subslide"
    }
   },
   "outputs": [],
   "source": [
    "# most likely not a permutation\n",
    "..."
   ]
  },
  {
   "cell_type": "code",
   "execution_count": null,
   "id": "7958139a-a9c6-4c7c-9294-4bb9de6a7bd8",
   "metadata": {
    "slideshow": {
     "slide_type": "fragment"
    }
   },
   "outputs": [],
   "source": [
    "# a random permutation\n",
    "..."
   ]
  },
  {
   "cell_type": "code",
   "execution_count": null,
   "id": "6dad44d6-5775-4165-9cd9-680dacef8231",
   "metadata": {
    "slideshow": {
     "slide_type": "subslide"
    }
   },
   "outputs": [],
   "source": [
    "shuffled_letters = ...\n",
    "..."
   ]
  },
  {
   "cell_type": "markdown",
   "id": "7a5999df-b687-4174-8084-1e7b839e1d27",
   "metadata": {
    "slideshow": {
     "slide_type": "subslide"
    }
   },
   "source": [
    "#### Simulating Under the Null"
   ]
  },
  {
   "cell_type": "markdown",
   "id": "e476ca1c-6960-463d-89a3-3dae14906455",
   "metadata": {
    "slideshow": {
     "slide_type": "-"
    }
   },
   "source": [
    "* If the null is true, all rearrangements of labels are equally likely\n",
    "* Plan:\n",
    "    1. Shuffle all group labels\n",
    "    1. Assign each shuffled label to a birth weight\n",
    "    1. Find the difference between the averages of the two shuffled groups\n",
    "    1. Repeat\n",
    "* This process is generally called a permutation test.\n"
   ]
  },
  {
   "cell_type": "markdown",
   "id": "c1f7f228-3046-4745-91df-5bc003a0d21e",
   "metadata": {
    "slideshow": {
     "slide_type": "subslide"
    }
   },
   "source": [
    "### Simulation Under Null Hypothesis"
   ]
  },
  {
   "cell_type": "markdown",
   "id": "3005118c-c1da-423f-9734-6d7a91a28027",
   "metadata": {
    "slideshow": {
     "slide_type": "notes"
    }
   },
   "source": [
    "Perform a random permutation on the table containing a Boolean-valued column representing whether or not the mother smoked during pregnancy and a integer-valued column of their baby's birth weight."
   ]
  },
  {
   "cell_type": "code",
   "execution_count": null,
   "id": "e65be6ed-3ade-4e61-bb8a-67b7060b39b1",
   "metadata": {
    "slideshow": {
     "slide_type": "-"
    }
   },
   "outputs": [],
   "source": [
    "smoking_and_birthweight.show(3)"
   ]
  },
  {
   "cell_type": "code",
   "execution_count": null,
   "id": "f3b2d7be-5284-4f7b-ab29-0c7748eb5510",
   "metadata": {
    "slideshow": {
     "slide_type": "subslide"
    }
   },
   "outputs": [],
   "source": [
    "shuffled_labels = ..."
   ]
  },
  {
   "cell_type": "code",
   "execution_count": null,
   "id": "c564d776-c9c3-46e8-9b06-369646ce3c28",
   "metadata": {
    "slideshow": {
     "slide_type": "fragment"
    }
   },
   "outputs": [],
   "source": [
    "original_and_shuffled = smoking_and_birthweight.with_column(\n",
    "    'Shuffled Label', shuffled_labels\n",
    ")\n",
    "\n",
    "original_and_shuffled"
   ]
  },
  {
   "cell_type": "markdown",
   "id": "121ea117-cef2-4c41-946b-5fcc5aa80805",
   "metadata": {
    "slideshow": {
     "slide_type": "notes"
    }
   },
   "source": [
    "Calculate the difference of the birth weight means for the two smoking groups based on the shuffled data and the original data."
   ]
  },
  {
   "cell_type": "code",
   "execution_count": null,
   "id": "ec646fcf-371e-4823-829f-f2c1227bc785",
   "metadata": {
    "slideshow": {
     "slide_type": "subslide"
    }
   },
   "outputs": [],
   "source": [
    "difference_of_means(original_and_shuffled, ..., ...)"
   ]
  },
  {
   "cell_type": "code",
   "execution_count": null,
   "id": "9d1f730b-13a7-4e0b-8783-8dd8b0275678",
   "metadata": {
    "slideshow": {
     "slide_type": "fragment"
    }
   },
   "outputs": [],
   "source": [
    "difference_of_means(original_and_shuffled, ..., ...)"
   ]
  },
  {
   "cell_type": "markdown",
   "id": "3b10be15-2453-4806-8ae7-dda722a32299",
   "metadata": {
    "slideshow": {
     "slide_type": "subslide"
    }
   },
   "source": [
    "### Permutation Test"
   ]
  },
  {
   "cell_type": "markdown",
   "id": "f03c43d7-3a06-40c4-a9bd-be3d8e08477c",
   "metadata": {
    "slideshow": {
     "slide_type": "notes"
    }
   },
   "source": [
    "Perform a permutation test using 2500 simulations to determine how likely it is to see the observed birth weights if it is assumed that there was no impact on birth weight due to the mother smoking or not during pregnancy. *This might take a few minutes to run.*"
   ]
  },
  {
   "cell_type": "code",
   "execution_count": null,
   "id": "6cd035e4-97de-4f2b-8471-35f7192a127b",
   "metadata": {
    "slideshow": {
     "slide_type": "-"
    }
   },
   "outputs": [],
   "source": [
    "def one_simulated_difference(table, value_label, group_label):\n",
    "    \"\"\"Takes: name of table, column value_label of numerical variable,\n",
    "    column group_label of group-label variable\n",
    "    Returns: Difference of means of the two groups after shuffling group_labels\"\"\"\n",
    "    \n",
    "    # array of shuffled labels\n",
    "    shuffled_labels = ...\n",
    "    \n",
    "    # table of numerical variable and shuffled labels\n",
    "    shuffled_table = ...\n",
    "    \n",
    "    return ..."
   ]
  },
  {
   "cell_type": "code",
   "execution_count": null,
   "id": "202f5592-2912-4122-8caf-21648e766276",
   "metadata": {
    "slideshow": {
     "slide_type": "fragment"
    }
   },
   "outputs": [],
   "source": [
    "one_simulated_difference(births, ..., ...)"
   ]
  },
  {
   "cell_type": "code",
   "execution_count": null,
   "id": "a2146cd9-9b8f-4a73-8739-e55d7eb2a243",
   "metadata": {
    "slideshow": {
     "slide_type": "subslide"
    }
   },
   "outputs": [],
   "source": [
    "differences = ...\n",
    "\n",
    "for ...\n",
    "    new_difference = ...\n",
    "    differences = ..."
   ]
  },
  {
   "cell_type": "code",
   "execution_count": null,
   "id": "9eac0414-ffc7-44b4-aef4-c8176a68d529",
   "metadata": {
    "slideshow": {
     "slide_type": "subslide"
    }
   },
   "outputs": [],
   "source": [
    "Table().with_column('Difference Between Group Means', differences).hist()\n",
    "print('Observed Difference:', observed_difference)\n",
    "plt.scatter(observed_difference, 0, color='red', s=60, zorder=3)\n",
    "plt.title('Prediction Under the Null Hypothesis');"
   ]
  },
  {
   "cell_type": "markdown",
   "id": "f3ee26d3-0e84-424a-95e4-7ea2e9e41599",
   "metadata": {
    "slideshow": {
     "slide_type": "notes"
    }
   },
   "source": [
    "Calculate the p-value."
   ]
  },
  {
   "cell_type": "code",
   "execution_count": null,
   "id": "51286400-2943-46d7-92e8-f07a39f6d938",
   "metadata": {
    "slideshow": {
     "slide_type": "subslide"
    }
   },
   "outputs": [],
   "source": [
    "p_value = ...\n",
    "p_value"
   ]
  },
  {
   "cell_type": "markdown",
   "id": "f0391061-f947-406a-bcaf-2d9c7df906a0",
   "metadata": {},
   "source": [
    "### Conclusion"
   ]
  },
  {
   "cell_type": "markdown",
   "id": "5806ed8d-7012-464b-a86f-5fcd91ac9e9a",
   "metadata": {
    "slideshow": {
     "slide_type": "fragment"
    }
   },
   "source": [
    "* With a p-value approximately 0%, we reject the null hypothesis and accept the alternative. \n",
    "* That is, in the population, the babies of the mothers who smoked during pregnancy weigh less, on average, than the babies of the non-smokers."
   ]
  },
  {
   "cell_type": "markdown",
   "id": "413f8f96-a229-46f6-b71c-6a3093d38116",
   "metadata": {
    "slideshow": {
     "slide_type": "fragment"
    }
   },
   "source": [
    "---"
   ]
  },
  {
   "cell_type": "markdown",
   "id": "1f09f0f7-908a-4474-ac2b-40c568fbf847",
   "metadata": {
    "slideshow": {
     "slide_type": "slide"
    }
   },
   "source": [
    "## Digital Experiments"
   ]
  },
  {
   "cell_type": "markdown",
   "id": "0a721839-55c7-44e1-af20-88fb166d509e",
   "metadata": {},
   "source": [
    "* A/B tests are used in digital experiments. \n",
    "* Since they are typically easy to implement, it is common to find that multiple tests are actually run over a period of time.\n",
    "* They can provide a methodical way to measure whether some new feature is having a statistically significant impact.\n",
    "    * Advertising revenue\n",
    "    * Click rate\n",
    "    * etc.\n"
   ]
  },
  {
   "cell_type": "markdown",
   "id": "da4856f1-cdbc-4067-ada0-ae1651179e09",
   "metadata": {
    "slideshow": {
     "slide_type": "subslide"
    }
   },
   "source": [
    "<center>\n",
    "    <img src=\"./img/A-B_testing_example.png\" alt=\"A comparision of two versions of a website design showing how the design might impact the click rate.\" width=60%>\n",
    "</center>"
   ]
  },
  {
   "cell_type": "markdown",
   "id": "df8b68cb-1bf0-4cd9-be0b-5623e25ffb60",
   "metadata": {
    "slideshow": {
     "slide_type": "notes"
    }
   },
   "source": [
    "_Image Source: [Wikipedia - A/B Testing](https://en.wikipedia.org/wiki/A/B_testing)_"
   ]
  },
  {
   "cell_type": "markdown",
   "id": "d3c671e3-d92a-4122-bde2-c828f4ad1c3b",
   "metadata": {
    "slideshow": {
     "slide_type": "subslide"
    }
   },
   "source": [
    "### ASOS.com"
   ]
  },
  {
   "cell_type": "markdown",
   "id": "cd88421c-01c3-4e36-9e2d-19eb2de48e03",
   "metadata": {
    "slideshow": {
     "slide_type": "notes"
    }
   },
   "source": [
    "[ASOS](https://www.asos.com/us/) is a fashion brand and they publicly shared [datasets from their digital experiments](https://github.com/liuchbryan/oce-dataset). For each of the experiments, you can see the change in measurements between the control and treatment groups over time.\n",
    "\n",
    "*  _This example provides an optional look at real experimental data from a corporation's test results._\n",
    "* _The company has anonymized the experiments and the measurements._\n",
    "* _Understanding the context of a data source is important for interpreting the results of a statistical test._"
   ]
  },
  {
   "cell_type": "code",
   "execution_count": null,
   "id": "acfb87c2-a767-46e7-99b5-b20c8ab5c481",
   "metadata": {
    "slideshow": {
     "slide_type": "-"
    }
   },
   "outputs": [],
   "source": [
    "asos = Table.read_table('./data/asos_digital_experiments_dataset.csv')\n",
    "asos"
   ]
  },
  {
   "cell_type": "markdown",
   "id": "580dad87-63fb-4abf-8141-6fb8617f90a5",
   "metadata": {
    "slideshow": {
     "slide_type": "notes"
    }
   },
   "source": [
    "Here is an explanation of what the labels represent in this dataset."
   ]
  },
  {
   "cell_type": "markdown",
   "id": "a471019a-525c-42cc-a221-f7470f78bd3c",
   "metadata": {
    "slideshow": {
     "slide_type": "subslide"
    }
   },
   "source": [
    "| Field Name | Description | Data Type | Format/ Example | Null value allowed? |\n",
    "| --- | --- | --- | --- | --- |\n",
    "| `experiment_id` | Anonymised ID for the A/B test | string | “036afc” | No |\n",
    "| `variant_id` | The ID of the treatment group. The summary statistics for the corresponding control group is included in Columns 5-7, and hence there are no dedicated rows for the control groups in this dataset. <br /><br /> Note: The variants are not necessarily numbered consecutively. | integer | 2 | No |\n",
    "| `metric_id` | The ID of the organisational metric. (See notes below on list of metric) | integer | (1 \\| 2 \\| 3 \\| 4) | No |\n",
    "| `time_since_start` | \tNumber of days since the start of the experiment. | double | 12.5 | No |\n",
    "| `count_c` | Number of samples in the control group. (The number is stored as a double, but they are clearly integers) | double | 123456.0 | No |\n",
    "| `mean_c` | The sample mean of responses across the control group. | double | 4.361 | Yes |\n",
    "| `variance_c` | The sample variance of responses across the control group. | double | 72.354 | Yes |\n",
    "| `count_t` | Number of samples in the treatment group. | double | 123572.0 | Yes |\n",
    "| `mean_t` | The sample mean of responses across the treatment group. | double | 4.345 | Yes |\n",
    "| `variance_t` | The sample variance of responses across the treatment group. | double | 73.591 | Yes |"
   ]
  },
  {
   "cell_type": "markdown",
   "id": "56c1560d-0517-4fbf-9a05-fab9494bef50",
   "metadata": {
    "slideshow": {
     "slide_type": "fragment"
    }
   },
   "source": [
    "#### List of metrics"
   ]
  },
  {
   "cell_type": "markdown",
   "id": "b77159c0-c7a1-42b6-bb42-236e4cb24fe6",
   "metadata": {
    "slideshow": {
     "slide_type": "-"
    }
   },
   "source": [
    "The dataset features four metrics, numbered 1, 2, 3, and 4. Metric 1 accepts binary responses, metrics 2 and 3 accept count-based responses, and metric 4 accepts non-negative real number responses. The responses for metrics 2, 3, and 4 demonstrate various degrees of right skewness."
   ]
  },
  {
   "cell_type": "markdown",
   "id": "9da3b2e7-2afb-4a74-a74a-73617d8b8c95",
   "metadata": {
    "slideshow": {
     "slide_type": "notes"
    }
   },
   "source": [
    "Visualize the trend of the observed difference in means for the experiment labeled `036afc` for metric 4. Notice the gap that is likely to reflect a gap in the time period in which the experiments where run before pausing to reflect and make modifications."
   ]
  },
  {
   "cell_type": "code",
   "execution_count": null,
   "id": "2540ba1b-fdf7-4094-9f79-37af0bd89563",
   "metadata": {
    "slideshow": {
     "slide_type": "subslide"
    }
   },
   "outputs": [],
   "source": [
    "exp_id = '036afc'\n",
    "metric_id = 4\n",
    "reduced = asos.where('experiment_id', exp_id).where('metric_id', metric_id)\n",
    "times = reduced.column('time_since_start')\n",
    "diffs = reduced.column('mean_c') - reduced.column('mean_t')\n",
    "means_table = Table().with_columns(\n",
    "    'Time Since Start', times,\n",
    "    'Diff in Means', diffs\n",
    ")\n",
    "means_table.plot('Time Since Start')"
   ]
  },
  {
   "cell_type": "code",
   "execution_count": null,
   "id": "e04922e7-4ab7-4113-b088-d937bce7aab2",
   "metadata": {
    "slideshow": {
     "slide_type": "subslide"
    }
   },
   "outputs": [],
   "source": [
    "means_table.hist('Diff in Means')"
   ]
  },
  {
   "cell_type": "code",
   "execution_count": null,
   "id": "bae9e949-8eb5-4a58-9329-8acb63268656",
   "metadata": {
    "slideshow": {
     "slide_type": "subslide"
    }
   },
   "outputs": [],
   "source": [
    "means_table_pre_40 = means_table.where('Time Since Start', are.below(40))\n",
    "means_table_post_40 = means_table.where('Time Since Start', are.above_or_equal_to(40))"
   ]
  },
  {
   "cell_type": "code",
   "execution_count": null,
   "id": "af620ce5-79e0-469a-accd-66023b66ad12",
   "metadata": {
    "slideshow": {
     "slide_type": "subslide"
    }
   },
   "outputs": [],
   "source": [
    "means_table_pre_40.hist('Diff in Means')\n",
    "plt.hist(means_table_post_40.column('Diff in Means'), alpha=0.5)\n",
    "plt.show()"
   ]
  },
  {
   "cell_type": "markdown",
   "id": "978f1ae8-2a50-458d-8c1d-420dd44d0c04",
   "metadata": {
    "slideshow": {
     "slide_type": "fragment"
    }
   },
   "source": [
    "---"
   ]
  },
  {
   "cell_type": "markdown",
   "id": "8ed7446b-6ba9-46b5-97de-303c4baaff76",
   "metadata": {
    "slideshow": {
     "slide_type": "slide"
    }
   },
   "source": [
    "## Hypothesis Testing Review"
   ]
  },
  {
   "cell_type": "markdown",
   "id": "dd9fa10b-adae-446d-8b97-d752a820bdbe",
   "metadata": {
    "slideshow": {
     "slide_type": "subslide"
    }
   },
   "source": [
    "### Some Hypothesis Testing Situations"
   ]
  },
  {
   "cell_type": "markdown",
   "id": "ae7ffc53-2fde-497c-9d04-22a7a9524d75",
   "metadata": {
    "slideshow": {
     "slide_type": "-"
    }
   },
   "source": [
    "* 1 Sample: One Category (e.g. percent of flowers that are purple)\n",
    "    * Test Statistic: `empirical_percent`, `abs(empirical_percent - null_percent)`\n",
    "    * How to Simulate: `sample_proportions(n, null_dist)`\n",
    "* 1 Sample: Multiple Categories (e.g. ethnicity distribution of jury panel)\n",
    "    * Test Statistic: `tvd(empirical_dist, null_dist)`\n",
    "    * How to Simulate: `sample_proportions(n, null_dist)`\n",
    "* 1 Sample: Numerical Data (e.g. scores in a lab section)\n",
    "    * Test Statistic: `empirical_mean`, `abs(empirical_mean - null_mean)`\n",
    "    * How to Simulate: `population_data.sample(n, with_replacement=False)`\n",
    "* 2 Samples: Numerical Data (e.g. birth weights of smokers vs. non-smokers)\n",
    "    * Test Statistic: `group_a_mean - group_b_mean`, `group_b_mean - group_a_mean`, `abs(group_a_mean - group_b_mean)`\n",
    "    * How to Simulate: `empirical_data.sample(with_replacement=False)`\n"
   ]
  },
  {
   "cell_type": "markdown",
   "id": "5d4541a7-3997-4083-895c-4a6be06c0c13",
   "metadata": {
    "slideshow": {
     "slide_type": "fragment"
    }
   },
   "source": [
    "---"
   ]
  },
  {
   "cell_type": "markdown",
   "id": "83ac6ddd-a98e-4294-a2d1-17ecb493ffaa",
   "metadata": {
    "slideshow": {
     "slide_type": "notes"
    }
   },
   "source": [
    "<footer>\n",
    "    <p>Adopted from UC Berkeley DATA 8 course materials.</p>\n",
    "    <p>This content is offered under a <a href=\"https://creativecommons.org/licenses/by-nc-sa/4.0/\">CC Attribution Non-Commercial Share Alike</a> license.</p>\n",
    "</footer>"
   ]
  }
 ],
 "metadata": {
  "kernelspec": {
   "display_name": "Python 3 (ipykernel)",
   "language": "python",
   "name": "python3"
  },
  "language_info": {
   "codemirror_mode": {
    "name": "ipython",
    "version": 3
   },
   "file_extension": ".py",
   "mimetype": "text/x-python",
   "name": "python",
   "nbconvert_exporter": "python",
   "pygments_lexer": "ipython3",
   "version": "3.10.12"
  }
 },
 "nbformat": 4,
 "nbformat_minor": 5
}
