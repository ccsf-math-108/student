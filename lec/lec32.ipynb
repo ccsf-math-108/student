{
 "cells": [
  {
   "cell_type": "markdown",
   "id": "5ce205d7-bab4-436a-8801-4472bb108b38",
   "metadata": {
    "editable": true,
    "slideshow": {
     "slide_type": ""
    },
    "tags": []
   },
   "source": [
    "<div style=\"width: 38.5%;\">\n",
    "    <p><strong>City College of San Francisco</strong><p>\n",
    "    <hr>\n",
    "    <p>MATH 108 - Foundations of Data Science</p>\n",
    "</div>"
   ]
  },
  {
   "cell_type": "markdown",
   "id": "4bba7134-f35a-41fc-bdd9-87940fb486d8",
   "metadata": {
    "slideshow": {
     "slide_type": "-"
    }
   },
   "source": [
    "# Lecture 32: Correlation"
   ]
  },
  {
   "cell_type": "markdown",
   "id": "36a8206c",
   "metadata": {},
   "source": [
    "Associated Textbook Sections: [15.0, 15.1](https://inferentialthinking.com/chapters/15/1/Correlation.html)"
   ]
  },
  {
   "cell_type": "markdown",
   "id": "64cbe4d2-80bb-41c4-9467-373e0e9d9d76",
   "metadata": {
    "slideshow": {
     "slide_type": "slide"
    }
   },
   "source": [
    "## Outline"
   ]
  },
  {
   "cell_type": "markdown",
   "id": "4120c2dc",
   "metadata": {},
   "source": [
    "* [Regression Roadmap](#Regression-Roadmap)\n",
    "* [Prediction](#Prediction)\n",
    "* [Association](#Association)\n",
    "* [Correlation Coefficient](#Correlation-Coefficient)\n",
    "* [Care in Interpretation](#Care-in-Interpretation)"
   ]
  },
  {
   "cell_type": "markdown",
   "id": "5c99860d-9203-434c-8fdc-9393281e2a92",
   "metadata": {
    "slideshow": {
     "slide_type": "slide"
    }
   },
   "source": [
    "## Set Up the Notebook"
   ]
  },
  {
   "cell_type": "code",
   "execution_count": null,
   "id": "d91939a2-e468-4007-a4e1-95d836472f84",
   "metadata": {
    "slideshow": {
     "slide_type": "-"
    }
   },
   "outputs": [],
   "source": [
    "from datascience import *\n",
    "import numpy as np\n",
    "%matplotlib inline\n",
    "import matplotlib.pyplot as plt\n",
    "plt.style.use('fivethirtyeight')\n",
    "\n",
    "def r_scatter(r):\n",
    "    plt.figure(figsize=(5,5))\n",
    "    \"Generate a scatter plot with a correlation approximately r\"\n",
    "    x = np.random.normal(0, 1, 1000)\n",
    "    z = np.random.normal(0, 1, 1000)\n",
    "    y = r*x + (np.sqrt(1-r**2))*z\n",
    "    plt.scatter(x, y, color='darkblue', s=20)\n",
    "    plt.xlim(-4, 4)\n",
    "    plt.ylim(-4, 4)"
   ]
  },
  {
   "cell_type": "markdown",
   "id": "2f528397-092b-4244-8454-a549cbfec5e6",
   "metadata": {
    "slideshow": {
     "slide_type": "fragment"
    }
   },
   "source": [
    "---"
   ]
  },
  {
   "cell_type": "markdown",
   "id": "f9a41179",
   "metadata": {},
   "source": [
    "## Regression Roadmap"
   ]
  },
  {
   "cell_type": "markdown",
   "id": "17c2d0f5",
   "metadata": {},
   "source": [
    "* Association and correlation\n",
    "* Prediction, scatterplots and lines\n",
    "* Least squares: finding the \"best\" line for a dataset\n",
    "* Residuals: analyzing mistakes and errors\n",
    "* Regression inference: understanding uncertainty\n"
   ]
  },
  {
   "cell_type": "markdown",
   "id": "b55f02b0",
   "metadata": {},
   "source": [
    "---"
   ]
  },
  {
   "cell_type": "markdown",
   "id": "409e2a83",
   "metadata": {},
   "source": [
    "## Prediction"
   ]
  },
  {
   "cell_type": "markdown",
   "id": "69022069",
   "metadata": {},
   "source": [
    "### Guessing the Future"
   ]
  },
  {
   "cell_type": "markdown",
   "id": "d67e831c",
   "metadata": {},
   "source": [
    "* Based on incomplete information\n",
    "* One way of making predictions: \n",
    "    * To predict an outcome for an individual, \n",
    "    * find others who are like that individual\n",
    "    * and whose outcomes you know. \n",
    "    * Use those outcomes as the basis of your prediction.\n"
   ]
  },
  {
   "cell_type": "markdown",
   "id": "6e8d9971",
   "metadata": {},
   "source": [
    "### Demo: Prediction"
   ]
  },
  {
   "cell_type": "markdown",
   "id": "e08d770c",
   "metadata": {},
   "source": [
    "Load the `galton.csv` data, and visualization the `MidParent` and `Child` height relationship."
   ]
  },
  {
   "cell_type": "code",
   "execution_count": null,
   "id": "3bbe7317",
   "metadata": {},
   "outputs": [],
   "source": [
    "galton = Table.read_table('data/galton.csv')"
   ]
  },
  {
   "cell_type": "code",
   "execution_count": null,
   "id": "c4ee22e8",
   "metadata": {},
   "outputs": [],
   "source": [
    "heights = Table().with_columns(\n",
    "    'MidParent', galton.column('midparentHeight'),\n",
    "    'Child', galton.column('childHeight')\n",
    "    )"
   ]
  },
  {
   "cell_type": "code",
   "execution_count": null,
   "id": "4a6ac6f2",
   "metadata": {},
   "outputs": [],
   "source": [
    "heights"
   ]
  },
  {
   "cell_type": "code",
   "execution_count": null,
   "id": "2704fbc7",
   "metadata": {},
   "outputs": [],
   "source": [
    "heights.scatter('MidParent')"
   ]
  },
  {
   "cell_type": "markdown",
   "id": "3975b36f",
   "metadata": {},
   "source": [
    "Use the `predict_child` function below to predict a child's hight based on a midparent height."
   ]
  },
  {
   "cell_type": "code",
   "execution_count": null,
   "id": "cd67efda",
   "metadata": {},
   "outputs": [],
   "source": [
    "def predict_child(h):\n",
    "    \"\"\"Return a prediction of the height of a child \n",
    "    whose parents have a midparent height of h.\n",
    "    \n",
    "    The prediction is the average height of the children \n",
    "    whose midparent height is in the range h plus or minus 0.5 inches.\n",
    "    \"\"\"\n",
    "    \n",
    "    close_points = heights.where('MidParent', are.between(h-0.5, h + 0.5))\n",
    "    return close_points.column('Child').mean()   "
   ]
  },
  {
   "cell_type": "code",
   "execution_count": null,
   "id": "d3479aad",
   "metadata": {},
   "outputs": [],
   "source": [
    "heights_with_predictions = heights.with_column(\n",
    "    'Prediction', heights.apply(predict_child, 'MidParent')\n",
    "    )"
   ]
  },
  {
   "cell_type": "code",
   "execution_count": null,
   "id": "0fbcafd2",
   "metadata": {},
   "outputs": [],
   "source": [
    "heights_with_predictions.scatter('MidParent')"
   ]
  },
  {
   "cell_type": "markdown",
   "id": "d8743070",
   "metadata": {},
   "source": [
    "---"
   ]
  },
  {
   "cell_type": "markdown",
   "id": "4de70f01",
   "metadata": {},
   "source": [
    "## Association"
   ]
  },
  {
   "cell_type": "markdown",
   "id": "807baf52",
   "metadata": {},
   "source": [
    "### Two Numerical Variables"
   ]
  },
  {
   "cell_type": "markdown",
   "id": "2d164fec",
   "metadata": {},
   "source": [
    "* Trend\n",
    "    * Positive association\n",
    "    * Negative association\n",
    "* Pattern\n",
    "    * Any discernible \"shape\" in the scatter\n",
    "    * Linear vs. Non-linear\n",
    "* Visualize, then quantify\n"
   ]
  },
  {
   "cell_type": "markdown",
   "id": "143224e0",
   "metadata": {},
   "source": [
    "### Demo: Association"
   ]
  },
  {
   "cell_type": "markdown",
   "id": "c3013e79",
   "metadata": {},
   "source": [
    "Load the `hybrid.csv` data on several older hybrid cars."
   ]
  },
  {
   "cell_type": "code",
   "execution_count": null,
   "id": "ac88e514",
   "metadata": {},
   "outputs": [],
   "source": [
    "hybrid = Table.read_table('data/hybrid.csv')\n",
    "hybrid"
   ]
  },
  {
   "cell_type": "code",
   "execution_count": null,
   "id": "c94c083c",
   "metadata": {},
   "outputs": [],
   "source": [
    "hybrid.sort('msrp', descending=True)"
   ]
  },
  {
   "cell_type": "markdown",
   "id": "5cc0f444",
   "metadata": {},
   "source": [
    "Visualize the relationship between several of the numerical variables."
   ]
  },
  {
   "cell_type": "code",
   "execution_count": null,
   "id": "e7086b3f",
   "metadata": {},
   "outputs": [],
   "source": [
    "hybrid.scatter('mpg', 'msrp')"
   ]
  },
  {
   "cell_type": "code",
   "execution_count": null,
   "id": "6869a86a",
   "metadata": {},
   "outputs": [],
   "source": [
    "hybrid.scatter('acceleration', 'msrp')"
   ]
  },
  {
   "cell_type": "code",
   "execution_count": null,
   "id": "7ff87987",
   "metadata": {},
   "outputs": [],
   "source": [
    "suv = hybrid.where('class', 'SUV')\n",
    "suv.num_rows"
   ]
  },
  {
   "cell_type": "code",
   "execution_count": null,
   "id": "223e48c5",
   "metadata": {},
   "outputs": [],
   "source": [
    "suv.scatter('acceleration', 'msrp')"
   ]
  },
  {
   "cell_type": "code",
   "execution_count": null,
   "id": "4ccc8e6c",
   "metadata": {},
   "outputs": [],
   "source": [
    "suv.scatter('mpg', 'msrp')"
   ]
  },
  {
   "cell_type": "markdown",
   "id": "3d45eaea",
   "metadata": {},
   "source": [
    "Use the `standard_units` function bellow to visualize the relationship between `mpg` and `msrp` in standard units."
   ]
  },
  {
   "cell_type": "code",
   "execution_count": null,
   "id": "3eedc1cb",
   "metadata": {},
   "outputs": [],
   "source": [
    "def standard_units(x):\n",
    "    \"Convert any array of numbers to standard units.\"\n",
    "    return (x - np.average(x)) / np.std(x)"
   ]
  },
  {
   "cell_type": "code",
   "execution_count": null,
   "id": "6aca00e0",
   "metadata": {},
   "outputs": [],
   "source": [
    "Table().with_columns(\n",
    "    'mpg (standard units)',  standard_units(suv.column('mpg')), \n",
    "    'msrp (standard units)', standard_units(suv.column('msrp'))\n",
    ").scatter(0, 1)\n",
    "plt.xlim(-3, 3)\n",
    "plt.ylim(-3, 3);"
   ]
  },
  {
   "cell_type": "markdown",
   "id": "d6d9b326",
   "metadata": {},
   "source": [
    "Use the `standard_units` function bellow to visualize the relationship between `acceleration` and `msrp` in standard units."
   ]
  },
  {
   "cell_type": "code",
   "execution_count": null,
   "id": "15dc6548",
   "metadata": {},
   "outputs": [],
   "source": [
    "Table().with_columns(\n",
    "    'acceleration (standard units)', standard_units(suv.column('acceleration')), \n",
    "    'msrp (standard units)',         standard_units(suv.column('msrp'))\n",
    ").scatter(0, 1)\n",
    "plt.xlim(-3, 3)\n",
    "plt.ylim(-3, 3);"
   ]
  },
  {
   "cell_type": "markdown",
   "id": "4ec64092",
   "metadata": {},
   "source": [
    "---"
   ]
  },
  {
   "cell_type": "markdown",
   "id": "90e8c17c",
   "metadata": {},
   "source": [
    "## Correlation Coefficient"
   ]
  },
  {
   "cell_type": "markdown",
   "id": "c704fc18",
   "metadata": {},
   "source": [
    "### The Correlation Coefficient"
   ]
  },
  {
   "cell_type": "markdown",
   "id": "c97e9ab0",
   "metadata": {},
   "source": [
    "* Measures linear association\n",
    "* Based on standard units\n",
    "* $-1 \\leq r \\leq 1$\n",
    "    * $r =  1$: scatter is perfect straight line sloping up\n",
    "    * $r = -1$: scatter is perfect straight line sloping down\n",
    "    * $r = 0$: No linear association; *uncorrelated*\n"
   ]
  },
  {
   "cell_type": "markdown",
   "id": "05978f8b",
   "metadata": {},
   "source": [
    "### Definition of $r$"
   ]
  },
  {
   "cell_type": "markdown",
   "id": "29e1aa39",
   "metadata": {},
   "source": [
    "* Correlation Coefficient ($r$) = \n",
    "    * average of\n",
    "    * product of\n",
    "    * $x$ in standard units\n",
    "    * and\n",
    "    * $y$ in standard units\n",
    "* Measures how clustered the scatter is around a straight line"
   ]
  },
  {
   "cell_type": "markdown",
   "id": "08ed1eb1",
   "metadata": {},
   "source": [
    "### Demo: Correlation"
   ]
  },
  {
   "cell_type": "markdown",
   "id": "a877020d",
   "metadata": {},
   "source": [
    "Demonstrate various scatter plots based on an inputted correlation coefficient using the `r_scatter` function."
   ]
  },
  {
   "cell_type": "code",
   "execution_count": null,
   "id": "d706d2bc",
   "metadata": {},
   "outputs": [],
   "source": [
    "r_scatter(-1)"
   ]
  },
  {
   "cell_type": "markdown",
   "id": "0c68f9b0",
   "metadata": {},
   "source": [
    "### Calculating $r$"
   ]
  },
  {
   "cell_type": "markdown",
   "id": "f48b6889",
   "metadata": {},
   "source": [
    "Explore the concept of calculating the $r$ value. "
   ]
  },
  {
   "cell_type": "code",
   "execution_count": null,
   "id": "7b680f02",
   "metadata": {},
   "outputs": [],
   "source": [
    "x = np.arange(1, 7, 1)\n",
    "y = make_array(2, 3, 1, 5, 2, 7)\n",
    "t = Table().with_columns(\n",
    "        'x', x,\n",
    "        'y', y\n",
    "    )\n",
    "t"
   ]
  },
  {
   "cell_type": "code",
   "execution_count": null,
   "id": "365c9bea",
   "metadata": {},
   "outputs": [],
   "source": [
    "t.scatter('x', 'y', s=30, color='red')"
   ]
  },
  {
   "cell_type": "code",
   "execution_count": null,
   "id": "b9d19fb6",
   "metadata": {},
   "outputs": [],
   "source": [
    "t = t.with_columns(\n",
    "        'x (standard units)', ...,\n",
    "        'y (standard units)', ...\n",
    "    )\n",
    "t"
   ]
  },
  {
   "cell_type": "code",
   "execution_count": null,
   "id": "7a6ee013",
   "metadata": {},
   "outputs": [],
   "source": [
    "t = t.with_columns('product of standard units', ...)\n",
    "t"
   ]
  },
  {
   "cell_type": "markdown",
   "id": "6275654e",
   "metadata": {},
   "source": [
    "Notice that $r$ is the average of the products of the standard units"
   ]
  },
  {
   "cell_type": "code",
   "execution_count": null,
   "id": "20a20842",
   "metadata": {},
   "outputs": [],
   "source": [
    "r = ...\n",
    "r"
   ]
  },
  {
   "cell_type": "markdown",
   "id": "f40b17f8",
   "metadata": {},
   "source": [
    "Define `correlation` as a function for a given table and x, y column labels."
   ]
  },
  {
   "cell_type": "code",
   "execution_count": null,
   "id": "165a635b",
   "metadata": {},
   "outputs": [],
   "source": [
    "def correlation(t, x, y):\n",
    "    \"\"\"t is a table; x and y are column labels\"\"\"\n",
    "    x_in_standard_units = ...\n",
    "    y_in_standard_units = ...\n",
    "    return ..."
   ]
  },
  {
   "cell_type": "code",
   "execution_count": null,
   "id": "0db7f3a1",
   "metadata": {},
   "outputs": [],
   "source": [
    "correlation(t, 'x', 'y')"
   ]
  },
  {
   "cell_type": "code",
   "execution_count": null,
   "id": "a2624a65",
   "metadata": {},
   "outputs": [],
   "source": [
    "correlation(suv, 'mpg', 'msrp')"
   ]
  },
  {
   "cell_type": "code",
   "execution_count": null,
   "id": "2d586790",
   "metadata": {},
   "outputs": [],
   "source": [
    "correlation(suv, 'acceleration', 'msrp')"
   ]
  },
  {
   "cell_type": "markdown",
   "id": "2443396e",
   "metadata": {},
   "source": [
    "---"
   ]
  },
  {
   "cell_type": "markdown",
   "id": "e2dab96f",
   "metadata": {},
   "source": [
    "## Care in Interpretation"
   ]
  },
  {
   "cell_type": "markdown",
   "id": "c828355d",
   "metadata": {},
   "source": [
    "### Watch Out For ..."
   ]
  },
  {
   "cell_type": "markdown",
   "id": "b114b868",
   "metadata": {},
   "source": [
    "* False conclusions of causation\n",
    "* Nonlinearity\n",
    "* Outliers\n",
    "* Ecological Correlations"
   ]
  },
  {
   "cell_type": "markdown",
   "id": "2a56cf66",
   "metadata": {},
   "source": [
    "### Demo: Switching Axes"
   ]
  },
  {
   "cell_type": "markdown",
   "id": "fc59fd22",
   "metadata": {},
   "source": [
    "Notice that `correlation(t, 'x', 'y') == correlation(t, 'y', 'x')`. This can lead to a false conclusion of causation."
   ]
  },
  {
   "cell_type": "code",
   "execution_count": null,
   "id": "1b5c1a2f",
   "metadata": {},
   "outputs": [],
   "source": [
    "correlation(t, 'x', 'y')"
   ]
  },
  {
   "cell_type": "code",
   "execution_count": null,
   "id": "42e9954c",
   "metadata": {},
   "outputs": [],
   "source": [
    "t.scatter('x', 'y', s=30, color='red')"
   ]
  },
  {
   "cell_type": "code",
   "execution_count": null,
   "id": "04741166",
   "metadata": {},
   "outputs": [],
   "source": [
    "t.scatter('y', 'x', s=30, color='red')"
   ]
  },
  {
   "cell_type": "code",
   "execution_count": null,
   "id": "56ec1460",
   "metadata": {},
   "outputs": [],
   "source": [
    "correlation(t, 'y', 'x')"
   ]
  },
  {
   "cell_type": "markdown",
   "id": "ae818db5",
   "metadata": {},
   "source": [
    "### Demo: Nonlinearity"
   ]
  },
  {
   "cell_type": "markdown",
   "id": "79d010d8",
   "metadata": {},
   "source": [
    "Explore the correlation calculation for symmetrical non-linear data."
   ]
  },
  {
   "cell_type": "code",
   "execution_count": null,
   "id": "b0b9e7aa",
   "metadata": {},
   "outputs": [],
   "source": [
    "new_x = np.arange(-4, 4.1, 0.5)\n",
    "nonlinear = Table().with_columns(\n",
    "        'x', new_x,\n",
    "        'y', new_x**2\n",
    "    )\n",
    "nonlinear.scatter('x', 'y', s=30, color='r')"
   ]
  },
  {
   "cell_type": "code",
   "execution_count": null,
   "id": "813cd1e4",
   "metadata": {},
   "outputs": [],
   "source": [
    "correlation(nonlinear, 'x', 'y')"
   ]
  },
  {
   "cell_type": "markdown",
   "id": "e18e092a",
   "metadata": {},
   "source": [
    "### Demo: Outliers"
   ]
  },
  {
   "cell_type": "markdown",
   "id": "8f45a77d",
   "metadata": {},
   "source": [
    "Notice how 1 outlier can strengthen or weaken an $r$ value depending on its value."
   ]
  },
  {
   "cell_type": "code",
   "execution_count": null,
   "id": "d141160a",
   "metadata": {},
   "outputs": [],
   "source": [
    "line = Table().with_columns(\n",
    "        'x', make_array(1, 2, 3, 4),\n",
    "        'y', make_array(1, 2, 3, 4)\n",
    "    )\n",
    "line.scatter('x', 'y', s=30, color='r')"
   ]
  },
  {
   "cell_type": "code",
   "execution_count": null,
   "id": "7608c756",
   "metadata": {},
   "outputs": [],
   "source": [
    "correlation(line, 'x', 'y')"
   ]
  },
  {
   "cell_type": "code",
   "execution_count": null,
   "id": "ad1890be",
   "metadata": {},
   "outputs": [],
   "source": [
    "outlier = Table().with_columns(\n",
    "        'x', make_array(1, 2, 3, 4, 5),\n",
    "        'y', make_array(1, 2, 3, 4, 0)\n",
    "    )\n",
    "outlier.scatter('x', 'y', s=30, color='r')"
   ]
  },
  {
   "cell_type": "code",
   "execution_count": null,
   "id": "a0dc3c2f",
   "metadata": {},
   "outputs": [],
   "source": [
    "correlation(outlier, 'x', 'y')"
   ]
  },
  {
   "cell_type": "markdown",
   "id": "5616f6aa",
   "metadata": {},
   "source": [
    "### Demo: Ecological Correlations"
   ]
  },
  {
   "cell_type": "markdown",
   "id": "b5c8227a",
   "metadata": {},
   "source": [
    "Explore an example of SAT scores (`sat2014.csv`) in connection to ecological correlations."
   ]
  },
  {
   "cell_type": "code",
   "execution_count": null,
   "id": "7ee66a35",
   "metadata": {},
   "outputs": [],
   "source": [
    "sat2014 = Table.read_table('./data/sat2014.csv').sort('State')\n",
    "sat2014"
   ]
  },
  {
   "cell_type": "code",
   "execution_count": null,
   "id": "9f7d3655",
   "metadata": {},
   "outputs": [],
   "source": [
    "sat2014.scatter('Critical Reading', 'Math')"
   ]
  },
  {
   "cell_type": "code",
   "execution_count": null,
   "id": "e4fb5c7a",
   "metadata": {},
   "outputs": [],
   "source": [
    "correlation(sat2014, 'Critical Reading', 'Math')"
   ]
  },
  {
   "cell_type": "markdown",
   "id": "a88e6477-73da-43a6-8732-e58f11ad65f6",
   "metadata": {
    "slideshow": {
     "slide_type": "fragment"
    }
   },
   "source": [
    "---"
   ]
  },
  {
   "cell_type": "markdown",
   "id": "bd157618-9e0d-4d06-be07-66be9cfd6498",
   "metadata": {
    "slideshow": {
     "slide_type": "notes"
    }
   },
   "source": [
    "<footer>\n",
    "    <p>Adopted from UC Berkeley DATA 8 course materials.</p>\n",
    "    <p>This content is offered under a <a href=\"https://creativecommons.org/licenses/by-nc-sa/4.0/\">CC Attribution Non-Commercial Share Alike</a> license.</p>\n",
    "</footer>"
   ]
  }
 ],
 "metadata": {
  "kernelspec": {
   "display_name": "Python 3 (ipykernel)",
   "language": "python",
   "name": "python3"
  },
  "language_info": {
   "codemirror_mode": {
    "name": "ipython",
    "version": 3
   },
   "file_extension": ".py",
   "mimetype": "text/x-python",
   "name": "python",
   "nbconvert_exporter": "python",
   "pygments_lexer": "ipython3",
   "version": "3.10.12"
  }
 },
 "nbformat": 4,
 "nbformat_minor": 5
}
