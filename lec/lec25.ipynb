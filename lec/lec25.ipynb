{
 "cells": [
  {
   "cell_type": "markdown",
   "id": "5ce205d7-bab4-436a-8801-4472bb108b38",
   "metadata": {
    "editable": true,
    "slideshow": {
     "slide_type": ""
    },
    "tags": []
   },
   "source": [
    "<div style=\"width: 38.5%;\">\n",
    "    <p><strong>City College of San Francisco</strong><p>\n",
    "    <hr>\n",
    "    <p>MATH 108 - Foundations of Data Science</p>\n",
    "</div>"
   ]
  },
  {
   "cell_type": "markdown",
   "id": "4bba7134-f35a-41fc-bdd9-87940fb486d8",
   "metadata": {
    "slideshow": {
     "slide_type": "-"
    }
   },
   "source": [
    "# Lecture 25: Hypothesis Testing Examples"
   ]
  },
  {
   "cell_type": "markdown",
   "id": "d22ace33-187e-4212-b883-e81730cb6178",
   "metadata": {
    "slideshow": {
     "slide_type": "-"
    }
   },
   "source": [
    "Associated Textbook Sections: [12.3](https://inferentialthinking.com/chapters/12/3/Deflategate.html)"
   ]
  },
  {
   "cell_type": "markdown",
   "id": "cdbea57b-854c-4320-b40c-e49c32043cd2",
   "metadata": {
    "slideshow": {
     "slide_type": "slide"
    }
   },
   "source": [
    "<div style=\"width: 38.5%;\">\n",
    "    <p><strong>City College of San Francisco</strong><p>\n",
    "    <hr>\n",
    "    <p>MATH 108 - Foundations of Data Science</p>\n",
    "</div>"
   ]
  },
  {
   "cell_type": "markdown",
   "id": "558c85d6-1084-451a-8bc9-ffbe5fa2e93f",
   "metadata": {
    "slideshow": {
     "slide_type": "slide"
    }
   },
   "source": [
    "## Outline"
   ]
  },
  {
   "cell_type": "markdown",
   "id": "d21cc630-74da-44da-bfc8-c857c7c5bbd8",
   "metadata": {
    "slideshow": {
     "slide_type": "-"
    }
   },
   "source": [
    "* [Benford's Law](#Benford's-Law)\n",
    "* [Reaction Time](#Reaction-Time)\n",
    "* [Zodiac Signs](#Zodiac-Signs)"
   ]
  },
  {
   "cell_type": "markdown",
   "id": "de1e4664-c6cd-44ad-beb9-80fbb070c663",
   "metadata": {
    "slideshow": {
     "slide_type": "slide"
    }
   },
   "source": [
    "## Set Up the Notebook"
   ]
  },
  {
   "cell_type": "code",
   "execution_count": null,
   "id": "d0652102-08ee-456a-8d79-284cc05e9f93",
   "metadata": {
    "slideshow": {
     "slide_type": "-"
    }
   },
   "outputs": [],
   "source": [
    "from datascience import *\n",
    "import numpy as np\n",
    "%matplotlib inline\n",
    "import matplotlib.pyplot as plt\n",
    "plt.style.use('fivethirtyeight')"
   ]
  },
  {
   "cell_type": "markdown",
   "id": "23ccc609-0c5b-4d12-82c5-706629b776a3",
   "metadata": {
    "slideshow": {
     "slide_type": "fragment"
    }
   },
   "source": [
    "---"
   ]
  },
  {
   "cell_type": "markdown",
   "id": "641dd78c-58ba-41ce-993c-5a1a7c7e5675",
   "metadata": {
    "slideshow": {
     "slide_type": "subslide"
    }
   },
   "source": [
    "## Benford's Law"
   ]
  },
  {
   "cell_type": "markdown",
   "id": "b0d27e66-3704-4156-9275-a98ccde41c3a",
   "metadata": {},
   "source": [
    "> [Benford's law](https://en.wikipedia.org/wiki/Benford%27s_law), also known as the Newcomb-Benford law, the law of anomalous numbers, or the first-digit law, is an observation that in many real-life sets of numerical data, the leading digit is likely to be small. Benford's law tends to apply most accurately to data that span several orders of magnitude. As a rule of thumb, the more orders of magnitude that the data evenly covers, the more accurately Benford's law applies."
   ]
  },
  {
   "cell_type": "markdown",
   "id": "98e45e5d-7afb-4ee3-bdd2-824f466bd260",
   "metadata": {
    "slideshow": {
     "slide_type": "notes"
    }
   },
   "source": [
    "Observe the distribution of the first digits of numbers according to Benford's model."
   ]
  },
  {
   "cell_type": "code",
   "execution_count": null,
   "id": "7eb7e496-8f9b-47ac-9ace-94c71270167c",
   "metadata": {
    "slideshow": {
     "slide_type": "subslide"
    }
   },
   "outputs": [],
   "source": [
    "digits = np.arange(1, 10)\n",
    "benford_model = np.log10(1 + 1/digits)\n",
    "benford = Table().with_columns(\n",
    "    'First digit', digits,\n",
    "    'Benford model prob', benford_model)\n",
    "benford"
   ]
  },
  {
   "cell_type": "code",
   "execution_count": null,
   "id": "88ad30cd-d568-40a2-9e9c-206777a8fe49",
   "metadata": {
    "slideshow": {
     "slide_type": "subslide"
    },
    "tags": []
   },
   "outputs": [],
   "source": [
    "benford.barh('First digit')"
   ]
  },
  {
   "cell_type": "markdown",
   "id": "d323eb66-a944-400d-b67b-e9c8b10f83e0",
   "metadata": {
    "slideshow": {
     "slide_type": "notes"
    }
   },
   "source": [
    "Use bracket notation to get get the first character of a string. \n",
    "\n",
    "_The use of bracket notation here is just for an example. Bracket notation is a common way in Python to obtain information within a collection. This is similar to how we use `.item(0)` with arrays._"
   ]
  },
  {
   "cell_type": "code",
   "execution_count": null,
   "id": "9a39b150-4f10-4e2a-b6f3-b22e3ca5c6de",
   "metadata": {
    "slideshow": {
     "slide_type": "subslide"
    }
   },
   "outputs": [],
   "source": [
    "a_string = 'data science'\n",
    "a_string[0]"
   ]
  },
  {
   "cell_type": "markdown",
   "id": "33151987-e62e-4e08-8997-744574f6f054",
   "metadata": {
    "slideshow": {
     "slide_type": "notes"
    }
   },
   "source": [
    "Try the same thing with an integer."
   ]
  },
  {
   "cell_type": "code",
   "execution_count": null,
   "id": "8666d842-a00a-40ec-89cb-ee3beb15bf72",
   "metadata": {
    "slideshow": {
     "slide_type": "fragment"
    }
   },
   "outputs": [],
   "source": [
    "# Uncomment this to see a TypeError\n",
    "an_integer = 1234\n",
    "#an_integer[0]"
   ]
  },
  {
   "cell_type": "markdown",
   "id": "1c19d259-4f25-4ba0-b338-2add71de760d",
   "metadata": {
    "slideshow": {
     "slide_type": "notes"
    }
   },
   "source": [
    "Explore the `first_digit` function."
   ]
  },
  {
   "cell_type": "code",
   "execution_count": null,
   "id": "49e94e57-86be-43cc-ac77-e77e4426bfec",
   "metadata": {
    "slideshow": {
     "slide_type": "subslide"
    }
   },
   "outputs": [],
   "source": [
    "def first_digit(num):\n",
    "    \"\"\"Returns the first digit of the interger num.\"\"\"\n",
    "    return int(str(num)[0])"
   ]
  },
  {
   "cell_type": "code",
   "execution_count": null,
   "id": "724bc8d3-797a-48e8-b23d-af5acdca227d",
   "metadata": {
    "slideshow": {
     "slide_type": "fragment"
    }
   },
   "outputs": [],
   "source": [
    "first_digit(32)"
   ]
  },
  {
   "cell_type": "markdown",
   "id": "5076dca5-f3dc-4255-944f-ee007fba5aee",
   "metadata": {
    "slideshow": {
     "slide_type": "notes"
    }
   },
   "source": [
    "Load the `counties.csv` data. This data contains county population sizes from the 2010 Census."
   ]
  },
  {
   "cell_type": "code",
   "execution_count": null,
   "id": "014d6891-97a8-4f23-9658-3f14ce8fd426",
   "metadata": {
    "slideshow": {
     "slide_type": "subslide"
    }
   },
   "outputs": [],
   "source": [
    "counties = Table.read_table('./data/counties.csv')\n",
    "counties = counties.where('SUMLEV', 50).select(5,6,9)\\\n",
    "                                       .relabeled(0,'State')\\\n",
    "                                       .relabeled(1,'County')\\\n",
    "                                       .relabeled(2,'Population')\n",
    "\n",
    "counties"
   ]
  },
  {
   "cell_type": "code",
   "execution_count": null,
   "id": "ad4ba9cd-227a-4638-9621-9dfcb5bd9d18",
   "metadata": {
    "slideshow": {
     "slide_type": "subslide"
    }
   },
   "outputs": [],
   "source": [
    "counties.where('County', 'San Francisco County')"
   ]
  },
  {
   "cell_type": "markdown",
   "id": "6ee06310-59a0-4ec7-8809-55d8bdf0d2d1",
   "metadata": {
    "slideshow": {
     "slide_type": "notes"
    }
   },
   "source": [
    "Apply `first_digit` to add a column to the `counties` table that shows the first digit of the population sizes."
   ]
  },
  {
   "cell_type": "code",
   "execution_count": null,
   "id": "eabb14f2-7d72-404f-a303-27113d5cd84a",
   "metadata": {
    "slideshow": {
     "slide_type": "fragment"
    }
   },
   "outputs": [],
   "source": [
    "first_digits = counties.apply(first_digit, 'Population')\n",
    "counties = counties.with_column('First digit', first_digits)\n",
    "counties.show(3)"
   ]
  },
  {
   "cell_type": "markdown",
   "id": "2a5989f6-f387-4cf5-86b5-b561c61fac6e",
   "metadata": {
    "slideshow": {
     "slide_type": "notes"
    }
   },
   "source": [
    "Visually compare the distribution of first digits from the counties data and Benford's proportions."
   ]
  },
  {
   "cell_type": "code",
   "execution_count": null,
   "id": "032daa5a-d8cb-41ff-9b66-d5f3d1f82a4d",
   "metadata": {
    "slideshow": {
     "slide_type": "subslide"
    }
   },
   "outputs": [],
   "source": [
    "num_counties = ...\n",
    "by_digit = ...\n",
    "proportions = ...\n",
    "by_digit = by_digit.with_columns(\n",
    "    'Proportion', ...,\n",
    "    'Benford proportion', ...\n",
    ")\n",
    "..."
   ]
  },
  {
   "cell_type": "markdown",
   "id": "8adf1865-ffef-466c-8e6c-e7ee273d1a5e",
   "metadata": {
    "slideshow": {
     "slide_type": "notes"
    }
   },
   "source": [
    "Test whether or not the distribution of proportions in `counties` is consistent with Benford's model."
   ]
  },
  {
   "cell_type": "markdown",
   "id": "1775d71f-4c7a-4d8f-9f7f-6930d54facf5",
   "metadata": {
    "slideshow": {
     "slide_type": "subslide"
    }
   },
   "source": [
    "Null hypothesis: ..."
   ]
  },
  {
   "cell_type": "markdown",
   "id": "689f16a8-619c-4dc4-9884-275cbccf8262",
   "metadata": {
    "slideshow": {
     "slide_type": "fragment"
    }
   },
   "source": [
    "Alternative hypothesis: ..."
   ]
  },
  {
   "cell_type": "markdown",
   "id": "16b32431-c7d2-43c1-83be-2e9361315ff7",
   "metadata": {
    "slideshow": {
     "slide_type": "fragment"
    }
   },
   "source": [
    "Test statistic: ..."
   ]
  },
  {
   "cell_type": "markdown",
   "id": "47915c6b-01a2-48f3-ab58-caa10f8cb8be",
   "metadata": {
    "slideshow": {
     "slide_type": "fragment"
    }
   },
   "source": [
    "Fill in the blank with \"Bigger\" or \"Smaller\":\n",
    "\n",
    "____ values of the test statistic favor the alternative"
   ]
  },
  {
   "cell_type": "code",
   "execution_count": null,
   "id": "b0e282e5-3c11-4c09-aaac-fc3c394a2fcf",
   "metadata": {
    "slideshow": {
     "slide_type": "subslide"
    }
   },
   "outputs": [],
   "source": [
    "observed_tvd = ...\n",
    "observed_tvd"
   ]
  },
  {
   "cell_type": "code",
   "execution_count": null,
   "id": "430d99c8-2eea-40ae-b8d5-45de3cbb46e0",
   "metadata": {
    "slideshow": {
     "slide_type": "subslide"
    }
   },
   "outputs": [],
   "source": [
    "sample_proportions(num_counties, benford_model)"
   ]
  },
  {
   "cell_type": "code",
   "execution_count": null,
   "id": "3e1b894b-926d-435b-8c55-265d65257c32",
   "metadata": {
    "slideshow": {
     "slide_type": "subslide"
    }
   },
   "outputs": [],
   "source": [
    "simulated_frequencies = ...\n",
    "tvd = ...\n",
    "tvd"
   ]
  },
  {
   "cell_type": "code",
   "execution_count": null,
   "id": "f15a092a-6be2-400f-b140-92e88b93762b",
   "metadata": {
    "slideshow": {
     "slide_type": "subslide"
    }
   },
   "outputs": [],
   "source": [
    "def simulate_county_first_digits():\n",
    "    simulated_frequencies = ...\n",
    "    tvd = ...\n",
    "    return tvd"
   ]
  },
  {
   "cell_type": "code",
   "execution_count": null,
   "id": "d02a5f4a-47a6-4f2a-8889-78843116df19",
   "metadata": {
    "slideshow": {
     "slide_type": "subslide"
    }
   },
   "outputs": [],
   "source": [
    "simulated_tvds = ...\n",
    "\n",
    "for ...\n",
    "    simulated_tvds = ..."
   ]
  },
  {
   "cell_type": "code",
   "execution_count": null,
   "id": "a2843080-f29f-42d6-a327-6146abe3ee17",
   "metadata": {
    "slideshow": {
     "slide_type": "subslide"
    }
   },
   "outputs": [],
   "source": [
    "Table().with_column('Simulated TVD', simulated_tvds).hist(0)\n",
    "plt.scatter(observed_tvd, 0, color='red', s=60, zorder=3)\n",
    "plt.show()"
   ]
  },
  {
   "cell_type": "code",
   "execution_count": null,
   "id": "eefdfbeb-1725-4ac4-8374-cdbd57b9ca55",
   "metadata": {
    "slideshow": {
     "slide_type": "fragment"
    }
   },
   "outputs": [],
   "source": [
    "..."
   ]
  },
  {
   "cell_type": "markdown",
   "id": "c0fd03a6-7107-435d-987f-87f1678febb9",
   "metadata": {
    "slideshow": {
     "slide_type": "subslide"
    }
   },
   "source": [
    "Are the data consistent with the null hypothesis?"
   ]
  },
  {
   "cell_type": "markdown",
   "id": "5f5f5d9c-6d74-43e1-bbcf-a260f517ce3f",
   "metadata": {
    "slideshow": {
     "slide_type": "fragment"
    }
   },
   "source": [
    "..."
   ]
  },
  {
   "cell_type": "markdown",
   "id": "92b86100-e2d6-465b-8884-19404e74fc36",
   "metadata": {
    "slideshow": {
     "slide_type": "fragment"
    }
   },
   "source": [
    "---"
   ]
  },
  {
   "cell_type": "markdown",
   "id": "8330e1c8-1fd4-4ecf-9715-5c3c97b4b679",
   "metadata": {
    "slideshow": {
     "slide_type": "slide"
    }
   },
   "source": [
    "## Survey Observations"
   ]
  },
  {
   "cell_type": "markdown",
   "id": "558e015d-ab3e-4936-ac70-47aa2dc17dc6",
   "metadata": {
    "slideshow": {
     "slide_type": "fragment"
    }
   },
   "source": [
    "* _The following examples use a real data set (Class Survey) along with the hypothesis testing procedure to come to conclusions._\n",
    "* _Keep in mind that data is not form a random sample._\n",
    "* _The conclusions we reach should no te taken seriously._"
   ]
  },
  {
   "cell_type": "markdown",
   "id": "784283fb-7d84-4dde-aba9-12fb24dc1bcd",
   "metadata": {
    "slideshow": {
     "slide_type": "subslide"
    }
   },
   "source": [
    "### Reaction Time"
   ]
  },
  {
   "cell_type": "markdown",
   "id": "014dd964-87b2-458e-bd4a-ed957dfa5aa5",
   "metadata": {
    "slideshow": {
     "slide_type": "notes"
    }
   },
   "source": [
    "Load our welcome survey data from `welcome_survey_fa23.csv`."
   ]
  },
  {
   "cell_type": "code",
   "execution_count": null,
   "id": "895f67be-6709-45e0-98e4-cc1c9f224a03",
   "metadata": {
    "slideshow": {
     "slide_type": "subslide"
    }
   },
   "outputs": [],
   "source": [
    "survey = Table.read_table('./data/welcome_survey_fa23.csv')\n",
    "survey.show(3)"
   ]
  },
  {
   "cell_type": "markdown",
   "id": "84692ca9-fca1-41ca-87d8-572e503e834c",
   "metadata": {
    "slideshow": {
     "slide_type": "notes"
    }
   },
   "source": [
    "Create a reduced table by selecting the columns:\n",
    "* `sports'`\n",
    "* `'reaction_time_ms'`"
   ]
  },
  {
   "cell_type": "code",
   "execution_count": null,
   "id": "f6b100e0-5324-4115-ba51-a048e0c0e0af",
   "metadata": {
    "slideshow": {
     "slide_type": "subslide"
    }
   },
   "outputs": [],
   "source": [
    "status_reaction = (survey.select('sports', 'reaction_time_ms')\n",
    "                   .where('reaction_time_ms', are.above_or_equal_to(0))\n",
    "                   .where('sports', are.not_equal_to('nan')))\n",
    "status_reaction"
   ]
  },
  {
   "cell_type": "code",
   "execution_count": null,
   "id": "22743433-2297-4bc4-a253-82f264e09933",
   "metadata": {
    "slideshow": {
     "slide_type": "fragment"
    }
   },
   "outputs": [],
   "source": [
    "..."
   ]
  },
  {
   "cell_type": "code",
   "execution_count": null,
   "id": "963760a9-9240-4a76-b684-f475b5a06c81",
   "metadata": {
    "slideshow": {
     "slide_type": "subslide"
    }
   },
   "outputs": [],
   "source": [
    "..."
   ]
  },
  {
   "cell_type": "markdown",
   "id": "96a4b0a1-aa56-40ee-a895-822c0160646b",
   "metadata": {
    "slideshow": {
     "slide_type": "notes"
    }
   },
   "source": [
    "Determine the average reaction time for the two different groups."
   ]
  },
  {
   "cell_type": "code",
   "execution_count": null,
   "id": "80f37a77-adff-4008-b263-e4b7f6dd7318",
   "metadata": {
    "slideshow": {
     "slide_type": "subslide"
    }
   },
   "outputs": [],
   "source": [
    "..."
   ]
  },
  {
   "cell_type": "markdown",
   "id": "637998ec-9ee3-4b91-969d-588170072dd8",
   "metadata": {
    "slideshow": {
     "slide_type": "notes"
    }
   },
   "source": [
    "Test whether or not there is a significant difference between the average reaction time for those who play sports or do not."
   ]
  },
  {
   "cell_type": "markdown",
   "id": "fc63d670-218e-494d-9639-e1a4d210217d",
   "metadata": {
    "slideshow": {
     "slide_type": "subslide"
    }
   },
   "source": [
    "Null hypothesis: ..."
   ]
  },
  {
   "cell_type": "markdown",
   "id": "e6a5fa39-3fbb-4d5a-bf30-ade0e27444ae",
   "metadata": {
    "slideshow": {
     "slide_type": "fragment"
    }
   },
   "source": [
    "Alternative hypothesis: ..."
   ]
  },
  {
   "cell_type": "markdown",
   "id": "e5a07d38-028c-46da-b531-96e24809ff61",
   "metadata": {
    "slideshow": {
     "slide_type": "fragment"
    }
   },
   "source": [
    "Test statistic: ..."
   ]
  },
  {
   "cell_type": "markdown",
   "id": "9c79f057-441f-4da2-b385-49b0bac9f1cf",
   "metadata": {
    "jupyter": {
     "source_hidden": true
    },
    "slideshow": {
     "slide_type": "fragment"
    }
   },
   "source": [
    "Fill in the blank with \"Bigger\" or \"Smaller\":\n",
    "\n",
    "____ values of the test statistic favor the alternative"
   ]
  },
  {
   "cell_type": "code",
   "execution_count": null,
   "id": "0147d64b-2d5e-494e-b2f5-e05eb873b241",
   "metadata": {
    "slideshow": {
     "slide_type": "subslide"
    }
   },
   "outputs": [],
   "source": [
    "def compute_test_statistic(tbl):\n",
    "    grouped = ...\n",
    "    avgs = ...\n",
    "    return ..."
   ]
  },
  {
   "cell_type": "code",
   "execution_count": null,
   "id": "6718706c-2368-4af1-b4f3-1982d385e4b3",
   "metadata": {
    "slideshow": {
     "slide_type": "fragment"
    }
   },
   "outputs": [],
   "source": [
    "obs_test_stat = ...\n",
    "obs_test_stat"
   ]
  },
  {
   "cell_type": "code",
   "execution_count": null,
   "id": "4c1b118b-c4f6-4a2c-87e3-fb90fcd4eb97",
   "metadata": {
    "slideshow": {
     "slide_type": "subslide"
    }
   },
   "outputs": [],
   "source": [
    "random_labels = ...\n",
    "random_labels"
   ]
  },
  {
   "cell_type": "code",
   "execution_count": null,
   "id": "51166e7c-60b7-410e-a2ea-608bd32e8314",
   "metadata": {
    "slideshow": {
     "slide_type": "subslide"
    }
   },
   "outputs": [],
   "source": [
    "def simulate_under_null():\n",
    "    random_labels = ...\n",
    "    relabeled_tbl = ...\n",
    "    return ...\n"
   ]
  },
  {
   "cell_type": "code",
   "execution_count": null,
   "id": "90c6375c-a70e-4a27-ab66-cbded38cfd38",
   "metadata": {
    "slideshow": {
     "slide_type": "subslide"
    }
   },
   "outputs": [],
   "source": [
    "simulated_diffs = ...\n",
    "\n",
    "for ...\n",
    "    null_stat = ...\n",
    "    simulated_diffs = ..."
   ]
  },
  {
   "cell_type": "code",
   "execution_count": null,
   "id": "a96b1d59-06c6-431e-8232-c56571e41343",
   "metadata": {
    "slideshow": {
     "slide_type": "subslide"
    }
   },
   "outputs": [],
   "source": [
    "Table().with_column('Simulated difference', simulated_diffs).hist(0)\n",
    "plt.scatter(obs_test_stat, 0, color='red', s=60, zorder=3)\n",
    "plt.show()"
   ]
  },
  {
   "cell_type": "code",
   "execution_count": null,
   "id": "4be1e4a9-c004-49c2-9352-7fdad43dd94d",
   "metadata": {
    "slideshow": {
     "slide_type": "fragment"
    }
   },
   "outputs": [],
   "source": [
    "..."
   ]
  },
  {
   "cell_type": "markdown",
   "id": "b291b8e7-d5c5-4d66-beb3-951bf1bed089",
   "metadata": {
    "slideshow": {
     "slide_type": "notes"
    }
   },
   "source": [
    "Are the results statistically significant?"
   ]
  },
  {
   "cell_type": "markdown",
   "id": "23172be3-d4f7-43d2-acb2-d413d1f5c556",
   "metadata": {
    "slideshow": {
     "slide_type": "fragment"
    }
   },
   "source": [
    "..."
   ]
  },
  {
   "cell_type": "markdown",
   "id": "4d3459bb-a6ad-484c-a500-eb1093c2ef72",
   "metadata": {
    "slideshow": {
     "slide_type": "fragment"
    }
   },
   "source": [
    "---"
   ]
  },
  {
   "cell_type": "markdown",
   "id": "c24d6805-c115-4119-824f-c0893e6aba09",
   "metadata": {
    "slideshow": {
     "slide_type": "slide"
    }
   },
   "source": [
    "## Zodiac Signs"
   ]
  },
  {
   "cell_type": "markdown",
   "id": "1552a14f-ceba-40f5-9922-4fc656ab2c3d",
   "metadata": {
    "slideshow": {
     "slide_type": "notes"
    }
   },
   "source": [
    "Load the distribution of Zodiac signs in the United States (as found in 2018).\n",
    "\n",
    "_Source: https://www.statisticbrain.com/zodiac-sign-statistics_"
   ]
  },
  {
   "cell_type": "code",
   "execution_count": null,
   "id": "96a0d313-b0b5-42a5-95ce-32504ee5b793",
   "metadata": {
    "slideshow": {
     "slide_type": "subslide"
    }
   },
   "outputs": [],
   "source": [
    "zodiac_distribution = Table.read_table('./data/zodiac_distribution.csv')\n",
    "zodiac_distribution.show()"
   ]
  },
  {
   "cell_type": "code",
   "execution_count": null,
   "id": "e9accae9-f327-4b2b-b80e-f94540522b18",
   "metadata": {
    "slideshow": {
     "slide_type": "subslide"
    }
   },
   "outputs": [],
   "source": [
    "zodiac_distribution.barh('Zodiac Sign')"
   ]
  },
  {
   "cell_type": "markdown",
   "id": "68dd4d0d-7475-4fab-beed-033c056605ed",
   "metadata": {
    "slideshow": {
     "slide_type": "notes"
    }
   },
   "source": [
    "Get the birthdays from the survey data, convert the birthdays to Zodiac signs, and determien the distribution of Zodiac signs in MATH 108."
   ]
  },
  {
   "cell_type": "code",
   "execution_count": null,
   "id": "73245128-20fd-471a-8796-68cd0fa3f3b0",
   "metadata": {
    "slideshow": {
     "slide_type": "subslide"
    }
   },
   "outputs": [],
   "source": [
    "birthdays = survey.select('bday').where('bday', are.not_equal_to('nan'))\n",
    "birthdays.show()"
   ]
  },
  {
   "cell_type": "code",
   "execution_count": null,
   "id": "ec9967a9-8755-4156-b2d2-0d0e5e40a321",
   "metadata": {
    "slideshow": {
     "slide_type": "subslide"
    }
   },
   "outputs": [],
   "source": [
    "def get_zodiac_sign(birthday):\n",
    "    \"\"\"\n",
    "    Given a birthday in the format \"DD-Mon\", \n",
    "    returns a string representing the corresponding zodiac sign.\n",
    "    \"\"\"\n",
    "\n",
    "    month_dict = {\n",
    "        \"Jan\": 1, \"Feb\": 2, \"Mar\": 3, \"Apr\": 4, \"May\": 5, \"Jun\": 6,\n",
    "        \"Jul\": 7, \"Aug\": 8, \"Sep\": 9, \"Oct\": 10, \"Nov\": 11, \"Dec\": 12\n",
    "    }\n",
    "\n",
    "    day, month = birthday.split('-')\n",
    "    day = int(day)\n",
    "    \n",
    "    if month == 'Dec':\n",
    "        # a more compact way of writing an if statement\n",
    "        astro_sign = 'Sagittarius' if (day < 22) else 'Capricorn' \n",
    "    elif month == 'Jan':\n",
    "        astro_sign = 'Capricorn' if (day < 20) else 'Aquarius'\n",
    "    elif month == 'Feb':\n",
    "        astro_sign = 'Aquarius' if (day < 19) else 'Pisces'\n",
    "    elif month == 'Mar':\n",
    "        astro_sign = 'Pisces' if (day < 21) else 'Aries'\n",
    "    elif month == 'Apr':\n",
    "        astro_sign = 'Aries' if (day < 20) else 'Taurus'\n",
    "    elif month == 'May':\n",
    "        astro_sign = 'Taurus' if (day < 21) else 'Gemini'\n",
    "    elif month == 'Jun':\n",
    "        astro_sign = 'Gemini' if (day < 21) else 'Cancer'\n",
    "    elif month == 'Jul':\n",
    "        astro_sign = 'Cancer' if (day < 23) else 'Leo'\n",
    "    elif month == 'Aug':\n",
    "        astro_sign = 'Leo' if (day < 23) else 'Virgo'\n",
    "    elif month == 'Sep':\n",
    "        astro_sign = 'Virgo' if (day < 23) else 'Libra'\n",
    "    elif month == 'Oct':\n",
    "        astro_sign = 'Libra' if (day < 23) else 'Scorpio'\n",
    "    elif month == 'Nov':\n",
    "        astro_sign = 'Scorpio' if (day < 22) else 'Sagittarius'\n",
    "    else:\n",
    "        astro_sign = 'Invalid Date'\n",
    "    return astro_sign"
   ]
  },
  {
   "cell_type": "code",
   "execution_count": null,
   "id": "d405a2ce-6fb1-4b6c-8c06-2cb24ec00d9f",
   "metadata": {
    "slideshow": {
     "slide_type": "subslide"
    }
   },
   "outputs": [],
   "source": [
    "def prop_function(count):\n",
    "    \"\"\"Return the count provided as a proportion of 40 (# of respondents).\"\"\"\n",
    "    total_number = 40\n",
    "    return count/40\n",
    "\n",
    "birthdays = birthdays.with_column(\n",
    "    'Zodiac Sign',\n",
    "    birthdays.apply(get_zodiac_sign, 'bday')\n",
    ")\n",
    "\n",
    "birthdays_by_sign = birthdays.group('Zodiac Sign')\n",
    "birthdays_by_sign = birthdays_by_sign.with_column(\n",
    "    'Proportion in MATH 108',\n",
    "    birthdays_by_sign.apply(prop_function, 'count')\n",
    ").drop('count').sort('Zodiac Sign')\n",
    "\n",
    "zodiac = ...\n",
    "zodiac.show()"
   ]
  },
  {
   "cell_type": "code",
   "execution_count": null,
   "id": "4423e1a7-6326-4ad4-828b-6bcf65313415",
   "metadata": {},
   "outputs": [],
   "source": [
    "..."
   ]
  },
  {
   "cell_type": "markdown",
   "id": "b4f3e4b7-8a9c-40d2-93e6-c7bb06b4e671",
   "metadata": {
    "slideshow": {
     "slide_type": "notes"
    }
   },
   "source": [
    "Run a test to see if there is a significant difference between the distribution of Zodiac signs in the class and the nation."
   ]
  },
  {
   "cell_type": "code",
   "execution_count": null,
   "id": "f3520309-9c73-46e0-a3f8-668f1687e2b7",
   "metadata": {
    "slideshow": {
     "slide_type": "subslide"
    }
   },
   "outputs": [],
   "source": [
    "observed_tvd_zodiac = ...\n",
    "observed_tvd_zodiac"
   ]
  },
  {
   "cell_type": "code",
   "execution_count": null,
   "id": "bd7ff463-80f2-4f1c-b292-71650d558782",
   "metadata": {
    "slideshow": {
     "slide_type": "subslide"
    }
   },
   "outputs": [],
   "source": [
    "def simulate_zodiac_proportions():\n",
    "    simulated_proportions = ...\n",
    "    tvd = ...\n",
    "    return tvd\n",
    "\n",
    "simulated_tvds_zodiac = ...\n",
    "\n",
    "for ...\n",
    "    simulated_tvds_zodiac = ...\n",
    "    \n",
    "Table().with_column('Simulated TVD', simulated_tvds_zodiac).hist(0)\n",
    "plt.scatter(observed_tvd_zodiac, 0, color='red', s=60, zorder=3)\n",
    "plt.show()\n",
    "\n",
    "..."
   ]
  },
  {
   "cell_type": "markdown",
   "id": "5e79fbcb-91fb-4ac8-969f-ef49a163081a",
   "metadata": {
    "slideshow": {
     "slide_type": "fragment"
    }
   },
   "source": [
    "---"
   ]
  },
  {
   "cell_type": "markdown",
   "id": "d5289a8e-6380-4884-82ac-87304bdfc28e",
   "metadata": {
    "slideshow": {
     "slide_type": "subslide"
    }
   },
   "source": [
    "## Test Reflection"
   ]
  },
  {
   "cell_type": "markdown",
   "id": "c3c563b2-9549-4dfb-859e-2ea4f5e402dd",
   "metadata": {
    "slideshow": {
     "slide_type": "-"
    }
   },
   "source": [
    "* The p-value for the last test was approximately 33%. \n",
    "* This means that our test results are NOT statistically significant. 🫣\n",
    "* The course Zodiac distribution looks wildly different from the population's distribution.\n",
    "* How can this be? \n",
    "    * Sample size has a pretty big impact. \n",
    "    * Try changing the sample size in `sample_proportions` to 380, instead of 38."
   ]
  },
  {
   "cell_type": "markdown",
   "id": "137bb3ee-3d4e-43a1-9a63-507a7d84f5de",
   "metadata": {
    "slideshow": {
     "slide_type": "slide"
    }
   },
   "source": [
    "### Hypothesis Test Concerns"
   ]
  },
  {
   "cell_type": "markdown",
   "id": "d5c6acbe-815c-4ea9-8085-0b0c253854c4",
   "metadata": {},
   "source": [
    "The outcome of a hypothesis test can be affected by:\n",
    "* The hypotheses you investigate: \n",
    "    * How do you define your null distribution?\n",
    "* The test statistic you choose: \n",
    "    * How do you measure a difference between samples?\n",
    "* The empirical distribution of the statistic under the null:\n",
    "    * How many times do you simulate under the null distribution?\n",
    "* The data you collected:\n",
    "    * Did you happen to collect a sample that is similar to the population?\n",
    "* The truth:\n",
    "    * If the alternative hypothesis is true, how extreme is the difference?"
   ]
  },
  {
   "cell_type": "markdown",
   "id": "bc825057-8ccf-42d6-87cf-f589a7f36bbc",
   "metadata": {
    "slideshow": {
     "slide_type": "subslide"
    }
   },
   "source": [
    "### Hypothesis Test Effects"
   ]
  },
  {
   "cell_type": "markdown",
   "id": "15d2914d-d8c7-4af9-98ef-86a4b5824549",
   "metadata": {},
   "source": [
    "* Number of simulations: \n",
    "    * large as possible: empirical distribution → true distribution\n",
    "    * No new data needs to be collected (yay!)\n",
    "* Number of observations: \n",
    "    * A larger sample will lead you to reject the null more reliably if the alternative is in fact true.\n",
    "* Difference from the null: \n",
    "    * If truth is similar to the null hypothesis, then even a large sample may not provide enough evidence to reject the null.\n"
   ]
  },
  {
   "cell_type": "markdown",
   "id": "5d4541a7-3997-4083-895c-4a6be06c0c13",
   "metadata": {
    "slideshow": {
     "slide_type": "fragment"
    }
   },
   "source": [
    "---"
   ]
  },
  {
   "cell_type": "markdown",
   "id": "83ac6ddd-a98e-4294-a2d1-17ecb493ffaa",
   "metadata": {
    "slideshow": {
     "slide_type": "notes"
    }
   },
   "source": [
    "<footer>\n",
    "    <p>Adopted from UC Berkeley DATA 8 course materials.</p>\n",
    "    <p>This content is offered under a <a href=\"https://creativecommons.org/licenses/by-nc-sa/4.0/\">CC Attribution Non-Commercial Share Alike</a> license.</p>\n",
    "</footer>"
   ]
  }
 ],
 "metadata": {
  "kernelspec": {
   "display_name": "Python 3 (ipykernel)",
   "language": "python",
   "name": "python3"
  },
  "language_info": {
   "codemirror_mode": {
    "name": "ipython",
    "version": 3
   },
   "file_extension": ".py",
   "mimetype": "text/x-python",
   "name": "python",
   "nbconvert_exporter": "python",
   "pygments_lexer": "ipython3",
   "version": "3.10.12"
  }
 },
 "nbformat": 4,
 "nbformat_minor": 5
}
