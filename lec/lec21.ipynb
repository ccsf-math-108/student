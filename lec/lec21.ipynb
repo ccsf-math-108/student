{
 "cells": [
  {
   "cell_type": "markdown",
   "id": "5ce205d7-bab4-436a-8801-4472bb108b38",
   "metadata": {
    "slideshow": {
     "slide_type": "slide"
    }
   },
   "source": [
    "<div style=\"width: 38.5%;\">\n",
    "    <p><strong>City College of San Francisco</strong><p>\n",
    "    <hr>\n",
    "    <p>MATH 108 - Foundations of Data Science</p>\n",
    "</div>"
   ]
  },
  {
   "cell_type": "markdown",
   "id": "4bba7134-f35a-41fc-bdd9-87940fb486d8",
   "metadata": {
    "slideshow": {
     "slide_type": "-"
    }
   },
   "source": [
    "# Lecture 21: Comparing Distributions"
   ]
  },
  {
   "cell_type": "markdown",
   "id": "d22ace33-187e-4212-b883-e81730cb6178",
   "metadata": {
    "slideshow": {
     "slide_type": "-"
    }
   },
   "source": [
    "Associated Textbook Sections: [11.1, 11.2](https://inferentialthinking.com/chapters/11/2/Multiple_Categories.html)"
   ]
  },
  {
   "cell_type": "markdown",
   "id": "cdbea57b-854c-4320-b40c-e49c32043cd2",
   "metadata": {
    "slideshow": {
     "slide_type": "slide"
    }
   },
   "source": [
    "<div style=\"width: 38.5%;\">\n",
    "    <p><strong>City College of San Francisco</strong><p>\n",
    "    <hr>\n",
    "    <p>MATH 108 - Foundations of Data Science</p>\n",
    "</div>"
   ]
  },
  {
   "cell_type": "markdown",
   "id": "558c85d6-1084-451a-8bc9-ffbe5fa2e93f",
   "metadata": {
    "slideshow": {
     "slide_type": "slide"
    }
   },
   "source": [
    "## Outline"
   ]
  },
  {
   "cell_type": "markdown",
   "id": "d21cc630-74da-44da-bfc8-c857c7c5bbd8",
   "metadata": {
    "slideshow": {
     "slide_type": "-"
    }
   },
   "source": [
    "* [Comparing Distributions](#Comparing-Distributions)\n",
    "* [A New Statistic](#A-New-Statistic)\n",
    "* [Testing Hypotheses](#Testing-Hypotheses)"
   ]
  },
  {
   "cell_type": "markdown",
   "id": "de1e4664-c6cd-44ad-beb9-80fbb070c663",
   "metadata": {
    "slideshow": {
     "slide_type": "slide"
    }
   },
   "source": [
    "## Set Up the Notebook"
   ]
  },
  {
   "cell_type": "code",
   "execution_count": null,
   "id": "d0652102-08ee-456a-8d79-284cc05e9f93",
   "metadata": {
    "slideshow": {
     "slide_type": "-"
    }
   },
   "outputs": [],
   "source": [
    "from datascience import *\n",
    "import numpy as np\n",
    "%matplotlib inline\n",
    "import matplotlib.pyplot as plt\n",
    "plt.style.use('fivethirtyeight')"
   ]
  },
  {
   "cell_type": "markdown",
   "id": "23ccc609-0c5b-4d12-82c5-706629b776a3",
   "metadata": {
    "slideshow": {
     "slide_type": "fragment"
    }
   },
   "source": [
    "---"
   ]
  },
  {
   "cell_type": "markdown",
   "id": "e86c3199-781a-46d4-b70d-49de8857bbea",
   "metadata": {
    "slideshow": {
     "slide_type": "slide"
    }
   },
   "source": [
    "## Comparing Distributions"
   ]
  },
  {
   "cell_type": "markdown",
   "id": "266fe694-f6ae-4a59-baf2-b3fd3eca02c6",
   "metadata": {
    "slideshow": {
     "slide_type": "subslide"
    }
   },
   "source": [
    "### Jury Selection in Alameda County"
   ]
  },
  {
   "cell_type": "markdown",
   "id": "6aded6cd-a187-4962-9aab-748e6fef817e",
   "metadata": {
    "slideshow": {
     "slide_type": "-"
    }
   },
   "source": [
    "<img src=\"img/ACLU_report.png\" alt=\"ACLU Report\" width=40%>"
   ]
  },
  {
   "cell_type": "markdown",
   "id": "16a5f536-429a-46b3-8554-b0679c1427fb",
   "metadata": {
    "slideshow": {
     "slide_type": "notes"
    }
   },
   "source": [
    "Report Source: [ACLU of Northern California - RACIAL AND ETHNIC DISPARITIES IN ALAMEDA COUNTY JURY POOLS (2010)](https://www.aclunc.org/sites/default/files/racial_and_ethnic_disparities_in_alameda_county_jury_pools.pdf)"
   ]
  },
  {
   "cell_type": "markdown",
   "id": "f9e858bb-2173-48cf-a8f6-e797ee5e0255",
   "metadata": {
    "slideshow": {
     "slide_type": "subslide"
    }
   },
   "source": [
    "### Jury Panels"
   ]
  },
  {
   "cell_type": "markdown",
   "id": "a0a37e9c-8349-40b2-955b-5c5afe38e7aa",
   "metadata": {
    "slideshow": {
     "slide_type": "-"
    }
   },
   "source": [
    "<img src=\"img/jury_selection_process.png\" alt=\"jury selection process\" width = 80%>\n",
    "\n",
    "Section 197 of California's Code of Civil Procedure says, \n",
    "> \"All persons selected for jury service shall be selected at random, from a source or sources inclusive of a representative cross section of the population of the area served by the court.\""
   ]
  },
  {
   "cell_type": "markdown",
   "id": "e3df0d8a-2d17-4b2c-b740-efe9cd21af8b",
   "metadata": {
    "slideshow": {
     "slide_type": "subslide"
    }
   },
   "source": [
    "### Demo: Alameda County Jury Panels"
   ]
  },
  {
   "cell_type": "markdown",
   "id": "d0a47b58-df3c-471e-b2bb-a6354b024e68",
   "metadata": {
    "slideshow": {
     "slide_type": "notes"
    }
   },
   "source": [
    "Visualize the the eligible and panel distributions of ethnicities based on the Totals in the report."
   ]
  },
  {
   "cell_type": "code",
   "execution_count": null,
   "id": "9114e539-a7ab-40e9-8b7a-66a7dffce138",
   "metadata": {
    "slideshow": {
     "slide_type": "-"
    }
   },
   "outputs": [],
   "source": [
    "jury = Table().with_columns(\n",
    "    'Ethnicity', make_array('Asian/PI ', 'Black/AA', 'Hispanic ', 'Caucasian', 'Other'),\n",
    "    'Eligible', make_array(0.15, 0.18, 0.12, 0.54, 0.01),\n",
    "    'Panels', make_array(0.26, 0.08, 0.08, 0.54, 0.04)\n",
    ")\n",
    "\n",
    "jury"
   ]
  },
  {
   "cell_type": "code",
   "execution_count": null,
   "id": "dfaed77b-6447-45e8-b47d-177467c041ac",
   "metadata": {
    "slideshow": {
     "slide_type": "subslide"
    }
   },
   "outputs": [],
   "source": [
    "jury.barh('Ethnicity')"
   ]
  },
  {
   "cell_type": "markdown",
   "id": "fbc1a7b3-4ba6-4128-837d-7aeb6b86b971",
   "metadata": {
    "slideshow": {
     "slide_type": "notes"
    }
   },
   "source": [
    "Under the model, define an array that represents the distribution of people from which the jurors are randomly sampled"
   ]
  },
  {
   "cell_type": "code",
   "execution_count": null,
   "id": "6d925b8c-4db1-4995-9b05-c1cb2147b6f3",
   "metadata": {
    "slideshow": {
     "slide_type": "subslide"
    }
   },
   "outputs": [],
   "source": [
    "model = ..."
   ]
  },
  {
   "cell_type": "markdown",
   "id": "7646c131-bf02-4658-b29c-190684ea6b06",
   "metadata": {
    "slideshow": {
     "slide_type": "notes"
    }
   },
   "source": [
    "Simulate a random draw of 1423 jurors from this distribution"
   ]
  },
  {
   "cell_type": "code",
   "execution_count": null,
   "id": "ae42f64a-7ef6-4226-81d3-61826787e61a",
   "metadata": {
    "scrolled": true,
    "slideshow": {
     "slide_type": "subslide"
    }
   },
   "outputs": [],
   "source": [
    "simulated = ...\n",
    "simulated"
   ]
  },
  {
   "cell_type": "markdown",
   "id": "73ac5851-fa56-446c-b86c-798ad95fa71a",
   "metadata": {
    "slideshow": {
     "slide_type": "notes"
    }
   },
   "source": [
    "The actual observed distribution (Panels) looks quite different from the simulation -- try simulating this several times to confirm!"
   ]
  },
  {
   "cell_type": "code",
   "execution_count": null,
   "id": "3af3b8c0-5fd1-4be8-9013-be53a99f6d53",
   "metadata": {
    "slideshow": {
     "slide_type": "subslide"
    }
   },
   "outputs": [],
   "source": [
    "jury_with_simulated = jury.with_column('Simulated', simulated)\n",
    "jury_with_simulated"
   ]
  },
  {
   "cell_type": "markdown",
   "id": "1b8c2e2f-b051-4b2a-bb3f-c1c495cc17d6",
   "metadata": {
    "slideshow": {
     "slide_type": "notes"
    }
   },
   "source": [
    "Visualize the results of the last simulation."
   ]
  },
  {
   "cell_type": "code",
   "execution_count": null,
   "id": "2c61e5d0-17ee-4046-9ebd-41be489f2d01",
   "metadata": {
    "slideshow": {
     "slide_type": "subslide"
    }
   },
   "outputs": [],
   "source": [
    "jury_with_simulated.barh('Ethnicity')"
   ]
  },
  {
   "cell_type": "markdown",
   "id": "2b6d387d-c084-4c66-a6cf-a72f8368f8e8",
   "metadata": {
    "slideshow": {
     "slide_type": "slide"
    }
   },
   "source": [
    "## A New Statistic"
   ]
  },
  {
   "cell_type": "markdown",
   "id": "2e3882bc-3698-4516-bcd0-2c7fdac9ec29",
   "metadata": {
    "slideshow": {
     "slide_type": "subslide"
    }
   },
   "source": [
    "### Distance Between Distributions"
   ]
  },
  {
   "cell_type": "markdown",
   "id": "fb9eb372-bfa7-49ed-97dd-b6d2500e5514",
   "metadata": {
    "slideshow": {
     "slide_type": "-"
    }
   },
   "source": [
    "* People on the panels are of multiple ethnicities\n",
    "* Distribution of ethnicities is categorical\n",
    "* To see whether the distribution of ethnicities of the panels is close to that of the eligible jurors, we have to measure the distance between two categorical distributions\n"
   ]
  },
  {
   "cell_type": "markdown",
   "id": "4bfbe46d-d1db-4a7d-ad77-8ba571dc3d22",
   "metadata": {
    "slideshow": {
     "slide_type": "subslide"
    }
   },
   "source": [
    "### Demo: Distance Between Distributions"
   ]
  },
  {
   "cell_type": "markdown",
   "id": "9aba9630-9756-4389-a6e2-5b6b657fa27b",
   "metadata": {
    "slideshow": {
     "slide_type": "notes"
    }
   },
   "source": [
    "In the last lecture, the difference between observed black/purple and their expected values (26%/75%) was our statistic. In this case, we need to understand how each of the 5 categories differ from their expected values according to the model."
   ]
  },
  {
   "cell_type": "code",
   "execution_count": null,
   "id": "794e9691-4eb9-4e92-803f-263a4fdbcfcc",
   "metadata": {
    "slideshow": {
     "slide_type": "-"
    }
   },
   "outputs": [],
   "source": [
    "diffs = ...\n",
    "jury_with_difference = jury.with_column('Difference', diffs)\n",
    "jury_with_difference"
   ]
  },
  {
   "cell_type": "markdown",
   "id": "91952be0-7218-4ac2-917c-8b3107802133",
   "metadata": {
    "slideshow": {
     "slide_type": "subslide"
    }
   },
   "source": [
    "### Total Variation Distance"
   ]
  },
  {
   "cell_type": "markdown",
   "id": "3a310c64-6351-4f9e-afff-e6e388a19bbd",
   "metadata": {
    "slideshow": {
     "slide_type": "-"
    }
   },
   "source": [
    "Total Variation Distance (TVD) Recipe:\n",
    "* For each category, compute the difference in proportions between two distributions\n",
    "* Take the absolute value of each difference\n",
    "* Sum, and then divide the sum by 2\n"
   ]
  },
  {
   "cell_type": "markdown",
   "id": "0110f09a-b2c5-4c12-9141-b37415548d1a",
   "metadata": {
    "slideshow": {
     "slide_type": "subslide"
    }
   },
   "source": [
    "### Demo: Total Variation Distance"
   ]
  },
  {
   "cell_type": "markdown",
   "id": "f0d56186-9f01-49ec-9c10-2e0f888a2be6",
   "metadata": {
    "slideshow": {
     "slide_type": "notes"
    }
   },
   "source": [
    "Define a function that calculates the TVD for two distributions inputed as arrays."
   ]
  },
  {
   "cell_type": "code",
   "execution_count": null,
   "id": "616b062d-9b28-4806-b8a8-737c6057282b",
   "metadata": {
    "slideshow": {
     "slide_type": "-"
    }
   },
   "outputs": [],
   "source": [
    "def tvd(...):\n",
    "    return ..."
   ]
  },
  {
   "cell_type": "code",
   "execution_count": null,
   "id": "a03da7ff-0a28-4ae9-b283-69c3592c4110",
   "metadata": {
    "slideshow": {
     "slide_type": "fragment"
    }
   },
   "outputs": [],
   "source": [
    "dist1 = make_array(1, 2, 3)\n",
    "dist2 = make_array(0, 2, 4)\n",
    "tvd(dist1, dist2)"
   ]
  },
  {
   "cell_type": "markdown",
   "id": "0fa4341e-23dc-411d-ba80-d4e0d6e76d6e",
   "metadata": {
    "slideshow": {
     "slide_type": "notes"
    }
   },
   "source": [
    "Calculate the TVD of our observed data (Panels) from their expected values assuming the model is true (Eligbible)"
   ]
  },
  {
   "cell_type": "code",
   "execution_count": null,
   "id": "5bd1bd39-ceae-46cd-a10b-c6a84901ef3d",
   "metadata": {
    "slideshow": {
     "slide_type": "subslide"
    }
   },
   "outputs": [],
   "source": [
    "observed_proportions = ...\n",
    "obsvd_tvd = ...\n",
    "obsvd_tvd"
   ]
  },
  {
   "cell_type": "markdown",
   "id": "0e4e993b-1c87-4cb8-a286-842b4c5eb855",
   "metadata": {
    "slideshow": {
     "slide_type": "notes"
    }
   },
   "source": [
    "Calculate the TVD of a model simulation from its expected values"
   ]
  },
  {
   "cell_type": "code",
   "execution_count": null,
   "id": "80368d12-fca1-4095-90fd-957c15f64ca4",
   "metadata": {
    "slideshow": {
     "slide_type": "subslide"
    }
   },
   "outputs": [],
   "source": [
    "simulated_proportions = ...\n",
    "..."
   ]
  },
  {
   "cell_type": "markdown",
   "id": "db6080b3-b0ab-405b-8cb7-86edcd7535a9",
   "metadata": {
    "slideshow": {
     "slide_type": "notes"
    }
   },
   "source": [
    "Replicate creating sample juries and calculated the TVD in relation to the model 10000 times. Visualize how the observed statistic fits in the distribution formed from those simulated TVD values."
   ]
  },
  {
   "cell_type": "code",
   "execution_count": null,
   "id": "93075beb-cc54-4c7c-953e-8cf926a4acdc",
   "metadata": {
    "slideshow": {
     "slide_type": "subslide"
    }
   },
   "outputs": [],
   "source": [
    "def simulated_tvd():\n",
    "    simulated_proportions = ...\n",
    "    return ...\n",
    "\n",
    "tvds = ...\n",
    "num_simulations = ...\n",
    "\n",
    "for ...\n",
    "    new_tvd = ...\n",
    "    tvds = ..."
   ]
  },
  {
   "cell_type": "code",
   "execution_count": null,
   "id": "e57e8f27-89e4-42de-8166-cbd499a0a891",
   "metadata": {
    "slideshow": {
     "slide_type": "subslide"
    }
   },
   "outputs": [],
   "source": [
    "title = 'Simulated TVDs (if model is true)'\n",
    "bins = np.arange(0, .05, .005)\n",
    "\n",
    "Table().with_column(title, tvds).hist(bins = bins)\n",
    "plt.scatter(0.14, 0, color='red', s=60, zorder=3)\n",
    "print('Observed TVD: ' + str(obsvd_tvd))"
   ]
  },
  {
   "cell_type": "markdown",
   "id": "2d001f60-ca39-4307-b2d7-060d57e1c42d",
   "metadata": {
    "slideshow": {
     "slide_type": "subslide"
    }
   },
   "source": [
    "### Summary of the Method"
   ]
  },
  {
   "cell_type": "markdown",
   "id": "17733246-a358-48d1-a5cc-240a00bbb803",
   "metadata": {
    "slideshow": {
     "slide_type": "-"
    }
   },
   "source": [
    "To assess whether a sample was drawn randomly from a known categorical distribution:\n",
    "* Use TVD as the statistic because it measures the distance between categorical distributions\n",
    "* Sample at random from the population and compute the TVD from the random sample; repeat numerous times\n",
    "* Compare:\n",
    "    * Empirical distribution of simulated TVDs\n",
    "    * Actual TVD from the sample in the study\n"
   ]
  },
  {
   "cell_type": "markdown",
   "id": "1d5c7263-0c4e-48f9-8bd6-da3b2638184e",
   "metadata": {
    "slideshow": {
     "slide_type": "slide"
    }
   },
   "source": [
    "## Testing Hypotheses"
   ]
  },
  {
   "cell_type": "markdown",
   "id": "411ec446-0b74-477f-8c68-fbd84897c2f9",
   "metadata": {
    "slideshow": {
     "slide_type": "subslide"
    }
   },
   "source": [
    "### Testing Hypotheses"
   ]
  },
  {
   "cell_type": "markdown",
   "id": "b249ef1d-181a-4c65-a0fc-5a8a6978e510",
   "metadata": {
    "slideshow": {
     "slide_type": "-"
    }
   },
   "source": [
    "* A test chooses between two views of how data were generated\n",
    "* The views are called hypotheses\n",
    "* The test picks the hypothesis that is better supported by the observed data\n"
   ]
  },
  {
   "cell_type": "markdown",
   "id": "56c4f955-f5a3-410e-aee1-ac139b683161",
   "metadata": {
    "slideshow": {
     "slide_type": "subslide"
    }
   },
   "source": [
    "### Null and Alternative"
   ]
  },
  {
   "cell_type": "markdown",
   "id": "4c4e2b17-7888-4c8f-9615-3ad2f8d47cf7",
   "metadata": {
    "slideshow": {
     "slide_type": "-"
    }
   },
   "source": [
    "The method only works if we can simulate data under one of the hypotheses.\n",
    "* Null hypothesis:\n",
    "    * A well defined chance model about how the data were generated\n",
    "    * We can simulate data under the assumptions of this model – “under the null hypothesis”\n",
    "* Alternative hypothesis: A different view about the origin of the data\n"
   ]
  },
  {
   "cell_type": "markdown",
   "id": "492f04af-1e55-449b-b3b8-8b6f2e770578",
   "metadata": {
    "slideshow": {
     "slide_type": "subslide"
    }
   },
   "source": [
    "### Test Statistic"
   ]
  },
  {
   "cell_type": "markdown",
   "id": "eec0b941-954b-40fe-8678-09f6fa088689",
   "metadata": {
    "slideshow": {
     "slide_type": "-"
    }
   },
   "source": [
    "* The statistic that we choose to simulate, to decide between the two hypotheses\n",
    "* Questions before choosing the statistic:\n",
    "    * What values of the statistic will make us lean towards the null hypothesis?\n",
    "    * What values will make us lean towards the alternative? Preferably, the answer should be just \"high\". Try to avoid \"both high and low\".\n"
   ]
  },
  {
   "cell_type": "markdown",
   "id": "23f9312e-e4df-4c12-9f2d-280039b01fdd",
   "metadata": {
    "slideshow": {
     "slide_type": "subslide"
    }
   },
   "source": [
    "### Prediction Under the Null Hypothesis"
   ]
  },
  {
   "cell_type": "markdown",
   "id": "149e8d4d-3abc-40c5-bf13-61c0655838d8",
   "metadata": {
    "slideshow": {
     "slide_type": "-"
    }
   },
   "source": [
    "* Simulate the test statistic under the null hypothesis; draw the histogram of the simulated values\n",
    "* This displays the **empirical distribution of the statistic under the null hypothesis**\n",
    "* It is a prediction about the statistic, made by the null hypothesis \n",
    "    * It shows all the likely values of the statistic\n",
    "    * Also how likely they are (**if the null hypothesis is true**)\n",
    "* The probabilities are approximate, because we can't generate all the possible random samples\n"
   ]
  },
  {
   "cell_type": "markdown",
   "id": "5e9d83d8-1a27-435f-84b9-15c2bbe52e9a",
   "metadata": {
    "slideshow": {
     "slide_type": "subslide"
    }
   },
   "source": [
    "### Conclusion of the Test"
   ]
  },
  {
   "cell_type": "markdown",
   "id": "0db30172-547a-4a36-98f3-fadfb402f9b2",
   "metadata": {
    "slideshow": {
     "slide_type": "-"
    }
   },
   "source": [
    "* Resolve choice between null and alternative hypotheses\n",
    "    * Compare the **observed test statistic** and its empirical distribution under the null hypothesis\n",
    "    * If the observed value is **not consistent** with the distribution, then the test favors the alternative (\"data is more consistent with the alternative\")\n",
    "* Whether a value is consistent with a distribution:\n",
    "    * A visualization may be sufficient\n",
    "    * If not, there are conventions about \"consistency\""
   ]
  },
  {
   "cell_type": "markdown",
   "id": "5d4541a7-3997-4083-895c-4a6be06c0c13",
   "metadata": {
    "slideshow": {
     "slide_type": "fragment"
    }
   },
   "source": [
    "---"
   ]
  },
  {
   "cell_type": "markdown",
   "id": "83ac6ddd-a98e-4294-a2d1-17ecb493ffaa",
   "metadata": {
    "slideshow": {
     "slide_type": "notes"
    }
   },
   "source": [
    "<footer>\n",
    "    <p>Adopted from UC Berkeley DATA 8 course materials.</p>\n",
    "    <p>This content is offered under a <a href=\"https://creativecommons.org/licenses/by-nc-sa/4.0/\">CC Attribution Non-Commercial Share Alike</a> license.</p>\n",
    "</footer>"
   ]
  }
 ],
 "metadata": {
  "kernelspec": {
   "display_name": "Python 3 (ipykernel)",
   "language": "python",
   "name": "python3"
  },
  "language_info": {
   "codemirror_mode": {
    "name": "ipython",
    "version": 3
   },
   "file_extension": ".py",
   "mimetype": "text/x-python",
   "name": "python",
   "nbconvert_exporter": "python",
   "pygments_lexer": "ipython3",
   "version": "3.10.12"
  }
 },
 "nbformat": 4,
 "nbformat_minor": 5
}
