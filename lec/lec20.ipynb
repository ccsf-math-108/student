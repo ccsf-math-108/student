{
 "cells": [
  {
   "cell_type": "markdown",
   "id": "5ce205d7-bab4-436a-8801-4472bb108b38",
   "metadata": {
    "slideshow": {
     "slide_type": "slide"
    }
   },
   "source": [
    "<div style=\"width: 38.5%;\">\n",
    "    <p><strong>City College of San Francisco</strong><p>\n",
    "    <hr>\n",
    "    <p>MATH 108 - Foundations of Data Science</p>\n",
    "</div>"
   ]
  },
  {
   "cell_type": "markdown",
   "id": "4bba7134-f35a-41fc-bdd9-87940fb486d8",
   "metadata": {
    "slideshow": {
     "slide_type": "-"
    }
   },
   "source": [
    "# Lecture 20: Models"
   ]
  },
  {
   "cell_type": "markdown",
   "id": "c6b0ef7f-60dd-4f4a-b0b2-031bcf63b695",
   "metadata": {
    "slideshow": {
     "slide_type": "-"
    }
   },
   "source": [
    "Associated Textbook Sections: [10.4, 11.0, 11.1](https://inferentialthinking.com/chapters/10/4/Random_Sampling_in_Python.html)"
   ]
  },
  {
   "cell_type": "markdown",
   "id": "cdbea57b-854c-4320-b40c-e49c32043cd2",
   "metadata": {
    "slideshow": {
     "slide_type": "slide"
    }
   },
   "source": [
    "<div style=\"width: 38.5%;\">\n",
    "    <p><strong>City College of San Francisco</strong><p>\n",
    "    <hr>\n",
    "    <p>MATH 108 - Foundations of Data Science</p>\n",
    "</div>"
   ]
  },
  {
   "cell_type": "markdown",
   "id": "558c85d6-1084-451a-8bc9-ffbe5fa2e93f",
   "metadata": {
    "slideshow": {
     "slide_type": "slide"
    }
   },
   "source": [
    "## Outline"
   ]
  },
  {
   "cell_type": "markdown",
   "id": "d21cc630-74da-44da-bfc8-c857c7c5bbd8",
   "metadata": {
    "slideshow": {
     "slide_type": "-"
    }
   },
   "source": [
    "* [Assessing Models](#Assessing-Models)\n",
    "* [Jury-Selection](#Jury-Selection)\n",
    "* [A Genetic Model](#A-Genetic-Model)\n",
    "* [Two Viewpoints](#Two-Viewpoints)"
   ]
  },
  {
   "cell_type": "markdown",
   "id": "de1e4664-c6cd-44ad-beb9-80fbb070c663",
   "metadata": {
    "slideshow": {
     "slide_type": "slide"
    }
   },
   "source": [
    "## Set Up the Notebook"
   ]
  },
  {
   "cell_type": "code",
   "execution_count": null,
   "id": "d0652102-08ee-456a-8d79-284cc05e9f93",
   "metadata": {
    "slideshow": {
     "slide_type": "-"
    }
   },
   "outputs": [],
   "source": [
    "from datascience import *\n",
    "import numpy as np\n",
    "%matplotlib inline\n",
    "import matplotlib.pyplot as plt\n",
    "plt.style.use('fivethirtyeight')"
   ]
  },
  {
   "cell_type": "markdown",
   "id": "23ccc609-0c5b-4d12-82c5-706629b776a3",
   "metadata": {
    "slideshow": {
     "slide_type": "fragment"
    }
   },
   "source": [
    "---"
   ]
  },
  {
   "cell_type": "markdown",
   "id": "12eebccd-2a67-4725-9805-26661f107adc",
   "metadata": {
    "slideshow": {
     "slide_type": "slide"
    }
   },
   "source": [
    "## Assessing Models"
   ]
  },
  {
   "cell_type": "markdown",
   "id": "f771c92e-1cba-44e2-b784-e4f54f016d7d",
   "metadata": {
    "slideshow": {
     "slide_type": "slide"
    }
   },
   "source": [
    "### Models"
   ]
  },
  {
   "cell_type": "markdown",
   "id": "f9885eba-5cde-4d7b-bfca-14acbf31aa0d",
   "metadata": {
    "slideshow": {
     "slide_type": "-"
    }
   },
   "source": [
    "* A model is a set of assumptions about the data\n",
    "* In data science, many models involve assumptions about processes that involve randomness (\"Chance models\")\n",
    "* Key question: Does the model fit the data?"
   ]
  },
  {
   "cell_type": "markdown",
   "id": "a9e85a79-4074-4dbb-a7c7-f6b491e11757",
   "metadata": {
    "slideshow": {
     "slide_type": "slide"
    }
   },
   "source": [
    "### Approach to Assessment"
   ]
  },
  {
   "cell_type": "markdown",
   "id": "9fd056c9-9650-487a-aa49-a402dcc01644",
   "metadata": {
    "slideshow": {
     "slide_type": "-"
    }
   },
   "source": [
    "* If we can simulate data according to the assumptions of the model, we can learn what the model predicts.\n",
    "* We can then compare the predictions to the data that were observed.\n",
    "* If the data and the model's predictions are not consistent, that is evidence against the model."
   ]
  },
  {
   "cell_type": "markdown",
   "id": "a7f93518-e5bf-4ddf-87d3-7a8096e9a055",
   "metadata": {
    "slideshow": {
     "slide_type": "fragment"
    }
   },
   "source": [
    "---"
   ]
  },
  {
   "cell_type": "markdown",
   "id": "b0257d92-a48e-4046-ad08-873a2f8921f1",
   "metadata": {
    "slideshow": {
     "slide_type": "slide"
    }
   },
   "source": [
    "## Jury Selection"
   ]
  },
  {
   "cell_type": "markdown",
   "id": "06b9c7e4-18e2-4b51-a402-dfa464d10ce1",
   "metadata": {
    "slideshow": {
     "slide_type": "subslide"
    }
   },
   "source": [
    "### Swain vs. Alabama, 1965"
   ]
  },
  {
   "cell_type": "markdown",
   "id": "75da5e4c-11f8-402d-b8b8-4a67b37ec3f2",
   "metadata": {
    "slideshow": {
     "slide_type": "-"
    }
   },
   "source": [
    "* Talladega County, Alabama\n",
    "* Robert Swain, Black man convicted of crime\n",
    "* Appeal: one factor was all-White jury\n",
    "* Only men 21 years or older were allowed to serve\n",
    "* 26% of this population were Black\n",
    "* Swain's jury panel consisted of 100 men\n",
    "* 8 men on the panel were Black"
   ]
  },
  {
   "cell_type": "markdown",
   "id": "86d6b365-ad72-4ad9-9ff5-c40058ee3473",
   "metadata": {
    "slideshow": {
     "slide_type": "subslide"
    }
   },
   "source": [
    "### Supreme Court Ruling (In English ... of the time)"
   ]
  },
  {
   "cell_type": "markdown",
   "id": "658b25cf-b80f-4827-b0b3-c6ba93fc1542",
   "metadata": {
    "slideshow": {
     "slide_type": "-"
    }
   },
   "source": [
    "* About disparities between the percentages in the eligible population and the jury panel, the Supreme Court wrote: \n",
    "> \"... the overall percentage disparity has been small and reflects no studied attempt to include or exclude a specified number of Negroes\"\n",
    "* The Supreme Court denied Robert Swain’s appeal\n"
   ]
  },
  {
   "cell_type": "markdown",
   "id": "2aed9043-6e98-4adc-bde4-348844ddbe7f",
   "metadata": {
    "slideshow": {
     "slide_type": "subslide"
    }
   },
   "source": [
    "### Supreme Court Ruling (in Data)"
   ]
  },
  {
   "cell_type": "markdown",
   "id": "7a74d4de-4158-46c7-b4f7-82a9c456ed3a",
   "metadata": {
    "slideshow": {
     "slide_type": "-"
    }
   },
   "source": [
    "* Paraphrase: 8/100 is less than 26%, but not different enough to show Black men were systematically excluded\n",
    "* Question: is 8/100 a realistic outcome if the jury panel selection process were truly unbiased?"
   ]
  },
  {
   "cell_type": "markdown",
   "id": "ebab2c61-6f33-40e2-9468-06d58414f0a1",
   "metadata": {
    "slideshow": {
     "slide_type": "subslide"
    }
   },
   "source": [
    "### Sampling from a Distribution"
   ]
  },
  {
   "cell_type": "markdown",
   "id": "bcb1591c-9796-4a7d-9d46-8d185d02c179",
   "metadata": {
    "slideshow": {
     "slide_type": "-"
    }
   },
   "source": [
    "* Sample at random from a categorical distribution using `sample_proportions(sample_size, pop_distribution)`\n",
    "* Samples at random from the population returns an array containing the distribution of the categories in the sample\n"
   ]
  },
  {
   "cell_type": "markdown",
   "id": "d9f3749f-3729-4fdb-91b9-90d4c22317ee",
   "metadata": {
    "slideshow": {
     "slide_type": "subslide"
    }
   },
   "source": [
    "### Demo: Swain vs. Alabama"
   ]
  },
  {
   "cell_type": "markdown",
   "id": "ab76283d-6a8a-496e-a1e0-45382a4752fb",
   "metadata": {
    "slideshow": {
     "slide_type": "notes"
    }
   },
   "source": [
    "Create an 2-valued array that reflects the proportion of the population that is Black and not Black."
   ]
  },
  {
   "cell_type": "code",
   "execution_count": null,
   "id": "35b153d9-24b6-44b4-b604-07df3f105ddd",
   "metadata": {
    "slideshow": {
     "slide_type": "-"
    }
   },
   "outputs": [],
   "source": [
    "population_proportions = ...\n",
    "population_proportions"
   ]
  },
  {
   "cell_type": "markdown",
   "id": "aea6e511-a6d7-4ba2-97c4-42d55b1fe025",
   "metadata": {
    "slideshow": {
     "slide_type": "notes"
    }
   },
   "source": [
    "Use `sample_proportions` to create the proportions of a sample of size 100 from the population defined by the above array values."
   ]
  },
  {
   "cell_type": "code",
   "execution_count": null,
   "id": "0ac12b6b-7414-4260-9c80-ee5a2f8f0e6b",
   "metadata": {
    "slideshow": {
     "slide_type": "subslide"
    }
   },
   "outputs": [],
   "source": [
    "..."
   ]
  },
  {
   "cell_type": "markdown",
   "id": "05782470-726a-41d3-b127-3645021d537e",
   "metadata": {
    "slideshow": {
     "slide_type": "notes"
    }
   },
   "source": [
    "Define a function to return the proportion Black individuals in a random sample of size 100 from the given population. Visualize the distribution form from calling that function 1000 times."
   ]
  },
  {
   "cell_type": "code",
   "execution_count": null,
   "id": "b73ed912-40ee-4892-86ba-4057b36a479b",
   "metadata": {
    "slideshow": {
     "slide_type": "subslide"
    }
   },
   "outputs": [],
   "source": [
    "def panel_proportion():\n",
    "    return ..."
   ]
  },
  {
   "cell_type": "code",
   "execution_count": null,
   "id": "248d6055-518e-4be5-997a-b3dad1efb8a2",
   "metadata": {
    "slideshow": {
     "slide_type": "fragment"
    }
   },
   "outputs": [],
   "source": [
    "panel_proportion()"
   ]
  },
  {
   "cell_type": "code",
   "execution_count": null,
   "id": "0e3b9f9a-9b95-40fd-9641-fe4af2315b28",
   "metadata": {
    "slideshow": {
     "slide_type": "subslide"
    }
   },
   "outputs": [],
   "source": [
    "panels = ...\n",
    "\n",
    "for ...\n",
    "    new_panel = ...\n",
    "    panels = ..."
   ]
  },
  {
   "cell_type": "code",
   "execution_count": null,
   "id": "dc440219-1c9b-471d-ad7f-93ffc91005cc",
   "metadata": {
    "slideshow": {
     "slide_type": "fragment"
    }
   },
   "outputs": [],
   "source": [
    "Table().with_column('Number of Black Men on Panel of 100', panels).hist(bins=np.arange(5.5,40.))"
   ]
  },
  {
   "cell_type": "markdown",
   "id": "2eab7ed2-cc6e-4d77-9710-aa2f660e7710",
   "metadata": {
    "slideshow": {
     "slide_type": "fragment"
    }
   },
   "source": [
    "---"
   ]
  },
  {
   "cell_type": "markdown",
   "id": "5520eb99-8313-480e-935e-b5fd0d03e244",
   "metadata": {
    "slideshow": {
     "slide_type": "slide"
    }
   },
   "source": [
    "## A Genetic Model"
   ]
  },
  {
   "cell_type": "markdown",
   "id": "28716c38-bf62-440f-9291-7b1291b456a7",
   "metadata": {
    "slideshow": {
     "slide_type": "subslide"
    }
   },
   "source": [
    "### Gregor Mendel, 1822-1884"
   ]
  },
  {
   "cell_type": "markdown",
   "id": "f824787e-68f1-40b7-9334-3fdea28921ac",
   "metadata": {
    "slideshow": {
     "slide_type": "-"
    }
   },
   "source": [
    "<img src=\"img/Gregor_Mendel.jpeg\" alt=\"Gregor Mendel\"\n",
    "width = 30%>"
   ]
  },
  {
   "cell_type": "markdown",
   "id": "32fbcfc9-30ec-4f51-b3fa-c2817b15eaad",
   "metadata": {
    "slideshow": {
     "slide_type": "notes"
    }
   },
   "source": [
    "Image Source: [Wikipedia - Gregor Mendel](https://en.wikipedia.org/wiki/Gregor_Mendel)"
   ]
  },
  {
   "cell_type": "markdown",
   "id": "8bde54be-01e3-4403-a8de-e71da7691d68",
   "metadata": {
    "slideshow": {
     "slide_type": "subslide"
    }
   },
   "source": [
    "### A Model"
   ]
  },
  {
   "cell_type": "markdown",
   "id": "2cff5f66-c9a5-49fd-817f-7904cb563edd",
   "metadata": {
    "slideshow": {
     "slide_type": "-"
    }
   },
   "source": [
    "* Pea plants of a particular kind\n",
    "* Each one has either purple flowers or white flowers\n",
    "* Mendel’s model: Each plant is purple-flowering with chance 75%, regardless of the colors of the other plants\n",
    "* Question: Is the model good, or not?\n"
   ]
  },
  {
   "cell_type": "markdown",
   "id": "95ccde32-ed81-49fe-9267-475afd113e0c",
   "metadata": {
    "slideshow": {
     "slide_type": "subslide"
    }
   },
   "source": [
    "### Choosing a Statistic"
   ]
  },
  {
   "cell_type": "markdown",
   "id": "36e2cc4d-161f-48c0-8477-f82e428956ff",
   "metadata": {
    "slideshow": {
     "slide_type": "-"
    }
   },
   "source": [
    "* Take a sample, see what percent are purple-flowering\n",
    "* If that percent is much larger or much smaller than 75, that is evidence against the model\n",
    "* Distance from 75 is the key\n",
    "* Statistic: `abs(sample_percent_of_purple_flowering_plants - 75)`\n",
    "* If the statistic is large, that is evidence against the model\n"
   ]
  },
  {
   "cell_type": "markdown",
   "id": "4942cd07-5cbc-4b53-b9c5-3afe80f7097b",
   "metadata": {
    "slideshow": {
     "slide_type": "subslide"
    }
   },
   "source": [
    "### Demo: Mendel and Pea Flowers"
   ]
  },
  {
   "cell_type": "markdown",
   "id": "7c6ac520-0ac4-4fdf-9130-77c23db54ce5",
   "metadata": {
    "slideshow": {
     "slide_type": "notes"
    }
   },
   "source": [
    "Define the observed proportion of purple flowers in Mendel's data and the predicted population proportions for purple and non-purple flowers."
   ]
  },
  {
   "cell_type": "code",
   "execution_count": null,
   "id": "3ba46c87-1273-406e-bc43-f66f06468ebb",
   "metadata": {
    "scrolled": true,
    "slideshow": {
     "slide_type": "-"
    }
   },
   "outputs": [],
   "source": [
    "## Mendel had 929 plants, of which 709 had purple flowers\n",
    "observed_purples = ...\n",
    "observed_purples"
   ]
  },
  {
   "cell_type": "code",
   "execution_count": null,
   "id": "338b740b-fb25-4d9c-a36e-3846a57300a0",
   "metadata": {
    "scrolled": true,
    "slideshow": {
     "slide_type": "fragment"
    }
   },
   "outputs": [],
   "source": [
    "predicted_proportions = ...\n",
    "predicted_proportions"
   ]
  },
  {
   "cell_type": "markdown",
   "id": "2255dd04-3a62-4bab-9453-71e2118edaef",
   "metadata": {
    "slideshow": {
     "slide_type": "notes"
    }
   },
   "source": [
    "Simulate sampling 929 plants from a population with the proportions predicted by Mendel."
   ]
  },
  {
   "cell_type": "code",
   "execution_count": null,
   "id": "aa412d48-2686-4459-bd7e-9f5ae08a6549",
   "metadata": {
    "scrolled": true,
    "slideshow": {
     "slide_type": "subslide"
    }
   },
   "outputs": [],
   "source": [
    "..."
   ]
  },
  {
   "cell_type": "markdown",
   "id": "7d25899e-31a8-46e8-98e5-5e40c033f2c4",
   "metadata": {
    "slideshow": {
     "slide_type": "notes"
    }
   },
   "source": [
    "Simulate randomly selecting samples of 929 plants based on Mendel's model. Repeat this process 10000 times and visualize the distribution of the sample proportions."
   ]
  },
  {
   "cell_type": "code",
   "execution_count": null,
   "id": "a2ab1070-aff2-4fa5-826c-21d4582995c8",
   "metadata": {
    "slideshow": {
     "slide_type": "subslide"
    }
   },
   "outputs": [],
   "source": [
    "def purple_flowers():\n",
    "    return ..."
   ]
  },
  {
   "cell_type": "code",
   "execution_count": null,
   "id": "7e05817e-664e-4c6b-8064-cc91782cac61",
   "metadata": {
    "slideshow": {
     "slide_type": "fragment"
    }
   },
   "outputs": [],
   "source": [
    "purple_flowers()"
   ]
  },
  {
   "cell_type": "code",
   "execution_count": null,
   "id": "c5122196-aeb0-4a6d-9cb1-dffc94ed8547",
   "metadata": {
    "slideshow": {
     "slide_type": "subslide"
    }
   },
   "outputs": [],
   "source": [
    "purples = ...\n",
    "\n",
    "for ...\n",
    "    new_purple = ...\n",
    "    purples = ..."
   ]
  },
  {
   "cell_type": "code",
   "execution_count": null,
   "id": "af7b17ff-9d3f-41cb-b841-08b44b9c141f",
   "metadata": {
    "slideshow": {
     "slide_type": "fragment"
    }
   },
   "outputs": [],
   "source": [
    "Table().with_column('Percent of purple flowers in sample of 929', purples).hist()"
   ]
  },
  {
   "cell_type": "markdown",
   "id": "cc3fc4c3-fa23-4bc3-a373-aced46414f14",
   "metadata": {
    "slideshow": {
     "slide_type": "notes"
    }
   },
   "source": [
    "Visualize the distribution of the test statistics created from the simulations and identify where the observed statistic fits in the distribution."
   ]
  },
  {
   "cell_type": "code",
   "execution_count": null,
   "id": "ed799d9d-b962-4cc5-8868-72e2ba75eeaf",
   "metadata": {
    "slideshow": {
     "slide_type": "subslide"
    }
   },
   "outputs": [],
   "source": [
    "test_statistics = Table().with_column('Discrepancy in sample of 929 if the model is true', abs(purples- 75))\n",
    "test_statistics"
   ]
  },
  {
   "cell_type": "code",
   "execution_count": null,
   "id": "1f3f1bf9-732c-4b08-adae-47bcb565cabd",
   "metadata": {
    "slideshow": {
     "slide_type": "subslide"
    }
   },
   "outputs": [],
   "source": [
    "test_statistics.hist()"
   ]
  },
  {
   "cell_type": "code",
   "execution_count": null,
   "id": "7c134181-2ab0-4e24-a960-d0b3fda6f3fa",
   "metadata": {
    "slideshow": {
     "slide_type": "subslide"
    }
   },
   "outputs": [],
   "source": [
    "observed_statistic = ...\n",
    "observed_statistic"
   ]
  },
  {
   "cell_type": "code",
   "execution_count": null,
   "id": "f0013d81-b6a5-4386-8563-06045c1c7119",
   "metadata": {
    "slideshow": {
     "slide_type": "fragment"
    }
   },
   "outputs": [],
   "source": [
    "test_statistics.hist()\n",
    "plt.scatter(observed_statistic, 0, color='red', s=60, zorder=3);"
   ]
  },
  {
   "cell_type": "markdown",
   "id": "04ef36bf-cc4e-4d12-b894-cbdcfefa111f",
   "metadata": {
    "slideshow": {
     "slide_type": "fragment"
    }
   },
   "source": [
    "---"
   ]
  },
  {
   "cell_type": "markdown",
   "id": "cc95c04d-2e82-4285-a033-83578e192b41",
   "metadata": {
    "slideshow": {
     "slide_type": "slide"
    }
   },
   "source": [
    "## Two Viewpoints"
   ]
  },
  {
   "cell_type": "markdown",
   "id": "55bbc394-c1d1-47a0-b944-b05c1343dc2b",
   "metadata": {
    "slideshow": {
     "slide_type": "subslide"
    }
   },
   "source": [
    "### Model and Alternative"
   ]
  },
  {
   "cell_type": "markdown",
   "id": "3b81cd78-fa68-4851-b349-43d947b74f3f",
   "metadata": {
    "slideshow": {
     "slide_type": "-"
    }
   },
   "source": [
    "* Jury selection:\n",
    "    * Model: The people on the jury panels were selected at random from the eligible population\n",
    "    * Alternative viewpoint: No, they weren't\n",
    "* Genetics:\n",
    "    * Model: Each plant has a 75% chance of having purple flowers\n",
    "    * Alternative viewpoint: No, it doesn't"
   ]
  },
  {
   "cell_type": "markdown",
   "id": "3c136a7e-78af-4052-b300-9fb1a6a7dffd",
   "metadata": {
    "slideshow": {
     "slide_type": "slide"
    }
   },
   "source": [
    "### Steps in Assessing a Model"
   ]
  },
  {
   "cell_type": "markdown",
   "id": "f68a9e88-0e33-45a1-98e9-cdd1e77f670f",
   "metadata": {
    "slideshow": {
     "slide_type": "-"
    }
   },
   "source": [
    "* Choose a statistic to measure discrepancy between model and data\n",
    "* Simulate the statistic under the model’s assumptions\n",
    "* Compare the data to the model’s predictions:\n",
    "    * Draw a histogram of simulated values of the statistic\n",
    "    * Compute the observed statistic from the real sample\n",
    "    * If the observed statistic is far from the histogram, that is evidence against the model\n"
   ]
  },
  {
   "cell_type": "markdown",
   "id": "5d4541a7-3997-4083-895c-4a6be06c0c13",
   "metadata": {
    "slideshow": {
     "slide_type": "fragment"
    }
   },
   "source": [
    "---"
   ]
  },
  {
   "cell_type": "markdown",
   "id": "83ac6ddd-a98e-4294-a2d1-17ecb493ffaa",
   "metadata": {
    "slideshow": {
     "slide_type": "notes"
    }
   },
   "source": [
    "<footer>\n",
    "    <p>Adopted from UC Berkeley DATA 8 course materials.</p>\n",
    "    <p>This content is offered under a <a href=\"https://creativecommons.org/licenses/by-nc-sa/4.0/\">CC Attribution Non-Commercial Share Alike</a> license.</p>\n",
    "</footer>"
   ]
  }
 ],
 "metadata": {
  "kernelspec": {
   "display_name": "Python 3 (ipykernel)",
   "language": "python",
   "name": "python3"
  },
  "language_info": {
   "codemirror_mode": {
    "name": "ipython",
    "version": 3
   },
   "file_extension": ".py",
   "mimetype": "text/x-python",
   "name": "python",
   "nbconvert_exporter": "python",
   "pygments_lexer": "ipython3",
   "version": "3.10.12"
  }
 },
 "nbformat": 4,
 "nbformat_minor": 5
}
