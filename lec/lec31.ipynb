{
 "cells": [
  {
   "cell_type": "markdown",
   "id": "5ce205d7-bab4-436a-8801-4472bb108b38",
   "metadata": {
    "editable": true,
    "slideshow": {
     "slide_type": ""
    },
    "tags": []
   },
   "source": [
    "<div style=\"width: 38.5%;\">\n",
    "    <p><strong>City College of San Francisco</strong><p>\n",
    "    <hr>\n",
    "    <p>MATH 108 - Foundations of Data Science</p>\n",
    "</div>"
   ]
  },
  {
   "cell_type": "markdown",
   "id": "4bba7134-f35a-41fc-bdd9-87940fb486d8",
   "metadata": {
    "slideshow": {
     "slide_type": "-"
    }
   },
   "source": [
    "# Lecture 31: Designing Experiments"
   ]
  },
  {
   "cell_type": "markdown",
   "id": "0498baa2-fd64-4a3a-bc19-70b6dede89ad",
   "metadata": {
    "slideshow": {
     "slide_type": "-"
    }
   },
   "source": [
    "Associated Textbook Sections: [14.6](https://inferentialthinking.com/chapters/14/6/Choosing_a_Sample_Size.html)"
   ]
  },
  {
   "cell_type": "markdown",
   "id": "64cbe4d2-80bb-41c4-9467-373e0e9d9d76",
   "metadata": {
    "slideshow": {
     "slide_type": "slide"
    }
   },
   "source": [
    "## Outline"
   ]
  },
  {
   "cell_type": "markdown",
   "id": "3ae5fa45-6a1d-446c-ba63-02a39749902f",
   "metadata": {},
   "source": [
    "* [Confidence Intervals](#Confidence-Intervals)\n",
    "* [Sample Proportions](#Sample-Proportions)"
   ]
  },
  {
   "cell_type": "markdown",
   "id": "5c99860d-9203-434c-8fdc-9393281e2a92",
   "metadata": {
    "slideshow": {
     "slide_type": "slide"
    }
   },
   "source": [
    "## Set Up the Notebook"
   ]
  },
  {
   "cell_type": "code",
   "execution_count": null,
   "id": "d91939a2-e468-4007-a4e1-95d836472f84",
   "metadata": {
    "slideshow": {
     "slide_type": "-"
    }
   },
   "outputs": [],
   "source": [
    "from datascience import *\n",
    "import numpy as np\n",
    "%matplotlib inline\n",
    "import matplotlib.pyplot as plt\n",
    "plt.style.use('fivethirtyeight')"
   ]
  },
  {
   "cell_type": "markdown",
   "id": "2f528397-092b-4244-8454-a549cbfec5e6",
   "metadata": {
    "slideshow": {
     "slide_type": "fragment"
    }
   },
   "source": [
    "---"
   ]
  },
  {
   "cell_type": "markdown",
   "id": "feed00c4-5c1b-4830-a79c-9dad3e02a811",
   "metadata": {
    "slideshow": {
     "slide_type": "slide"
    }
   },
   "source": [
    "## Confidence Intervals"
   ]
  },
  {
   "cell_type": "markdown",
   "id": "b627c9b8-e97c-4fb7-a638-d257a9c08fd1",
   "metadata": {
    "slideshow": {
     "slide_type": "subslide"
    }
   },
   "source": [
    "### Graph of the Distribution"
   ]
  },
  {
   "cell_type": "markdown",
   "id": "ee8b6c22-29ae-40ed-a067-a00fc66b3947",
   "metadata": {
    "slideshow": {
     "slide_type": "-"
    }
   },
   "source": [
    "<img src=\"img/lec28_approx_dist_sample_ave.png\" width=50%>"
   ]
  },
  {
   "cell_type": "markdown",
   "id": "e81ad096-a4e6-4ac1-b38e-33400f2cd11b",
   "metadata": {
    "slideshow": {
     "slide_type": "subslide"
    }
   },
   "source": [
    "### The Key to 95% Confidence "
   ]
  },
  {
   "cell_type": "markdown",
   "id": "a5a70e73-3f12-4031-b916-62f4a5ca09e2",
   "metadata": {
    "slideshow": {
     "slide_type": "-"
    }
   },
   "source": [
    "<img src=\"img/lec28_95_confidence.png\" width=80%>\n",
    "\n",
    "* For about 95% of all samples, the sample average and population average are within 2 SDs of each other.\n",
    "* SD = SD of sample average = $(\\text{population SD}) / \\sqrt{\\text{sample size}}$\n"
   ]
  },
  {
   "cell_type": "markdown",
   "id": "5db89715-2d61-461e-b699-ad5da05e5fa9",
   "metadata": {
    "slideshow": {
     "slide_type": "subslide"
    }
   },
   "source": [
    "### Constructing the Interval"
   ]
  },
  {
   "cell_type": "markdown",
   "id": "5a08481e-9bab-4f01-bc8f-219c76bf8542",
   "metadata": {
    "slideshow": {
     "slide_type": "-"
    }
   },
   "source": [
    "For about 95% of all samples,\n",
    "\n",
    "* If you stand at the population average and look two SDs on both sides, you will find the sample average.\n",
    "* Distance is symmetric.\n",
    "* So if you stand at the sample average and look two SDs on both sides, you will capture the population average.\n"
   ]
  },
  {
   "cell_type": "markdown",
   "id": "2301debe-7e86-49b1-9cc2-eb498efc4571",
   "metadata": {
    "slideshow": {
     "slide_type": "subslide"
    }
   },
   "source": [
    "### The Interval"
   ]
  },
  {
   "cell_type": "markdown",
   "id": "2d9c14ff-27f3-41eb-924a-0c6de181e941",
   "metadata": {
    "slideshow": {
     "slide_type": "-"
    }
   },
   "source": [
    "<img src=\"img/lec28_the_interval_mean.png\" width=80%>"
   ]
  },
  {
   "cell_type": "markdown",
   "id": "bd7e0cd5-c9db-461d-8d86-d401ce43e34f",
   "metadata": {
    "slideshow": {
     "slide_type": "subslide"
    }
   },
   "source": [
    "### Width of the Interval"
   ]
  },
  {
   "cell_type": "markdown",
   "id": "daac06a6-50c2-4d1d-af50-1a1f8d09e939",
   "metadata": {
    "slideshow": {
     "slide_type": "-"
    }
   },
   "source": [
    "Total width of a 95% confidence interval for the population average\n",
    "\n",
    "* $=  4 * \\text{SD of the sample average}$\n",
    "* $=  4 * (\\text{population SD}) / \\sqrt{\\text{sample size}}$\n",
    "* The $\\text{population SD}$ is unknown in practice... \n"
   ]
  },
  {
   "cell_type": "markdown",
   "id": "663e11d2-3bd7-4dff-872a-aa97ddaeb5ec",
   "metadata": {
    "slideshow": {
     "slide_type": "fragment"
    }
   },
   "source": [
    "---"
   ]
  },
  {
   "cell_type": "markdown",
   "id": "b521527f-b4ef-411e-856e-2c7a1f4274bc",
   "metadata": {
    "slideshow": {
     "slide_type": "slide"
    }
   },
   "source": [
    "## Sample Proportions"
   ]
  },
  {
   "cell_type": "markdown",
   "id": "a08fd7ab-7f73-4f6f-87bc-b97b2dac0b92",
   "metadata": {
    "slideshow": {
     "slide_type": "subslide"
    }
   },
   "source": [
    "### Proportions are Averages"
   ]
  },
  {
   "cell_type": "markdown",
   "id": "e67740a6-9e87-433e-a7fc-05fb31ffcfdb",
   "metadata": {
    "slideshow": {
     "slide_type": "-"
    }
   },
   "source": [
    "* Data: 1 1 1 1 0 0 0 0 0 0 (10 entries)\n",
    "    * Sum  =  4  (number of 1's)\n",
    "    * Average  =  4/10  =  0.4 (proportion of 1's)\n",
    "* If the population consists of 1's and 0's (yes/no answers to a question), then:\n",
    "    * the population average is the proportion of 1's in the population\n",
    "    * the sample average is the proportion of 1's in the sample\n"
   ]
  },
  {
   "cell_type": "code",
   "execution_count": null,
   "id": "8d041d66-a5d8-49b1-9d71-3cb4a79ed526",
   "metadata": {
    "slideshow": {
     "slide_type": "subslide"
    }
   },
   "outputs": [],
   "source": [
    "number_of_ones = 4\n",
    "zero_one_population = np.append(np.ones(number_of_ones), np.zeros(10 - number_of_ones))\n",
    "zero_one_population"
   ]
  },
  {
   "cell_type": "code",
   "execution_count": null,
   "id": "e2c0a1f6-70b7-499d-92a7-f46a7fd2a646",
   "metadata": {
    "slideshow": {
     "slide_type": "fragment"
    }
   },
   "outputs": [],
   "source": [
    "np.mean(zero_one_population)"
   ]
  },
  {
   "cell_type": "markdown",
   "id": "2b6e2c39-fb13-414c-b154-d9c09e2b476f",
   "metadata": {
    "slideshow": {
     "slide_type": "subslide"
    }
   },
   "source": [
    "### Confidence Interval"
   ]
  },
  {
   "cell_type": "markdown",
   "id": "19b0e73f-864a-49de-8518-e141b1f335d3",
   "metadata": {
    "slideshow": {
     "slide_type": "-"
    }
   },
   "source": [
    "<img src=\"img/lec28_the_interval_prop.png\" width=80%>"
   ]
  },
  {
   "cell_type": "markdown",
   "id": "b5a83c4d-7d73-4140-ab27-e04369e914d3",
   "metadata": {
    "slideshow": {
     "slide_type": "subslide"
    }
   },
   "source": [
    "### Controlling the Width"
   ]
  },
  {
   "cell_type": "markdown",
   "id": "0a76f9af-9d5a-43e2-9b40-eb5bbc213b4c",
   "metadata": {
    "slideshow": {
     "slide_type": "-"
    }
   },
   "source": [
    "* Total width of an approximate 95% confidence interval for a population proportion is equal to \n",
    "\n",
    "$$4 * (\\text{SD of 0/1 population}) / \\sqrt{\\text{sample size}}$$\n",
    "\n",
    "* The narrower the interval, the more precise your estimate.\n",
    "* Suppose you want the total width of the interval to be no more than 1%. How should you choose the sample size?\n"
   ]
  },
  {
   "cell_type": "markdown",
   "id": "037e6370-f1e0-4d67-9283-12a074dd6b0c",
   "metadata": {
    "slideshow": {
     "slide_type": "subslide"
    }
   },
   "source": [
    "### The Sample Size for a Given Width"
   ]
  },
  {
   "cell_type": "markdown",
   "id": "59a33be3-1809-46c3-bd2a-96990155124f",
   "metadata": {
    "slideshow": {
     "slide_type": "-"
    }
   },
   "source": [
    "* $0.01  =  4 * (\\text{SD of 0/1 population}) / \\sqrt{\\text{sample size}}$\n",
    "* Left side: 1%, the max total width that you'll accept\n",
    "* Right side: formula for the total width\n",
    "* Re-arrange: $\\sqrt{\\text{sample size}} =  4 * (\\text{SD of 0/1 population}) / 0.01$"
   ]
  },
  {
   "cell_type": "markdown",
   "id": "6d7cfee2-46b8-401c-9c8d-404ba6b6bb7a",
   "metadata": {
    "slideshow": {
     "slide_type": "subslide"
    }
   },
   "source": [
    "### Demo: SD of 0/1 Population"
   ]
  },
  {
   "cell_type": "markdown",
   "id": "d75aa553-5d4e-4b18-91b0-f843ebd7480f",
   "metadata": {
    "slideshow": {
     "slide_type": "notes"
    }
   },
   "source": [
    "Calculate the SD of the 0/1 population"
   ]
  },
  {
   "cell_type": "code",
   "execution_count": null,
   "id": "294820bf-2d32-4936-9c8d-79656bc93859",
   "metadata": {},
   "outputs": [],
   "source": [
    "zero_one_population"
   ]
  },
  {
   "cell_type": "code",
   "execution_count": null,
   "id": "427cb562-6348-483a-977a-6ad433e581dd",
   "metadata": {
    "slideshow": {
     "slide_type": "fragment"
    }
   },
   "outputs": [],
   "source": [
    "np.std(zero_one_population)"
   ]
  },
  {
   "cell_type": "markdown",
   "id": "8cfd7e1d-06ae-4e9e-8dec-7f84f96f28ba",
   "metadata": {
    "slideshow": {
     "slide_type": "notes"
    }
   },
   "source": [
    "Let's make a graph with proportion of ones on the x axis and SD on the y axis."
   ]
  },
  {
   "cell_type": "code",
   "execution_count": null,
   "id": "58d81a2e-f394-49c2-bbea-2be2ff61e153",
   "metadata": {
    "slideshow": {
     "slide_type": "subslide"
    }
   },
   "outputs": [],
   "source": [
    "def sd_of_zero_one_population(number_of_ones):\n",
    "    \"\"\"SD of a population with num_ones ones and (10 - num_ones) zeros\"\"\"\n",
    "    zero_one_population = np.append(np.ones(number_of_ones), np.zeros(10 - number_of_ones))\n",
    "    return np.std(zero_one_population)"
   ]
  },
  {
   "cell_type": "code",
   "execution_count": null,
   "id": "a2473d00-0ff4-4d9e-a56a-5bddd5b24c76",
   "metadata": {
    "slideshow": {
     "slide_type": "fragment"
    }
   },
   "outputs": [],
   "source": [
    "possable_ones = np.arange(11)\n",
    "zero_one_pop = Table().with_columns(\n",
    "    'Number of ones', possable_ones,\n",
    "    'Proportion of ones', possable_ones / 10\n",
    ")"
   ]
  },
  {
   "cell_type": "code",
   "execution_count": null,
   "id": "be089f23-964d-4171-ac18-116878b4f727",
   "metadata": {
    "slideshow": {
     "slide_type": "subslide"
    }
   },
   "outputs": [],
   "source": [
    "sds = zero_one_pop.apply(sd_of_zero_one_population, 'Number of ones')\n",
    "zero_one_pop = zero_one_pop.with_column('SD', sds)"
   ]
  },
  {
   "cell_type": "code",
   "execution_count": null,
   "id": "ef30a649-abc0-4f75-82a2-5b970ee48886",
   "metadata": {
    "slideshow": {
     "slide_type": "subslide"
    }
   },
   "outputs": [],
   "source": [
    "zero_one_pop.scatter('Proportion of ones', 'SD')"
   ]
  },
  {
   "cell_type": "markdown",
   "id": "eae9bdfa-f7b9-4f72-9759-6a10a01ebf6a",
   "metadata": {
    "slideshow": {
     "slide_type": "subslide"
    }
   },
   "source": [
    "### \"Worst Case\" Population SD"
   ]
  },
  {
   "cell_type": "markdown",
   "id": "0ad92f58-ebf4-4384-8b7d-0d0edbc336c6",
   "metadata": {
    "slideshow": {
     "slide_type": "-"
    }
   },
   "source": [
    "* $\\sqrt{\\text{sample size}} =  4 * (\\text{SD of 0/1 population}) / 0.01$\n",
    "* SD of 0/1 population is at most 0.5\n",
    "* $\\sqrt{\\text{sample size}} \\geq 4 * 0.5 / 0.01$\n",
    "* $\\text{sample size} \\geq  (4 * 0.5 / 0.01)^ 2   =   40000$\n",
    "* The sample size should be 40,000 or more\n"
   ]
  },
  {
   "cell_type": "markdown",
   "id": "e9530187-6e0c-4a3f-b815-7a1130803792",
   "metadata": {
    "slideshow": {
     "slide_type": "subslide"
    }
   },
   "source": [
    "### Example"
   ]
  },
  {
   "cell_type": "markdown",
   "id": "8a690be2-416f-4354-9007-96d6d8e16f1b",
   "metadata": {
    "slideshow": {
     "slide_type": "-"
    }
   },
   "source": [
    "<img src=\"./img/lec28_poll_scientific_american.png\" alt=\"Scientific American article with the headline reading: How can a poll of only 1,004 Americans represent 260 million people with only a 3 percent margin of error?\" width=40%>\n",
    "\n",
    "* A researcher is estimating a population proportion based on a random sample of size 1,004.\n",
    "* With chance at least 95%, the estimate will be correct to within 3%.\n",
    "* A 3% margin of error translates to an interval width of 6%."
   ]
  },
  {
   "cell_type": "code",
   "execution_count": null,
   "id": "92ad665c-5965-403b-b664-79dbffaaeeb4",
   "metadata": {
    "slideshow": {
     "slide_type": "fragment"
    }
   },
   "outputs": [],
   "source": [
    "CI_width = ...\n",
    "CI_width "
   ]
  },
  {
   "cell_type": "markdown",
   "id": "9a2a86c0-5222-4abb-ac04-642c1f868646",
   "metadata": {
    "slideshow": {
     "slide_type": "subslide"
    },
    "tags": []
   },
   "source": [
    "### An Exercise"
   ]
  },
  {
   "cell_type": "markdown",
   "id": "56274a7b-5029-453e-ae82-fa6c27bf0da9",
   "metadata": {},
   "source": [
    "* A researcher is estimating a population proportion based on a random sample of size 10,000. \n",
    "* With a confidence level of 95%, the estimate will be correct to within how many percentage points?"
   ]
  },
  {
   "cell_type": "code",
   "execution_count": null,
   "id": "2bba63ce-1adb-4d51-b1fd-1fe97487d273",
   "metadata": {
    "slideshow": {
     "slide_type": "fragment"
    }
   },
   "outputs": [],
   "source": [
    "width = ...\n",
    "margin_of_error = ...\n",
    "margin_of_error_percent = ...\n",
    "margin_of_error_percent"
   ]
  },
  {
   "cell_type": "markdown",
   "id": "32228cf5-32a3-4e47-9fba-daa728da29c4",
   "metadata": {
    "slideshow": {
     "slide_type": "subslide"
    }
   },
   "source": [
    "### Another Example"
   ]
  },
  {
   "cell_type": "markdown",
   "id": "4f9fa6d9-1cb6-4bf2-bce8-15c1037d0a53",
   "metadata": {
    "slideshow": {
     "slide_type": "-"
    }
   },
   "source": [
    "* I am going to use a 68% confidence interval to estimate a population proportion. \n",
    "* I want the total width of my interval to be no more than 2.5\\%.\n",
    "* How large must my random sample be?\n",
    "* $2 \\cdot (\\frac{0.5}{\\sqrt{\\text{sample\\_size}}}) = 0.025$\n",
    "* In other words: $\\text{sample\\_size} = \\left(\\frac{2\\cdot 0.5}{0.025}\\right)^2$\n"
   ]
  },
  {
   "cell_type": "code",
   "execution_count": null,
   "id": "c5957f9e-a1eb-42c9-bbd8-db2d09157396",
   "metadata": {
    "slideshow": {
     "slide_type": "fragment"
    }
   },
   "outputs": [],
   "source": [
    "sample_size = ...\n",
    "sample_size"
   ]
  },
  {
   "cell_type": "markdown",
   "id": "a88e6477-73da-43a6-8732-e58f11ad65f6",
   "metadata": {
    "slideshow": {
     "slide_type": "fragment"
    }
   },
   "source": [
    "---"
   ]
  },
  {
   "cell_type": "markdown",
   "id": "bd157618-9e0d-4d06-be07-66be9cfd6498",
   "metadata": {
    "slideshow": {
     "slide_type": "notes"
    }
   },
   "source": [
    "<footer>\n",
    "    <p>Adopted from UC Berkeley DATA 8 course materials.</p>\n",
    "    <p>This content is offered under a <a href=\"https://creativecommons.org/licenses/by-nc-sa/4.0/\">CC Attribution Non-Commercial Share Alike</a> license.</p>\n",
    "</footer>"
   ]
  }
 ],
 "metadata": {
  "kernelspec": {
   "display_name": "Python 3 (ipykernel)",
   "language": "python",
   "name": "python3"
  },
  "language_info": {
   "codemirror_mode": {
    "name": "ipython",
    "version": 3
   },
   "file_extension": ".py",
   "mimetype": "text/x-python",
   "name": "python",
   "nbconvert_exporter": "python",
   "pygments_lexer": "ipython3",
   "version": "3.10.12"
  }
 },
 "nbformat": 4,
 "nbformat_minor": 5
}
