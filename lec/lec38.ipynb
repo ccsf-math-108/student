{
 "cells": [
  {
   "cell_type": "markdown",
   "id": "5ce205d7-bab4-436a-8801-4472bb108b38",
   "metadata": {
    "editable": true,
    "slideshow": {
     "slide_type": ""
    },
    "tags": []
   },
   "source": [
    "<div style=\"width: 38.5%;\">\n",
    "    <p><strong>City College of San Francisco</strong><p>\n",
    "    <hr>\n",
    "    <p>MATH 108 - Foundations of Data Science</p>\n",
    "</div>"
   ]
  },
  {
   "cell_type": "markdown",
   "id": "4bba7134-f35a-41fc-bdd9-87940fb486d8",
   "metadata": {
    "slideshow": {
     "slide_type": "-"
    }
   },
   "source": [
    "# Lecture 38: Classifiers"
   ]
  },
  {
   "cell_type": "markdown",
   "id": "34baaf81-472d-4543-888e-ed2b1cfc0424",
   "metadata": {
    "slideshow": {
     "slide_type": "-"
    }
   },
   "source": [
    "Associated Textbook Sections: [17.4 - 17.6](https://inferentialthinking.com/chapters/17/4/Implementing_the_Classifier.html)"
   ]
  },
  {
   "cell_type": "markdown",
   "id": "64cbe4d2-80bb-41c4-9467-373e0e9d9d76",
   "metadata": {
    "slideshow": {
     "slide_type": "slide"
    }
   },
   "source": [
    "## Outline"
   ]
  },
  {
   "cell_type": "markdown",
   "id": "f4d8efc7-8073-44d4-9ed9-88b60ae9026f",
   "metadata": {},
   "source": [
    "* [Classifiers](#Classifiers)\n",
    "* [Rows](#Rows)\n",
    "* [Distance](#Distance)\n",
    "* [Nearest Neighbors](#Nearest-Neighbors)\n",
    "* [Evaluation](#Evaluation)\n",
    "* [Before Classifying](#Before-Classifying)"
   ]
  },
  {
   "cell_type": "markdown",
   "id": "5c99860d-9203-434c-8fdc-9393281e2a92",
   "metadata": {
    "slideshow": {
     "slide_type": "slide"
    }
   },
   "source": [
    "## Set Up the Notebook"
   ]
  },
  {
   "cell_type": "code",
   "execution_count": null,
   "id": "d452b9af-972d-4a20-9c71-f537cb36f695",
   "metadata": {},
   "outputs": [],
   "source": [
    "from datascience import *\n",
    "import numpy as np\n",
    "%matplotlib inline\n",
    "import matplotlib.pyplot as plt\n",
    "plt.style.use('fivethirtyeight')\n",
    "\n",
    "from mpl_toolkits.mplot3d import Axes3D\n",
    "\n",
    "ckd = Table.read_table('data/ckd.csv')\n",
    "ckd = ckd.relabeled('Blood Glucose Random', 'Glucose').select('Glucose', 'Hemoglobin', 'White Blood Cell Count', 'Class')\n",
    "\n",
    "patients = Table.read_table('data/breast-cancer.csv').drop('ID')\n",
    "\n",
    "def randomize_column(a):\n",
    "    return a + np.random.normal(0.0, 0.09, size=len(a))\n",
    "\n",
    "jittered = Table().with_columns([\n",
    "        'Bland Chromatin (jittered)', \n",
    "        randomize_column(patients.column('Bland Chromatin')),\n",
    "        'Single Epithelial Cell Size (jittered)', \n",
    "        randomize_column(patients.column('Single Epithelial Cell Size')),\n",
    "        'Class',\n",
    "        patients.column('Class')\n",
    "    ])"
   ]
  },
  {
   "cell_type": "markdown",
   "id": "2f528397-092b-4244-8454-a549cbfec5e6",
   "metadata": {
    "slideshow": {
     "slide_type": "fragment"
    }
   },
   "source": [
    "---"
   ]
  },
  {
   "cell_type": "markdown",
   "id": "a70f0295-6f9a-4aaa-8a4e-de8ab8a3faea",
   "metadata": {
    "slideshow": {
     "slide_type": "slide"
    }
   },
   "source": [
    "## Classifiers"
   ]
  },
  {
   "cell_type": "markdown",
   "id": "f99f6b0f-c826-444f-8866-7da4d123b2fc",
   "metadata": {
    "slideshow": {
     "slide_type": "slide"
    }
   },
   "source": [
    "### Training a Classifier"
   ]
  },
  {
   "cell_type": "markdown",
   "id": "f14f9a9a-b74d-4057-8506-9c71f10459d4",
   "metadata": {
    "slideshow": {
     "slide_type": "-"
    }
   },
   "source": [
    "<img src=\"img/lec35_training_classifier.png\" width=80%>"
   ]
  },
  {
   "cell_type": "markdown",
   "id": "8c7c24ef-09d3-4595-bfd8-4aec87d2bc42",
   "metadata": {
    "slideshow": {
     "slide_type": "slide"
    }
   },
   "source": [
    "### Nearest Neighbor Classifier"
   ]
  },
  {
   "cell_type": "markdown",
   "id": "a3f8abf3-d9e1-4543-bc73-8b1c707317a1",
   "metadata": {
    "slideshow": {
     "slide_type": "-"
    }
   },
   "source": [
    "<img src=\"img/lec35_nn_classifier.png\" width=80%>"
   ]
  },
  {
   "cell_type": "markdown",
   "id": "b95e4be1-58eb-4920-a02c-8846cc4933fa",
   "metadata": {
    "slideshow": {
     "slide_type": "slide"
    }
   },
   "source": [
    "### The Google Science Fair"
   ]
  },
  {
   "cell_type": "markdown",
   "id": "131a907f-811b-47f4-8001-d2dcbec6bf0a",
   "metadata": {
    "slideshow": {
     "slide_type": "-"
    }
   },
   "source": [
    "<img src=\"img/lec35_google_fair.png\" width=60%>\n",
    "\n",
    "[Brittany Wenger](https://edu.google.com/case-studies/brittany-wenger/), a 17-year-old high school student in 2012 won by building a breast cancer classifier with 99% accuracy. \n"
   ]
  },
  {
   "cell_type": "markdown",
   "id": "ab2df966-6a63-47fc-8acf-c1bc23c8a3a1",
   "metadata": {},
   "source": [
    "### Demo: Google Science Fair"
   ]
  },
  {
   "cell_type": "markdown",
   "id": "1431395d-6b3e-47f6-ab55-5924c2564c04",
   "metadata": {},
   "source": [
    "Load the `breast-cancer.csv` data set that contains various cell measurements and a Class labeling of benign `0` or malignant `1`. This data was manually produced by medical professionals that provided the values for each attribute based on visually inspecting images."
   ]
  },
  {
   "cell_type": "code",
   "execution_count": null,
   "id": "a1b3b156-74cd-4fc3-a56d-c6c4b1a19199",
   "metadata": {},
   "outputs": [],
   "source": [
    "patients = Table.read_table('data/breast-cancer.csv').drop('ID')\n",
    "patients.show(5)"
   ]
  },
  {
   "cell_type": "code",
   "execution_count": null,
   "id": "204bca60-d1fb-4d82-965d-91589d813c56",
   "metadata": {},
   "outputs": [],
   "source": [
    "patients.group('Class')"
   ]
  },
  {
   "cell_type": "markdown",
   "id": "cdbf39a3-dd37-4ce0-aadb-6db2ad8b5bb2",
   "metadata": {},
   "source": [
    "Visualize the relationship between `Bland Chromatin` and `Single Epithelial Cell Size` in order to try and classify the cell. Notice that it doesn't seem like there are hundreds of data points in the scatterplot."
   ]
  },
  {
   "cell_type": "code",
   "execution_count": null,
   "id": "c9b41d4c-55e8-4c37-92b1-f12b3f3c6d0f",
   "metadata": {},
   "outputs": [],
   "source": [
    "patients.scatter('Bland Chromatin', 'Single Epithelial Cell Size', group='Class')"
   ]
  },
  {
   "cell_type": "markdown",
   "id": "dafbe325-4446-475f-82d6-912d1c60db8f",
   "metadata": {},
   "source": [
    "An issue with the data is there are not very many numerical values (they are more like categories/rankings), so there are a lot of repeated data points. The `jittered` table adds some random measurement noise to those data points values."
   ]
  },
  {
   "cell_type": "code",
   "execution_count": null,
   "id": "4a93ecec-b056-4266-b6bf-3a95d3c67aa5",
   "metadata": {},
   "outputs": [],
   "source": [
    "jittered.scatter(0, 1, group='Class')"
   ]
  },
  {
   "cell_type": "markdown",
   "id": "75164391-5a54-48e3-a8a8-01ad0098fe2e",
   "metadata": {
    "slideshow": {
     "slide_type": "slide"
    }
   },
   "source": [
    "## Rows"
   ]
  },
  {
   "cell_type": "markdown",
   "id": "1a4ead03-fddd-4e3e-84b6-a5d8033794d8",
   "metadata": {
    "slideshow": {
     "slide_type": "slide"
    }
   },
   "source": [
    "### Rows of Tables"
   ]
  },
  {
   "cell_type": "markdown",
   "id": "3de78dcd-76bc-4683-9b5e-91e6fe633897",
   "metadata": {
    "slideshow": {
     "slide_type": "-"
    }
   },
   "source": [
    "Each row contains all the data for one individual\n",
    "* `t.row(i)` evaluates to `i`th row of table `t`\n",
    "* `t.row(i).item(j)` is the value of column `j` in row `i`\n",
    "* If all values are numbers, then `np.array(t.row(i))` evaluates to an array of all the numbers in the row.  \n",
    "* To consider each row individually, use\n",
    "* `for row in t.rows:`\n",
    "    `... row.item(j) ...`\n",
    "* `t.exclude(i)` evaluates to the table `t` without its `i`th row\n"
   ]
  },
  {
   "cell_type": "markdown",
   "id": "d24cd17a-9891-4b55-bc17-7e923957c805",
   "metadata": {
    "slideshow": {
     "slide_type": "slide"
    }
   },
   "source": [
    "## Distance"
   ]
  },
  {
   "cell_type": "markdown",
   "id": "39d9c2b6-49c9-4b91-b2ca-db0feff2e496",
   "metadata": {
    "slideshow": {
     "slide_type": "slide"
    }
   },
   "source": [
    "### Pythagoras' Formula"
   ]
  },
  {
   "cell_type": "markdown",
   "id": "6aa0b008-bee9-4186-a0d7-8594cd709231",
   "metadata": {
    "slideshow": {
     "slide_type": "-"
    }
   },
   "source": [
    "<img src=\"img/lec35_pyth.png\" width=20%>\n",
    "\n",
    "For a right triangle with legs $a, b$ and hypotenuse $c$, the following relationship is always true: $$a^2 + b^2 = c^2.$$\n"
   ]
  },
  {
   "cell_type": "markdown",
   "id": "810dfbf3-cae9-4b55-9726-62ff03600320",
   "metadata": {
    "slideshow": {
     "slide_type": "slide"
    }
   },
   "source": [
    "### Distance Between Two Points"
   ]
  },
  {
   "cell_type": "markdown",
   "id": "77d6bbed-8e62-4f75-8847-464182f58636",
   "metadata": {
    "slideshow": {
     "slide_type": "-"
    }
   },
   "source": [
    "One way to calculate the distance between two points utilizes a right triangle and depends on the number of attributes each point has.\n",
    "* If $D$ represents the distance between points $(x_0, y_0)$ and $(x_1, y_1)$, then $$D = \\sqrt{(x_0 - x_1)^2 + (y_0 - y_1)^2}$$\n",
    "* If $D$ represents the distance between points $(x_0, y_0, z_0)$ and $(x_1, y_1, z_1)$, then $$D = \\sqrt{(x_0 - x_1)^2 + (y_0 - y_1)^2 + (z_0 - z_1)^2}$$\n",
    "* etc."
   ]
  },
  {
   "cell_type": "markdown",
   "id": "e1d0152e-3721-4b51-afd4-a9141ca6cde5",
   "metadata": {},
   "source": [
    "### Demo: Distance"
   ]
  },
  {
   "cell_type": "markdown",
   "id": "21c3925e-5e95-4abd-bc5b-49a39781fadf",
   "metadata": {},
   "source": [
    "Create a function to calculate the distance between 2 points (represented as arrays). Use that function to calculate the distance between two rows of numeric data from a table."
   ]
  },
  {
   "cell_type": "code",
   "execution_count": null,
   "id": "00a5d049-79cb-4e26-8343-c5b81cc59260",
   "metadata": {},
   "outputs": [],
   "source": [
    "def distance(pt1, pt2):\n",
    "    \"\"\"Return the distance between two points, represented as arrays\"\"\"\n",
    "    return ..."
   ]
  },
  {
   "cell_type": "code",
   "execution_count": null,
   "id": "32ae62a7-0ccb-4df9-9f71-deab13ce9daa",
   "metadata": {},
   "outputs": [],
   "source": [
    "def row_distance(row1, row2):\n",
    "    \"\"\"Return the distance between two numerical rows of a table\"\"\"\n",
    "    return ..."
   ]
  },
  {
   "cell_type": "markdown",
   "id": "1e1df39b-a1dd-467e-bd6b-6ccde7f1559a",
   "metadata": {},
   "source": [
    "Clean up the `patients` data to be able to apply the `row_distance` function to it."
   ]
  },
  {
   "cell_type": "code",
   "execution_count": null,
   "id": "bb6518cf-61d6-4bb1-a95a-0df1a8abd972",
   "metadata": {},
   "outputs": [],
   "source": [
    "attributes = patients.drop('Class')\n",
    "attributes.show(3)"
   ]
  },
  {
   "cell_type": "code",
   "execution_count": null,
   "id": "a4d8edeb-ad9d-4ed8-9d1a-953db51533ec",
   "metadata": {},
   "outputs": [],
   "source": [
    "row_distance(attributes.row(0), attributes.row(1))"
   ]
  },
  {
   "cell_type": "code",
   "execution_count": null,
   "id": "b55e045f-f40e-401a-9318-8b614ce31826",
   "metadata": {},
   "outputs": [],
   "source": [
    "row_distance(attributes.row(0), attributes.row(2))"
   ]
  },
  {
   "cell_type": "code",
   "execution_count": null,
   "id": "09647b76-d26f-41f8-a0b2-3419c4f297cd",
   "metadata": {},
   "outputs": [],
   "source": [
    "row_distance(attributes.row(2), attributes.row(2))"
   ]
  },
  {
   "cell_type": "markdown",
   "id": "82cef5b3-ab30-4d68-86c8-6b68e0cba58a",
   "metadata": {
    "slideshow": {
     "slide_type": "slide"
    }
   },
   "source": [
    "## Nearest Neighbors"
   ]
  },
  {
   "cell_type": "markdown",
   "id": "05ef2cb4-96e2-427f-8c84-3f8df0d0bc78",
   "metadata": {
    "slideshow": {
     "slide_type": "slide"
    }
   },
   "source": [
    "### Finding the `k` Nearest Neighbors"
   ]
  },
  {
   "cell_type": "markdown",
   "id": "fed39301-6bd0-4790-98f4-e80096cc7f46",
   "metadata": {
    "slideshow": {
     "slide_type": "-"
    }
   },
   "source": [
    "To find the `k` nearest neighbors of an example:\n",
    "* Find the distance between the example and each example in the training set\n",
    "* Augment the training data table with a column containing all the distances\n",
    "* Sort the augmented table in increasing order of the distances\n",
    "* Take the top `k` rows of the sorted table"
   ]
  },
  {
   "cell_type": "markdown",
   "id": "53af9d61-70e3-4dfd-9c31-a642ee65f1e2",
   "metadata": {
    "slideshow": {
     "slide_type": "slide"
    }
   },
   "source": [
    "### The Classifier"
   ]
  },
  {
   "cell_type": "markdown",
   "id": "9894efe8-e28e-4e6f-ac13-0f4cdd8449ac",
   "metadata": {
    "slideshow": {
     "slide_type": "-"
    }
   },
   "source": [
    "To classify a point:\n",
    "* Find its `k` nearest neighbors\n",
    "* Take a majority vote of the `k` nearest neighbors to see which of the two classes appears more often\n",
    "* Assign the point the class that wins the majority vote"
   ]
  },
  {
   "cell_type": "markdown",
   "id": "aaec941c-b000-4f20-bc70-6b9d6f52e750",
   "metadata": {},
   "source": [
    "### Demo: The Classifier"
   ]
  },
  {
   "cell_type": "markdown",
   "id": "fe66e136-4d7b-4be9-9b93-98d3282a79f1",
   "metadata": {},
   "source": [
    "The following function calculates the distance between an example row (an individual patient) and every row in the a training set of `patient` data."
   ]
  },
  {
   "cell_type": "code",
   "execution_count": null,
   "id": "ec653883-626f-4ec5-83bb-11487a108c28",
   "metadata": {},
   "outputs": [],
   "source": [
    "def distances(training, example):\n",
    "    \"\"\"\n",
    "    Compute distance between example and every row in training.\n",
    "    Return training augmented with Distance column\n",
    "    \"\"\"\n",
    "    distances = make_array()\n",
    "    attributes_only = training.drop('Class')\n",
    "    \n",
    "    for row in attributes_only.rows:\n",
    "        distances = np.append(distances, row_distance(row, example))\n",
    "    \n",
    "#   ^ SAME AS DOING:\n",
    "#\n",
    "#   for i in np.arange(attributes_only.num_rows):\n",
    "#       row = attributes_only.row(i)\n",
    "#       distances = np.append(distances, row_distance(row, example))\n",
    "        \n",
    "    return training.with_column('Distance_to_ex', distances)"
   ]
  },
  {
   "cell_type": "markdown",
   "id": "fe51dafb-e304-42f0-8f3a-941527784839",
   "metadata": {},
   "source": [
    "Measure the distance between row 21 and every other row in the data set."
   ]
  },
  {
   "cell_type": "code",
   "execution_count": null,
   "id": "b15e4d52-1a58-4274-ba15-c0b01304481f",
   "metadata": {},
   "outputs": [],
   "source": [
    "example = attributes.row(21)\n",
    "example"
   ]
  },
  {
   "cell_type": "code",
   "execution_count": null,
   "id": "9adc9442-1270-43c8-8181-d1b4fc688575",
   "metadata": {},
   "outputs": [],
   "source": [
    "..."
   ]
  },
  {
   "cell_type": "markdown",
   "id": "4aaddc34-8214-4283-9935-1223a6e62f35",
   "metadata": {},
   "source": [
    "Create a function that finds the `k` closest row to the example row. Apply that function to the situation above."
   ]
  },
  {
   "cell_type": "code",
   "execution_count": null,
   "id": "bd57b181-b1f4-48de-82d8-bf293c7e0554",
   "metadata": {},
   "outputs": [],
   "source": [
    "def closest(training, example, k):\n",
    "    \"\"\"\n",
    "    Return a table of the k closest neighbors to example\n",
    "    \"\"\"\n",
    "    return ..."
   ]
  },
  {
   "cell_type": "code",
   "execution_count": null,
   "id": "e5fee708-57f8-4d2f-b81e-348f806600ce",
   "metadata": {},
   "outputs": [],
   "source": [
    "closest(patients.exclude(21), example, 5)"
   ]
  },
  {
   "cell_type": "markdown",
   "id": "fb1f6032-d42d-4d1b-9d70-798620c0308a",
   "metadata": {},
   "source": [
    "Create a function or functions to report the majority class for the nearest `k` rows to the example row."
   ]
  },
  {
   "cell_type": "code",
   "execution_count": null,
   "id": "c32ce57a-0ebd-4354-9c77-a28873cc614c",
   "metadata": {},
   "outputs": [],
   "source": [
    "closest(patients.exclude(21), example, 5).group('Class').sort('count', descending=True)"
   ]
  },
  {
   "cell_type": "code",
   "execution_count": null,
   "id": "6b162040-0a78-45bc-8f16-9a465a69326f",
   "metadata": {},
   "outputs": [],
   "source": [
    "def majority_class(topk):\n",
    "    \"\"\"\n",
    "    Return the class with the highest count\n",
    "    \"\"\"\n",
    "    return ..."
   ]
  },
  {
   "cell_type": "code",
   "execution_count": null,
   "id": "eb6a0b7e-223f-4daa-9020-b286678c9dde",
   "metadata": {},
   "outputs": [],
   "source": [
    "def classify(training, example, k):\n",
    "    \"\"\"\n",
    "    Return the majority class among the \n",
    "    k nearest neighbors of example\n",
    "    \"\"\"\n",
    "    return ..."
   ]
  },
  {
   "cell_type": "code",
   "execution_count": null,
   "id": "7959f189-32ce-46a9-99c8-92dfae466eab",
   "metadata": {},
   "outputs": [],
   "source": [
    "classify(patients.exclude(21), example, 5)"
   ]
  },
  {
   "cell_type": "code",
   "execution_count": null,
   "id": "172db263-58d6-4c26-ba70-197917856cb9",
   "metadata": {},
   "outputs": [],
   "source": [
    "patients.take(21)"
   ]
  },
  {
   "cell_type": "markdown",
   "id": "73b0fd6c-6225-4fd6-a953-22baae62153f",
   "metadata": {},
   "source": [
    "Apply this technique to other example rows from the data set."
   ]
  },
  {
   "cell_type": "code",
   "execution_count": null,
   "id": "1e152aeb-ead1-4e4d-a903-db79486f3998",
   "metadata": {},
   "outputs": [],
   "source": [
    "new_example = attributes.row(10)\n",
    "classify(patients.exclude(10), new_example, 5)"
   ]
  },
  {
   "cell_type": "code",
   "execution_count": null,
   "id": "b29f353d-0e9b-4b27-8a4d-d71951ce5666",
   "metadata": {},
   "outputs": [],
   "source": [
    "patients.take(10)"
   ]
  },
  {
   "cell_type": "code",
   "execution_count": null,
   "id": "9ad47c4f-2116-4b39-aae4-59f7b48caf84",
   "metadata": {},
   "outputs": [],
   "source": [
    "another_example = attributes.row(15)\n",
    "classify(patients.exclude(15), another_example, 5)"
   ]
  },
  {
   "cell_type": "code",
   "execution_count": null,
   "id": "e52a5b64-0407-464a-b69c-6ade15bbf705",
   "metadata": {},
   "outputs": [],
   "source": [
    "patients.take(15)"
   ]
  },
  {
   "cell_type": "markdown",
   "id": "757b2463-74fe-4e53-a9be-334cbcb1e25e",
   "metadata": {},
   "source": [
    "### Review of the Steps"
   ]
  },
  {
   "cell_type": "markdown",
   "id": "d8b34a41-9bd1-46f8-806a-a6a394b8b3be",
   "metadata": {},
   "source": [
    "- `distance(pt1, pt2)`: Returns the distance between the arrays `pt1` and `pt2`\n",
    "- `row_distance(row1, row2)`: Returns the distance between the rows `row1` and `row2`\n",
    "- `distances(training, example)`: Returns a table that is `training` with an additional column `'Distance'` that contains the distance between `example` and each row of `training`\n",
    "- `closest(training, example, k)`: Returns a table of the rows corresponding to the k smallest distances \n",
    "- `majority_class(topk)`: Returns the majority class in the `'Class'` column\n",
    "- `classify(training, example, k)`: Returns the predicted class of `example` based on a `k` nearest neighbors classifier using the historical sample `training`"
   ]
  },
  {
   "cell_type": "markdown",
   "id": "46b76ed0-3343-44a1-969b-32dd448ffe22",
   "metadata": {
    "slideshow": {
     "slide_type": "slide"
    }
   },
   "source": [
    "## Evaluation"
   ]
  },
  {
   "cell_type": "markdown",
   "id": "be3ae935-a124-4d89-8392-cef55cde3943",
   "metadata": {
    "slideshow": {
     "slide_type": "slide"
    }
   },
   "source": [
    "### Accuracy of a Classifier"
   ]
  },
  {
   "cell_type": "markdown",
   "id": "3b45f532-95e7-4ece-9a8c-32171c866435",
   "metadata": {
    "slideshow": {
     "slide_type": "-"
    }
   },
   "source": [
    "* The accuracy of a classifier on a labeled data set is the proportion of examples that are labeled correctly\n",
    "* Need to compare classifier predictions to true labels\n",
    "* If the labeled data set is sampled at random from a population, then we can infer accuracy on that population\n",
    "\n",
    "<img src=\"img/lec35_train_test_split.png\" width=50%>"
   ]
  },
  {
   "cell_type": "markdown",
   "id": "c9ecddc6-4f38-459b-b1a6-d2a8de3c03e0",
   "metadata": {},
   "source": [
    "### Demo: Accuracy of a Classifier"
   ]
  },
  {
   "cell_type": "markdown",
   "id": "0874ec5e-3e82-4e5a-ad91-28fed91ad3a1",
   "metadata": {},
   "source": [
    "Split up the `patients` data into two tables where approximately 80% of the data is used for training and 20% is used for testing."
   ]
  },
  {
   "cell_type": "code",
   "execution_count": null,
   "id": "d23e3167-c0b1-4652-be20-0f766b30a91e",
   "metadata": {},
   "outputs": [],
   "source": [
    "round(patients.num_rows * 0.8)"
   ]
  },
  {
   "cell_type": "code",
   "execution_count": null,
   "id": "38747157-0069-455b-8cf1-32a576a2f581",
   "metadata": {},
   "outputs": [],
   "source": [
    "shuffled = patients.sample(with_replacement=False) # Randomly permute the rows\n",
    "training_set = ...\n",
    "test_set = ..."
   ]
  },
  {
   "cell_type": "markdown",
   "id": "9ea82dac-57d3-461e-b770-5e2dd9f812cf",
   "metadata": {},
   "source": [
    "Create a function that evaluates the accuracy by returning the proportion of correctly classified examples in the test set."
   ]
  },
  {
   "cell_type": "code",
   "execution_count": null,
   "id": "b26d13ab-e361-4817-ab65-3b3b9a030fe5",
   "metadata": {},
   "outputs": [],
   "source": [
    "def evaluate_accuracy(training, test, k):\n",
    "    \"\"\"Return the proportion of correctly classified examples \n",
    "    in the test set\"\"\"\n",
    "    test_attributes = ...\n",
    "    num_correct = ...\n",
    "    for i in np.arange(test.num_rows):\n",
    "        c = classify(...)\n",
    "        num_correct = ...\n",
    "    return ..."
   ]
  },
  {
   "cell_type": "code",
   "execution_count": null,
   "id": "469eb2b7-fc9b-4def-87d1-d0f17f086f33",
   "metadata": {},
   "outputs": [],
   "source": [
    "evaluate_accuracy(training_set, test_set, 5)"
   ]
  },
  {
   "cell_type": "code",
   "execution_count": null,
   "id": "84ce9f0d-e9ac-4938-bb09-008f57d4d799",
   "metadata": {},
   "outputs": [],
   "source": [
    "evaluate_accuracy(training_set, test_set, 3)"
   ]
  },
  {
   "cell_type": "code",
   "execution_count": null,
   "id": "d6a7d0f5-f560-40ce-8b1b-f53eb204cd28",
   "metadata": {},
   "outputs": [],
   "source": [
    "evaluate_accuracy(training_set, test_set, 11)"
   ]
  },
  {
   "cell_type": "code",
   "execution_count": null,
   "id": "7da3b1f0-72a4-4571-9e95-a52c1a2eefb2",
   "metadata": {},
   "outputs": [],
   "source": [
    "evaluate_accuracy(training_set, test_set, 1)"
   ]
  },
  {
   "cell_type": "markdown",
   "id": "8f6347e0-78c5-4b3d-8962-3d0c961e949d",
   "metadata": {
    "slideshow": {
     "slide_type": "slide"
    }
   },
   "source": [
    "## Before Classifying"
   ]
  },
  {
   "cell_type": "markdown",
   "id": "20ab8fa5-b586-472e-a691-698427d8b3d4",
   "metadata": {
    "slideshow": {
     "slide_type": "slide"
    }
   },
   "source": [
    "### Dog or Wolf?"
   ]
  },
  {
   "cell_type": "markdown",
   "id": "ce0d1366-481c-4abd-8b0b-5e5a92135e37",
   "metadata": {
    "slideshow": {
     "slide_type": "-"
    }
   },
   "source": [
    "<img src=\"img/lec35_dog_wolf.png\" width=80%>"
   ]
  },
  {
   "cell_type": "markdown",
   "id": "787bd65d-0a39-4362-b3b1-027701d89ba0",
   "metadata": {
    "slideshow": {
     "slide_type": "slide"
    }
   },
   "source": [
    "### Start with a Representative Sample"
   ]
  },
  {
   "cell_type": "markdown",
   "id": "23148b54-05f0-47c0-935a-603ddf2d3879",
   "metadata": {
    "slideshow": {
     "slide_type": "-"
    }
   },
   "source": [
    "* Both the training and test sets must accurately represent the population on which you use your classifier\n",
    "* Overfitting happens when a classifier does very well on the training set, but can't do as well on the test set"
   ]
  },
  {
   "cell_type": "markdown",
   "id": "88555999-8045-441f-a4ac-5f344378ceaf",
   "metadata": {
    "slideshow": {
     "slide_type": "slide"
    }
   },
   "source": [
    "### Standardize if Necessary"
   ]
  },
  {
   "cell_type": "code",
   "execution_count": null,
   "id": "14f09533-1eb8-4a89-9e23-d37e5d310e33",
   "metadata": {
    "hide_input": true
   },
   "outputs": [],
   "source": [
    "Table().with_columns(\n",
    "    'Glucose', make_array(117, 70, 380, 157),\n",
    "    'Hemoglobin', make_array(11.2, 9.5, 10.8, 5.6),\n",
    "    'White Blood Cell Count', make_array(6700, 12100, 4500, 11000),\n",
    "    'Class', make_array(1, 1, 1, 1)\n",
    ")"
   ]
  },
  {
   "cell_type": "markdown",
   "id": "1350a071-e4fb-4555-8e69-c91cea29bc61",
   "metadata": {
    "slideshow": {
     "slide_type": "-"
    }
   },
   "source": [
    "* If the attributes are on very different numerical scales, distance can be affected\n",
    "* In such a situation, it is a good idea to convert all the variables to standard units "
   ]
  },
  {
   "cell_type": "markdown",
   "id": "f8ffe26e-6493-4c49-85e2-5b5726910f5f",
   "metadata": {},
   "source": [
    "### Demo: Standardize if Necessary"
   ]
  },
  {
   "cell_type": "markdown",
   "id": "99e14106-e8dd-467b-b340-b82ec7a812e0",
   "metadata": {},
   "source": [
    "Explore what can happen to the classifier's accuracy when the units are not standardized."
   ]
  },
  {
   "cell_type": "code",
   "execution_count": null,
   "id": "00b5306f-9d6f-4b9d-b736-f4b3fcdc9e4e",
   "metadata": {},
   "outputs": [],
   "source": [
    "def standard_units(x):\n",
    "    return (x - np.average(x)) / np.std(x)"
   ]
  },
  {
   "cell_type": "code",
   "execution_count": null,
   "id": "60165090-0fb3-425e-8675-437c52cb9163",
   "metadata": {},
   "outputs": [],
   "source": [
    "ckd_new = ckd.select('Class').with_columns(\n",
    "    'Glucose_su', standard_units(ckd.column('Glucose')),\n",
    "    'Hemoglobin_su', standard_units(ckd.column('Hemoglobin')),\n",
    "    'WBC_su', standard_units(ckd.column('White Blood Cell Count'))\n",
    ")"
   ]
  },
  {
   "cell_type": "code",
   "execution_count": null,
   "id": "1add3b9b-15e2-4a08-82e8-76019d35b999",
   "metadata": {},
   "outputs": [],
   "source": [
    "ckd_new"
   ]
  },
  {
   "cell_type": "code",
   "execution_count": null,
   "id": "3d218357-874c-414f-bc9b-ae0120050737",
   "metadata": {},
   "outputs": [],
   "source": [
    "shuffled = ckd_new.sample(with_replacement=False) \n",
    "training_set = shuffled.take(np.arange(74))\n",
    "test_set  = shuffled.take(np.arange(74, 148))"
   ]
  },
  {
   "cell_type": "code",
   "execution_count": null,
   "id": "c80cf716-2df7-4361-b4ea-2fe2bf8a5db7",
   "metadata": {},
   "outputs": [],
   "source": [
    "evaluate_accuracy(training_set, test_set, 3)"
   ]
  },
  {
   "cell_type": "code",
   "execution_count": null,
   "id": "f4758e25-50b6-4ce6-8cf8-dbbd1aa1dc36",
   "metadata": {},
   "outputs": [],
   "source": [
    "shuffled = ckd.sample(with_replacement=False) \n",
    "training_set = shuffled.take(np.arange(74))\n",
    "test_set  = shuffled.take(np.arange(74, 148))"
   ]
  },
  {
   "cell_type": "code",
   "execution_count": null,
   "id": "f0edcbab-0dae-4934-a6d3-5a6ac3da7aa5",
   "metadata": {},
   "outputs": [],
   "source": [
    "evaluate_accuracy(training_set, test_set, 3)"
   ]
  },
  {
   "cell_type": "markdown",
   "id": "a88e6477-73da-43a6-8732-e58f11ad65f6",
   "metadata": {
    "slideshow": {
     "slide_type": "fragment"
    }
   },
   "source": [
    "---"
   ]
  },
  {
   "cell_type": "markdown",
   "id": "bd157618-9e0d-4d06-be07-66be9cfd6498",
   "metadata": {
    "slideshow": {
     "slide_type": "notes"
    }
   },
   "source": [
    "<footer>\n",
    "    <p>Adopted from UC Berkeley DATA 8 course materials.</p>\n",
    "    <p>This content is offered under a <a href=\"https://creativecommons.org/licenses/by-nc-sa/4.0/\">CC Attribution Non-Commercial Share Alike</a> license.</p>\n",
    "</footer>"
   ]
  }
 ],
 "metadata": {
  "kernelspec": {
   "display_name": "Python 3 (ipykernel)",
   "language": "python",
   "name": "python3"
  },
  "language_info": {
   "codemirror_mode": {
    "name": "ipython",
    "version": 3
   },
   "file_extension": ".py",
   "mimetype": "text/x-python",
   "name": "python",
   "nbconvert_exporter": "python",
   "pygments_lexer": "ipython3",
   "version": "3.10.12"
  }
 },
 "nbformat": 4,
 "nbformat_minor": 5
}
