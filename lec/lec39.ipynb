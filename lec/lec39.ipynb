{
 "cells": [
  {
   "cell_type": "markdown",
   "id": "5ce205d7-bab4-436a-8801-4472bb108b38",
   "metadata": {
    "editable": true,
    "slideshow": {
     "slide_type": ""
    },
    "tags": []
   },
   "source": [
    "<div style=\"width: 38.5%;\">\n",
    "    <p><strong>City College of San Francisco</strong><p>\n",
    "    <hr>\n",
    "    <p>MATH 108 - Foundations of Data Science</p>\n",
    "</div>"
   ]
  },
  {
   "cell_type": "markdown",
   "id": "4bba7134-f35a-41fc-bdd9-87940fb486d8",
   "metadata": {
    "slideshow": {
     "slide_type": "-"
    }
   },
   "source": [
    "# Lecture 39: Updating Predictions"
   ]
  },
  {
   "cell_type": "markdown",
   "id": "413b6d47-d7a9-4af4-b23e-cbb277386ce1",
   "metadata": {
    "slideshow": {
     "slide_type": "-"
    }
   },
   "source": [
    "Associated Textbook Sections: [18.0 - 18.2](https://inferentialthinking.com/chapters/18/Updating_Predictions.html)"
   ]
  },
  {
   "cell_type": "markdown",
   "id": "64cbe4d2-80bb-41c4-9467-373e0e9d9d76",
   "metadata": {
    "slideshow": {
     "slide_type": "slide"
    }
   },
   "source": [
    "## Outline"
   ]
  },
  {
   "cell_type": "markdown",
   "id": "dd95fac8-e526-4a65-826d-ca0c41e5e8ea",
   "metadata": {},
   "source": [
    "* [Decisions](#Decisions)\n",
    "* [Conditional Probability](#Conditional-Probability)\n",
    "* [Tree Diagrams](#Tree-Diagrams)\n",
    "* [Bayes' Rule](#Bayes'-Rule)\n",
    "* [Subjective Probabilities](#Subjective-Probabilities)"
   ]
  },
  {
   "cell_type": "markdown",
   "id": "5c99860d-9203-434c-8fdc-9393281e2a92",
   "metadata": {
    "slideshow": {
     "slide_type": "slide"
    }
   },
   "source": [
    "## Set Up the Notebook"
   ]
  },
  {
   "cell_type": "code",
   "execution_count": null,
   "id": "d91939a2-e468-4007-a4e1-95d836472f84",
   "metadata": {
    "slideshow": {
     "slide_type": "-"
    }
   },
   "outputs": [],
   "source": [
    "from datascience import *\n",
    "import numpy as np\n",
    "%matplotlib inline\n",
    "import matplotlib.pyplot as plt\n",
    "plt.style.use('fivethirtyeight')"
   ]
  },
  {
   "cell_type": "markdown",
   "id": "2f528397-092b-4244-8454-a549cbfec5e6",
   "metadata": {
    "slideshow": {
     "slide_type": "fragment"
    }
   },
   "source": [
    "---"
   ]
  },
  {
   "cell_type": "markdown",
   "id": "821b0f9c-3f14-477d-8785-f10d15b19305",
   "metadata": {
    "slideshow": {
     "slide_type": "slide"
    }
   },
   "source": [
    "## Decisions"
   ]
  },
  {
   "cell_type": "markdown",
   "id": "c2f2b7b7-2993-4794-bd23-6d889ec2ae78",
   "metadata": {
    "slideshow": {
     "slide_type": "subslide"
    },
    "tags": []
   },
   "source": [
    "### Decisions Under Uncertainty"
   ]
  },
  {
   "cell_type": "markdown",
   "id": "acdbb61d-f290-4c83-bb8e-22c747a02f6d",
   "metadata": {
    "slideshow": {
     "slide_type": "-"
    }
   },
   "source": [
    "[*Interpretation by Physicians of Clinical Laboratory Results (1978)*](https://www.nejm.org/doi/full/10.1056/nejm197811022991808)\n",
    "\n",
    "> We asked 20 house officers, 20 fourth-year medical students and 20 attending physicians, selected in 67 consecutive hallway encounters at four Harvard Medical School teaching hospitals, the following question:\n",
    ">\n",
    "> _If a test to detect a disease whose prevalence is 1/1000 has a false positive rate of 5%, what is the chance that a person found to have a positive result actually has the disease, assuming that you know nothing about the person's symptoms or signs?_\n",
    ">\n",
    "> Eleven of 60 participants, or 18%, gave the correct answer. These participants included four of 20 fourth-year students, three of 20 residents in internal medicine and four of 20 attending physicians. The most common answer, given by 27, was that \\[the chance that a person found to have a positive result actually has the disease\\] was 95%."
   ]
  },
  {
   "cell_type": "markdown",
   "id": "4d703cf9-43ac-42eb-84e5-d5b985170154",
   "metadata": {
    "slideshow": {
     "slide_type": "subslide"
    },
    "tags": []
   },
   "source": [
    "### Medical Testing Scenario"
   ]
  },
  {
   "cell_type": "markdown",
   "id": "bc8806f9-1269-4541-a0d2-76c3d06468c5",
   "metadata": {},
   "source": [
    "* Rare disease with prevalence of 1/1000 in population\n",
    "* There is a test (e.g., antigen test) with the following properties\n",
    "    * False Positive Rate of 5%: If you do NOT have the disease then 5% of the time, the test says you do.\n",
    "    * False Negative Rate of 1%: If you DO have the disease then 1% of the time, the test says you do not have the disease.\n",
    "* If you sample a person at random and they test positive, what is the chance they have the rare disease?"
   ]
  },
  {
   "cell_type": "markdown",
   "id": "b0c81fcd-09bc-47e3-8e33-93f1e64478a2",
   "metadata": {
    "slideshow": {
     "slide_type": "subslide"
    },
    "tags": []
   },
   "source": [
    "### Truth and Test Results"
   ]
  },
  {
   "cell_type": "markdown",
   "id": "1a3a6e36-350f-4711-b4f5-45803258ba1e",
   "metadata": {},
   "source": [
    "All patients fall into one of 4 categories:\n",
    "\n",
    "<img src=\"./img/lec36_truth_and_test_results.png\" alt=\"Table showing the 4 possible outcomes for the patient.\" width=70%>"
   ]
  },
  {
   "cell_type": "markdown",
   "id": "c57d26ac-d46d-451d-a74a-f0b7dfca67ec",
   "metadata": {
    "slideshow": {
     "slide_type": "subslide"
    },
    "tags": []
   },
   "source": [
    "### False Positive Rate"
   ]
  },
  {
   "cell_type": "markdown",
   "id": "55839893-30a6-4f3d-b348-fe54e54e02ee",
   "metadata": {},
   "source": [
    "<img src=\"./img/lec36_false_positive_rate.png\" alt=\"Same table focusing on the first row as if they test indicated positive.\"  width=70%>"
   ]
  },
  {
   "cell_type": "markdown",
   "id": "f2f213ff-1a49-4902-8c4e-d3215d1e959e",
   "metadata": {
    "slideshow": {
     "slide_type": "subslide"
    },
    "tags": []
   },
   "source": [
    "### False Negative Rate"
   ]
  },
  {
   "cell_type": "markdown",
   "id": "3bcbaa52-8b0a-4df5-b8d8-201ea095ef53",
   "metadata": {},
   "source": [
    "<img src=\"./img/lec36_false_negative_rate.png\" alt=\"Same table focusing on the first row as if they test indicated negative.\"  width=70%>"
   ]
  },
  {
   "cell_type": "markdown",
   "id": "a5e9ec29-574e-44a6-bae2-9ddffe74b6f0",
   "metadata": {
    "slideshow": {
     "slide_type": "subslide"
    },
    "tags": []
   },
   "source": [
    "### Another Scenario"
   ]
  },
  {
   "cell_type": "markdown",
   "id": "3860e30e-0d18-4eda-9ca0-e11e812f7330",
   "metadata": {
    "slideshow": {
     "slide_type": "-"
    }
   },
   "source": [
    "* Class consists of Freshmen (60%) and Sophomores (40%)\n",
    "* Some of the students have declared their major\n",
    "    * 50% of the Freshmen years have declared their major\n",
    "    * 80% of the Sophomores years have declared their major\n",
    "* I pick one student at random ... \n",
    "* That student has declared a major!\n",
    "* Which is more likely: Freshman or Sophomore?"
   ]
  },
  {
   "cell_type": "markdown",
   "id": "c52d0977-d50c-4d72-888a-f4a7cb3bead2",
   "metadata": {
    "slideshow": {
     "slide_type": "subslide"
    },
    "tags": []
   },
   "source": [
    "### What do these scenarios have in common?"
   ]
  },
  {
   "cell_type": "markdown",
   "id": "db97fa9d-1792-45ab-8694-7e789d823bc1",
   "metadata": {},
   "source": [
    "* There is some chance event that I am interested in \n",
    "    * person has a disease\n",
    "    * the student's year\n",
    "* I start with some prior (before observing anything) information about that quantity P(Disease) or P(Year)\n",
    "* I then observe something whose value depends probabilistically on the original chance event Test is Positive, student has declared Neither exactly determines the original event\n",
    "* How do I update the probability of the original event given the additional information?"
   ]
  },
  {
   "cell_type": "markdown",
   "id": "e3b24c47-e77a-454f-b0a4-07d942b207f7",
   "metadata": {
    "slideshow": {
     "slide_type": "slide"
    }
   },
   "source": [
    "## Conditional Probability"
   ]
  },
  {
   "cell_type": "markdown",
   "id": "0edd9159-d320-45d7-9d51-e2fdd0768089",
   "metadata": {
    "slideshow": {
     "slide_type": "subslide"
    },
    "tags": []
   },
   "source": [
    "### Conditional Probability"
   ]
  },
  {
   "cell_type": "markdown",
   "id": "612f3bf1-4368-48c0-83fc-d081b12eef8f",
   "metadata": {},
   "source": [
    "Probability of an event given some information (it is conditioned on the information)\n",
    "Example: \n",
    "* “80% of Sophomores are Declared” \n",
    "* P(Declared | Sophomore) = 0.8 <--- Notation\n",
    "\n"
   ]
  },
  {
   "cell_type": "markdown",
   "id": "bd84d5ee-9848-405b-8baa-5602e46012bd",
   "metadata": {
    "slideshow": {
     "slide_type": "subslide"
    },
    "tags": []
   },
   "source": [
    "### Conditional vs Joint Probabilities "
   ]
  },
  {
   "cell_type": "markdown",
   "id": "2b32680d-fbf2-4cde-9e28-eb9965f127ff",
   "metadata": {},
   "source": [
    "* Recall the joint probability of two events: \n",
    "    * P(Declared, Sophomore) = chance of a random student being a declared and a Sophomore\n",
    "* Conditional probability (the stuff after | is given):\n",
    "    * P(Declared | Sophomore) = chance of a random Sophomore student being declared \n",
    "* Which one is bigger?"
   ]
  },
  {
   "cell_type": "markdown",
   "id": "6d75b56c-ea5e-40a0-a289-dc29531c12fa",
   "metadata": {
    "slideshow": {
     "slide_type": "fragment"
    },
    "tags": []
   },
   "source": [
    "Answer: the conditional, will see why in a moment."
   ]
  },
  {
   "cell_type": "markdown",
   "id": "817d1fd8-b3ff-4cd2-99eb-a088bbc553db",
   "metadata": {
    "slideshow": {
     "slide_type": "subslide"
    },
    "tags": []
   },
   "source": [
    "### An Example"
   ]
  },
  {
   "cell_type": "code",
   "execution_count": null,
   "id": "7cdb035f-d0e7-40d7-a8bd-1ef8cab067e2",
   "metadata": {},
   "outputs": [],
   "source": [
    "from IPython.display import IFrame\n",
    "IFrame('https://docs.google.com/presentation/d/e/2PACX-1vRiLsFDsuuT\\\n",
    "_fGEkjNJJ5Yv6MdEkWshYniIDyrzR4F4vN7UkAUgwT-MrhUTy8_gxwyhLv3rTleNScXw\\\n",
    "/embed?start=false&loop=false&delayms=3000', 960, 569)"
   ]
  },
  {
   "cell_type": "markdown",
   "id": "1629faa7-0051-4f37-80e1-c86987e4f5a2",
   "metadata": {
    "slideshow": {
     "slide_type": "slide"
    },
    "tags": []
   },
   "source": [
    "## Tree Diagrams"
   ]
  },
  {
   "cell_type": "markdown",
   "id": "5268c722-1671-4c75-9413-2ddf2e353326",
   "metadata": {
    "slideshow": {
     "slide_type": "subslide"
    },
    "tags": []
   },
   "source": [
    "### Tree Diagrams"
   ]
  },
  {
   "cell_type": "code",
   "execution_count": null,
   "id": "e11ef61e-a7a2-4e26-b9ba-5d3cf55fe72e",
   "metadata": {},
   "outputs": [],
   "source": [
    "from IPython.display import IFrame\n",
    "IFrame('https://docs.google.com/presentation/d/e/2PACX-1vTYqt2\\\n",
    "-0qckaBNAHfug29S4o0IV-tCrPkOp3a01wWsx65iyAmpFX3gI9ROkaZ21Syf77\\\n",
    "xyiIIDrGAgS/embed?start=false&loop=false&delayms=3000', 960, 569)"
   ]
  },
  {
   "cell_type": "markdown",
   "id": "975593b4-afc1-4549-886c-c3ce0d529269",
   "metadata": {
    "slideshow": {
     "slide_type": "slide"
    }
   },
   "source": [
    "## Bayes' Rule"
   ]
  },
  {
   "cell_type": "markdown",
   "id": "4a709974-9476-40bc-8544-461cc1fda151",
   "metadata": {
    "slideshow": {
     "slide_type": "subslide"
    },
    "tags": []
   },
   "source": [
    "### Bayes' Rule"
   ]
  },
  {
   "cell_type": "code",
   "execution_count": null,
   "id": "6d8f9463-c4a9-439f-84e0-6c26583096ed",
   "metadata": {
    "slideshow": {
     "slide_type": "-"
    }
   },
   "outputs": [],
   "source": [
    "from IPython.display import IFrame\n",
    "IFrame('https://docs.google.com/presentation/d/e/2PACX-1vSTI_AHfonqA-\\\n",
    "ww_uTioJOpF_sy8PHvEkaZ1B0ahy-KdKXygejBtQeQpIACZ0xNLnEYCfTbfkSC3Klw/\\\n",
    "embed?start=false&loop=false&delayms=3000', 960, 569)"
   ]
  },
  {
   "cell_type": "markdown",
   "id": "297eb8cc-a3d7-4f9f-bd42-4a6e5db4b9c9",
   "metadata": {
    "slideshow": {
     "slide_type": "subslide"
    },
    "tags": []
   },
   "source": [
    "### A Closer Look at the Answer"
   ]
  },
  {
   "cell_type": "markdown",
   "id": "527b1bb6-f084-400e-9e7b-f7ea08ecf6fa",
   "metadata": {},
   "source": [
    "Assume a patient is picked at random.\n",
    "* Prior probability of disease \n",
    "    * P(Disease) = 0.001 = one-tenth of 1%\n",
    "* Posterior probability of disease given positive test\n",
    "    * P(Disease | Test positive) = 0.0194... ≅ 2%\n",
    "* Bigger than the prior, but still pretty small\n",
    "* Should we approve such a test?\n",
    "    * The test has low error rates compared to most tests\n",
    "* How can this be?\n"
   ]
  },
  {
   "cell_type": "markdown",
   "id": "3c2ba94b-dcc0-43e0-a7e1-b80e30d96f25",
   "metadata": {
    "slideshow": {
     "slide_type": "subslide"
    },
    "tags": []
   },
   "source": [
    "### Assumptions Matter"
   ]
  },
  {
   "cell_type": "markdown",
   "id": "9ff70feb-c9ce-4f35-9e7e-068040e1c804",
   "metadata": {},
   "source": [
    "* \"Assume a patient is picked at random.\"\n",
    "    * But usually, people aren’t picked at random for medical tests\n",
    "    * So our intuition about randomly picked patients may not be great\n",
    "* For a randomly picked patient, the result does make sense, because the disease is very rare.\n",
    "* What if the doctor believes there is a 10% chance the patient has the disease?"
   ]
  },
  {
   "cell_type": "markdown",
   "id": "91e0ced3-abc9-466c-9f87-28a6478b7bd2",
   "metadata": {
    "slideshow": {
     "slide_type": "subslide"
    },
    "tags": []
   },
   "source": [
    "### Bayes' Rule and Covid Testing"
   ]
  },
  {
   "cell_type": "markdown",
   "id": "94447ad2-7a4c-4ea9-b256-930c49e7d1aa",
   "metadata": {
    "slideshow": {
     "slide_type": "-"
    }
   },
   "source": [
    "<img src=\"img/lec36_bayes.png\" width=50%>\n",
    "\n",
    "*Image Source: [The obscure maths theorem that governs the reliability of Covid testing - The Guardian](https://www.theguardian.com/world/2021/apr/18/obscure-maths-bayes-theorem-reliability-covid-lateral-flow-tests-probability)*"
   ]
  },
  {
   "cell_type": "markdown",
   "id": "20f48e3b-7765-436a-842a-6befd97d39cd",
   "metadata": {
    "slideshow": {
     "slide_type": "subslide"
    },
    "tags": []
   },
   "source": [
    "### Demo: Bayes' Rule"
   ]
  },
  {
   "cell_type": "markdown",
   "id": "c6f632e4-9e28-4e91-93ac-f2e32d90ee76",
   "metadata": {
    "slideshow": {
     "slide_type": "notes"
    },
    "tags": []
   },
   "source": [
    "Create a function that calculates $P(A \\mid B) = \\frac{P(A) \\cdot P(B\\mid A)}{P(B)}$"
   ]
  },
  {
   "cell_type": "code",
   "execution_count": null,
   "id": "48281111-d80e-4d8b-bbde-685b7c7c6fef",
   "metadata": {},
   "outputs": [],
   "source": [
    "def bayes_rule(pr_a, pr_b_given_a, pr_b_given_not_a):\n",
    "    \"\"\"\n",
    "    Bayes' Rule\n",
    "    P(A | B) = P(A)P(B|A) / P(B)\n",
    "    \n",
    "    To Compute P(B)\n",
    "        P(B) = P(B, A) + P(B, Not A) \n",
    "             = P(A)P(B|A) + P(Not A)P(B | Not A)\n",
    "    \"\"\"\n",
    "    pr_b = ...\n",
    "    return ..."
   ]
  },
  {
   "cell_type": "markdown",
   "id": "220f0d89-07b3-421d-8824-53897f17cd75",
   "metadata": {
    "slideshow": {
     "slide_type": "notes"
    },
    "tags": []
   },
   "source": [
    "Use `bayes_rule` to calculate the probability for the original medical question."
   ]
  },
  {
   "cell_type": "code",
   "execution_count": null,
   "id": "f7c56fd4-a5d8-41ff-84ea-5c3926b8a526",
   "metadata": {},
   "outputs": [],
   "source": [
    "pr_disease = ...\n",
    "pr_pos_given_disease = ...\n",
    "pr_pos_given_no_disease = ...\n",
    "\n",
    "bayes_rule(pr_disease, pr_pos_given_disease, pr_pos_given_no_disease)"
   ]
  },
  {
   "cell_type": "markdown",
   "id": "f4985501-30ae-45f6-89b9-032a2dd9cd55",
   "metadata": {
    "slideshow": {
     "slide_type": "notes"
    },
    "tags": []
   },
   "source": [
    "How does the conditional probability change when the prior is larger?"
   ]
  },
  {
   "cell_type": "code",
   "execution_count": null,
   "id": "17896ceb-aeb3-4b0c-863e-7a2787eec3e9",
   "metadata": {},
   "outputs": [],
   "source": [
    "pr_disease_update = ...\n",
    "\n",
    "bayes_rule(pr_disease_update, pr_pos_given_disease, pr_pos_given_no_disease)"
   ]
  },
  {
   "cell_type": "markdown",
   "id": "a68fb7f2-d89f-4ac8-9c09-fbf0267ff2b5",
   "metadata": {
    "slideshow": {
     "slide_type": "notes"
    },
    "tags": []
   },
   "source": [
    "Notice how quickly the Posterior probability climbs as the Prior probability increases."
   ]
  },
  {
   "cell_type": "code",
   "execution_count": null,
   "id": "c379a36f-ff90-4d7d-8d86-b24f4c190c92",
   "metadata": {},
   "outputs": [],
   "source": [
    "pr_disease = np.arange(1,999)/1000\n",
    "\n",
    "post = bayes_rule(pr_disease, pr_pos_given_disease, pr_pos_given_no_disease)\n",
    "Table().with_columns(\n",
    "    \"Prior Pr(Disease)\", pr_disease, \n",
    "    \"Posterior Pr(Disease | Pos. Test)\", post).iplot(\"Prior Pr(Disease)\")"
   ]
  },
  {
   "cell_type": "markdown",
   "id": "d7187b4f-54fb-4502-9f5e-aaa4b56c70cb",
   "metadata": {
    "slideshow": {
     "slide_type": "slide"
    }
   },
   "source": [
    "## Subjective Probabilities"
   ]
  },
  {
   "cell_type": "markdown",
   "id": "472f7183-2af2-4056-9d6c-93117c13f2aa",
   "metadata": {
    "slideshow": {
     "slide_type": "subslide"
    },
    "tags": []
   },
   "source": [
    "### Subjective Probabilities"
   ]
  },
  {
   "cell_type": "markdown",
   "id": "6b6cd5fb-5a9a-4aaf-86d4-5467b90783c2",
   "metadata": {
    "slideshow": {
     "slide_type": "-"
    }
   },
   "source": [
    "* A probability of an outcome can be thought of as:\n",
    "    * A Perspective: The frequency with which it will occur in repeated trials\n",
    "    * Another Perspective: The **subjective** degree of belief that it will (or has) occurred\n",
    "* Why use **subjective** priors?\n",
    "    * In order to quantify a belief that is relevant to a decision\n",
    "    * If the subject of your prediction was not selected randomly from the population\n"
   ]
  },
  {
   "cell_type": "markdown",
   "id": "a88e6477-73da-43a6-8732-e58f11ad65f6",
   "metadata": {
    "slideshow": {
     "slide_type": "fragment"
    }
   },
   "source": [
    "---"
   ]
  },
  {
   "cell_type": "markdown",
   "id": "bd157618-9e0d-4d06-be07-66be9cfd6498",
   "metadata": {
    "slideshow": {
     "slide_type": "notes"
    }
   },
   "source": [
    "<footer>\n",
    "    <p>Adopted from UC Berkeley DATA 8 course materials.</p>\n",
    "    <p>This content is offered under a <a href=\"https://creativecommons.org/licenses/by-nc-sa/4.0/\">CC Attribution Non-Commercial Share Alike</a> license.</p>\n",
    "</footer>"
   ]
  }
 ],
 "metadata": {
  "kernelspec": {
   "display_name": "Python 3 (ipykernel)",
   "language": "python",
   "name": "python3"
  },
  "language_info": {
   "codemirror_mode": {
    "name": "ipython",
    "version": 3
   },
   "file_extension": ".py",
   "mimetype": "text/x-python",
   "name": "python",
   "nbconvert_exporter": "python",
   "pygments_lexer": "ipython3",
   "version": "3.10.12"
  }
 },
 "nbformat": 4,
 "nbformat_minor": 5
}
