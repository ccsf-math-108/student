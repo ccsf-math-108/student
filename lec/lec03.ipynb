{
 "cells": [
  {
   "cell_type": "markdown",
   "id": "00428705",
   "metadata": {
    "slideshow": {
     "slide_type": "slide"
    }
   },
   "source": [
    "<div style=\"width: 38.5%;\">\n",
    "    <p><strong>City College of San Francisco</strong><p>\n",
    "    <hr>\n",
    "    <p>MATH 108 - Foundations of Data Science</p>\n",
    "</div>"
   ]
  },
  {
   "cell_type": "markdown",
   "id": "a5114e17",
   "metadata": {
    "slideshow": {
     "slide_type": "-"
    }
   },
   "source": [
    "# Lecture 03: Expressions"
   ]
  },
  {
   "cell_type": "markdown",
   "id": "6c71bec9",
   "metadata": {
    "slideshow": {
     "slide_type": "slide"
    }
   },
   "source": [
    "## Overview\n",
    "\n",
    "* [Python](#Python)\n",
    "* [Jupyter Notebooks](#Jupyter-Notebooks)\n",
    "* [Expressions](#Expressions)\n",
    "* [Names](#Names)\n",
    "* [Function Calls](#Function-Calls)\n",
    "* [Errors and Exceptions](#Errors-and-Exceptions)"
   ]
  },
  {
   "cell_type": "markdown",
   "id": "9fb1ec2d",
   "metadata": {
    "slideshow": {
     "slide_type": "fragment"
    }
   },
   "source": [
    "---"
   ]
  },
  {
   "cell_type": "markdown",
   "id": "8c21a0c1",
   "metadata": {
    "slideshow": {
     "slide_type": "slide"
    }
   },
   "source": [
    "## Python"
   ]
  },
  {
   "cell_type": "markdown",
   "id": "9720a787",
   "metadata": {
    "slideshow": {
     "slide_type": "subslide"
    }
   },
   "source": [
    "### Python 3.10"
   ]
  },
  {
   "cell_type": "markdown",
   "id": "d49c122d",
   "metadata": {},
   "source": [
    "* Python is popular both for data science & general software development\n",
    "* Mastering the language fundamentals is critical\n",
    "* Learn through practice, not by reading or listening\n",
    "* Follow along with the lecture notebook posted in the Canvas Lecture pages. \n",
    "    * The lecture templates notebooks show the code partial completed, and I'll complete those during the lecture. \n",
    "    * You can follow along with your own copy of notebook to help the lectures feel more interactive and to get more practice with the language."
   ]
  },
  {
   "cell_type": "code",
   "execution_count": null,
   "id": "1886c505",
   "metadata": {
    "slideshow": {
     "slide_type": "fragment"
    }
   },
   "outputs": [],
   "source": [
    "# This shows the version of Python installed on this system\n",
    "\n",
    "!python --version"
   ]
  },
  {
   "cell_type": "markdown",
   "id": "6f14ad8c",
   "metadata": {
    "slideshow": {
     "slide_type": "fragment"
    }
   },
   "source": [
    "---"
   ]
  },
  {
   "cell_type": "markdown",
   "id": "9db5c7a5",
   "metadata": {
    "slideshow": {
     "slide_type": "slide"
    }
   },
   "source": [
    "## Jupyter Notebooks"
   ]
  },
  {
   "cell_type": "markdown",
   "id": "d663bc9f",
   "metadata": {},
   "source": [
    "* Jupyter notebooks are web applications\n",
    "* Some things you can do with notebooks:\n",
    "    * develop and run computer-interpreted code\n",
    "    * engage with and produce human-focused documentation\n",
    "    * support reproducible science\n",
    "    * and more!"
   ]
  },
  {
   "cell_type": "markdown",
   "id": "e3a290ca",
   "metadata": {
    "slideshow": {
     "slide_type": "subslide"
    }
   },
   "source": [
    "### Notebook Interface (Version 7)"
   ]
  },
  {
   "cell_type": "markdown",
   "id": "eace1a7a",
   "metadata": {},
   "source": [
    "<a href=\"https://jupyter-notebook.readthedocs.io/en/stable/notebook.html#notebook-user-interface\"><img src=\"./img/notebook_interface.png\" width = 100%></a>"
   ]
  },
  {
   "cell_type": "markdown",
   "id": "b6fd9119",
   "metadata": {
    "slideshow": {
     "slide_type": "subslide"
    }
   },
   "source": [
    "#### Notebook Name"
   ]
  },
  {
   "cell_type": "markdown",
   "id": "9d8b313c",
   "metadata": {},
   "source": [
    "The name displayed at the top of the page, next to the Jupyter logo, reflects the name of the .ipynb file. Clicking on the notebook name brings up a dialog which allows you to rename it."
   ]
  },
  {
   "cell_type": "markdown",
   "id": "aa7764a4",
   "metadata": {
    "slideshow": {
     "slide_type": "fragment"
    }
   },
   "source": [
    "#### Menu Bar"
   ]
  },
  {
   "cell_type": "markdown",
   "id": "f3afb4ab",
   "metadata": {},
   "source": [
    "The menu bar presents different options that may be used to manipulate the way the notebook functions."
   ]
  },
  {
   "cell_type": "markdown",
   "id": "a08e77f5",
   "metadata": {
    "slideshow": {
     "slide_type": "fragment"
    }
   },
   "source": [
    "#### Toolbar"
   ]
  },
  {
   "cell_type": "markdown",
   "id": "29f458b6",
   "metadata": {},
   "source": [
    "The tool bar gives a quick way of performing the most-used operations within the notebook, by clicking on an icon."
   ]
  },
  {
   "cell_type": "markdown",
   "id": "93976ff9",
   "metadata": {
    "slideshow": {
     "slide_type": "subslide"
    }
   },
   "source": [
    "### Notebook Cells"
   ]
  },
  {
   "cell_type": "markdown",
   "id": "57a009b7",
   "metadata": {},
   "source": [
    "You'll learn a lot about notebooks throughout the semester, but the main building block of a notebook is called a cell."
   ]
  },
  {
   "cell_type": "markdown",
   "id": "361e8d39",
   "metadata": {
    "slideshow": {
     "slide_type": "fragment"
    }
   },
   "source": [
    "There are two basic types of cells:\n",
    "* Code cells\n",
    "* Markdown (text) cells"
   ]
  },
  {
   "cell_type": "markdown",
   "id": "b416a8c5",
   "metadata": {
    "slideshow": {
     "slide_type": "subslide"
    }
   },
   "source": [
    "#### A Code Cell"
   ]
  },
  {
   "cell_type": "markdown",
   "id": "5ed529b8",
   "metadata": {},
   "source": [
    "* Code cells interpret computer code.\n",
    "* Our notebooks support the Python programming langauge."
   ]
  },
  {
   "cell_type": "code",
   "execution_count": null,
   "id": "06728bc9",
   "metadata": {
    "slideshow": {
     "slide_type": "fragment"
    }
   },
   "outputs": [],
   "source": [
    "# This is a code cell that prints out the text Hello, MATH 108!\n",
    "\n",
    "print('Hello, MATH 108!')"
   ]
  },
  {
   "cell_type": "markdown",
   "id": "19c26e69",
   "metadata": {
    "slideshow": {
     "slide_type": "subslide"
    }
   },
   "source": [
    "#### A Markdown Cell"
   ]
  },
  {
   "cell_type": "markdown",
   "id": "cf99cbc9",
   "metadata": {},
   "source": [
    "* All the formated text is contained in a Markdown cell. \n",
    "* You can double click these cells to edit them. \n",
    "* Markdown is a markup language that allows you to type as if you were using a basic text editor, but you have a few formatting features such as:\n",
    "    * **bold**, \n",
    "    * *italic*, \n",
    "    * etc.\n",
    "* There is a straightforward [Markdown guide](https://www.markdownguide.org/basic-syntax/) that shows you have to do all the basic formatting. "
   ]
  },
  {
   "cell_type": "markdown",
   "id": "895af85c",
   "metadata": {
    "slideshow": {
     "slide_type": "subslide"
    }
   },
   "source": [
    "### Kernel"
   ]
  },
  {
   "cell_type": "markdown",
   "id": "d5b62ea5",
   "metadata": {},
   "source": [
    "* Computational process that runs the code in the notebook \n",
    "* The kernel status appears in the upper right of the notebook:\n",
    "    * Open circle: kernel is ready to run a cell\n",
    "    * Closed circle: kernel is not ready to run a cell\n",
    "    * Circle with a lightning bolt along with the phrase 'No Kernel': kernel has shut down for some reason\n",
    "* A number appears to the left of a code cell showing the order in which the code cells have been run\n",
    "* If your kernel has shut down:\n",
    "    * The \"memory\" of the notebook has been lost\n",
    "    * You will need to re-run the cells\n",
    "        * Select `Kernel` -> `Restart` in the Menu Bar\n",
    "        * Re-run all the cells you want to run\n",
    "    "
   ]
  },
  {
   "cell_type": "markdown",
   "id": "67cbe42b",
   "metadata": {
    "slideshow": {
     "slide_type": "fragment"
    }
   },
   "source": [
    "---"
   ]
  },
  {
   "cell_type": "markdown",
   "id": "285ac7d0",
   "metadata": {
    "slideshow": {
     "slide_type": "slide"
    }
   },
   "source": [
    "## Expressions"
   ]
  },
  {
   "cell_type": "markdown",
   "id": "d16fd794",
   "metadata": {},
   "source": [
    "Expressions are cominations of symbols that are interpreted to produce some value."
   ]
  },
  {
   "cell_type": "code",
   "execution_count": null,
   "id": "378d2684",
   "metadata": {
    "slideshow": {
     "slide_type": "fragment"
    }
   },
   "outputs": [],
   "source": [
    "\"Hello\""
   ]
  },
  {
   "cell_type": "code",
   "execution_count": null,
   "id": "0b903052",
   "metadata": {
    "slideshow": {
     "slide_type": "fragment"
    }
   },
   "outputs": [],
   "source": [
    "x = 2"
   ]
  },
  {
   "cell_type": "code",
   "execution_count": null,
   "id": "ecc8791e",
   "metadata": {
    "slideshow": {
     "slide_type": "fragment"
    }
   },
   "outputs": [],
   "source": [
    "[2, 4, 5]"
   ]
  },
  {
   "cell_type": "code",
   "execution_count": null,
   "id": "533e718b",
   "metadata": {
    "slideshow": {
     "slide_type": "fragment"
    }
   },
   "outputs": [],
   "source": [
    "abs(-10)"
   ]
  },
  {
   "cell_type": "code",
   "execution_count": null,
   "id": "0e94c601",
   "metadata": {
    "slideshow": {
     "slide_type": "fragment"
    }
   },
   "outputs": [],
   "source": [
    "import math"
   ]
  },
  {
   "cell_type": "markdown",
   "id": "718d4f18",
   "metadata": {
    "slideshow": {
     "slide_type": "slide"
    }
   },
   "source": [
    "### Demo: Arithmetic in Python"
   ]
  },
  {
   "cell_type": "code",
   "execution_count": null,
   "id": "11bc9fa6",
   "metadata": {},
   "outputs": [],
   "source": [
    "# Addition\n",
    "..."
   ]
  },
  {
   "cell_type": "code",
   "execution_count": null,
   "id": "17a1b39f",
   "metadata": {
    "slideshow": {
     "slide_type": "fragment"
    }
   },
   "outputs": [],
   "source": [
    "# Multiplication\n",
    "..."
   ]
  },
  {
   "cell_type": "code",
   "execution_count": null,
   "id": "ec03ea0e",
   "metadata": {
    "slideshow": {
     "slide_type": "fragment"
    }
   },
   "outputs": [],
   "source": [
    "# Division\n",
    "..."
   ]
  },
  {
   "cell_type": "code",
   "execution_count": null,
   "id": "35930972",
   "metadata": {
    "slideshow": {
     "slide_type": "subslide"
    }
   },
   "outputs": [],
   "source": [
    "# Combining operation -- Order of Operartions\n",
    "..."
   ]
  },
  {
   "cell_type": "code",
   "execution_count": null,
   "id": "2fdfb597",
   "metadata": {
    "slideshow": {
     "slide_type": "fragment"
    }
   },
   "outputs": [],
   "source": [
    "# Grouping operation\n",
    "..."
   ]
  },
  {
   "cell_type": "code",
   "execution_count": null,
   "id": "3617e751",
   "metadata": {
    "slideshow": {
     "slide_type": "subslide"
    }
   },
   "outputs": [],
   "source": [
    "# Exponentiation\n",
    "..."
   ]
  },
  {
   "cell_type": "code",
   "execution_count": null,
   "id": "dbdfaed2",
   "metadata": {
    "slideshow": {
     "slide_type": "subslide"
    }
   },
   "outputs": [],
   "source": [
    "# Modulo\n",
    "..."
   ]
  },
  {
   "cell_type": "code",
   "execution_count": null,
   "id": "07d73183",
   "metadata": {
    "slideshow": {
     "slide_type": "fragment"
    }
   },
   "outputs": [],
   "source": [
    "# Modulo\n",
    "..."
   ]
  },
  {
   "cell_type": "markdown",
   "id": "56065250",
   "metadata": {
    "slideshow": {
     "slide_type": "fragment"
    }
   },
   "source": [
    "---"
   ]
  },
  {
   "cell_type": "markdown",
   "id": "cb065e94",
   "metadata": {
    "slideshow": {
     "slide_type": "slide"
    }
   },
   "source": [
    "## Names"
   ]
  },
  {
   "cell_type": "markdown",
   "id": "2bb86c58",
   "metadata": {
    "slideshow": {
     "slide_type": "subslide"
    }
   },
   "source": [
    "### Assignment Statements"
   ]
  },
  {
   "cell_type": "markdown",
   "id": "c92fbb76",
   "metadata": {},
   "source": [
    "<img src=\"./img/assignment_statements.png\" width = 50%>\n",
    "\n",
    "* Statements perform an action\n",
    "* An assignment statement changes the meaning of the name to the left of the = symbol\n",
    "* The name is bound to a value (not an equation)"
   ]
  },
  {
   "cell_type": "markdown",
   "id": "a4844946",
   "metadata": {
    "slideshow": {
     "slide_type": "subslide"
    }
   },
   "source": [
    "### Demo: Names"
   ]
  },
  {
   "cell_type": "markdown",
   "id": "a71b77e1",
   "metadata": {
    "slideshow": {
     "slide_type": "notes"
    }
   },
   "source": [
    "Define a few names, apply them to create arithmetic operations, and differentiate between names and strings."
   ]
  },
  {
   "cell_type": "code",
   "execution_count": null,
   "id": "6a166a8b",
   "metadata": {
    "slideshow": {
     "slide_type": "fragment"
    }
   },
   "outputs": [],
   "source": [
    "..."
   ]
  },
  {
   "cell_type": "code",
   "execution_count": null,
   "id": "783ab995",
   "metadata": {
    "slideshow": {
     "slide_type": "fragment"
    }
   },
   "outputs": [],
   "source": [
    "..."
   ]
  },
  {
   "cell_type": "code",
   "execution_count": null,
   "id": "92c97e3c",
   "metadata": {
    "slideshow": {
     "slide_type": "fragment"
    }
   },
   "outputs": [],
   "source": [
    "..."
   ]
  },
  {
   "cell_type": "code",
   "execution_count": null,
   "id": "50c71100",
   "metadata": {
    "slideshow": {
     "slide_type": "subslide"
    }
   },
   "outputs": [],
   "source": [
    "..."
   ]
  },
  {
   "cell_type": "code",
   "execution_count": null,
   "id": "22e7e5bd",
   "metadata": {
    "slideshow": {
     "slide_type": "subslide"
    }
   },
   "outputs": [],
   "source": [
    "..."
   ]
  },
  {
   "cell_type": "code",
   "execution_count": null,
   "id": "f1d2a8ba",
   "metadata": {
    "slideshow": {
     "slide_type": "subslide"
    }
   },
   "outputs": [],
   "source": [
    "..."
   ]
  },
  {
   "cell_type": "code",
   "execution_count": null,
   "id": "e6c69219",
   "metadata": {
    "slideshow": {
     "slide_type": "fragment"
    }
   },
   "outputs": [],
   "source": [
    "..."
   ]
  },
  {
   "cell_type": "code",
   "execution_count": null,
   "id": "47281083",
   "metadata": {
    "slideshow": {
     "slide_type": "subslide"
    }
   },
   "outputs": [],
   "source": [
    "..."
   ]
  },
  {
   "cell_type": "markdown",
   "id": "f13ecae2-2c31-4a6e-b0e1-a96b79477a24",
   "metadata": {
    "editable": true,
    "slideshow": {
     "slide_type": ""
    },
    "tags": []
   },
   "source": [
    "Notice that putting quotations around a name doesn't provide you the same information."
   ]
  },
  {
   "cell_type": "code",
   "execution_count": null,
   "id": "c44afe7e",
   "metadata": {
    "slideshow": {
     "slide_type": "subslide"
    }
   },
   "outputs": [],
   "source": [
    "..."
   ]
  },
  {
   "cell_type": "markdown",
   "id": "3662ca88",
   "metadata": {
    "slideshow": {
     "slide_type": "subslide"
    }
   },
   "source": [
    "### Demo: Why Names?"
   ]
  },
  {
   "cell_type": "markdown",
   "id": "1a770138",
   "metadata": {
    "slideshow": {
     "slide_type": "notes"
    }
   },
   "source": [
    "See how helpful choices of names can help you and others navigate your code."
   ]
  },
  {
   "cell_type": "code",
   "execution_count": null,
   "id": "9dedd4c4",
   "metadata": {
    "slideshow": {
     "slide_type": "fragment"
    }
   },
   "outputs": [],
   "source": [
    "hours_per_week = 40\n",
    "weeks_per_year = 52"
   ]
  },
  {
   "cell_type": "code",
   "execution_count": null,
   "id": "a8968160",
   "metadata": {
    "slideshow": {
     "slide_type": "fragment"
    }
   },
   "outputs": [],
   "source": [
    "hours_per_year = ..."
   ]
  },
  {
   "cell_type": "code",
   "execution_count": null,
   "id": "22bc9134",
   "metadata": {
    "slideshow": {
     "slide_type": "fragment"
    }
   },
   "outputs": [],
   "source": [
    "hours_per_year"
   ]
  },
  {
   "cell_type": "code",
   "execution_count": null,
   "id": "77aa6051",
   "metadata": {
    "slideshow": {
     "slide_type": "subslide"
    }
   },
   "outputs": [],
   "source": [
    "# Minimum wage for businesses w/26 or more employees as of 2023\n",
    "ca_hourly_minimum_wage = 15.50"
   ]
  },
  {
   "cell_type": "code",
   "execution_count": null,
   "id": "04f549c8",
   "metadata": {
    "slideshow": {
     "slide_type": "subslide"
    }
   },
   "outputs": [],
   "source": [
    "weekly_wages = ...\n",
    "weekly_wages"
   ]
  },
  {
   "cell_type": "code",
   "execution_count": null,
   "id": "b1da3208",
   "metadata": {
    "slideshow": {
     "slide_type": "fragment"
    }
   },
   "outputs": [],
   "source": [
    "yearly_wages = ...\n",
    "yearly_wages"
   ]
  },
  {
   "cell_type": "code",
   "execution_count": null,
   "id": "698931e6",
   "metadata": {
    "slideshow": {
     "slide_type": "subslide"
    }
   },
   "outputs": [],
   "source": [
    "40 * 15.50"
   ]
  },
  {
   "cell_type": "code",
   "execution_count": null,
   "id": "815c00ba",
   "metadata": {
    "slideshow": {
     "slide_type": "fragment"
    }
   },
   "outputs": [],
   "source": [
    "40 * 52 * 15.50"
   ]
  },
  {
   "cell_type": "markdown",
   "id": "216d8a3f",
   "metadata": {
    "slideshow": {
     "slide_type": "fragment"
    }
   },
   "source": [
    "---"
   ]
  },
  {
   "cell_type": "markdown",
   "id": "ecafaaa9",
   "metadata": {
    "slideshow": {
     "slide_type": "slide"
    }
   },
   "source": [
    "## Function Calls"
   ]
  },
  {
   "cell_type": "markdown",
   "id": "b88e369d",
   "metadata": {
    "slideshow": {
     "slide_type": "subslide"
    }
   },
   "source": [
    "### Anatomy of a Call Expression"
   ]
  },
  {
   "cell_type": "markdown",
   "id": "c7b865b5",
   "metadata": {},
   "source": [
    "<img src=\"./img/anatomy_of_a_call_expression.png\" width = 40%>"
   ]
  },
  {
   "cell_type": "markdown",
   "id": "d244a9aa",
   "metadata": {
    "slideshow": {
     "slide_type": "fragment"
    }
   },
   "source": [
    "\"Call `f` on 27.\""
   ]
  },
  {
   "cell_type": "markdown",
   "id": "13ff6091",
   "metadata": {
    "slideshow": {
     "slide_type": "subslide"
    }
   },
   "source": [
    "### Anatomy of a Call Expression - Multiple Arguments"
   ]
  },
  {
   "cell_type": "markdown",
   "id": "a6cedb08",
   "metadata": {},
   "source": [
    "<img src=\"./img/anatomy_of_a_call_expression_multiple_arguments.png\" width = 50%>"
   ]
  },
  {
   "cell_type": "markdown",
   "id": "45424925",
   "metadata": {
    "slideshow": {
     "slide_type": "subslide"
    }
   },
   "source": [
    "### Demo: Functions and Call Expressions"
   ]
  },
  {
   "cell_type": "markdown",
   "id": "e822621a",
   "metadata": {
    "slideshow": {
     "slide_type": "notes"
    }
   },
   "source": [
    "Use a few built in functions that have 1 or more arguments."
   ]
  },
  {
   "cell_type": "code",
   "execution_count": null,
   "id": "39fcf53f",
   "metadata": {
    "slideshow": {
     "slide_type": "fragment"
    }
   },
   "outputs": [],
   "source": [
    "..."
   ]
  },
  {
   "cell_type": "code",
   "execution_count": null,
   "id": "6660d2f6",
   "metadata": {
    "slideshow": {
     "slide_type": "fragment"
    }
   },
   "outputs": [],
   "source": [
    "..."
   ]
  },
  {
   "cell_type": "code",
   "execution_count": null,
   "id": "9cb8a10e",
   "metadata": {
    "slideshow": {
     "slide_type": "subslide"
    }
   },
   "outputs": [],
   "source": [
    "day_temp = 52\n",
    "night_temp = 47\n",
    "..."
   ]
  },
  {
   "cell_type": "code",
   "execution_count": null,
   "id": "c59a1213",
   "metadata": {
    "slideshow": {
     "slide_type": "fragment"
    }
   },
   "outputs": [],
   "source": [
    "..."
   ]
  },
  {
   "cell_type": "code",
   "execution_count": null,
   "id": "aa2103e9",
   "metadata": {
    "slideshow": {
     "slide_type": "subslide"
    }
   },
   "outputs": [],
   "source": [
    "..."
   ]
  },
  {
   "cell_type": "markdown",
   "id": "8ed5d44e",
   "metadata": {
    "slideshow": {
     "slide_type": "notes"
    }
   },
   "source": [
    "Find the help documentation on the `round` function and explore the arguments with default values. Notice that you can explicitly specify argument values, but python can also know what to do based on the position of the values."
   ]
  },
  {
   "cell_type": "code",
   "execution_count": null,
   "id": "08cb6d06",
   "metadata": {
    "slideshow": {
     "slide_type": "subslide"
    }
   },
   "outputs": [],
   "source": [
    "..."
   ]
  },
  {
   "cell_type": "code",
   "execution_count": null,
   "id": "e682c72c",
   "metadata": {
    "slideshow": {
     "slide_type": "subslide"
    }
   },
   "outputs": [],
   "source": [
    "..."
   ]
  },
  {
   "cell_type": "code",
   "execution_count": null,
   "id": "b11f7d20",
   "metadata": {
    "slideshow": {
     "slide_type": "fragment"
    }
   },
   "outputs": [],
   "source": [
    "..."
   ]
  },
  {
   "cell_type": "markdown",
   "id": "bf1ec6b6",
   "metadata": {
    "slideshow": {
     "slide_type": "fragment"
    }
   },
   "source": [
    "---"
   ]
  },
  {
   "cell_type": "markdown",
   "id": "885a1e93",
   "metadata": {
    "slideshow": {
     "slide_type": "slide"
    }
   },
   "source": [
    "## Errors and Exceptions"
   ]
  },
  {
   "cell_type": "markdown",
   "id": "9be783a1",
   "metadata": {
    "slideshow": {
     "slide_type": "-"
    }
   },
   "source": [
    "* Errors happen and that is okay!\n",
    "* Python provides error messages to help correct errors\n",
    "* The size of the printout of the error does not correlate to the size of the error\n",
    "* Try your best to learn the details of these messages to help you debug your errors\n",
    "* [Python's documentation](https://docs.python.org/3/library/exceptions.html#bltin-exceptions) contains a discription for all the built-in errors messages."
   ]
  },
  {
   "cell_type": "markdown",
   "id": "a8c840e7",
   "metadata": {
    "slideshow": {
     "slide_type": "subslide"
    }
   },
   "source": [
    "### Syntax Error"
   ]
  },
  {
   "cell_type": "markdown",
   "id": "c1ac10a5",
   "metadata": {},
   "source": [
    "* Syntax errors are very common\n",
    "* The indicate that something is wrong with the format of the code\n",
    "* The ^ symbol used to *try* and point out where the error might be"
   ]
  },
  {
   "cell_type": "code",
   "execution_count": null,
   "id": "f9da663d",
   "metadata": {
    "slideshow": {
     "slide_type": "fragment"
    }
   },
   "outputs": [],
   "source": [
    "# A SyntaxError\n",
    "display([1, 2, 3]"
   ]
  },
  {
   "cell_type": "markdown",
   "id": "09f74daa",
   "metadata": {
    "slideshow": {
     "slide_type": "subslide"
    }
   },
   "source": [
    "### Name Error"
   ]
  },
  {
   "cell_type": "markdown",
   "id": "8c09a0ba",
   "metadata": {},
   "source": [
    "* This is another common error for this course\n",
    "* Name errors indicate the name used has not been defined\n",
    "* If the kernel shuts down and cells need to be re-run this error could show up"
   ]
  },
  {
   "cell_type": "code",
   "execution_count": null,
   "id": "e8762b72",
   "metadata": {
    "scrolled": true,
    "slideshow": {
     "slide_type": "fragment"
    }
   },
   "outputs": [],
   "source": [
    "# A NameError\n",
    "print(a_name)"
   ]
  },
  {
   "cell_type": "markdown",
   "id": "1edccf6a",
   "metadata": {
    "slideshow": {
     "slide_type": "fragment"
    }
   },
   "source": [
    "---"
   ]
  },
  {
   "cell_type": "markdown",
   "id": "a86bac08",
   "metadata": {
    "slideshow": {
     "slide_type": "notes"
    }
   },
   "source": [
    "<footer>\n",
    "    <p>Adopted from UC Berkeley DATA 8 course materials.</p>\n",
    "    <p>This content is offered under a <a href=\"https://creativecommons.org/licenses/by-nc-sa/4.0/\">CC Attribution Non-Commercial Share Alike</a> license.</p>\n",
    "</footer>"
   ]
  }
 ],
 "metadata": {
  "celltoolbar": "Slideshow",
  "kernelspec": {
   "display_name": "Python 3 (ipykernel)",
   "language": "python",
   "name": "python3"
  },
  "language_info": {
   "codemirror_mode": {
    "name": "ipython",
    "version": 3
   },
   "file_extension": ".py",
   "mimetype": "text/x-python",
   "name": "python",
   "nbconvert_exporter": "python",
   "pygments_lexer": "ipython3",
   "version": "3.10.12"
  }
 },
 "nbformat": 4,
 "nbformat_minor": 5
}
