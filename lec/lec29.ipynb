{
 "cells": [
  {
   "cell_type": "markdown",
   "id": "5ce205d7-bab4-436a-8801-4472bb108b38",
   "metadata": {
    "editable": true,
    "slideshow": {
     "slide_type": ""
    },
    "tags": []
   },
   "source": [
    "<div style=\"width: 38.5%;\">\n",
    "    <p><strong>City College of San Francisco</strong><p>\n",
    "    <hr>\n",
    "    <p>MATH 108 - Foundations of Data Science</p>\n",
    "</div>"
   ]
  },
  {
   "cell_type": "markdown",
   "id": "4bba7134-f35a-41fc-bdd9-87940fb486d8",
   "metadata": {
    "slideshow": {
     "slide_type": "-"
    }
   },
   "source": [
    "# Lecture 29: The Normal Distribution"
   ]
  },
  {
   "cell_type": "markdown",
   "id": "469e6783-3053-4f2b-8c4a-36558d877669",
   "metadata": {
    "slideshow": {
     "slide_type": "-"
    }
   },
   "source": [
    "Associated Textbook Sections: [14.3, 14.4](https://inferentialthinking.com/chapters/14/3/SD_and_the_Normal_Curve.html)"
   ]
  },
  {
   "cell_type": "markdown",
   "id": "64cbe4d2-80bb-41c4-9467-373e0e9d9d76",
   "metadata": {
    "slideshow": {
     "slide_type": "slide"
    }
   },
   "source": [
    "## Outline"
   ]
  },
  {
   "cell_type": "markdown",
   "id": "204a3069-f130-45c8-a039-1ba0c229c6c5",
   "metadata": {},
   "source": [
    "* [Standard Units Review](#Standard-Units-Review)\n",
    "* [Normal Distributions](#Normal-Distributions)\n",
    "* [Normal Proportions](#Normal-Proportions)"
   ]
  },
  {
   "cell_type": "markdown",
   "id": "5c99860d-9203-434c-8fdc-9393281e2a92",
   "metadata": {
    "slideshow": {
     "slide_type": "slide"
    }
   },
   "source": [
    "## Set Up the Notebook"
   ]
  },
  {
   "cell_type": "code",
   "execution_count": null,
   "id": "d91939a2-e468-4007-a4e1-95d836472f84",
   "metadata": {
    "slideshow": {
     "slide_type": "-"
    }
   },
   "outputs": [],
   "source": [
    "from datascience import *\n",
    "import numpy as np\n",
    "%matplotlib inline\n",
    "import matplotlib.pyplot as plt\n",
    "plt.style.use('fivethirtyeight')\n",
    "import scipy\n",
    "import plotly.express as px\n",
    "from ipywidgets import interact, interactive, fixed, interact_manual\n",
    "import ipywidgets as widgets"
   ]
  },
  {
   "cell_type": "markdown",
   "id": "2f528397-092b-4244-8454-a549cbfec5e6",
   "metadata": {
    "slideshow": {
     "slide_type": "fragment"
    }
   },
   "source": [
    "---"
   ]
  },
  {
   "cell_type": "markdown",
   "id": "01bede22-cdbc-455a-adc1-9e4c494a5232",
   "metadata": {
    "slideshow": {
     "slide_type": "slide"
    }
   },
   "source": [
    "## Standard Units Review"
   ]
  },
  {
   "cell_type": "markdown",
   "id": "539ed3d5-a590-4231-b485-e3f2afc1d798",
   "metadata": {
    "slideshow": {
     "slide_type": "-"
    }
   },
   "source": [
    "* How many SDs above average?\n",
    "* `z = (value - average)/SD`\n",
    "    * Negative z: value below average\n",
    "    * Positive z: value above average\n",
    "    * z = 0: value equal to average\n",
    "* When values are in standard units: average = 0, SD = 1\n",
    "* Gives us a way to compare/understand data no matter what the original units\n"
   ]
  },
  {
   "cell_type": "markdown",
   "id": "6ed1daa7-29c2-4ff7-9eb8-a42ada3d21e1",
   "metadata": {
    "slideshow": {
     "slide_type": "subslide"
    }
   },
   "source": [
    "### Demo: Standard Units"
   ]
  },
  {
   "cell_type": "markdown",
   "id": "e91c6c4f-b2a9-4ef7-8181-3fac9bcedc9f",
   "metadata": {},
   "source": [
    "Load UC Berkeley DATA 8 exam distribution data from Fall 2018."
   ]
  },
  {
   "cell_type": "code",
   "execution_count": null,
   "id": "444487ff-822f-4be2-9b81-b8070edb13d3",
   "metadata": {},
   "outputs": [],
   "source": [
    "exams = Table.read_table('./data/exams_fa18.csv')\n",
    "exams.show(5)"
   ]
  },
  {
   "cell_type": "markdown",
   "id": "28e72bee-895e-4bb9-b27b-30ee4c4aa2f4",
   "metadata": {},
   "source": [
    "Calculate the mean midterm and final exam scores."
   ]
  },
  {
   "cell_type": "code",
   "execution_count": null,
   "id": "e8a10fd1-a17b-4a77-a437-f4148cf5d64b",
   "metadata": {
    "slideshow": {
     "slide_type": "subslide"
    },
    "tags": []
   },
   "outputs": [],
   "source": [
    "np.mean(exams.column('Midterm')), np.mean(exams.column('Final'))"
   ]
  },
  {
   "cell_type": "markdown",
   "id": "4205189b-5434-42a9-b7c3-fd36e7e2d2bf",
   "metadata": {},
   "source": [
    "Visualize the distribution of scores."
   ]
  },
  {
   "cell_type": "code",
   "execution_count": null,
   "id": "a9381f8f-01bd-4eda-ab85-3e3fc55ab95d",
   "metadata": {
    "slideshow": {
     "slide_type": "subslide"
    }
   },
   "outputs": [],
   "source": [
    "exams.hist(overlay=False, bins=np.arange(0,101,5))"
   ]
  },
  {
   "cell_type": "markdown",
   "id": "b84a8b68-90af-48ec-bff5-f71aedcb8936",
   "metadata": {},
   "source": [
    "Create a function that calculates the standard units of the numerical values in an array."
   ]
  },
  {
   "cell_type": "code",
   "execution_count": null,
   "id": "73fb8a66-be3d-48e4-9f5a-200037f7d8f1",
   "metadata": {
    "slideshow": {
     "slide_type": "subslide"
    }
   },
   "outputs": [],
   "source": [
    "def standard_units(x):\n",
    "    \"\"\"Convert array x to standard units.\"\"\"\n",
    "    return ..."
   ]
  },
  {
   "cell_type": "markdown",
   "id": "11ae941a-c60c-4600-af45-29b6ca3889f4",
   "metadata": {},
   "source": [
    "Add the standardized midterm and final exam scores to the `exams` table."
   ]
  },
  {
   "cell_type": "code",
   "execution_count": null,
   "id": "557e8e82-9301-487c-ac58-8d313070684f",
   "metadata": {
    "slideshow": {
     "slide_type": "subslide"
    }
   },
   "outputs": [],
   "source": [
    "midterm_su = ...\n",
    "exams = exams.with_column('Midterm in Standard Units', midterm_su)\n",
    "\n",
    "final_su = ...\n",
    "exams = exams.with_column('Final in Standard Units', final_su)\n",
    "\n",
    "exams.show(10)"
   ]
  },
  {
   "cell_type": "markdown",
   "id": "c177f56e-2a31-4c95-8317-734732b38f78",
   "metadata": {},
   "source": [
    "Visualize the distribution of standardized scores to notice that the general shape of the distribution does not change."
   ]
  },
  {
   "cell_type": "code",
   "execution_count": null,
   "id": "869207ca-9cc4-4b8b-aba3-2edb8d4a0b68",
   "metadata": {
    "slideshow": {
     "slide_type": "subslide"
    }
   },
   "outputs": [],
   "source": [
    "exams.select(\n",
    "    'Midterm in Standard Units', 'Final in Standard Units'\n",
    ").hist(overlay=False, bins=np.arange(-4,2,0.1))"
   ]
  },
  {
   "cell_type": "markdown",
   "id": "f230704e-c793-4277-866a-249ebfe37c59",
   "metadata": {
    "slideshow": {
     "slide_type": "fragment"
    }
   },
   "source": [
    "---"
   ]
  },
  {
   "cell_type": "markdown",
   "id": "8909e746-b9f9-4f52-8745-a6715cf0a3b1",
   "metadata": {
    "slideshow": {
     "slide_type": "slide"
    }
   },
   "source": [
    "## Normal Distributions"
   ]
  },
  {
   "cell_type": "markdown",
   "id": "6b07d375-92b2-4e40-abf3-f1e9bd604d4a",
   "metadata": {
    "slideshow": {
     "slide_type": "subslide"
    }
   },
   "source": [
    "### Bell-Shaped Curves"
   ]
  },
  {
   "cell_type": "markdown",
   "id": "96e62640-200e-4e15-9bbd-154d4f12eaf5",
   "metadata": {},
   "source": [
    "<img src=\"img/hanging_bell.jpeg\" width=50%>"
   ]
  },
  {
   "cell_type": "markdown",
   "id": "95dbfa38-6795-4fa8-8996-ab12e6a21e30",
   "metadata": {
    "slideshow": {
     "slide_type": "subslide"
    }
   },
   "source": [
    "### There are many, many, many normal curves!"
   ]
  },
  {
   "cell_type": "markdown",
   "id": "cd4509a3-6833-40f7-9468-b34515bbbb50",
   "metadata": {
    "slideshow": {
     "slide_type": "-"
    }
   },
   "source": [
    "<img src=\"img/lec26_normal_curves.png\" width=50%>"
   ]
  },
  {
   "cell_type": "markdown",
   "id": "a461aecf-71e1-4b73-b759-6a94fb911d1d",
   "metadata": {
    "slideshow": {
     "slide_type": "subslide"
    }
   },
   "source": [
    "### Probability Density Curve"
   ]
  },
  {
   "cell_type": "markdown",
   "id": "e9b1de3d-2fa6-4500-b8ad-1809057f6e4a",
   "metadata": {
    "slideshow": {
     "slide_type": "-"
    }
   },
   "source": [
    "The height of the (probability density) curves are determined by the formula*\n",
    "\n",
    "$$f(x) = \\frac{1}{\\sigma\\sqrt{2\\pi}}e^{-\\frac{1}{2}\\left(\\frac{x - \\mu}{\\sigma}\\right)^2}$$\n",
    "\n",
    "and the shape is determined by the mean (`mu`, $\\mu$) and standard deviation (`sigma`, $\\sigma$) values.\n",
    "\n",
    "_Note: You will not be working with this formula directly._"
   ]
  },
  {
   "cell_type": "code",
   "execution_count": null,
   "id": "0f7e738b-a722-48ab-bc85-0e362c451827",
   "metadata": {
    "slideshow": {
     "slide_type": "subslide"
    }
   },
   "outputs": [],
   "source": [
    "def graph_norm(mu=0, sigma=1):\n",
    "    x=np.arange(-10, 10, 0.01)\n",
    "    display(px.line(x=x, \n",
    "                    y=scipy.stats.norm.pdf(x, loc=mu, scale=sigma), \n",
    "                    range_y=[0, 1]));"
   ]
  },
  {
   "cell_type": "markdown",
   "id": "54e8731f-6ec9-4bbe-a9ad-2a17d5ee8db4",
   "metadata": {},
   "source": [
    "Adjust the values of `mu` and `sigma` using the slider to see how the shape of the distribution changes."
   ]
  },
  {
   "cell_type": "code",
   "execution_count": null,
   "id": "9c136902-8c4f-4c06-947a-c06794e98852",
   "metadata": {},
   "outputs": [],
   "source": [
    "interact(graph_norm, mu=(-5, 5), sigma=(0.2**0.5, 5**0.5, 0.05));"
   ]
  },
  {
   "cell_type": "markdown",
   "id": "bc980b94-b935-40a3-8051-3b14dd358c11",
   "metadata": {
    "slideshow": {
     "slide_type": "fragment"
    }
   },
   "source": [
    "---"
   ]
  },
  {
   "cell_type": "markdown",
   "id": "714f49e8-499c-4f2d-9e10-7fa495cbadc9",
   "metadata": {
    "slideshow": {
     "slide_type": "slide"
    }
   },
   "source": [
    "## Normal Proportions"
   ]
  },
  {
   "cell_type": "markdown",
   "id": "f0315fd8-2f45-424e-926d-b120dcf501b2",
   "metadata": {
    "slideshow": {
     "slide_type": "subslide"
    }
   },
   "source": [
    "### How Big are Most of the Values?"
   ]
  },
  {
   "cell_type": "markdown",
   "id": "528397e2-196c-4a54-8cb1-260fe68c7929",
   "metadata": {
    "slideshow": {
     "slide_type": "-"
    }
   },
   "source": [
    "* No matter what the shape of the distribution, the bulk of the data are in the range \"average ± a few SDs\" (Chebyshev's Inequality)\n",
    "* **If a histogram is bell-shaped**, then almost all of the data are in the range \"average ± 3 SDs\"\n"
   ]
  },
  {
   "cell_type": "markdown",
   "id": "cbea566e-d31a-47d2-86ca-f6786726f782",
   "metadata": {
    "slideshow": {
     "slide_type": "subslide"
    }
   },
   "source": [
    "### Bounds and Normal Approximations"
   ]
  },
  {
   "cell_type": "markdown",
   "id": "f2212719-086e-4dbd-9eff-2486c5140be0",
   "metadata": {
    "slideshow": {
     "slide_type": "-"
    }
   },
   "source": [
    "<img src=\"img/lec26_normal_bounds.png\" width = 50%>"
   ]
  },
  {
   "cell_type": "markdown",
   "id": "22c07cb1-8764-416e-a617-2e679d03fa3f",
   "metadata": {
    "slideshow": {
     "slide_type": "subslide"
    }
   },
   "source": [
    "### A \"Central\" Area"
   ]
  },
  {
   "cell_type": "markdown",
   "id": "56d27f6c-0102-4fa9-8720-f3a852ed6434",
   "metadata": {
    "slideshow": {
     "slide_type": "-"
    }
   },
   "source": [
    "<img src=\"img/lec26_central_area.png\" width = 50%>"
   ]
  },
  {
   "cell_type": "markdown",
   "id": "a88e6477-73da-43a6-8732-e58f11ad65f6",
   "metadata": {
    "slideshow": {
     "slide_type": "fragment"
    }
   },
   "source": [
    "---"
   ]
  },
  {
   "cell_type": "markdown",
   "id": "bd157618-9e0d-4d06-be07-66be9cfd6498",
   "metadata": {
    "slideshow": {
     "slide_type": "notes"
    }
   },
   "source": [
    "<footer>\n",
    "    <p>Adopted from UC Berkeley DATA 8 course materials.</p>\n",
    "    <p>This content is offered under a <a href=\"https://creativecommons.org/licenses/by-nc-sa/4.0/\">CC Attribution Non-Commercial Share Alike</a> license.</p>\n",
    "</footer>"
   ]
  }
 ],
 "metadata": {
  "kernelspec": {
   "display_name": "Python 3 (ipykernel)",
   "language": "python",
   "name": "python3"
  },
  "language_info": {
   "codemirror_mode": {
    "name": "ipython",
    "version": 3
   },
   "file_extension": ".py",
   "mimetype": "text/x-python",
   "name": "python",
   "nbconvert_exporter": "python",
   "pygments_lexer": "ipython3",
   "version": "3.10.12"
  }
 },
 "nbformat": 4,
 "nbformat_minor": 5
}
