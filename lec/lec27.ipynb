{
 "cells": [
  {
   "cell_type": "markdown",
   "id": "5ce205d7-bab4-436a-8801-4472bb108b38",
   "metadata": {
    "editable": true,
    "slideshow": {
     "slide_type": ""
    },
    "tags": []
   },
   "source": [
    "<div style=\"width: 38.5%;\">\n",
    "    <p><strong>City College of San Francisco</strong><p>\n",
    "    <hr>\n",
    "    <p>MATH 108 - Foundations of Data Science</p>\n",
    "</div>"
   ]
  },
  {
   "cell_type": "markdown",
   "id": "4bba7134-f35a-41fc-bdd9-87940fb486d8",
   "metadata": {
    "slideshow": {
     "slide_type": "-"
    }
   },
   "source": [
    "# Lecture 27: Interpreting Confidence"
   ]
  },
  {
   "cell_type": "markdown",
   "id": "7f84904a-515d-426d-839d-0e04c663b250",
   "metadata": {
    "slideshow": {
     "slide_type": "-"
    }
   },
   "source": [
    "Associated Textbook Sections: [13.3, 13.4](https://inferentialthinking.com/chapters/13/3/Confidence_Intervals.html)"
   ]
  },
  {
   "cell_type": "markdown",
   "id": "e4ea9f27-13a8-4a46-9846-1395ed279026",
   "metadata": {
    "slideshow": {
     "slide_type": "slide"
    }
   },
   "source": [
    "## Outline"
   ]
  },
  {
   "cell_type": "markdown",
   "id": "18ec365b-0530-4d7d-83f9-9778f4ca9085",
   "metadata": {},
   "source": [
    "* [Visualizing Confidence](#Visualizing-Confidence)\n",
    "* [Use Methods Appropriately](#Use-Methods-Appropriately)\n",
    "* [Confidence Interval for Unknown Population Mean](#Confidence-Interval-for-Unknown-Population-Mean)\n",
    "* [Confidence Intervals For Testing](#Confidence-Intervals-For-Testing)"
   ]
  },
  {
   "cell_type": "markdown",
   "id": "5cbd9d78-2806-4dea-9638-07b106362e7c",
   "metadata": {
    "slideshow": {
     "slide_type": "slide"
    }
   },
   "source": [
    "## Set Up the Notebook"
   ]
  },
  {
   "cell_type": "code",
   "execution_count": null,
   "id": "81a39dac-09c7-484a-9f46-111c5c266b11",
   "metadata": {
    "slideshow": {
     "slide_type": "-"
    }
   },
   "outputs": [],
   "source": [
    "from datascience import *\n",
    "import numpy as np\n",
    "%matplotlib inline\n",
    "import matplotlib.pyplot as plt\n",
    "plt.style.use('fivethirtyeight')"
   ]
  },
  {
   "cell_type": "markdown",
   "id": "94b3e882-1813-4a32-ae3f-fe352b4c87c9",
   "metadata": {
    "slideshow": {
     "slide_type": "fragment"
    }
   },
   "source": [
    "---"
   ]
  },
  {
   "cell_type": "markdown",
   "id": "12ccb88f-5f78-4dd0-bed0-3fc03ffe6686",
   "metadata": {
    "slideshow": {
     "slide_type": "slide"
    }
   },
   "source": [
    "## Visualizing Confidence"
   ]
  },
  {
   "cell_type": "markdown",
   "id": "5dcd6205-54d4-4b71-86b4-dfa2ca00a365",
   "metadata": {
    "slideshow": {
     "slide_type": "-"
    }
   },
   "source": [
    "> The confidence is in the process that gives the interval: It generates a \"good\" interval about 95% of the time."
   ]
  },
  {
   "cell_type": "markdown",
   "id": "4656ec66-fce5-405a-9327-58eb0749ea15",
   "metadata": {
    "slideshow": {
     "slide_type": "subslide"
    }
   },
   "source": [
    "<img src=\"./img/visualizing_confidence.png\" width=30%>\n",
    "\n",
    "* Each yellow line in the visual represents a confidence interval from a fresh sample from the population.\n",
    "* The red line marks the parameter being estimated by the intervals.\n",
    "* Approximately 95% of the yellow lines intersect the red line."
   ]
  },
  {
   "cell_type": "markdown",
   "id": "02d0051f-7a01-438c-a744-9c2b13354076",
   "metadata": {
    "slideshow": {
     "slide_type": "notes"
    }
   },
   "source": [
    "A similar tool to help visualize the meaning of a confidence interval: [Interpreting Confidence Intervals](https://rpsychologist.com/d3/ci/)"
   ]
  },
  {
   "cell_type": "markdown",
   "id": "bdee7d72-95aa-41ac-af1a-c751214f64e8",
   "metadata": {
    "slideshow": {
     "slide_type": "slide"
    }
   },
   "source": [
    "## Use Methods Appropriately"
   ]
  },
  {
   "cell_type": "markdown",
   "id": "a2723b32-0dd5-49b6-82ab-468b983183e9",
   "metadata": {
    "slideshow": {
     "slide_type": "subslide"
    }
   },
   "source": [
    "### When **Not** to Use Our Bootstrap Method"
   ]
  },
  {
   "cell_type": "markdown",
   "id": "4f69fdaa-db6e-4565-9537-cb5c773850d3",
   "metadata": {},
   "source": [
    "* If you're trying to estimate any parameter that's greatly affected by rare elements of the population\n",
    "very high or very low percentiles, or min and max\n",
    "* If the probability distribution of your statistic is not roughly bell-shaped (the shape of the empirical distribution will be a clue)\n",
    "* If the original sample is very small"
   ]
  },
  {
   "cell_type": "markdown",
   "id": "6bd9fb61-d347-477f-8da4-0a8affc9c509",
   "metadata": {
    "slideshow": {
     "slide_type": "fragment"
    }
   },
   "source": [
    "---"
   ]
  },
  {
   "cell_type": "markdown",
   "id": "846ba1ed-118c-46bc-9480-0c2953ca4dba",
   "metadata": {
    "slideshow": {
     "slide_type": "slide"
    }
   },
   "source": [
    "## Confidence Interval for Unknown Population Mean"
   ]
  },
  {
   "cell_type": "markdown",
   "id": "c40ea4f8-feb8-4ef3-8731-e59888e594ef",
   "metadata": {
    "slideshow": {
     "slide_type": "notes"
    }
   },
   "source": [
    "Load the `baby.csv` data from the Kaiser supported study on the relationship between smoking during pregnancy and low weight births."
   ]
  },
  {
   "cell_type": "code",
   "execution_count": null,
   "id": "97b0b2b2-7e51-4fb6-9bd6-759cd72d1c91",
   "metadata": {
    "slideshow": {
     "slide_type": "-"
    }
   },
   "outputs": [],
   "source": [
    "births = Table.read_table('./data/baby.csv')\n",
    "births"
   ]
  },
  {
   "cell_type": "markdown",
   "id": "5cc1f2ca-2911-41e1-8910-8baa055f58c9",
   "metadata": {
    "slideshow": {
     "slide_type": "notes"
    }
   },
   "source": [
    "Visualize the distribution of maternal ages."
   ]
  },
  {
   "cell_type": "code",
   "execution_count": null,
   "id": "bd2584db-5771-49e7-a4d3-00a38314262c",
   "metadata": {
    "slideshow": {
     "slide_type": "subslide"
    }
   },
   "outputs": [],
   "source": [
    "births.hist('Maternal Age')"
   ]
  },
  {
   "cell_type": "markdown",
   "id": "88762e69-a4de-4437-ab06-af8048227def",
   "metadata": {
    "slideshow": {
     "slide_type": "notes"
    }
   },
   "source": [
    "Compute the mean age of mothers in the sample."
   ]
  },
  {
   "cell_type": "code",
   "execution_count": null,
   "id": "d3f3afc9-97f2-444f-95d7-d69ec672718b",
   "metadata": {
    "slideshow": {
     "slide_type": "fragment"
    }
   },
   "outputs": [],
   "source": [
    "np.mean(births.column('Maternal Age'))"
   ]
  },
  {
   "cell_type": "markdown",
   "id": "bb1c3345-9d1e-442c-bfd4-1f18ae245041",
   "metadata": {
    "slideshow": {
     "slide_type": "subslide"
    }
   },
   "source": [
    "**Question**: What is the mean age of the mothers in the population?"
   ]
  },
  {
   "cell_type": "markdown",
   "id": "c6e35cf5-21e6-45c1-a2b9-be88dfd35f17",
   "metadata": {
    "slideshow": {
     "slide_type": "notes"
    },
    "tags": []
   },
   "source": [
    "Define a function to create one bootstrap resample and calculate the mean age for that resample."
   ]
  },
  {
   "cell_type": "code",
   "execution_count": null,
   "id": "e775b36a-1456-4eaf-9523-ba11ce170a73",
   "metadata": {
    "slideshow": {
     "slide_type": "subslide"
    }
   },
   "outputs": [],
   "source": [
    "def one_bootstrap_mean():\n",
    "    ...\n",
    "    return ..."
   ]
  },
  {
   "cell_type": "markdown",
   "id": "605dd674-cffc-413d-bcf1-3091feaeb0bb",
   "metadata": {
    "slideshow": {
     "slide_type": "notes"
    }
   },
   "source": [
    "Generate means from 3000 bootstrap samples"
   ]
  },
  {
   "cell_type": "code",
   "execution_count": null,
   "id": "6fb9510f-a2d1-481d-9d8e-df2d995faaf4",
   "metadata": {
    "slideshow": {
     "slide_type": "fragment"
    }
   },
   "outputs": [],
   "source": [
    "..."
   ]
  },
  {
   "cell_type": "markdown",
   "id": "35d57792-8e68-4df3-963e-a8cc870c19c4",
   "metadata": {
    "slideshow": {
     "slide_type": "notes"
    }
   },
   "source": [
    "Get the endpoints of the 95% confidence interval"
   ]
  },
  {
   "cell_type": "code",
   "execution_count": null,
   "id": "46a53c1c-f205-437f-9fa1-58e9e60294ee",
   "metadata": {
    "slideshow": {
     "slide_type": "fragment"
    }
   },
   "outputs": [],
   "source": [
    "left = ...\n",
    "right = ...\n",
    "\n",
    "make_array(left, right)"
   ]
  },
  {
   "cell_type": "markdown",
   "id": "a8d5f61a-db66-4d6f-88d5-3d4f34781545",
   "metadata": {
    "slideshow": {
     "slide_type": "notes"
    }
   },
   "source": [
    "Visualize the distribution of the bootstrap sample means."
   ]
  },
  {
   "cell_type": "code",
   "execution_count": null,
   "id": "7967e13b-0ab6-4bdb-abe9-d0dbf3a40af8",
   "metadata": {
    "slideshow": {
     "slide_type": "subslide"
    }
   },
   "outputs": [],
   "source": [
    "resampled_means = Table().with_columns(\n",
    "    'Bootstrap Sample Mean', ...\n",
    ")\n",
    "resampled_means.hist(bins=15)\n",
    "plt.plot([left, right], [0, 0], color='yellow', lw=8);\n",
    "print(f\"We are 95% confident that the mean age of the mothers in the population is between {left} and {right} years old.\")"
   ]
  },
  {
   "cell_type": "markdown",
   "id": "3e757fa5-32fd-4972-b457-985da46c403e",
   "metadata": {
    "slideshow": {
     "slide_type": "subslide"
    },
    "tags": []
   },
   "source": [
    "### Can You Use a CI Like This?"
   ]
  },
  {
   "cell_type": "markdown",
   "id": "3fc87523-c2da-48c6-a3c4-11184cee32f0",
   "metadata": {},
   "source": [
    "By our calculation, an approximate 95% confidence interval for the average age of the mothers in the population is (26.9, 27.6) years.\n",
    "\n",
    "True or False:\n",
    "About 95% of the mothers in the population were between 26.9 years and 27.6 years old."
   ]
  },
  {
   "cell_type": "markdown",
   "id": "afc705de-7d11-4df7-bf6f-6f7ebf7865be",
   "metadata": {
    "slideshow": {
     "slide_type": "fragment"
    }
   },
   "source": [
    "Answer: _False. We're estimating that their average age is in this interval._"
   ]
  },
  {
   "cell_type": "code",
   "execution_count": null,
   "id": "9eb54509-11f3-426d-b2db-64e78a7c2901",
   "metadata": {
    "slideshow": {
     "slide_type": "subslide"
    },
    "tags": []
   },
   "outputs": [],
   "source": [
    "births.hist('Maternal Age')\n",
    "plt.plot([left, right], [0, 0], color='yellow', lw=8);"
   ]
  },
  {
   "cell_type": "markdown",
   "id": "924cd36f-0ee3-4976-bcce-de11f8776a58",
   "metadata": {
    "slideshow": {
     "slide_type": "subslide"
    },
    "tags": []
   },
   "source": [
    "### Is This What a CI Means?"
   ]
  },
  {
   "cell_type": "markdown",
   "id": "b859a30b-e870-45ad-8ff2-d3105bfffbe3",
   "metadata": {},
   "source": [
    "An approximate 95% confidence interval for the average age of the mothers in the population is (26.9, 27.6) years.\n",
    "\n",
    "True or False:\n",
    "There is a 0.95 probability that the average age of mothers in the population is in the range 26.9 to 27.6 years."
   ]
  },
  {
   "cell_type": "markdown",
   "id": "3f596896-9b0d-45bf-9d0e-1786d0bf7237",
   "metadata": {
    "slideshow": {
     "slide_type": "fragment"
    }
   },
   "source": [
    "Answer: _False. The parameter is fixed, and the interval (26.9, 27.2) is fixed. The parameter is either in that interval, or not. Once you've picked an interval, there's no probability involved._"
   ]
  },
  {
   "cell_type": "markdown",
   "id": "c03ff69c-2a7a-46c0-a841-091377322dbe",
   "metadata": {
    "slideshow": {
     "slide_type": "subslide"
    },
    "tags": []
   },
   "source": [
    "### 95% Confidence"
   ]
  },
  {
   "cell_type": "markdown",
   "id": "2e510edb-e3ef-48f7-a95f-cdd45be90ff1",
   "metadata": {},
   "source": [
    "* Interval of estimates of a parameter\n",
    "* Based on random sampling\n",
    "* The process results in a random interval\n",
    "* A \"good\" interval is one that contains the parameter\n",
    "* The confidence is in the process that creates the interval: It generates a \"good\" interval (approximately) 95% of the time.\n"
   ]
  },
  {
   "cell_type": "markdown",
   "id": "4796f0de-beca-4009-ab49-5353b79326b0",
   "metadata": {
    "slideshow": {
     "slide_type": "fragment"
    }
   },
   "source": [
    "---"
   ]
  },
  {
   "cell_type": "markdown",
   "id": "8d0d1d0b-e1bf-4353-b268-06089bab2373",
   "metadata": {
    "slideshow": {
     "slide_type": "slide"
    }
   },
   "source": [
    "## Confidence Intervals For Testing"
   ]
  },
  {
   "cell_type": "markdown",
   "id": "92ccd4a9-33f0-4b4b-ac7c-25eb696ef25c",
   "metadata": {
    "slideshow": {
     "slide_type": "subslide"
    }
   },
   "source": [
    "### Using a CI for Testing"
   ]
  },
  {
   "cell_type": "markdown",
   "id": "7e44a74c-450f-4eb6-b974-dc80fd816865",
   "metadata": {},
   "source": [
    "* Null hypothesis: $\\text{Population mean} = x$\n",
    "* Alternative hypothesis: $\\text{Population mean} \\neq x$\n",
    "* Cutoff for p-value: p%\n",
    "* Method:\n",
    "    * Construct a (100-p)% confidence interval for the population mean\n",
    "    * Make a decision:\n",
    "        * If x is not in the interval, reject the null\n",
    "        * If x is in the interval, can't reject the null\n"
   ]
  },
  {
   "cell_type": "markdown",
   "id": "352532b1-fee7-46fc-af0b-601d7bd592a6",
   "metadata": {
    "slideshow": {
     "slide_type": "subslide"
    }
   },
   "source": [
    "### Using the Confidence Interval for Testing Hypotheses"
   ]
  },
  {
   "cell_type": "markdown",
   "id": "510ec475-4165-49f1-b2f5-ed0acc05ed40",
   "metadata": {},
   "source": [
    "**Null:** The mean age of mothers in the population is 25 years; the random sample average is different due to chance.\n",
    "\n",
    "**Alternative:** The mean age of the mothers in the population is not 25 years.\n",
    "\n",
    "Suppose you use the 5% cutoff for the p-value.\n",
    "\n",
    "Based on the confidence interval, which hypothesis would you pick?"
   ]
  },
  {
   "cell_type": "markdown",
   "id": "fc1fa4ab-84d2-4dd7-a4da-7fb34ad83074",
   "metadata": {
    "slideshow": {
     "slide_type": "fragment"
    }
   },
   "source": [
    "Answer: _Since 25 is not in our constructed 95% confidence interval estimate for the mean age, then we reject the null hypothesis._"
   ]
  },
  {
   "cell_type": "markdown",
   "id": "1961bb3d-f3cb-42ec-9504-63ca9d0e1e7b",
   "metadata": {
    "slideshow": {
     "slide_type": "fragment"
    }
   },
   "source": [
    "---"
   ]
  },
  {
   "cell_type": "markdown",
   "id": "ce393fd4-ba1e-46fd-aae1-fb46f471df58",
   "metadata": {
    "slideshow": {
     "slide_type": "notes"
    }
   },
   "source": [
    "<footer>\n",
    "    <p>Adopted from UC Berkeley DATA 8 course materials.</p>\n",
    "    <p>This content is offered under a <a href=\"https://creativecommons.org/licenses/by-nc-sa/4.0/\">CC Attribution Non-Commercial Share Alike</a> license.</p>\n",
    "</footer>"
   ]
  }
 ],
 "metadata": {
  "kernelspec": {
   "display_name": "Python 3 (ipykernel)",
   "language": "python",
   "name": "python3"
  },
  "language_info": {
   "codemirror_mode": {
    "name": "ipython",
    "version": 3
   },
   "file_extension": ".py",
   "mimetype": "text/x-python",
   "name": "python",
   "nbconvert_exporter": "python",
   "pygments_lexer": "ipython3",
   "version": "3.10.12"
  }
 },
 "nbformat": 4,
 "nbformat_minor": 5
}
