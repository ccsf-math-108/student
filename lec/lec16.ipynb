{
 "cells": [
  {
   "cell_type": "markdown",
   "id": "4f89fe72-9d84-4295-9938-b071577d4b54",
   "metadata": {
    "slideshow": {
     "slide_type": "slide"
    }
   },
   "source": [
    "<div style=\"width: 38.5%;\">\n",
    "    <p><strong>City College of San Francisco</strong><p>\n",
    "    <hr>\n",
    "    <p>MATH 108 - Foundations of Data Science</p>\n",
    "</div>"
   ]
  },
  {
   "cell_type": "markdown",
   "id": "44d85675-5647-4c2f-847e-edba36729418",
   "metadata": {
    "slideshow": {
     "slide_type": "-"
    }
   },
   "source": [
    "# Lecture 16: Sampling"
   ]
  },
  {
   "cell_type": "markdown",
   "id": "2396b4c9-234b-4f2e-bed1-29087737f9e8",
   "metadata": {
    "slideshow": {
     "slide_type": "-"
    }
   },
   "source": [
    "Associated Textbook Sections: [10.0-10.1](https://inferentialthinking.com/chapters/10/Sampling_and_Empirical_Distributions.html)"
   ]
  },
  {
   "cell_type": "markdown",
   "id": "4419471b-dc2b-4cdf-832c-7bf29bf0b76c",
   "metadata": {
    "slideshow": {
     "slide_type": "slide"
    }
   },
   "source": [
    "<div style=\"width: 38.5%;\">\n",
    "    <p><strong>City College of San Francisco</strong><p>\n",
    "    <hr>\n",
    "    <p>MATH 108 - Foundations of Data Science</p>\n",
    "</div>"
   ]
  },
  {
   "cell_type": "markdown",
   "id": "21493b9a-f2ca-4479-87cb-273055296398",
   "metadata": {
    "slideshow": {
     "slide_type": "slide"
    }
   },
   "source": [
    "## Outline"
   ]
  },
  {
   "cell_type": "markdown",
   "id": "4870606d-5904-48ce-8919-28739b6b0c85",
   "metadata": {
    "slideshow": {
     "slide_type": "-"
    }
   },
   "source": [
    "* [Sampling](#Sampling)"
   ]
  },
  {
   "cell_type": "markdown",
   "id": "46af971d-06fb-4df6-8f4b-657ac05a028d",
   "metadata": {
    "slideshow": {
     "slide_type": "slide"
    }
   },
   "source": [
    "## Set Up the Notebook"
   ]
  },
  {
   "cell_type": "code",
   "execution_count": null,
   "id": "f15b8d41-3a91-4933-ba0b-2a81d8119e09",
   "metadata": {
    "slideshow": {
     "slide_type": "-"
    }
   },
   "outputs": [],
   "source": [
    "from datascience import *\n",
    "import numpy as np\n",
    "%matplotlib inline\n",
    "import matplotlib.pyplot as plt\n",
    "plt.style.use('fivethirtyeight')"
   ]
  },
  {
   "cell_type": "markdown",
   "id": "8e27a379-b958-432c-b428-5cf7de48d279",
   "metadata": {
    "slideshow": {
     "slide_type": "fragment"
    }
   },
   "source": [
    "---"
   ]
  },
  {
   "cell_type": "markdown",
   "id": "3ea3d708-bd20-41b7-850e-7540a2ccdb77",
   "metadata": {
    "slideshow": {
     "slide_type": "slide"
    }
   },
   "source": [
    "## Sampling"
   ]
  },
  {
   "cell_type": "markdown",
   "id": "2d0c428f-b53b-4f15-a29f-0a444c6b77d2",
   "metadata": {
    "slideshow": {
     "slide_type": "subslide"
    }
   },
   "source": [
    "### Random Samples"
   ]
  },
  {
   "cell_type": "markdown",
   "id": "0f742fd0-8489-4cc2-b120-362d7b0db587",
   "metadata": {
    "slideshow": {
     "slide_type": "-"
    }
   },
   "source": [
    "* Deterministic sample: Sampling scheme doesn't involve chance\n",
    "* Random sample: \n",
    "    * Before the sample is drawn, you have to know the selection probability of every group of people in the population\n",
    "    * Not all individuals / groups have to have equal chance of being selected\n"
   ]
  },
  {
   "cell_type": "markdown",
   "id": "53357801-d247-4953-b76e-e0a1fcce6ec3",
   "metadata": {
    "slideshow": {
     "slide_type": "subslide"
    }
   },
   "source": [
    "### Sampling from Arrays and Tables"
   ]
  },
  {
   "cell_type": "markdown",
   "id": "84297c57-60b1-40cf-aae8-27b8fad2dd57",
   "metadata": {
    "slideshow": {
     "slide_type": "-"
    }
   },
   "source": [
    "* Sampling with Replacement:\n",
    "    * One event happening does not impact the chance of another event happening\n",
    "    * `np.random.choice(a=an_array, size=n, replace=True)`:\n",
    "        * Randomly samples with replacement `n` elements from the elements in `an_array`.\n",
    "        * `size` is 1 by default\n",
    "        * `replace` is `True` by default\n",
    "    * `tbl.sample(k=n, with_replacement=True)`:\n",
    "        * Randomly samples with replacement `n` rows from `tbl` and creates a new table.\n",
    "        * `k` is `tbl.num_rows` by default\n",
    "        * `with_replacement` is `True` by default\n",
    "* Sampling without Replacement:\n",
    "    * One event happening may impact the chance of another event happening.\n",
    "    * With `np.random.choice`, set `replace=False`\n",
    "    * With `tbl.sample`, set `with_replacement=False`"
   ]
  },
  {
   "cell_type": "markdown",
   "id": "28a2fbb8-3e9e-4bb5-9794-7b4c277ec63c",
   "metadata": {
    "slideshow": {
     "slide_type": "subslide"
    }
   },
   "source": [
    "### Demo: Random Sampling"
   ]
  },
  {
   "cell_type": "markdown",
   "id": "503d5d83-a0ee-4e53-a9cd-92119626044b",
   "metadata": {
    "slideshow": {
     "slide_type": "notes"
    }
   },
   "source": [
    "Load the flight delay data in `delay_july_2022.csv` sourced from the [Bureau of Transportation Statistics's Airline On-Time Performance Data](https://www.transtats.bts.gov/Tables.asp?QO_VQ=EFD&QO_anzr=Nv4yv0r%FDb0-gvzr%FDcr4s14zn0pr%FDQn6n&QO_fu146_anzr=b0-gvzr)"
   ]
  },
  {
   "cell_type": "code",
   "execution_count": null,
   "id": "fd80efdc-276f-418e-b1ec-f3444c0affb0",
   "metadata": {
    "slideshow": {
     "slide_type": "-"
    }
   },
   "outputs": [],
   "source": [
    "delays = Table.read_table('./data/delays_july_2022.csv')\n",
    "delays"
   ]
  },
  {
   "cell_type": "markdown",
   "id": "585fc613-beb2-4789-92b6-7d0caeb8da0e",
   "metadata": {
    "slideshow": {
     "slide_type": "notes"
    }
   },
   "source": [
    "Narrow the data to flights that have left from SFO."
   ]
  },
  {
   "cell_type": "code",
   "execution_count": null,
   "id": "4ef055aa-c286-4d55-8bbb-5a9c49b5e11b",
   "metadata": {
    "slideshow": {
     "slide_type": "subslide"
    }
   },
   "outputs": [],
   "source": [
    "sfo_delays = delays.where('ORIGIN', 'SFO').drop(0, 1, 3).relabeled('ARR_DELAY', 'DELAY')\n",
    "sfo_delays"
   ]
  },
  {
   "cell_type": "markdown",
   "id": "05da25ed-d4c9-45f7-a292-309169bb2596",
   "metadata": {
    "slideshow": {
     "slide_type": "notes"
    }
   },
   "source": [
    "Demonstrate how to use the `take` method to systematically sample the data."
   ]
  },
  {
   "cell_type": "code",
   "execution_count": null,
   "id": "4d6cdaad-a99c-4263-af3f-ee9619eced01",
   "metadata": {
    "slideshow": {
     "slide_type": "subslide"
    }
   },
   "outputs": [],
   "source": [
    "..."
   ]
  },
  {
   "cell_type": "code",
   "execution_count": null,
   "id": "49c1c9a1-0945-4b56-9593-04eafbc4cafd",
   "metadata": {
    "slideshow": {
     "slide_type": "fragment"
    }
   },
   "outputs": [],
   "source": [
    "..."
   ]
  },
  {
   "cell_type": "markdown",
   "id": "66c30f27-aa58-42a4-a033-bd2143650a0c",
   "metadata": {
    "slideshow": {
     "slide_type": "notes"
    }
   },
   "source": [
    "Use `np.random.choice` introduce an element of chance into the sampling process."
   ]
  },
  {
   "cell_type": "code",
   "execution_count": null,
   "id": "adb13b3f-93ff-40ff-bf8e-15ff10df8ede",
   "metadata": {
    "slideshow": {
     "slide_type": "subslide"
    }
   },
   "outputs": [],
   "source": [
    "start = ...\n",
    "systematic_sample = ...\n",
    "systematic_sample.show()"
   ]
  },
  {
   "cell_type": "markdown",
   "id": "563d7e44-9d0a-4a00-a655-9636e67191df",
   "metadata": {},
   "source": [
    "Demonstrate how to get a random sample of 12 flight delays using `np.random.choice` and `sample`."
   ]
  },
  {
   "cell_type": "code",
   "execution_count": null,
   "id": "451edf49-f02d-4048-83f9-ccbfe795ae32",
   "metadata": {},
   "outputs": [],
   "source": [
    "delays = ...\n",
    "..."
   ]
  },
  {
   "cell_type": "code",
   "execution_count": null,
   "id": "eb333db0-81ae-4efa-af1f-b6193ada159b",
   "metadata": {
    "scrolled": true
   },
   "outputs": [],
   "source": [
    "random_sample = ...\n",
    "random_sample.show()"
   ]
  },
  {
   "cell_type": "markdown",
   "id": "d87311fc-3a75-4fff-a667-61c41b79b2c9",
   "metadata": {
    "slideshow": {
     "slide_type": "subslide"
    }
   },
   "source": [
    "### Sample of Convenience"
   ]
  },
  {
   "cell_type": "markdown",
   "id": "5daa3d02-d6d7-440e-bd54-96df217b2683",
   "metadata": {
    "slideshow": {
     "slide_type": "-"
    }
   },
   "source": [
    "* Example: sample consists of whoever walks by\n",
    "* Just because you think you're sampling \"randomly\", doesn't mean you have a random sample.\n",
    "* If you can't figure out the following ahead of time, then you don't have a random sample\n",
    "    * what's the population\n",
    "    * what's the chance of selection, for each group in the population"
   ]
  },
  {
   "cell_type": "markdown",
   "id": "5d9b3285-99d3-43e9-b362-25ece80b9d74",
   "metadata": {
    "slideshow": {
     "slide_type": "fragment"
    }
   },
   "source": [
    "---"
   ]
  },
  {
   "cell_type": "markdown",
   "id": "7b7ddb35-0397-4a46-b3e5-55d9477a210f",
   "metadata": {
    "slideshow": {
     "slide_type": "notes"
    }
   },
   "source": [
    "<footer>\n",
    "    <p>Adopted from UC Berkeley DATA 8 course materials.</p>\n",
    "    <p>This content is offered under a <a href=\"https://creativecommons.org/licenses/by-nc-sa/4.0/\">CC Attribution Non-Commercial Share Alike</a> license.</p>\n",
    "</footer>"
   ]
  }
 ],
 "metadata": {
  "kernelspec": {
   "display_name": "Python 3 (ipykernel)",
   "language": "python",
   "name": "python3"
  },
  "language_info": {
   "codemirror_mode": {
    "name": "ipython",
    "version": 3
   },
   "file_extension": ".py",
   "mimetype": "text/x-python",
   "name": "python",
   "nbconvert_exporter": "python",
   "pygments_lexer": "ipython3",
   "version": "3.10.12"
  }
 },
 "nbformat": 4,
 "nbformat_minor": 5
}
