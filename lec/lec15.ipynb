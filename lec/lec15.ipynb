{
 "cells": [
  {
   "cell_type": "markdown",
   "id": "d0970252-18d1-487a-b9c6-3855abb59861",
   "metadata": {
    "slideshow": {
     "slide_type": "slide"
    }
   },
   "source": [
    "<div style=\"width: 38.5%;\">\n",
    "    <p><strong>City College of San Francisco</strong><p>\n",
    "    <hr>\n",
    "    <p>MATH 108 - Foundations of Data Science</p>\n",
    "</div>"
   ]
  },
  {
   "cell_type": "markdown",
   "id": "a69cc45b-9846-4099-bdee-769e45a21eaf",
   "metadata": {
    "slideshow": {
     "slide_type": "-"
    }
   },
   "source": [
    "# Lecture 15: Chance and Probability"
   ]
  },
  {
   "cell_type": "markdown",
   "id": "6daedf83-b915-4ca4-b99b-cf4846db6cc5",
   "metadata": {
    "slideshow": {
     "slide_type": "-"
    }
   },
   "source": [
    "Associated Textbook Sections: [9.4, 9.5](https://inferentialthinking.com/chapters/09/4/Monty_Hall_Problem.html)"
   ]
  },
  {
   "cell_type": "markdown",
   "id": "45900ad6-0c9d-4c20-963a-09a97240279a",
   "metadata": {
    "slideshow": {
     "slide_type": "slide"
    }
   },
   "source": [
    "## Overview"
   ]
  },
  {
   "cell_type": "markdown",
   "id": "1f6c617a-ebbc-4ca1-aecf-8eca54e01c64",
   "metadata": {
    "slideshow": {
     "slide_type": "-"
    }
   },
   "source": [
    "* [The Monty Hall Problem](#The-Monty-Hall-Problem)\n",
    "* [Probability](#Probability)"
   ]
  },
  {
   "cell_type": "markdown",
   "id": "621d4d61-43c1-4c1d-b8fa-399af529fe71",
   "metadata": {
    "slideshow": {
     "slide_type": "slide"
    }
   },
   "source": [
    "## Set Up the Notebook"
   ]
  },
  {
   "cell_type": "code",
   "execution_count": null,
   "id": "aa6a39a6-c021-406c-9387-be25b3ffe802",
   "metadata": {
    "slideshow": {
     "slide_type": "-"
    }
   },
   "outputs": [],
   "source": [
    "from datascience import *\n",
    "import numpy as np\n",
    "%matplotlib inline\n",
    "import matplotlib.pyplot as plt\n",
    "plt.style.use('fivethirtyeight')"
   ]
  },
  {
   "cell_type": "markdown",
   "id": "b4d001e9-14c1-44e5-aca2-db206afde833",
   "metadata": {},
   "source": [
    "---"
   ]
  },
  {
   "cell_type": "markdown",
   "id": "d161a60c-6df9-4d69-8856-83710580b261",
   "metadata": {
    "slideshow": {
     "slide_type": "slide"
    }
   },
   "source": [
    "## The Monty Hall Problem"
   ]
  },
  {
   "cell_type": "markdown",
   "id": "697cc22c-5eee-427a-8396-4f60a4d52a35",
   "metadata": {
    "slideshow": {
     "slide_type": "slide"
    }
   },
   "source": [
    "### Monty Hall Problem"
   ]
  },
  {
   "cell_type": "markdown",
   "id": "8ad323bc-8f03-4726-a4a2-32e4e5eb627d",
   "metadata": {
    "slideshow": {
     "slide_type": "-"
    }
   },
   "source": [
    "* There are 3 closed doors.\n",
    "* One door has a prize and two doors have what is consider not to be a prize.\n",
    "* The contestant selects a door.\n",
    "* The host reveals what is behind the remaining door that has not be selected without the prize.\n",
    "* The contestant has the chance to change doors.\n",
    "* Are the contestant's chance of winning improved by switching doors?\n",
    "<img src=\"./img/Monty_open_door.png\" width = 40%>"
   ]
  },
  {
   "cell_type": "markdown",
   "id": "5144802f-e20a-4808-a290-e69c6313b31f",
   "metadata": {
    "slideshow": {
     "slide_type": "notes"
    }
   },
   "source": [
    "Image Source: [Wikipedia - Monty Hall Problem](https://en.wikipedia.org/wiki/Monty_Hall_problem)"
   ]
  },
  {
   "cell_type": "markdown",
   "id": "a4860d27-2729-4cf0-b9c8-9dc2098ca2bc",
   "metadata": {
    "slideshow": {
     "slide_type": "slide"
    }
   },
   "source": [
    "### Demo: Monty Hall"
   ]
  },
  {
   "cell_type": "markdown",
   "id": "cbe97702-2853-4e92-a6c5-e8ff68150da9",
   "metadata": {
    "slideshow": {
     "slide_type": "slide"
    }
   },
   "source": [
    "Create a simulation of the Monty Hall game."
   ]
  },
  {
   "cell_type": "code",
   "execution_count": null,
   "id": "6426ec7d-4fde-41a0-8ee6-a024a783b3a0",
   "metadata": {
    "slideshow": {
     "slide_type": "fragment"
    }
   },
   "outputs": [],
   "source": [
    "def other_goat(a_goat):\n",
    "    '''other_goat accepts either the string 'first goat' or the string 'second goat' and returns the other goat as a string.'''\n",
    "    if a_goat == 'first goat':\n",
    "        return 'second goat'\n",
    "    elif a_goat == 'second goat':\n",
    "        return 'first goat'\n",
    "    else:\n",
    "        print(\"a_goat should name 'first goat' or 'second goat'.\")"
   ]
  },
  {
   "cell_type": "code",
   "execution_count": null,
   "id": "c8e9e5d4-b775-490c-8d84-22ed5ade0d1d",
   "metadata": {
    "slideshow": {
     "slide_type": "fragment"
    }
   },
   "outputs": [],
   "source": [
    "other_goat('first goat')"
   ]
  },
  {
   "cell_type": "code",
   "execution_count": null,
   "id": "e7544767-c6d4-44d8-883f-7458f42d001f",
   "metadata": {
    "slideshow": {
     "slide_type": "subslide"
    }
   },
   "outputs": [],
   "source": [
    "def monty_hall():\n",
    "    '''\n",
    "    monty_hall runs a simulation of the monty hall problem \n",
    "    where the three doors are represented as the strings 'first goat',\n",
    "    'second goat', and 'car'. This function returns a list with random \n",
    "    choice from the contestant, the goat revealed by the host, and the remaining car/goat.\n",
    "    '''\n",
    "    doors = make_array('car', 'first goat', 'second goat')\n",
    "    goats = make_array('first goat', 'second goat')\n",
    "    contestant_choice = np.random.choice(doors)\n",
    "    \n",
    "    if contestant_choice == 'first goat':\n",
    "        monty_choice = 'second goat'\n",
    "        remaining_door = 'car'\n",
    "        \n",
    "    elif contestant_choice == 'second goat':\n",
    "        monty_choice = 'first goat'\n",
    "        remaining_door = 'car'\n",
    "        \n",
    "    elif contestant_choice == 'car':\n",
    "        monty_choice = np.random.choice(goats)\n",
    "        remaining_door = other_goat(monty_choice)\n",
    "        \n",
    "    return [contestant_choice, monty_choice, remaining_door]"
   ]
  },
  {
   "cell_type": "code",
   "execution_count": null,
   "id": "975b9978-2a71-4221-bd6d-c9b56a1ab484",
   "metadata": {
    "slideshow": {
     "slide_type": "fragment"
    }
   },
   "outputs": [],
   "source": [
    "monty_hall()"
   ]
  },
  {
   "cell_type": "markdown",
   "id": "2e0497d1-36c4-4ea9-a996-9eb3e17fdbe1",
   "metadata": {
    "slideshow": {
     "slide_type": "notes"
    }
   },
   "source": [
    "Store the results of several random simulations of the Monty Hall game in a Table."
   ]
  },
  {
   "cell_type": "code",
   "execution_count": null,
   "id": "f6eae84d-d182-42fa-814e-01c8f0efaa80",
   "metadata": {
    "slideshow": {
     "slide_type": "subslide"
    }
   },
   "outputs": [],
   "source": [
    "games = Table(['Guess', 'Revealed', 'Remaining'])"
   ]
  },
  {
   "cell_type": "code",
   "execution_count": null,
   "id": "e8eab125-2d0d-442c-8e50-26a14d860ab0",
   "metadata": {
    "slideshow": {
     "slide_type": "fragment"
    }
   },
   "outputs": [],
   "source": [
    "games.with_row(monty_hall())"
   ]
  },
  {
   "cell_type": "code",
   "execution_count": null,
   "id": "c966526d-4362-45f1-9814-b36afece381b",
   "metadata": {
    "slideshow": {
     "slide_type": "fragment"
    }
   },
   "outputs": [],
   "source": [
    "games = ...\n",
    "\n",
    "...\n",
    "    \n",
    "games"
   ]
  },
  {
   "cell_type": "markdown",
   "id": "0c253bb6-10c2-44db-bf47-936a719e7441",
   "metadata": {
    "slideshow": {
     "slide_type": "notes"
    }
   },
   "source": [
    "Determine the proportion of times that the player would have won if they switched doors."
   ]
  },
  {
   "cell_type": "code",
   "execution_count": null,
   "id": "fb62fb9f-66ba-4cdf-a2b5-5e74b9a8680c",
   "metadata": {
    "slideshow": {
     "slide_type": "subslide"
    }
   },
   "outputs": [],
   "source": [
    "..."
   ]
  },
  {
   "cell_type": "code",
   "execution_count": null,
   "id": "0c466124-a227-4eda-a772-31b485707ded",
   "metadata": {
    "slideshow": {
     "slide_type": "fragment"
    },
    "tags": []
   },
   "outputs": [],
   "source": [
    "..."
   ]
  },
  {
   "cell_type": "code",
   "execution_count": null,
   "id": "73e2f7d4-8851-4068-9010-39ca38c84b2d",
   "metadata": {
    "slideshow": {
     "slide_type": "subslide"
    }
   },
   "outputs": [],
   "source": [
    "switch_to_win_prob = ...\n",
    "switch_to_win_prob"
   ]
  },
  {
   "cell_type": "markdown",
   "id": "e78e10da-48ca-4481-a656-c32098680acb",
   "metadata": {
    "slideshow": {
     "slide_type": "slide"
    }
   },
   "source": [
    "## Probability"
   ]
  },
  {
   "cell_type": "markdown",
   "id": "6dedf43d-f502-46d2-9fe5-291834fa1151",
   "metadata": {
    "slideshow": {
     "slide_type": "subslide"
    }
   },
   "source": [
    "### Basics"
   ]
  },
  {
   "cell_type": "markdown",
   "id": "9bc595af-3a9c-4bc5-aa04-e49887c1b696",
   "metadata": {
    "slideshow": {
     "slide_type": "-"
    }
   },
   "source": [
    "* Lowest value: 0 (or 0%) --- Chance of event that is impossible.\n",
    "* Highest value: 1 (or 100%) --- Chance of event that is certain.\n",
    "* Complement: If an event has chance 70%, then the chance that it doesn’t happen is:\n",
    "    * 100% - 70% = 30%\n",
    "    * 1 - 0.7 = 0.3\n"
   ]
  },
  {
   "cell_type": "markdown",
   "id": "dc38afe4-8712-4dab-a872-7144cfb16df9",
   "metadata": {
    "slideshow": {
     "slide_type": "subslide"
    }
   },
   "source": [
    "### Equally Likely Outcomes"
   ]
  },
  {
   "cell_type": "markdown",
   "id": "251d2ed5-4986-4860-9915-6de76e8590a6",
   "metadata": {
    "slideshow": {
     "slide_type": "-"
    }
   },
   "source": [
    "Assuming all outcomes are equally likely, the chance of an event $A$ is:\n",
    "                \n",
    "$$P(A) = \\frac{\\text{number of outcomes that make $A$ happen}}{\\text{total number of outcomes}}$$\n",
    "                             \n"
   ]
  },
  {
   "cell_type": "markdown",
   "id": "f28d7a9c-29fe-404b-9b0c-7f83467d76a0",
   "metadata": {
    "slideshow": {
     "slide_type": "subslide"
    }
   },
   "source": [
    "### A Question"
   ]
  },
  {
   "cell_type": "markdown",
   "id": "ccd0b9e8-3f99-4271-ad84-52076827247d",
   "metadata": {
    "slideshow": {
     "slide_type": "-"
    }
   },
   "source": [
    "* Set Up:\n",
    "    * There are three cards: ace of hearts, king of diamonds, and queen of spades.\n",
    "    * The cards are shuffled and two cards are drawn at random without replacement.\n",
    "* What is the chance that I get the Queen followed by the King?"
   ]
  },
  {
   "cell_type": "code",
   "execution_count": null,
   "id": "df0fcf54-3415-4647-8c2d-188698a9dbb5",
   "metadata": {
    "slideshow": {
     "slide_type": "fragment"
    }
   },
   "outputs": [],
   "source": [
    "prob_QK = ...\n",
    "prob_QK"
   ]
  },
  {
   "cell_type": "markdown",
   "id": "c7d87d77-ae4d-4b0c-9ed0-b583b77165d6",
   "metadata": {
    "slideshow": {
     "slide_type": "subslide"
    }
   },
   "source": [
    "### An Interpretation"
   ]
  },
  {
   "cell_type": "markdown",
   "id": "da074224-891f-487c-a89f-3300297e5c86",
   "metadata": {
    "slideshow": {
     "slide_type": "-"
    }
   },
   "source": [
    "[One way](https://en.wikipedia.org/wiki/Frequentist_probability) to interpret that there is an approximately 16.67% chance of selecting a Queen followed by a King is to say that if the situation was repeated many many times, the calculated proportion of Queen-King outcomes narrows in on the value of 0.1667."
   ]
  },
  {
   "cell_type": "code",
   "execution_count": null,
   "id": "31dbebac-6efe-4fc3-be4e-8ceb787f13b1",
   "metadata": {
    "slideshow": {
     "slide_type": "subslide"
    }
   },
   "outputs": [],
   "source": [
    "# Simulation parameters\n",
    "cards = ['A', 'K', 'Q']\n",
    "max_reps = 2500\n",
    "steps = 25\n",
    "successes = make_array()\n",
    "\n",
    "# Simulate the situation -- Takes a few seconds to run\n",
    "for reps in np.arange(1, max_reps + 1, steps):\n",
    "    outcomes = make_array()\n",
    "    for _ in np.arange(reps - 1):\n",
    "        random_outcome = np.random.choice(cards, 2, replace=False)\n",
    "        first_card = random_outcome.item(0)\n",
    "        second_card = random_outcome.item(1)\n",
    "        if first_card == 'Q' and second_card == 'K':\n",
    "            outcomes = np.append(outcomes, True)\n",
    "        else:\n",
    "            outcomes = np.append(outcomes, False)\n",
    "    successes = np.append(successes, sum(outcomes) / reps)"
   ]
  },
  {
   "cell_type": "code",
   "execution_count": null,
   "id": "9b9888eb-f8f1-441c-a99c-9ad5cc99a07d",
   "metadata": {
    "slideshow": {
     "slide_type": "subslide"
    }
   },
   "outputs": [],
   "source": [
    "# Visualize the Results\n",
    "Table().with_columns('Repetitions', np.arange(1, max_reps + 1, steps),\n",
    "                     'Queen-King Proportion', successes).plot('Repetitions')\n",
    "plt.plot([0, max_reps], [0.167, 0.167], 'r--', linewidth=2, zorder=-1)\n",
    "plt.ylim(0, 0.5)\n",
    "plt.show()"
   ]
  },
  {
   "cell_type": "markdown",
   "id": "087fd859-a296-47a6-ad88-adf41c443e56",
   "metadata": {
    "slideshow": {
     "slide_type": "subslide"
    }
   },
   "source": [
    "### Multiplication Rule"
   ]
  },
  {
   "cell_type": "markdown",
   "id": "abe9d5c6-d89e-4484-b438-c4ec0a8b550d",
   "metadata": {
    "slideshow": {
     "slide_type": "-"
    }
   },
   "source": [
    "* Chance that two events $A$ and $B$ both happen is $P(\\text{$A$ happens}) \\times P(\\text{$B$ happens given that $A$ has happened})$\n",
    "* The answer is less than or equal to each of the two chances being multiplied\n",
    "* The more conditions you have to satisfy, the less likely you are to satisfy them all\n"
   ]
  },
  {
   "cell_type": "markdown",
   "id": "48019eaf-2193-40f4-8c66-ea28950a3d30",
   "metadata": {
    "slideshow": {
     "slide_type": "subslide"
    }
   },
   "source": [
    "### Another Question"
   ]
  },
  {
   "cell_type": "markdown",
   "id": "8986329b-dddc-4919-aaf5-bbf48b80e7d5",
   "metadata": {
    "slideshow": {
     "slide_type": "-"
    }
   },
   "source": [
    "* Set up:\n",
    "    * There are three cards: ace of hearts, king of diamonds, and queen of spades.\n",
    "    * The cards are shuffled and two cards are drawn at random without replacement.\n",
    "* What is the chance that one of the cards I draw is a King and the other is Queen?\n"
   ]
  },
  {
   "cell_type": "markdown",
   "id": "b9f8797d-515d-4c86-bbeb-fcb93569ce79",
   "metadata": {
    "slideshow": {
     "slide_type": "subslide"
    }
   },
   "source": [
    "### Demo: Addition Rule"
   ]
  },
  {
   "cell_type": "code",
   "execution_count": null,
   "id": "b5b27a64-e4b4-4874-8882-c6fd9c1b2ac9",
   "metadata": {
    "slideshow": {
     "slide_type": "fragment"
    }
   },
   "outputs": [],
   "source": [
    "..."
   ]
  },
  {
   "cell_type": "code",
   "execution_count": null,
   "id": "aa720554-421e-4455-935b-912b406f0c51",
   "metadata": {
    "slideshow": {
     "slide_type": "subslide"
    }
   },
   "outputs": [],
   "source": [
    "outcomes = make_array('AK', 'AQ', 'KQ', 'KA', 'QA', 'QK')\n",
    "first_card = make_array('A', 'A', 'K', 'K', 'Q', 'Q')\n",
    "second_card = make_array('K', 'Q', 'Q', 'A', 'A', 'K')\n",
    "Table().with_columns('First Card', first_card,\n",
    "                     'First Card Chance', np.ones(6) / 3,\n",
    "                     'Second Card', second_card,\n",
    "                     'Second Card Chance', np.ones(6) / 2,\n",
    "                     'Outcome', outcomes,\n",
    "                     'Outcome Chance', np.ones(6) / 6\n",
    "                    )"
   ]
  },
  {
   "cell_type": "markdown",
   "id": "88735151-cf9d-4cc1-b737-6edda765b21f",
   "metadata": {
    "slideshow": {
     "slide_type": "notes"
    }
   },
   "source": [
    "Notice that there are two rows (possibilities) with the outcome of interest."
   ]
  },
  {
   "cell_type": "code",
   "execution_count": null,
   "id": "b371826c-0711-4d25-bfd0-f59e7a64288c",
   "metadata": {
    "slideshow": {
     "slide_type": "subslide"
    }
   },
   "outputs": [],
   "source": [
    "prob_KQ_QK = ...\n",
    "prob_KQ_QK"
   ]
  },
  {
   "cell_type": "markdown",
   "id": "913a1f43-40fc-42f3-b54f-840573198cc7",
   "metadata": {
    "slideshow": {
     "slide_type": "subslide"
    }
   },
   "source": [
    "### Addition Rule"
   ]
  },
  {
   "cell_type": "markdown",
   "id": "ded40205-a5be-437d-a113-a6dea69b2474",
   "metadata": {
    "slideshow": {
     "slide_type": "-"
    }
   },
   "source": [
    "* If event $A$ can happen in exactly one of two ways, then $P(A)  =   P(\\text{first way})  +  P(\\text{second way})$\n",
    "* The answer is greater than or equal to the chance of each individual way"
   ]
  },
  {
   "cell_type": "markdown",
   "id": "a2887ba9-f317-4af2-bdce-99f8ebbd66f3",
   "metadata": {
    "slideshow": {
     "slide_type": "subslide"
    }
   },
   "source": [
    "### Complement: At Least ..."
   ]
  },
  {
   "cell_type": "markdown",
   "id": "e24126f0-cab3-45ac-b1b0-6f9ba07c288d",
   "metadata": {
    "slideshow": {
     "slide_type": "-"
    }
   },
   "source": [
    "What is the chance of getting at least one head in a certain number of flips of a fair coin?\n",
    "* In 3 tosses:\n",
    "    At least one head means any outcome except $TTT$\n",
    "    * $P(TTT)  =  (1/2) \\times (1/2) \\times (1/2)  =  (1/2)^{3}$\n",
    "    * $P(\\text{at least one head}) = 1 - P(TTT) = 1 - (1/2)^{3} = 87.5\\% $                                           \n",
    "* In 10 tosses: $P(\\text{at least one head}) = 1 - (1/2)^{10} \\approx 99.9\\%$\n"
   ]
  },
  {
   "cell_type": "code",
   "execution_count": null,
   "id": "61b4c261-dcb1-45d8-a69f-d1eb47a8ead7",
   "metadata": {
    "slideshow": {
     "slide_type": "fragment"
    }
   },
   "outputs": [],
   "source": [
    "prob_at_least_one_head_in_ten = ...\n",
    "prob_at_least_one_head_in_ten "
   ]
  },
  {
   "cell_type": "markdown",
   "id": "4145bcfa-2c02-48bf-a708-cb49367d7fa7",
   "metadata": {
    "slideshow": {
     "slide_type": "notes"
    }
   },
   "source": [
    "<footer>\n",
    "    <hr>\n",
    "    <p>Adopted from UC Berkeley DATA 8 course materials.</p>\n",
    "    <p>This content is offered under a <a href=\"https://creativecommons.org/licenses/by-nc-sa/4.0/\">CC Attribution Non-Commercial Share Alike</a> license.</p>\n",
    "</footer>"
   ]
  }
 ],
 "metadata": {
  "kernelspec": {
   "display_name": "Python 3 (ipykernel)",
   "language": "python",
   "name": "python3"
  },
  "language_info": {
   "codemirror_mode": {
    "name": "ipython",
    "version": 3
   },
   "file_extension": ".py",
   "mimetype": "text/x-python",
   "name": "python",
   "nbconvert_exporter": "python",
   "pygments_lexer": "ipython3",
   "version": "3.10.12"
  }
 },
 "nbformat": 4,
 "nbformat_minor": 5
}
