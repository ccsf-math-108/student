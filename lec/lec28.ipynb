{
 "cells": [
  {
   "cell_type": "markdown",
   "id": "5ce205d7-bab4-436a-8801-4472bb108b38",
   "metadata": {
    "editable": true,
    "slideshow": {
     "slide_type": ""
    },
    "tags": []
   },
   "source": [
    "<div style=\"width: 38.5%;\">\n",
    "    <p><strong>City College of San Francisco</strong><p>\n",
    "    <hr>\n",
    "    <p>MATH 108 - Foundations of Data Science</p>\n",
    "</div>"
   ]
  },
  {
   "cell_type": "markdown",
   "id": "4bba7134-f35a-41fc-bdd9-87940fb486d8",
   "metadata": {
    "slideshow": {
     "slide_type": "-"
    }
   },
   "source": [
    "# Lecture 28: Center and Spread"
   ]
  },
  {
   "cell_type": "markdown",
   "id": "d22ace33-187e-4212-b883-e81730cb6178",
   "metadata": {
    "slideshow": {
     "slide_type": "-"
    }
   },
   "source": [
    "Associated Textbook Sections: [14.0 - 14.2](https://inferentialthinking.com/chapters/14/Why_the_Mean_Matters.html)"
   ]
  },
  {
   "cell_type": "markdown",
   "id": "64cbe4d2-80bb-41c4-9467-373e0e9d9d76",
   "metadata": {
    "slideshow": {
     "slide_type": "slide"
    }
   },
   "source": [
    "## Outline"
   ]
  },
  {
   "cell_type": "markdown",
   "id": "8aecde95-bc84-4928-b178-b52c6aef585b",
   "metadata": {},
   "source": [
    "* [Center and Spread](#Center-and-Spread)\n",
    "* [Average](#Average)\n",
    "* [Standard Deviation](#Standard-Deviation)\n",
    "* [Chebyshev's Inequality](#Chebyshev's-Inequality)\n",
    "* [Standard Units](#Standard-Units)"
   ]
  },
  {
   "cell_type": "markdown",
   "id": "5c99860d-9203-434c-8fdc-9393281e2a92",
   "metadata": {
    "slideshow": {
     "slide_type": "slide"
    }
   },
   "source": [
    "## Set Up the Notebook"
   ]
  },
  {
   "cell_type": "code",
   "execution_count": null,
   "id": "d91939a2-e468-4007-a4e1-95d836472f84",
   "metadata": {
    "slideshow": {
     "slide_type": "-"
    }
   },
   "outputs": [],
   "source": [
    "from datascience import *\n",
    "import numpy as np\n",
    "%matplotlib inline\n",
    "import matplotlib.pyplot as plt\n",
    "plt.style.use('fivethirtyeight')"
   ]
  },
  {
   "cell_type": "markdown",
   "id": "2f528397-092b-4244-8454-a549cbfec5e6",
   "metadata": {
    "slideshow": {
     "slide_type": "fragment"
    }
   },
   "source": [
    "---"
   ]
  },
  {
   "cell_type": "markdown",
   "id": "04a06377-b155-417e-a743-c49538393c3e",
   "metadata": {
    "slideshow": {
     "slide_type": "slide"
    }
   },
   "source": [
    "## Center and Spread"
   ]
  },
  {
   "cell_type": "markdown",
   "id": "bcd6b312-8238-424c-b397-35330974f689",
   "metadata": {
    "slideshow": {
     "slide_type": "subslide"
    }
   },
   "source": [
    "### Topic Motivation"
   ]
  },
  {
   "cell_type": "markdown",
   "id": "429ae536-2834-48e1-8470-9dc7313bee4b",
   "metadata": {
    "slideshow": {
     "slide_type": "-"
    }
   },
   "source": [
    "* How can we quantify natural concepts like \"center\" and \"variability\"?\n",
    "* Why do many of the empirical distributions that we generate come out bell shaped?\n",
    "* How is sample size related to the accuracy of an estimate?"
   ]
  },
  {
   "cell_type": "markdown",
   "id": "f4215c40-edc2-496e-8c7a-4d9f3e7a56d3",
   "metadata": {
    "slideshow": {
     "slide_type": "fragment"
    }
   },
   "source": [
    "---"
   ]
  },
  {
   "cell_type": "markdown",
   "id": "9b969176-52ca-425d-91c8-6049b5a1116a",
   "metadata": {
    "slideshow": {
     "slide_type": "slide"
    }
   },
   "source": [
    "## Average"
   ]
  },
  {
   "cell_type": "markdown",
   "id": "20c0a398-cdda-4dcc-991f-4734924bd108",
   "metadata": {
    "slideshow": {
     "slide_type": "subslide"
    }
   },
   "source": [
    "### The Average (or Mean)"
   ]
  },
  {
   "cell_type": "markdown",
   "id": "c01afaad-52c1-46f8-b103-bfb6649c35db",
   "metadata": {
    "slideshow": {
     "slide_type": "-"
    }
   },
   "source": [
    "* Example\n",
    "    * Data: 2, 3, 3, 9    \n",
    "    * Average = (2+3+3+9)/4 = 4.25\n",
    "* Need not be a value in the collection\n",
    "* Need not be an integer even if the data are integers\n",
    "* Somewhere between min and max, but not necessarily halfway in between\n",
    "* Same units as the data\n",
    "* Smoothing operator: collect all the contributions in one big pot, then split evenly"
   ]
  },
  {
   "cell_type": "markdown",
   "id": "86e0290a-6831-4d6d-a6bd-1ce761da3964",
   "metadata": {
    "slideshow": {
     "slide_type": "subslide"
    }
   },
   "source": [
    "### Demo: Average (Mean)"
   ]
  },
  {
   "cell_type": "markdown",
   "id": "50ba7f88-6371-4aef-8810-c762c4edf6b5",
   "metadata": {
    "slideshow": {
     "slide_type": "notes"
    }
   },
   "source": [
    "Explore various ways to calculate and interpret the average."
   ]
  },
  {
   "cell_type": "code",
   "execution_count": null,
   "id": "d2a4a063-ea13-48ec-b197-48ed9258718a",
   "metadata": {
    "slideshow": {
     "slide_type": "-"
    }
   },
   "outputs": [],
   "source": [
    "values = make_array(2, 3, 3, 9)"
   ]
  },
  {
   "cell_type": "code",
   "execution_count": null,
   "id": "1f23a7f1-10a2-4344-b33a-25521ffe585d",
   "metadata": {
    "slideshow": {
     "slide_type": "fragment"
    }
   },
   "outputs": [],
   "source": [
    "sum(values)/len(values)"
   ]
  },
  {
   "cell_type": "code",
   "execution_count": null,
   "id": "bc502896-7a9a-4fde-96f1-9a9121e9763c",
   "metadata": {
    "slideshow": {
     "slide_type": "fragment"
    }
   },
   "outputs": [],
   "source": [
    "np.average(values)"
   ]
  },
  {
   "cell_type": "code",
   "execution_count": null,
   "id": "9b45711d-f96a-4680-93d5-1fc2c5ad1a82",
   "metadata": {
    "slideshow": {
     "slide_type": "fragment"
    }
   },
   "outputs": [],
   "source": [
    "np.mean(values)"
   ]
  },
  {
   "cell_type": "code",
   "execution_count": null,
   "id": "f1ff1aa2-ef33-41ef-ae61-eaa3e581923a",
   "metadata": {
    "slideshow": {
     "slide_type": "subslide"
    }
   },
   "outputs": [],
   "source": [
    "(2 + 3 + 3 + 9)/4"
   ]
  },
  {
   "cell_type": "code",
   "execution_count": null,
   "id": "ceea77c3-7a6e-4276-b08f-36190182036f",
   "metadata": {
    "slideshow": {
     "slide_type": "fragment"
    }
   },
   "outputs": [],
   "source": [
    "2*(1/4) + 3*(2/4) + 9*(1/4)"
   ]
  },
  {
   "cell_type": "markdown",
   "id": "0bd07801-c147-47bb-842e-7fb97f056af3",
   "metadata": {
    "slideshow": {
     "slide_type": "notes"
    }
   },
   "source": [
    "Notice how the average reflects a physical balancing point for the data visualized through a histogram."
   ]
  },
  {
   "cell_type": "code",
   "execution_count": null,
   "id": "3cfbf85a-bff4-4d08-987c-deaf356a5c37",
   "metadata": {
    "slideshow": {
     "slide_type": "subslide"
    }
   },
   "outputs": [],
   "source": [
    "values_table = Table().with_columns('value', values)\n",
    "values_table"
   ]
  },
  {
   "cell_type": "code",
   "execution_count": null,
   "id": "78479db4-a056-4488-8b48-e403152eeaca",
   "metadata": {
    "slideshow": {
     "slide_type": "fragment"
    },
    "tags": []
   },
   "outputs": [],
   "source": [
    "bins_for_display = np.arange(0.5, 10.6, 1)\n",
    "values_table.hist(0, bins = bins_for_display)"
   ]
  },
  {
   "cell_type": "markdown",
   "id": "d0856ec2-d76b-4fe7-ab89-76c1e458dba1",
   "metadata": {
    "slideshow": {
     "slide_type": "notes"
    }
   },
   "source": [
    "Let's see what happens when we increase the number of values {2, 3, 9} in the table and preserve the proportions."
   ]
  },
  {
   "cell_type": "code",
   "execution_count": null,
   "id": "5c9037c4-8b17-4ec8-97ff-c480cce5a93d",
   "metadata": {
    "slideshow": {
     "slide_type": "subslide"
    }
   },
   "outputs": [],
   "source": [
    "new_vals = make_array(2, 2, 2, 2, 2, 2, 2, 2, 2, 2,\n",
    "                      3, 3, 3, 3, 3, 3, 3, 3, 3, 3, 3, 3, 3, 3, 3, 3, 3, 3, 3, 3,\n",
    "                      9, 9, 9, 9, 9, 9, 9, 9, 9, 9)"
   ]
  },
  {
   "cell_type": "code",
   "execution_count": null,
   "id": "212350aa-da3d-4097-bbc9-965c2d6fe0f6",
   "metadata": {
    "slideshow": {
     "slide_type": "fragment"
    }
   },
   "outputs": [],
   "source": [
    "Table().with_column('value', new_vals).hist(bins = bins_for_display)"
   ]
  },
  {
   "cell_type": "code",
   "execution_count": null,
   "id": "18b2975a-314a-4b68-8a66-787431176e85",
   "metadata": {
    "slideshow": {
     "slide_type": "subslide"
    }
   },
   "outputs": [],
   "source": [
    "np.average(values)"
   ]
  },
  {
   "cell_type": "code",
   "execution_count": null,
   "id": "3a01d7e1-c235-45df-bd80-04de2dcbce8b",
   "metadata": {
    "slideshow": {
     "slide_type": "fragment"
    }
   },
   "outputs": [],
   "source": [
    "np.average(new_vals)"
   ]
  },
  {
   "cell_type": "markdown",
   "id": "fe9f890a-57e1-43fe-82b8-c1fe8d4c9ef8",
   "metadata": {
    "slideshow": {
     "slide_type": "subslide"
    }
   },
   "source": [
    "### Reflection"
   ]
  },
  {
   "cell_type": "markdown",
   "id": "97f156bf-c516-4b1f-8428-8859146883d2",
   "metadata": {
    "slideshow": {
     "slide_type": "-"
    }
   },
   "source": [
    "<img src=\"img/lec25_histograms.png\" width = 80%>\n",
    "\n",
    "* Are the medians of these two distributions the same or different? \n",
    "* Are the means the same or different? \n",
    "* If you say \"different,\" then say which one is bigger."
   ]
  },
  {
   "cell_type": "markdown",
   "id": "6163d72b-87c9-4111-8f21-fb86ad334748",
   "metadata": {
    "slideshow": {
     "slide_type": "subslide"
    }
   },
   "source": [
    "### Comparing Mean and Median "
   ]
  },
  {
   "cell_type": "markdown",
   "id": "a64e1a52-c7b6-46df-bdc6-dca32109315c",
   "metadata": {
    "slideshow": {
     "slide_type": "-"
    }
   },
   "source": [
    "* Mean: Balance point of the histogram\n",
    "* Median: Half-way point of data; half the area of histogram is on either side of median\n",
    "* If the distribution is symmetric about a value, then that value is both the average and the median.\n",
    "* If the histogram is skewed, then the mean is pulled away from the median in the direction of the tail."
   ]
  },
  {
   "cell_type": "markdown",
   "id": "37d9616d-e5bd-4cb1-bb19-78a2c18cb662",
   "metadata": {
    "slideshow": {
     "slide_type": "subslide"
    }
   },
   "source": [
    "### Reflection"
   ]
  },
  {
   "cell_type": "markdown",
   "id": "d7357fb7-2a77-4f36-bff1-ce2ccbb7c859",
   "metadata": {
    "slideshow": {
     "slide_type": "-"
    }
   },
   "source": [
    "<img src=\"img/lec25_nba.png\" width = 50%>\n",
    "\n",
    "Is the mean or median larger for the distribution of NBA player heights?"
   ]
  },
  {
   "cell_type": "markdown",
   "id": "92cf0433-8188-415b-9552-325927d13a20",
   "metadata": {
    "slideshow": {
     "slide_type": "fragment"
    }
   },
   "source": [
    "---"
   ]
  },
  {
   "cell_type": "markdown",
   "id": "6ecf065f-45c0-497e-8a56-22227b60691d",
   "metadata": {
    "slideshow": {
     "slide_type": "slide"
    }
   },
   "source": [
    "## Standard Deviation"
   ]
  },
  {
   "cell_type": "markdown",
   "id": "8239b4dc-771c-45b2-b3d9-9fd8ec95355e",
   "metadata": {
    "slideshow": {
     "slide_type": "subslide"
    }
   },
   "source": [
    "### Defining Variability"
   ]
  },
  {
   "cell_type": "markdown",
   "id": "609146ec-57d3-4d6a-bf90-8fa3df644a80",
   "metadata": {
    "slideshow": {
     "slide_type": "-"
    }
   },
   "source": [
    "* Plan A: “biggest value - smallest value”\n",
    "    * Doesn’t tell us much about the shape of the distribution\n",
    "* Plan B:\n",
    "    * Measure variability around the mean\n",
    "    * Need to figure out a way to quantify this\n"
   ]
  },
  {
   "cell_type": "markdown",
   "id": "e1b4c869-821b-4326-bc54-64df8c4ced5d",
   "metadata": {
    "slideshow": {
     "slide_type": "subslide"
    }
   },
   "source": [
    "### Demo: Standard Deviation"
   ]
  },
  {
   "cell_type": "markdown",
   "id": "73d6d24a-0eda-41a0-8cd2-7f9aeff72168",
   "metadata": {
    "slideshow": {
     "slide_type": "notes"
    }
   },
   "source": [
    "Explore the standard deviation."
   ]
  },
  {
   "cell_type": "code",
   "execution_count": null,
   "id": "01937821-1574-4eb3-b303-d050efdd1319",
   "metadata": {},
   "outputs": [],
   "source": [
    "values = make_array(2, 3, 3, 9)"
   ]
  },
  {
   "cell_type": "code",
   "execution_count": null,
   "id": "76245883-7989-473d-b461-f43515fd3964",
   "metadata": {
    "slideshow": {
     "slide_type": "fragment"
    }
   },
   "outputs": [],
   "source": [
    "sd_table = Table().with_columns('Value', values)\n",
    "sd_table"
   ]
  },
  {
   "cell_type": "code",
   "execution_count": null,
   "id": "64caf8ca-4f21-477d-8363-030e74e4c53b",
   "metadata": {
    "slideshow": {
     "slide_type": "fragment"
    }
   },
   "outputs": [],
   "source": [
    "average_value = np.average(sd_table.column(0))\n",
    "average_value"
   ]
  },
  {
   "cell_type": "code",
   "execution_count": null,
   "id": "d260a2d9-91e8-45a4-8120-b8d81da870d5",
   "metadata": {
    "slideshow": {
     "slide_type": "subslide"
    }
   },
   "outputs": [],
   "source": [
    "deviations = values - average_value\n",
    "sd_table = sd_table.with_column('Deviation', deviations)\n",
    "sd_table"
   ]
  },
  {
   "cell_type": "code",
   "execution_count": null,
   "id": "eb3db62e-f88f-488b-804a-bf44071d5fe2",
   "metadata": {
    "slideshow": {
     "slide_type": "fragment"
    }
   },
   "outputs": [],
   "source": [
    "sum(deviations)"
   ]
  },
  {
   "cell_type": "code",
   "execution_count": null,
   "id": "773138ca-dfbb-4bf7-ab27-51aedb57af52",
   "metadata": {
    "slideshow": {
     "slide_type": "subslide"
    }
   },
   "outputs": [],
   "source": [
    "sd_table = sd_table.with_columns('Squared Deviation', deviations ** 2)\n",
    "sd_table"
   ]
  },
  {
   "cell_type": "markdown",
   "id": "c6a98c90-7c9f-4427-8474-5ed84b7213e8",
   "metadata": {
    "slideshow": {
     "slide_type": "notes"
    }
   },
   "source": [
    "Explore the variance of the data and see it's relationship with the standard deviation."
   ]
  },
  {
   "cell_type": "code",
   "execution_count": null,
   "id": "c4f9791c-aad5-421b-a027-de381ba64530",
   "metadata": {
    "slideshow": {
     "slide_type": "subslide"
    }
   },
   "outputs": [],
   "source": [
    "variance = np.mean(sd_table.column('Squared Deviation'))\n",
    "variance"
   ]
  },
  {
   "cell_type": "markdown",
   "id": "07a9e0df-29cd-46bc-b8f0-b4f634356c3e",
   "metadata": {
    "slideshow": {
     "slide_type": "notes"
    }
   },
   "source": [
    "Standard Deviation (SD) is the square root of the variance"
   ]
  },
  {
   "cell_type": "code",
   "execution_count": null,
   "id": "fca8152c-5840-4903-a286-6bdeb2ef890e",
   "metadata": {
    "slideshow": {
     "slide_type": "subslide"
    }
   },
   "outputs": [],
   "source": [
    "sd = ...\n",
    "sd"
   ]
  },
  {
   "cell_type": "code",
   "execution_count": null,
   "id": "91c57bfa-f887-4dec-baf2-ab8a632eacbc",
   "metadata": {
    "slideshow": {
     "slide_type": "fragment"
    }
   },
   "outputs": [],
   "source": [
    "np.std(values)"
   ]
  },
  {
   "cell_type": "markdown",
   "id": "997feeea-e5fe-4324-9fcc-4f7929904983",
   "metadata": {
    "slideshow": {
     "slide_type": "subslide"
    }
   },
   "source": [
    "### How Far from the Average?"
   ]
  },
  {
   "cell_type": "markdown",
   "id": "eccff437-1d25-4250-8ad5-524924caf922",
   "metadata": {
    "slideshow": {
     "slide_type": "-"
    }
   },
   "source": [
    "* Standard deviation (SD) measures roughly how far the data are from their average\n",
    "* SD = root mean square of deviations from average\n",
    "* SD has the same units as the data"
   ]
  },
  {
   "cell_type": "markdown",
   "id": "c7f46cf1-e84a-4036-8f20-e6903c27f356",
   "metadata": {
    "slideshow": {
     "slide_type": "subslide"
    }
   },
   "source": [
    "### Why Use the SD?"
   ]
  },
  {
   "cell_type": "markdown",
   "id": "ecae2bcd-6337-47d1-b20f-e581a6458609",
   "metadata": {
    "slideshow": {
     "slide_type": "-"
    }
   },
   "source": [
    "There are two main reasons.\n",
    "\n",
    "1. No matter what the shape of the distribution, the bulk of the data are in the range \"average ± a few SDs\" (Chebyshev's Inequality)\n",
    "2. Coming up in a future lecture."
   ]
  },
  {
   "cell_type": "markdown",
   "id": "16dc6a81-a6c0-45b4-b22a-aa1b8d152ca5",
   "metadata": {
    "slideshow": {
     "slide_type": "fragment"
    }
   },
   "source": [
    "---"
   ]
  },
  {
   "cell_type": "markdown",
   "id": "2d49f892-e000-426b-8263-5219472aa93d",
   "metadata": {
    "slideshow": {
     "slide_type": "slide"
    }
   },
   "source": [
    "## Chebyshev's Inequality"
   ]
  },
  {
   "cell_type": "markdown",
   "id": "15ef5daa-7e94-4f56-ba72-dbe30ea06b36",
   "metadata": {
    "slideshow": {
     "slide_type": "subslide"
    }
   },
   "source": [
    "### How Big are Most of the Values?"
   ]
  },
  {
   "cell_type": "markdown",
   "id": "b5a33321-6535-4af8-9c9b-e09bb20c684d",
   "metadata": {
    "slideshow": {
     "slide_type": "-"
    }
   },
   "source": [
    "* No matter what the shape of the distribution, the bulk of the data are in the range \"average ± a few SDs\"\n",
    "* Chebyshev’s Inequality\n",
    "    * No matter what the shape of the distribution, the proportion of values in the range \"average ± $z$ SDs\" is at least $1 - 1/z^2$\n",
    "\n"
   ]
  },
  {
   "cell_type": "markdown",
   "id": "f445c3a4-be94-4780-b2e2-0c5f879dd3d8",
   "metadata": {
    "slideshow": {
     "slide_type": "subslide"
    }
   },
   "source": [
    "### Chebyshev's Bounds\n"
   ]
  },
  {
   "cell_type": "markdown",
   "id": "7e36b3e6-8317-42ee-9e4c-43ee9c0dcc29",
   "metadata": {
    "slideshow": {
     "slide_type": "-"
    }
   },
   "source": [
    "No matter what the distribution looks like, the proportion of data values follows:\n",
    "<img src=\"img/lec26_cheby_bounds.png\" width=50%>"
   ]
  },
  {
   "cell_type": "markdown",
   "id": "a705fa6e-bbbf-42c3-81a7-7817629730cf",
   "metadata": {
    "slideshow": {
     "slide_type": "subslide"
    }
   },
   "source": [
    "### Demo: Chebyshev's Bound"
   ]
  },
  {
   "cell_type": "markdown",
   "id": "3629a4f9-4d03-4875-9b8f-f0f889e6f0a9",
   "metadata": {
    "slideshow": {
     "slide_type": "notes"
    }
   },
   "source": [
    "Explore a demonstration of Chebyshev's bounds through a data set."
   ]
  },
  {
   "cell_type": "code",
   "execution_count": null,
   "id": "ce7ff335-5064-4e83-9e30-e5cefda06e42",
   "metadata": {},
   "outputs": [],
   "source": [
    "births = Table.read_table('./data/baby.csv')\n",
    "births.show(3)"
   ]
  },
  {
   "cell_type": "code",
   "execution_count": null,
   "id": "38685198-41e3-4a00-a5f7-9c2d378c0eaa",
   "metadata": {
    "slideshow": {
     "slide_type": "subslide"
    }
   },
   "outputs": [],
   "source": [
    "births.hist(0)"
   ]
  },
  {
   "cell_type": "code",
   "execution_count": null,
   "id": "669a9f60-ad3c-4cbc-bd6a-2c4bfe98806e",
   "metadata": {
    "slideshow": {
     "slide_type": "subslide"
    }
   },
   "outputs": [],
   "source": [
    "births.hist(1)"
   ]
  },
  {
   "cell_type": "code",
   "execution_count": null,
   "id": "068164f9-aee2-4254-bf5d-6ad42543f02e",
   "metadata": {
    "slideshow": {
     "slide_type": "subslide"
    }
   },
   "outputs": [],
   "source": [
    "births.hist(2)"
   ]
  },
  {
   "cell_type": "code",
   "execution_count": null,
   "id": "33befb9e-47f2-4962-aca0-e23ab59375f3",
   "metadata": {
    "slideshow": {
     "slide_type": "subslide"
    }
   },
   "outputs": [],
   "source": [
    "births.hist(3)"
   ]
  },
  {
   "cell_type": "code",
   "execution_count": null,
   "id": "74297752-6f21-4313-ae9d-da56462cd0be",
   "metadata": {
    "slideshow": {
     "slide_type": "subslide"
    }
   },
   "outputs": [],
   "source": [
    "births.hist(4)"
   ]
  },
  {
   "cell_type": "code",
   "execution_count": null,
   "id": "35f03611-9dac-45ac-a11b-f4e3408a9281",
   "metadata": {
    "slideshow": {
     "slide_type": "subslide"
    }
   },
   "outputs": [],
   "source": [
    "mpw = ...\n",
    "mean = ...\n",
    "sd = ...\n",
    "mean, sd"
   ]
  },
  {
   "cell_type": "code",
   "execution_count": null,
   "id": "1d35a0e5-b824-44da-9ef4-f7d0accee2df",
   "metadata": {
    "slideshow": {
     "slide_type": "subslide"
    }
   },
   "outputs": [],
   "source": [
    "within_3_SDs = ..."
   ]
  },
  {
   "cell_type": "code",
   "execution_count": null,
   "id": "b90487d9-1893-4fd4-9590-0779152dd489",
   "metadata": {
    "slideshow": {
     "slide_type": "fragment"
    }
   },
   "outputs": [],
   "source": [
    "# Proportion within 3 SDs of the mean\n",
    "..."
   ]
  },
  {
   "cell_type": "code",
   "execution_count": null,
   "id": "7f9b9f92-a69d-474e-85c6-9ead3ad943c2",
   "metadata": {
    "slideshow": {
     "slide_type": "fragment"
    }
   },
   "outputs": [],
   "source": [
    "# Chebyshev's bound: The proportion we calculated above should be at least\n",
    "1 - 1/(3**2)"
   ]
  },
  {
   "cell_type": "code",
   "execution_count": null,
   "id": "afca9779-dd26-4fbb-94a7-65a4471a6259",
   "metadata": {
    "scrolled": true,
    "slideshow": {
     "slide_type": "subslide"
    }
   },
   "outputs": [],
   "source": [
    "births.labels"
   ]
  },
  {
   "cell_type": "markdown",
   "id": "5db2d332-e451-4c6d-b5f7-6e17a882feb1",
   "metadata": {
    "slideshow": {
     "slide_type": "notes"
    }
   },
   "source": [
    "See if Chebyshev's bounds work for distributions with various shapes."
   ]
  },
  {
   "cell_type": "code",
   "execution_count": null,
   "id": "0fbe5df9-fcab-40f0-a1bb-7d47a62e71c9",
   "metadata": {
    "slideshow": {
     "slide_type": "fragment"
    }
   },
   "outputs": [],
   "source": [
    "for feature in births.labels:\n",
    "    values = births.column(feature)\n",
    "    mean = np.mean(values)\n",
    "    sd = np.std(values)\n",
    "    print()\n",
    "    print(feature)\n",
    "    for z in make_array(2, 3, 4, 5):\n",
    "        chosen = births.where(feature, are.between(mean - z*sd, mean + z*sd))\n",
    "        proportion = chosen.num_rows / births.num_rows\n",
    "        percent = round(proportion * 100, 2)\n",
    "        print('Average plus or minus', z, 'SDs:', percent, '% of the data')"
   ]
  },
  {
   "cell_type": "markdown",
   "id": "99bfaaa4-54a2-4a1c-a952-cb2cabbdde7a",
   "metadata": {
    "slideshow": {
     "slide_type": "slide"
    }
   },
   "source": [
    "## Standard Units"
   ]
  },
  {
   "cell_type": "markdown",
   "id": "75f6421c-c17d-4e5f-be60-bc2633550d66",
   "metadata": {
    "slideshow": {
     "slide_type": "subslide"
    }
   },
   "source": [
    "### Standard Units"
   ]
  },
  {
   "cell_type": "markdown",
   "id": "eb9e5df4-c2fa-418f-be45-da061ace5564",
   "metadata": {
    "slideshow": {
     "slide_type": "-"
    }
   },
   "source": [
    "* How many SDs above average?\n",
    "* `z = (value - average)/SD`\n",
    "    * Negative z: value below average\n",
    "    * Positive z: value above average\n",
    "    * z = 0: value equal to average\n",
    "* When values are in standard units: average = 0, SD = 1\n",
    "* Gives us a way to compare/understand data no matter what the original units\n"
   ]
  },
  {
   "cell_type": "markdown",
   "id": "f588eb94-bb91-47a7-a5af-e9adda8012af",
   "metadata": {
    "slideshow": {
     "slide_type": "subslide"
    }
   },
   "source": [
    "### Demo: Standard Units"
   ]
  },
  {
   "cell_type": "markdown",
   "id": "b989a01f-8f7c-45e8-a095-b56e2f1a934d",
   "metadata": {
    "slideshow": {
     "slide_type": "notes"
    }
   },
   "source": [
    "Create a function to convert a measurement to standard units and apply it to the previous data set."
   ]
  },
  {
   "cell_type": "code",
   "execution_count": null,
   "id": "7a259c18-b4e7-4c82-80fb-7921c2dfe1d7",
   "metadata": {
    "slideshow": {
     "slide_type": "subslide"
    }
   },
   "outputs": [],
   "source": [
    "def standard_units(x):\n",
    "    \"\"\"Convert array x to standard units.\"\"\"\n",
    "    return ..."
   ]
  },
  {
   "cell_type": "code",
   "execution_count": null,
   "id": "2e017fbf-4058-4693-8d85-41f109905f40",
   "metadata": {
    "slideshow": {
     "slide_type": "subslide"
    }
   },
   "outputs": [],
   "source": [
    "ages = births.column('Maternal Age')"
   ]
  },
  {
   "cell_type": "code",
   "execution_count": null,
   "id": "cc34b101-0b75-4d49-8fd7-4fa82aa1b893",
   "metadata": {
    "slideshow": {
     "slide_type": "fragment"
    }
   },
   "outputs": [],
   "source": [
    "ages_standard_units = ..."
   ]
  },
  {
   "cell_type": "code",
   "execution_count": null,
   "id": "53b0a30f-eb87-427e-b21e-3d0beaadd77e",
   "metadata": {
    "slideshow": {
     "slide_type": "fragment"
    }
   },
   "outputs": [],
   "source": [
    "..."
   ]
  },
  {
   "cell_type": "code",
   "execution_count": null,
   "id": "149f9954-7488-4591-9da7-faa3d88c9ba8",
   "metadata": {
    "slideshow": {
     "slide_type": "subslide"
    }
   },
   "outputs": [],
   "source": [
    "both = Table().with_columns(\n",
    "    'Age in Years', ages,\n",
    "    'Age in Standard Units', ages_standard_units\n",
    ")\n",
    "both"
   ]
  },
  {
   "cell_type": "code",
   "execution_count": null,
   "id": "4cd535ec-b7f5-41b0-a121-300d144647ae",
   "metadata": {
    "slideshow": {
     "slide_type": "subslide"
    }
   },
   "outputs": [],
   "source": [
    "np.mean(ages), np.std(ages)"
   ]
  },
  {
   "cell_type": "markdown",
   "id": "55e0900d-1d0d-4942-bc60-d0cadfeb086d",
   "metadata": {
    "slideshow": {
     "slide_type": "fragment"
    }
   },
   "source": [
    "Compare the distribution of values and standardized values."
   ]
  },
  {
   "cell_type": "code",
   "execution_count": null,
   "id": "dfb7046f-9bc7-426a-bb6e-7055a2ec92f4",
   "metadata": {
    "slideshow": {
     "slide_type": "subslide"
    }
   },
   "outputs": [],
   "source": [
    "both.hist('Age in Years', bins = np.arange(15, 46, 2))"
   ]
  },
  {
   "cell_type": "code",
   "execution_count": null,
   "id": "d7eaa8ba-aa58-4260-9609-884ca7a0649a",
   "metadata": {
    "slideshow": {
     "slide_type": "subslide"
    }
   },
   "outputs": [],
   "source": [
    "both.hist('Age in Standard Units', bins = np.arange(-2.2, 3.4, 0.35))\n",
    "plt.xlim(-2, 3.1);"
   ]
  },
  {
   "cell_type": "markdown",
   "id": "897cbea1-3fb0-4d2e-8b81-20cac05a6420",
   "metadata": {
    "slideshow": {
     "slide_type": "subslide"
    }
   },
   "source": [
    "### The SD and the Histogram"
   ]
  },
  {
   "cell_type": "markdown",
   "id": "2c762f30-e78e-449f-8bf4-6222ed090c28",
   "metadata": {
    "slideshow": {
     "slide_type": "-"
    }
   },
   "source": [
    "* Usually, it's not easy to estimate the SD by looking at a histogram.\n",
    "* But if the histogram has a bell shape, then you can.\n"
   ]
  },
  {
   "cell_type": "markdown",
   "id": "b04334c0-90a0-4929-87b0-938d46dd7a69",
   "metadata": {
    "slideshow": {
     "slide_type": "subslide"
    }
   },
   "source": [
    "### The SD and Bell-Shaped Curves"
   ]
  },
  {
   "cell_type": "markdown",
   "id": "6c8405cc-0878-47bf-a438-529651dfcbcc",
   "metadata": {
    "slideshow": {
     "slide_type": "-"
    }
   },
   "source": [
    "If a histogram is bell-shaped, then\n",
    "* the average is at the center\n",
    "* the SD is the distance between the average and the points of inflection on either side\n"
   ]
  },
  {
   "cell_type": "markdown",
   "id": "df9cbfb9-76a8-44ed-ace2-0d1e87320e57",
   "metadata": {
    "slideshow": {
     "slide_type": "subslide"
    }
   },
   "source": [
    "### Demo: The SD and Bell Shaped Curves"
   ]
  },
  {
   "cell_type": "markdown",
   "id": "fa1bdb15-c8bf-4c82-8a64-76dc7b3720e0",
   "metadata": {
    "slideshow": {
     "slide_type": "notes"
    }
   },
   "source": [
    "Notice the way the distribution changes around $\\pm 1$ of the mean."
   ]
  },
  {
   "cell_type": "code",
   "execution_count": null,
   "id": "e65539c2-d259-4dcc-8039-49669aeba097",
   "metadata": {
    "slideshow": {
     "slide_type": "-"
    }
   },
   "outputs": [],
   "source": [
    "births.hist('Maternal Height', bins = np.arange(56.5, 72.6, 1))"
   ]
  },
  {
   "cell_type": "code",
   "execution_count": null,
   "id": "c2cc7e18-fb07-4b13-931e-d17b650b6b3d",
   "metadata": {
    "slideshow": {
     "slide_type": "fragment"
    }
   },
   "outputs": [],
   "source": [
    "heights = births.column('Maternal Height')\n",
    "np.mean(heights), np.std(heights)"
   ]
  },
  {
   "cell_type": "code",
   "execution_count": null,
   "id": "c7762a39-1ffa-4273-b0b7-00465195696a",
   "metadata": {
    "slideshow": {
     "slide_type": "fragment"
    }
   },
   "outputs": [],
   "source": [
    "np.mean(heights) + np.std(heights), np.mean(heights) - np.std(heights)"
   ]
  },
  {
   "cell_type": "markdown",
   "id": "06ac3fb1-ea87-4e5e-a9f9-9e27e21598fa",
   "metadata": {
    "slideshow": {
     "slide_type": "subslide"
    }
   },
   "source": [
    "### Point of Inflection"
   ]
  },
  {
   "cell_type": "markdown",
   "id": "6b49ba4b-67fb-4520-9169-a9ee2669b28a",
   "metadata": {
    "slideshow": {
     "slide_type": "-"
    }
   },
   "source": [
    "<img src=\"img/lec26_inflection_points.png\" width =50%>"
   ]
  },
  {
   "cell_type": "markdown",
   "id": "a88e6477-73da-43a6-8732-e58f11ad65f6",
   "metadata": {
    "slideshow": {
     "slide_type": "fragment"
    }
   },
   "source": [
    "---"
   ]
  },
  {
   "cell_type": "markdown",
   "id": "bd157618-9e0d-4d06-be07-66be9cfd6498",
   "metadata": {
    "slideshow": {
     "slide_type": "notes"
    }
   },
   "source": [
    "<footer>\n",
    "    <p>Adopted from UC Berkeley DATA 8 course materials.</p>\n",
    "    <p>This content is offered under a <a href=\"https://creativecommons.org/licenses/by-nc-sa/4.0/\">CC Attribution Non-Commercial Share Alike</a> license.</p>\n",
    "</footer>"
   ]
  }
 ],
 "metadata": {
  "kernelspec": {
   "display_name": "Python 3 (ipykernel)",
   "language": "python",
   "name": "python3"
  },
  "language_info": {
   "codemirror_mode": {
    "name": "ipython",
    "version": 3
   },
   "file_extension": ".py",
   "mimetype": "text/x-python",
   "name": "python",
   "nbconvert_exporter": "python",
   "pygments_lexer": "ipython3",
   "version": "3.10.12"
  }
 },
 "nbformat": 4,
 "nbformat_minor": 5
}
