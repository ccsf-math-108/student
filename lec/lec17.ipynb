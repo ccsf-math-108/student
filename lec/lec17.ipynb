{
 "cells": [
  {
   "cell_type": "markdown",
   "id": "5ce205d7-bab4-436a-8801-4472bb108b38",
   "metadata": {
    "slideshow": {
     "slide_type": "slide"
    }
   },
   "source": [
    "<div style=\"width: 38.5%;\">\n",
    "    <p><strong>City College of San Francisco</strong><p>\n",
    "    <hr>\n",
    "    <p>MATH 108 - Foundations of Data Science</p>\n",
    "</div>"
   ]
  },
  {
   "cell_type": "markdown",
   "id": "4bba7134-f35a-41fc-bdd9-87940fb486d8",
   "metadata": {
    "slideshow": {
     "slide_type": "-"
    }
   },
   "source": [
    "# Lecture 17: Distributions"
   ]
  },
  {
   "cell_type": "markdown",
   "id": "d22ace33-187e-4212-b883-e81730cb6178",
   "metadata": {
    "slideshow": {
     "slide_type": "-"
    }
   },
   "source": [
    "Associated Textbook Sections: [10.1, 10.2, 10.3, and 10.4](https://inferentialthinking.com/chapters/10/1/Empirical_Distributions.html)"
   ]
  },
  {
   "cell_type": "markdown",
   "id": "cdbea57b-854c-4320-b40c-e49c32043cd2",
   "metadata": {
    "slideshow": {
     "slide_type": "slide"
    }
   },
   "source": [
    "<div style=\"width: 38.5%;\">\n",
    "    <p><strong>City College of San Francisco</strong><p>\n",
    "    <hr>\n",
    "    <p>MATH 108 - Foundations of Data Science</p>\n",
    "</div>"
   ]
  },
  {
   "cell_type": "markdown",
   "id": "558c85d6-1084-451a-8bc9-ffbe5fa2e93f",
   "metadata": {
    "slideshow": {
     "slide_type": "slide"
    }
   },
   "source": [
    "## Outline"
   ]
  },
  {
   "cell_type": "markdown",
   "id": "d21cc630-74da-44da-bfc8-c857c7c5bbd8",
   "metadata": {
    "slideshow": {
     "slide_type": "-"
    }
   },
   "source": [
    "* [Distributions](#Distributions)\n",
    "* [Law of Large Numbers](#Law-of-Large-Numbers)\n",
    "* [A Statistic](#A-Statistic)"
   ]
  },
  {
   "cell_type": "markdown",
   "id": "de1e4664-c6cd-44ad-beb9-80fbb070c663",
   "metadata": {
    "slideshow": {
     "slide_type": "slide"
    }
   },
   "source": [
    "## Set Up the Notebook"
   ]
  },
  {
   "cell_type": "code",
   "execution_count": null,
   "id": "d0652102-08ee-456a-8d79-284cc05e9f93",
   "metadata": {
    "slideshow": {
     "slide_type": "-"
    }
   },
   "outputs": [],
   "source": [
    "from datascience import *\n",
    "import numpy as np\n",
    "%matplotlib inline\n",
    "import matplotlib.pyplot as plt\n",
    "plt.style.use('fivethirtyeight')"
   ]
  },
  {
   "cell_type": "markdown",
   "id": "23ccc609-0c5b-4d12-82c5-706629b776a3",
   "metadata": {
    "slideshow": {
     "slide_type": "fragment"
    }
   },
   "source": [
    "---"
   ]
  },
  {
   "cell_type": "markdown",
   "id": "d348c802-fd06-4ded-8e42-0a2a739df19a",
   "metadata": {
    "slideshow": {
     "slide_type": "slide"
    }
   },
   "source": [
    "## Distributions"
   ]
  },
  {
   "cell_type": "markdown",
   "id": "b36a9e02-2207-4961-bd0b-39bef7681c4f",
   "metadata": {
    "slideshow": {
     "slide_type": "subslide"
    }
   },
   "source": [
    "### Probability Distribution"
   ]
  },
  {
   "cell_type": "markdown",
   "id": "91952543-d23d-46e2-9999-f1f6e2566f1b",
   "metadata": {
    "slideshow": {
     "slide_type": "-"
    }
   },
   "source": [
    "* Random quantity with various possible values\n",
    "* Probability Distribution:\n",
    "    * All the possible values of the quantity\n",
    "    * The probability of each of those values\n",
    "* If you can do the math, you can work out the probability distribution without ever simulating it\n",
    "* But... simulation is often easier!\n"
   ]
  },
  {
   "cell_type": "markdown",
   "id": "e22586b8-e32c-48af-a2e3-bfdeed6fbba2",
   "metadata": {
    "slideshow": {
     "slide_type": "subslide"
    }
   },
   "source": [
    "### Empirical Distribution"
   ]
  },
  {
   "cell_type": "markdown",
   "id": "99391983-81fb-41e7-921f-e3cb6df9d96a",
   "metadata": {
    "slideshow": {
     "slide_type": "-"
    }
   },
   "source": [
    "* Empirical: based on observations\n",
    "* Observations can be from repetitions of an experiment\n",
    "* Empirical Distribution:\n",
    "    * All observed values\n",
    "    * The proportion of times each value appears"
   ]
  },
  {
   "cell_type": "markdown",
   "id": "1cbc765f-55b5-47a2-a872-d2c39fd43ac0",
   "metadata": {
    "slideshow": {
     "slide_type": "subslide"
    }
   },
   "source": [
    "### Demo: Distributions"
   ]
  },
  {
   "cell_type": "markdown",
   "id": "b1fbde64-7eb4-47ee-b182-91f7a74b63aa",
   "metadata": {
    "slideshow": {
     "slide_type": "notes"
    }
   },
   "source": [
    "Create a table with the face numbers of a six-sided die. Use that table with the `sample` method to simulate randomly rolling a die. Visualize the empirical distribution."
   ]
  },
  {
   "cell_type": "code",
   "execution_count": null,
   "id": "7848ef59-63d2-40a8-84ad-2f846e631810",
   "metadata": {
    "slideshow": {
     "slide_type": "-"
    }
   },
   "outputs": [],
   "source": [
    "die = Table().with_column('Face', np.arange(1, 7))\n",
    "die"
   ]
  },
  {
   "cell_type": "code",
   "execution_count": null,
   "id": "81cf98b8-2257-4e09-beda-71cabb017c7a",
   "metadata": {
    "slideshow": {
     "slide_type": "fragment"
    }
   },
   "outputs": [],
   "source": [
    "..."
   ]
  },
  {
   "cell_type": "code",
   "execution_count": null,
   "id": "b1678a24-b96d-4d8e-853b-3dfa8dae80c9",
   "metadata": {
    "slideshow": {
     "slide_type": "subslide"
    }
   },
   "outputs": [],
   "source": [
    "..."
   ]
  },
  {
   "cell_type": "markdown",
   "id": "b104bab5-e9ba-4edd-9406-3d50cf765817",
   "metadata": {
    "slideshow": {
     "slide_type": "notes"
    }
   },
   "source": [
    "Update the bins and randomly sample for a few different sample sizes."
   ]
  },
  {
   "cell_type": "code",
   "execution_count": null,
   "id": "6e2e1887-2b70-465b-857d-b0fae555a06a",
   "metadata": {
    "slideshow": {
     "slide_type": "subslide"
    }
   },
   "outputs": [],
   "source": [
    "roll_bins = np.arange(0.5, 6.6, 1)\n",
    "die.hist(bins=...)"
   ]
  },
  {
   "cell_type": "code",
   "execution_count": null,
   "id": "8bbdb1e5-2934-4217-a7ea-7dacf4b43039",
   "metadata": {
    "slideshow": {
     "slide_type": "subslide"
    }
   },
   "outputs": [],
   "source": [
    "die.sample(...).hist(bins=roll_bins)"
   ]
  },
  {
   "cell_type": "code",
   "execution_count": null,
   "id": "c1d84795-4282-4729-8a8a-ca7e724905d3",
   "metadata": {
    "slideshow": {
     "slide_type": "subslide"
    }
   },
   "outputs": [],
   "source": [
    "die.sample(...).hist(bins=roll_bins)"
   ]
  },
  {
   "cell_type": "code",
   "execution_count": null,
   "id": "d20c5803-057c-4062-b4e8-4ef3fa53917b",
   "metadata": {
    "slideshow": {
     "slide_type": "subslide"
    }
   },
   "outputs": [],
   "source": [
    "die.sample(...).hist(bins=roll_bins)"
   ]
  },
  {
   "cell_type": "markdown",
   "id": "0bbb32b1-6ab1-415b-b4bf-0a88c5105020",
   "metadata": {
    "slideshow": {
     "slide_type": "fragment"
    }
   },
   "source": [
    "---"
   ]
  },
  {
   "cell_type": "markdown",
   "id": "1b520c3a-dbf8-4d80-bc1a-649467e251ec",
   "metadata": {
    "slideshow": {
     "slide_type": "slide"
    }
   },
   "source": [
    "## Law of Large Numbers"
   ]
  },
  {
   "cell_type": "markdown",
   "id": "1aa14965-25d5-4565-833d-b1f5787ffb2a",
   "metadata": {
    "slideshow": {
     "slide_type": "subslide"
    }
   },
   "source": [
    "### Law of Averages / Law of Large Numbers"
   ]
  },
  {
   "cell_type": "markdown",
   "id": "62bbc9c1-664d-4063-88ad-ea4867f98a2f",
   "metadata": {
    "slideshow": {
     "slide_type": "-"
    }
   },
   "source": [
    "* If a chance experiment is repeated many times, independently and under the same conditions, then the proportion of times that an event occurs gets closer to the theoretical probability of the event\n",
    "* As you increase the number of rolls of a six-sided die, the proportion of times you see the face with five spots gets closer to 1/6\n"
   ]
  },
  {
   "cell_type": "markdown",
   "id": "f944a328-3c78-4476-a153-290909dff217",
   "metadata": {
    "slideshow": {
     "slide_type": "subslide"
    }
   },
   "source": [
    "### Empirical Distribution of a Sample"
   ]
  },
  {
   "cell_type": "markdown",
   "id": "f28e7c54-bc35-4036-8c68-9a9cd2f86b3d",
   "metadata": {
    "slideshow": {
     "slide_type": "-"
    }
   },
   "source": [
    "If the sample size is large, then the empirical distribution of a uniform random sample resembles the distribution of the population, with high probability.\n"
   ]
  },
  {
   "cell_type": "markdown",
   "id": "9d01a7a2-3342-4c9d-b8c0-1fe2d998f4ed",
   "metadata": {
    "slideshow": {
     "slide_type": "subslide"
    }
   },
   "source": [
    "### Demo: Large Random Samples"
   ]
  },
  {
   "cell_type": "markdown",
   "id": "9502d51a-2a96-42b8-8fb5-c5b4b80dbe36",
   "metadata": {
    "slideshow": {
     "slide_type": "notes"
    }
   },
   "source": [
    "Load the flight delay data in `delay_july_2022.csv` sourced from the [Bureau of Transportation Statistics's Airline On-Time Performance Data](https://www.transtats.bts.gov/Tables.asp?QO_VQ=EFD&QO_anzr=Nv4yv0r%FDb0-gvzr%FDcr4s14zn0pr%FDQn6n&QO_fu146_anzr=b0-gvzr)"
   ]
  },
  {
   "cell_type": "code",
   "execution_count": null,
   "id": "3c5b93ab-bf94-4a28-8dce-ea3699dcbc40",
   "metadata": {
    "slideshow": {
     "slide_type": "-"
    }
   },
   "outputs": [],
   "source": [
    "delays = Table.read_table('./data/delays_july_2022.csv')\n",
    "delays"
   ]
  },
  {
   "cell_type": "markdown",
   "id": "e7153637-ff13-4634-b564-3a774960697f",
   "metadata": {
    "slideshow": {
     "slide_type": "notes"
    }
   },
   "source": [
    "Narrow the data to flights that have left from SFO."
   ]
  },
  {
   "cell_type": "code",
   "execution_count": null,
   "id": "5ab50331-3884-49e6-ae38-91e34207b2ac",
   "metadata": {
    "slideshow": {
     "slide_type": "subslide"
    }
   },
   "outputs": [],
   "source": [
    "sfo_delays = delays.where('ORIGIN', 'SFO').drop(0, 1, 3).relabeled('ARR_DELAY', 'DELAY')\n",
    "sfo_delays"
   ]
  },
  {
   "cell_type": "markdown",
   "id": "829f6e32-c375-46cb-a49f-f716d94dea17",
   "metadata": {},
   "source": [
    "Remove `nan` values from the data set."
   ]
  },
  {
   "cell_type": "code",
   "execution_count": null,
   "id": "3e74fcb4-12de-465e-9168-fc9397048d96",
   "metadata": {
    "slideshow": {
     "slide_type": "-"
    }
   },
   "outputs": [],
   "source": [
    "sfo_delays = sfo_delays.sort('DELAY', True)\n",
    "sfo_delays"
   ]
  },
  {
   "cell_type": "markdown",
   "id": "4dd6096a-f675-48c6-a456-2ed4b4c4be76",
   "metadata": {},
   "source": [
    "**You are not responsible for understanding how to make the nan filter.**"
   ]
  },
  {
   "cell_type": "code",
   "execution_count": null,
   "id": "87de83ab-fcce-47a5-9465-0d52463a8417",
   "metadata": {
    "slideshow": {
     "slide_type": "subslide"
    }
   },
   "outputs": [],
   "source": [
    "nan_filter = np.invert(np.isnan(sfo_delays.column('DELAY')))\n",
    "nan_filter"
   ]
  },
  {
   "cell_type": "code",
   "execution_count": null,
   "id": "76df5036-57da-418d-a221-f40e648b15c4",
   "metadata": {
    "slideshow": {
     "slide_type": "-"
    }
   },
   "outputs": [],
   "source": [
    "sfo_delays = sfo_delays.where(...)\n",
    "sfo_delays"
   ]
  },
  {
   "cell_type": "markdown",
   "id": "2f9d02b6-9176-42c4-819f-6fd1dfbb41ef",
   "metadata": {
    "slideshow": {
     "slide_type": "notes"
    }
   },
   "source": [
    "Visualize the distribution of flight delays in the delay data."
   ]
  },
  {
   "cell_type": "code",
   "execution_count": null,
   "id": "93692f19-0151-4d83-909d-4c60ae83f66a",
   "metadata": {
    "slideshow": {
     "slide_type": "subslide"
    },
    "tags": []
   },
   "outputs": [],
   "source": [
    "sfo_delays.hist('DELAY', unit='Minute')"
   ]
  },
  {
   "cell_type": "code",
   "execution_count": null,
   "id": "16d7fcc2-756a-43ea-b98b-4c07cdb9c64b",
   "metadata": {
    "slideshow": {
     "slide_type": "subslide"
    }
   },
   "outputs": [],
   "source": [
    "min(sfo_delays.column('DELAY'))"
   ]
  },
  {
   "cell_type": "code",
   "execution_count": null,
   "id": "b57fd493-51bc-4202-8d7b-fcfca30669fc",
   "metadata": {
    "slideshow": {
     "slide_type": "fragment"
    }
   },
   "outputs": [],
   "source": [
    "max(sfo_delays.column('DELAY'))"
   ]
  },
  {
   "cell_type": "code",
   "execution_count": null,
   "id": "5ea6a404-7416-4b30-a820-f3bf7b62810b",
   "metadata": {
    "slideshow": {
     "slide_type": "subslide"
    }
   },
   "outputs": [],
   "source": [
    "bins = np.arange(-60, 120, 5)\n",
    "sfo_delays.hist('DELAY', bins = bins, unit='Minute')"
   ]
  },
  {
   "cell_type": "code",
   "execution_count": null,
   "id": "46508897-a3b3-44b0-ad95-d8404a859a42",
   "metadata": {
    "slideshow": {
     "slide_type": "subslide"
    }
   },
   "outputs": [],
   "source": [
    "np.average(sfo_delays.column('DELAY'))"
   ]
  },
  {
   "cell_type": "code",
   "execution_count": null,
   "id": "a432118e-7ebc-411b-84b9-583a5ae8358f",
   "metadata": {
    "slideshow": {
     "slide_type": "fragment"
    }
   },
   "outputs": [],
   "source": [
    "np.median(sfo_delays.column('DELAY'))"
   ]
  },
  {
   "cell_type": "markdown",
   "id": "0686d081-125e-4a06-8e2e-80da7adef823",
   "metadata": {
    "slideshow": {
     "slide_type": "notes"
    }
   },
   "source": [
    "Randomly sample 10 and 1000 flights from the delay data and visualize the distributions of the samples."
   ]
  },
  {
   "cell_type": "code",
   "execution_count": null,
   "id": "15158990-9d86-4a84-8b1b-4c8d079b27b8",
   "metadata": {
    "slideshow": {
     "slide_type": "subslide"
    }
   },
   "outputs": [],
   "source": [
    "sfo_delays.sample(10).hist('DELAY', bins = bins, unit='Minute')"
   ]
  },
  {
   "cell_type": "code",
   "execution_count": null,
   "id": "ad89b785-290d-4b3d-99f7-93c2bb4a2dca",
   "metadata": {
    "slideshow": {
     "slide_type": "subslide"
    }
   },
   "outputs": [],
   "source": [
    "sfo_delays.sample(1000).hist('DELAY', bins = bins, unit='Minute')"
   ]
  },
  {
   "cell_type": "markdown",
   "id": "603288b9-285a-4621-85a4-46568851864a",
   "metadata": {
    "slideshow": {
     "slide_type": "fragment"
    }
   },
   "source": [
    "---"
   ]
  },
  {
   "cell_type": "markdown",
   "id": "681cefc0-1032-4bf6-9eaa-e431bbf29b33",
   "metadata": {
    "slideshow": {
     "slide_type": "slide"
    }
   },
   "source": [
    "## A Statistic"
   ]
  },
  {
   "cell_type": "markdown",
   "id": "480c397e-22be-4045-a25d-0e7d028eb567",
   "metadata": {
    "slideshow": {
     "slide_type": "subslide"
    }
   },
   "source": [
    "### Inference"
   ]
  },
  {
   "cell_type": "markdown",
   "id": "55c60937-c437-4e67-a77b-ff2ce19f7e22",
   "metadata": {
    "slideshow": {
     "slide_type": "-"
    }
   },
   "source": [
    "* Statistical Inference: Making conclusions based on data in random samples\n",
    "* Example: Use the data to guess the value of an unknown and fixed number by creating an estimate of the unknown quantity that depends on the random sample.\n",
    "\n"
   ]
  },
  {
   "cell_type": "markdown",
   "id": "2cbb0096-79f3-409f-9c0f-b138fb36cbc9",
   "metadata": {
    "slideshow": {
     "slide_type": "subslide"
    }
   },
   "source": [
    "### Terminology"
   ]
  },
  {
   "cell_type": "markdown",
   "id": "5e35f1aa-8d28-4ee1-8abd-bfaf06cc6eb9",
   "metadata": {
    "slideshow": {
     "slide_type": "-"
    }
   },
   "source": [
    "* Parameter: A number associated with the population\n",
    "* Statistic: A number calculated from the sample\n",
    "* A statistic can be used as an estimate of a parameter"
   ]
  },
  {
   "cell_type": "markdown",
   "id": "c0867f3b-c7d0-49de-9f8e-1de872b22232",
   "metadata": {
    "slideshow": {
     "slide_type": "subslide"
    }
   },
   "source": [
    "### Demo: Simulating Statistics"
   ]
  },
  {
   "cell_type": "markdown",
   "id": "ef48018d-af4f-4876-885f-192bf60419d8",
   "metadata": {
    "slideshow": {
     "slide_type": "notes"
    }
   },
   "source": [
    "Calculate the median parameter for the flight delays and compare it to the median statistic associated with a random sample of 10 flights."
   ]
  },
  {
   "cell_type": "code",
   "execution_count": null,
   "id": "1dac16c3-447d-4ebe-8ae2-e8ead80792cb",
   "metadata": {
    "slideshow": {
     "slide_type": "-"
    }
   },
   "outputs": [],
   "source": [
    "np.median(sfo_delays.column('DELAY'))"
   ]
  },
  {
   "cell_type": "code",
   "execution_count": null,
   "id": "fecd577a-6867-4558-8f86-2b57fb87396e",
   "metadata": {
    "slideshow": {
     "slide_type": "fragment"
    }
   },
   "outputs": [],
   "source": [
    "np.median(sfo_delays.sample(10).column('DELAY'))"
   ]
  },
  {
   "cell_type": "markdown",
   "id": "348f7334-a4c5-40f1-8da0-03d597a4c90f",
   "metadata": {
    "slideshow": {
     "slide_type": "notes"
    }
   },
   "source": [
    "Define a function that randomly samples delay data for an inputted sample size and returns the median delay for that sample."
   ]
  },
  {
   "cell_type": "code",
   "execution_count": null,
   "id": "12c27ac7-64b4-4612-b414-ec2d731a723a",
   "metadata": {
    "slideshow": {
     "slide_type": "subslide"
    }
   },
   "outputs": [],
   "source": [
    "def sample_median(size):\n",
    "    ..."
   ]
  },
  {
   "cell_type": "code",
   "execution_count": null,
   "id": "188d827b-9cac-4ecd-aae3-f7e0f8fab1c3",
   "metadata": {
    "slideshow": {
     "slide_type": "fragment"
    }
   },
   "outputs": [],
   "source": [
    "sample_median(10)"
   ]
  },
  {
   "cell_type": "markdown",
   "id": "c5a58eab-5f18-4e8f-ba4d-56bdcd5eee04",
   "metadata": {
    "slideshow": {
     "slide_type": "notes"
    }
   },
   "source": [
    "Simulate randomly sampling 10 flights 1000 times and storing the sample delay medians for each iteration. Add the results to a table and visualize the sampling distribution."
   ]
  },
  {
   "cell_type": "code",
   "execution_count": null,
   "id": "ee737bf6-42a2-405e-800a-7f10b9ebe2ef",
   "metadata": {
    "slideshow": {
     "slide_type": "subslide"
    }
   },
   "outputs": [],
   "source": [
    "sample_medians = ...\n",
    "\n",
    "..."
   ]
  },
  {
   "cell_type": "code",
   "execution_count": null,
   "id": "5bcdc4c1-e9ee-4bba-a7cb-30b34fb3a468",
   "metadata": {
    "slideshow": {
     "slide_type": "fragment"
    }
   },
   "outputs": [],
   "source": [
    "Table().with_column('Sample medians', ...).hist(bins = np.arange(-30,20), unit='Minute')"
   ]
  },
  {
   "cell_type": "markdown",
   "id": "b68a436d-5ac7-458c-9212-090b0def8841",
   "metadata": {
    "slideshow": {
     "slide_type": "notes"
    }
   },
   "source": [
    "Repeat the sample simulation except use a sample size of 1000, instead of 10."
   ]
  },
  {
   "cell_type": "code",
   "execution_count": null,
   "id": "94780a73-c414-4fd2-8248-846751831be8",
   "metadata": {
    "slideshow": {
     "slide_type": "subslide"
    }
   },
   "outputs": [],
   "source": [
    "..."
   ]
  },
  {
   "cell_type": "code",
   "execution_count": null,
   "id": "fe2ee98a-09fe-4a73-8dcb-53b3acd640f9",
   "metadata": {
    "slideshow": {
     "slide_type": "fragment"
    }
   },
   "outputs": [],
   "source": [
    "Table().with_column('Sample medians', ...).hist(bins = np.arange(-30,20), unit='Minute')"
   ]
  },
  {
   "cell_type": "markdown",
   "id": "b46f340a-731e-4e2b-a557-a2b131bd0423",
   "metadata": {
    "slideshow": {
     "slide_type": "subslide"
    }
   },
   "source": [
    "### Probability Distribution of a Statistic"
   ]
  },
  {
   "cell_type": "markdown",
   "id": "88a812b0-c595-4f41-b3e3-86a22d1ceedc",
   "metadata": {
    "slideshow": {
     "slide_type": "-"
    }
   },
   "source": [
    "* Values of a statistic vary because random samples vary\n",
    "* Sampling distribution (or probability distribution) of the statistic:\n",
    "    * All possible values of the statistic,\n",
    "    * and all the corresponding probabilities\n",
    "    * Can be hard to calculate\n",
    "        * Either have to do the math\n",
    "        * Or have to generate all possible samples and calculate the statistic based on each sample\n"
   ]
  },
  {
   "cell_type": "markdown",
   "id": "7d3402c2-af05-44ab-b896-ce8d298e4af0",
   "metadata": {
    "slideshow": {
     "slide_type": "subslide"
    }
   },
   "source": [
    "### Empirical Distribution of a Statistic"
   ]
  },
  {
   "cell_type": "markdown",
   "id": "19bf35c4-7659-4c6c-bf10-eef5231bab9a",
   "metadata": {
    "slideshow": {
     "slide_type": "-"
    }
   },
   "source": [
    "* Empirical distribution of the statistic:\n",
    "    * Based on simulated values of the statistic\n",
    "    * Consists of all the observed values of the statistic,\n",
    "    * and the proportion of times each value appeared\n",
    "* Good approximation to the probability distribution of the statistic if the number of repetitions in the simulation is large\n"
   ]
  },
  {
   "cell_type": "markdown",
   "id": "5d4541a7-3997-4083-895c-4a6be06c0c13",
   "metadata": {
    "slideshow": {
     "slide_type": "fragment"
    }
   },
   "source": [
    "---"
   ]
  },
  {
   "cell_type": "markdown",
   "id": "83ac6ddd-a98e-4294-a2d1-17ecb493ffaa",
   "metadata": {
    "slideshow": {
     "slide_type": "notes"
    }
   },
   "source": [
    "<footer>\n",
    "    <p>Adopted from UC Berkeley DATA 8 course materials.</p>\n",
    "    <p>This content is offered under a <a href=\"https://creativecommons.org/licenses/by-nc-sa/4.0/\">CC Attribution Non-Commercial Share Alike</a> license.</p>\n",
    "</footer>"
   ]
  }
 ],
 "metadata": {
  "kernelspec": {
   "display_name": "Python 3 (ipykernel)",
   "language": "python",
   "name": "python3"
  },
  "language_info": {
   "codemirror_mode": {
    "name": "ipython",
    "version": 3
   },
   "file_extension": ".py",
   "mimetype": "text/x-python",
   "name": "python",
   "nbconvert_exporter": "python",
   "pygments_lexer": "ipython3",
   "version": "3.10.12"
  }
 },
 "nbformat": 4,
 "nbformat_minor": 5
}
