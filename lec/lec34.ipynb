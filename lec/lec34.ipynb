{
 "cells": [
  {
   "cell_type": "markdown",
   "id": "5ce205d7-bab4-436a-8801-4472bb108b38",
   "metadata": {
    "editable": true,
    "slideshow": {
     "slide_type": ""
    },
    "tags": []
   },
   "source": [
    "<div style=\"width: 38.5%;\">\n",
    "    <p><strong>City College of San Francisco</strong><p>\n",
    "    <hr>\n",
    "    <p>MATH 108 - Foundations of Data Science</p>\n",
    "</div>"
   ]
  },
  {
   "cell_type": "markdown",
   "id": "4bba7134-f35a-41fc-bdd9-87940fb486d8",
   "metadata": {
    "slideshow": {
     "slide_type": "-"
    }
   },
   "source": [
    "# Lecture 34: Least Squares"
   ]
  },
  {
   "cell_type": "markdown",
   "id": "01ba0d76",
   "metadata": {},
   "source": [
    "Associated Textbook Sections: [15.3, 15.4](https://inferentialthinking.com/chapters/15/3/Method_of_Least_Squares.html)"
   ]
  },
  {
   "cell_type": "markdown",
   "id": "64cbe4d2-80bb-41c4-9467-373e0e9d9d76",
   "metadata": {
    "slideshow": {
     "slide_type": "slide"
    }
   },
   "source": [
    "## Outline"
   ]
  },
  {
   "cell_type": "markdown",
   "id": "4c1a2a7b",
   "metadata": {},
   "source": [
    "* [Least Squares](#Least-Squares)\n",
    "* [Numerical Optimization](#Numerical-Optimization)\n",
    "* [Nonlinear Regression](#Nonlinear-Regression)"
   ]
  },
  {
   "cell_type": "markdown",
   "id": "5c99860d-9203-434c-8fdc-9393281e2a92",
   "metadata": {
    "slideshow": {
     "slide_type": "slide"
    }
   },
   "source": [
    "## Set Up the Notebook"
   ]
  },
  {
   "cell_type": "code",
   "execution_count": null,
   "id": "d91939a2-e468-4007-a4e1-95d836472f84",
   "metadata": {
    "slideshow": {
     "slide_type": "-"
    }
   },
   "outputs": [],
   "source": [
    "from datascience import *\n",
    "import numpy as np\n",
    "%matplotlib inline\n",
    "import matplotlib.pyplot as plt\n",
    "plt.style.use('fivethirtyeight')\n",
    "\n",
    "# Some functions for plotting. You don't have to understand how any\n",
    "# of the functions in this cell work, since they use things we \n",
    "# haven't learned about in this course.\n",
    "\n",
    "def resize_window(lim=3.5):\n",
    "    plt.xlim(-lim, lim)\n",
    "    plt.ylim(-lim, lim)\n",
    "    \n",
    "def draw_line(slope=0, intercept=0, x=make_array(-4, 4), color='r'):\n",
    "    y = x*slope + intercept\n",
    "    plt.plot(x, y, color=color)\n",
    "    \n",
    "def draw_vertical_line(x_position, color='black'):\n",
    "    x = make_array(x_position, x_position)\n",
    "    y = make_array(-4, 4)\n",
    "    plt.plot(x, y, color=color)\n",
    "    \n",
    "def make_correlated_data(r):\n",
    "    x = np.random.normal(0, 1, 1000)\n",
    "    z = np.random.normal(0, 1, 1000)\n",
    "    y = r*x + (np.sqrt(1-r**2))*z\n",
    "    return x, y\n",
    "\n",
    "def r_table(r):\n",
    "    \"\"\"\n",
    "    Generate a table of 1000 x,y data points in standard units\n",
    "    whose correlation is approximately equal to r\n",
    "    \"\"\"\n",
    "    np.random.seed(8)\n",
    "    x, y = make_correlated_data(r)\n",
    "    return Table().with_columns('x', x, 'y', y)\n",
    "\n",
    "def standard_units(x):\n",
    "    \"\"\"Converts an array x to standard units\"\"\"\n",
    "    return (x - np.mean(x)) / np.std(x)\n",
    "\n",
    "def correlation(t, x, y):\n",
    "    x_su = standard_units(t.column(x))\n",
    "    y_su = standard_units(t.column(y))\n",
    "    return np.mean(x_su * y_su)\n",
    "\n",
    "def slope(t, x, y):\n",
    "    return correlation(t, x, y) * np.std(t.column(y)) / np.std(t.column(x)) \n",
    "\n",
    "def intercept(t, x, y):\n",
    "    return np.mean(t.column(y)) - slope(t, x, y) * np.mean(t.column(x)) "
   ]
  },
  {
   "cell_type": "markdown",
   "id": "2f528397-092b-4244-8454-a549cbfec5e6",
   "metadata": {
    "slideshow": {
     "slide_type": "fragment"
    }
   },
   "source": [
    "---"
   ]
  },
  {
   "cell_type": "markdown",
   "id": "24a926db",
   "metadata": {},
   "source": [
    "## Least Squares"
   ]
  },
  {
   "cell_type": "markdown",
   "id": "146f0155",
   "metadata": {},
   "source": [
    "### Demonstration"
   ]
  },
  {
   "cell_type": "code",
   "execution_count": null,
   "id": "8365100f",
   "metadata": {},
   "outputs": [],
   "source": [
    "demographics = Table().read_table('./data/district_demographics2016.csv')\n",
    "demographics.scatter('College%', 'Median Income')\n",
    "plt.title('USA Congressional Districts, 2016')\n",
    "plt.show()"
   ]
  },
  {
   "cell_type": "code",
   "execution_count": null,
   "id": "0767e4de",
   "metadata": {},
   "outputs": [],
   "source": [
    "demographics"
   ]
  },
  {
   "cell_type": "markdown",
   "id": "d5f17759",
   "metadata": {},
   "source": [
    "Based only on the above graph, which must be true?\n",
    "1. Going to college causes people to get higher incomes.\n",
    "2. For any district, having more college-educated people live there causes median incomes to rise.\n",
    "3. For any district, having a higher median income causes more college-educated people to move there."
   ]
  },
  {
   "cell_type": "markdown",
   "id": "39af7e9c",
   "metadata": {},
   "source": [
    "### Error in Estimation"
   ]
  },
  {
   "cell_type": "markdown",
   "id": "f322860e",
   "metadata": {},
   "source": [
    "* `error = actual value - estimate`\n",
    "* Typically, some errors are positive and some negative\n",
    "* To measure the rough size of the errors\n",
    "    * square the errors to eliminate cancellation\n",
    "    * take the mean of the squared errors\n",
    "    * take the square root to fix the units\n",
    "    * root mean square error (rmse)"
   ]
  },
  {
   "cell_type": "markdown",
   "id": "f80ab03b",
   "metadata": {},
   "source": [
    "### Demo: Regression line vs other lines"
   ]
  },
  {
   "cell_type": "markdown",
   "id": "54ed9c55",
   "metadata": {},
   "source": [
    "Use the following functions with the 2016 demographics data to explore the relationship between Median Income and College completion within the US voting districts."
   ]
  },
  {
   "cell_type": "code",
   "execution_count": null,
   "id": "e9184479",
   "metadata": {},
   "outputs": [],
   "source": [
    "def demographics_errors(slope, intercept):\n",
    "    # Use four convenient points from the original data\n",
    "    sample = [[14.7, 33995], [19.1, 61454], [50.7, 71183], [59.5, 105918]]\n",
    "    demographics.scatter('College%', 'Median Income', alpha=0.5)\n",
    "    xlims = make_array(5, 75)\n",
    "    # Plot a line with the slope and intercept you specified:\n",
    "    plt.plot(xlims, slope * xlims + intercept, lw=4)\n",
    "    # Plot red lines from each of the four points to the line\n",
    "    for x, y in sample:\n",
    "        plt.plot([x, x], [y, slope * x + intercept], color='r', lw=4)"
   ]
  },
  {
   "cell_type": "code",
   "execution_count": null,
   "id": "18280060",
   "metadata": {},
   "outputs": [],
   "source": [
    "def fitted_values(t, x, y):\n",
    "    \"\"\"Return an array of the regressions estimates at all the x values\"\"\"\n",
    "    a = slope(t, x, y)\n",
    "    b = intercept(t, x, y)\n",
    "    return a*t.column(x) + b"
   ]
  },
  {
   "cell_type": "code",
   "execution_count": null,
   "id": "a2af1680",
   "metadata": {},
   "outputs": [],
   "source": [
    "demographics = demographics.drop(\n",
    "    'State', 'District')\n",
    "demographics.show(5)"
   ]
  },
  {
   "cell_type": "code",
   "execution_count": null,
   "id": "08ce5ceb",
   "metadata": {},
   "outputs": [],
   "source": [
    "demographics.scatter('College%', 'Median Income')"
   ]
  },
  {
   "cell_type": "code",
   "execution_count": null,
   "id": "a81edf07",
   "metadata": {},
   "outputs": [],
   "source": [
    "correlation(demographics, 'College%', 'Median Income')"
   ]
  },
  {
   "cell_type": "markdown",
   "id": "9e4f16a3",
   "metadata": {},
   "source": [
    "Determine the slope and intercept for the linear regression line to predict median income values from college% values."
   ]
  },
  {
   "cell_type": "code",
   "execution_count": null,
   "id": "9a7c954d",
   "metadata": {},
   "outputs": [],
   "source": [
    "regression_slope = ...\n",
    "regression_intercept = ...\n",
    "regression_slope, regression_intercept"
   ]
  },
  {
   "cell_type": "code",
   "execution_count": null,
   "id": "2fe78494",
   "metadata": {},
   "outputs": [],
   "source": [
    "predicted = fitted_values(demographics, 'College%', 'Median Income')"
   ]
  },
  {
   "cell_type": "code",
   "execution_count": null,
   "id": "f3044a03",
   "metadata": {},
   "outputs": [],
   "source": [
    "demographics = demographics.with_column(\n",
    "    'Linear Prediction', predicted)\n",
    "demographics.scatter('College%')"
   ]
  },
  {
   "cell_type": "markdown",
   "id": "9bd4b01d",
   "metadata": {},
   "source": [
    "Analyze the errors formed when applying the predictions on the provided `College%` data values."
   ]
  },
  {
   "cell_type": "code",
   "execution_count": null,
   "id": "3d692fb7",
   "metadata": {},
   "outputs": [],
   "source": [
    "actual = ...\n",
    "errors = ..."
   ]
  },
  {
   "cell_type": "code",
   "execution_count": null,
   "id": "dbb8c16b",
   "metadata": {},
   "outputs": [],
   "source": [
    "demographics.with_column('Error', errors)"
   ]
  },
  {
   "cell_type": "code",
   "execution_count": null,
   "id": "09f69639",
   "metadata": {},
   "outputs": [],
   "source": [
    "np.mean(errors)"
   ]
  },
  {
   "cell_type": "code",
   "execution_count": null,
   "id": "bfb04be9",
   "metadata": {},
   "outputs": [],
   "source": [
    "np.mean(errors ** 2) ** 0.5"
   ]
  },
  {
   "cell_type": "code",
   "execution_count": null,
   "id": "9ba80274",
   "metadata": {},
   "outputs": [],
   "source": [
    "demographics_errors(regression_slope, regression_intercept)"
   ]
  },
  {
   "cell_type": "code",
   "execution_count": null,
   "id": "b42995ef",
   "metadata": {},
   "outputs": [],
   "source": [
    "# takes any slope, any intercept\n",
    "\n",
    "demographics_errors(1500, 20000)"
   ]
  },
  {
   "cell_type": "code",
   "execution_count": null,
   "id": "ad5d84b9",
   "metadata": {},
   "outputs": [],
   "source": [
    "demographics_errors(-1000, 75000)"
   ]
  },
  {
   "cell_type": "markdown",
   "id": "c8631013",
   "metadata": {},
   "source": [
    "### Least Squares Line"
   ]
  },
  {
   "cell_type": "markdown",
   "id": "250070da",
   "metadata": {},
   "source": [
    "* Minimizes the root mean squared error (rmse) among all lines\n",
    "* Equivalently, minimizes the mean squared error (mse) among all lines\n",
    "* Common Names:\n",
    "    * \"Best fit\" line\n",
    "    * Least squares line\n",
    "    * Regression line\n"
   ]
  },
  {
   "cell_type": "markdown",
   "id": "cbc75273",
   "metadata": {},
   "source": [
    "### Demo: Root Mean Square Error"
   ]
  },
  {
   "cell_type": "markdown",
   "id": "29f4b197",
   "metadata": {},
   "source": [
    "Explore the root mean square error through the demographics relationship."
   ]
  },
  {
   "cell_type": "code",
   "execution_count": null,
   "id": "a2ef5487",
   "metadata": {},
   "outputs": [],
   "source": [
    "def show_demographics_rmse(slope, intercept):\n",
    "    demographics_errors(slope, intercept)\n",
    "    x = demographics.column('College%')\n",
    "    y = demographics.column('Median Income')\n",
    "    prediction = slope * x + intercept\n",
    "    mse = np.mean((y - prediction) ** 2)\n",
    "    print(\"Root mean squared error:\", round(mse ** 0.5, 2))"
   ]
  },
  {
   "cell_type": "code",
   "execution_count": null,
   "id": "98ea749a",
   "metadata": {},
   "outputs": [],
   "source": [
    "show_demographics_rmse(-1000, 75000)"
   ]
  },
  {
   "cell_type": "code",
   "execution_count": null,
   "id": "f357a8d5",
   "metadata": {},
   "outputs": [],
   "source": [
    "show_demographics_rmse(1500, 20000)"
   ]
  },
  {
   "cell_type": "code",
   "execution_count": null,
   "id": "d1ab316f",
   "metadata": {},
   "outputs": [],
   "source": [
    "show_demographics_rmse(regression_slope, regression_intercept)"
   ]
  },
  {
   "cell_type": "markdown",
   "id": "99c702e6",
   "metadata": {},
   "source": [
    "---"
   ]
  },
  {
   "cell_type": "markdown",
   "id": "facfc32b",
   "metadata": {},
   "source": [
    "## Numerical Optimization"
   ]
  },
  {
   "cell_type": "markdown",
   "id": "fd7e9a56",
   "metadata": {},
   "source": [
    "### Numerical Optimization"
   ]
  },
  {
   "cell_type": "markdown",
   "id": "e98ff956",
   "metadata": {},
   "source": [
    "* Numerical minimization is approximate but effective\n",
    "* Lots of machine learning uses numerical minimization\n",
    "* If the function `mse(a, b)` returns the mse of estimation using the line `estimate = ax + b`, then `minimize(mse)` returns array `[slope, intercept]`\n",
    "* the values are the slope and the intercept of the line that minimizes the mse among all possible lines."
   ]
  },
  {
   "cell_type": "markdown",
   "id": "1e66045e",
   "metadata": {},
   "source": [
    "### Demo: Numerical Optimization"
   ]
  },
  {
   "cell_type": "markdown",
   "id": "f6067773",
   "metadata": {},
   "source": [
    "Explore the concept of numerical optimization."
   ]
  },
  {
   "cell_type": "code",
   "execution_count": null,
   "id": "56267a47",
   "metadata": {},
   "outputs": [],
   "source": [
    "x = np.arange(1, 3, 0.1)\n",
    "y = (x-2)**2 + 3\n",
    "Table().with_columns('x', x, 'y', y).plot('x')"
   ]
  },
  {
   "cell_type": "code",
   "execution_count": null,
   "id": "7481b116",
   "metadata": {},
   "outputs": [],
   "source": [
    "def f(x):\n",
    "    return ((x-2)**2) + 3"
   ]
  },
  {
   "cell_type": "code",
   "execution_count": null,
   "id": "bf4a75a5",
   "metadata": {},
   "outputs": [],
   "source": [
    "minimize(f)"
   ]
  },
  {
   "cell_type": "code",
   "execution_count": null,
   "id": "af1a0770",
   "metadata": {},
   "outputs": [],
   "source": [
    "x = np.arange(-1.5, 1.5, 0.05)\n",
    "y2 = 2 * np.sin(x*np.pi) + x ** 3 + x ** 4 \n",
    "Table().with_columns('x', x, 'y', y2).plot('x')"
   ]
  },
  {
   "cell_type": "code",
   "execution_count": null,
   "id": "c5321813",
   "metadata": {},
   "outputs": [],
   "source": [
    "def complicated_function(x):\n",
    "    return 2 * np.sin(x*np.pi) + x ** 3 + x ** 4 "
   ]
  },
  {
   "cell_type": "code",
   "execution_count": null,
   "id": "77ff9f12",
   "metadata": {},
   "outputs": [],
   "source": [
    "minimize(complicated_function)"
   ]
  },
  {
   "cell_type": "markdown",
   "id": "c6220e33",
   "metadata": {},
   "source": [
    "### Demo: Minimizing RMSE"
   ]
  },
  {
   "cell_type": "markdown",
   "id": "346474f6",
   "metadata": {},
   "source": [
    "Show how minimizing on the demographics rmse produces the same slope and intercept values found above. "
   ]
  },
  {
   "cell_type": "code",
   "execution_count": null,
   "id": "428de309",
   "metadata": {},
   "outputs": [],
   "source": [
    "def demographics_rmse(any_slope, any_intercept):\n",
    "    x = ...\n",
    "    y = ...\n",
    "    estimate = ...\n",
    "    return ..."
   ]
  },
  {
   "cell_type": "code",
   "execution_count": null,
   "id": "5a7fb89d",
   "metadata": {},
   "outputs": [],
   "source": [
    "demographics_rmse(1500, 20000)"
   ]
  },
  {
   "cell_type": "code",
   "execution_count": null,
   "id": "82afa186",
   "metadata": {},
   "outputs": [],
   "source": [
    "demographics_rmse(-1000, 75000)"
   ]
  },
  {
   "cell_type": "code",
   "execution_count": null,
   "id": "da62b5eb",
   "metadata": {},
   "outputs": [],
   "source": [
    "minimize(demographics_rmse)"
   ]
  },
  {
   "cell_type": "code",
   "execution_count": null,
   "id": "c14a198d",
   "metadata": {},
   "outputs": [],
   "source": [
    "make_array(regression_slope, regression_intercept)"
   ]
  },
  {
   "cell_type": "markdown",
   "id": "ea762e38",
   "metadata": {},
   "source": [
    "## Nonlinear Regression"
   ]
  },
  {
   "cell_type": "markdown",
   "id": "09f25799",
   "metadata": {},
   "source": [
    "### Nonlinear Regression"
   ]
  },
  {
   "cell_type": "code",
   "execution_count": null,
   "id": "492564ba",
   "metadata": {},
   "outputs": [],
   "source": [
    "shotput = Table.read_table('data/shotput.csv')\n",
    "shotput"
   ]
  },
  {
   "cell_type": "code",
   "execution_count": null,
   "id": "8c47f476",
   "metadata": {},
   "outputs": [],
   "source": [
    "shotput.scatter('Weight Lifted')"
   ]
  },
  {
   "cell_type": "code",
   "execution_count": null,
   "id": "9a2912fe",
   "metadata": {},
   "outputs": [],
   "source": [
    "def shotput_linear_rmse(any_slope, any_intercept):\n",
    "    x = shotput.column('Weight Lifted')\n",
    "    y = shotput.column('Shot Put Distance')\n",
    "    estimate = any_slope*x + any_intercept\n",
    "    return np.mean((y - estimate) ** 2) ** 0.5"
   ]
  },
  {
   "cell_type": "code",
   "execution_count": null,
   "id": "a6389e8d",
   "metadata": {},
   "outputs": [],
   "source": [
    "best_line = ...\n",
    "best_line"
   ]
  },
  {
   "cell_type": "code",
   "execution_count": null,
   "id": "94bf253f",
   "metadata": {},
   "outputs": [],
   "source": [
    "weights = shotput.column(0)"
   ]
  },
  {
   "cell_type": "code",
   "execution_count": null,
   "id": "591600db",
   "metadata": {},
   "outputs": [],
   "source": [
    "linear_fit = ...\n",
    "\n",
    "shotput.with_column(\n",
    "    'Best Line', linear_fit\n",
    ").scatter(0)"
   ]
  },
  {
   "cell_type": "markdown",
   "id": "f5806f94",
   "metadata": {},
   "source": [
    "#### Quadratic Function"
   ]
  },
  {
   "cell_type": "markdown",
   "id": "de041157",
   "metadata": {},
   "source": [
    "$$\n",
    "f(x) ~=~ ax^2 + bx + c\n",
    "$$\n",
    "for constants $a$, $b$, and $c$."
   ]
  },
  {
   "cell_type": "code",
   "execution_count": null,
   "id": "bd6fe9e4",
   "metadata": {},
   "outputs": [],
   "source": [
    "def shotput_quadratic_rmse(a, b, c):\n",
    "    x = shotput.column('Weight Lifted')\n",
    "    y = shotput.column('Shot Put Distance')\n",
    "    estimate = a*(x**2) + b*x + c\n",
    "    return np.mean((y - estimate) ** 2) ** 0.5"
   ]
  },
  {
   "cell_type": "code",
   "execution_count": null,
   "id": "db5496cd",
   "metadata": {},
   "outputs": [],
   "source": [
    "best_quad = minimize(shotput_quadratic_rmse)\n",
    "best_quad"
   ]
  },
  {
   "cell_type": "code",
   "execution_count": null,
   "id": "2d589af1",
   "metadata": {},
   "outputs": [],
   "source": [
    "# x = weight lifted = 100 kg\n",
    "# Then predicted shot put distance:\n",
    "\n",
    "(-0.00104) * (100 ** 2) + 0.2827 * 100 - 1.5318"
   ]
  },
  {
   "cell_type": "code",
   "execution_count": null,
   "id": "be640cd1",
   "metadata": {},
   "outputs": [],
   "source": [
    "quad_fit = best_quad.item(0)*(weights**2) + best_quad.item(1)*weights + best_quad.item(2)"
   ]
  },
  {
   "cell_type": "code",
   "execution_count": null,
   "id": "5e6acca2",
   "metadata": {},
   "outputs": [],
   "source": [
    "shotput.with_column('Best Quadratic Curve', quad_fit).scatter(0)"
   ]
  },
  {
   "cell_type": "markdown",
   "id": "a88e6477-73da-43a6-8732-e58f11ad65f6",
   "metadata": {
    "slideshow": {
     "slide_type": "fragment"
    }
   },
   "source": [
    "---"
   ]
  },
  {
   "cell_type": "markdown",
   "id": "bd157618-9e0d-4d06-be07-66be9cfd6498",
   "metadata": {
    "slideshow": {
     "slide_type": "notes"
    }
   },
   "source": [
    "<footer>\n",
    "    <p>Adopted from UC Berkeley DATA 8 course materials.</p>\n",
    "    <p>This content is offered under a <a href=\"https://creativecommons.org/licenses/by-nc-sa/4.0/\">CC Attribution Non-Commercial Share Alike</a> license.</p>\n",
    "</footer>"
   ]
  }
 ],
 "metadata": {
  "kernelspec": {
   "display_name": "Python 3 (ipykernel)",
   "language": "python",
   "name": "python3"
  },
  "language_info": {
   "codemirror_mode": {
    "name": "ipython",
    "version": 3
   },
   "file_extension": ".py",
   "mimetype": "text/x-python",
   "name": "python",
   "nbconvert_exporter": "python",
   "pygments_lexer": "ipython3",
   "version": "3.10.12"
  }
 },
 "nbformat": 4,
 "nbformat_minor": 5
}
