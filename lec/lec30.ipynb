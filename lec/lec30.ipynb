{
 "cells": [
  {
   "cell_type": "markdown",
   "id": "5ce205d7-bab4-436a-8801-4472bb108b38",
   "metadata": {
    "editable": true,
    "slideshow": {
     "slide_type": ""
    },
    "tags": []
   },
   "source": [
    "<div style=\"width: 38.5%;\">\n",
    "    <p><strong>City College of San Francisco</strong><p>\n",
    "    <hr>\n",
    "    <p>MATH 108 - Foundations of Data Science</p>\n",
    "</div>"
   ]
  },
  {
   "cell_type": "markdown",
   "id": "4bba7134-f35a-41fc-bdd9-87940fb486d8",
   "metadata": {
    "slideshow": {
     "slide_type": "-"
    }
   },
   "source": [
    "# Lecture 30: Sample Means"
   ]
  },
  {
   "cell_type": "markdown",
   "id": "11fbb1ac-ce61-48bc-ab68-e5f8fe36d291",
   "metadata": {
    "slideshow": {
     "slide_type": "-"
    }
   },
   "source": [
    "Associated Textbook Sections: [14.5](https://inferentialthinking.com/chapters/14/5/Variability_of_the_Sample_Mean.html)"
   ]
  },
  {
   "cell_type": "markdown",
   "id": "64cbe4d2-80bb-41c4-9467-373e0e9d9d76",
   "metadata": {
    "slideshow": {
     "slide_type": "slide"
    }
   },
   "source": [
    "## Outline"
   ]
  },
  {
   "cell_type": "markdown",
   "id": "460da5b5-7e3f-43b6-b1fe-42b11ac4c584",
   "metadata": {},
   "source": [
    "* [Central Limit Theorem](#Central-Limit-Theorem)\n",
    "* [Distribution of the Sample Average](#Distribution-of-the-Sample-Average)\n",
    "* [Center of the Distribution](#Center-of-the-Distribution)\n",
    "* [Variability of the Sample Average](#Variability-of-the-Sample-Average)"
   ]
  },
  {
   "cell_type": "markdown",
   "id": "5c99860d-9203-434c-8fdc-9393281e2a92",
   "metadata": {
    "slideshow": {
     "slide_type": "slide"
    }
   },
   "source": [
    "## Set Up the Notebook"
   ]
  },
  {
   "cell_type": "code",
   "execution_count": null,
   "id": "d91939a2-e468-4007-a4e1-95d836472f84",
   "metadata": {
    "slideshow": {
     "slide_type": "-"
    }
   },
   "outputs": [],
   "source": [
    "from datascience import *\n",
    "import numpy as np\n",
    "%matplotlib inline\n",
    "import matplotlib.pyplot as plt\n",
    "plt.style.use('fivethirtyeight')\n",
    "\n",
    "# Re-define function from lec29\n",
    "def standard_units(x):\n",
    "    \"\"\"Convert array x to standard units.\"\"\"\n",
    "    return (x - np.mean(x)) / np.std(x)\n",
    "\n",
    "# To create normally distributed values\n",
    "from scipy.stats import norm"
   ]
  },
  {
   "cell_type": "markdown",
   "id": "2f528397-092b-4244-8454-a549cbfec5e6",
   "metadata": {
    "slideshow": {
     "slide_type": "fragment"
    }
   },
   "source": [
    "---"
   ]
  },
  {
   "cell_type": "markdown",
   "id": "8603099d-4e35-498d-82f5-65c0c7a1d432",
   "metadata": {
    "slideshow": {
     "slide_type": "slide"
    }
   },
   "source": [
    "## Central Limit Theorem"
   ]
  },
  {
   "cell_type": "markdown",
   "id": "afcd77c2-4ef1-4c49-8182-34f53f6725bd",
   "metadata": {
    "slideshow": {
     "slide_type": "subslide"
    },
    "tags": []
   },
   "source": [
    "### Sample Averages"
   ]
  },
  {
   "cell_type": "markdown",
   "id": "d8ea0a7d-341e-4d2f-85c0-0db05987def3",
   "metadata": {
    "slideshow": {
     "slide_type": "-"
    }
   },
   "source": [
    "* The Central Limit Theorem describes how the normal distribution (a bell-shaped curve) is connected to random sample averages.\n",
    "* We care about sample averages because they estimate population averages."
   ]
  },
  {
   "cell_type": "markdown",
   "id": "8ad00760-34b2-4926-9994-0696953e0085",
   "metadata": {
    "slideshow": {
     "slide_type": "subslide"
    },
    "tags": []
   },
   "source": [
    "### Central Limit Theorem"
   ]
  },
  {
   "cell_type": "markdown",
   "id": "98b66b43-6556-4211-bbd7-b46a7d2a9f15",
   "metadata": {
    "slideshow": {
     "slide_type": "-"
    }
   },
   "source": [
    "> If the sample is large, and it is drawn at random with replacement, then regardless of the distribution of the population, the probability distribution of the sample sum (or the sample average) is roughly normal.\n",
    "\n"
   ]
  },
  {
   "cell_type": "markdown",
   "id": "d27ad09d-f1c3-4287-a707-7c7418d5e97a",
   "metadata": {
    "slideshow": {
     "slide_type": "subslide"
    },
    "tags": []
   },
   "source": [
    "### Demo: Central Limit Theorem"
   ]
  },
  {
   "cell_type": "markdown",
   "id": "3a02441b-56ed-48c4-8317-4265b8123f23",
   "metadata": {
    "slideshow": {
     "slide_type": "notes"
    },
    "tags": []
   },
   "source": [
    "Load SFO July flight delay data to demonstrate the Central Limit Theorem."
   ]
  },
  {
   "cell_type": "code",
   "execution_count": null,
   "id": "dc44b7d2-a38a-4ace-b210-f2aca59274ff",
   "metadata": {},
   "outputs": [],
   "source": [
    "sfo = (Table.read_table('./data/delays_july_2022.csv')\n",
    "            .where('ORIGIN', 'SFO'))\n",
    "nan_filter = np.invert(np.isnan(sfo.column('ARR_DELAY')))\n",
    "sfo = sfo.where(nan_filter)\n",
    "sfo"
   ]
  },
  {
   "cell_type": "markdown",
   "id": "eb3a0cfe-e230-47a0-8986-4bed8a5987dd",
   "metadata": {
    "slideshow": {
     "slide_type": "notes"
    },
    "tags": []
   },
   "source": [
    "Explore the distribution of flight delays."
   ]
  },
  {
   "cell_type": "code",
   "execution_count": null,
   "id": "bb76e49f-3fbf-45fc-8484-bbb5ccb60663",
   "metadata": {
    "slideshow": {
     "slide_type": "subslide"
    },
    "tags": []
   },
   "outputs": [],
   "source": [
    "sfo.hist('ARR_DELAY', bins=np.arange(-30, 150, 10))"
   ]
  },
  {
   "cell_type": "code",
   "execution_count": null,
   "id": "b38ac820-deaf-49b4-b941-0a67410af2db",
   "metadata": {
    "slideshow": {
     "slide_type": "fragment"
    },
    "tags": []
   },
   "outputs": [],
   "source": [
    "delays = sfo.column('ARR_DELAY')\n",
    "delay_mean = ...\n",
    "delay_sd = ...\n",
    "delay_mean, delay_sd"
   ]
  },
  {
   "cell_type": "markdown",
   "id": "7fe71d55-26ad-4dd1-a009-897315ff9b41",
   "metadata": {
    "slideshow": {
     "slide_type": "notes"
    },
    "tags": []
   },
   "source": [
    "Create a function that obtains a sample of a certain size `sample_size` from the `sfo` data and calculates the sample mean."
   ]
  },
  {
   "cell_type": "code",
   "execution_count": null,
   "id": "3a9d0e60-1030-447d-a424-50603fde39a4",
   "metadata": {
    "slideshow": {
     "slide_type": "subslide"
    },
    "tags": []
   },
   "outputs": [],
   "source": [
    "def one_sample_mean(sample_size):\n",
    "    \"\"\" Takes a sample from the population of flights and computes its mean\"\"\"\n",
    "    sampled_flights = ...\n",
    "    sampled_delays = ...\n",
    "    mean_delay = ...\n",
    "    return mean_delay"
   ]
  },
  {
   "cell_type": "code",
   "execution_count": null,
   "id": "0653e2ba-9bff-4cb1-a9ac-538903239422",
   "metadata": {
    "slideshow": {
     "slide_type": "fragment"
    },
    "tags": []
   },
   "outputs": [],
   "source": [
    "one_sample_mean(100)"
   ]
  },
  {
   "cell_type": "markdown",
   "id": "68377356-4a82-443f-b454-049e901e8c7f",
   "metadata": {
    "slideshow": {
     "slide_type": "notes"
    },
    "tags": []
   },
   "source": [
    "Define a function that replicates 1,000 times getting random samples of a certain size, `sample_size`, from the `sfo` data and calculating the sample mean for each sample."
   ]
  },
  {
   "cell_type": "code",
   "execution_count": null,
   "id": "50cd7fc2-17d5-4da4-86c7-0a27f895a421",
   "metadata": {
    "slideshow": {
     "slide_type": "subslide"
    },
    "tags": []
   },
   "outputs": [],
   "source": [
    "def ten_thousand_sample_means(sample_size):\n",
    "    means = make_array()\n",
    "    for i in np.arange(1_000):\n",
    "        one_mean = ...\n",
    "        means = np.append(means, one_mean)\n",
    "    return means"
   ]
  },
  {
   "cell_type": "markdown",
   "id": "2e8e71f1-be87-492a-b9d6-ff8b3f041782",
   "metadata": {
    "slideshow": {
     "slide_type": "notes"
    },
    "tags": []
   },
   "source": [
    "Explore the distribution of sample flight delay means for various sample sizes."
   ]
  },
  {
   "cell_type": "code",
   "execution_count": null,
   "id": "136d5b05-58cc-4211-9f91-69e911898547",
   "metadata": {
    "slideshow": {
     "slide_type": "subslide"
    },
    "tags": []
   },
   "outputs": [],
   "source": [
    "sample_means_100 = ten_thousand_sample_means(100)\n",
    "Table().with_column('Mean of 100 flight delays', sample_means_100).hist(bins=20)\n",
    "print('Population Average:', delay_mean)"
   ]
  },
  {
   "cell_type": "code",
   "execution_count": null,
   "id": "d5e804ae-a523-41cd-8326-e79b1499f72a",
   "metadata": {
    "slideshow": {
     "slide_type": "subslide"
    },
    "tags": []
   },
   "outputs": [],
   "source": [
    "sample_means_400 = ten_thousand_sample_means(400)\n",
    "Table().with_column('Mean of 400 flight delays', sample_means_400).hist(bins=20)\n",
    "print('Population Average:', delay_mean)"
   ]
  },
  {
   "cell_type": "code",
   "execution_count": null,
   "id": "5a35bc4d-f746-42c7-aa11-ae839c4807a9",
   "metadata": {
    "slideshow": {
     "slide_type": "subslide"
    },
    "tags": []
   },
   "outputs": [],
   "source": [
    "sample_means_900 = ten_thousand_sample_means(900)\n",
    "Table().with_column('Mean of 900 flight delays', sample_means_900).hist(bins=20)\n",
    "print('Population Average:', delay_mean)"
   ]
  },
  {
   "cell_type": "markdown",
   "id": "64c78550-ac7d-4ded-8755-ebdf365dced1",
   "metadata": {
    "slideshow": {
     "slide_type": "fragment"
    },
    "tags": []
   },
   "source": [
    "---"
   ]
  },
  {
   "cell_type": "markdown",
   "id": "4da9e325-cd2e-45f4-a533-d2b398e7db4d",
   "metadata": {
    "slideshow": {
     "slide_type": "slide"
    }
   },
   "source": [
    "## Distribution of the Sample Average"
   ]
  },
  {
   "cell_type": "markdown",
   "id": "a387c202-8994-406d-8665-94af761ad4ab",
   "metadata": {
    "slideshow": {
     "slide_type": "subslide"
    },
    "tags": []
   },
   "source": [
    "### Why is There a Distribution?"
   ]
  },
  {
   "cell_type": "markdown",
   "id": "a4765a19-80d0-4db1-b96b-2295866a3575",
   "metadata": {
    "slideshow": {
     "slide_type": "-"
    }
   },
   "source": [
    "* You have only one random sample, and it has only one average. \n",
    "* But the sample could have come out differently.\n",
    "* And then the sample average might have been different.\n",
    "* So there are many possible sample averages.\n"
   ]
  },
  {
   "cell_type": "code",
   "execution_count": null,
   "id": "9b13998e-e595-44e7-8920-48bc40034415",
   "metadata": {
    "slideshow": {
     "slide_type": "fragment"
    },
    "tags": []
   },
   "outputs": [],
   "source": [
    "print(f\"There are {sfo.num_rows * 400:,} possible sample averages for samples of size 400 from this data set.\")"
   ]
  },
  {
   "cell_type": "markdown",
   "id": "a750ade5-922a-438e-8271-9b17b2c5cd53",
   "metadata": {
    "slideshow": {
     "slide_type": "subslide"
    },
    "tags": []
   },
   "source": [
    "### Distribution of the Sample Average "
   ]
  },
  {
   "cell_type": "markdown",
   "id": "aa8ff0d5-92b0-4384-80b8-0f0ad1d823bc",
   "metadata": {
    "slideshow": {
     "slide_type": "-"
    }
   },
   "source": [
    "* Imagine all possible random samples of the same size as yours. There are lots of them.\n",
    "* Each of these samples has an average.\n",
    "* The distribution of the sample average is the distribution of the averages of all the possible samples."
   ]
  },
  {
   "cell_type": "markdown",
   "id": "d1195d82-0b57-470e-868d-991bee0f303e",
   "metadata": {
    "slideshow": {
     "slide_type": "subslide"
    },
    "tags": []
   },
   "source": [
    "### Demo: Distribution of the Sample Average"
   ]
  },
  {
   "cell_type": "markdown",
   "id": "a1eccb41-fe8d-46c7-a744-1781578c1b3b",
   "metadata": {
    "slideshow": {
     "slide_type": "notes"
    },
    "tags": []
   },
   "source": [
    "Compare the distribution of sample averages for a few different sample sizes."
   ]
  },
  {
   "cell_type": "code",
   "execution_count": null,
   "id": "72eebe82-14d6-4c3f-8426-fb327fde8497",
   "metadata": {},
   "outputs": [],
   "source": [
    "means_tbl = Table().with_columns(\n",
    "    '400', sample_means_400,\n",
    "    '900', sample_means_900,\n",
    ")"
   ]
  },
  {
   "cell_type": "code",
   "execution_count": null,
   "id": "dcf9ed5c-794d-4076-8c6f-ffcb2f8e5c92",
   "metadata": {
    "slideshow": {
     "slide_type": "subslide"
    },
    "tags": []
   },
   "outputs": [],
   "source": [
    "means_tbl.hist(bins = np.arange(-10, 15, 0.5))\n",
    "plt.title('Distribution of Sample Average')\n",
    "plt.show()"
   ]
  },
  {
   "cell_type": "markdown",
   "id": "5510f1e1-de06-455d-a776-b8b054bc34a0",
   "metadata": {
    "slideshow": {
     "slide_type": "subslide"
    },
    "tags": []
   },
   "source": [
    "### Specifying the Distribution"
   ]
  },
  {
   "cell_type": "markdown",
   "id": "0d99de29-1d5d-4568-b729-94c53a360df5",
   "metadata": {
    "slideshow": {
     "slide_type": "-"
    }
   },
   "source": [
    "* Suppose the random sample is large.\n",
    "    * We have seen that the distribution of the sample average is roughly bell shaped.\n",
    "* Important questions remain:\n",
    "    * Where is the center of that bell curve?\n",
    "    * How wide is that bell curve?"
   ]
  },
  {
   "cell_type": "markdown",
   "id": "57317964-e62a-44a2-91b7-4def2f733c1d",
   "metadata": {
    "slideshow": {
     "slide_type": "fragment"
    },
    "tags": []
   },
   "source": [
    "---"
   ]
  },
  {
   "cell_type": "markdown",
   "id": "a7480553-0286-49aa-bcba-ba8568d835bb",
   "metadata": {
    "slideshow": {
     "slide_type": "slide"
    }
   },
   "source": [
    "## Center of the Distribution"
   ]
  },
  {
   "cell_type": "markdown",
   "id": "ee7c0094-0b2b-40e5-ab29-3fdb32e463a9",
   "metadata": {
    "slideshow": {
     "slide_type": "subslide"
    },
    "tags": []
   },
   "source": [
    "###  The Population Average"
   ]
  },
  {
   "cell_type": "markdown",
   "id": "f41a4ffc-6066-4220-aeca-fd9f5b720567",
   "metadata": {
    "slideshow": {
     "slide_type": "-"
    }
   },
   "source": [
    "The distribution of the sample average is roughly a bell curve centered at the population average."
   ]
  },
  {
   "cell_type": "markdown",
   "id": "08e38753-49c0-49a1-b779-cb006cd698d1",
   "metadata": {
    "slideshow": {
     "slide_type": "fragment"
    },
    "tags": []
   },
   "source": [
    "---"
   ]
  },
  {
   "cell_type": "markdown",
   "id": "96764770-bdec-4eae-a63c-d589d1cf9012",
   "metadata": {
    "slideshow": {
     "slide_type": "slide"
    }
   },
   "source": [
    "## Variability of the Sample Average"
   ]
  },
  {
   "cell_type": "markdown",
   "id": "58849433-ceac-4df3-94ef-f8dbc521b525",
   "metadata": {
    "slideshow": {
     "slide_type": "subslide"
    },
    "tags": []
   },
   "source": [
    "### Why Is This Important?"
   ]
  },
  {
   "cell_type": "markdown",
   "id": "59e6cefb-4281-4518-b70f-c2875314a4ce",
   "metadata": {
    "slideshow": {
     "slide_type": "-"
    }
   },
   "source": [
    "* Along with the center, the spread helps identify exactly which normal curve is the distribution of the sample average.\n",
    "* The variability of the sample average helps us measure how accurate the sample average is as an estimate of the population average.\n",
    "* If we want a specified level of accuracy, understanding the variability of the sample average helps us work out how large our sample has to be."
   ]
  },
  {
   "cell_type": "markdown",
   "id": "5aeffb93-b5f4-4819-b700-a933086a27e0",
   "metadata": {
    "slideshow": {
     "slide_type": "subslide"
    },
    "tags": []
   },
   "source": [
    "### Two Histogram"
   ]
  },
  {
   "cell_type": "markdown",
   "id": "cf3c1ee6-2fa3-4136-9627-c59bbf082978",
   "metadata": {},
   "source": [
    "<img src=\"img/lec27_dist_sample_ave_update.png\" width = 50%>"
   ]
  },
  {
   "cell_type": "markdown",
   "id": "8b999b9d-bf93-4216-8d44-9cebeea44e58",
   "metadata": {
    "slideshow": {
     "slide_type": "fragment"
    },
    "tags": []
   },
   "source": [
    "* The gold histogram shows the distribution of 10,000 values, each of which is an average of 900 randomly sampled flight delays.\n",
    "* The blue histogram shows the distribution of 10,000 values, each of which is an average of 400 randomly sampled flight delays.\n",
    "* Both are roughly bell shaped.\n",
    "* The larger the sample size, the narrower the bell."
   ]
  },
  {
   "cell_type": "markdown",
   "id": "4ab2c0a4-4302-4ca5-9cc1-8adc7b8e46fe",
   "metadata": {
    "slideshow": {
     "slide_type": "subslide"
    },
    "tags": []
   },
   "source": [
    "### Demo: The Influence of Sample Size"
   ]
  },
  {
   "cell_type": "markdown",
   "id": "4fd53217-9abc-4579-8614-e730b612bf61",
   "metadata": {},
   "source": [
    "Re-display the population mean and standard deviation."
   ]
  },
  {
   "cell_type": "code",
   "execution_count": null,
   "id": "7af676d4-007d-411f-b077-49f03f9cbc91",
   "metadata": {
    "slideshow": {
     "slide_type": "fragment"
    },
    "tags": []
   },
   "outputs": [],
   "source": [
    "delay_mean, delay_sd"
   ]
  },
  {
   "cell_type": "markdown",
   "id": "72275423-a8ce-4056-a71e-11f1545e8e8d",
   "metadata": {
    "slideshow": {
     "slide_type": "notes"
    },
    "tags": []
   },
   "source": [
    "* Notice how the sample size impacts the distribution of sample averages.\n",
    "* Additionally, notice how the ratio of the population SD to the sample SD is approximately equal to the square root of the sample size."
   ]
  },
  {
   "cell_type": "code",
   "execution_count": null,
   "id": "ca84cd0f-7ffa-40c1-a318-5d77c58d7340",
   "metadata": {
    "slideshow": {
     "slide_type": "subslide"
    },
    "tags": []
   },
   "outputs": [],
   "source": [
    "def plot_and_summarize_sample_means(sample_size):\n",
    "    \"\"\"Empirical distribution of random sample means\"\"\"\n",
    "    sample_means = ten_thousand_sample_means(sample_size)\n",
    "    sample_means_tbl = Table().with_column('Sample Means', sample_means)\n",
    "    sample_mean = np.mean(sample_means)\n",
    "    sample_sd = np.std(sample_means)\n",
    "    \n",
    "    # Print some information about the distribution of the sample means\n",
    "    print(\"Sample size: \", sample_size)\n",
    "    print(\"Population mean:\", delay_mean)\n",
    "    print(\"Average of sample means: \", sample_mean)\n",
    "    print(\"Population SD:\", delay_sd)\n",
    "    print(\"SD of sample means:\", sample_sd)\n",
    "    print(\"Ratio of population SD to sample SD:\", delay_sd / sample_sd)\n",
    "    print(\"Square Root of the sample size:\", np.sqrt(sample_size))\n",
    "\n",
    "    # Plot a histogram of the sample means\n",
    "    sample_means_tbl.hist(bins=20)\n",
    "    plt.xlabel('Sample Means')\n",
    "    plt.title('Sample Size ' + str(sample_size))\n",
    "\n",
    "    # Overlay a curve representing the normal distribution\n",
    "    from scipy.stats import norm\n",
    "    x = np.linspace(np.min(sample_means), np.max(sample_means), 100)\n",
    "    y = norm.pdf(x, delay_mean, delay_sd/np.sqrt(sample_size))\n",
    "    plt.plot(x, y, linestyle='--', lw=5, label='Normal Distribution')\n",
    "\n",
    "    # Add a vertical dashed line showing the mean delay\n",
    "    plt.axvline(x=delay_mean, color='black', linestyle='--', lw=2, label='Population Mean')\n",
    "    plt.legend()"
   ]
  },
  {
   "cell_type": "code",
   "execution_count": null,
   "id": "3970ba42-888f-41ac-8a89-c26b5c05b5c6",
   "metadata": {
    "slideshow": {
     "slide_type": "subslide"
    },
    "tags": []
   },
   "outputs": [],
   "source": [
    "plot_and_summarize_sample_means(100)"
   ]
  },
  {
   "cell_type": "code",
   "execution_count": null,
   "id": "ed2a912f-9dae-4faa-92ad-b2a84cd47ad0",
   "metadata": {
    "slideshow": {
     "slide_type": "subslide"
    },
    "tags": []
   },
   "outputs": [],
   "source": [
    "plot_and_summarize_sample_means(400)"
   ]
  },
  {
   "cell_type": "code",
   "execution_count": null,
   "id": "21365d18-4165-4cfd-bcf0-5470ad817b72",
   "metadata": {
    "slideshow": {
     "slide_type": "subslide"
    },
    "tags": []
   },
   "outputs": [],
   "source": [
    "plot_and_summarize_sample_means(625)"
   ]
  },
  {
   "cell_type": "markdown",
   "id": "7eb4fdaa-d90d-4d95-8a2d-7ebe73d7a246",
   "metadata": {
    "slideshow": {
     "slide_type": "subslide"
    },
    "tags": []
   },
   "source": [
    "### Probability of Sample Average"
   ]
  },
  {
   "cell_type": "markdown",
   "id": "e2c8d3c3-ad7f-4b73-a51a-af6fde25f0f1",
   "metadata": {},
   "source": [
    "* The distribution of all possible sample averages of a given size is called the distribution of the sample average.\n",
    "* We approximate the distribution of sample averages by an empirical distribution."
   ]
  },
  {
   "cell_type": "markdown",
   "id": "19170894-8186-4c06-836c-e794a39c0fd0",
   "metadata": {
    "slideshow": {
     "slide_type": "subslide"
    },
    "tags": []
   },
   "source": [
    "### The Central Limit Theorem"
   ]
  },
  {
   "cell_type": "markdown",
   "id": "05656759-6864-4854-9f64-ff121c426bfe",
   "metadata": {
    "slideshow": {
     "slide_type": "-"
    }
   },
   "source": [
    "* If \n",
    "    * the sample is large and \n",
    "    * drawn at random with replacement, \n",
    "* Then, regardless of the distribution of the population, the probability distribution of the sample average:\n",
    "    * is roughly normal\n",
    "    * mean = population mean\n",
    "    * SD = (population SD) / the square root of the sample size\n",
    "    \n",
    "_Note: For this [theory](https://en.wikipedia.org/wiki/Central_limit_theorem), the results are more reliable when the data has been standardized._"
   ]
  },
  {
   "cell_type": "markdown",
   "id": "a88e6477-73da-43a6-8732-e58f11ad65f6",
   "metadata": {
    "slideshow": {
     "slide_type": "fragment"
    }
   },
   "source": [
    "---"
   ]
  },
  {
   "cell_type": "markdown",
   "id": "bd157618-9e0d-4d06-be07-66be9cfd6498",
   "metadata": {
    "slideshow": {
     "slide_type": "notes"
    }
   },
   "source": [
    "<footer>\n",
    "    <p>Adopted from UC Berkeley DATA 8 course materials.</p>\n",
    "    <p>This content is offered under a <a href=\"https://creativecommons.org/licenses/by-nc-sa/4.0/\">CC Attribution Non-Commercial Share Alike</a> license.</p>\n",
    "</footer>"
   ]
  }
 ],
 "metadata": {
  "kernelspec": {
   "display_name": "Python 3 (ipykernel)",
   "language": "python",
   "name": "python3"
  },
  "language_info": {
   "codemirror_mode": {
    "name": "ipython",
    "version": 3
   },
   "file_extension": ".py",
   "mimetype": "text/x-python",
   "name": "python",
   "nbconvert_exporter": "python",
   "pygments_lexer": "ipython3",
   "version": "3.10.12"
  }
 },
 "nbformat": 4,
 "nbformat_minor": 5
}
