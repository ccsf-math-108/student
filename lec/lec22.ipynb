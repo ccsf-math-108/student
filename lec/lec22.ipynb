{
 "cells": [
  {
   "cell_type": "markdown",
   "id": "5ce205d7-bab4-436a-8801-4472bb108b38",
   "metadata": {
    "slideshow": {
     "slide_type": "slide"
    }
   },
   "source": [
    "<div style=\"width: 38.5%;\">\n",
    "    <p><strong>City College of San Francisco</strong><p>\n",
    "    <hr>\n",
    "    <p>MATH 108 - Foundations of Data Science</p>\n",
    "</div>"
   ]
  },
  {
   "cell_type": "markdown",
   "id": "4bba7134-f35a-41fc-bdd9-87940fb486d8",
   "metadata": {
    "slideshow": {
     "slide_type": "-"
    }
   },
   "source": [
    "# Lecture 22: Decisions and Uncertainty"
   ]
  },
  {
   "cell_type": "markdown",
   "id": "d22ace33-187e-4212-b883-e81730cb6178",
   "metadata": {
    "slideshow": {
     "slide_type": "-"
    }
   },
   "source": [
    "Associated Textbook Sections: [11.3, 11.4](https://inferentialthinking.com/chapters/11/3/Decisions_and_Uncertainty.html)"
   ]
  },
  {
   "cell_type": "markdown",
   "id": "cdbea57b-854c-4320-b40c-e49c32043cd2",
   "metadata": {
    "slideshow": {
     "slide_type": "slide"
    }
   },
   "source": [
    "<div style=\"width: 38.5%;\">\n",
    "    <p><strong>City College of San Francisco</strong><p>\n",
    "    <hr>\n",
    "    <p>MATH 108 - Foundations of Data Science</p>\n",
    "</div>"
   ]
  },
  {
   "cell_type": "markdown",
   "id": "558c85d6-1084-451a-8bc9-ffbe5fa2e93f",
   "metadata": {
    "slideshow": {
     "slide_type": "slide"
    }
   },
   "source": [
    "## Outline"
   ]
  },
  {
   "cell_type": "markdown",
   "id": "d21cc630-74da-44da-bfc8-c857c7c5bbd8",
   "metadata": {
    "slideshow": {
     "slide_type": "-"
    }
   },
   "source": [
    "* [Decisions and Uncertainty](#Decisions-and-Uncertainty)\n",
    "* [Review: Terminology](#Review:-Terminology)\n",
    "* [A Low Midterm Average](#A-Low-Midterm-Average)\n",
    "* [Statistical Significance](#Statistical-Significance)\n",
    "* [How We’ve Tested Thus Far](#How-We’ve-Tested-Thus-Far)"
   ]
  },
  {
   "cell_type": "markdown",
   "id": "de1e4664-c6cd-44ad-beb9-80fbb070c663",
   "metadata": {
    "slideshow": {
     "slide_type": "slide"
    }
   },
   "source": [
    "## Set Up the Notebook"
   ]
  },
  {
   "cell_type": "code",
   "execution_count": null,
   "id": "d0652102-08ee-456a-8d79-284cc05e9f93",
   "metadata": {
    "slideshow": {
     "slide_type": "-"
    }
   },
   "outputs": [],
   "source": [
    "from datascience import *\n",
    "import numpy as np\n",
    "%matplotlib inline\n",
    "import matplotlib.pyplot as plt\n",
    "plt.style.use('fivethirtyeight')"
   ]
  },
  {
   "cell_type": "markdown",
   "id": "23ccc609-0c5b-4d12-82c5-706629b776a3",
   "metadata": {
    "slideshow": {
     "slide_type": "fragment"
    }
   },
   "source": [
    "---"
   ]
  },
  {
   "cell_type": "markdown",
   "id": "6b00ec5d-2ade-4f67-9056-80adc90d973f",
   "metadata": {
    "slideshow": {
     "slide_type": "slide"
    }
   },
   "source": [
    "## Decisions and Uncertainty"
   ]
  },
  {
   "cell_type": "markdown",
   "id": "0acb4c8d-d9a8-4366-a7ba-d8371e22b5c6",
   "metadata": {
    "slideshow": {
     "slide_type": "subslide"
    }
   },
   "source": [
    "### Incomplete Information"
   ]
  },
  {
   "cell_type": "markdown",
   "id": "46ed472b-226a-41a1-812f-cae05140f91a",
   "metadata": {
    "slideshow": {
     "slide_type": "-"
    }
   },
   "source": [
    "* We are trying to choose between two views of the world, based on data in a sample.\n",
    "* It is not always clear whether the data are consistent with one view or the other.\n",
    "* Random samples can turn out quite extreme. It is unlikely, but possible."
   ]
  },
  {
   "cell_type": "markdown",
   "id": "0f275123-bd39-4cf5-b81b-a8821c53f3c1",
   "metadata": {
    "slideshow": {
     "slide_type": "fragment"
    }
   },
   "source": [
    "---"
   ]
  },
  {
   "cell_type": "markdown",
   "id": "a9ecff41-6060-40bc-8f69-6cf5668f5ad7",
   "metadata": {
    "slideshow": {
     "slide_type": "slide"
    }
   },
   "source": [
    "## Review: Terminology"
   ]
  },
  {
   "cell_type": "markdown",
   "id": "3f920eeb-a992-405a-a96e-38291dccf8f5",
   "metadata": {
    "slideshow": {
     "slide_type": "subslide"
    }
   },
   "source": [
    "### Testing Hypotheses"
   ]
  },
  {
   "cell_type": "markdown",
   "id": "292af07c-89c7-4655-9ec9-f6cc15534a06",
   "metadata": {
    "slideshow": {
     "slide_type": "-"
    }
   },
   "source": [
    "* A test chooses between two views of how data were generated\n",
    "* The views are called hypotheses\n",
    "* The test picks the hypothesis that is better supported by the observed data\n"
   ]
  },
  {
   "cell_type": "markdown",
   "id": "9a267bb0-9521-4d29-97ba-1061c1c3430f",
   "metadata": {
    "slideshow": {
     "slide_type": "subslide"
    }
   },
   "source": [
    "### Null and Alternative"
   ]
  },
  {
   "cell_type": "markdown",
   "id": "89161436-3e4e-4d58-aedf-b9bf547f3bb1",
   "metadata": {
    "slideshow": {
     "slide_type": "-"
    }
   },
   "source": [
    "The method only works if we can simulate data under one of the hypotheses.\n",
    "* Null hypothesis:\n",
    "    * A well defined chance model about how the data were generated\n",
    "    * We can simulate data under the assumptions of this model – “under the null hypothesis”\n",
    "* Alternative hypothesis: A different view about the origin of the data\n"
   ]
  },
  {
   "cell_type": "markdown",
   "id": "1bc241db-a4fc-47ff-a5a2-732841d3876d",
   "metadata": {
    "slideshow": {
     "slide_type": "subslide"
    }
   },
   "source": [
    "### Test Statistic"
   ]
  },
  {
   "cell_type": "markdown",
   "id": "1e33a179-2589-469c-855e-7c23dd12c0e3",
   "metadata": {
    "slideshow": {
     "slide_type": "-"
    }
   },
   "source": [
    "* The statistic that we choose to simulate, to decide between the two hypotheses\n",
    "* Questions before choosing the statistic:\n",
    "    * What values of the statistic will make us lean towards the null hypothesis?\n",
    "    * What values will make us lean towards the alternative? Preferably, the answer should be just \"high\". Try to avoid \"both high and low\".\n"
   ]
  },
  {
   "cell_type": "markdown",
   "id": "c4e130bd-72f7-4eb0-96b4-2fd0e8113b02",
   "metadata": {
    "slideshow": {
     "slide_type": "subslide"
    }
   },
   "source": [
    "### Prediction Under the Null Hypothesis"
   ]
  },
  {
   "cell_type": "markdown",
   "id": "382f738f-329e-4ed5-8c01-ed248ffdafb6",
   "metadata": {
    "slideshow": {
     "slide_type": "-"
    }
   },
   "source": [
    "* Simulate the test statistic under the null hypothesis; draw the histogram of the simulated values\n",
    "* This displays the **empirical distribution of the statistic under the null hypothesis**\n",
    "* It is a prediction about the statistic, made by the null hypothesis \n",
    "    * It shows all the likely values of the statistic\n",
    "    * Also how likely they are (**if the null hypothesis is true**)\n",
    "* The probabilities are approximate, because we can't generate all the possible random samples\n"
   ]
  },
  {
   "cell_type": "markdown",
   "id": "7ad104aa-3239-4b53-ae36-05c188c1e480",
   "metadata": {
    "slideshow": {
     "slide_type": "subslide"
    }
   },
   "source": [
    "### Conclusion of the Test"
   ]
  },
  {
   "cell_type": "markdown",
   "id": "693701d6-bc4e-4db7-9ebb-e8cc37e4762c",
   "metadata": {
    "slideshow": {
     "slide_type": "-"
    }
   },
   "source": [
    "* Resolve choice between null and alternative hypotheses\n",
    "    * Compare the **observed test statistic** and its empirical distribution under the null hypothesis\n",
    "    * If the observed value is **not consistent** with the distribution, then the test favors the alternative (\"data is more consistent with the alternative\")\n",
    "* Whether a value is consistent with a distribution:\n",
    "    * A visualization may be sufficient\n",
    "    * If not, there are conventions about \"consistency\""
   ]
  },
  {
   "cell_type": "markdown",
   "id": "b9912224-6a05-441d-95dd-81a94f625a91",
   "metadata": {
    "slideshow": {
     "slide_type": "fragment"
    }
   },
   "source": [
    "---"
   ]
  },
  {
   "cell_type": "markdown",
   "id": "05643318-577f-4cff-87c7-754241ec79a8",
   "metadata": {
    "slideshow": {
     "slide_type": "slide"
    }
   },
   "source": [
    "## A Low Midterm Average"
   ]
  },
  {
   "cell_type": "markdown",
   "id": "d2e26904-b9c7-44b4-bbcc-0cb40aa620af",
   "metadata": {
    "slideshow": {
     "slide_type": "subslide"
    }
   },
   "source": [
    "### The Set Up"
   ]
  },
  {
   "cell_type": "markdown",
   "id": "cfadd696-94e5-4d78-bff2-4f4449d036d4",
   "metadata": {
    "slideshow": {
     "slide_type": "-"
    }
   },
   "source": [
    "* Large(-ish) Data Science class divided into 12 discussion sections\n",
    "* After the midterm, students in Section 3 notice that the average score in their section is lower than in others"
   ]
  },
  {
   "cell_type": "markdown",
   "id": "4ef8071b-b6f8-46f7-8109-d16dd9efddce",
   "metadata": {
    "slideshow": {
     "slide_type": "subslide"
    }
   },
   "source": [
    "### The Instructor's Defense"
   ]
  },
  {
   "cell_type": "markdown",
   "id": "af069e85-1f26-410b-a356-87e12b5d66af",
   "metadata": {
    "slideshow": {
     "slide_type": "-"
    }
   },
   "source": [
    "* Section 3 Instructor's position (Null Hypothesis): If we had picked my section at random from the whole class, we could have got an average like this one.\n",
    "* Alternative Hypothesis: No, the average score is too low. Randomness is not the only reason for the low scores.\n"
   ]
  },
  {
   "cell_type": "markdown",
   "id": "c9ce9cb5-4051-4335-ba9c-787488c14209",
   "metadata": {
    "slideshow": {
     "slide_type": "subslide"
    }
   },
   "source": [
    "### Demo: A Low Midterm Average"
   ]
  },
  {
   "cell_type": "markdown",
   "id": "646f0579-4ea5-4b92-9e1d-185b5c2a8bd1",
   "metadata": {
    "slideshow": {
     "slide_type": "notes"
    }
   },
   "source": [
    "Load the `scores_by_section.csv` data, identify the average Midterm score for each section, make sure to store the value of the Section 3 average Midterm score."
   ]
  },
  {
   "cell_type": "code",
   "execution_count": null,
   "id": "ae3ca182-300c-433c-ad8f-9764999384c5",
   "metadata": {
    "slideshow": {
     "slide_type": "-"
    }
   },
   "outputs": [],
   "source": [
    "scores = Table.read_table('data/scores_by_section.csv')\n",
    "scores"
   ]
  },
  {
   "cell_type": "code",
   "execution_count": null,
   "id": "ffff5f8e-1318-47f2-8aa6-a296039075bc",
   "metadata": {
    "slideshow": {
     "slide_type": "subslide"
    }
   },
   "outputs": [],
   "source": [
    "scores.group('Section')"
   ]
  },
  {
   "cell_type": "code",
   "execution_count": null,
   "id": "7a118221-da4d-4ed6-95d2-aa4928450865",
   "metadata": {
    "slideshow": {
     "slide_type": "subslide"
    }
   },
   "outputs": [],
   "source": [
    "scores.group('Section', np.average).show()"
   ]
  },
  {
   "cell_type": "code",
   "execution_count": null,
   "id": "baa0b051-6bb4-4773-a596-e83602966568",
   "metadata": {
    "slideshow": {
     "slide_type": "fragment"
    }
   },
   "outputs": [],
   "source": [
    "observed_average = ...\n",
    "observed_average"
   ]
  },
  {
   "cell_type": "markdown",
   "id": "50a4a522-5dbd-43b6-a340-b8a284035dbc",
   "metadata": {
    "slideshow": {
     "slide_type": "notes"
    }
   },
   "source": [
    "Randomly sample 27 students (same as section 3) from the population (without replacement) and compute the sample average Midterm score."
   ]
  },
  {
   "cell_type": "code",
   "execution_count": null,
   "id": "2c9dbd6b-e892-4465-9837-14de865734cb",
   "metadata": {
    "slideshow": {
     "slide_type": "subslide"
    }
   },
   "outputs": [],
   "source": [
    "random_sample = ...\n",
    "random_sample"
   ]
  },
  {
   "cell_type": "code",
   "execution_count": null,
   "id": "9c2a3669-9d3f-40a9-bed5-58977d22afe2",
   "metadata": {
    "slideshow": {
     "slide_type": "fragment"
    }
   },
   "outputs": [],
   "source": [
    "..."
   ]
  },
  {
   "cell_type": "markdown",
   "id": "58ad008a-6d50-494d-b9ae-38fb74c5e69e",
   "metadata": {
    "slideshow": {
     "slide_type": "notes"
    }
   },
   "source": [
    "Simulate one value of the test statistic under the hypothesis that the section is like a random sample from the class."
   ]
  },
  {
   "cell_type": "code",
   "execution_count": null,
   "id": "1c2c5d8d-e7b8-4e9b-ad1e-3f57917acb7c",
   "metadata": {
    "slideshow": {
     "slide_type": "subslide"
    }
   },
   "outputs": [],
   "source": [
    "def random_sample_midterm_avg():\n",
    "    random_sample = ...\n",
    "    return ..."
   ]
  },
  {
   "cell_type": "code",
   "execution_count": null,
   "id": "1f3ce880-2cc2-4548-9397-8fb9811067ad",
   "metadata": {
    "slideshow": {
     "slide_type": "fragment"
    }
   },
   "outputs": [],
   "source": [
    "random_sample_midterm_avg()"
   ]
  },
  {
   "cell_type": "markdown",
   "id": "7b5a17e3-2523-41f9-9892-43054514ab30",
   "metadata": {
    "slideshow": {
     "slide_type": "notes"
    }
   },
   "source": [
    "Simulate 50,000 copies of the test statistic and compare the simulated distribution of the statistic and the actual observed statistic."
   ]
  },
  {
   "cell_type": "code",
   "execution_count": null,
   "id": "879ee5c9-ac1e-494d-b44a-430d20540e19",
   "metadata": {
    "slideshow": {
     "slide_type": "subslide"
    }
   },
   "outputs": [],
   "source": [
    "sample_averages = ...\n",
    "\n",
    "for ...\n",
    "    random_sample_average = ...\n",
    "    sample_averages = ..."
   ]
  },
  {
   "cell_type": "code",
   "execution_count": null,
   "id": "78faa422-67c0-4431-998e-9b14a8562e2d",
   "metadata": {
    "slideshow": {
     "slide_type": "subslide"
    }
   },
   "outputs": [],
   "source": [
    "averages_tbl = Table().with_column('Random Sample Average', sample_averages)\n",
    "averages_tbl.hist(bins = 20)\n",
    "plt.scatter(observed_average, 0, color = 'red', s=60, zorder=3);"
   ]
  },
  {
   "cell_type": "code",
   "execution_count": null,
   "id": "693c0ed3-af6b-4770-962f-2ad19382c77c",
   "metadata": {
    "slideshow": {
     "slide_type": "fragment"
    }
   },
   "outputs": [],
   "source": [
    "..."
   ]
  },
  {
   "cell_type": "markdown",
   "id": "02165066-2e07-489b-a341-ab7784c6a217",
   "metadata": {
    "slideshow": {
     "slide_type": "fragment"
    }
   },
   "source": [
    "---"
   ]
  },
  {
   "cell_type": "markdown",
   "id": "6893ab77-56ee-4844-b9b0-bbf3da26270c",
   "metadata": {
    "slideshow": {
     "slide_type": "slide"
    }
   },
   "source": [
    "## Statistical Significance"
   ]
  },
  {
   "cell_type": "markdown",
   "id": "e9ca62a5-7ea3-46d1-a519-c5b2aa221412",
   "metadata": {
    "slideshow": {
     "slide_type": "subslide"
    }
   },
   "source": [
    "### Tail Areas"
   ]
  },
  {
   "cell_type": "markdown",
   "id": "306ccf0b-43a4-4aa7-a07d-d2a1bc35e360",
   "metadata": {
    "slideshow": {
     "slide_type": "-"
    }
   },
   "source": [
    "<img src=\"img/tail_areas.png\" alt=\"comparison of distributions\" width=80%>"
   ]
  },
  {
   "cell_type": "markdown",
   "id": "4f792465-c40c-4036-8c66-da79951a7ce3",
   "metadata": {
    "slideshow": {
     "slide_type": "subslide"
    }
   },
   "source": [
    "### Conventions About Inconsistency"
   ]
  },
  {
   "cell_type": "markdown",
   "id": "f0e17cae-1c76-45be-873a-4d8b107ceb22",
   "metadata": {
    "slideshow": {
     "slide_type": "-"
    }
   },
   "source": [
    "* \"Inconsistent with the null\": The test statistic is in the tail of the empirical distribution under the null hypothesis\n",
    "* \"In the tail,\" first convention:\n",
    "    * The area in the tail is less than 5%\n",
    "    * The result is \"statistically significant\"\n",
    "* \"In the tail,\" second convention:\n",
    "    * The area in the tail is less than 1%\n",
    "    * The result is \"highly statistically significant\"\n"
   ]
  },
  {
   "cell_type": "markdown",
   "id": "4cd7fb37-999f-4742-81a2-34b8471aea7f",
   "metadata": {
    "slideshow": {
     "slide_type": "subslide"
    }
   },
   "source": [
    "### Demo: Conventions About Inconsistency"
   ]
  },
  {
   "cell_type": "code",
   "execution_count": null,
   "id": "600724c0-a511-41d3-a204-75c647e3cc14",
   "metadata": {},
   "outputs": [],
   "source": [
    "0.05 * 50_000"
   ]
  },
  {
   "cell_type": "markdown",
   "id": "633b297c-37ac-4269-8975-9d737ca84a05",
   "metadata": {
    "slideshow": {
     "slide_type": "notes"
    }
   },
   "source": [
    "Use the fact that 5% of 50,000 is 2500, identify the 2500th data value in the sorted (ascending) table of averages."
   ]
  },
  {
   "cell_type": "code",
   "execution_count": null,
   "id": "a921a095-3cac-48ae-92ff-b5bc962fa8e2",
   "metadata": {
    "slideshow": {
     "slide_type": "-"
    }
   },
   "outputs": [],
   "source": [
    "five_percent_point = averages_tbl.sort(0).column(0).item(2500)\n",
    "five_percent_point"
   ]
  },
  {
   "cell_type": "markdown",
   "id": "1c000e54-cc8a-4bdc-a3b4-9aa283376bcf",
   "metadata": {
    "slideshow": {
     "slide_type": "notes"
    }
   },
   "source": [
    "Visualize the distribution of sample averages along with a vertical line marking the 2500th data value."
   ]
  },
  {
   "cell_type": "code",
   "execution_count": null,
   "id": "5919f468-72a3-421c-9981-fdc38adf043e",
   "metadata": {
    "slideshow": {
     "slide_type": "subslide"
    }
   },
   "outputs": [],
   "source": [
    "averages_tbl.hist(bins = 20)\n",
    "plt.plot([five_percent_point, five_percent_point], [0, 0.35], color='gold', lw=2)\n",
    "plt.title('Area to the left of the gold line: 5%');"
   ]
  },
  {
   "cell_type": "markdown",
   "id": "1b3435b4-3b41-453b-b7bf-528091fe7f61",
   "metadata": {
    "slideshow": {
     "slide_type": "subslide"
    }
   },
   "source": [
    "### The P-Value as an Area"
   ]
  },
  {
   "cell_type": "code",
   "execution_count": null,
   "id": "b2d7b230-b332-4fd2-9d73-e94fc7ff7478",
   "metadata": {
    "slideshow": {
     "slide_type": "subslide"
    }
   },
   "outputs": [],
   "source": [
    "averages_tbl.hist(bins = np.arange(10, 21, 0.5), right_end=five_percent_point)\n",
    "plt.plot([five_percent_point, five_percent_point], [0, 0.35], color='gold', lw=2)\n",
    "plt.scatter(observed_average, 0, color = 'red', s=60, zorder=3);"
   ]
  },
  {
   "cell_type": "markdown",
   "id": "2026b002-963e-46bf-b739-36948e59d541",
   "metadata": {
    "slideshow": {
     "slide_type": "fragment"
    }
   },
   "source": [
    "* Empirical distribution of the test statistic under the null hypothesis\n",
    "* The red dot is the observed statistic.\n",
    "* The P-value is represented by the shaded region of the histogram determined by the definition of the alternative hypothesis."
   ]
  },
  {
   "cell_type": "markdown",
   "id": "d6c9eeed-df4a-4467-8074-0b389389b5f6",
   "metadata": {
    "slideshow": {
     "slide_type": "subslide"
    }
   },
   "source": [
    "### Definition of the P-value"
   ]
  },
  {
   "cell_type": "markdown",
   "id": "9feb8bfe-ba1a-4f06-ba29-1ba9d6df2fd7",
   "metadata": {
    "slideshow": {
     "slide_type": "-"
    }
   },
   "source": [
    "* The P-value is the chance, \n",
    "    * under the null hypothesis, \n",
    "    * that the test statistic \n",
    "    * is equal to the value that was observed in the data\n",
    "    * or is even further in the direction of the alternative.\n",
    "* Also known as the observed significance level\n"
   ]
  },
  {
   "cell_type": "markdown",
   "id": "a490165b-31d7-4a54-b633-aa99656384e8",
   "metadata": {
    "slideshow": {
     "slide_type": "notes"
    }
   },
   "source": [
    "Calculate the P-value using the distribution of simulated statistics."
   ]
  },
  {
   "cell_type": "code",
   "execution_count": null,
   "id": "4fb4e6a7-1b7a-4ced-8fcb-1f7419fa6ef6",
   "metadata": {
    "slideshow": {
     "slide_type": "fragment"
    }
   },
   "outputs": [],
   "source": [
    "averages_tbl"
   ]
  },
  {
   "cell_type": "code",
   "execution_count": null,
   "id": "afde6d7f-9d99-42a9-83f3-4895ba5c4c38",
   "metadata": {},
   "outputs": [],
   "source": [
    "observed_average"
   ]
  },
  {
   "cell_type": "code",
   "execution_count": null,
   "id": "062435ce-ce1e-4ce4-9e8e-ac0e4abde4f3",
   "metadata": {},
   "outputs": [],
   "source": [
    "p_value = ...\n",
    "p_value"
   ]
  },
  {
   "cell_type": "markdown",
   "id": "8c4e59c9-ca0b-4f96-bb11-48197afac4b6",
   "metadata": {
    "slideshow": {
     "slide_type": "fragment"
    }
   },
   "source": [
    "---"
   ]
  },
  {
   "cell_type": "markdown",
   "id": "bea5b703-812e-4d30-bc93-14035b152b8b",
   "metadata": {
    "slideshow": {
     "slide_type": "slide"
    }
   },
   "source": [
    "## How We’ve Tested Thus Far"
   ]
  },
  {
   "cell_type": "markdown",
   "id": "5c4ed2dd-a34c-4cd3-a88f-cf27cbb46860",
   "metadata": {
    "slideshow": {
     "slide_type": "subslide"
    }
   },
   "source": [
    "### Hypothesis Testing Review"
   ]
  },
  {
   "cell_type": "markdown",
   "id": "64cecc8b-87db-4f8f-b4da-2f659d65834a",
   "metadata": {
    "slideshow": {
     "slide_type": "-"
    }
   },
   "source": [
    "* One Category (*ex: percent of flowers that are purple*)\n",
    "    * Test Statistic (1): `empirical_percentage`\n",
    "    * Test Statistic (2): `abs(empirical_percentage - null_percentage)`\n",
    "    * How to Simulate: sample_proportions(n, null_dist)\n",
    "* Multiple Categories (*ex: ethnicity distribution of jury panel*)\n",
    "    * Test Statistic: `tvd(empirical_dist, null_dist)`\n",
    "    * How to Simulate: `sample_proportions(n, null_dist)`\n",
    "* Numerical Data (*ex: scores in a lab section*)\n",
    "    * Test Statistic: `empirical_mean`\n",
    "    * How to Simulate: `population_data.sample(n, with_replacement=False)`"
   ]
  },
  {
   "cell_type": "markdown",
   "id": "5d4541a7-3997-4083-895c-4a6be06c0c13",
   "metadata": {
    "slideshow": {
     "slide_type": "fragment"
    }
   },
   "source": [
    "---"
   ]
  },
  {
   "cell_type": "markdown",
   "id": "83ac6ddd-a98e-4294-a2d1-17ecb493ffaa",
   "metadata": {
    "slideshow": {
     "slide_type": "notes"
    }
   },
   "source": [
    "<footer>\n",
    "    <p>Adopted from UC Berkeley DATA 8 course materials.</p>\n",
    "    <p>This content is offered under a <a href=\"https://creativecommons.org/licenses/by-nc-sa/4.0/\">CC Attribution Non-Commercial Share Alike</a> license.</p>\n",
    "</footer>"
   ]
  }
 ],
 "metadata": {
  "kernelspec": {
   "display_name": "Python 3 (ipykernel)",
   "language": "python",
   "name": "python3"
  },
  "language_info": {
   "codemirror_mode": {
    "name": "ipython",
    "version": 3
   },
   "file_extension": ".py",
   "mimetype": "text/x-python",
   "name": "python",
   "nbconvert_exporter": "python",
   "pygments_lexer": "ipython3",
   "version": "3.10.12"
  }
 },
 "nbformat": 4,
 "nbformat_minor": 5
}
