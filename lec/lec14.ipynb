{
 "cells": [
  {
   "cell_type": "markdown",
   "id": "b2884e18-3833-4b26-b658-b55bb12fb967",
   "metadata": {
    "slideshow": {
     "slide_type": "slide"
    }
   },
   "source": [
    "<div style=\"width: 38.5%;\">\n",
    "    <p><strong>City College of San Francisco</strong><p>\n",
    "    <hr>\n",
    "    <p>MATH 108 - Foundations of Data Science</p>\n",
    "</div>"
   ]
  },
  {
   "cell_type": "markdown",
   "id": "96f2582e-77e4-41cf-8c3d-5ae843d62ce2",
   "metadata": {
    "slideshow": {
     "slide_type": "-"
    }
   },
   "source": [
    "# Lecture 14: Conditionals and Iteration"
   ]
  },
  {
   "cell_type": "markdown",
   "id": "4836a8b6-5e0a-47a9-874d-3d85b476a06f",
   "metadata": {
    "slideshow": {
     "slide_type": "-"
    }
   },
   "source": [
    "Associated Textbook Sections: [9.0, 9.1, 9.2, 9.3](https://inferentialthinking.com/chapters/09/Randomness.html)"
   ]
  },
  {
   "cell_type": "markdown",
   "id": "ce634bf2-fe60-4e4d-9171-a453271815de",
   "metadata": {
    "slideshow": {
     "slide_type": "slide"
    }
   },
   "source": [
    "## Overview"
   ]
  },
  {
   "cell_type": "markdown",
   "id": "1bfca75a-22d1-48fe-8d06-7378768720ec",
   "metadata": {
    "slideshow": {
     "slide_type": "-"
    }
   },
   "source": [
    "* [Comparison and Booleans](#Comparison-and-Booleans)\n",
    "* [Control Statements](#Control-Statements)\n",
    "* [Random Selection](#Random-Selection)\n",
    "* [Appending Arrays](#Appending-Arrays)\n",
    "* [Iteration](#Iteration)\n",
    "* [`bool` and `where`](#bool-and-where)"
   ]
  },
  {
   "cell_type": "markdown",
   "id": "366948e3-20a0-4cdf-9c77-52bfe7d7fa32",
   "metadata": {
    "slideshow": {
     "slide_type": "slide"
    }
   },
   "source": [
    "## Set Up the Notebook"
   ]
  },
  {
   "cell_type": "code",
   "execution_count": null,
   "id": "e4797a31-6ed3-412a-ac6f-fb98d79664a2",
   "metadata": {
    "slideshow": {
     "slide_type": "-"
    }
   },
   "outputs": [],
   "source": [
    "from datascience import *\n",
    "import numpy as np\n",
    "%matplotlib inline\n",
    "import matplotlib.pyplot as plt\n",
    "plt.style.use('fivethirtyeight')"
   ]
  },
  {
   "cell_type": "markdown",
   "id": "1a0f4a47-8ddf-47fc-96bd-04f1577c990b",
   "metadata": {
    "slideshow": {
     "slide_type": "fragment"
    }
   },
   "source": [
    "--- "
   ]
  },
  {
   "cell_type": "markdown",
   "id": "3314129b-0f67-470d-8e6b-0dc064596dd2",
   "metadata": {
    "slideshow": {
     "slide_type": "slide"
    }
   },
   "source": [
    "## Comparison and Booleans"
   ]
  },
  {
   "cell_type": "markdown",
   "id": "cba35c19-6518-4981-be85-80b030a284bc",
   "metadata": {
    "slideshow": {
     "slide_type": "subslide"
    }
   },
   "source": [
    "### Comparison Operators"
   ]
  },
  {
   "cell_type": "markdown",
   "id": "19173422-fa62-41a8-ad84-4a58b0ddea1f",
   "metadata": {
    "slideshow": {
     "slide_type": "-"
    }
   },
   "source": [
    "* Assignments Statements:\n",
    "    * `x = 6`\n",
    "    * `height = x * 12`\n",
    "* Comparison Expressions:\n",
    "    * `x > 1`\n",
    "    * `x < y`\n",
    "    * `y >= 3`\n",
    "    * `x == y`\n",
    "    * `x != y`\n",
    "    * `2 < x < 5`\n",
    "* The result of a comparison expression is a `bool` value (`True` or `False`)"
   ]
  },
  {
   "cell_type": "markdown",
   "id": "7054de2c-da95-4c0d-888b-d686bcb4b4a1",
   "metadata": {
    "slideshow": {
     "slide_type": "subslide"
    }
   },
   "source": [
    "### Aggregating Comparisons"
   ]
  },
  {
   "cell_type": "markdown",
   "id": "44dd54b7-17fb-44d7-911b-088c4c4b886d",
   "metadata": {
    "slideshow": {
     "slide_type": "-"
    }
   },
   "source": [
    "* Summing an array or list of `bool` values will count the `True` values only.\n",
    "* The following produce an output of `2`:\n",
    "    * `1 + 0 + 1`\n",
    "    * `True + False + True`\n",
    "    * `sum([1, 0, 1])`\n",
    "    * `sum([True, False, True])`"
   ]
  },
  {
   "cell_type": "markdown",
   "id": "f935b8ff-4102-4ded-adff-3d72b7a4d3ca",
   "metadata": {
    "slideshow": {
     "slide_type": "subslide"
    }
   },
   "source": [
    "### Demo: Comparison"
   ]
  },
  {
   "cell_type": "markdown",
   "id": "32685847-b0c2-48c1-baa3-81da3a0e420d",
   "metadata": {
    "slideshow": {
     "slide_type": "notes"
    }
   },
   "source": [
    "Demonstrate using the comparison operators. "
   ]
  },
  {
   "cell_type": "code",
   "execution_count": null,
   "id": "70a5f7e8-e0e4-40fe-a08a-6ca34ac3a71c",
   "metadata": {
    "slideshow": {
     "slide_type": "fragment"
    }
   },
   "outputs": [],
   "source": [
    "..."
   ]
  },
  {
   "cell_type": "code",
   "execution_count": null,
   "id": "55c44c9a-c681-4279-9243-16ba3cdef534",
   "metadata": {
    "slideshow": {
     "slide_type": "fragment"
    }
   },
   "outputs": [],
   "source": [
    "..."
   ]
  },
  {
   "cell_type": "code",
   "execution_count": null,
   "id": "eb5dba1a-508a-48a4-9155-232b815ad592",
   "metadata": {
    "slideshow": {
     "slide_type": "subslide"
    }
   },
   "outputs": [],
   "source": [
    "..."
   ]
  },
  {
   "cell_type": "code",
   "execution_count": null,
   "id": "c52d5f5d-8deb-452d-bc18-c3445b3353f0",
   "metadata": {
    "slideshow": {
     "slide_type": "fragment"
    }
   },
   "outputs": [],
   "source": [
    "# Creates a NameError\n",
    "# true"
   ]
  },
  {
   "cell_type": "code",
   "execution_count": null,
   "id": "c83faf42-c0b3-4e42-8348-03950390058c",
   "metadata": {
    "slideshow": {
     "slide_type": "subslide"
    }
   },
   "outputs": [],
   "source": [
    "# Creates a SyntaxError\n",
    "# 3 = 3"
   ]
  },
  {
   "cell_type": "code",
   "execution_count": null,
   "id": "edfd5b48-d69f-4f7e-81f9-f020ab99e334",
   "metadata": {
    "slideshow": {
     "slide_type": "fragment"
    }
   },
   "outputs": [],
   "source": [
    "..."
   ]
  },
  {
   "cell_type": "code",
   "execution_count": null,
   "id": "c122e1db-232d-4d59-bf28-4a1238d1e223",
   "metadata": {
    "slideshow": {
     "slide_type": "fragment"
    }
   },
   "outputs": [],
   "source": [
    "..."
   ]
  },
  {
   "cell_type": "code",
   "execution_count": null,
   "id": "0ec8480b-c770-4c96-b596-aa93c4bcdde4",
   "metadata": {
    "slideshow": {
     "slide_type": "subslide"
    }
   },
   "outputs": [],
   "source": [
    "..."
   ]
  },
  {
   "cell_type": "code",
   "execution_count": null,
   "id": "683e2c00-323d-458a-9d62-775f6a6338c2",
   "metadata": {
    "slideshow": {
     "slide_type": "fragment"
    }
   },
   "outputs": [],
   "source": [
    "..."
   ]
  },
  {
   "cell_type": "code",
   "execution_count": null,
   "id": "7730041d-4ee0-4764-8c33-091475393e9a",
   "metadata": {
    "slideshow": {
     "slide_type": "fragment"
    }
   },
   "outputs": [],
   "source": [
    "..."
   ]
  },
  {
   "cell_type": "code",
   "execution_count": null,
   "id": "4b72e053-0ecf-440e-acc7-6c4a8a260585",
   "metadata": {
    "slideshow": {
     "slide_type": "fragment"
    }
   },
   "outputs": [],
   "source": [
    "..."
   ]
  },
  {
   "cell_type": "code",
   "execution_count": null,
   "id": "b6f79a86-a1cd-4b4c-820d-0f1284780775",
   "metadata": {
    "slideshow": {
     "slide_type": "subslide"
    }
   },
   "outputs": [],
   "source": [
    "..."
   ]
  },
  {
   "cell_type": "code",
   "execution_count": null,
   "id": "9ef3aceb-a116-4303-8fad-490da2c40bf4",
   "metadata": {
    "slideshow": {
     "slide_type": "fragment"
    }
   },
   "outputs": [],
   "source": [
    "..."
   ]
  },
  {
   "cell_type": "markdown",
   "id": "79422a33-9194-4ecd-ac33-1278a093919e",
   "metadata": {
    "slideshow": {
     "slide_type": "notes"
    }
   },
   "source": [
    "Introduce `and`, `or`, `not`."
   ]
  },
  {
   "cell_type": "code",
   "execution_count": null,
   "id": "e76c9056-df10-4b01-aead-a86d68d12d66",
   "metadata": {
    "slideshow": {
     "slide_type": "fragment"
    }
   },
   "outputs": [],
   "source": [
    "..."
   ]
  },
  {
   "cell_type": "markdown",
   "id": "0ea077a0-799c-4a26-9c15-ecb037a2f803",
   "metadata": {
    "slideshow": {
     "slide_type": "subslide"
    }
   },
   "source": [
    "### Demo: Comparisons with Arrays"
   ]
  },
  {
   "cell_type": "markdown",
   "id": "eb130689-b6cf-4047-a87f-b5f52d96b4c3",
   "metadata": {
    "slideshow": {
     "slide_type": "notes"
    }
   },
   "source": [
    "Demonstrate how comparisons work with arrays."
   ]
  },
  {
   "cell_type": "code",
   "execution_count": null,
   "id": "14cb7826-1021-4971-bc36-3577bc87570f",
   "metadata": {
    "slideshow": {
     "slide_type": "fragment"
    }
   },
   "outputs": [],
   "source": [
    "pets = make_array('cat', 'cat', 'dog', 'cat', 'dog', 'rabbit')"
   ]
  },
  {
   "cell_type": "code",
   "execution_count": null,
   "id": "a12fbda4-5f4e-456a-b2a9-8390292a4cad",
   "metadata": {
    "slideshow": {
     "slide_type": "fragment"
    }
   },
   "outputs": [],
   "source": [
    "..."
   ]
  },
  {
   "cell_type": "code",
   "execution_count": null,
   "id": "f6268acb-ec3e-4844-9647-082cc5b0f130",
   "metadata": {
    "slideshow": {
     "slide_type": "subslide"
    }
   },
   "outputs": [],
   "source": [
    "..."
   ]
  },
  {
   "cell_type": "code",
   "execution_count": null,
   "id": "3068ee4b-c4e7-493b-9444-ca099d8b51be",
   "metadata": {
    "slideshow": {
     "slide_type": "fragment"
    }
   },
   "outputs": [],
   "source": [
    "..."
   ]
  },
  {
   "cell_type": "code",
   "execution_count": null,
   "id": "daac021d-d5bf-41e5-87d2-2690dc9a5ae0",
   "metadata": {
    "slideshow": {
     "slide_type": "subslide"
    }
   },
   "outputs": [],
   "source": [
    "..."
   ]
  },
  {
   "cell_type": "code",
   "execution_count": null,
   "id": "0af54d6d-e936-45e7-a678-d9e18569c367",
   "metadata": {
    "slideshow": {
     "slide_type": "fragment"
    }
   },
   "outputs": [],
   "source": [
    "..."
   ]
  },
  {
   "cell_type": "code",
   "execution_count": null,
   "id": "024ca176-13e4-4edd-9420-60e5cfdd1340",
   "metadata": {
    "slideshow": {
     "slide_type": "subslide"
    }
   },
   "outputs": [],
   "source": [
    "..."
   ]
  },
  {
   "cell_type": "code",
   "execution_count": null,
   "id": "04682feb-627d-436c-a042-467b8a3bdfc6",
   "metadata": {
    "scrolled": true,
    "slideshow": {
     "slide_type": "fragment"
    }
   },
   "outputs": [],
   "source": [
    "..."
   ]
  },
  {
   "cell_type": "markdown",
   "id": "2a77b509-00ee-4783-ab6e-7164db6cde6c",
   "metadata": {
    "slideshow": {
     "slide_type": "fragment"
    }
   },
   "source": [
    "--- "
   ]
  },
  {
   "cell_type": "markdown",
   "id": "da093faa-109d-4a0e-96bb-917857f4485b",
   "metadata": {
    "slideshow": {
     "slide_type": "slide"
    }
   },
   "source": [
    "## Control Statements"
   ]
  },
  {
   "cell_type": "markdown",
   "id": "726b39ff-a926-4216-8d8e-6736fdf353c6",
   "metadata": {
    "slideshow": {
     "slide_type": "subslide"
    }
   },
   "source": [
    "### Control Statements"
   ]
  },
  {
   "cell_type": "markdown",
   "id": "1355d112-dcc6-41a2-ab25-62c2510c8f31",
   "metadata": {
    "slideshow": {
     "slide_type": "-"
    }
   },
   "source": [
    "These statements control the sequence of computations that are performed in a program\n",
    "\n",
    "* The keywords `if` and `for` begin control statements\n",
    "* The purpose of `if` is to choose different code segments based on their arguments."
   ]
  },
  {
   "cell_type": "markdown",
   "id": "18b799f0-6957-42f3-9cc4-ef37ac0196fc",
   "metadata": {
    "slideshow": {
     "slide_type": "subslide"
    }
   },
   "source": [
    "### Demo: Simulation"
   ]
  },
  {
   "cell_type": "markdown",
   "id": "0a1d076e-f837-42c7-a027-cb61f92c5994",
   "metadata": {
    "slideshow": {
     "slide_type": "-"
    }
   },
   "source": [
    "Consider the following game where each of 2 players rolls a die. \n",
    "\n",
    "* The player with the smaller value pays the other player one dollar.\n",
    "* If there is a tie, then no one pays anything."
   ]
  },
  {
   "cell_type": "markdown",
   "id": "3997033c-64a5-46e3-8596-a1e06a3e05df",
   "metadata": {
    "slideshow": {
     "slide_type": "notes"
    }
   },
   "source": [
    "Find a way to simulate one round of the game where each player rolls a die. It might help to think from the perspective of one of the players."
   ]
  },
  {
   "cell_type": "code",
   "execution_count": null,
   "id": "e7f16d35-4488-44e9-bd62-e9d1aecadbc8",
   "metadata": {
    "slideshow": {
     "slide_type": "subslide"
    }
   },
   "outputs": [],
   "source": [
    "# Work in progress\n",
    "..."
   ]
  },
  {
   "cell_type": "code",
   "execution_count": null,
   "id": "28066893-6dec-4735-b381-d32215290874",
   "metadata": {
    "slideshow": {
     "slide_type": "fragment"
    }
   },
   "outputs": [],
   "source": [
    "..."
   ]
  },
  {
   "cell_type": "code",
   "execution_count": null,
   "id": "9bcd98fc-c601-4de6-8368-a38fe93feb9b",
   "metadata": {
    "slideshow": {
     "slide_type": "fragment"
    }
   },
   "outputs": [],
   "source": [
    "..."
   ]
  },
  {
   "cell_type": "code",
   "execution_count": null,
   "id": "e3527df1-f9ed-4799-8d01-0cc6a708c42f",
   "metadata": {
    "slideshow": {
     "slide_type": "subslide"
    }
   },
   "outputs": [],
   "source": [
    "..."
   ]
  },
  {
   "cell_type": "code",
   "execution_count": null,
   "id": "9acc9b02-962c-46be-a0ea-df435ff14947",
   "metadata": {
    "slideshow": {
     "slide_type": "fragment"
    }
   },
   "outputs": [],
   "source": [
    "..."
   ]
  },
  {
   "cell_type": "code",
   "execution_count": null,
   "id": "1140b88a-82dd-4a6a-a47d-fae223d17af1",
   "metadata": {
    "slideshow": {
     "slide_type": "fragment"
    }
   },
   "outputs": [],
   "source": [
    "..."
   ]
  },
  {
   "cell_type": "code",
   "execution_count": null,
   "id": "8a60c4db-7ae5-4738-90b1-a126ccff6214",
   "metadata": {
    "slideshow": {
     "slide_type": "fragment"
    }
   },
   "outputs": [],
   "source": [
    "..."
   ]
  },
  {
   "cell_type": "markdown",
   "id": "ba7b94a1-fc0f-4fa6-8421-777d29305d55",
   "metadata": {
    "slideshow": {
     "slide_type": "fragment"
    }
   },
   "source": [
    "--- "
   ]
  },
  {
   "cell_type": "markdown",
   "id": "c52d7167-0761-450c-bc09-be481422cde6",
   "metadata": {
    "slideshow": {
     "slide_type": "slide"
    }
   },
   "source": [
    "## Random Selection"
   ]
  },
  {
   "cell_type": "markdown",
   "id": "0e9c0f62-7758-4647-8373-50bd4b30f581",
   "metadata": {
    "slideshow": {
     "slide_type": "subslide"
    }
   },
   "source": [
    "### Random Selection"
   ]
  },
  {
   "cell_type": "markdown",
   "id": "5d93f173-9b7c-4377-bcd6-e6cf25def772",
   "metadata": {
    "slideshow": {
     "slide_type": "-"
    }
   },
   "source": [
    "The command \n",
    "\n",
    "`np.random.choice(some_array, sample_size)`\n",
    "\n",
    "creates an array by selecting a number (`sample_size`) of values uniformly at random with replacement from an array (`some_array`)."
   ]
  },
  {
   "cell_type": "markdown",
   "id": "d73ecb97-c396-4ae6-8368-3546718162de",
   "metadata": {
    "slideshow": {
     "slide_type": "subslide"
    }
   },
   "source": [
    "### Demo: Random Selection"
   ]
  },
  {
   "cell_type": "markdown",
   "id": "85eb9e69-d588-4eb2-bada-5c2ea15eba25",
   "metadata": {
    "slideshow": {
     "slide_type": "notes"
    }
   },
   "source": [
    "Demonstrate how to use `np.random.choice`."
   ]
  },
  {
   "cell_type": "code",
   "execution_count": null,
   "id": "efca87e4-e328-4240-aedd-76f253418b5f",
   "metadata": {
    "slideshow": {
     "slide_type": "fragment"
    }
   },
   "outputs": [],
   "source": [
    "..."
   ]
  },
  {
   "cell_type": "code",
   "execution_count": null,
   "id": "e513bcdc-23ab-45ab-a9a1-e66e5d01152f",
   "metadata": {
    "slideshow": {
     "slide_type": "fragment"
    }
   },
   "outputs": [],
   "source": [
    "..."
   ]
  },
  {
   "cell_type": "code",
   "execution_count": null,
   "id": "41b970d6-4322-4f8b-887a-dd9aa13226bb",
   "metadata": {
    "slideshow": {
     "slide_type": "fragment"
    }
   },
   "outputs": [],
   "source": [
    "..."
   ]
  },
  {
   "cell_type": "code",
   "execution_count": null,
   "id": "b8db87e7-0620-4bf5-aaf8-be85e733a339",
   "metadata": {
    "slideshow": {
     "slide_type": "fragment"
    }
   },
   "outputs": [],
   "source": [
    "..."
   ]
  },
  {
   "cell_type": "code",
   "execution_count": null,
   "id": "5f88afe9-6c14-4c58-9b1a-8211c06f7fe5",
   "metadata": {
    "slideshow": {
     "slide_type": "subslide"
    }
   },
   "outputs": [],
   "source": [
    "..."
   ]
  },
  {
   "cell_type": "code",
   "execution_count": null,
   "id": "9e4821e7-83e7-435d-ab67-0ca87412f138",
   "metadata": {
    "slideshow": {
     "slide_type": "subslide"
    }
   },
   "outputs": [],
   "source": [
    "..."
   ]
  },
  {
   "cell_type": "code",
   "execution_count": null,
   "id": "d4d5cf92-18d3-476e-ae0f-127c36e16427",
   "metadata": {
    "slideshow": {
     "slide_type": "fragment"
    }
   },
   "outputs": [],
   "source": [
    "..."
   ]
  },
  {
   "cell_type": "code",
   "execution_count": null,
   "id": "c7f16a22-42d0-438b-95f4-59832a58606c",
   "metadata": {
    "slideshow": {
     "slide_type": "fragment"
    }
   },
   "outputs": [],
   "source": [
    "..."
   ]
  },
  {
   "cell_type": "code",
   "execution_count": null,
   "id": "80e8f200-5ece-4235-aa1b-437da285c440",
   "metadata": {
    "slideshow": {
     "slide_type": "subslide"
    }
   },
   "outputs": [],
   "source": [
    "..."
   ]
  },
  {
   "cell_type": "code",
   "execution_count": null,
   "id": "dc3dae32-53ce-44c5-b674-190310b6ba9d",
   "metadata": {
    "slideshow": {
     "slide_type": "fragment"
    }
   },
   "outputs": [],
   "source": [
    "..."
   ]
  },
  {
   "cell_type": "markdown",
   "id": "7b86d5c9-c8bc-4680-8a01-93087de25cfb",
   "metadata": {
    "slideshow": {
     "slide_type": "notes"
    }
   },
   "source": [
    "Create an array that represents the faces of a single six-sided die."
   ]
  },
  {
   "cell_type": "code",
   "execution_count": null,
   "id": "a5921a29-af09-4789-b105-39ace16e5b7f",
   "metadata": {
    "slideshow": {
     "slide_type": "subslide"
    }
   },
   "outputs": [],
   "source": [
    "..."
   ]
  },
  {
   "cell_type": "markdown",
   "id": "3771c626-d494-4444-940b-8dcc1472f284",
   "metadata": {
    "slideshow": {
     "slide_type": "notes"
    }
   },
   "source": [
    "Create a function that simulates one round of the game described earlier by randomly generating the rolls."
   ]
  },
  {
   "cell_type": "code",
   "execution_count": null,
   "id": "205c0014-e26e-4676-b2bb-dc2885cff3f2",
   "metadata": {
    "slideshow": {
     "slide_type": "fragment"
    }
   },
   "outputs": [],
   "source": [
    "..."
   ]
  },
  {
   "cell_type": "code",
   "execution_count": null,
   "id": "4ee0b8ee-d682-4ec3-9dad-f5be2b5bafa2",
   "metadata": {
    "slideshow": {
     "slide_type": "subslide"
    }
   },
   "outputs": [],
   "source": [
    "..."
   ]
  },
  {
   "cell_type": "code",
   "execution_count": null,
   "id": "88e8370d-36e3-4d7b-9b8e-dc82e2e209cc",
   "metadata": {
    "slideshow": {
     "slide_type": "fragment"
    }
   },
   "outputs": [],
   "source": [
    "..."
   ]
  },
  {
   "cell_type": "markdown",
   "id": "3c841f4f-6090-423d-98ec-c879cfe86111",
   "metadata": {
    "slideshow": {
     "slide_type": "fragment"
    }
   },
   "source": [
    "--- "
   ]
  },
  {
   "cell_type": "markdown",
   "id": "5c7bbd0f-f11c-45a1-9d62-1a09c854faf4",
   "metadata": {
    "slideshow": {
     "slide_type": "slide"
    }
   },
   "source": [
    "## Appending Arrays"
   ]
  },
  {
   "cell_type": "markdown",
   "id": "cdc1b858-5c84-4c06-ab55-f2cb49a562fc",
   "metadata": {
    "slideshow": {
     "slide_type": "subslide"
    }
   },
   "source": [
    "### A Longer Array"
   ]
  },
  {
   "cell_type": "markdown",
   "id": "5950286c-4b2f-4040-a201-7a8b5eaaebcc",
   "metadata": {
    "slideshow": {
     "slide_type": "-"
    }
   },
   "source": [
    "* `np.append(array_1, value)`\n",
    "    * new array with value appended to `array_1`\n",
    "    * `value` has to be of the same type as elements of `array_1`\n",
    "* `np.append(array_1, array_2)`\n",
    "    * new array with `array_2` appended to `array_1`\n",
    "    * `array_2` elements must have the same type as `array_1` elements"
   ]
  },
  {
   "cell_type": "markdown",
   "id": "a1cca975-b32d-4815-b02e-4adbbb3d5db8",
   "metadata": {
    "slideshow": {
     "slide_type": "subslide"
    }
   },
   "source": [
    "### Demo: Appending Arrays"
   ]
  },
  {
   "cell_type": "markdown",
   "id": "e9d3fdee-8c5a-48f6-a3e1-6ee66fb05740",
   "metadata": {
    "slideshow": {
     "slide_type": "notes"
    }
   },
   "source": [
    "Demonstrate how to append values to an array."
   ]
  },
  {
   "cell_type": "code",
   "execution_count": null,
   "id": "61f754d1-5e55-4e2b-86a0-41b6a33b54fb",
   "metadata": {
    "slideshow": {
     "slide_type": "fragment"
    }
   },
   "outputs": [],
   "source": [
    "..."
   ]
  },
  {
   "cell_type": "code",
   "execution_count": null,
   "id": "d74ce73a-ef4c-4dec-aa3c-4f4d3af6728b",
   "metadata": {
    "slideshow": {
     "slide_type": "fragment"
    }
   },
   "outputs": [],
   "source": [
    "..."
   ]
  },
  {
   "cell_type": "code",
   "execution_count": null,
   "id": "8091b818-89e8-43dd-9359-dafb72735755",
   "metadata": {
    "slideshow": {
     "slide_type": "fragment"
    }
   },
   "outputs": [],
   "source": [
    "..."
   ]
  },
  {
   "cell_type": "code",
   "execution_count": null,
   "id": "6bb0a7e2-6bcf-4c82-9d4a-e45f7b301ad5",
   "metadata": {
    "slideshow": {
     "slide_type": "subslide"
    }
   },
   "outputs": [],
   "source": [
    "..."
   ]
  },
  {
   "cell_type": "code",
   "execution_count": null,
   "id": "2a46688f-b999-47be-898c-92c0729673e5",
   "metadata": {
    "slideshow": {
     "slide_type": "fragment"
    }
   },
   "outputs": [],
   "source": [
    "..."
   ]
  },
  {
   "cell_type": "code",
   "execution_count": null,
   "id": "15a7212f-ee89-4c7b-ad9b-62b08ce96fbc",
   "metadata": {
    "slideshow": {
     "slide_type": "fragment"
    }
   },
   "outputs": [],
   "source": [
    "..."
   ]
  },
  {
   "cell_type": "markdown",
   "id": "2b3c6cab-fbc4-4837-919f-c3ca3f77b6ce",
   "metadata": {
    "slideshow": {
     "slide_type": "subslide"
    }
   },
   "source": [
    "### Demo: Repeated Betting"
   ]
  },
  {
   "cell_type": "markdown",
   "id": "d48f26cc-ab73-4b33-a4ee-d36d4ff4c532",
   "metadata": {
    "slideshow": {
     "slide_type": "notes"
    }
   },
   "source": [
    "Store the results of the simulated game in an array for each player. First, create an empty array."
   ]
  },
  {
   "cell_type": "code",
   "execution_count": null,
   "id": "1915e638-680f-4607-a925-492f5dbaa852",
   "metadata": {
    "slideshow": {
     "slide_type": "fragment"
    }
   },
   "outputs": [],
   "source": [
    "..."
   ]
  },
  {
   "cell_type": "code",
   "execution_count": null,
   "id": "766877d8-a97b-4340-a12f-87242065d380",
   "metadata": {
    "slideshow": {
     "slide_type": "fragment"
    }
   },
   "outputs": [],
   "source": [
    "..."
   ]
  },
  {
   "cell_type": "markdown",
   "id": "f039ee44-99fd-475c-8627-0dbe8cdaccf9",
   "metadata": {
    "slideshow": {
     "slide_type": "fragment"
    }
   },
   "source": [
    "--- "
   ]
  },
  {
   "cell_type": "markdown",
   "id": "27f3d54d-3436-40d1-9821-fe9e490c4806",
   "metadata": {
    "slideshow": {
     "slide_type": "slide"
    }
   },
   "source": [
    "## Iteration"
   ]
  },
  {
   "cell_type": "markdown",
   "id": "d923a074-19d3-42e3-8cfd-59745cbdd743",
   "metadata": {
    "slideshow": {
     "slide_type": "subslide"
    }
   },
   "source": [
    "### `for` Statements"
   ]
  },
  {
   "cell_type": "markdown",
   "id": "0081be61-8e73-4c20-ae29-40c44e73775c",
   "metadata": {
    "slideshow": {
     "slide_type": "-"
    }
   },
   "source": [
    "* `for` is a keyword that begins a control statement\n",
    "* The purpose of `for` is to perform a computation for every element in a list or array"
   ]
  },
  {
   "cell_type": "markdown",
   "id": "b6637bd5-ba88-4923-96db-a1851b7acc6c",
   "metadata": {
    "slideshow": {
     "slide_type": "subslide"
    }
   },
   "source": [
    "### Demo: `for` Statements"
   ]
  },
  {
   "cell_type": "markdown",
   "id": "647f7bd7-02bc-4e61-ba1e-738e337d91a9",
   "metadata": {
    "slideshow": {
     "slide_type": "notes"
    }
   },
   "source": [
    "Demonstrate how `for` statements work."
   ]
  },
  {
   "cell_type": "code",
   "execution_count": null,
   "id": "d56c0eee-6784-4f32-9806-c991d10037ee",
   "metadata": {
    "scrolled": true,
    "slideshow": {
     "slide_type": "fragment"
    }
   },
   "outputs": [],
   "source": [
    "for pet in make_array('cat', 'dog', 'rabbit'):\n",
    "    print('I love my ' + pet)"
   ]
  },
  {
   "cell_type": "code",
   "execution_count": null,
   "id": "8e2c97d9-8142-4e8e-8506-eb5d19356978",
   "metadata": {
    "slideshow": {
     "slide_type": "fragment"
    }
   },
   "outputs": [],
   "source": [
    "pet = make_array('cat', 'dog', 'rabbit').item(0)\n",
    "print('I love my ' + pet)\n",
    "\n",
    "pet = make_array('cat', 'dog', 'rabbit').item(1)\n",
    "print('I love my ' + pet)\n",
    "\n",
    "pet = make_array('cat', 'dog', 'rabbit').item(2)\n",
    "print('I love my ' + pet)"
   ]
  },
  {
   "cell_type": "markdown",
   "id": "90883f6c-29b2-4f84-bcbb-5bc3a330d7bf",
   "metadata": {
    "slideshow": {
     "slide_type": "notes"
    }
   },
   "source": [
    "Simulate and the store results of 10,000 iterations of the game described earlier."
   ]
  },
  {
   "cell_type": "code",
   "execution_count": null,
   "id": "6658f981-3965-4d0f-a203-82f9f0d52abc",
   "metadata": {
    "slideshow": {
     "slide_type": "subslide"
    }
   },
   "outputs": [],
   "source": [
    "..."
   ]
  },
  {
   "cell_type": "code",
   "execution_count": null,
   "id": "d41b4411-37db-485e-b1fd-6f9f9377c2d1",
   "metadata": {
    "slideshow": {
     "slide_type": "subslide"
    }
   },
   "outputs": [],
   "source": [
    "player1_game_outcomes = ..."
   ]
  },
  {
   "cell_type": "code",
   "execution_count": null,
   "id": "f04398b8-9d55-452b-82f5-550e2968402a",
   "metadata": {
    "slideshow": {
     "slide_type": "fragment"
    }
   },
   "outputs": [],
   "source": [
    "len(player1_game_outcomes)"
   ]
  },
  {
   "cell_type": "markdown",
   "id": "f3714a21-b24c-48d1-8640-f03346ddbc05",
   "metadata": {
    "slideshow": {
     "slide_type": "notes"
    }
   },
   "source": [
    "Create a table with the results of the game and visualize the results for Player 1."
   ]
  },
  {
   "cell_type": "code",
   "execution_count": null,
   "id": "0425ce75-1b4b-434b-b920-cedfc08d5216",
   "metadata": {
    "slideshow": {
     "slide_type": "subslide"
    }
   },
   "outputs": [],
   "source": [
    "results = Table().with_columns(\n",
    "    'Player 1 Outcomes', player1_game_outcomes,\n",
    "    'Player 2 Outcomes', -1 * player1_game_outcomes # This yeilds -0 for ties, but -0, +0, and 0 are all the same\n",
    ")\n",
    "results"
   ]
  },
  {
   "cell_type": "code",
   "execution_count": null,
   "id": "6089eb55-df56-4567-a625-275f40d3e4ac",
   "metadata": {
    "slideshow": {
     "slide_type": "subslide"
    }
   },
   "outputs": [],
   "source": [
    "results.group('Player 1 Outcomes').barh('Player 1 Outcomes')"
   ]
  },
  {
   "cell_type": "markdown",
   "id": "2ec0e867-09ab-455a-b16a-f363be1a275f",
   "metadata": {
    "slideshow": {
     "slide_type": "subslide"
    }
   },
   "source": [
    "### Demo: Simulating Heads in 100 Coin Tosses"
   ]
  },
  {
   "cell_type": "markdown",
   "id": "a666cc03-d694-41da-9abf-9f328518aca6",
   "metadata": {
    "slideshow": {
     "slide_type": "notes"
    }
   },
   "source": [
    "Create a fair coin and develop the components to simulate flipping the coin 100 times. Make sure to keep track of the results where the simulation is repeated 10,000 times."
   ]
  },
  {
   "cell_type": "code",
   "execution_count": null,
   "id": "592f949a-e831-4331-a4f2-e1716c310179",
   "metadata": {
    "slideshow": {
     "slide_type": "fragment"
    }
   },
   "outputs": [],
   "source": [
    "..."
   ]
  },
  {
   "cell_type": "code",
   "execution_count": null,
   "id": "705368f1-3d37-4ac6-97e8-35c0d3a22220",
   "metadata": {
    "slideshow": {
     "slide_type": "fragment"
    }
   },
   "outputs": [],
   "source": [
    "..."
   ]
  },
  {
   "cell_type": "code",
   "execution_count": null,
   "id": "cd8c51d9-3528-4659-ae7d-e13b53b52b3f",
   "metadata": {
    "slideshow": {
     "slide_type": "subslide"
    }
   },
   "outputs": [],
   "source": [
    "# Simulate one outcome\n",
    "\n",
    "..."
   ]
  },
  {
   "cell_type": "code",
   "execution_count": null,
   "id": "40159145-179b-457c-b8c1-dfdc6cd447b3",
   "metadata": {
    "slideshow": {
     "slide_type": "fragment"
    }
   },
   "outputs": [],
   "source": [
    "# Decide how many times you want to repeat the experiment\n",
    "..."
   ]
  },
  {
   "cell_type": "code",
   "execution_count": null,
   "id": "25b00adf-0a80-49b9-b0da-6ec4cb7abe98",
   "metadata": {
    "slideshow": {
     "slide_type": "subslide"
    }
   },
   "outputs": [],
   "source": [
    "# Simulate that many outcomes\n",
    "..."
   ]
  },
  {
   "cell_type": "code",
   "execution_count": null,
   "id": "92e88882-3228-4b46-909e-2c9332cc4eee",
   "metadata": {
    "slideshow": {
     "slide_type": "subslide"
    }
   },
   "outputs": [],
   "source": [
    "heads = Table().with_column('Heads', outcomes)\n",
    "heads.hist(bins = np.arange(29.5, 70.6))"
   ]
  },
  {
   "cell_type": "markdown",
   "id": "692ea43c-dc9d-424a-8be8-ef6e14e0758c",
   "metadata": {
    "slideshow": {
     "slide_type": "fragment"
    }
   },
   "source": [
    "--- "
   ]
  },
  {
   "cell_type": "markdown",
   "id": "d15d165b-be4b-4703-94c5-1391ec8353ac",
   "metadata": {
    "slideshow": {
     "slide_type": "slide"
    }
   },
   "source": [
    "## `bool` and `where`"
   ]
  },
  {
   "cell_type": "markdown",
   "id": "f88e56d3-b743-4c5a-82ae-b5f753ea1b2f",
   "metadata": {
    "slideshow": {
     "slide_type": "subslide"
    }
   },
   "source": [
    "### A Closer Look at `where`"
   ]
  },
  {
   "cell_type": "markdown",
   "id": "cff12580-1337-4851-8715-55460cda5fbc",
   "metadata": {
    "slideshow": {
     "slide_type": "-"
    }
   },
   "source": [
    "The command\n",
    "\n",
    "`t.where(array_of_bool_values)`\n",
    "\n",
    "returns a table with only the rows of `t` for which the corresponding `bool` is `True`."
   ]
  },
  {
   "cell_type": "markdown",
   "id": "f3082518-faf7-4d8b-ab04-6756c20cd242",
   "metadata": {
    "slideshow": {
     "slide_type": "subslide"
    }
   },
   "source": [
    "### Demo: Advanced `where`"
   ]
  },
  {
   "cell_type": "markdown",
   "id": "9afcb466-951a-433b-8f9a-c86b89b46977",
   "metadata": {
    "slideshow": {
     "slide_type": "notes"
    }
   },
   "source": [
    "Demonstrate how to use conditionals with the `where` method."
   ]
  },
  {
   "cell_type": "code",
   "execution_count": null,
   "id": "690e74c6-ae83-4b01-8173-a3a1b89af83d",
   "metadata": {
    "slideshow": {
     "slide_type": "fragment"
    }
   },
   "outputs": [],
   "source": [
    "ages = make_array(16, 22, 18, 15, 19, 15, 16, 21)\n",
    "age = Table().with_column('Age', ages)\n",
    "age"
   ]
  },
  {
   "cell_type": "code",
   "execution_count": null,
   "id": "0feda561-55fd-437f-83d1-b8cc5bc07316",
   "metadata": {
    "slideshow": {
     "slide_type": "fragment"
    }
   },
   "outputs": [],
   "source": [
    "age.where('Age', are.above_or_equal_to(18))"
   ]
  },
  {
   "cell_type": "code",
   "execution_count": null,
   "id": "2720d4d3-1908-40a8-b16d-63c85a64c6fd",
   "metadata": {
    "slideshow": {
     "slide_type": "subslide"
    }
   },
   "outputs": [],
   "source": [
    "..."
   ]
  },
  {
   "cell_type": "code",
   "execution_count": null,
   "id": "79832c2b-0da2-4cba-a65d-05e05f920045",
   "metadata": {
    "slideshow": {
     "slide_type": "fragment"
    }
   },
   "outputs": [],
   "source": [
    "..."
   ]
  },
  {
   "cell_type": "code",
   "execution_count": null,
   "id": "6abb3bff-7e16-45f4-8ec3-ee4545c95229",
   "metadata": {
    "slideshow": {
     "slide_type": "fragment"
    }
   },
   "outputs": [],
   "source": [
    "..."
   ]
  },
  {
   "cell_type": "code",
   "execution_count": null,
   "id": "ca252607-a30b-40d8-b4f7-200337f3d23f",
   "metadata": {
    "slideshow": {
     "slide_type": "subslide"
    }
   },
   "outputs": [],
   "source": [
    "..."
   ]
  },
  {
   "cell_type": "code",
   "execution_count": null,
   "id": "8f6e1e43-4911-4b4c-9412-760fe8f1f3cd",
   "metadata": {
    "slideshow": {
     "slide_type": "fragment"
    }
   },
   "outputs": [],
   "source": [
    "..."
   ]
  },
  {
   "cell_type": "code",
   "execution_count": null,
   "id": "9634fd57-5f83-4a82-b9bf-ccd2e1139b09",
   "metadata": {
    "slideshow": {
     "slide_type": "subslide"
    }
   },
   "outputs": [],
   "source": [
    "..."
   ]
  },
  {
   "cell_type": "code",
   "execution_count": null,
   "id": "81ab8f38-85cc-4315-bba8-7bd6769e6729",
   "metadata": {
    "slideshow": {
     "slide_type": "fragment"
    }
   },
   "outputs": [],
   "source": [
    "..."
   ]
  },
  {
   "cell_type": "code",
   "execution_count": null,
   "id": "762f4cb2-23fe-4a96-9007-b6a0f27d4396",
   "metadata": {
    "slideshow": {
     "slide_type": "subslide"
    }
   },
   "outputs": [],
   "source": [
    "..."
   ]
  },
  {
   "cell_type": "code",
   "execution_count": null,
   "id": "7cc6cae9-0db0-43dc-b749-db6347878a69",
   "metadata": {
    "slideshow": {
     "slide_type": "fragment"
    }
   },
   "outputs": [],
   "source": [
    "..."
   ]
  },
  {
   "cell_type": "code",
   "execution_count": null,
   "id": "280e29fe-8d85-4cae-943c-7482df154f3f",
   "metadata": {
    "slideshow": {
     "slide_type": "fragment"
    }
   },
   "outputs": [],
   "source": [
    "..."
   ]
  },
  {
   "cell_type": "code",
   "execution_count": null,
   "id": "a08b519f-fc01-4bca-9211-469dffc7b75b",
   "metadata": {
    "slideshow": {
     "slide_type": "subslide"
    }
   },
   "outputs": [],
   "source": [
    "..."
   ]
  },
  {
   "cell_type": "code",
   "execution_count": null,
   "id": "d347dbb9-54da-4ccf-bed0-c9a500820a12",
   "metadata": {
    "slideshow": {
     "slide_type": "subslide"
    }
   },
   "outputs": [],
   "source": [
    "..."
   ]
  },
  {
   "cell_type": "code",
   "execution_count": null,
   "id": "c7169004-d7b7-4520-ac11-bb99d24e03bc",
   "metadata": {
    "slideshow": {
     "slide_type": "fragment"
    }
   },
   "outputs": [],
   "source": [
    "..."
   ]
  },
  {
   "cell_type": "code",
   "execution_count": null,
   "id": "a5fd8934-5bd7-43b0-b96a-e83858e9684c",
   "metadata": {
    "slideshow": {
     "slide_type": "fragment"
    }
   },
   "outputs": [],
   "source": [
    "..."
   ]
  },
  {
   "cell_type": "markdown",
   "id": "76c43490-8dca-4cc7-bb11-d9df1fbfd44d",
   "metadata": {
    "slideshow": {
     "slide_type": "fragment"
    }
   },
   "source": [
    "--- "
   ]
  },
  {
   "cell_type": "markdown",
   "id": "5c51ad50-707c-48ae-bd79-40e7d39ae9af",
   "metadata": {
    "slideshow": {
     "slide_type": "notes"
    }
   },
   "source": [
    "<footer>\n",
    "    <p>Adopted from UC Berkeley DATA 8 course materials.</p>\n",
    "    <p>This content is offered under a <a href=\"https://creativecommons.org/licenses/by-nc-sa/4.0/\">CC Attribution Non-Commercial Share Alike</a> license.</p>\n",
    "</footer>"
   ]
  }
 ],
 "metadata": {
  "kernelspec": {
   "display_name": "Python 3 (ipykernel)",
   "language": "python",
   "name": "python3"
  },
  "language_info": {
   "codemirror_mode": {
    "name": "ipython",
    "version": 3
   },
   "file_extension": ".py",
   "mimetype": "text/x-python",
   "name": "python",
   "nbconvert_exporter": "python",
   "pygments_lexer": "ipython3",
   "version": "3.10.12"
  }
 },
 "nbformat": 4,
 "nbformat_minor": 5
}
