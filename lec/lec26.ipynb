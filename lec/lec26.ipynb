{
 "cells": [
  {
   "cell_type": "markdown",
   "id": "5ce205d7-bab4-436a-8801-4472bb108b38",
   "metadata": {
    "editable": true,
    "slideshow": {
     "slide_type": ""
    },
    "tags": []
   },
   "source": [
    "<div style=\"width: 38.5%;\">\n",
    "    <p><strong>City College of San Francisco</strong><p>\n",
    "    <hr>\n",
    "    <p>MATH 108 - Foundations of Data Science</p>\n",
    "</div>"
   ]
  },
  {
   "cell_type": "markdown",
   "id": "4bba7134-f35a-41fc-bdd9-87940fb486d8",
   "metadata": {
    "slideshow": {
     "slide_type": "-"
    }
   },
   "source": [
    "# Lecture 26: Confidence Intervals"
   ]
  },
  {
   "cell_type": "markdown",
   "id": "494b87dd-b6d1-4500-b06e-f38c2a9696c6",
   "metadata": {
    "slideshow": {
     "slide_type": "-"
    }
   },
   "source": [
    "Associated Textbook Sections: [13.0, 13.1, 13.2](https://inferentialthinking.com/chapters/13/Estimation.html)"
   ]
  },
  {
   "cell_type": "markdown",
   "id": "8165f2e5-b377-4a38-93bb-50ce58585907",
   "metadata": {
    "slideshow": {
     "slide_type": "slide"
    }
   },
   "source": [
    "## Outline"
   ]
  },
  {
   "cell_type": "markdown",
   "id": "7c310022-767e-4d54-9c9e-8c179715f99b",
   "metadata": {
    "slideshow": {
     "slide_type": "-"
    }
   },
   "source": [
    "* [Percentiles](#Percentiles)\n",
    "* [Estimation](#Estimation)\n",
    "* [The Bootstrap](#The-Bootstrap)\n",
    "* [Confidence Intervals](#Confidence-Intervals)"
   ]
  },
  {
   "cell_type": "markdown",
   "id": "39086cd2-5f0a-46c8-b773-22fa39dc4b71",
   "metadata": {
    "slideshow": {
     "slide_type": "slide"
    }
   },
   "source": [
    "## Set Up the Notebook"
   ]
  },
  {
   "cell_type": "code",
   "execution_count": null,
   "id": "8f7cc18b-7a9c-4659-a216-b832e6e15622",
   "metadata": {
    "slideshow": {
     "slide_type": "-"
    }
   },
   "outputs": [],
   "source": [
    "from datascience import *\n",
    "import numpy as np\n",
    "%matplotlib inline\n",
    "import matplotlib.pyplot as plt\n",
    "plt.style.use('fivethirtyeight')"
   ]
  },
  {
   "cell_type": "markdown",
   "id": "ff3132cf-73f9-4efc-a3be-fc9c03b1c7ed",
   "metadata": {
    "slideshow": {
     "slide_type": "slide"
    }
   },
   "source": [
    "## Percentiles"
   ]
  },
  {
   "cell_type": "markdown",
   "id": "2d92d9f8-19c0-495b-ba6e-2bd8e6fb8369",
   "metadata": {
    "slideshow": {
     "slide_type": "subslide"
    }
   },
   "source": [
    "### Computing Percentiles"
   ]
  },
  {
   "cell_type": "markdown",
   "id": "8293dcd5-3c31-4c17-b69d-ca326725c6fb",
   "metadata": {
    "slideshow": {
     "slide_type": "-"
    }
   },
   "source": [
    "The Xth percentile is first value on the sorted list that is at least as large as X% of the elements. "
   ]
  },
  {
   "cell_type": "markdown",
   "id": "b885aa93-8802-48a8-8ffc-ab771b50841d",
   "metadata": {
    "slideshow": {
     "slide_type": "fragment"
    }
   },
   "source": [
    "* The 80th percentile of `[1, 7, 3, 9, 5]` is the 4th ordered (`[1, 3, 5, 7, 9]`) element, 7:\n",
    "* The 4th element is used because $(80/100) \\cdot 5 = 4$\n",
    "* For a percentile that does not exactly correspond to an element, take the next greater element instead"
   ]
  },
  {
   "cell_type": "markdown",
   "id": "e4a348a4-7b90-4d71-81c1-388914740ce6",
   "metadata": {
    "slideshow": {
     "slide_type": "subslide"
    }
   },
   "source": [
    "### The percentile Function"
   ]
  },
  {
   "cell_type": "markdown",
   "id": "63b819d8-f3ab-4b22-a98d-778673da206a",
   "metadata": {
    "slideshow": {
     "slide_type": "-"
    },
    "tags": []
   },
   "source": [
    "* The pth percentile is the smallest value in a set that is at least as large as p% of the elements in the set\n",
    "* Function in the datascience module: `percentile(p, values)`\n",
    "    * `p` is between 0 and 100\n",
    "    * `values` is an array, list, etc.\n",
    "    * Returns the pth percentile of the array\n",
    "* `percentile(80, s)` returns `7`"
   ]
  },
  {
   "cell_type": "markdown",
   "id": "d6703197-331a-444f-b098-7abda0b0151f",
   "metadata": {
    "slideshow": {
     "slide_type": "subslide"
    }
   },
   "source": [
    "### Demo: Percentiles"
   ]
  },
  {
   "cell_type": "markdown",
   "id": "96fafc5d-4be7-4410-99aa-77118bd5d795",
   "metadata": {
    "slideshow": {
     "slide_type": "notes"
    }
   },
   "source": [
    "Compute the 55th percentile of the following array."
   ]
  },
  {
   "cell_type": "code",
   "execution_count": null,
   "id": "6ec30d39-50b2-445b-9182-b52d47c47787",
   "metadata": {
    "slideshow": {
     "slide_type": "-"
    }
   },
   "outputs": [],
   "source": [
    "x = make_array(43, 20, 51, 7, 28, 34)"
   ]
  },
  {
   "cell_type": "code",
   "execution_count": null,
   "id": "0b6b547e-c022-4c3c-8b52-9b53c3c9d936",
   "metadata": {
    "slideshow": {
     "slide_type": "fragment"
    }
   },
   "outputs": [],
   "source": [
    "..."
   ]
  },
  {
   "cell_type": "markdown",
   "id": "f774e0a0-3ed4-47a4-871c-beae0f4510d6",
   "metadata": {
    "slideshow": {
     "slide_type": "notes"
    }
   },
   "source": [
    "Sort the array"
   ]
  },
  {
   "cell_type": "code",
   "execution_count": null,
   "id": "c7a8af5a-e6cd-4e69-a756-7f5f1147e505",
   "metadata": {
    "slideshow": {
     "slide_type": "fragment"
    }
   },
   "outputs": [],
   "source": [
    "..."
   ]
  },
  {
   "cell_type": "markdown",
   "id": "51d1bead-5d09-4e57-933b-a80259dd8567",
   "metadata": {
    "slideshow": {
     "slide_type": "notes"
    }
   },
   "source": [
    "Calculate the value of the index corresponding to the percentile. Round up the value."
   ]
  },
  {
   "cell_type": "code",
   "execution_count": null,
   "id": "32a78295-a102-42dd-bb00-92269556227f",
   "metadata": {
    "slideshow": {
     "slide_type": "fragment"
    }
   },
   "outputs": [],
   "source": [
    "..."
   ]
  },
  {
   "cell_type": "markdown",
   "id": "ce7cae85-8532-4159-b516-5ad866b6c2b9",
   "metadata": {
    "slideshow": {
     "slide_type": "slide"
    }
   },
   "source": [
    "## Estimation"
   ]
  },
  {
   "cell_type": "markdown",
   "id": "2fa6dee2-fe6e-4ce3-94ab-109fb088e9ab",
   "metadata": {
    "slideshow": {
     "slide_type": "subslide"
    }
   },
   "source": [
    "### Inference: Estimation"
   ]
  },
  {
   "cell_type": "markdown",
   "id": "eb44d3f3-80a8-4126-a1a3-e0fd967552eb",
   "metadata": {
    "slideshow": {
     "slide_type": "-"
    }
   },
   "source": [
    "How do we calculate the value of an unknown parameter?\n",
    "* If you have a census (that is, the whole population): Just calculate the parameter and you're done\n",
    "* If you don't have a census:\n",
    "    * Take a random sample from the population\n",
    "    * Use a statistic as an estimate of the parameter"
   ]
  },
  {
   "cell_type": "markdown",
   "id": "e864378c-c5c7-4476-81c9-f9a52d3bf6e2",
   "metadata": {
    "slideshow": {
     "slide_type": "subslide"
    }
   },
   "source": [
    "### Demo: Sample Median Estimation"
   ]
  },
  {
   "cell_type": "markdown",
   "id": "d3d0b2d7-cbf5-4ab4-bf28-23e410775c90",
   "metadata": {},
   "source": [
    "Load the [2022 Employee Compensation data from data.sfgov.org](https://data.sfgov.org/City-Management-and-Ethics/Employee-Compensation/88g8-5mnd)."
   ]
  },
  {
   "cell_type": "code",
   "execution_count": null,
   "id": "8918bc0d-8861-4c58-997d-3c8c87c6e3ac",
   "metadata": {
    "tags": []
   },
   "outputs": [],
   "source": [
    "sf = Table.read_table('https://data.sfgov.org/resource/88g8-5mnd.csv?year=2022')\n",
    "sf.show(3)"
   ]
  },
  {
   "cell_type": "markdown",
   "id": "e5e1a442-92f0-4f58-912d-00549ee02db7",
   "metadata": {
    "slideshow": {
     "slide_type": "notes"
    }
   },
   "source": [
    "Reduce the table to the `job`, `total_salary`, and `total_compensation` columns."
   ]
  },
  {
   "cell_type": "code",
   "execution_count": null,
   "id": "f066b1b9-d1e3-46ee-8ccc-df82f0bb5bb4",
   "metadata": {
    "scrolled": true,
    "slideshow": {
     "slide_type": "subslide"
    }
   },
   "outputs": [],
   "source": [
    "sf = sf.select('job', 'total_salary', 'total_compensation')\n",
    "sf.show(3)"
   ]
  },
  {
   "cell_type": "markdown",
   "id": "9869667b-b11f-4830-ad2a-451d12ae82ff",
   "metadata": {
    "slideshow": {
     "slide_type": "notes"
    }
   },
   "source": [
    "Who is making the most money?"
   ]
  },
  {
   "cell_type": "code",
   "execution_count": null,
   "id": "8fe6861d-be18-4791-a348-7bf8343f9011",
   "metadata": {
    "slideshow": {
     "slide_type": "subslide"
    }
   },
   "outputs": [],
   "source": [
    "sf.sort('total_compensation', descending=True).show(5)"
   ]
  },
  {
   "cell_type": "markdown",
   "id": "8f916681-c57b-447d-91f2-bbd5403150f2",
   "metadata": {
    "slideshow": {
     "slide_type": "notes"
    }
   },
   "source": [
    "Visually explore the distribution of compensations."
   ]
  },
  {
   "cell_type": "code",
   "execution_count": null,
   "id": "be8a3f19-25f9-428c-a872-e222cd5618b8",
   "metadata": {
    "slideshow": {
     "slide_type": "subslide"
    }
   },
   "outputs": [],
   "source": [
    "..."
   ]
  },
  {
   "cell_type": "markdown",
   "id": "bb0243f8-7630-4d4b-b511-fa3a5bff83ec",
   "metadata": {
    "slideshow": {
     "slide_type": "notes"
    }
   },
   "source": [
    "Filter out the bottom 5% and top 5% of compensations."
   ]
  },
  {
   "cell_type": "code",
   "execution_count": null,
   "id": "bc1024f8-d82a-471c-847d-4c749d90dd35",
   "metadata": {
    "slideshow": {
     "slide_type": "subslide"
    }
   },
   "outputs": [],
   "source": [
    "bottom_5 = ...\n",
    "top_5 = ...\n",
    "sf = ...\n",
    "sf.select('total_compensation').hist(bins=30)"
   ]
  },
  {
   "cell_type": "markdown",
   "id": "1145db8a-6c3b-4187-aa14-84f1804ce065",
   "metadata": {
    "slideshow": {
     "slide_type": "notes"
    }
   },
   "source": [
    "Calculate the median total compensation of this population."
   ]
  },
  {
   "cell_type": "code",
   "execution_count": null,
   "id": "4ac93d73-634e-4b69-8386-92e23d207e95",
   "metadata": {
    "slideshow": {
     "slide_type": "subslide"
    }
   },
   "outputs": [],
   "source": [
    "pop_median = ...\n",
    "pop_median"
   ]
  },
  {
   "cell_type": "markdown",
   "id": "34981022-39dd-46d0-a550-d62ad8399fac",
   "metadata": {
    "slideshow": {
     "slide_type": "notes"
    }
   },
   "source": [
    "Randomly sample 300 employees from the population and calculate the sample median total compensation."
   ]
  },
  {
   "cell_type": "code",
   "execution_count": null,
   "id": "4dff6a98-e948-496d-8ea2-8e0c6b0ad6e2",
   "metadata": {
    "slideshow": {
     "slide_type": "subslide"
    }
   },
   "outputs": [],
   "source": [
    "our_sample = ...\n",
    "our_sample.show(5)"
   ]
  },
  {
   "cell_type": "code",
   "execution_count": null,
   "id": "08ca9985-641d-446e-9e0f-7c4f27173787",
   "metadata": {
    "slideshow": {
     "slide_type": "fragment"
    }
   },
   "outputs": [],
   "source": [
    "..."
   ]
  },
  {
   "cell_type": "markdown",
   "id": "bbf5912d-f2da-44af-bf35-463a604e39cc",
   "metadata": {
    "slideshow": {
     "slide_type": "notes"
    }
   },
   "source": [
    "Visually compare the distribution of total compensation values for the population and random sample."
   ]
  },
  {
   "cell_type": "code",
   "execution_count": null,
   "id": "ebf146fb-9542-4c1f-a2fe-f67e254b4c22",
   "metadata": {
    "slideshow": {
     "slide_type": "subslide"
    }
   },
   "outputs": [],
   "source": [
    "....hist('total_compensation', bins=10)\n",
    "plt.title('Population Distribution');"
   ]
  },
  {
   "cell_type": "code",
   "execution_count": null,
   "id": "28134def-99d5-4d34-bdac-d5f19ba9ccb7",
   "metadata": {
    "slideshow": {
     "slide_type": "subslide"
    }
   },
   "outputs": [],
   "source": [
    "....hist('total_compensation', bins=10)\n",
    "plt.title('Sample Distribution');"
   ]
  },
  {
   "cell_type": "markdown",
   "id": "166113a4-ad63-40bb-ba21-9fc12d6e7514",
   "metadata": {
    "slideshow": {
     "slide_type": "subslide"
    }
   },
   "source": [
    "### Variability of the Estimate"
   ]
  },
  {
   "cell_type": "markdown",
   "id": "373f99dd-174b-411a-8966-c9af2540422a",
   "metadata": {
    "slideshow": {
     "slide_type": "-"
    }
   },
   "source": [
    "* One sample $\\implies$ One estimate\n",
    "* But the random sample could have come out differently\n",
    "* And so the estimate could have been different\n",
    "* **Big question**: How different would it be if we did it again?\n"
   ]
  },
  {
   "cell_type": "markdown",
   "id": "59c8aaee-fd75-4a00-90ea-ef4d1ad650d0",
   "metadata": {
    "slideshow": {
     "slide_type": "subslide"
    }
   },
   "source": [
    "### Demo: Variability of the Estimate"
   ]
  },
  {
   "cell_type": "markdown",
   "id": "5eb7d30e-428f-4f42-872d-7d0cccffeb32",
   "metadata": {
    "slideshow": {
     "slide_type": "notes"
    }
   },
   "source": [
    "Create a function that samples randomly from the `sf` table and returns the sample median for `total_compensation`."
   ]
  },
  {
   "cell_type": "code",
   "execution_count": null,
   "id": "99f40a1c-8cb3-49a5-bb38-8f380845460c",
   "metadata": {
    "slideshow": {
     "slide_type": "-"
    }
   },
   "outputs": [],
   "source": [
    "def generate_sample_median(samp_size):\n",
    "    ...\n",
    "    return ..."
   ]
  },
  {
   "cell_type": "code",
   "execution_count": null,
   "id": "f08b497e-09a8-4b45-9281-a6581e620533",
   "metadata": {
    "slideshow": {
     "slide_type": "fragment"
    }
   },
   "outputs": [],
   "source": [
    "sample_median = generate_sample_median(300)\n",
    "sample_median"
   ]
  },
  {
   "cell_type": "markdown",
   "id": "124f7cad-6e39-4e1f-b772-0131fe3d35ef",
   "metadata": {
    "slideshow": {
     "slide_type": "notes"
    }
   },
   "source": [
    "Compute the error if the sample median is used to estimate the population median for total compensation. Re-run the above function to see how the error varies."
   ]
  },
  {
   "cell_type": "code",
   "execution_count": null,
   "id": "edadb2d0-1881-443e-b1dc-781c5cc9f565",
   "metadata": {
    "slideshow": {
     "slide_type": "subslide"
    }
   },
   "outputs": [],
   "source": [
    "error = ...\n",
    "error"
   ]
  },
  {
   "cell_type": "markdown",
   "id": "32e1f2b8-c9e6-427d-91f2-4a840e886921",
   "metadata": {
    "slideshow": {
     "slide_type": "subslide"
    }
   },
   "source": [
    "### Quantifying Uncertainty"
   ]
  },
  {
   "cell_type": "markdown",
   "id": "bf9dc7e3-2292-44b7-a757-6d26e00c71cf",
   "metadata": {
    "slideshow": {
     "slide_type": "-"
    }
   },
   "source": [
    "* The estimate is usually not exactly right: `Estimate = Parameter + Error`\n",
    "* How accurate is the estimate, usually?\n",
    "* How big is a typical error?\n",
    "* When we have a census, we can do this by simulation\n"
   ]
  },
  {
   "cell_type": "markdown",
   "id": "4d700628-ffc2-4ef8-ad6d-c2a5d1a71b7f",
   "metadata": {
    "slideshow": {
     "slide_type": "subslide"
    }
   },
   "source": [
    "### Demo: Quantifying Uncertainty"
   ]
  },
  {
   "cell_type": "markdown",
   "id": "396b717d-4f3b-45e8-abb6-01725ce8bda3",
   "metadata": {
    "slideshow": {
     "slide_type": "notes"
    }
   },
   "source": [
    "Generate 1000 random samples of size 300 and calculate the total compensation median for each sample. Store the median values in an array and visualize the sample distribution along with the population median."
   ]
  },
  {
   "cell_type": "code",
   "execution_count": null,
   "id": "317031c2-4b3f-4131-9d6e-8889223555e7",
   "metadata": {
    "slideshow": {
     "slide_type": "subslide"
    }
   },
   "outputs": [],
   "source": [
    "..."
   ]
  },
  {
   "cell_type": "code",
   "execution_count": null,
   "id": "305717e7-0c3b-46d1-975e-035d53a5edef",
   "metadata": {
    "slideshow": {
     "slide_type": "subslide"
    }
   },
   "outputs": [],
   "source": [
    "Table().with_column(\n",
    "    'Sample Medians', ...\n",
    ").hist(bins = 20)\n",
    "\n",
    "plt.scatter(pop_median, 0, color=\"red\", s=60, zorder=3);"
   ]
  },
  {
   "cell_type": "markdown",
   "id": "5efd54d2-a86f-416a-90c0-f9d9ccdf8eee",
   "metadata": {
    "slideshow": {
     "slide_type": "notes"
    }
   },
   "source": [
    "Visualize the distribution of errors found from using the sample medians to estimate the population median."
   ]
  },
  {
   "cell_type": "code",
   "execution_count": null,
   "id": "8b7655ea-d8b3-4b48-956b-fd14ab7d7132",
   "metadata": {
    "slideshow": {
     "slide_type": "subslide"
    }
   },
   "outputs": [],
   "source": [
    "Table().with_column(\n",
    "    'Errors', ...\n",
    ").hist(bins=20)\n",
    "\n",
    "plt.scatter(0, 0, color=\"red\", s=60, zorder=3);"
   ]
  },
  {
   "cell_type": "markdown",
   "id": "e0ff90a6-eebb-400a-ba43-7fd6f7fb6b75",
   "metadata": {
    "slideshow": {
     "slide_type": "subslide"
    }
   },
   "source": [
    "### Where to Get Another Sample?"
   ]
  },
  {
   "cell_type": "markdown",
   "id": "66938d9c-bc09-4370-9666-6153063dcd3e",
   "metadata": {
    "slideshow": {
     "slide_type": "-"
    }
   },
   "source": [
    "* We want to understand errors of our estimate\n",
    "* Given the population, we could simulate... but we only have the sample!\n",
    "* To get many values of the estimate, we needed many random samples\n",
    "* We can't go back and sample again from the population:\n",
    "    * No time, no money\n",
    "    * Stuck?\n"
   ]
  },
  {
   "cell_type": "markdown",
   "id": "6c10b82f-37fc-4ae8-aeed-3e154b5d1178",
   "metadata": {
    "slideshow": {
     "slide_type": "slide"
    }
   },
   "source": [
    "## The Bootstrap"
   ]
  },
  {
   "cell_type": "markdown",
   "id": "dec51354-b90d-4196-ad18-464409776fcd",
   "metadata": {
    "slideshow": {
     "slide_type": "subslide"
    }
   },
   "source": [
    "### The Bootstrap"
   ]
  },
  {
   "cell_type": "markdown",
   "id": "0dd00b28-4903-4340-a41e-6361aa572ee1",
   "metadata": {
    "slideshow": {
     "slide_type": "-"
    }
   },
   "source": [
    "* A technique for simulating repeated random sampling\n",
    "* All that we have is the original sample... which is large and random\n",
    "* Therefore, it probably resembles the population\n",
    "* So we sample at random from the original sample!"
   ]
  },
  {
   "cell_type": "markdown",
   "id": "5d6e5efc-07ee-48f9-89a6-368689380d47",
   "metadata": {
    "slideshow": {
     "slide_type": "subslide"
    }
   },
   "source": [
    "### Why the Bootstrap Works"
   ]
  },
  {
   "cell_type": "markdown",
   "id": "a05eae61-048f-49f1-9745-119cba4b7376",
   "metadata": {
    "slideshow": {
     "slide_type": "-"
    }
   },
   "source": [
    "All of the resamples look pretty **similar**, most likely.\n",
    "\n",
    "<img src=\"./img/why_the_bootstrap_works.png\" width=90%>"
   ]
  },
  {
   "cell_type": "markdown",
   "id": "85d86ace-9168-469d-9c1e-3598fe1b922c",
   "metadata": {
    "slideshow": {
     "slide_type": "subslide"
    }
   },
   "source": [
    "### Why We Need the Bootstrap"
   ]
  },
  {
   "cell_type": "markdown",
   "id": "6a9bd7f2-a2e3-48b2-bfaa-b7ee8c9eb21e",
   "metadata": {
    "slideshow": {
     "slide_type": "-"
    }
   },
   "source": [
    "<img src=\"./img/why_we_need_the_bootstrap.png\" width=90%>"
   ]
  },
  {
   "cell_type": "markdown",
   "id": "1c53dc62-a2ed-4b9a-b9c2-568fd1dfaa09",
   "metadata": {
    "slideshow": {
     "slide_type": "subslide"
    }
   },
   "source": [
    "### The Bootstrap Principle"
   ]
  },
  {
   "cell_type": "markdown",
   "id": "b20dde4f-ae13-4b75-a1d6-e55738acc71c",
   "metadata": {
    "slideshow": {
     "slide_type": "-"
    }
   },
   "source": [
    "* The bootstrap principle: Bootstrap-world sampling $\\approx$ Real-world sampling \n",
    "* Not always true! ... but reasonable if sample is large enough\n",
    "* We hope that the following are similar to what they are in the real world\n",
    "    * Variability of bootstrap estimate\n",
    "    * Distribution of bootstrap errors\n",
    "\n"
   ]
  },
  {
   "cell_type": "markdown",
   "id": "cb5f2c91-eb14-491d-8332-6d82be1c922e",
   "metadata": {
    "slideshow": {
     "slide_type": "subslide"
    }
   },
   "source": [
    "### Key to Resampling"
   ]
  },
  {
   "cell_type": "markdown",
   "id": "9ff263e7-74ca-43f2-a720-9595eb06a7d4",
   "metadata": {
    "slideshow": {
     "slide_type": "-"
    }
   },
   "source": [
    "* From the original sample,\n",
    "    * draw at random\n",
    "    * with replacement\n",
    "    * as many values as the original sample contained\n",
    "* The size of the new sample has to be the same as the original one, so that the two estimates are comparable\n"
   ]
  },
  {
   "cell_type": "markdown",
   "id": "7feac688-4701-47e8-8b14-005c6a15ffba",
   "metadata": {
    "slideshow": {
     "slide_type": "subslide"
    }
   },
   "source": [
    "### The Bootstrap Process"
   ]
  },
  {
   "cell_type": "markdown",
   "id": "7e0e190e-eac4-41e6-adff-018f9c67927e",
   "metadata": {
    "slideshow": {
     "slide_type": "fragment"
    }
   },
   "source": [
    "#### One Random Sample"
   ]
  },
  {
   "cell_type": "markdown",
   "id": "ce6034ef-56c7-49c3-a29e-f919fca83c43",
   "metadata": {},
   "source": [
    "True but unknown distribution (population) → Random sample (the original sample)\n",
    "\n"
   ]
  },
  {
   "cell_type": "markdown",
   "id": "f1074009-e9e0-45a2-a84e-3d748bd649ec",
   "metadata": {
    "slideshow": {
     "slide_type": "fragment"
    }
   },
   "source": [
    "#### Bootstrap"
   ]
  },
  {
   "cell_type": "markdown",
   "id": "ce3a8f77-56df-4735-957b-42232b95abf9",
   "metadata": {},
   "source": [
    "Empirical distribution of original sample (“population”) → Bootstrap sample 1\n",
    "* → Estimate 1\n",
    "* → Bootstrap sample 2\n",
    "* → Estimate 2\n",
    "* ...\n",
    "* → Bootstrap sample 1000\n",
    "* → Estimate 1000"
   ]
  },
  {
   "cell_type": "markdown",
   "id": "f3405406-54f8-4270-b9fc-8bad738cc5f5",
   "metadata": {
    "slideshow": {
     "slide_type": "subslide"
    }
   },
   "source": [
    "### Demo: Bootstrap"
   ]
  },
  {
   "cell_type": "markdown",
   "id": "c2c0e73d-e685-4e9d-937d-f613575413a9",
   "metadata": {
    "slideshow": {
     "slide_type": "notes"
    }
   },
   "source": [
    "Take a bootstrap (re)sample (**WITH replacement**) of size 300 from the last sf sample."
   ]
  },
  {
   "cell_type": "code",
   "execution_count": null,
   "id": "44e494c1-9679-4f54-80ef-5469504d2edf",
   "metadata": {
    "slideshow": {
     "slide_type": "-"
    }
   },
   "outputs": [],
   "source": [
    "boot_sample = ...\n",
    "....hist('total_compensation', bins=20)\n",
    "plt.title('Bootstrap sample');\n",
    " \n",
    "print(\"Population Median =       \", pop_median)\n",
    "print(\"Our Sample Median =       \", sample_median)\n",
    "print(\"Bootstrap Sample Median = \", \n",
    "      np.median(boot_sample.column('total_compensation')))"
   ]
  },
  {
   "cell_type": "markdown",
   "id": "b44051cb-68f8-45c7-a09a-dbd6a32e0aef",
   "metadata": {
    "slideshow": {
     "slide_type": "notes"
    }
   },
   "source": [
    "Explore the distribution of 1000 bootstrap resamples from the one sample in relation to the sample median and population median."
   ]
  },
  {
   "cell_type": "code",
   "execution_count": null,
   "id": "ff6c0c7e-2fd6-4f54-ac82-0adbb75da7b5",
   "metadata": {
    "slideshow": {
     "slide_type": "subslide"
    }
   },
   "outputs": [],
   "source": [
    "def one_bootstrap_median():\n",
    "    ...\n",
    "    return ..."
   ]
  },
  {
   "cell_type": "code",
   "execution_count": null,
   "id": "cab47fa1-6a4a-4537-8360-28c726eaa67f",
   "metadata": {
    "slideshow": {
     "slide_type": "subslide"
    }
   },
   "outputs": [],
   "source": [
    "..."
   ]
  },
  {
   "cell_type": "code",
   "execution_count": null,
   "id": "2c11ee49-1693-4ba8-833a-3b6161a43253",
   "metadata": {
    "slideshow": {
     "slide_type": "subslide"
    },
    "tags": []
   },
   "outputs": [],
   "source": [
    "Table().with_column(\n",
    "    'Bootstrap Medians', ...\n",
    ").hist('Bootstrap Medians', bins=20)\n",
    "\n",
    "plt.scatter(pop_median, 0, color=\"red\", s=60, zorder=3);\n",
    "plt.scatter(sample_median, 0, color=\"blue\", s=60, zorder=3);"
   ]
  },
  {
   "cell_type": "markdown",
   "id": "224904cd-7e39-4c2f-aea8-7cca2c8d741c",
   "metadata": {
    "slideshow": {
     "slide_type": "slide"
    }
   },
   "source": [
    "## Confidence Intervals"
   ]
  },
  {
   "cell_type": "markdown",
   "id": "69e2f470-b133-4732-88ae-c09c4b5490c6",
   "metadata": {
    "slideshow": {
     "slide_type": "subslide"
    }
   },
   "source": [
    "### 95% Confidence Interval"
   ]
  },
  {
   "cell_type": "markdown",
   "id": "27efa0b5-936b-436d-b58e-c9b399426b6d",
   "metadata": {
    "slideshow": {
     "slide_type": "-"
    }
   },
   "source": [
    "* Interval of estimates of a parameter\n",
    "* Based on random sampling\n",
    "* 95% is called the confidence level\n",
    "    * Could be any percent between 0 and 100\n",
    "    * Higher level means wider intervals\n",
    "* The confidence is in the process that gives the interval: It generates a \"good\" interval about 95% of the time."
   ]
  },
  {
   "cell_type": "markdown",
   "id": "78c98f09-534d-4bc4-bd51-ded98d644dd5",
   "metadata": {
    "slideshow": {
     "slide_type": "subslide"
    }
   },
   "source": [
    "### Demo: Confidence Intervals"
   ]
  },
  {
   "cell_type": "markdown",
   "id": "15547a6a-c1c5-4163-ac6b-aeeb58270b7c",
   "metadata": {
    "slideshow": {
     "slide_type": "notes"
    }
   },
   "source": [
    "Make an interval based on the middle 95% of bootstrap samples."
   ]
  },
  {
   "cell_type": "code",
   "execution_count": null,
   "id": "49976f2a-a07b-4b6f-b054-8f95bc868548",
   "metadata": {
    "slideshow": {
     "slide_type": "-"
    }
   },
   "outputs": [],
   "source": [
    "left = ...\n",
    "right = ...\n",
    "\n",
    "Table().with_column(\n",
    "    'Bootstrap Medians', bootstrap_medians\n",
    ").hist('Bootstrap Medians', bins=20)\n",
    "\n",
    "plt.plot([left, right], [0,0], color=\"gold\",lw=6, zorder=3);\n",
    "plt.scatter(pop_median, 0, color=\"red\", s=60, zorder=4);\n",
    "plt.scatter(sample_median, 0, color=\"blue\", s=60, zorder=4);"
   ]
  },
  {
   "cell_type": "markdown",
   "id": "9d2f1e98-1d0e-4619-a603-501bf436cea4",
   "metadata": {
    "slideshow": {
     "slide_type": "fragment"
    }
   },
   "source": [
    "---"
   ]
  },
  {
   "cell_type": "markdown",
   "id": "5cb79f45-0704-4d58-918e-97c6a624e05a",
   "metadata": {
    "slideshow": {
     "slide_type": "notes"
    }
   },
   "source": [
    "<footer>\n",
    "    <p>Adopted from UC Berkeley DATA 8 course materials.</p>\n",
    "    <p>This content is offered under a <a href=\"https://creativecommons.org/licenses/by-nc-sa/4.0/\">CC Attribution Non-Commercial Share Alike</a> license.</p>\n",
    "</footer>"
   ]
  }
 ],
 "metadata": {
  "kernelspec": {
   "display_name": "Python 3 (ipykernel)",
   "language": "python",
   "name": "python3"
  },
  "language_info": {
   "codemirror_mode": {
    "name": "ipython",
    "version": 3
   },
   "file_extension": ".py",
   "mimetype": "text/x-python",
   "name": "python",
   "nbconvert_exporter": "python",
   "pygments_lexer": "ipython3",
   "version": "3.10.12"
  }
 },
 "nbformat": 4,
 "nbformat_minor": 5
}
