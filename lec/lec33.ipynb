{
 "cells": [
  {
   "cell_type": "markdown",
   "id": "5ce205d7-bab4-436a-8801-4472bb108b38",
   "metadata": {
    "editable": true,
    "slideshow": {
     "slide_type": ""
    },
    "tags": []
   },
   "source": [
    "<div style=\"width: 38.5%;\">\n",
    "    <p><strong>City College of San Francisco</strong><p>\n",
    "    <hr>\n",
    "    <p>MATH 108 - Foundations of Data Science</p>\n",
    "</div>"
   ]
  },
  {
   "cell_type": "markdown",
   "id": "4bba7134-f35a-41fc-bdd9-87940fb486d8",
   "metadata": {
    "slideshow": {
     "slide_type": "-"
    }
   },
   "source": [
    "# Lecture 33: Linear Regression"
   ]
  },
  {
   "cell_type": "markdown",
   "id": "56efd951",
   "metadata": {},
   "source": [
    "Associated Textbook Sections: [15.2](https://inferentialthinking.com/chapters/15/2/Regression_Line.html)"
   ]
  },
  {
   "cell_type": "markdown",
   "id": "64cbe4d2-80bb-41c4-9467-373e0e9d9d76",
   "metadata": {
    "slideshow": {
     "slide_type": "slide"
    }
   },
   "source": [
    "## Outline"
   ]
  },
  {
   "cell_type": "markdown",
   "id": "1f33c912",
   "metadata": {},
   "source": [
    "* [Prediction](#Prediction)\n",
    "* [Linear Regression](#Linear-Regression)\n",
    "* [Slope & Intercept](#Slope-&-Intercept)"
   ]
  },
  {
   "cell_type": "markdown",
   "id": "5c99860d-9203-434c-8fdc-9393281e2a92",
   "metadata": {
    "slideshow": {
     "slide_type": "slide"
    }
   },
   "source": [
    "## Set Up the Notebook"
   ]
  },
  {
   "cell_type": "code",
   "execution_count": null,
   "id": "d91939a2-e468-4007-a4e1-95d836472f84",
   "metadata": {
    "slideshow": {
     "slide_type": "-"
    }
   },
   "outputs": [],
   "source": [
    "from datascience import *\n",
    "import numpy as np\n",
    "%matplotlib inline\n",
    "import matplotlib.pyplot as plt\n",
    "plt.style.use('fivethirtyeight')\n",
    "\n",
    "# Some functions for plotting. You are not required to understand how these work.\n",
    "def resize_window(lim=3.5):\n",
    "    plt.xlim(-lim, lim)\n",
    "    plt.ylim(-lim, lim)\n",
    "\n",
    "def draw_line(slope=0, intercept=0, x=make_array(-4, 4), color='r'):\n",
    "    y = x*slope + intercept\n",
    "    plt.plot(x, y, color=color)\n",
    "    \n",
    "def draw_vertical_line(x_position, color='black'):\n",
    "    x = make_array(x_position, x_position)\n",
    "    y = make_array(-4, 4)\n",
    "    plt.plot(x, y, color=color)\n",
    "    \n",
    "def make_correlated_data(r):\n",
    "    x = np.random.normal(0, 1, 1000)\n",
    "    z = np.random.normal(0, 1, 1000)\n",
    "    y = r*x + (np.sqrt(1-r**2))*z\n",
    "    return x, y\n",
    "\n",
    "def r_scatter(r):\n",
    "    \"\"\"Generate a scatter plot with a correlation approximately r\"\"\"\n",
    "    plt.figure(figsize=(5,5))\n",
    "    x, y = make_correlated_data(r)\n",
    "    plt.scatter(x, y, color='darkblue', s=20)\n",
    "    plt.xlim(-4, 4)\n",
    "    plt.ylim(-4, 4)\n",
    "    \n",
    "def r_table(r):\n",
    "    \"\"\"\n",
    "    Generate a table of 1000 data points with a correlation approximately r\n",
    "    \"\"\"\n",
    "    np.random.seed(8)\n",
    "    x, y = make_correlated_data(r)\n",
    "    return Table().with_columns('x', x, 'y', y)\n",
    "\n",
    "def nn_prediction_galton(h):\n",
    "    \"\"\"Return a prediction of the height of a child \n",
    "    whose parents have a midparent height of h.\n",
    "    \n",
    "    The prediction is the average height of the children \n",
    "    whose midparent height is in the range h plus or minus 0.5 inches.\n",
    "    \"\"\"\n",
    "    neighbors = heights.where(\n",
    "        'MidParent', are.between(h - 0.5, h + 0.5))\n",
    "    return np.mean(neighbors.column('Child'))"
   ]
  },
  {
   "cell_type": "markdown",
   "id": "2f528397-092b-4244-8454-a549cbfec5e6",
   "metadata": {
    "slideshow": {
     "slide_type": "fragment"
    }
   },
   "source": [
    "---"
   ]
  },
  {
   "cell_type": "markdown",
   "id": "0a801a22",
   "metadata": {},
   "source": [
    "## Prediction"
   ]
  },
  {
   "cell_type": "code",
   "execution_count": null,
   "id": "96392278",
   "metadata": {},
   "outputs": [],
   "source": [
    "galton = Table.read_table('data/galton.csv')\n",
    "heights = Table().with_columns(\n",
    "    'MidParent', galton.column('midparentHeight'),\n",
    "    'Child', galton.column('childHeight'))"
   ]
  },
  {
   "cell_type": "markdown",
   "id": "49620efb",
   "metadata": {},
   "source": [
    "### Galton's Heights (`child` vs. `midParent`)"
   ]
  },
  {
   "cell_type": "code",
   "execution_count": null,
   "id": "f3530489",
   "metadata": {},
   "outputs": [],
   "source": [
    "heights.scatter('MidParent')"
   ]
  },
  {
   "cell_type": "markdown",
   "id": "81799e7b",
   "metadata": {},
   "source": [
    "* Oval shaped\n",
    "* Moderate positive correlation\n",
    "* How can we predict child height from mid-parent height?"
   ]
  },
  {
   "cell_type": "markdown",
   "id": "479bdde0",
   "metadata": {},
   "source": [
    "### Galton's Heights (within 0.5 of `midParentHeight`)\n"
   ]
  },
  {
   "cell_type": "code",
   "execution_count": null,
   "id": "5a2af64a",
   "metadata": {},
   "outputs": [],
   "source": [
    "heights.scatter('MidParent')\n",
    "plt.plot([68-0.5, 68-0.5], [55, 80], color=\"red\", lw=4)\n",
    "plt.plot([68+0.5, 68+0.5], [55, 80], color=\"red\", lw=4)\n",
    "plt.scatter(68, nn_prediction_galton(68), color=\"gold\", s=60, zorder=3)\n",
    "plt.show()"
   ]
  },
  {
   "cell_type": "markdown",
   "id": "2c79f39a",
   "metadata": {},
   "source": [
    "### Galton's Heights (predictions)\n"
   ]
  },
  {
   "cell_type": "code",
   "execution_count": null,
   "id": "132b59cb",
   "metadata": {},
   "outputs": [],
   "source": [
    "predicted_child = heights.apply(nn_prediction_galton, 'MidParent')\n",
    "heights_with_predictions = heights.with_column('Predicted Child', predicted_child)\n",
    "heights_with_predictions.scatter('MidParent')"
   ]
  },
  {
   "cell_type": "markdown",
   "id": "d7995807",
   "metadata": {},
   "source": [
    "### Nearest Neighbor Regression"
   ]
  },
  {
   "cell_type": "markdown",
   "id": "f2be378b",
   "metadata": {},
   "source": [
    "* A method for prediction:\n",
    "    * Group each x with similar (nearby) x values\n",
    "    * Average the corresponding y values for each group\n",
    "    * For each x value, the prediction is the average of the y values in its nearby group.\n",
    "* The graph of these predictions is the \"graph of averages\".\n",
    "* If the association between x and y is linear, then points in the graph of averages tend to fall on a line.\n"
   ]
  },
  {
   "cell_type": "markdown",
   "id": "821838ad",
   "metadata": {},
   "source": [
    "### Where is the prediction line? (`r=0.99`)\n"
   ]
  },
  {
   "cell_type": "code",
   "execution_count": null,
   "id": "f8716179",
   "metadata": {},
   "outputs": [],
   "source": [
    "r_scatter(0.99)"
   ]
  },
  {
   "cell_type": "markdown",
   "id": "0ca9e8ee",
   "metadata": {},
   "source": [
    "### Where is the prediction line? (`r=0`)\n"
   ]
  },
  {
   "cell_type": "code",
   "execution_count": null,
   "id": "f591d118",
   "metadata": {},
   "outputs": [],
   "source": [
    "r_scatter(0)"
   ]
  },
  {
   "cell_type": "markdown",
   "id": "4d129cfd",
   "metadata": {},
   "source": [
    "### Demo: Prediction lines"
   ]
  },
  {
   "cell_type": "markdown",
   "id": "d3425c5a",
   "metadata": {},
   "source": [
    "Identify the best fit line in relation to the nearest neighbor predictions with data showing an r value of 0.99."
   ]
  },
  {
   "cell_type": "code",
   "execution_count": null,
   "id": "f1088e23",
   "metadata": {},
   "outputs": [],
   "source": [
    "example = r_table(0.99)\n",
    "example.show(3)"
   ]
  },
  {
   "cell_type": "code",
   "execution_count": null,
   "id": "021efd1f",
   "metadata": {},
   "outputs": [],
   "source": [
    "example.scatter('x', 'y')"
   ]
  },
  {
   "cell_type": "code",
   "execution_count": null,
   "id": "3d8507c1",
   "metadata": {},
   "outputs": [],
   "source": [
    "example.scatter('x', 'y')\n",
    "resize_window()"
   ]
  },
  {
   "cell_type": "code",
   "execution_count": null,
   "id": "4feca329",
   "metadata": {},
   "outputs": [],
   "source": [
    "def nn_prediction_example(x_val):\n",
    "    \"\"\" Predicts y-value for x based on the example table \"\"\"\n",
    "    neighbors = example.where('x', are.between(x_val - .25, x_val + .25))\n",
    "    return np.mean(neighbors.column('y'))\n",
    "    "
   ]
  },
  {
   "cell_type": "code",
   "execution_count": null,
   "id": "039370e1",
   "metadata": {},
   "outputs": [],
   "source": [
    "nn_prediction_example(-2.25)"
   ]
  },
  {
   "cell_type": "code",
   "execution_count": null,
   "id": "44bcc231",
   "metadata": {},
   "outputs": [],
   "source": [
    "example = example.with_columns(\n",
    "    'Predicted y', \n",
    "    example.apply(nn_prediction_example, 'x'))"
   ]
  },
  {
   "cell_type": "code",
   "execution_count": null,
   "id": "cd4db90c",
   "metadata": {},
   "outputs": [],
   "source": [
    "example.scatter('x')\n",
    "resize_window()"
   ]
  },
  {
   "cell_type": "code",
   "execution_count": null,
   "id": "d57ac93e",
   "metadata": {},
   "outputs": [],
   "source": [
    "example.scatter('x')\n",
    "draw_line(slope=1, color='dodgerblue')\n",
    "resize_window()"
   ]
  },
  {
   "cell_type": "markdown",
   "id": "8d01f68d",
   "metadata": {},
   "source": [
    "Identify the best fit line in relation to the nearest neighbor predictions with data showing an r value of 0."
   ]
  },
  {
   "cell_type": "code",
   "execution_count": null,
   "id": "d136f108",
   "metadata": {},
   "outputs": [],
   "source": [
    "example = r_table(0)\n",
    "example.scatter('x', 'y')\n",
    "resize_window()"
   ]
  },
  {
   "cell_type": "code",
   "execution_count": null,
   "id": "b6ec539a",
   "metadata": {},
   "outputs": [],
   "source": [
    "example = example.with_columns(\n",
    "    'Predicted y', \n",
    "    example.apply(nn_prediction_example, 'x'))"
   ]
  },
  {
   "cell_type": "code",
   "execution_count": null,
   "id": "16c13863",
   "metadata": {},
   "outputs": [],
   "source": [
    "example = example.with_column(\n",
    "    'Predicted y', example.apply(nn_prediction_example, 'x'))\n",
    "example.scatter('x')\n",
    "draw_line(slope = 0)\n",
    "resize_window()"
   ]
  },
  {
   "cell_type": "markdown",
   "id": "50f8ae33",
   "metadata": {},
   "source": [
    "Identify the best fit line in relation to the nearest neighbor predictions with data showing an r value of 0.5."
   ]
  },
  {
   "cell_type": "code",
   "execution_count": null,
   "id": "7fdc3164",
   "metadata": {},
   "outputs": [],
   "source": [
    "example = r_table(0.5)\n",
    "example.scatter('x', 'y')\n",
    "resize_window()"
   ]
  },
  {
   "cell_type": "code",
   "execution_count": null,
   "id": "440f868c",
   "metadata": {},
   "outputs": [],
   "source": [
    "example = r_table(0.5)\n",
    "example.scatter('x', 'y')\n",
    "resize_window()\n",
    "draw_vertical_line(1.5)\n",
    "draw_line(slope=1, intercept=0)"
   ]
  },
  {
   "cell_type": "code",
   "execution_count": null,
   "id": "0b92eb15",
   "metadata": {},
   "outputs": [],
   "source": [
    "example = example.with_column('Predicted y', example.apply(nn_prediction_example, 'x'))\n",
    "example.scatter('x')\n",
    "draw_line(slope=1)\n",
    "draw_vertical_line(1.5)\n",
    "resize_window()"
   ]
  },
  {
   "cell_type": "code",
   "execution_count": null,
   "id": "5263d728",
   "metadata": {},
   "outputs": [],
   "source": [
    "example.scatter('x')\n",
    "draw_line(slope=1, intercept=0, color='red')\n",
    "draw_line(slope=0.5, intercept=0, color='dodgerblue')\n",
    "resize_window()"
   ]
  },
  {
   "cell_type": "markdown",
   "id": "6d361b2d",
   "metadata": {},
   "source": [
    "---"
   ]
  },
  {
   "cell_type": "markdown",
   "id": "441ea998",
   "metadata": {},
   "source": [
    "## Linear Regression"
   ]
  },
  {
   "cell_type": "markdown",
   "id": "4bc58d79",
   "metadata": {},
   "source": [
    "### Linear Regression"
   ]
  },
  {
   "cell_type": "markdown",
   "id": "63d2c481",
   "metadata": {},
   "source": [
    "* A statement about x and y pairs\n",
    "    * Measured in standard units\n",
    "    * Describing the deviation of $x$ from 0 (the average of $x$'s)\n",
    "    * And the deviation of $y$ from 0 (the average of $y$'s)\n",
    "* On average, $y$ deviates from 0 less than $x$ deviates from 0\n",
    "* Regression Line Equation: $y_{\\text{su}} = r \\times x_{\\text{su}}$\n",
    "* Not true for all points — a statement about averages"
   ]
  },
  {
   "cell_type": "markdown",
   "id": "fd185fca",
   "metadata": {},
   "source": [
    "---"
   ]
  },
  {
   "cell_type": "markdown",
   "id": "7126e6b2",
   "metadata": {},
   "source": [
    "## Slope & Intercept"
   ]
  },
  {
   "cell_type": "markdown",
   "id": "5010e15b",
   "metadata": {},
   "source": [
    "### Regression Line Equation"
   ]
  },
  {
   "cell_type": "markdown",
   "id": "56c6fc96",
   "metadata": {},
   "source": [
    "* In original units, the regression line has this equation: $$\\frac{\\text{estimate of } y - \\text{average of } y}{\\text{SD of } y} = r \\times \\frac{\\text{the given } x - \\text{average of } x}{\\text{SD of } x}$$\n",
    "* Lines can be expressed by slope & intercept as: $y = \\text{slope} \\times x + \\text{intercept}$"
   ]
  },
  {
   "cell_type": "markdown",
   "id": "377d82da",
   "metadata": {},
   "source": [
    "### Regression Line"
   ]
  },
  {
   "cell_type": "markdown",
   "id": "3ee873da",
   "metadata": {},
   "source": [
    "<img src=\"img/lec30_regression_line.png\" width=60%>"
   ]
  },
  {
   "cell_type": "markdown",
   "id": "98cf1116",
   "metadata": {},
   "source": [
    "### Slope and Intercept"
   ]
  },
  {
   "cell_type": "markdown",
   "id": "dcae225b",
   "metadata": {},
   "source": [
    "* `estimate_of_y = slope * x + intercept`\n",
    "* `slope = r * (SD_y / SD_x)`\n",
    "* `intercept = mean_y - slope * mean_x`"
   ]
  },
  {
   "cell_type": "markdown",
   "id": "3a90c709",
   "metadata": {},
   "source": [
    "### Demo: Defining the line"
   ]
  },
  {
   "cell_type": "markdown",
   "id": "e08ae518",
   "metadata": {},
   "source": [
    "Use the `standard_units` and `correlation` functions to define functions `slope` and `intercept`. "
   ]
  },
  {
   "cell_type": "code",
   "execution_count": null,
   "id": "f6f13481",
   "metadata": {},
   "outputs": [],
   "source": [
    "# Copy-pasted from above\n",
    "def standard_units(x):\n",
    "    \"\"\"Converts an array x to standard units\"\"\"\n",
    "    return (x - np.mean(x)) / np.std(x)\n",
    "\n",
    "def correlation(t, x, y):\n",
    "    x_su = standard_units(t.column(x))\n",
    "    y_su = standard_units(t.column(y))\n",
    "    return np.mean(x_su * y_su)"
   ]
  },
  {
   "cell_type": "code",
   "execution_count": null,
   "id": "039a052b",
   "metadata": {},
   "outputs": [],
   "source": [
    "def slope(t, x, y):\n",
    "    return ...\n",
    "\n",
    "def intercept(t, x, y):\n",
    "    return ... "
   ]
  },
  {
   "cell_type": "code",
   "execution_count": null,
   "id": "78766df1",
   "metadata": {},
   "outputs": [],
   "source": [
    "example = r_table(0.5)\n",
    "slope(example, 'x', 'y'), intercept(example, 'x', 'y')"
   ]
  },
  {
   "cell_type": "markdown",
   "id": "73df4c7b",
   "metadata": {},
   "source": [
    "### Units"
   ]
  },
  {
   "cell_type": "markdown",
   "id": "d217a251",
   "metadata": {},
   "source": [
    "Suppose we use linear regression to predict candy prices (in dollars) from sugar content (in grams). The units of the following are:\n",
    "\n",
    "* $r$ - no units\n",
    "* The slope - dollars/grams\n",
    "* The intercept - dollars"
   ]
  },
  {
   "cell_type": "markdown",
   "id": "28fd53eb",
   "metadata": {},
   "source": [
    "### Example"
   ]
  },
  {
   "cell_type": "markdown",
   "id": "938a22c3",
   "metadata": {},
   "source": [
    "* A course has a midterm (average 70; standard deviation 10)\n",
    "and a really hard final (average 50; standard deviation 12)\n",
    "* If the scatter diagram comparing midterm & final scores for students has an oval shape with correlation 0.75, then... \n",
    "    1. What do you expect the average final score would be for students who scored 90 on the midterm?\n",
    "    2. How about 60 on the midterm?"
   ]
  },
  {
   "cell_type": "code",
   "execution_count": null,
   "id": "c2af2382",
   "metadata": {},
   "outputs": [],
   "source": [
    "def predict(midterm_score):\n",
    "    ..."
   ]
  },
  {
   "cell_type": "code",
   "execution_count": null,
   "id": "ccb02df2",
   "metadata": {},
   "outputs": [],
   "source": [
    "# 1.\n",
    "predict(90)"
   ]
  },
  {
   "cell_type": "code",
   "execution_count": null,
   "id": "a26da0e5",
   "metadata": {},
   "outputs": [],
   "source": [
    "# 2.\n",
    "predict(60)"
   ]
  },
  {
   "cell_type": "markdown",
   "id": "a88e6477-73da-43a6-8732-e58f11ad65f6",
   "metadata": {
    "slideshow": {
     "slide_type": "fragment"
    }
   },
   "source": [
    "---"
   ]
  },
  {
   "cell_type": "markdown",
   "id": "bd157618-9e0d-4d06-be07-66be9cfd6498",
   "metadata": {
    "slideshow": {
     "slide_type": "notes"
    }
   },
   "source": [
    "<footer>\n",
    "    <p>Adopted from UC Berkeley DATA 8 course materials.</p>\n",
    "    <p>This content is offered under a <a href=\"https://creativecommons.org/licenses/by-nc-sa/4.0/\">CC Attribution Non-Commercial Share Alike</a> license.</p>\n",
    "</footer>"
   ]
  }
 ],
 "metadata": {
  "kernelspec": {
   "display_name": "Python 3 (ipykernel)",
   "language": "python",
   "name": "python3"
  },
  "language_info": {
   "codemirror_mode": {
    "name": "ipython",
    "version": 3
   },
   "file_extension": ".py",
   "mimetype": "text/x-python",
   "name": "python",
   "nbconvert_exporter": "python",
   "pygments_lexer": "ipython3",
   "version": "3.10.12"
  }
 },
 "nbformat": 4,
 "nbformat_minor": 5
}
