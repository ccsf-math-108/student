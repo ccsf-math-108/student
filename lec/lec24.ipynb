{
 "cells": [
  {
   "cell_type": "markdown",
   "id": "5ce205d7-bab4-436a-8801-4472bb108b38",
   "metadata": {
    "editable": true,
    "slideshow": {
     "slide_type": ""
    },
    "tags": []
   },
   "source": [
    "<div style=\"width: 38.5%;\">\n",
    "    <p><strong>City College of San Francisco</strong><p>\n",
    "    <hr>\n",
    "    <p>MATH 108 - Foundations of Data Science</p>\n",
    "</div>"
   ]
  },
  {
   "cell_type": "markdown",
   "id": "4bba7134-f35a-41fc-bdd9-87940fb486d8",
   "metadata": {
    "slideshow": {
     "slide_type": "-"
    }
   },
   "source": [
    "# Lecture 24: Causality"
   ]
  },
  {
   "cell_type": "markdown",
   "id": "d22ace33-187e-4212-b883-e81730cb6178",
   "metadata": {
    "slideshow": {
     "slide_type": "-"
    }
   },
   "source": [
    "Associated Textbook Sections: [12.2](https://inferentialthinking.com/chapters/12/2/Causality.html)"
   ]
  },
  {
   "cell_type": "markdown",
   "id": "cdbea57b-854c-4320-b40c-e49c32043cd2",
   "metadata": {
    "slideshow": {
     "slide_type": "slide"
    }
   },
   "source": [
    "<div style=\"width: 38.5%;\">\n",
    "    <p><strong>City College of San Francisco</strong><p>\n",
    "    <hr>\n",
    "    <p>MATH 108 - Foundations of Data Science</p>\n",
    "</div>"
   ]
  },
  {
   "cell_type": "markdown",
   "id": "558c85d6-1084-451a-8bc9-ffbe5fa2e93f",
   "metadata": {
    "slideshow": {
     "slide_type": "slide"
    }
   },
   "source": [
    "## Outline"
   ]
  },
  {
   "cell_type": "markdown",
   "id": "d21cc630-74da-44da-bfc8-c857c7c5bbd8",
   "metadata": {
    "slideshow": {
     "slide_type": "-"
    }
   },
   "source": [
    "* [Causality](#Causality)\n",
    "* [An Error Probability](#An-Error-Probability)"
   ]
  },
  {
   "cell_type": "markdown",
   "id": "de1e4664-c6cd-44ad-beb9-80fbb070c663",
   "metadata": {
    "slideshow": {
     "slide_type": "slide"
    }
   },
   "source": [
    "## Set Up the Notebook"
   ]
  },
  {
   "cell_type": "code",
   "execution_count": null,
   "id": "d0652102-08ee-456a-8d79-284cc05e9f93",
   "metadata": {
    "slideshow": {
     "slide_type": "-"
    }
   },
   "outputs": [],
   "source": [
    "from datascience import *\n",
    "import numpy as np\n",
    "%matplotlib inline\n",
    "import matplotlib.pyplot as plt\n",
    "plt.style.use('fivethirtyeight')"
   ]
  },
  {
   "cell_type": "markdown",
   "id": "23ccc609-0c5b-4d12-82c5-706629b776a3",
   "metadata": {
    "slideshow": {
     "slide_type": "fragment"
    }
   },
   "source": [
    "---"
   ]
  },
  {
   "cell_type": "markdown",
   "id": "564aab9f-92ca-4472-ab75-6409abe2fbca",
   "metadata": {
    "slideshow": {
     "slide_type": "slide"
    }
   },
   "source": [
    "## Causality"
   ]
  },
  {
   "cell_type": "markdown",
   "id": "75fdd670-5f47-4818-9d7e-80f671faa605",
   "metadata": {
    "slideshow": {
     "slide_type": "subslide"
    }
   },
   "source": [
    "### Randomized Controlled Experiment"
   ]
  },
  {
   "cell_type": "markdown",
   "id": "d7b2b6af-ee8d-443c-885d-707a7941cc6d",
   "metadata": {
    "slideshow": {
     "slide_type": "-"
    }
   },
   "source": [
    "* Sample A: control group\n",
    "* Sample B: treatment group\n",
    "* If the treatment and control groups are selected at random, then you can make causal conclusions.\n",
    "* Any difference in outcomes between the two groups could be due to chance or the treatment.\n"
   ]
  },
  {
   "cell_type": "markdown",
   "id": "3fd3a6f8-822e-429b-8eb3-abb413f16636",
   "metadata": {
    "slideshow": {
     "slide_type": "subslide"
    }
   },
   "source": [
    "### Demo: Randomized Control Experiment"
   ]
  },
  {
   "cell_type": "markdown",
   "id": "d9f472c5-8522-4c02-b40a-41ab967fce6b",
   "metadata": {
    "slideshow": {
     "slide_type": "notes"
    }
   },
   "source": [
    "Load the data in `bta.csv` that is associated with [an experiment to assess whether or not Botox can be used to reduce pain](https://journals.lww.com/clinicalpain/Abstract/2006/01000/The_Effect_of_Small_Doses_of_Botulinum_Toxin_A_on.11.aspx) (Neck-Shoulder Myofascial Pain Syndrome). The control group received a saline solution, while the treatment group received botulinum toxin type A. A 1 result means that there was a reduction in pain, and a 0 result means that there wasn't a reduction in pain."
   ]
  },
  {
   "cell_type": "code",
   "execution_count": null,
   "id": "e4f6aae5-82c3-4f45-99e7-77b5e84497eb",
   "metadata": {
    "scrolled": true,
    "slideshow": {
     "slide_type": "-"
    }
   },
   "outputs": [],
   "source": [
    "botox = Table.read_table('./data/bta.csv')\n",
    "botox"
   ]
  },
  {
   "cell_type": "markdown",
   "id": "5649fb1f-81ae-40c3-ac92-b5e555c259a5",
   "metadata": {
    "slideshow": {
     "slide_type": "notes"
    }
   },
   "source": [
    "Compare the results for the two groups."
   ]
  },
  {
   "cell_type": "code",
   "execution_count": null,
   "id": "856a8ec1-4306-46df-8551-6c5e16eb0e7d",
   "metadata": {
    "slideshow": {
     "slide_type": "subslide"
    }
   },
   "outputs": [],
   "source": [
    "botox.pivot('Result', 'Group')"
   ]
  },
  {
   "cell_type": "code",
   "execution_count": null,
   "id": "3e5e7ad8-20f0-4080-8c31-a377bf9e02c8",
   "metadata": {
    "slideshow": {
     "slide_type": "fragment"
    }
   },
   "outputs": [],
   "source": [
    "botox.group('Group', np.average)"
   ]
  },
  {
   "cell_type": "markdown",
   "id": "acff23b6-4e81-4cfe-84a4-716b0caad228",
   "metadata": {
    "slideshow": {
     "slide_type": "subslide"
    }
   },
   "source": [
    "### Before the Randomization"
   ]
  },
  {
   "cell_type": "markdown",
   "id": "d1b09360-7329-4023-9bed-e558221d1ff7",
   "metadata": {
    "slideshow": {
     "slide_type": "-"
    }
   },
   "source": [
    "* In the population there is one imaginary ticket for each of the 31 participants in the experiment.\n",
    "* Each participant’s ticket looks like this:\n",
    "\n",
    "<img src=\"img/lec20_before_randomization.png\" width=70%>"
   ]
  },
  {
   "cell_type": "markdown",
   "id": "81f3406e-47a3-4fe3-98f8-803713306c53",
   "metadata": {
    "slideshow": {
     "slide_type": "subslide"
    }
   },
   "source": [
    "### The Data"
   ]
  },
  {
   "cell_type": "markdown",
   "id": "b3318d7d-05d7-4a61-9248-8a1d0ba8bd8e",
   "metadata": {
    "slideshow": {
     "slide_type": "-"
    }
   },
   "source": [
    "16 randomly picked tickets show:\n",
    "\n",
    "<img src=\"img/lec20_16_tickets.png\" width=50%>"
   ]
  },
  {
   "cell_type": "markdown",
   "id": "71e51f9f-c706-4c4c-b3bc-7afd27e278bc",
   "metadata": {
    "slideshow": {
     "slide_type": "-"
    }
   },
   "source": [
    "The remaining 15 tickets show:\n",
    "\n",
    "<img src=\"img/lec20_15_remaining.png\" width=50%>"
   ]
  },
  {
   "cell_type": "markdown",
   "id": "ff4a583a-2ac2-4ab5-b75b-508dc8831008",
   "metadata": {
    "slideshow": {
     "slide_type": "subslide"
    }
   },
   "source": [
    "### The Hypotheses"
   ]
  },
  {
   "cell_type": "markdown",
   "id": "72b5292a-0250-4eaa-ad88-81e4cd39d5fc",
   "metadata": {
    "slideshow": {
     "slide_type": "-"
    }
   },
   "source": [
    "* Null: In the population, the distribution of all potential control scores is the same as the distribution of all potential treatment scores. (The treatment has no effect.)\n",
    "* Alternative: In the population, more of the potential treatment scores are 1 (pain improves) than the potential control scores."
   ]
  },
  {
   "cell_type": "markdown",
   "id": "9cad9bba-0da1-46fe-84b0-96c47121d538",
   "metadata": {
    "slideshow": {
     "slide_type": "subslide"
    }
   },
   "source": [
    "### Demo: Testing the Hypothesis"
   ]
  },
  {
   "cell_type": "markdown",
   "id": "bc415bb6-b6e0-4a8e-9cf2-f1fa8384ead6",
   "metadata": {
    "slideshow": {
     "slide_type": "notes"
    }
   },
   "source": [
    "Compute the observed difference in results for the treatment and control groups using the `difference_of_means` function."
   ]
  },
  {
   "cell_type": "code",
   "execution_count": null,
   "id": "81188f3f-09dc-4684-b181-effa71b1766e",
   "metadata": {
    "slideshow": {
     "slide_type": "-"
    }
   },
   "outputs": [],
   "source": [
    "def difference_of_means(table, numeric_label, group_label):\n",
    "    \"\"\"\n",
    "    Takes: name of table, column label of numerical variable,\n",
    "    column label of group-label variable\n",
    "    \n",
    "    Returns: Difference of means of the two groups\n",
    "    \"\"\"\n",
    "    \n",
    "    #table with the two relevant columns\n",
    "    reduced = ...\n",
    "    \n",
    "    # table containing group means\n",
    "    means_table = ...\n",
    "    \n",
    "    # array of group means\n",
    "    means = ...\n",
    "    \n",
    "    return ..."
   ]
  },
  {
   "cell_type": "code",
   "execution_count": null,
   "id": "eeb2931d-e0a4-49f4-bc6d-40bf7f83b33b",
   "metadata": {
    "slideshow": {
     "slide_type": "fragment"
    }
   },
   "outputs": [],
   "source": [
    "observed_diff = ...\n",
    "observed_diff"
   ]
  },
  {
   "cell_type": "markdown",
   "id": "063a54f7-6ba3-4837-95d4-9cf13c49460b",
   "metadata": {
    "slideshow": {
     "slide_type": "notes"
    }
   },
   "source": [
    "Use `one_simulated_difference` to determine the chance of observing the above sample data if it were true that Botox had no impact on pain reduction."
   ]
  },
  {
   "cell_type": "code",
   "execution_count": null,
   "id": "10cec440-7df2-4248-9179-99ed4fa53682",
   "metadata": {
    "slideshow": {
     "slide_type": "subslide"
    }
   },
   "outputs": [],
   "source": [
    "def one_simulated_difference(table, numeric_label, group_label):\n",
    "    \"\"\"\n",
    "    Takes: name of table, column label of numerical variable,\n",
    "    column label of group-label variable\n",
    "    \n",
    "    Returns: Difference of means of the two groups after shuffling labels\n",
    "    \"\"\"\n",
    "    \n",
    "    # array of shuffled labels\n",
    "    shuffled_labels = ...\n",
    "    \n",
    "    # table of numerical variable and shuffled labels\n",
    "    shuffled_table = ...\n",
    "    \n",
    "    return ... "
   ]
  },
  {
   "cell_type": "code",
   "execution_count": null,
   "id": "dfeabace-9c49-4437-aa46-3bae0893ffd0",
   "metadata": {
    "slideshow": {
     "slide_type": "notes"
    }
   },
   "outputs": [],
   "source": [
    "one_simulated_difference(botox, ..., ...)"
   ]
  },
  {
   "cell_type": "code",
   "execution_count": null,
   "id": "bcb05e11-6d70-4664-a151-f4313c7d2d3d",
   "metadata": {
    "slideshow": {
     "slide_type": "subslide"
    }
   },
   "outputs": [],
   "source": [
    "simulated_diffs = ...\n",
    "\n",
    "for ...\n",
    "    sim_diff = ...\n",
    "    simulated_diffs = ..."
   ]
  },
  {
   "cell_type": "code",
   "execution_count": null,
   "id": "e02b64de-0b4e-44b9-a308-f1d1fef7bd01",
   "metadata": {
    "slideshow": {
     "slide_type": "subslide"
    }
   },
   "outputs": [],
   "source": [
    "col_name = 'Distances between groups'\n",
    "Table().with_column(col_name, simulated_diffs).hist(col_name)\n",
    "plt.scatter(observed_diff, 0, color=\"red\", s=60, zorder=3);"
   ]
  },
  {
   "cell_type": "code",
   "execution_count": null,
   "id": "16a686c0-4543-406e-99fc-41dcea2dc6fe",
   "metadata": {
    "scrolled": true,
    "slideshow": {
     "slide_type": "fragment"
    }
   },
   "outputs": [],
   "source": [
    "p_value = ...\n",
    "np.round(p_value, 3)"
   ]
  },
  {
   "cell_type": "markdown",
   "id": "259f91df-f5f0-40a2-9db5-5bc5d12445cb",
   "metadata": {
    "slideshow": {
     "slide_type": "subslide"
    }
   },
   "source": [
    "### Random Assignment & Shuffling"
   ]
  },
  {
   "cell_type": "markdown",
   "id": "cf30c6db-781b-49c2-aef8-85239c15b529",
   "metadata": {
    "slideshow": {
     "slide_type": "-"
    }
   },
   "source": [
    "<img src=\"img/lec20_random_assignment_and_shuffling.png\" width=80%>"
   ]
  },
  {
   "cell_type": "markdown",
   "id": "63322d0b-285d-4eb6-8b52-6497e29c4d4b",
   "metadata": {
    "slideshow": {
     "slide_type": "fragment"
    }
   },
   "source": [
    "---"
   ]
  },
  {
   "cell_type": "markdown",
   "id": "4fc941d6-d3bf-45f9-890b-0e12821dc11e",
   "metadata": {
    "slideshow": {
     "slide_type": "slide"
    }
   },
   "source": [
    "## An Error Probability"
   ]
  },
  {
   "cell_type": "markdown",
   "id": "af135bb0-3dfa-442c-a49e-e1b1631862f8",
   "metadata": {
    "slideshow": {
     "slide_type": "subslide"
    }
   },
   "source": [
    "### Can the Conclusion be Wrong?"
   ]
  },
  {
   "cell_type": "markdown",
   "id": "677c1e02-c32a-4b44-aefc-6346ce622d6e",
   "metadata": {
    "slideshow": {
     "slide_type": "-"
    }
   },
   "source": [
    "Yes."
   ]
  },
  {
   "cell_type": "markdown",
   "id": "8e0735e3-7f18-48c3-bb8b-cc7e850b7a56",
   "metadata": {
    "slideshow": {
     "slide_type": "fragment"
    }
   },
   "source": [
    "| | Null is True | Alternative is True | \n",
    "| --- | ----------- | ---|\n",
    "| (Type I Error) Test favors the Null | ✅ | ❌ |\n",
    "| (Type II Error) Test favors the Alternative | ❌ | ✅ |"
   ]
  },
  {
   "cell_type": "markdown",
   "id": "fcaac94c-82f8-4789-a7f7-763737438f7a",
   "metadata": {
    "slideshow": {
     "slide_type": "fragment"
    }
   },
   "source": [
    "* Type I Error - False Positive\n",
    "* Type II Error - False Negative"
   ]
  },
  {
   "cell_type": "markdown",
   "id": "c809342a-891e-4963-aba6-0ea774f474d1",
   "metadata": {
    "slideshow": {
     "slide_type": "subslide"
    }
   },
   "source": [
    "### An Error Probability"
   ]
  },
  {
   "cell_type": "markdown",
   "id": "83138ec8-213c-43c9-9e6c-186f3bc4fc0a",
   "metadata": {
    "slideshow": {
     "slide_type": "-"
    }
   },
   "source": [
    "* The cutoff for the P-value is the Type I error probability.\n",
    "* If your cutoff is 5% and the null hypothesis happens to be true, then there is about a 5% chance that your test will reject the null hypothesis. (Type I Error: 5%)\n",
    "* The chance of making a Type II error is the complement value to the statistical power of the test. You are not expected to know about the power of a test or what the chance of making a Type II error is in this class."
   ]
  },
  {
   "cell_type": "markdown",
   "id": "4117519e-47f8-4d2b-9ed1-ae12f4cac348",
   "metadata": {
    "slideshow": {
     "slide_type": "subslide"
    }
   },
   "source": [
    "### P-value cutoff vs P-value"
   ]
  },
  {
   "cell_type": "markdown",
   "id": "e83d98a4-1e1f-4086-af0c-ebf53688e6ac",
   "metadata": {
    "slideshow": {
     "slide_type": "-"
    }
   },
   "source": [
    "* P-value cutoff\n",
    "    * Does not depend on observed data or simulation\n",
    "    * Decide on it before seeing the results\n",
    "    * Conventional values at 5% and 1%\n",
    "    * Probability of hypothesis testing making an error\n",
    "* P-value\n",
    "    * Depends on the observed data and simulation\n",
    "    * Probability under the null hypothesis that the test statistic is the observed value or further towards the alternative\n"
   ]
  },
  {
   "cell_type": "markdown",
   "id": "5d4541a7-3997-4083-895c-4a6be06c0c13",
   "metadata": {
    "slideshow": {
     "slide_type": "fragment"
    }
   },
   "source": [
    "---"
   ]
  },
  {
   "cell_type": "markdown",
   "id": "83ac6ddd-a98e-4294-a2d1-17ecb493ffaa",
   "metadata": {
    "slideshow": {
     "slide_type": "notes"
    }
   },
   "source": [
    "<footer>\n",
    "    <p>Adopted from UC Berkeley DATA 8 course materials.</p>\n",
    "    <p>This content is offered under a <a href=\"https://creativecommons.org/licenses/by-nc-sa/4.0/\">CC Attribution Non-Commercial Share Alike</a> license.</p>\n",
    "</footer>"
   ]
  }
 ],
 "metadata": {
  "kernelspec": {
   "display_name": "Python 3 (ipykernel)",
   "language": "python",
   "name": "python3"
  },
  "language_info": {
   "codemirror_mode": {
    "name": "ipython",
    "version": 3
   },
   "file_extension": ".py",
   "mimetype": "text/x-python",
   "name": "python",
   "nbconvert_exporter": "python",
   "pygments_lexer": "ipython3",
   "version": "3.10.12"
  }
 },
 "nbformat": 4,
 "nbformat_minor": 5
}
