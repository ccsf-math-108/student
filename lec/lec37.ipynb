{
 "cells": [
  {
   "cell_type": "markdown",
   "id": "5ce205d7-bab4-436a-8801-4472bb108b38",
   "metadata": {
    "editable": true,
    "slideshow": {
     "slide_type": ""
    },
    "tags": []
   },
   "source": [
    "<div style=\"width: 38.5%;\">\n",
    "    <p><strong>City College of San Francisco</strong><p>\n",
    "    <hr>\n",
    "    <p>MATH 108 - Foundations of Data Science</p>\n",
    "</div>"
   ]
  },
  {
   "cell_type": "markdown",
   "id": "4bba7134-f35a-41fc-bdd9-87940fb486d8",
   "metadata": {
    "slideshow": {
     "slide_type": "-"
    }
   },
   "source": [
    "# Lecture 37: Classification"
   ]
  },
  {
   "cell_type": "markdown",
   "id": "b271301c-f662-47db-b309-0b9ce92fea25",
   "metadata": {
    "slideshow": {
     "slide_type": "-"
    }
   },
   "source": [
    "Associated Textbook Sections: [17.0 - 17.3](https://inferentialthinking.com/chapters/17/Classification.html)"
   ]
  },
  {
   "cell_type": "markdown",
   "id": "64cbe4d2-80bb-41c4-9467-373e0e9d9d76",
   "metadata": {
    "slideshow": {
     "slide_type": "slide"
    }
   },
   "source": [
    "## Outline"
   ]
  },
  {
   "cell_type": "markdown",
   "id": "6882335f-49de-4ea1-9339-8f76877be9bb",
   "metadata": {},
   "source": [
    "* [Prediction](#Prediction)\n",
    "* [Classification](#Classification)"
   ]
  },
  {
   "cell_type": "markdown",
   "id": "5c99860d-9203-434c-8fdc-9393281e2a92",
   "metadata": {
    "slideshow": {
     "slide_type": "slide"
    }
   },
   "source": [
    "## Set Up the Notebook"
   ]
  },
  {
   "cell_type": "code",
   "execution_count": null,
   "id": "d91939a2-e468-4007-a4e1-95d836472f84",
   "metadata": {
    "slideshow": {
     "slide_type": "-"
    }
   },
   "outputs": [],
   "source": [
    "from datascience import *\n",
    "import numpy as np\n",
    "%matplotlib inline\n",
    "import matplotlib.pyplot as plt\n",
    "plt.style.use('fivethirtyeight')\n",
    "\n",
    "from mpl_toolkits.mplot3d import Axes3D"
   ]
  },
  {
   "cell_type": "markdown",
   "id": "2f528397-092b-4244-8454-a549cbfec5e6",
   "metadata": {
    "slideshow": {
     "slide_type": "fragment"
    }
   },
   "source": [
    "---"
   ]
  },
  {
   "cell_type": "markdown",
   "id": "c4404f89-458b-4641-931e-c77b0db6004a",
   "metadata": {
    "slideshow": {
     "slide_type": "slide"
    }
   },
   "source": [
    "## Prediction"
   ]
  },
  {
   "cell_type": "markdown",
   "id": "0e0b5061-3dad-4f2c-b2ef-809a7b0ab3e5",
   "metadata": {
    "slideshow": {
     "slide_type": "slide"
    }
   },
   "source": [
    "### Guessing the Value of an Attribute"
   ]
  },
  {
   "cell_type": "markdown",
   "id": "ce8fde7a-0f4f-45ce-9373-80bf592b658b",
   "metadata": {
    "slideshow": {
     "slide_type": "-"
    }
   },
   "source": [
    "* Based on incomplete information\n",
    "* One way of making predictions: \n",
    "    * To predict an outcome for an individual, \n",
    "    * find others who are like that individual\n",
    "    * and whose outcomes you know. \n",
    "    * Use those outcomes as the basis of your prediction.\n",
    "* Two Types of Prediction\n",
    "    * Classification = Categorical\n",
    "    * Regression = Numeric\n"
   ]
  },
  {
   "cell_type": "markdown",
   "id": "7fd94507-4aa0-4b7c-a018-66a27f3f748a",
   "metadata": {
    "slideshow": {
     "slide_type": "slide"
    }
   },
   "source": [
    "### Prediction Example: Spam or Not?"
   ]
  },
  {
   "cell_type": "markdown",
   "id": "805d4fd4-3c87-44bf-aca1-67afef189e9a",
   "metadata": {
    "slideshow": {
     "slide_type": "-"
    }
   },
   "source": [
    "<img src=\"img/lec34_spam.png\" width=80%>"
   ]
  },
  {
   "cell_type": "markdown",
   "id": "85d423f5-1c01-472f-b08c-63d717044fcd",
   "metadata": {
    "slideshow": {
     "slide_type": "slide"
    }
   },
   "source": [
    "### Machine Learning Algorithm"
   ]
  },
  {
   "cell_type": "markdown",
   "id": "bba6572b-18de-4ff3-8d59-6fc03620cf2a",
   "metadata": {
    "slideshow": {
     "slide_type": "-"
    }
   },
   "source": [
    "* A mathematical model\n",
    "* calculated based on sample data (\"training data\")\n",
    "* that makes predictions or decisions without being explicitly programmed to perform the task"
   ]
  },
  {
   "cell_type": "markdown",
   "id": "2a7e0dcd-9c49-4d74-9694-e556f1a24a74",
   "metadata": {
    "slideshow": {
     "slide_type": "slide"
    }
   },
   "source": [
    "## Classification"
   ]
  },
  {
   "cell_type": "markdown",
   "id": "f6984381-0803-4d04-89b9-e9e005a8a0ae",
   "metadata": {
    "slideshow": {
     "slide_type": "slide"
    }
   },
   "source": [
    "### Classification Example 1"
   ]
  },
  {
   "cell_type": "markdown",
   "id": "a9c136fe-a4e3-46e7-92d3-272fef24475b",
   "metadata": {
    "slideshow": {
     "slide_type": "-"
    }
   },
   "source": [
    "* 2 Fall 2021 MATH 108 students (Lil Cabrera and Olga Aronov) analyzed music by exploring song attributes from [Spotify's API](https://developer.spotify.com/documentation/web-api/reference/#/operations/get-several-audio-features)\n",
    "* Spotify's API response to requesting a track's audio features:\n",
    "\n",
    "```json\n",
    "{\n",
    "  \"audio_features\": [\n",
    "    {\n",
    "      \"acousticness\": 0.00242,\n",
    "      \"analysis_url\": \"https://api.spotify.com/v1/audio-analysis/2takcwOaAZWiXQijPHIx7B\\n\",\n",
    "      \"danceability\": 0.585,\n",
    "      \"duration_ms\": 237040,\n",
    "      \"energy\": 0.842,\n",
    "      \"id\": \"2takcwOaAZWiXQijPHIx7B\",\n",
    "      \"instrumentalness\": 0.00686,\n",
    "      \"key\": 9,\n",
    "      \"liveness\": 0.0866,\n",
    "      \"loudness\": -5.883,\n",
    "      \"mode\": 0,\n",
    "      \"speechiness\": 0.0556,\n",
    "      \"tempo\": 118.211,\n",
    "      \"time_signature\": 4,\n",
    "      \"track_href\": \"https://api.spotify.com/v1/tracks/2takcwOaAZWiXQijPHIx7B\\n\",\n",
    "      \"type\": \"audio_features\",\n",
    "      \"uri\": \"spotify:track:2takcwOaAZWiXQijPHIx7B\",\n",
    "      \"valence\": 0.428\n",
    "    }\n",
    "  ]\n",
    "}\n",
    "```\n",
    "* They classified songs by assigning a song to one of two playlists (Workout or Relax) based on which playlist shared similar attributes."
   ]
  },
  {
   "cell_type": "markdown",
   "id": "34fe67ca-737f-4220-ad88-49608051b818",
   "metadata": {
    "slideshow": {
     "slide_type": "slide"
    }
   },
   "source": [
    "### Classification Example 2"
   ]
  },
  {
   "cell_type": "markdown",
   "id": "3c158443-cd21-4a26-a789-6dbbc7526722",
   "metadata": {
    "slideshow": {
     "slide_type": "-"
    }
   },
   "source": [
    "> Andrew Pole had just started working as a statistician for Target in 2002, when two colleagues from the marketing department stopped by his desk to ask an odd question: \"If we wanted to figure out if a customer is pregnant, even if she didn't want us to know, can you do that?\" - [How Companies Learn Your Secrets (The New York Times Magazine)](https://www.nytimes.com/2012/02/19/magazine/shopping-habits.html)"
   ]
  },
  {
   "cell_type": "markdown",
   "id": "8f788d8d-494b-4fe5-b9ca-43af64339578",
   "metadata": {
    "slideshow": {
     "slide_type": "slide"
    }
   },
   "source": [
    "### Classification Example 3 - Sentiment Analysis"
   ]
  },
  {
   "cell_type": "markdown",
   "id": "530fca8d-f77f-4c4b-903a-d6b2f4697980",
   "metadata": {
    "slideshow": {
     "slide_type": "-"
    }
   },
   "source": [
    "<img src=\"img/happy_sad_eggs.jpeg\">\n",
    "\n",
    "Sentiment analysis is a type of classification that focuses on extracting subjective information. For example, a statement can be classified as positive, negative, or neutral. \n",
    "\n",
    "The following is an example of using a sentiment analysis model from [text-processing.com](http://text-processing.com/docs/sentiment.html). You don't need to know about the [`requests` library](https://requests.readthedocs.io/en/latest/), JSON files, or how to make HTTP POSTs, but you might want to one day! \n",
    "\n",
    "_This is just an example of classification._ "
   ]
  },
  {
   "cell_type": "code",
   "execution_count": null,
   "id": "f41020e2-4eb1-4ef8-a710-db5e6283a70c",
   "metadata": {},
   "outputs": [],
   "source": [
    "import requests\n",
    "\n",
    "url = 'http://text-processing.com/api/sentiment/' # The web app that performs that classification\n",
    "text_list = [\"I love CCSF!\", \"I hate CCSF!\"]\n",
    "for text in text_list:\n",
    "    data = 'text='+text\n",
    "    response = requests.post(url, data) # Sending the web app the text to classify and getting the information back.\n",
    "    text_label = response.json()['label'] # The returned label for the text\n",
    "    print(f\"'{text}' was labeled as {text_label}.\")"
   ]
  },
  {
   "cell_type": "markdown",
   "id": "6545fb6a-5f29-4345-98f8-0802d55f548c",
   "metadata": {
    "slideshow": {
     "slide_type": "slide"
    }
   },
   "source": [
    "### Classification through Feature Relationships"
   ]
  },
  {
   "cell_type": "markdown",
   "id": "19fab488-a656-4ab1-8403-a1f3c483a40d",
   "metadata": {
    "slideshow": {
     "slide_type": "-"
    }
   },
   "source": [
    "* How can data be used to perform classification?\n",
    "* The relationship between various attributes (features) might reveal patterns! \n",
    "* The choice of attributes and the number of attributes can have a big impact on identifying classes."
   ]
  },
  {
   "cell_type": "markdown",
   "id": "36a5fc99-3b9f-45a2-88ab-a0e32bf50e7d",
   "metadata": {},
   "source": [
    "### Demo: Classifying Banknotes"
   ]
  },
  {
   "cell_type": "markdown",
   "id": "14b7993d-5bc3-43ea-98b0-9f9b44e0b205",
   "metadata": {},
   "source": [
    "The `banknote.csv` dataset contains wavelet transformation (image processing) information on banknotes (bills) that have been used to [classify banknotes](https://www.researchgate.net/publication/220929082_Feature_Extraction_for_Bank_Note_Classification_Using_Wavelet_Transform)."
   ]
  },
  {
   "cell_type": "code",
   "execution_count": null,
   "id": "2b50ec45-58bb-49a3-b37d-ee99e2140728",
   "metadata": {},
   "outputs": [],
   "source": [
    "banknotes = Table.read_table('./data/banknote.csv')\n",
    "banknotes"
   ]
  },
  {
   "cell_type": "markdown",
   "id": "e7dc2233-36b6-4de9-8a1b-4179a07a8a97",
   "metadata": {},
   "source": [
    "Notice that the dataset has two classes of banknotes."
   ]
  },
  {
   "cell_type": "code",
   "execution_count": null,
   "id": "47c9ed7c-4606-4f6d-aca0-58437cc01011",
   "metadata": {},
   "outputs": [],
   "source": [
    "banknotes.group('Class')"
   ]
  },
  {
   "cell_type": "markdown",
   "id": "4e3cece1-4d02-437c-ab9b-886ce1983950",
   "metadata": {},
   "source": [
    "Explore the relationship between `WaveletVar` and `WaveletCurt` to see if they are helpful features for classifying the banknotes."
   ]
  },
  {
   "cell_type": "code",
   "execution_count": null,
   "id": "352f7299-c81a-4743-8d2d-9ecc853ac006",
   "metadata": {
    "tags": []
   },
   "outputs": [],
   "source": [
    "banknotes.scatter('WaveletVar', 'WaveletCurt', group='Class')"
   ]
  },
  {
   "cell_type": "markdown",
   "id": "915b938b-83da-4ef5-9f1d-6f5ea00692e2",
   "metadata": {},
   "source": [
    "Explore the relationship between `WaveletSkew` and `Entropy` to see if they are helpful features for classifying the banknotes."
   ]
  },
  {
   "cell_type": "code",
   "execution_count": null,
   "id": "cdfea7f5-297e-4378-a34c-b26d7a43e064",
   "metadata": {},
   "outputs": [],
   "source": [
    "banknotes.scatter('WaveletSkew', 'Entropy', group='Class')"
   ]
  },
  {
   "cell_type": "markdown",
   "id": "e6821b49-b40c-43d6-bd4d-a59f5091dde5",
   "metadata": {},
   "source": [
    "Sometimes you need to adjust the number of features you relate to identify clear separation in the data! Let's see how all three wavelet features can be used to identify the class visually (in 4D)."
   ]
  },
  {
   "cell_type": "code",
   "execution_count": null,
   "id": "938e1f87-b34e-4cfd-8599-406350d6ff1b",
   "metadata": {},
   "outputs": [],
   "source": [
    "fig = plt.figure(figsize=(8,8))\n",
    "ax = Axes3D(fig, auto_add_to_figure=False)\n",
    "fig.add_axes(ax)\n",
    "ax.scatter(banknotes.column('WaveletSkew'), \n",
    "           banknotes.column('WaveletVar'), \n",
    "           banknotes.column('WaveletCurt'), \n",
    "           c=banknotes.column('Class'),\n",
    "           cmap='viridis',\n",
    "          s=50);"
   ]
  },
  {
   "cell_type": "markdown",
   "id": "496339df-45aa-4cd8-b41c-b2bc4134bf1c",
   "metadata": {},
   "source": [
    "### Demo: Classifying Patients (Chronic Kidney Disease)"
   ]
  },
  {
   "cell_type": "markdown",
   "id": "a6d932b2-36b3-45b0-8620-436f4010a7e4",
   "metadata": {},
   "source": [
    "Load the `ckd.csv` data that shows patient data. Group the data by class to see how many patients have been labeled as having chronic kidney disease (`1`) or not (`0`)."
   ]
  },
  {
   "cell_type": "code",
   "execution_count": null,
   "id": "b6075c5f-7f3f-4fa2-bd79-c87e7d71afdc",
   "metadata": {},
   "outputs": [],
   "source": [
    "ckd = Table.read_table('data/ckd.csv').relabeled('Blood Glucose Random', 'Glucose')\n",
    "ckd.show(3)"
   ]
  },
  {
   "cell_type": "code",
   "execution_count": null,
   "id": "068ef5ad-97cc-473e-8336-b11d7eaea3cb",
   "metadata": {},
   "outputs": [],
   "source": [
    "ckd.group('Class')"
   ]
  },
  {
   "cell_type": "markdown",
   "id": "990ae51a-42a7-4503-ae3f-7b9358867979",
   "metadata": {},
   "source": [
    "Visualize the relationship between `'White Blood Cell Count'` and `'Glucose'` to see if these features might be helpful to identify CKD. Look for separation in the colored points."
   ]
  },
  {
   "cell_type": "code",
   "execution_count": null,
   "id": "0f1e6169-8a17-4d0d-8fdc-2850a62c6040",
   "metadata": {},
   "outputs": [],
   "source": [
    "ckd.scatter('White Blood Cell Count', 'Glucose', group='Class')"
   ]
  },
  {
   "cell_type": "markdown",
   "id": "8051d621-029e-48c4-a4c1-edeb71dd7102",
   "metadata": {},
   "source": [
    "Visualize the relationship between `'Hemoglobin'` and `'Glucose'` to see if these features might be helpful to identify CKD."
   ]
  },
  {
   "cell_type": "code",
   "execution_count": null,
   "id": "1e903d2e-c7e7-4e63-9314-9d1b977f1d2d",
   "metadata": {},
   "outputs": [],
   "source": [
    "ckd.scatter('Hemoglobin', 'Glucose', group='Class')"
   ]
  },
  {
   "cell_type": "markdown",
   "id": "b2db0ca9-e12f-4d57-8e6a-e1cecd63d343",
   "metadata": {},
   "source": [
    "Explore how the natural boundiers in the scatterplot can be used to classify a patient as having CKD or not. Create a function to predict a patients class based on their hemoglobin and glucose levels based on the visualized boundaries."
   ]
  },
  {
   "cell_type": "code",
   "execution_count": null,
   "id": "8aa73350-2de1-412b-9649-e556995e605c",
   "metadata": {},
   "outputs": [],
   "source": [
    "max_glucose_for_0 = ckd.where('Class',are.equal_to(0)).column('Glucose').max()\n",
    "min_hemoglobin_for_0 = ckd.where('Class',are.equal_to(0)).column('Hemoglobin').min()"
   ]
  },
  {
   "cell_type": "code",
   "execution_count": null,
   "id": "8ac622ad-b0b3-437b-af45-814b7eeab213",
   "metadata": {},
   "outputs": [],
   "source": [
    "def classify(hemoglobin, glucose):\n",
    "    if ...\n",
    "        return 1\n",
    "    else:\n",
    "        return 0"
   ]
  },
  {
   "cell_type": "markdown",
   "id": "fe368713-6729-46fa-b7ed-1ea2dfe70ee2",
   "metadata": {},
   "source": [
    "Try out the classifier and think about it's limitations."
   ]
  },
  {
   "cell_type": "code",
   "execution_count": null,
   "id": "9e69aa00-75d2-41c3-a358-c2246569f5fa",
   "metadata": {},
   "outputs": [],
   "source": [
    "classify(15, 100)"
   ]
  },
  {
   "cell_type": "code",
   "execution_count": null,
   "id": "063dde62-d293-4dc9-95ca-18484b0e42d8",
   "metadata": {},
   "outputs": [],
   "source": [
    "classify(10, 300)"
   ]
  },
  {
   "cell_type": "markdown",
   "id": "a88e6477-73da-43a6-8732-e58f11ad65f6",
   "metadata": {
    "slideshow": {
     "slide_type": "fragment"
    }
   },
   "source": [
    "---"
   ]
  },
  {
   "cell_type": "markdown",
   "id": "bd157618-9e0d-4d06-be07-66be9cfd6498",
   "metadata": {
    "slideshow": {
     "slide_type": "notes"
    }
   },
   "source": [
    "<footer>\n",
    "    <p>Adopted from UC Berkeley DATA 8 course materials.</p>\n",
    "    <p>This content is offered under a <a href=\"https://creativecommons.org/licenses/by-nc-sa/4.0/\">CC Attribution Non-Commercial Share Alike</a> license.</p>\n",
    "</footer>"
   ]
  }
 ],
 "metadata": {
  "kernelspec": {
   "display_name": "Python 3 (ipykernel)",
   "language": "python",
   "name": "python3"
  },
  "language_info": {
   "codemirror_mode": {
    "name": "ipython",
    "version": 3
   },
   "file_extension": ".py",
   "mimetype": "text/x-python",
   "name": "python",
   "nbconvert_exporter": "python",
   "pygments_lexer": "ipython3",
   "version": "3.10.12"
  }
 },
 "nbformat": 4,
 "nbformat_minor": 5
}
