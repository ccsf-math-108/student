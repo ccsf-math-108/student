{
 "cells": [
  {
   "cell_type": "code",
   "execution_count": null,
   "metadata": {},
   "outputs": [],
   "source": [
    "from datascience import *\n",
    "import numpy as np\n",
    "\n",
    "%matplotlib inline\n",
    "import matplotlib.pyplot as plots\n",
    "plots.style.use('fivethirtyeight')\n",
    "from scipy import stats"
   ]
  },
  {
   "cell_type": "markdown",
   "metadata": {},
   "source": [
    "# Pivot #"
   ]
  },
  {
   "cell_type": "code",
   "execution_count": null,
   "metadata": {},
   "outputs": [],
   "source": []
  },
  {
   "cell_type": "code",
   "execution_count": null,
   "metadata": {},
   "outputs": [],
   "source": []
  },
  {
   "cell_type": "markdown",
   "metadata": {},
   "source": [
    "Each player has two categorical attributes, Position and Team (actually three, because their name is also categorical). "
   ]
  },
  {
   "cell_type": "code",
   "execution_count": null,
   "metadata": {},
   "outputs": [],
   "source": [
    "# Count how many players are in each Position/Team pair\n",
    "# Two required arguments:\n",
    "# First is the column label of the attribute\n",
    "# whose values are the column labels of the pivot table\n",
    "# Second is the label for the rows\n",
    "\n",
    "# Each cell contains the number of players in that Position/Team category.\n",
    "# Go back to nba and check that there are 3 Centers in the Atlanta Hawks.\n",
    "\n"
   ]
  },
  {
   "cell_type": "code",
   "execution_count": null,
   "metadata": {},
   "outputs": [],
   "source": []
  },
  {
   "cell_type": "code",
   "execution_count": null,
   "metadata": {},
   "outputs": [],
   "source": [
    "# This one is easier to read\n",
    "\n"
   ]
  },
  {
   "cell_type": "markdown",
   "metadata": {},
   "source": [
    "Optionally, you can ask pivot to do the following: for each Position/Team combo, find all the **values** of another attribute and **collect** them in some way; display this in the cell.\n",
    "\n",
    "- The `values` argument has to be the column label of the new attribute\n",
    "- The `collect` argument has to be the name of a function"
   ]
  },
  {
   "cell_type": "code",
   "execution_count": null,
   "metadata": {},
   "outputs": [],
   "source": [
    "# List the players in each Position/Team combo\n",
    "\n"
   ]
  },
  {
   "cell_type": "code",
   "execution_count": null,
   "metadata": {},
   "outputs": [],
   "source": [
    "# total salary in each Position/Team combo\n",
    "\n"
   ]
  },
  {
   "cell_type": "code",
   "execution_count": null,
   "metadata": {},
   "outputs": [],
   "source": [
    "# You don't have to type \"values = ...\" and \"collect = \"\n",
    "# But you MUST put the arguments in the correct order\n",
    "\n"
   ]
  },
  {
   "cell_type": "code",
   "execution_count": null,
   "metadata": {},
   "outputs": [],
   "source": [
    "# Median salary in each Position/Team combo\n",
    "\n"
   ]
  },
  {
   "cell_type": "code",
   "execution_count": null,
   "metadata": {},
   "outputs": [],
   "source": [
    "# This function returns the distance between the max and the min of a list/array\n",
    "\n"
   ]
  },
  {
   "cell_type": "code",
   "execution_count": null,
   "metadata": {},
   "outputs": [],
   "source": [
    "# You can use your own function as the collect\n",
    "# Distance between the max salary and min salary in each Position/Team combo\n",
    "\n"
   ]
  },
  {
   "cell_type": "markdown",
   "metadata": {},
   "source": [
    "# Hypothesis Testing #"
   ]
  },
  {
   "cell_type": "markdown",
   "metadata": {},
   "source": [
    "## Sample in Two Categories ##"
   ]
  },
  {
   "cell_type": "markdown",
   "metadata": {},
   "source": [
    "## Example 1 ##\n",
    "Jo: Every single day this bus has chance 70% of being late, regardless of other days.\n",
    "\n",
    "Mo: Are you kidding? It's late more often than that!\n",
    "\n",
    "Data: Watch bus for 200 days, note whether late or not\n",
    "\n",
    "Null: Every single day this bus has chance 70% of being late, regardless of other days.\n",
    "\n",
    "Alternative: Chance of \"late\" is more than 70%\n",
    "\n",
    "Test statistic: All of the following are fine:\n",
    "percent late - 70; number of days late - 140; number of days late; percent of days late; proportion of days late\n",
    "\n",
    "(For the P-value) Direction that supports alternative: For each of these statistics, positive values or large values support the alternative. So look right."
   ]
  },
  {
   "cell_type": "markdown",
   "metadata": {},
   "source": [
    "## Example 2 ##\n",
    "Jo: Every single day this bus has chance 70% of being late, regardless of other days.\n",
    "\n",
    "Po: Jo, stop whining. It's not late that often.\n",
    "\n",
    "Data: Watch bus for 200 days, note whether late or not\n",
    "\n",
    "Null: Every single day this bus has chance 70% of being late, regardless of other days.\n",
    "\n",
    "Alternative: Chance of late < 70%\n",
    "\n",
    "Test statistic: Same as in Example 1:\n",
    "percent late - 70; number of days late - 140; number of days late; percent of days late; proportion of days late\n",
    "\n",
    "(For the P-value) Direction that supports alternative: For each of these statistics, negative values or small values support the alternative. So look left"
   ]
  },
  {
   "cell_type": "markdown",
   "metadata": {},
   "source": [
    "## Example 2 ##\n",
    "Jo: Every single day this bus has chance 70% of being late, regardless of other days.\n",
    "\n",
    "Bo: Jo, that's just not true.\n",
    "\n",
    "Data: Watch bus for 200 days, note whether late or not\n",
    "\n",
    "Null: Every single day this bus has chance 70% of being late, regardless of other days.\n",
    "\n",
    "Alternative: Chance of late is not 70%\n",
    "\n",
    "Test statistic: |number of days late - 140|; |percent days late - 70|; |proportion of days late - 0.7|; also TVD, but see below.\n",
    "\n",
    "(For the P-value) Direction that supports alternative: Big distances support the alternative. So look right"
   ]
  },
  {
   "cell_type": "code",
   "execution_count": null,
   "metadata": {},
   "outputs": [],
   "source": [
    "# The simulation will be under the null hypothesis.\n",
    "\n"
   ]
  },
  {
   "cell_type": "code",
   "execution_count": null,
   "metadata": {},
   "outputs": [],
   "source": [
    "# Suppose we choose |proportion late - .7| as the test statistic.\n",
    "# Define a function that simulates ONE value of this statistic under the null\n",
    "\n",
    "# This code depends on the null hypothesis and the choice of statistic.\n",
    "\n",
    "\n",
    "\n",
    "\n",
    "# Note: If you want to use counts instead of proportions, multiply by sample size\n",
    "# If you want to use percents instead of proportions, multiply by 100"
   ]
  },
  {
   "cell_type": "code",
   "execution_count": null,
   "metadata": {},
   "outputs": [],
   "source": [
    "# Simulate 10,000 values of the test statistic\n",
    "# and collect them in an array.\n",
    "# This code always looks the same.\n",
    "\n"
   ]
  },
  {
   "cell_type": "code",
   "execution_count": null,
   "metadata": {},
   "outputs": [],
   "source": [
    "# If the null is true, this is how the statistic should behave\n",
    "\n"
   ]
  },
  {
   "cell_type": "code",
   "execution_count": null,
   "metadata": {},
   "outputs": [],
   "source": [
    "# Until now, we haven't needed to use what was actually observed.\n",
    "# But at this point we have to compare the null prediction with the observed statistic.\n",
    "\n",
    "# Suppose the data are 150 times late out of 200 times\n",
    "\n"
   ]
  },
  {
   "cell_type": "code",
   "execution_count": null,
   "metadata": {},
   "outputs": [],
   "source": []
  },
  {
   "cell_type": "markdown",
   "metadata": {},
   "source": [
    "Interpreting the P-value:\n",
    "It is the chance, assuming that the bus is late 70% of the time, that we get a statistic that is 0.05 or greater.\n",
    "\n",
    "That chance is 12.4%, which is substantial. So if the null is true there is a decent chance of getting the statistic that was actually observed or one that looks even more like the alternative. So the data are consistent with the null."
   ]
  },
  {
   "cell_type": "code",
   "execution_count": null,
   "metadata": {},
   "outputs": [],
   "source": [
    "# Want to use the TVD as the statistic?\n",
    "# Go ahead:\n",
    "\n"
   ]
  },
  {
   "cell_type": "markdown",
   "metadata": {},
   "source": [
    "When there are just two categories of data, the TVD is equal to the distance between one of the proportions and the corresponding proportion in the null. In other words, the simple distance we calculated as our statistic is actually the TVD. "
   ]
  },
  {
   "cell_type": "markdown",
   "metadata": {},
   "source": [
    "## Sample in Multiple Categories ##"
   ]
  },
  {
   "cell_type": "markdown",
   "metadata": {},
   "source": [
    "Jo: Every single day this bus has a 50% chance of being a bit late, a 20% chance of being very late, and a 30% chance of being on time, regardless of other days.\n",
    "\n",
    "Po: No it doesn't.\n",
    "\n",
    "Data: Watch bus for 200 days, note arrivals in the three categories\n",
    "\n",
    "Null: Every single day this bus has a 50% chance of being a bit late, a 20% chance of being very late, and a 30% chance of being on time, regardless of other days.\n",
    "\n",
    "Alternative: The null model is wrong.\n",
    "\n",
    "Test statistic: TVD. It has to be a distance (because \"wrong\"), and it has to measure the distance between two categorical distributions, not two numbers.\n",
    "\n",
    "(For the P-value) Direction that supports alternative: Big distances support the alternative. Look right."
   ]
  },
  {
   "cell_type": "code",
   "execution_count": null,
   "metadata": {},
   "outputs": [],
   "source": []
  },
  {
   "cell_type": "code",
   "execution_count": null,
   "metadata": {},
   "outputs": [],
   "source": []
  },
  {
   "cell_type": "code",
   "execution_count": null,
   "metadata": {},
   "outputs": [],
   "source": []
  },
  {
   "cell_type": "code",
   "execution_count": null,
   "metadata": {},
   "outputs": [],
   "source": [
    "# This above is the prediction made by the null hypothesis.\n",
    "# Compare with the data:\n",
    "# Suppose the data are 90 times a bit late, 60 times very late, 50 times on time\n",
    "\n"
   ]
  },
  {
   "cell_type": "code",
   "execution_count": null,
   "metadata": {},
   "outputs": [],
   "source": []
  },
  {
   "cell_type": "markdown",
   "metadata": {},
   "source": [
    "Conclusion of test: The data support the hypothesis that the null model is wrong.\n",
    "\n",
    "Notice that when we had a more crude model (\"late 70% of the time\") compared to this one (\"a bit late 50% of the time, very late 20% of the time, on time 30%), the percent late was 70% in both cases. The observed data were also consistent with each other: 150 late out of 200, compared to 90 \"a bit late\", 60 \"very late\", and 50 \"on time\". The latter is still 150 late.\n",
    "\n",
    "The tests said the data are consistent with 70% late, but not with 50% a bit late, 20% very late, and 30% on time. That's not surprising. Often, the more detailed specifications you have in your model, the less likely you are to see all of that in the data even if the model is good."
   ]
  },
  {
   "cell_type": "markdown",
   "metadata": {},
   "source": [
    "## A/B Testing: Example ##"
   ]
  },
  {
   "cell_type": "code",
   "execution_count": null,
   "metadata": {},
   "outputs": [],
   "source": []
  },
  {
   "cell_type": "code",
   "execution_count": null,
   "metadata": {},
   "outputs": [],
   "source": []
  },
  {
   "cell_type": "markdown",
   "metadata": {},
   "source": [
    "Null: The age distribution in the smokers' population is the same as the age distribution in the non-smoker's population.\n",
    "\n",
    "(Note: In the case of an RCT, this would be: The distribution of all potential treatment scores is the same as the distribution of all potential control scores. Or simply, the treatment does nothing.)\n",
    "\n",
    "Alternative: Depends on the question, but suppose the question asks whether the smokers are younger. Then the alternative is that the smokers are younger, on average, than the nonsmokers.\n",
    "\n",
    "Test statistic: smokers' average - nonsmokers' average; nonsmokers' average - smokers' average\n",
    "\n",
    "(For the P-value) Direction that supports the alternative: If you use the first statistic, negative values support the alternative, so look left. If you use the second statistic, positive values support the alternative, so look right."
   ]
  },
  {
   "cell_type": "markdown",
   "metadata": {},
   "source": [
    "## Calculating the Observed Statistic ##\n",
    "This can be left till the end, but doing it now will help us understand how to code the simulation under the null."
   ]
  },
  {
   "cell_type": "code",
   "execution_count": null,
   "metadata": {},
   "outputs": [],
   "source": [
    "# This just selects only the two relevant columns; you don't have to do this.\n",
    "\n"
   ]
  },
  {
   "cell_type": "code",
   "execution_count": null,
   "metadata": {},
   "outputs": [],
   "source": []
  },
  {
   "cell_type": "code",
   "execution_count": null,
   "metadata": {},
   "outputs": [],
   "source": [
    "# The group means in a table\n",
    "\n"
   ]
  },
  {
   "cell_type": "code",
   "execution_count": null,
   "metadata": {},
   "outputs": [],
   "source": [
    "# Extract the difference between the two means\n",
    "# Note that we have calculated smokers' mean - nonsmokers' mean\n",
    "# So we will be looking left for the P-value\n",
    "\n"
   ]
  },
  {
   "cell_type": "markdown",
   "metadata": {},
   "source": [
    "## Simulating Under the Null ##"
   ]
  },
  {
   "cell_type": "code",
   "execution_count": null,
   "metadata": {},
   "outputs": [],
   "source": []
  },
  {
   "cell_type": "code",
   "execution_count": null,
   "metadata": {},
   "outputs": [],
   "source": [
    "# This permutes (shuffles) all the rows\n",
    "\n"
   ]
  },
  {
   "cell_type": "code",
   "execution_count": null,
   "metadata": {},
   "outputs": [],
   "source": [
    "# All we want are the shuffled labels\n"
   ]
  },
  {
   "cell_type": "code",
   "execution_count": null,
   "metadata": {},
   "outputs": [],
   "source": [
    "# Attach the shuffled labels to the original ages\n",
    "\n"
   ]
  },
  {
   "cell_type": "code",
   "execution_count": null,
   "metadata": {},
   "outputs": [],
   "source": [
    "# Now do exactly what you did to find the observed statistic,\n",
    "# but with this new shuffled_table\n",
    "\n",
    "# The shuffled group means in a table\n",
    "\n",
    "\n",
    "# The difference between the two shuffled group means\n"
   ]
  },
  {
   "cell_type": "code",
   "execution_count": null,
   "metadata": {},
   "outputs": [],
   "source": [
    "# Put it all together in a function.\n",
    "# I just copy-pasted\n",
    "\n"
   ]
  },
  {
   "cell_type": "code",
   "execution_count": null,
   "metadata": {},
   "outputs": [],
   "source": [
    "# Our old friends the for loop and collection array\n",
    "# This one takes a while to run.\n",
    "\n"
   ]
  },
  {
   "cell_type": "code",
   "execution_count": null,
   "metadata": {},
   "outputs": [],
   "source": [
    "# Our old friend the predicted distribution of the statistic under the null\n",
    "\n"
   ]
  },
  {
   "cell_type": "code",
   "execution_count": null,
   "metadata": {},
   "outputs": [],
   "source": [
    "# Our old friend the P-value\n",
    "\n"
   ]
  },
  {
   "cell_type": "markdown",
   "metadata": {},
   "source": [
    "With a 5% cutoff, you would pick the alternative over the null. "
   ]
  },
  {
   "cell_type": "code",
   "execution_count": null,
   "metadata": {},
   "outputs": [],
   "source": [
    "# In lecture we said that all you have to do is pick the right numbers\n",
    "# of random \"smokers\" and \"nonsmokers\"\n",
    "# to form your two \"shuffled\" groups\n",
    "\n"
   ]
  },
  {
   "cell_type": "markdown",
   "metadata": {},
   "source": [
    "Shuffling the labels is one clear way, as it demonstrates the idea behind the simulation and more importantly is certain to preserve the two sample sizes."
   ]
  }
 ],
 "metadata": {
  "hide_input": false,
  "kernelspec": {
   "display_name": "Python 3",
   "language": "python",
   "name": "python3"
  },
  "language_info": {
   "codemirror_mode": {
    "name": "ipython",
    "version": 3
   },
   "file_extension": ".py",
   "mimetype": "text/x-python",
   "name": "python",
   "nbconvert_exporter": "python",
   "pygments_lexer": "ipython3",
   "version": "3.8.2"
  },
  "toc": {
   "base_numbering": 1,
   "nav_menu": {},
   "number_sections": false,
   "sideBar": true,
   "skip_h1_title": false,
   "title_cell": "Table of Contents",
   "title_sidebar": "Contents",
   "toc_cell": false,
   "toc_position": {},
   "toc_section_display": true,
   "toc_window_display": false
  }
 },
 "nbformat": 4,
 "nbformat_minor": 2
}
