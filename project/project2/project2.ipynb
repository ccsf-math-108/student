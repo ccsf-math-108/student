{
 "cells": [
  {
   "cell_type": "code",
   "execution_count": null,
   "id": "bfbd9d6d",
   "metadata": {
    "deletable": false,
    "editable": false
   },
   "outputs": [],
   "source": [
    "# Initialize Otter\n",
    "import otter\n",
    "grader = otter.Notebook(\"project2.ipynb\")"
   ]
  },
  {
   "cell_type": "markdown",
   "id": "c080e644-537b-42d7-8312-b6f77d12de8c",
   "metadata": {},
   "source": [
    "<img style=\"display: block; margin-left: auto; margin-right: auto\" src=\"./ccsf-logo.png\" width=\"250rem;\" alt=\"The CCSF black and white logo\">"
   ]
  },
  {
   "cell_type": "markdown",
   "id": "e4029292-6cec-4342-8fe5-644aa04ee3c2",
   "metadata": {},
   "source": [
    "# Project 2: Climate"
   ]
  },
  {
   "cell_type": "markdown",
   "id": "54880521-0bfc-449b-8043-79a508ac942e",
   "metadata": {},
   "source": [
    "## 🎗️ Reminders"
   ]
  },
  {
   "cell_type": "markdown",
   "id": "72418c36-509e-431b-bdfd-513ac4695301",
   "metadata": {},
   "source": [
    "* **Canvas Assignment Details**. View the related <a href=\"https://ccsf.instructure.com\" target=\"_blank\">Canvas</a> Assignment page for additional details such as the assignment rubric and due dates.\n",
    "* **Auto-Grader.** Make sure to run the code cell at the top of this notebook that starts with `# Initialize Otter` to load the auto-grader.\n",
    "* **[Optional] Project Partner.** \n",
    "    * For this assignment, you are allowed to complete this project with a partner, but you are not required to work with a partner.\n",
    "    * If you want to work with someone, you and your partner should set up a Canvas group with your instructor for this assignment.\n",
    "    * Keep in mind that for group assignments, one submission will count for the entire group in Canvas.\n",
    "    * You and your partner will receive the same grade for this project.\n",
    "* **Code Sharing.** Don't share your code directly with anybody but your partner. You are welcome to discuss questions with other students, but don't share the answers. The experience of solving the problems in this project will prepare you for our exams and potentially for future work in this field. If someone asks you for the answer, resist! Instead, you can demonstrate how you would solve a similar problem or you can focus on a specific part of a task.\n",
    "* **Support.** You are not alone! Meet with your instructor or the tutors, post questions on Canvas or the student Discord channel, and talk to your classmates during our meetings. If you're ever feeling overwhelmed or don't know how to make progress, talk to your instructor or a tutor.\n",
    "* **Tests.** The tests that are given are **not comprehensive** and passing the tests for a question **does not** mean that you answered the question correctly. Tests usually only check that your table has the correct column labels. However, more tests will be applied to verify the correctness of your submission in order to assign your final score, so be careful and check your work! You might want to create your own checks along the way to see if your answers make sense. Additionally, before you submit, make sure that none of your cells take a very long time to run (several minutes).\n",
    "* **Open Response Tasks:** Make sure that you put the answers to the written questions in the indicated cell we provide and generate the graphs as requested. Usually, the point number for the open response tasks corresponds to the number of things you need to address in your response.\n",
    "* **Advice.** Develop your answers incrementally. To perform a complicated table manipulation, break it up into steps, perform each step on a different line, give a new name to each result, and check that each intermediate result is what you expect. You can add any additional names or functions you want to the provided cells. Make sure that you are using distinct and meaningful variable names throughout the notebook. Along that line, **DO NOT** reuse the variable names that we use when we grade your answers. For example, in the first task, we ask you to assign an answer to `latest`. Do not reassign the variable name `latest` to anything else in your notebook, otherwise there is the chance that our tests grade against what `latest` was reassigned to.\n",
    "* You are never expected to use just one line in this project or any others. Use intermediate variables and multiple lines as much as you would like! \n",
    "\n",
    "Run the following cell to get and import the relevant tools."
   ]
  },
  {
   "cell_type": "code",
   "execution_count": null,
   "id": "2243fbfd-ebe8-4fec-9fe5-de8e785393e7",
   "metadata": {},
   "outputs": [],
   "source": [
    "from datascience import *\n",
    "import numpy as np\n",
    "%matplotlib inline\n",
    "import matplotlib.pyplot as plt\n",
    "plt.style.use('fivethirtyeight')"
   ]
  },
  {
   "cell_type": "markdown",
   "id": "2fc25de8-cb2a-4495-ad9d-6da9f0763f37",
   "metadata": {},
   "source": [
    "## 🌡️ Part 1: Temperatures"
   ]
  },
  {
   "cell_type": "markdown",
   "id": "98023311-a6b8-4511-9501-9b96b03b332f",
   "metadata": {},
   "source": [
    "In the following analysis, we will investigate one of the 21st century's most prominent issues: climate change. While the details of climate science are beyond the scope of this course, we can start to learn about climate change just by analyzing public records of different cities' temperature and precipitation over time.\n",
    "\n",
    "We will analyze a collection of historical daily temperature and precipitation measurements from weather stations in 210 U.S. cities. The dataset was compiled by Yuchuan Lai and David Dzombak [1]; a description of the data from the original authors and the data itself is available [here](https://kilthub.cmu.edu/articles/dataset/Compiled_daily_temperature_and_precipitation_data_for_the_U_S_cities/7890488). \n",
    "\n",
    "[1] Lai, Yuchuan; Dzombak, David (2019): Compiled historical daily temperature and precipitation data for selected 210 U.S. cities. Carnegie Mellon University. Dataset."
   ]
  },
  {
   "cell_type": "markdown",
   "id": "2b9d8c6f-2f70-42e3-b82f-ef4bbc839181",
   "metadata": {
    "tags": []
   },
   "source": [
    "### 🌆 Section 1: Cities"
   ]
  },
  {
   "cell_type": "markdown",
   "id": "948ea4ce-8c96-4956-8b63-93b60f19d64c",
   "metadata": {},
   "source": [
    "Run the following cell to load information about the `cities` and preview the first few rows."
   ]
  },
  {
   "cell_type": "code",
   "execution_count": null,
   "id": "f1602d40-58dd-4f0c-a477-e1224ae0bc75",
   "metadata": {},
   "outputs": [],
   "source": [
    "cities = Table.read_table('city_info.csv', index_col=0)\n",
    "cities.show(3)"
   ]
  },
  {
   "cell_type": "markdown",
   "id": "a65e9fe0-3b33-415f-a072-bc3a80beeaa7",
   "metadata": {},
   "source": [
    "The `cities` table has one row per weather station and the following columns:\n",
    "\n",
    "1. `\"Name\"`: The name of the US city\n",
    "2. `\"ID\"`: The unique identifier for the US city\n",
    "3. `\"Lat\"`: The latitude of the US city (measured in degrees of latitude)\n",
    "4. `\"Lon\"`: The longitude of the US city (measured in degrees of longitude)\n",
    "4. `\"Stn.Name\"`: The name of the weather station in which the data was collected\n",
    "5. `\"Stn.stDate\"`: A string representing the date of the first recording at that particular station\n",
    "6. `\"Stn.edDate\"`: A string representing the date of the last recording at that particular station\n",
    "\n",
    "The data lists the weather stations at which temperature and precipitation data were collected. Note that although some cities have multiple weather stations, only one is collecting data for that city at any given point in time. Thus, we are able to just focus on the cities themselves."
   ]
  },
  {
   "cell_type": "markdown",
   "id": "f7a4a7eb-fc97-4990-a82e-b07d47ef8a04",
   "metadata": {},
   "source": [
    "#### Task 1.1.01 📍🔎"
   ]
  },
  {
   "cell_type": "markdown",
   "id": "abc4253d-8734-4c95-9832-106802fe5938",
   "metadata": {
    "deletable": false,
    "editable": false
   },
   "source": [
    "<!-- BEGIN QUESTION -->\n",
    "\n",
    "In the cell below, produce a scatter plot that plots the latitude and longitude of every city in the `cities` table so that the result places northern cities at the top and western cities at the left.\n",
    "\n",
    "*Note*: It's okay to plot the same point multiple times!\n",
    "\n",
    "_Points:_ 2"
   ]
  },
  {
   "cell_type": "code",
   "execution_count": null,
   "id": "c26dfbb3-7894-42f7-ab20-7c8405b64f4d",
   "metadata": {
    "tags": []
   },
   "outputs": [],
   "source": [
    "..."
   ]
  },
  {
   "cell_type": "markdown",
   "id": "2e178d24-d19f-4778-92d8-40923e1b8309",
   "metadata": {
    "deletable": false,
    "editable": false
   },
   "source": [
    "<!-- END QUESTION -->\n",
    "\n",
    "These cities are all within the continental U.S., and so the general shape of the U.S. should be visible in your plot. The shape will appear distorted compared to most maps for two reasons: the scatter plot is square even though the U.S. is wider than it is tall, and this scatter plot is an [equirectangular projection](https://en.wikipedia.org/wiki/Equirectangular_projection) of the spherical Earth. A geographical map of the same data uses the common [Pseudo-Mercator projection](https://en.wikipedia.org/wiki/Web_Mercator_projection)."
   ]
  },
  {
   "cell_type": "code",
   "execution_count": null,
   "id": "cadc65eb-28ae-4591-aa78-fbff27a3c4a9",
   "metadata": {},
   "outputs": [],
   "source": [
    "# Just run this cell\n",
    "Marker.map_table(cities.select('Lat', 'Lon', 'Name').relabeled('Name', 'labels'))"
   ]
  },
  {
   "cell_type": "markdown",
   "id": "b43db0a9-ac37-4184-9d5f-af3f56868934",
   "metadata": {},
   "source": [
    "#### Task 1.1.02 📍🔎"
   ]
  },
  {
   "cell_type": "markdown",
   "id": "23b91543-1ffc-4e87-8163-c66118d2b1f9",
   "metadata": {
    "deletable": false,
    "editable": false
   },
   "source": [
    "<!-- BEGIN QUESTION -->\n",
    "\n",
    "Does it appear that these city locations are sampled uniformly at random from all the locations in the U.S.? Why or why not?\n",
    "\n",
    "_Points:_ 2"
   ]
  },
  {
   "cell_type": "markdown",
   "id": "81d94df9",
   "metadata": {},
   "source": [
    "_Type your answer here, replacing this text._"
   ]
  },
  {
   "cell_type": "markdown",
   "id": "f1a60bf6-625b-4e73-837b-a6959fcee6e5",
   "metadata": {
    "deletable": false,
    "editable": false,
    "tags": []
   },
   "source": [
    "<!-- END QUESTION -->\n",
    "\n",
    "#### Task 1.1.03 📍"
   ]
  },
  {
   "cell_type": "markdown",
   "id": "3d9472ef-f0b0-4dbd-8cf6-d7b6e0a4cc1d",
   "metadata": {
    "deletable": false,
    "editable": false
   },
   "source": [
    "Assign `num_unique_cities` to the number of unique cities that appear in the `cities` table.\n",
    "\n",
    "_Note: Keep in mind that it may be possible that there are two cities with the same name._\n",
    "\n",
    "_Points:_ 6"
   ]
  },
  {
   "cell_type": "code",
   "execution_count": null,
   "id": "0087c899-9650-4721-892f-1f72f6a4c6b5",
   "metadata": {
    "tags": []
   },
   "outputs": [],
   "source": [
    "num_unique_cities = ...\n",
    "\n",
    "# Do not change this line\n",
    "print(f\"There are {num_unique_cities} unique cities that appear within our dataset.\")"
   ]
  },
  {
   "cell_type": "code",
   "execution_count": null,
   "id": "169ee70a",
   "metadata": {
    "deletable": false,
    "editable": false
   },
   "outputs": [],
   "source": [
    "grader.check(\"task_1_1_03\")"
   ]
  },
  {
   "cell_type": "markdown",
   "id": "dc36aedb-bd27-4d50-b908-927d41083611",
   "metadata": {},
   "source": [
    "In order to investigate further, it will be helpful to determine what region of the United States each city was located in: Northeast, Northwest, Southeast, or Southwest. For our purposes, we will be using the following geographical boundaries:\n",
    "\n",
    "<img src= \"usa_coordinates.png\" alt=\"USA Coordinate Map\" width=\"600\"/>\n",
    "\n",
    "1. A station is located in the `\"Northeast\"` region if its latitude is above or equal to 40 degrees and its longtitude is greater than or equal to -100 degrees.\n",
    "2. A station is located in the `\"Northwest\"` region if its latitude is above or equal to 40 degrees and its longtitude is less than -100 degrees.\n",
    "3. A station is located in the `\"Southeast\"` region if its latitude is below 40 degrees and its longtitude is greater than or equal to -100 degrees.\n",
    "4. A station is located in the `\"Southwest\"` region if its latitude is below 40 degrees and its longtitude is less than -100 degrees."
   ]
  },
  {
   "cell_type": "markdown",
   "id": "7d51f730-38b3-480c-bff7-4e6c5a0b69bf",
   "metadata": {
    "tags": []
   },
   "source": [
    "#### Task 1.1.04 📍"
   ]
  },
  {
   "cell_type": "markdown",
   "id": "4a6eaef6-66f5-4acd-a461-7d9ae6286efe",
   "metadata": {
    "deletable": false,
    "editable": false
   },
   "source": [
    "Define the `coordinates_to_region` function below. It should take in two arguments, a city's latitude (`lat`) and longitude (`lon`) coordinates, and output a string representing the region it is located in.\n",
    "\n",
    "_Points:_ 4"
   ]
  },
  {
   "cell_type": "code",
   "execution_count": null,
   "id": "f9c96e25-65cc-4876-a5b5-6496dc0c877f",
   "metadata": {
    "tags": []
   },
   "outputs": [],
   "source": [
    "def coordinates_to_region(...):\n",
    "    ..."
   ]
  },
  {
   "cell_type": "code",
   "execution_count": null,
   "id": "ad7decca",
   "metadata": {
    "deletable": false,
    "editable": false
   },
   "outputs": [],
   "source": [
    "grader.check(\"task_1_1_04\")"
   ]
  },
  {
   "cell_type": "markdown",
   "id": "5a646b72-fdca-4e2c-86db-1fdd52d3ab37",
   "metadata": {
    "tags": []
   },
   "source": [
    "#### Task 1.1.05 📍"
   ]
  },
  {
   "cell_type": "markdown",
   "id": "765ca29c-885c-4023-ab73-1cb91c035845",
   "metadata": {
    "deletable": false,
    "editable": false
   },
   "source": [
    "Add a new column in `cities` labeled `Region` that contains the region in which the city is located. For full credit, you must use the `coordinates_to_region` function you defined rather than re-implementing its logic.\n",
    "\n",
    "_Points:_ 6"
   ]
  },
  {
   "cell_type": "code",
   "execution_count": null,
   "id": "155fc9fc-a7ad-4dfe-a13c-c0addc5fcacc",
   "metadata": {
    "tags": []
   },
   "outputs": [],
   "source": [
    "regions_array = ...\n",
    "cities = ...\n",
    "cities.show(5)"
   ]
  },
  {
   "cell_type": "code",
   "execution_count": null,
   "id": "9cc5a9bd",
   "metadata": {
    "deletable": false,
    "editable": false
   },
   "outputs": [],
   "source": [
    "grader.check(\"task_1_1_05\")"
   ]
  },
  {
   "cell_type": "markdown",
   "id": "1e5597d7-0e7e-4571-a4db-81613fedb19d",
   "metadata": {},
   "source": [
    "To confirm that you've defined your `coordinates_to_region` function correctly and successfully added the `Region` column to the `cities` table, run the following cell. Each region should have a different color in the result."
   ]
  },
  {
   "cell_type": "code",
   "execution_count": null,
   "id": "1a2a4c4d-56b6-4f5e-b2f5-ab14aafdcd10",
   "metadata": {},
   "outputs": [],
   "source": [
    "# Just run this cell\n",
    "cities.scatter(\"Lon\", \"Lat\", group=\"Region\")"
   ]
  },
  {
   "cell_type": "markdown",
   "id": "e43c2044-3dfb-4c1f-8b78-41ed5be007e3",
   "metadata": {},
   "source": [
    "### 🌵 Section 2: Welcome to Phoenix, Arizona"
   ]
  },
  {
   "cell_type": "markdown",
   "id": "fd357588-dd76-48ff-a930-1bb43ef1e4e8",
   "metadata": {},
   "source": [
    "Each city has a different CSV file full of daily temperature and precipitation measurements. The file for Phoenix, Arizona is included with this project as `phoenix.csv`. The files for other cities can be downloaded [here](https://kilthub.cmu.edu/articles/dataset/Compiled_daily_temperature_and_precipitation_data_for_the_U_S_cities/7890488) by matching them to the ID of the city in the `cities` table.\n",
    "\n",
    "Since Phoenix is located on the upper edge of the Sonoran Desert, it has some impressive temperatures.\n",
    "\n",
    "Run the following cell to load in the `phoenix` table. It has one row per day and the following columns:\n",
    "\n",
    "1. `\"Date\"`: The date (a string) representing the date of the recording in **YYYY-MM-DD** format\n",
    "2. `\"tmax\"`: The maximum temperature for the  day (°F)\n",
    "3. `\"tmin\"`: The minimum temperature for the day (°F)\n",
    "4. `\"prcp\"`: The recorded precipitation for the day (inches)"
   ]
  },
  {
   "cell_type": "code",
   "execution_count": null,
   "id": "f9c36d5d-6dff-4100-85a2-603f7d4e228d",
   "metadata": {},
   "outputs": [],
   "source": [
    "phoenix = Table.read_table(\"phoenix.csv\", index_col=0)\n",
    "phoenix.show(3)"
   ]
  },
  {
   "cell_type": "markdown",
   "id": "3f214372-9e87-45b0-9bfe-3ec656c78d76",
   "metadata": {
    "tags": []
   },
   "source": [
    "#### Task 1.2.01 📍"
   ]
  },
  {
   "cell_type": "markdown",
   "id": "4ee8f3ac-56e2-426e-9f76-fb8f1f9b1812",
   "metadata": {
    "deletable": false,
    "editable": false
   },
   "source": [
    "Assign the variable `largest_2010_range_date` to the date of the **largest temperature range** in Phoenix, Arizona for any day between January 1st, 2010 and December 31st, 2010. Your answer should be a string in the \"YYYY-MM-DD\" format. Feel free to use as many lines as you need. A temperature range is calculated as the difference between the max and min temperatures for the day.\n",
    "\n",
    "*Hint*: To limit the values in a column to only those that *contain* a certain string, pick the right `are.` predicate from the Python Reference Sheet.\n",
    "\n",
    "*Note:* Do **not** re-assign the `phoenix` variable; please use the `phoenix_with_ranges_2010` variable instead.\n",
    "\n",
    "_Points:_ 5"
   ]
  },
  {
   "cell_type": "code",
   "execution_count": null,
   "id": "e546d036-951c-433d-adfa-8715e7914ccb",
   "metadata": {
    "tags": []
   },
   "outputs": [],
   "source": [
    "...\n",
    "phoenix_with_ranges_2010 = ...\n",
    "largest_2010_range_date = ...\n",
    "largest_2010_range_date"
   ]
  },
  {
   "cell_type": "code",
   "execution_count": null,
   "id": "1e3411c5",
   "metadata": {
    "deletable": false,
    "editable": false
   },
   "outputs": [],
   "source": [
    "grader.check(\"task_1_2_01\")"
   ]
  },
  {
   "cell_type": "markdown",
   "id": "4ef6b28d-f14c-47ba-8b60-76f1c43d4e02",
   "metadata": {},
   "source": [
    "We can look back to our `phoenix` table to check the temperature readings for our `largest_2010_range_date` to see if anything special is going on. Run the cell below to find the row of the `phoenix` table that corresponds to the date we found above. "
   ]
  },
  {
   "cell_type": "code",
   "execution_count": null,
   "id": "89bfb380-8718-4b88-b053-79629eeed782",
   "metadata": {},
   "outputs": [],
   "source": [
    "# Just run this cell\n",
    "phoenix.where(\"Date\", largest_2010_range_date)"
   ]
  },
  {
   "cell_type": "markdown",
   "id": "683d2ae2-5cfb-4df0-bec0-cb04044d7205",
   "metadata": {},
   "source": [
    "ZOO WEE MAMA! Look at the maximum temperature for that day. That's hot."
   ]
  },
  {
   "cell_type": "markdown",
   "id": "d7a51e5c-60c5-430d-8fb4-19cf1c72cdb3",
   "metadata": {},
   "source": [
    "The function `extract_year_from_date` takes a date string in the **YYYY-MM-DD** format and returns an integer representing the **year**. The function `extract_month_from_date` takes a date string and returns a string describing the month. Run this cell, but you do not need to understand how this code works or edit it."
   ]
  },
  {
   "cell_type": "code",
   "execution_count": null,
   "id": "2769e441-58ee-4d2c-b769-850e06d030e4",
   "metadata": {},
   "outputs": [],
   "source": [
    "# Just run this cell\n",
    "import calendar\n",
    "\n",
    "def extract_year_from_date(date):\n",
    "    \"\"\"Returns an integer corresponding to the year of the input string's date.\"\"\"\n",
    "    return int(date[:4])\n",
    "\n",
    "def extract_month_from_date(date):\n",
    "    \"Return an abbreviation of the name of the month for a string's date.\"\n",
    "    month = date[5:7]\n",
    "    return f'{month} ({calendar.month_abbr[int(date[5:7])]})'\n",
    "\n",
    "\n",
    "# Example\n",
    "print('2022-04-01 has year', extract_year_from_date('2022-04-01'),\n",
    "      'and month', extract_month_from_date('2022-04-01'))"
   ]
  },
  {
   "cell_type": "markdown",
   "id": "49d9e79e-c50a-4c7a-9fc1-62aefb1a385e",
   "metadata": {
    "tags": []
   },
   "source": [
    "#### Task 1.2.02 📍"
   ]
  },
  {
   "cell_type": "markdown",
   "id": "416149a4-1742-49e4-aa31-bea6664f51b5",
   "metadata": {
    "deletable": false,
    "editable": false
   },
   "source": [
    "Add two new columns called `Year` and `Month` to the `phoenix` table that contain the year as an **integer** and the month as a **string** (such as `\"04 (Apr)\"`) for each day, respectively. \n",
    "\n",
    "*Note*: The functions above may be helpful!\n",
    "\n",
    "_Points:_ 6"
   ]
  },
  {
   "cell_type": "code",
   "execution_count": null,
   "id": "d6a0248e-eb26-4112-b094-cd1115b9f4e9",
   "metadata": {
    "tags": []
   },
   "outputs": [],
   "source": [
    "years_array = ...\n",
    "months_array = ...\n",
    "...\n",
    "phoenix.show(5)"
   ]
  },
  {
   "cell_type": "code",
   "execution_count": null,
   "id": "b6e0419f",
   "metadata": {
    "deletable": false,
    "editable": false
   },
   "outputs": [],
   "source": [
    "grader.check(\"task_1_2_02\")"
   ]
  },
  {
   "cell_type": "markdown",
   "id": "3445a291-58f3-495a-8c7e-760744c613a0",
   "metadata": {},
   "source": [
    "#### Task 1.2.03 📍🔎"
   ]
  },
  {
   "cell_type": "markdown",
   "id": "64369844-3206-4d34-9a8a-2504265d474e",
   "metadata": {
    "deletable": false,
    "editable": false
   },
   "source": [
    "<!-- BEGIN QUESTION -->\n",
    "\n",
    "Using the `phoenix` table, create an overlaid line plot of the **average maximum temperature** and **average minimum temperature** for each year between 1900 and 2020 (inclusive). \n",
    "\n",
    "*Hint:* To draw a line plot with more than one line, call `plot` on the column label of the x-axis values and all other columns will be treated as y-axis values.\n",
    "\n",
    "_Points:_ 2"
   ]
  },
  {
   "cell_type": "code",
   "execution_count": null,
   "id": "9b8d0912-fa9e-4ef9-9612-20f83245b878",
   "metadata": {
    "tags": []
   },
   "outputs": [],
   "source": [
    "..."
   ]
  },
  {
   "cell_type": "markdown",
   "id": "9474439b-6b6e-430d-bb48-6c4e59f0f7af",
   "metadata": {
    "deletable": false,
    "editable": false
   },
   "source": [
    "<!-- END QUESTION -->\n",
    "\n",
    "#### Task 1.2.04 📍🔎"
   ]
  },
  {
   "cell_type": "markdown",
   "id": "d5daf7ac-ae88-42a3-bf5e-c8e75194403e",
   "metadata": {
    "deletable": false,
    "editable": false
   },
   "source": [
    "<!-- BEGIN QUESTION -->\n",
    "\n",
    "Although still hotly debated (pun intended), many climate scientists agree that the effects of climate change began to surface in the early 1960s as a result of elevated levels of greenhouse gas emissions. How does the graph you produced in Task 1.2.3 support the claim that modern-day global warming began in the early 1960s? \n",
    "\n",
    "_Points:_ 2"
   ]
  },
  {
   "cell_type": "markdown",
   "id": "8939b81c",
   "metadata": {},
   "source": [
    "_Type your answer here, replacing this text._"
   ]
  },
  {
   "cell_type": "markdown",
   "id": "d93beb50-1eee-4164-80e6-e0872c05c4bc",
   "metadata": {
    "deletable": false,
    "editable": false
   },
   "source": [
    "<!-- END QUESTION -->\n",
    "\n",
    "Averaging temperatures across an entire year can obscure some effects of climate change. For example, if summers get hotter but winters get colder, the annual average may not change much. Let's investigate how average **monthly** maximum temperatures have changed over time in Phoenix. "
   ]
  },
  {
   "cell_type": "markdown",
   "id": "a1aec768-8d96-474b-8f1b-beb2078d2c3f",
   "metadata": {
    "tags": []
   },
   "source": [
    "#### Task 1.2.05 📍"
   ]
  },
  {
   "cell_type": "markdown",
   "id": "1203acbd-4a75-4fee-a984-a4206a061426",
   "metadata": {
    "deletable": false,
    "editable": false
   },
   "source": [
    "Create a `monthly_increases` table with one row per month and the following four columns in order: \n",
    "1. `\"Month\"`: The month (such as `\"02 (Feb)\"`)\n",
    "2. `\"Past\"`: The average max temperature in that month from 1900-1960 (inclusive)\n",
    "3. `\"Present\"`: The average max temperature in that month from 2019-2021 (inclusive)\n",
    "4. `\"Increase\"`: The difference between the present and past average max temperatures in that month\n",
    "\n",
    "First make a copy of the `phoenix` table and add a new column containing the corresponding **period** for each row. You may find the `period` function helpful. Then, use this new table to construct `monthly_increases`. Feel free to use as many lines as you need.\n",
    "\n",
    "*Hint*: What table method can we use to get each **unique value** as its own column? \n",
    "\n",
    "*Note*: Please do **not** re-assign the `phoenix` variable!\n",
    "\n",
    "_Points:_ 5"
   ]
  },
  {
   "cell_type": "code",
   "execution_count": null,
   "id": "e9424a2d-6323-42dd-a18a-c3081cd2705a",
   "metadata": {
    "tags": []
   },
   "outputs": [],
   "source": [
    "def period(year):\n",
    "    \"Output if a year is in the Past, Present, or Other.\"\n",
    "    if 1900 <= year <= 1960:\n",
    "        return \"Past\"\n",
    "    elif 2019 <= year <= 2021:\n",
    "        return \"Present\"\n",
    "    else:\n",
    "        return \"Other\"\n",
    "    \n",
    "...\n",
    "monthly_increases = ...\n",
    "monthly_increases.show()"
   ]
  },
  {
   "cell_type": "code",
   "execution_count": null,
   "id": "0eda928f",
   "metadata": {
    "deletable": false,
    "editable": false
   },
   "outputs": [],
   "source": [
    "grader.check(\"task_1_2_05\")"
   ]
  },
  {
   "cell_type": "markdown",
   "id": "3e0ab2bc-d725-4a1e-a69c-b01394405ff4",
   "metadata": {},
   "source": [
    "#### February in Phoenix"
   ]
  },
  {
   "cell_type": "markdown",
   "id": "21bab127-070e-4832-8c95-683c080ba1a1",
   "metadata": {},
   "source": [
    "The `\"Past\"` column values are averaged over many decades, and so they are reliable estimates of the average high temperatures in those months before the effects of modern climate change. However, the `\"Present\"` column is based on only three years of observations. February, the shortest month, has the fewest total observations: only 85 days. Run the following cell to see this."
   ]
  },
  {
   "cell_type": "code",
   "execution_count": null,
   "id": "8a7bb37d-b6ce-45f0-8d9e-846f474d4362",
   "metadata": {},
   "outputs": [],
   "source": [
    "# Just run this cell\n",
    "feb_present = phoenix.where('Year', are.between_or_equal_to(2019, 2021)).where('Month', '02 (Feb)')\n",
    "feb_present.num_rows"
   ]
  },
  {
   "cell_type": "markdown",
   "id": "e7fe83be-0d71-4785-a504-ea77e76d650c",
   "metadata": {},
   "source": [
    "Look back to your `monthly_increases` table. Compared to the other months, the increase for the month of February is quite small; the February difference is very close to zero. Run the following cell to print out our observed difference."
   ]
  },
  {
   "cell_type": "code",
   "execution_count": null,
   "id": "08a22a2e-c31f-4f17-81a2-5bac64b50537",
   "metadata": {},
   "outputs": [],
   "source": [
    "# Just run this cell\n",
    "print(f\"February Difference: {monthly_increases.row(1).item('Increase')}\")"
   ]
  },
  {
   "cell_type": "markdown",
   "id": "e7898386-4792-4770-988a-e43541f116e1",
   "metadata": {},
   "source": [
    "Perhaps that small difference is somehow due to chance! To investigate this idea requires a thought experiment.\n",
    "\n",
    "We can observe all of the February maximum temperatures from 2019 to 2021 (the present period), so we have access to the census; there's no random sampling involved. But, we can imagine that if more years pass with the same present-day climate, there would be different but similar maximum temperatures in future February days. From the data we observe, we can try to estimate the **average maximum February temperature** in this imaginary collection of all future February days that would occur in our modern climate, assuming the climate doesn't change any further and many years pass.\n",
    "\n",
    "We can also imagine that the maximum temperature each day is like a **random draw from a distribution of temperatures for that month**. Treating actual observations of natural events as if they were each *randomly* sampled from some unknown distribution is a simplifying assumption. These temperatures were not actually sampled at random-instead, they occurred due to the complex interactions of the Earth's climate-but treating them as if they were random abstracts away the details of this naturally occurring process and allows us to carry out statistical inference.  Conclusions are only as valid as the assumptions upon which they rest, but in this case, thinking of daily temperatures as random samples from some unknown climate distribution seems at least plausible.\n",
    "\n",
    "If we assume that the **actual temperatures were drawn at random from some large population of possible February days** in our modern climate, then we can not only estimate the population average of this distribution but also quantify our uncertainty about that estimate using a confidence interval."
   ]
  },
  {
   "cell_type": "markdown",
   "id": "03c26940-df62-4811-a512-132dc8b5083b",
   "metadata": {
    "tags": []
   },
   "source": [
    "#### Task 1.2.06 📍"
   ]
  },
  {
   "cell_type": "markdown",
   "id": "c9e9fe4a-6a28-49e2-8e8e-ccd3b3467f0d",
   "metadata": {
    "deletable": false,
    "editable": false
   },
   "source": [
    "Complete the implementation of the function `generate_ci`, which takes a one-column table `t` containing sample observations and a confidence `level` percentage such as 95 or 99. It returns an array that represents a confidence interval for the population mean constructed using 5,000 bootstrap resamples.\n",
    "\n",
    "After defining `generate_ci`, we have provided a line of code that calls `generate_ci` on the present-day February max temperatures to output the array representing a 99% confidence interval for the February average max temperature. The resulting array should be approximately (66 degrees, 72 degrees).\n",
    "\n",
    "_Points:_ 5"
   ]
  },
  {
   "cell_type": "code",
   "execution_count": null,
   "id": "40a63ed6-2f5c-4c87-b8c9-064b4c8884d6",
   "metadata": {
    "tags": []
   },
   "outputs": [],
   "source": [
    "def generate_ci(t, level):\n",
    "    '''Compute a level% confidence interval (as an array) of the \n",
    "    average of the population for which column 0 of Table t contains a sample.'''\n",
    "    \n",
    "    # Create an array (stats) of sample averages from 5,000 \n",
    "    # bootstrap resamples.\n",
    "    stats = make_array()\n",
    "    for k in np.arange(5000):\n",
    "        resampled_data =\n",
    "        stat = ...\n",
    "        stats = ...\n",
    "\n",
    "    # Create an array (ci) where the first element of the array\n",
    "    # is the lower bound of the interval and the second element is \n",
    "    # the upper bound.\n",
    "    \n",
    "    ci = ...\n",
    "   \n",
    "    return ci\n",
    "\n",
    "# Call generate_ci on the max temperatures in present-day February to find a 99% confidence interval.\n",
    "feb_present_ci = generate_ci(feb_present.select('tmax'), 99)\n",
    "feb_present_ci"
   ]
  },
  {
   "cell_type": "code",
   "execution_count": null,
   "id": "5984c2b3",
   "metadata": {
    "deletable": false,
    "editable": false
   },
   "outputs": [],
   "source": [
    "grader.check(\"task_1_2_06\")"
   ]
  },
  {
   "cell_type": "markdown",
   "id": "5e8d6a22-2f97-4e94-bcbc-727f00050a3f",
   "metadata": {},
   "source": [
    "#### Task 1.2.07 📍🔎"
   ]
  },
  {
   "cell_type": "markdown",
   "id": "0f076380-b03d-4546-b9e8-185386d20e62",
   "metadata": {
    "deletable": false,
    "editable": false
   },
   "source": [
    "<!-- BEGIN QUESTION -->\n",
    "\n",
    "The observed past February average maximum temperature of 68.8485 (from the `monthly_increases` table) is within the `feb_present_ci` 99% confidence interval. \n",
    "\n",
    "What conclusion can you draw about the effect of climate change on February's maximum temperatures in Phoenix from this information? Use a 1% p-value cutoff.\n",
    "\n",
    "*Note*: If you're stuck on this question, re-reading the paragraphs under the *February* heading (particularly the first few) may be helpful.\n",
    "\n",
    "_Points:_ 2"
   ]
  },
  {
   "cell_type": "markdown",
   "id": "ecd790e0",
   "metadata": {},
   "source": [
    "_Type your answer here, replacing this text._"
   ]
  },
  {
   "cell_type": "markdown",
   "id": "f752e0b4-7553-4b66-9053-1acc3f639e0f",
   "metadata": {
    "deletable": false,
    "editable": false
   },
   "source": [
    "<!-- END QUESTION -->\n",
    "\n",
    "#### All Months"
   ]
  },
  {
   "cell_type": "markdown",
   "id": "c2baa841-9e5d-4358-aba0-11bc520ee110",
   "metadata": {
    "tags": []
   },
   "source": [
    "#### Task 1.2.08 📍"
   ]
  },
  {
   "cell_type": "markdown",
   "id": "d2d8eb1b-a488-4d26-bb11-bc546c4e5de2",
   "metadata": {
    "deletable": false,
    "editable": false
   },
   "source": [
    "Repeat the process of comparing the **past average** for each month with a **99% confidence interval**. For each month, print out the name of the month (e.g., `02 (Feb)`), the observed past average, and a confidence interval for the present average.\n",
    "\n",
    "Use the provided call to `print` in order to format the result as one line per month.\n",
    "\n",
    "*Hint*: Your code should follow the same format as our code from above (i.e. the *February* section).   \n",
    "\n",
    "_Points:_ 4"
   ]
  },
  {
   "cell_type": "code",
   "execution_count": null,
   "id": "427aa2c1-ee38-4651-b87f-255e040acb21",
   "metadata": {
    "tags": []
   },
   "outputs": [],
   "source": [
    "comparisons = make_array()\n",
    "months = ...\n",
    "for month in months:\n",
    "    past_average = ...\n",
    "    present_observations = ...\n",
    "    present_ci = ...\n",
    "    present_lower_bound = present_ci.item(0)\n",
    "    present_upper_bound = present_ci.item(1)\n",
    "    \n",
    "    # Do not change the code below this line\n",
    "    below = past_average < present_lower_bound\n",
    "    if present_lower_bound <= past_average <= present_upper_bound:\n",
    "        comparison = 'IN'\n",
    "    else:\n",
    "        comparison = 'NOT IN'\n",
    "    comparisons = np.append(comparisons, comparison)\n",
    "    \n",
    "    print('For', month, 'the past avg', round(past_average, 1), \n",
    "          'is', comparison, \n",
    "          'the 99% CI of the present avg', present_ci, '\\n')"
   ]
  },
  {
   "cell_type": "code",
   "execution_count": null,
   "id": "e946f32e",
   "metadata": {
    "deletable": false,
    "editable": false
   },
   "outputs": [],
   "source": [
    "grader.check(\"task_1_2_08\")"
   ]
  },
  {
   "cell_type": "markdown",
   "id": "4351bd61-8f4c-4a22-a118-46bcc029e034",
   "metadata": {},
   "source": [
    "#### Task 1.2.09 📍🔎"
   ]
  },
  {
   "cell_type": "markdown",
   "id": "90cf17f2-6291-4a99-aba4-e08d478959da",
   "metadata": {
    "deletable": false,
    "editable": false
   },
   "source": [
    "<!-- BEGIN QUESTION -->\n",
    "\n",
    "Summarize your findings. After comparing the past average to the 99% confidence interval for each month, what conclusions can we make about the monthly average maximum temperature in historical (1900-1960) vs. modern (2019-2021) times in the twelve months? In other words, what null hypothesis should you consider, and for which months would you reject or fail to reject the null hypothesis? Use a 1% p-value cutoff.\n",
    "\n",
    "*Hint*: Do you notice any seasonal patterns?\n",
    "\n",
    "_Points:_ 2"
   ]
  },
  {
   "cell_type": "markdown",
   "id": "3037658c",
   "metadata": {},
   "source": [
    "_Type your answer here, replacing this text._"
   ]
  },
  {
   "cell_type": "markdown",
   "id": "82e0578c-0578-4319-9702-f8962b6a090c",
   "metadata": {
    "deletable": false,
    "editable": false,
    "tags": []
   },
   "source": [
    "<!-- END QUESTION -->\n",
    "\n",
    "## 👋 Submit your Progress Check to Canvas"
   ]
  },
  {
   "cell_type": "markdown",
   "id": "98c48e82-4c96-495c-bb99-0e5290ccc276",
   "metadata": {},
   "source": [
    "1. In the related Canvas Assignment page, check the requirements for a Complete score for this checkpoint.\n",
    "1. Run the following code cell that will run all of the auto-graders tests for the above tasks.\n",
    "2. Remember that Tasks 1.1.01, 1.1.02, 1.2.03, 1.2.04, 1.2.07, and 1.2.09 will need to be manually reviewed.\n",
    "4. Select the menu items \"File\", \"Save and Export Notebook As...\", and \"HTML (.html)\" in the notebook's Toolbar to download an HTML version of this notebook file.\n",
    "5. In the related Canvas Assignment page, click Start Assignment or New Attempt to upload the downloaded HTML file.\n",
    "\n",
    "**Keep in mind that the autograder does not always check for correctness. Sometimes it just checks for the format of your answer, so passing the autograder for a question does not mean you got the answer correct for that question.**"
   ]
  },
  {
   "cell_type": "markdown",
   "id": "70300a4f-e1c3-4a8b-8e7d-7bdadb0595df",
   "metadata": {},
   "source": [
    "--- \n",
    "The cell below will re-run all of the autograder tests for Part 1 to double check your work."
   ]
  },
  {
   "cell_type": "code",
   "execution_count": null,
   "id": "0993dfd4-b048-4a47-b96d-1e833f3f4acb",
   "metadata": {},
   "outputs": [],
   "source": [
    "try:\n",
    "    checkpoint_tests = [\"task_1_1_03\", \"task_1_1_04\", \"task_1_1_05\", \"task_1_2_01\", \n",
    "                        \"task_1_2_02\", \"task_1_2_05\", \"task_1_2_06\", \"task_1_2_08\"]\n",
    "    for test in checkpoint_tests:\n",
    "        display(grader.check(test))\n",
    "except NameError:\n",
    "    print('The auto-grader has not be initialized.')"
   ]
  },
  {
   "cell_type": "markdown",
   "id": "b9a367e1-a6f3-4111-a78c-42672228799b",
   "metadata": {
    "tags": []
   },
   "source": [
    "## 💧 Part 2: Drought"
   ]
  },
  {
   "cell_type": "markdown",
   "id": "0c18de79-8f32-467a-890f-a0c3508a4322",
   "metadata": {},
   "source": [
    "According to the [United States Environmental Protection Agency](https://www.epa.gov/climate-indicators/southwest), \"Large portions of the Southwest have experienced drought conditions since weekly Drought Monitor records began in 2000. For extended periods from 2002 to 2005 and from 2012 to 2020, nearly the entire region was abnormally dry or even drier.\" \n",
    "\n",
    "Assessing the impact of drought is challenging with just city-level data because so much of the water that people use is transported from elsewhere, but we'll explore the data we have and see what we can learn.\n",
    "\n",
    "Let's first take a look at the precipitation data in the Southwest region. The `southwest.csv` file contains total annual precipitation for 13 cities in the southwestern United States for each year from 1960 to 2021. This dataset is aggregated from the daily data and includes only the Southwest cities from the original dataset that have consistent precipitation records back to 1960."
   ]
  },
  {
   "cell_type": "code",
   "execution_count": null,
   "id": "55ab5e90-146d-4289-a404-77dd705d0829",
   "metadata": {},
   "outputs": [],
   "source": [
    "southwest = Table.read_table('southwest.csv')\n",
    "southwest.show(5)"
   ]
  },
  {
   "cell_type": "markdown",
   "id": "2b52895d-b564-47a9-8a2d-08c77ca0e6dc",
   "metadata": {
    "tags": []
   },
   "source": [
    "### Task 2.01 📍"
   ]
  },
  {
   "cell_type": "markdown",
   "id": "69cd0b4c-0066-4d66-b19d-e85fa696ac93",
   "metadata": {
    "deletable": false,
    "editable": false
   },
   "source": [
    "Create a table `totals` that has one row for each year in chronological order. It should contain the following columns:\n",
    "1. `\"Year\"`: The year (a number)\n",
    "2. `\"Precipitation\"`: The total precipitation in all 13 southwestern cities that year\n",
    "\n",
    "_Points:_ 5"
   ]
  },
  {
   "cell_type": "code",
   "execution_count": null,
   "id": "e2b8b450-c98e-4dd5-911d-0f018ba4faf0",
   "metadata": {
    "tags": []
   },
   "outputs": [],
   "source": [
    "totals = ...\n",
    "totals"
   ]
  },
  {
   "cell_type": "code",
   "execution_count": null,
   "id": "bc762338",
   "metadata": {
    "deletable": false,
    "editable": false
   },
   "outputs": [],
   "source": [
    "grader.check(\"task_2_01\")"
   ]
  },
  {
   "cell_type": "markdown",
   "id": "e9b77416-80a6-4236-8ff8-a2693a2fec57",
   "metadata": {},
   "source": [
    "Run the cell below to plot the total precipitation in these cities over time, so that we can try to spot the drought visually. As a reminder, the drought years given by the EPA were  (2002-2005) and (2012-2020)."
   ]
  },
  {
   "cell_type": "code",
   "execution_count": null,
   "id": "ad9aeebf-3ab8-4303-874a-1a3dafcac60f",
   "metadata": {},
   "outputs": [],
   "source": [
    "# Just run this cell\n",
    "totals.plot(\"Year\", \"Precipitation\")"
   ]
  },
  {
   "cell_type": "markdown",
   "id": "4dff6529-7ab2-4c94-abca-ab70c57e17d8",
   "metadata": {},
   "source": [
    "This plot isn't very revealing. Each year has a different amount of precipitation, and there is quite a bit of variability across years, as if each year's precipitation is a random draw from a distribution of possible outcomes. \n",
    "\n",
    "Could it be that these so-called \"drought conditions\" from 2002-2005 and 2012-2020 can be explained by chance? In other words, could it be that the annual precipitation amounts in the Southwest for these drought years are like **random draws from the same underlying distribution** as for other years? Perhaps nothing about the Earth's precipitation patterns has really changed, and the Southwest U.S. just happened to experience a few dry years close together. \n",
    "\n",
    "To assess this idea, let's conduct an A/B test in which **each year's total precipitation** is an outcome, and the condition is **whether or not the year is in the EPA's drought period**."
   ]
  },
  {
   "cell_type": "markdown",
   "id": "12dade5d-0142-42e6-b7d7-457739936f66",
   "metadata": {},
   "source": [
    "This `drought_label` function distinguishes between drought years as described in the U.S. EPA statement above (2002-2005 and 2012-2020) and other years. Note that the label \"other\" is perhaps misleading, since there were other droughts before 2000, such as the massive [1988 drought](https://en.wikipedia.org/wiki/1988%E2%80%9390_North_American_drought) that affected much of the U.S. However, if we're interested in whether these modern drought periods (2002-2005 and 2012-2020) are *normal* or *abnormal*, it makes sense to distinguish the years in this way. "
   ]
  },
  {
   "cell_type": "code",
   "execution_count": null,
   "id": "30ba4695-ba34-432a-b343-3ebd2d99fce0",
   "metadata": {},
   "outputs": [],
   "source": [
    "def drought_label(n):\n",
    "    \"\"\"Return the label for an input year n.\"\"\"\n",
    "    if 2002 <= n <= 2005 or 2012 <= n <= 2020:\n",
    "        return 'drought'\n",
    "    else:\n",
    "        return 'other'"
   ]
  },
  {
   "cell_type": "markdown",
   "id": "be1945e6-0625-4f4a-b5ae-1d9ea5ef2d0c",
   "metadata": {},
   "source": [
    "### Task 2.02 📍🔎"
   ]
  },
  {
   "cell_type": "markdown",
   "id": "fd0598bb-73b3-4d48-a683-cafe2336cdec",
   "metadata": {
    "deletable": false,
    "editable": false
   },
   "source": [
    "<!-- BEGIN QUESTION -->\n",
    "\n",
    "Define null and alternative hypotheses for an A/B test that investigates whether drought years are drier (have less precipitation) than other years.\n",
    "\n",
    "*Note:* Please format your answer using the following structure.\n",
    "\n",
    "- *Null hypothesis:* ...\n",
    "- *Alternative hypothesis:* ...\n",
    "\n",
    "_Points:_ 3"
   ]
  },
  {
   "cell_type": "markdown",
   "id": "3cf940dd",
   "metadata": {},
   "source": [
    "_Type your answer here, replacing this text._"
   ]
  },
  {
   "cell_type": "markdown",
   "id": "8dea1b69-17d0-4f2d-9be3-8b730870deb4",
   "metadata": {
    "deletable": false,
    "editable": false
   },
   "source": [
    "<!-- END QUESTION -->\n",
    "\n",
    "### Task 2.03 📍🔎"
   ]
  },
  {
   "cell_type": "markdown",
   "id": "092ca342-f264-4636-a9c6-e8df93196148",
   "metadata": {
    "deletable": false,
    "editable": false
   },
   "source": [
    "<!-- BEGIN QUESTION -->\n",
    "\n",
    "First, define the table `drought`. It should contain one row per year and the following two columns:\n",
    "- `\"Label\"`: Denotes if a year is part of a `\"drought\"` year or an `\"other\"` year\n",
    "- `\"Precipitation\"`: The sum of the total precipitation in 13 Southwest cities that year\n",
    "\n",
    "Then, construct an overlaid histogram of two observed distributions: the total precipitation in drought years and the total precipitation in other years. \n",
    "\n",
    "*Note*: Use the provided `bins` when creating your histogram, and do not re-assign the `southwest` table. Feel free to use as many lines as you need!\n",
    "\n",
    "*Hint*: The optional `group` argument in a certain function might be helpful!\n",
    "\n",
    "_Points:_ 3"
   ]
  },
  {
   "cell_type": "code",
   "execution_count": null,
   "id": "94325859-1397-4a4d-957b-70887bba93d2",
   "metadata": {
    "tags": []
   },
   "outputs": [],
   "source": [
    "bins = np.arange(85, 215+1, 13)\n",
    "drought = ...\n",
    "..."
   ]
  },
  {
   "cell_type": "markdown",
   "id": "fed1242c-a8a6-4dee-80cd-69dfe5056ccd",
   "metadata": {
    "deletable": false,
    "editable": false
   },
   "source": [
    "<!-- END QUESTION -->\n",
    "\n",
    "Before you continue, inspect the histogram you just created and try to guess the conclusion of the A/B test. Building intuition about the result of hypothesis testing from visualizations is quite useful for data science applications. "
   ]
  },
  {
   "cell_type": "markdown",
   "id": "402500e8-b61b-4af4-a805-dec0cc124755",
   "metadata": {
    "tags": []
   },
   "source": [
    "### Task 2.04 📍"
   ]
  },
  {
   "cell_type": "markdown",
   "id": "b35c2005-dc35-489e-96d5-24566ac8aa09",
   "metadata": {
    "deletable": false,
    "editable": false
   },
   "source": [
    "Our next step is to choose a test statistic based on a correct alternative hypothesis from Task 2.02. Which of the following options are valid choices for the test statistic? Assign `ab_test_stat` to an array of integers corresponding to valid choices. Assume averages and totals are taken over the total precipitation sums for each year.\n",
    "\n",
    "1. The difference between the **total** precipitation in **drought** years and the **total** precipitation in **other** years.\n",
    "2. The difference between the **total** precipitation in **others** years and the **total** precipitation in **drought** years.\n",
    "3. The **absolute** difference between the **total** precipitation in others years and the **total** precipitation in drought years.\n",
    "1. The difference between the **average** precipitation in **drought** years and the **average** precipitation in **other** years.\n",
    "2. The difference between the **average** precipitation in **others** years and the **average** precipitation in **drought** years.\n",
    "3. The **absolute** difference between the **average** precipitation in others years and the **average** precipitation in drought years.\n",
    "\n",
    "\n",
    "_Points:_ 5"
   ]
  },
  {
   "cell_type": "code",
   "execution_count": null,
   "id": "83b38ab1-849a-4ff8-9c5b-7f5fd501c7dc",
   "metadata": {
    "tags": []
   },
   "outputs": [],
   "source": [
    "ab_test_stat = ..."
   ]
  },
  {
   "cell_type": "code",
   "execution_count": null,
   "id": "1e0a2555",
   "metadata": {
    "deletable": false,
    "editable": false
   },
   "outputs": [],
   "source": [
    "grader.check(\"task_2_04\")"
   ]
  },
  {
   "cell_type": "markdown",
   "id": "bf221b70-bf24-48c7-a589-62b6c4a7ae44",
   "metadata": {},
   "source": [
    "### Task 2.05 📍🔎"
   ]
  },
  {
   "cell_type": "markdown",
   "id": "08f59aef-95b0-4d4e-ac8d-15b56456249b",
   "metadata": {
    "deletable": false,
    "editable": false
   },
   "source": [
    "<!-- BEGIN QUESTION -->\n",
    "\n",
    "Fellow climate scientists Olivia and Will point out that there are more **other** years than **drought** years, and so measuring the difference between total precipitation will always favor the **other** years. They conclude that all of the options above involving **total** precipitation are invalid test statistic choices. Do you agree with them? Why or why not?\n",
    "\n",
    "_Points:_ 2"
   ]
  },
  {
   "cell_type": "markdown",
   "id": "8b245045",
   "metadata": {},
   "source": [
    "_Type your answer here, replacing this text._"
   ]
  },
  {
   "cell_type": "markdown",
   "id": "74fd89e9-1e74-43d0-8785-6bcf659e0121",
   "metadata": {
    "deletable": false,
    "editable": false
   },
   "source": [
    "<!-- END QUESTION -->\n",
    "\n",
    "Before going on, check your `drought` table. It should have two columns `Label` and `Precipitation` with 61 rows, 13 of which are for `\"drought\"` years."
   ]
  },
  {
   "cell_type": "code",
   "execution_count": null,
   "id": "33cff946-d02d-4920-83a2-a0b860200f32",
   "metadata": {},
   "outputs": [],
   "source": [
    "drought.show(3)"
   ]
  },
  {
   "cell_type": "code",
   "execution_count": null,
   "id": "f10a0a1c-b260-4268-a6e2-52cfae22a56f",
   "metadata": {},
   "outputs": [],
   "source": [
    "drought.group('Label')"
   ]
  },
  {
   "cell_type": "markdown",
   "id": "b2db17fa-16b8-4c4a-bd16-1f5252a2d47e",
   "metadata": {
    "tags": []
   },
   "source": [
    "### Task 2.06📍"
   ]
  },
  {
   "cell_type": "markdown",
   "id": "7b8d7ac3-61d7-40c2-b1cc-cdbcd8d1c978",
   "metadata": {
    "deletable": false,
    "editable": false
   },
   "source": [
    "For our A/B test, we'll use the difference between the average precipitation in drought years and the average precipitation in other years as our test statistic:\n",
    "\n",
    "$$\\text{average precipitation in \"drought\" years} - \\text{average precipitation in \"other\" years}$$\n",
    "\n",
    "First, complete the function `test_statistic`. It should take in a two-column table `t` with one row per year and two columns:\n",
    "- `Label`: the label for that year (either `'drought'` or `'other'`)\n",
    "- `Precipitation`: the total precipitation in the 13 Southwest cities that year. \n",
    "\n",
    "Then, use the function you define to assign `observed_statistic` to the observed test statistic.\n",
    "\n",
    "_Points:_ 4"
   ]
  },
  {
   "cell_type": "code",
   "execution_count": null,
   "id": "f0965502-f8d6-4d44-83ce-63dfaef9eeae",
   "metadata": {
    "tags": []
   },
   "outputs": [],
   "source": [
    "def test_statistic(t):\n",
    "    ...\n",
    "\n",
    "observed_statistic = ...\n",
    "observed_statistic"
   ]
  },
  {
   "cell_type": "code",
   "execution_count": null,
   "id": "649cc18c",
   "metadata": {
    "deletable": false,
    "editable": false
   },
   "outputs": [],
   "source": [
    "grader.check(\"task_2_06\")"
   ]
  },
  {
   "cell_type": "markdown",
   "id": "52561e3c-e51e-4991-a8aa-bc80548b4aff",
   "metadata": {},
   "source": [
    "Now that we have defined our hypotheses and test statistic, we are ready to conduct our hypothesis test. We’ll start by defining a function to simulate the test statistic under the null hypothesis, and then call that function 5,000 times to construct an empirical distribution under the null hypothesis."
   ]
  },
  {
   "cell_type": "markdown",
   "id": "df8b9271-4c0a-4ecf-87ee-97d182186099",
   "metadata": {
    "tags": []
   },
   "source": [
    "### Task 2.07 📍"
   ]
  },
  {
   "cell_type": "markdown",
   "id": "7dfc7b73-a0ae-4bf9-97e3-41f0e3e5c7d1",
   "metadata": {
    "deletable": false,
    "editable": false
   },
   "source": [
    "Write a function to simulate the test statistic under the null hypothesis. The `simulate_precipitation_null` function should simulate the null hypothesis once (not 5,000 times) and return the value of the test statistic for that simulated sample.\n",
    "\n",
    "*Hint*: Using `t.with_column(...)` with a column name that already exists in a table `t` will replace that column with the newly specified values.\n",
    "\n",
    "_Points:_ 4"
   ]
  },
  {
   "cell_type": "code",
   "execution_count": null,
   "id": "906e5506-1e15-4dd4-9dd4-cac2ce9178ce",
   "metadata": {
    "tags": []
   },
   "outputs": [],
   "source": [
    "def simulate_precipitation_null():\n",
    "    ...\n",
    "\n",
    "# Run your function a couple times to make sure that it works\n",
    "simulate_precipitation_null()"
   ]
  },
  {
   "cell_type": "code",
   "execution_count": null,
   "id": "64b715ba",
   "metadata": {
    "deletable": false,
    "editable": false
   },
   "outputs": [],
   "source": [
    "grader.check(\"task_2_07\")"
   ]
  },
  {
   "cell_type": "markdown",
   "id": "7a8bf0e4-1a9f-4d1d-89af-98195b1a107f",
   "metadata": {
    "tags": []
   },
   "source": [
    "### Task 2.08 📍"
   ]
  },
  {
   "cell_type": "markdown",
   "id": "f6959a8a-67a2-434a-bf1b-f952be64dc99",
   "metadata": {
    "deletable": false,
    "editable": false
   },
   "source": [
    "Fill in the blanks below to complete the simulation for the hypothesis test. Your simulation should compute 5,000 values of the test statistic under the null hypothesis and store the result in the array `sampled_stats`.\n",
    "\n",
    "*Hint:* You should use the `simulate_precipitation_null` function you wrote in the previous question!\n",
    "\n",
    "*Note:* Running this cell may take a few seconds. If it takes more than a minute, try to find a faster way to implement your `simulate_precipitation_null` function.\n",
    "\n",
    "_Points:_ 6"
   ]
  },
  {
   "cell_type": "code",
   "execution_count": null,
   "id": "d64772fb-bfc1-4c95-b00a-5da0d6af2dc6",
   "metadata": {
    "tags": []
   },
   "outputs": [],
   "source": [
    "sampled_stats = ...\n",
    "\n",
    "repetitions = ...\n",
    "for i in np.arange(repetitions):\n",
    "    ...\n",
    "\n",
    "# Do not change these lines\n",
    "Table().with_column('Difference Between Means', sampled_stats).hist()\n",
    "plt.scatter(observed_statistic, 0, c=\"r\", s=50);\n",
    "plt.ylim(-0.01);"
   ]
  },
  {
   "cell_type": "code",
   "execution_count": null,
   "id": "ea7a2298",
   "metadata": {
    "deletable": false,
    "editable": false
   },
   "outputs": [],
   "source": [
    "grader.check(\"task_2_08\")"
   ]
  },
  {
   "cell_type": "markdown",
   "id": "3e155515-1bcf-413a-9f78-3118170571ef",
   "metadata": {
    "tags": []
   },
   "source": [
    "### Task 2.09 📍"
   ]
  },
  {
   "cell_type": "markdown",
   "id": "9507b648-571b-47dc-9c5a-4dccb10610a3",
   "metadata": {
    "deletable": false,
    "editable": false
   },
   "source": [
    "Compute the p-value for this hypothesis test, and assign it to the variable `precipitation_p_val`.\n",
    "\n",
    "_Points:_ 5"
   ]
  },
  {
   "cell_type": "code",
   "execution_count": null,
   "id": "f4b98c0b-b0e8-42af-b208-4b85094d0f2d",
   "metadata": {
    "tags": []
   },
   "outputs": [],
   "source": [
    "precipitation_p_val = ...\n",
    "precipitation_p_val"
   ]
  },
  {
   "cell_type": "code",
   "execution_count": null,
   "id": "ddbf6128",
   "metadata": {
    "deletable": false,
    "editable": false
   },
   "outputs": [],
   "source": [
    "grader.check(\"task_2_09\")"
   ]
  },
  {
   "cell_type": "markdown",
   "id": "e2e9b882-71ea-4222-85c5-85960352aff7",
   "metadata": {},
   "source": [
    "### Task 2.10 📍🔎"
   ]
  },
  {
   "cell_type": "markdown",
   "id": "0d287035-cf63-4d5b-92c2-f461ed640dbb",
   "metadata": {
    "deletable": false,
    "editable": false
   },
   "source": [
    "<!-- BEGIN QUESTION -->\n",
    "\n",
    "State a conclusion from this test using a p-value cutoff of 5%. What have you learned about the EPA's statement on drought?\n",
    "\n",
    "_Points:_ 2"
   ]
  },
  {
   "cell_type": "markdown",
   "id": "ff295885",
   "metadata": {},
   "source": [
    "_Type your answer here, replacing this text._"
   ]
  },
  {
   "cell_type": "markdown",
   "id": "f2783209-baad-4026-8df1-fd83c520afe7",
   "metadata": {
    "deletable": false,
    "editable": false
   },
   "source": [
    "<!-- END QUESTION -->\n",
    "\n",
    "### Task 2.11 📍🔎"
   ]
  },
  {
   "cell_type": "markdown",
   "id": "0e636b2f-823b-46ed-acfa-005efdeb09c1",
   "metadata": {
    "deletable": false,
    "editable": false
   },
   "source": [
    "<!-- BEGIN QUESTION -->\n",
    "\n",
    "Does your conclusion from Task 2.10 apply to the entire Southwest region of the U.S.? Why or why not?\n",
    "\n",
    "_Points:_ 2"
   ]
  },
  {
   "cell_type": "markdown",
   "id": "b029519f",
   "metadata": {},
   "source": [
    "_Type your answer here, replacing this text._"
   ]
  },
  {
   "cell_type": "markdown",
   "id": "43f95f7a-cbff-4492-b630-242a601c7b75",
   "metadata": {
    "deletable": false,
    "editable": false
   },
   "source": [
    "<!-- END QUESTION -->\n",
    "\n",
    "## 🌍 Conclusion"
   ]
  },
  {
   "cell_type": "markdown",
   "id": "498e3b38-f2cc-43dd-9c07-aed31300c6e6",
   "metadata": {},
   "source": [
    "Data science plays a central role in climate change research because massive simulations of the Earth's climate are necessary to assess the implications of climate data recorded from weather stations, satellites, and other sensors. [Berkeley Earth](http://berkeleyearth.org/data/) is a common source of data for these kinds of projects.\n",
    "\n",
    "In this project, we found ways to apply our statistical inference technqiues that rely on random sampling even in situations where the data were not generated randomly, but instead by some complicated natural process that appeared random. We made assumptions about randomness and then came to conclusions based on those assumptions. Great care must be taken to choose assumptions that are realistic, so that the resulting conclusions are not misleading. However, making assumptions about data can be productive when doing so allows inference techniques to apply to novel situations."
   ]
  },
  {
   "cell_type": "markdown",
   "id": "707606f1-e9e8-47c8-b72f-d33c299eb4ad",
   "metadata": {},
   "source": [
    "## 🏁 Submit your Project to Canvas"
   ]
  },
  {
   "cell_type": "markdown",
   "id": "ace0dba1-f8cd-4d0c-98eb-fa8a6aace1c3",
   "metadata": {
    "tags": []
   },
   "source": [
    "Once you have finished working on the projects tasks, prepare to submit your work in Canvas by completing the following steps.\n",
    "\n",
    "1. In the related Canvas Assignment page, check the rubric to know how you will be scored for this assignment.\n",
    "2. Double-check that you have run the code cell near the end of the notebook that contains the command `\"grader.check_all()\"`. This command will run all of the run tests on all your responses to the auto-graded tasks marked with 📍.\n",
    "3. Double-check your responses to the manually graded tasks marked with 📍🔎.\n",
    "3. Select the menu item \"File\" and \"Save Notebook\" in the notebook's Toolbar to save your work and create a specific checkpoint in the notebook's work history.\n",
    "4. Select the menu items \"File\", \"Download\" in the notebook's Toolbar to download the notebook (.ipynb) file. \n",
    "5. In the related Canvas Assignment page, click Start Assignment or New Attempt to upload the downloaded .ipynb file.\n",
    "    * _Keep in mind that if you are working in a group, then you only submit one file for your group._\n",
    "\n",
    "**Keep in mind that the auto-grader does not always check for correctness. Sometimes it just checks for the format of your answer, so passing the autograder for a question does not mean you got the answer correct for that question.**"
   ]
  },
  {
   "cell_type": "markdown",
   "id": "f22afd7f",
   "metadata": {
    "deletable": false,
    "editable": false
   },
   "source": [
    "---\n",
    "\n",
    "To double-check your work, the cell below will rerun all of the autograder tests."
   ]
  },
  {
   "cell_type": "code",
   "execution_count": null,
   "id": "5e4ea1f1",
   "metadata": {
    "deletable": false,
    "editable": false
   },
   "outputs": [],
   "source": [
    "grader.check_all()"
   ]
  }
 ],
 "metadata": {
  "kernelspec": {
   "display_name": "Python 3 (ipykernel)",
   "language": "python",
   "name": "python3"
  },
  "language_info": {
   "codemirror_mode": {
    "name": "ipython",
    "version": 3
   },
   "file_extension": ".py",
   "mimetype": "text/x-python",
   "name": "python",
   "nbconvert_exporter": "python",
   "pygments_lexer": "ipython3",
   "version": "3.10.12"
  },
  "otter": {
   "OK_FORMAT": true,
   "assignment_name": "project2_fa23",
   "tests": {
    "task_1_1_03": {
     "name": "task_1_1_03",
     "points": 6,
     "suites": [
      {
       "cases": [
        {
         "code": ">>> isinstance(num_unique_cities, (int, np.integer))\nTrue",
         "failure_message": "❌ ",
         "hidden": false,
         "locked": false,
         "points": 1,
         "success_message": "✅ "
        },
        {
         "code": ">>> num_unique_cities > 0\nTrue",
         "failure_message": "❌ ",
         "hidden": false,
         "locked": false,
         "points": 1,
         "success_message": "✅ "
        }
       ],
       "scored": true,
       "setup": "",
       "teardown": "",
       "type": "doctest"
      }
     ]
    },
    "task_1_1_04": {
     "name": "task_1_1_04",
     "points": 7,
     "suites": [
      {
       "cases": [
        {
         "code": ">>> isinstance(coordinates_to_region(50, 100), (str, np.str_))\nTrue",
         "failure_message": "❌ ",
         "hidden": false,
         "locked": false,
         "points": 1,
         "success_message": "✅ "
        }
       ],
       "scored": true,
       "setup": "",
       "teardown": "",
       "type": "doctest"
      }
     ]
    },
    "task_1_1_05": {
     "name": "task_1_1_05",
     "points": 6,
     "suites": [
      {
       "cases": [
        {
         "code": ">>> len(cities.labels) == 8\nTrue",
         "failure_message": "❌ ",
         "hidden": false,
         "locked": false,
         "points": 1,
         "success_message": "✅ "
        },
        {
         "code": ">>> cities.labels[-1] == 'Region'\nTrue",
         "failure_message": "❌ ",
         "hidden": false,
         "locked": false,
         "points": 1,
         "success_message": "✅ "
        },
        {
         "code": ">>> cities.row(0).item('Region') == 'Northwest'\nTrue",
         "failure_message": "❌ ",
         "hidden": false,
         "locked": false,
         "points": 1,
         "success_message": "✅ "
        }
       ],
       "scored": true,
       "setup": "",
       "teardown": "",
       "type": "doctest"
      }
     ]
    },
    "task_1_2_01": {
     "name": "task_1_2_01",
     "points": 5,
     "suites": [
      {
       "cases": [
        {
         "code": ">>> isinstance(largest_2010_range_date, (str, np.str_))\nTrue",
         "failure_message": "❌ ",
         "hidden": false,
         "locked": false,
         "points": 1,
         "success_message": "✅ "
        }
       ],
       "scored": true,
       "setup": "",
       "teardown": "",
       "type": "doctest"
      }
     ]
    },
    "task_1_2_02": {
     "name": "task_1_2_02",
     "points": 6,
     "suites": [
      {
       "cases": [
        {
         "code": ">>> phoenix.num_rows == 46021\nTrue",
         "failure_message": "❌ ",
         "hidden": false,
         "locked": false,
         "points": 1,
         "success_message": "✅ "
        },
        {
         "code": ">>> len(phoenix.labels) == 6\nTrue",
         "failure_message": "❌ ",
         "hidden": false,
         "locked": false,
         "points": 1,
         "success_message": "✅ "
        },
        {
         "code": ">>> phoenix.labels == ('Date', 'tmax', 'tmin', 'prcp', 'Year', 'Month')\nTrue",
         "failure_message": "❌ ",
         "hidden": false,
         "locked": false,
         "points": 1,
         "success_message": "✅ "
        }
       ],
       "scored": true,
       "setup": "",
       "teardown": "",
       "type": "doctest"
      }
     ]
    },
    "task_1_2_05": {
     "name": "task_1_2_05",
     "points": 5,
     "suites": [
      {
       "cases": [
        {
         "code": ">>> monthly_increases.num_rows == 12\nTrue",
         "failure_message": "❌ ",
         "hidden": false,
         "locked": false,
         "points": 1,
         "success_message": "✅ "
        },
        {
         "code": ">>> monthly_increases.labels == ('Month', 'Past', 'Present', 'Increase')\nTrue",
         "failure_message": "❌ ",
         "hidden": false,
         "locked": false,
         "points": 1,
         "success_message": "✅ "
        },
        {
         "code": ">>> monthly_increases.row(2).item('Month') == '03 (Mar)'\nTrue",
         "failure_message": "❌ ",
         "hidden": false,
         "locked": false,
         "points": 1,
         "success_message": "✅ "
        }
       ],
       "scored": true,
       "setup": "",
       "teardown": "",
       "type": "doctest"
      }
     ]
    },
    "task_1_2_06": {
     "name": "task_1_2_06",
     "points": 5,
     "suites": [
      {
       "cases": [
        {
         "code": ">>> isinstance(feb_present_ci, np.ndarray) and len(feb_present_ci) == 2\nTrue",
         "failure_message": "❌ generate_ci should produce a 2-element array.",
         "hidden": false,
         "locked": false,
         "points": 2.5,
         "success_message": "✅ generate_ci produces a 2-element array."
        },
        {
         "code": ">>> 66 <= feb_present_ci.item(0) and feb_present_ci.item(1) <= 72\nTrue",
         "failure_message": "❌ feb_present_ci does not seem like a possible confidence interval.",
         "hidden": false,
         "locked": false,
         "points": 2.5,
         "success_message": "✅ feb_present_ci seems like a possible confidence interval."
        }
       ],
       "scored": true,
       "setup": "",
       "teardown": "",
       "type": "doctest"
      }
     ]
    },
    "task_1_2_08": {
     "name": "task_1_2_08",
     "points": 4,
     "suites": [
      {
       "cases": [
        {
         "code": ">>> isinstance(months, np.ndarray)\nTrue",
         "failure_message": "❌ ",
         "hidden": false,
         "locked": false,
         "points": 1,
         "success_message": "✅ "
        }
       ],
       "scored": true,
       "setup": "",
       "teardown": "",
       "type": "doctest"
      }
     ]
    },
    "task_2_01": {
     "name": "task_2_01",
     "points": 5,
     "suites": [
      {
       "cases": [
        {
         "code": ">>> totals.num_rows == 61\nTrue",
         "failure_message": "❌ ",
         "hidden": false,
         "locked": false,
         "points": 1,
         "success_message": "✅ "
        },
        {
         "code": ">>> totals.labels == ('Year', 'Precipitation')\nTrue",
         "failure_message": "❌ ",
         "hidden": false,
         "locked": false,
         "points": 1,
         "success_message": "✅ "
        }
       ],
       "scored": true,
       "setup": "",
       "teardown": "",
       "type": "doctest"
      }
     ]
    },
    "task_2_04": {
     "name": "task_2_04",
     "points": 6,
     "suites": [
      {
       "cases": [
        {
         "code": ">>> isinstance(ab_test_stat, np.ndarray)\nTrue",
         "failure_message": "❌ ",
         "hidden": false,
         "locked": false,
         "points": 1,
         "success_message": "✅ "
        },
        {
         "code": ">>> all([1 <= option <= 6 for option in ab_test_stat])\nTrue",
         "failure_message": "❌ ",
         "hidden": false,
         "locked": false,
         "points": 1,
         "success_message": "✅ "
        },
        {
         "code": ">>> all([isinstance(option, (np.int_, int)) for option in list(ab_test_stat)])\nTrue",
         "failure_message": "❌ ",
         "hidden": false,
         "locked": false,
         "points": 1,
         "success_message": "✅ "
        }
       ],
       "scored": true,
       "setup": "",
       "teardown": "",
       "type": "doctest"
      }
     ]
    },
    "task_2_06": {
     "name": "task_2_06",
     "points": 4,
     "suites": [
      {
       "cases": [
        {
         "code": ">>> observed_statistic < 0\nTrue",
         "failure_message": "❌ ",
         "hidden": false,
         "locked": false,
         "points": 1,
         "success_message": "✅ "
        }
       ],
       "scored": true,
       "setup": "",
       "teardown": "",
       "type": "doctest"
      }
     ]
    },
    "task_2_07": {
     "name": "task_2_07",
     "points": 4,
     "suites": [
      {
       "cases": [
        {
         "code": ">>> -50 < simulate_precipitation_null() < 50\nTrue",
         "failure_message": "❌ ",
         "hidden": false,
         "locked": false,
         "points": 1,
         "success_message": "✅ "
        }
       ],
       "scored": true,
       "setup": "",
       "teardown": "",
       "type": "doctest"
      }
     ]
    },
    "task_2_08": {
     "name": "task_2_08",
     "points": 6,
     "suites": [
      {
       "cases": [
        {
         "code": ">>> len(sampled_stats) == 5000\nTrue",
         "failure_message": "❌ ",
         "hidden": false,
         "locked": false,
         "points": 1,
         "success_message": "✅ "
        },
        {
         "code": ">>> np.std(sampled_stats) > 0\nTrue",
         "failure_message": "❌ ",
         "hidden": false,
         "locked": false,
         "points": 1,
         "success_message": "✅ "
        }
       ],
       "scored": true,
       "setup": "",
       "teardown": "",
       "type": "doctest"
      }
     ]
    },
    "task_2_09": {
     "name": "task_2_09",
     "points": 5,
     "suites": [
      {
       "cases": [
        {
         "code": ">>> isinstance(precipitation_p_val, (float, np.float_))\nTrue",
         "failure_message": "❌ ",
         "hidden": false,
         "locked": false,
         "points": 1,
         "success_message": "✅ "
        },
        {
         "code": ">>> 0 <= precipitation_p_val <= 1\nTrue",
         "failure_message": "❌ ",
         "hidden": false,
         "locked": false,
         "points": 1,
         "success_message": "✅ "
        }
       ],
       "scored": true,
       "setup": "",
       "teardown": "",
       "type": "doctest"
      }
     ]
    }
   }
  }
 },
 "nbformat": 4,
 "nbformat_minor": 5
}
