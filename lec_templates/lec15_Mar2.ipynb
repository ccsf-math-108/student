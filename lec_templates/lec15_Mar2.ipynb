{
 "cells": [
  {
   "cell_type": "markdown",
   "metadata": {
    "slideshow": {
     "slide_type": "slide"
    }
   },
   "source": [
    "<div style=\"width: 38.5%;\">\n",
    "    <p><strong>City College of San Francisco</strong><p>\n",
    "    <hr>\n",
    "    <p>MATH 108 - Foundations of Data Science</p>\n",
    "</div>"
   ]
  },
  {
   "cell_type": "markdown",
   "metadata": {
    "slideshow": {
     "slide_type": "-"
    }
   },
   "source": [
    "# Lecture 15: Sampling"
   ]
  },
  {
   "cell_type": "markdown",
   "metadata": {
    "slideshow": {
     "slide_type": "-"
    }
   },
   "source": [
    "Associated Textbook Sections: [10.0, 10.1, 10.2, 10.3](https://inferentialthinking.com/chapters/10/Sampling_and_Empirical_Distributions.html)"
   ]
  },
  {
   "cell_type": "markdown",
   "metadata": {
    "slideshow": {
     "slide_type": "slide"
    }
   },
   "source": [
    "<h2>Set Up the Notebook<h2>"
   ]
  },
  {
   "cell_type": "code",
   "execution_count": 1,
   "metadata": {
    "slideshow": {
     "slide_type": "-"
    }
   },
   "outputs": [],
   "source": [
    "from datascience import *\n",
    "import numpy as np\n",
    "%matplotlib inline\n",
    "import matplotlib.pyplot as plots\n",
    "plots.style.use('fivethirtyeight')"
   ]
  },
  {
   "cell_type": "markdown",
   "metadata": {
    "slideshow": {
     "slide_type": "notes"
    },
    "toc": true
   },
   "source": [
    "<h1>Table of Contents<span class=\"tocSkip\"></span></h1>\n",
    "<div class=\"toc\"><ul class=\"toc-item\"><li><span><a href=\"#Lecture-15:-Sampling\" data-toc-modified-id=\"Lecture-15:-Sampling-1\">Lecture 15: Sampling</a></span><ul class=\"toc-item\"><li><span><a href=\"#Set-Up-the-Notebook\" data-toc-modified-id=\"Set-Up-the-Notebook-1.1\">Set Up the Notebook</a></span></li><li><span><a href=\"#\" data-toc-modified-id=\"-1.2\"></a></span></li><li><span><a href=\"#Sampling\" data-toc-modified-id=\"Sampling-1.3\">Sampling</a></span><ul class=\"toc-item\"><li><span><a href=\"#Random-Samples\" data-toc-modified-id=\"Random-Samples-1.3.1\">Random Samples</a></span></li><li><span><a href=\"#Demo:-Random-Sampling\" data-toc-modified-id=\"Demo:-Random-Sampling-1.3.2\">Demo: Random Sampling</a></span></li><li><span><a href=\"#Sample-of-Convenience\" data-toc-modified-id=\"Sample-of-Convenience-1.3.3\">Sample of Convenience</a></span></li></ul></li><li><span><a href=\"#Distrubtions\" data-toc-modified-id=\"Distrubtions-1.4\">Distrubtions</a></span><ul class=\"toc-item\"><li><span><a href=\"#Probability-Distribution\" data-toc-modified-id=\"Probability-Distribution-1.4.1\">Probability Distribution</a></span></li><li><span><a href=\"#Empirical-Distribution\" data-toc-modified-id=\"Empirical-Distribution-1.4.2\">Empirical Distribution</a></span></li><li><span><a href=\"#Demo:-Distributions\" data-toc-modified-id=\"Demo:-Distributions-1.4.3\">Demo: Distributions</a></span></li></ul></li><li><span><a href=\"#Large-Random-Samples\" data-toc-modified-id=\"Large-Random-Samples-1.5\">Large Random Samples</a></span><ul class=\"toc-item\"><li><span><a href=\"#Law-of-Averages-/-Law-of-Large-Numbers\" data-toc-modified-id=\"Law-of-Averages-/-Law-of-Large-Numbers-1.5.1\">Law of Averages / Law of Large Numbers</a></span></li><li><span><a href=\"#Empirical-Distribution-of-a-Sample\" data-toc-modified-id=\"Empirical-Distribution-of-a-Sample-1.5.2\">Empirical Distribution of a Sample</a></span></li><li><span><a href=\"#Demo:-Large-Random-Samples\" data-toc-modified-id=\"Demo:-Large-Random-Samples-1.5.3\">Demo: Large Random Samples</a></span></li></ul></li><li><span><a href=\"#A-Statistic\" data-toc-modified-id=\"A-Statistic-1.6\">A Statistic</a></span><ul class=\"toc-item\"><li><span><a href=\"#Inference\" data-toc-modified-id=\"Inference-1.6.1\">Inference</a></span></li><li><span><a href=\"#Terminology\" data-toc-modified-id=\"Terminology-1.6.2\">Terminology</a></span></li><li><span><a href=\"#Demo:-Simulating-Statistics\" data-toc-modified-id=\"Demo:-Simulating-Statistics-1.6.3\">Demo: Simulating Statistics</a></span></li><li><span><a href=\"#Probability-Distribution-of-a-Statistic\" data-toc-modified-id=\"Probability-Distribution-of-a-Statistic-1.6.4\">Probability Distribution of a Statistic</a></span></li><li><span><a href=\"#Empirical-Distribution-of-a-Statistic\" data-toc-modified-id=\"Empirical-Distribution-of-a-Statistic-1.6.5\">Empirical Distribution of a Statistic</a></span></li></ul></li></ul></li></ul></div>"
   ]
  },
  {
   "cell_type": "markdown",
   "metadata": {
    "slideshow": {
     "slide_type": "slide"
    }
   },
   "source": [
    "## Sampling"
   ]
  },
  {
   "cell_type": "markdown",
   "metadata": {
    "slideshow": {
     "slide_type": "slide"
    }
   },
   "source": [
    "### Random Samples"
   ]
  },
  {
   "cell_type": "markdown",
   "metadata": {
    "slideshow": {
     "slide_type": "-"
    }
   },
   "source": [
    "* Deterministic sample: Sampling scheme doesn't involve chance\n",
    "* Random sample: \n",
    "    * Before the sample is drawn, you have to know the selection probability of every group of people in the population\n",
    "    * Not all individuals / groups have to have equal chance of being selected\n"
   ]
  },
  {
   "cell_type": "markdown",
   "metadata": {
    "slideshow": {
     "slide_type": "slide"
    }
   },
   "source": [
    "### Demo: Random Sampling"
   ]
  },
  {
   "cell_type": "markdown",
   "metadata": {
    "slideshow": {
     "slide_type": "slide"
    }
   },
   "source": [
    "Load the `united.csv` flight data containing information on United flights leaving SFO in 2015."
   ]
  },
  {
   "cell_type": "code",
   "execution_count": 2,
   "metadata": {
    "slideshow": {
     "slide_type": "fragment"
    }
   },
   "outputs": [
    {
     "data": {
      "text/html": [
       "<table border=\"1\" class=\"dataframe\">\n",
       "    <thead>\n",
       "        <tr>\n",
       "            <th>Row</th> <th>Date</th> <th>Flight Number</th> <th>Destination</th> <th>Delay</th>\n",
       "        </tr>\n",
       "    </thead>\n",
       "    <tbody>\n",
       "        <tr>\n",
       "            <td>0   </td> <td>6/1/15</td> <td>73           </td> <td>HNL        </td> <td>257  </td>\n",
       "        </tr>\n",
       "        <tr>\n",
       "            <td>1   </td> <td>6/1/15</td> <td>217          </td> <td>EWR        </td> <td>28   </td>\n",
       "        </tr>\n",
       "        <tr>\n",
       "            <td>2   </td> <td>6/1/15</td> <td>237          </td> <td>STL        </td> <td>-3   </td>\n",
       "        </tr>\n",
       "        <tr>\n",
       "            <td>3   </td> <td>6/1/15</td> <td>250          </td> <td>SAN        </td> <td>0    </td>\n",
       "        </tr>\n",
       "        <tr>\n",
       "            <td>4   </td> <td>6/1/15</td> <td>267          </td> <td>PHL        </td> <td>64   </td>\n",
       "        </tr>\n",
       "        <tr>\n",
       "            <td>5   </td> <td>6/1/15</td> <td>273          </td> <td>SEA        </td> <td>-6   </td>\n",
       "        </tr>\n",
       "        <tr>\n",
       "            <td>6   </td> <td>6/1/15</td> <td>278          </td> <td>SEA        </td> <td>-8   </td>\n",
       "        </tr>\n",
       "        <tr>\n",
       "            <td>7   </td> <td>6/1/15</td> <td>292          </td> <td>EWR        </td> <td>12   </td>\n",
       "        </tr>\n",
       "        <tr>\n",
       "            <td>8   </td> <td>6/1/15</td> <td>300          </td> <td>HNL        </td> <td>20   </td>\n",
       "        </tr>\n",
       "        <tr>\n",
       "            <td>9   </td> <td>6/1/15</td> <td>317          </td> <td>IND        </td> <td>-10  </td>\n",
       "        </tr>\n",
       "    </tbody>\n",
       "</table>\n",
       "<p>... (13815 rows omitted)</p>"
      ],
      "text/plain": [
       "Row  | Date   | Flight Number | Destination | Delay\n",
       "0    | 6/1/15 | 73            | HNL         | 257\n",
       "1    | 6/1/15 | 217           | EWR         | 28\n",
       "2    | 6/1/15 | 237           | STL         | -3\n",
       "3    | 6/1/15 | 250           | SAN         | 0\n",
       "4    | 6/1/15 | 267           | PHL         | 64\n",
       "5    | 6/1/15 | 273           | SEA         | -6\n",
       "6    | 6/1/15 | 278           | SEA         | -8\n",
       "7    | 6/1/15 | 292           | EWR         | 12\n",
       "8    | 6/1/15 | 300           | HNL         | 20\n",
       "9    | 6/1/15 | 317           | IND         | -10\n",
       "... (13815 rows omitted)"
      ]
     },
     "execution_count": 2,
     "metadata": {},
     "output_type": "execute_result"
    }
   ],
   "source": [
    "united = Table.read_table('united.csv')\n",
    "united = united.with_column('Row', np.arange(united.num_rows)).move_to_start('Row')\n",
    "united"
   ]
  },
  {
   "cell_type": "markdown",
   "metadata": {
    "slideshow": {
     "slide_type": "slide"
    }
   },
   "source": [
    "Demonstrate how to use the `take` method to systematically sample the data."
   ]
  },
  {
   "cell_type": "code",
   "execution_count": 3,
   "metadata": {
    "slideshow": {
     "slide_type": "fragment"
    }
   },
   "outputs": [
    {
     "data": {
      "text/html": [
       "<table border=\"1\" class=\"dataframe\">\n",
       "    <thead>\n",
       "        <tr>\n",
       "            <th>Row</th> <th>Date</th> <th>Flight Number</th> <th>Destination</th> <th>Delay</th>\n",
       "        </tr>\n",
       "    </thead>\n",
       "    <tbody>\n",
       "        <tr>\n",
       "            <td>0   </td> <td>6/1/15 </td> <td>73           </td> <td>HNL        </td> <td>257  </td>\n",
       "        </tr>\n",
       "        <tr>\n",
       "            <td>1000</td> <td>6/7/15 </td> <td>1692         </td> <td>EWR        </td> <td>7    </td>\n",
       "        </tr>\n",
       "        <tr>\n",
       "            <td>2000</td> <td>6/14/15</td> <td>824          </td> <td>JFK        </td> <td>-1   </td>\n",
       "        </tr>\n",
       "        <tr>\n",
       "            <td>3000</td> <td>6/21/15</td> <td>217          </td> <td>EWR        </td> <td>5    </td>\n",
       "        </tr>\n",
       "        <tr>\n",
       "            <td>4000</td> <td>6/27/15</td> <td>1401         </td> <td>SAN        </td> <td>-4   </td>\n",
       "        </tr>\n",
       "        <tr>\n",
       "            <td>5000</td> <td>7/4/15 </td> <td>1614         </td> <td>LAS        </td> <td>-2   </td>\n",
       "        </tr>\n",
       "        <tr>\n",
       "            <td>6000</td> <td>7/11/15</td> <td>401          </td> <td>CLE        </td> <td>4    </td>\n",
       "        </tr>\n",
       "        <tr>\n",
       "            <td>7000</td> <td>7/17/15</td> <td>1645         </td> <td>IAD        </td> <td>0    </td>\n",
       "        </tr>\n",
       "        <tr>\n",
       "            <td>8000</td> <td>7/24/15</td> <td>624          </td> <td>ORD        </td> <td>61   </td>\n",
       "        </tr>\n",
       "        <tr>\n",
       "            <td>9000</td> <td>7/30/15</td> <td>1728         </td> <td>ORD        </td> <td>209  </td>\n",
       "        </tr>\n",
       "    </tbody>\n",
       "</table>\n",
       "<p>... (4 rows omitted)</p>"
      ],
      "text/plain": [
       "Row  | Date    | Flight Number | Destination | Delay\n",
       "0    | 6/1/15  | 73            | HNL         | 257\n",
       "1000 | 6/7/15  | 1692          | EWR         | 7\n",
       "2000 | 6/14/15 | 824           | JFK         | -1\n",
       "3000 | 6/21/15 | 217           | EWR         | 5\n",
       "4000 | 6/27/15 | 1401          | SAN         | -4\n",
       "5000 | 7/4/15  | 1614          | LAS         | -2\n",
       "6000 | 7/11/15 | 401           | CLE         | 4\n",
       "7000 | 7/17/15 | 1645          | IAD         | 0\n",
       "8000 | 7/24/15 | 624           | ORD         | 61\n",
       "9000 | 7/30/15 | 1728          | ORD         | 209\n",
       "... (4 rows omitted)"
      ]
     },
     "execution_count": 3,
     "metadata": {},
     "output_type": "execute_result"
    }
   ],
   "source": [
    "united.take(np.arange(0, united.num_rows, 1000))"
   ]
  },
  {
   "cell_type": "markdown",
   "metadata": {
    "slideshow": {
     "slide_type": "slide"
    }
   },
   "source": [
    "Use `np.random.choice` introduce an element of chance into the sampling process."
   ]
  },
  {
   "cell_type": "code",
   "execution_count": 4,
   "metadata": {
    "scrolled": false,
    "slideshow": {
     "slide_type": "fragment"
    }
   },
   "outputs": [
    {
     "data": {
      "text/html": [
       "<table border=\"1\" class=\"dataframe\">\n",
       "    <thead>\n",
       "        <tr>\n",
       "            <th>Row</th> <th>Date</th> <th>Flight Number</th> <th>Destination</th> <th>Delay</th>\n",
       "        </tr>\n",
       "    </thead>\n",
       "    <tbody>\n",
       "        <tr>\n",
       "            <td>238  </td> <td>6/2/15 </td> <td>1204         </td> <td>SEA        </td> <td>11   </td>\n",
       "        </tr>\n",
       "        <tr>\n",
       "            <td>1238 </td> <td>6/9/15 </td> <td>736          </td> <td>EWR        </td> <td>-7   </td>\n",
       "        </tr>\n",
       "        <tr>\n",
       "            <td>2238 </td> <td>6/15/15</td> <td>1947         </td> <td>PHL        </td> <td>100  </td>\n",
       "        </tr>\n",
       "        <tr>\n",
       "            <td>3238 </td> <td>6/22/15</td> <td>1497         </td> <td>SEA        </td> <td>44   </td>\n",
       "        </tr>\n",
       "        <tr>\n",
       "            <td>4238 </td> <td>6/29/15</td> <td>572          </td> <td>ORD        </td> <td>-5   </td>\n",
       "        </tr>\n",
       "        <tr>\n",
       "            <td>5238 </td> <td>7/6/15 </td> <td>1091         </td> <td>DEN        </td> <td>-1   </td>\n",
       "        </tr>\n",
       "        <tr>\n",
       "            <td>6238 </td> <td>7/12/15</td> <td>1950         </td> <td>CLE        </td> <td>-2   </td>\n",
       "        </tr>\n",
       "        <tr>\n",
       "            <td>7238 </td> <td>7/19/15</td> <td>1073         </td> <td>BOS        </td> <td>14   </td>\n",
       "        </tr>\n",
       "        <tr>\n",
       "            <td>8238 </td> <td>7/25/15</td> <td>1930         </td> <td>IAD        </td> <td>-2   </td>\n",
       "        </tr>\n",
       "        <tr>\n",
       "            <td>9238 </td> <td>8/1/15 </td> <td>743          </td> <td>BOS        </td> <td>-1   </td>\n",
       "        </tr>\n",
       "        <tr>\n",
       "            <td>10238</td> <td>8/7/15 </td> <td>1616         </td> <td>SEA        </td> <td>14   </td>\n",
       "        </tr>\n",
       "        <tr>\n",
       "            <td>11238</td> <td>8/14/15</td> <td>427          </td> <td>OGG        </td> <td>-4   </td>\n",
       "        </tr>\n",
       "        <tr>\n",
       "            <td>12238</td> <td>8/20/15</td> <td>1756         </td> <td>BOS        </td> <td>111  </td>\n",
       "        </tr>\n",
       "        <tr>\n",
       "            <td>13238</td> <td>8/27/15</td> <td>1735         </td> <td>PDX        </td> <td>-2   </td>\n",
       "        </tr>\n",
       "    </tbody>\n",
       "</table>"
      ],
      "text/plain": [
       "<IPython.core.display.HTML object>"
      ]
     },
     "metadata": {},
     "output_type": "display_data"
    }
   ],
   "source": [
    "start = np.random.choice(np.arange(1000))\n",
    "systematic_sample = united.take(np.arange(start, united.num_rows, 1000))\n",
    "systematic_sample.show()"
   ]
  },
  {
   "cell_type": "markdown",
   "metadata": {
    "slideshow": {
     "slide_type": "slide"
    }
   },
   "source": [
    "### Sample of Convenience"
   ]
  },
  {
   "cell_type": "markdown",
   "metadata": {
    "slideshow": {
     "slide_type": "-"
    }
   },
   "source": [
    "* Example: sample consists of whoever walks by\n",
    "* Just because you think you're sampling \"randomly\", doesn't mean you have a random sample.\n",
    "* If you can't figure out the following ahead of time, then you don't have a random sample\n",
    "    * what's the population\n",
    "    * what's the chance of selection, for each group in the population"
   ]
  },
  {
   "cell_type": "markdown",
   "metadata": {
    "slideshow": {
     "slide_type": "slide"
    }
   },
   "source": [
    "## Distrubtions"
   ]
  },
  {
   "cell_type": "markdown",
   "metadata": {
    "slideshow": {
     "slide_type": "slide"
    }
   },
   "source": [
    "### Probability Distribution"
   ]
  },
  {
   "cell_type": "markdown",
   "metadata": {
    "slideshow": {
     "slide_type": "-"
    }
   },
   "source": [
    "* Random quantity with various possible values\n",
    "* Probability Distribution:\n",
    "    * All the possible values of the quantity\n",
    "    * The probability of each of those values\n",
    "* If you can do the math, you can work out the probability distribution without ever simulating it\n",
    "* But... simulation is often easier!\n"
   ]
  },
  {
   "cell_type": "markdown",
   "metadata": {
    "slideshow": {
     "slide_type": "slide"
    }
   },
   "source": [
    "### Empirical Distribution"
   ]
  },
  {
   "cell_type": "markdown",
   "metadata": {
    "slideshow": {
     "slide_type": "-"
    }
   },
   "source": [
    "* Empirical: based on observations\n",
    "* Observations can be from repetitions of an experiment\n",
    "* Empirical Distribution:\n",
    "    * All observed values\n",
    "    * The proportion of times each value appears"
   ]
  },
  {
   "cell_type": "markdown",
   "metadata": {
    "slideshow": {
     "slide_type": "slide"
    }
   },
   "source": [
    "### Demo: Distributions"
   ]
  },
  {
   "cell_type": "markdown",
   "metadata": {
    "slideshow": {
     "slide_type": "slide"
    }
   },
   "source": [
    "Create a table with the face numbers of a six-sided die. Use that table with the `sample` method to simulate randomly rolling a die. Visualize the empirical distribution."
   ]
  },
  {
   "cell_type": "code",
   "execution_count": 5,
   "metadata": {
    "slideshow": {
     "slide_type": "fragment"
    }
   },
   "outputs": [
    {
     "data": {
      "text/html": [
       "<table border=\"1\" class=\"dataframe\">\n",
       "    <thead>\n",
       "        <tr>\n",
       "            <th>Face</th>\n",
       "        </tr>\n",
       "    </thead>\n",
       "    <tbody>\n",
       "        <tr>\n",
       "            <td>1   </td>\n",
       "        </tr>\n",
       "        <tr>\n",
       "            <td>2   </td>\n",
       "        </tr>\n",
       "        <tr>\n",
       "            <td>3   </td>\n",
       "        </tr>\n",
       "        <tr>\n",
       "            <td>4   </td>\n",
       "        </tr>\n",
       "        <tr>\n",
       "            <td>5   </td>\n",
       "        </tr>\n",
       "        <tr>\n",
       "            <td>6   </td>\n",
       "        </tr>\n",
       "    </tbody>\n",
       "</table>"
      ],
      "text/plain": [
       "Face\n",
       "1\n",
       "2\n",
       "3\n",
       "4\n",
       "5\n",
       "6"
      ]
     },
     "execution_count": 5,
     "metadata": {},
     "output_type": "execute_result"
    }
   ],
   "source": [
    "die = Table().with_column('Face', np.arange(1, 7))\n",
    "die"
   ]
  },
  {
   "cell_type": "code",
   "execution_count": 6,
   "metadata": {
    "slideshow": {
     "slide_type": "fragment"
    }
   },
   "outputs": [
    {
     "data": {
      "text/html": [
       "<table border=\"1\" class=\"dataframe\">\n",
       "    <thead>\n",
       "        <tr>\n",
       "            <th>Face</th>\n",
       "        </tr>\n",
       "    </thead>\n",
       "    <tbody>\n",
       "        <tr>\n",
       "            <td>5   </td>\n",
       "        </tr>\n",
       "        <tr>\n",
       "            <td>1   </td>\n",
       "        </tr>\n",
       "        <tr>\n",
       "            <td>3   </td>\n",
       "        </tr>\n",
       "        <tr>\n",
       "            <td>5   </td>\n",
       "        </tr>\n",
       "        <tr>\n",
       "            <td>2   </td>\n",
       "        </tr>\n",
       "        <tr>\n",
       "            <td>1   </td>\n",
       "        </tr>\n",
       "        <tr>\n",
       "            <td>3   </td>\n",
       "        </tr>\n",
       "        <tr>\n",
       "            <td>2   </td>\n",
       "        </tr>\n",
       "        <tr>\n",
       "            <td>6   </td>\n",
       "        </tr>\n",
       "        <tr>\n",
       "            <td>2   </td>\n",
       "        </tr>\n",
       "    </tbody>\n",
       "</table>"
      ],
      "text/plain": [
       "Face\n",
       "5\n",
       "1\n",
       "3\n",
       "5\n",
       "2\n",
       "1\n",
       "3\n",
       "2\n",
       "6\n",
       "2"
      ]
     },
     "execution_count": 6,
     "metadata": {},
     "output_type": "execute_result"
    }
   ],
   "source": [
    "die.sample(10)"
   ]
  },
  {
   "cell_type": "code",
   "execution_count": 7,
   "metadata": {},
   "outputs": [
    {
     "data": {
      "image/png": "[encoded data removed]",
      "text/plain": [
       "<Figure size 432x288 with 1 Axes>"
      ]
     },
     "metadata": {},
     "output_type": "display_data"
    }
   ],
   "source": [
    "die.hist()"
   ]
  },
  {
   "cell_type": "code",
   "execution_count": 8,
   "metadata": {},
   "outputs": [
    {
     "data": {
      "image/png": "[encoded data removed]",
      "text/plain": [
       "<Figure size 432x288 with 1 Axes>"
      ]
     },
     "metadata": {},
     "output_type": "display_data"
    }
   ],
   "source": [
    "roll_bins = np.arange(0.5, 6.6, 1)\n",
    "die.hist(bins=roll_bins)"
   ]
  },
  {
   "cell_type": "markdown",
   "metadata": {
    "slideshow": {
     "slide_type": "slide"
    }
   },
   "source": [
    "Update the bins and randomly sample for a few different sample sizes."
   ]
  },
  {
   "cell_type": "code",
   "execution_count": 9,
   "metadata": {
    "slideshow": {
     "slide_type": "fragment"
    }
   },
   "outputs": [
    {
     "data": {
      "image/png": "[encoded data removed]",
      "text/plain": [
       "<Figure size 432x288 with 1 Axes>"
      ]
     },
     "metadata": {},
     "output_type": "display_data"
    }
   ],
   "source": [
    "die.sample(10).hist(bins=roll_bins)"
   ]
  },
  {
   "cell_type": "code",
   "execution_count": 10,
   "metadata": {
    "slideshow": {
     "slide_type": "fragment"
    }
   },
   "outputs": [
    {
     "data": {
      "image/png": "[encoded data removed]",
      "text/plain": [
       "<Figure size 432x288 with 1 Axes>"
      ]
     },
     "metadata": {},
     "output_type": "display_data"
    }
   ],
   "source": [
    "die.sample(1000).hist(bins=roll_bins)"
   ]
  },
  {
   "cell_type": "code",
   "execution_count": 11,
   "metadata": {},
   "outputs": [
    {
     "data": {
      "image/png": "[encoded data removed]",
      "text/plain": [
       "<Figure size 432x288 with 1 Axes>"
      ]
     },
     "metadata": {},
     "output_type": "display_data"
    }
   ],
   "source": [
    "die.sample(100000).hist(bins=roll_bins)"
   ]
  },
  {
   "cell_type": "markdown",
   "metadata": {
    "slideshow": {
     "slide_type": "slide"
    }
   },
   "source": [
    "## Large Random Samples"
   ]
  },
  {
   "cell_type": "markdown",
   "metadata": {
    "slideshow": {
     "slide_type": "slide"
    }
   },
   "source": [
    "### Law of Averages / Law of Large Numbers"
   ]
  },
  {
   "cell_type": "markdown",
   "metadata": {
    "slideshow": {
     "slide_type": "-"
    }
   },
   "source": [
    "* If a chance experiment is repeated many times, independently and under the same conditions, then the proportion of times that an event occurs gets closer to the theoretical probability of the event\n",
    "* As you increase the number of rolls of a six-sided die, the proportion of times you see the face with five spots gets closer to 1/6\n"
   ]
  },
  {
   "cell_type": "markdown",
   "metadata": {
    "slideshow": {
     "slide_type": "slide"
    }
   },
   "source": [
    "### Empirical Distribution of a Sample"
   ]
  },
  {
   "cell_type": "markdown",
   "metadata": {
    "slideshow": {
     "slide_type": "-"
    }
   },
   "source": [
    "If the sample size is large, then the empirical distribution of a uniform random sample resembles the distribution of the population, with high probability.\n"
   ]
  },
  {
   "cell_type": "markdown",
   "metadata": {
    "slideshow": {
     "slide_type": "slide"
    }
   },
   "source": [
    "### Demo: Large Random Samples"
   ]
  },
  {
   "cell_type": "markdown",
   "metadata": {
    "slideshow": {
     "slide_type": "slide"
    }
   },
   "source": [
    "Visualize the distribution of flight delays in the `united` data."
   ]
  },
  {
   "cell_type": "code",
   "execution_count": 19,
   "metadata": {
    "slideshow": {
     "slide_type": "fragment"
    }
   },
   "outputs": [
    {
     "data": {
      "text/html": [
       "<table border=\"1\" class=\"dataframe\">\n",
       "    <thead>\n",
       "        <tr>\n",
       "            <th>Row</th> <th>Date</th> <th>Flight Number</th> <th>Destination</th> <th>Delay</th>\n",
       "        </tr>\n",
       "    </thead>\n",
       "    <tbody>\n",
       "        <tr>\n",
       "            <td>0   </td> <td>6/1/15</td> <td>73           </td> <td>HNL        </td> <td>257  </td>\n",
       "        </tr>\n",
       "        <tr>\n",
       "            <td>1   </td> <td>6/1/15</td> <td>217          </td> <td>EWR        </td> <td>28   </td>\n",
       "        </tr>\n",
       "        <tr>\n",
       "            <td>2   </td> <td>6/1/15</td> <td>237          </td> <td>STL        </td> <td>-3   </td>\n",
       "        </tr>\n",
       "        <tr>\n",
       "            <td>3   </td> <td>6/1/15</td> <td>250          </td> <td>SAN        </td> <td>0    </td>\n",
       "        </tr>\n",
       "        <tr>\n",
       "            <td>4   </td> <td>6/1/15</td> <td>267          </td> <td>PHL        </td> <td>64   </td>\n",
       "        </tr>\n",
       "        <tr>\n",
       "            <td>5   </td> <td>6/1/15</td> <td>273          </td> <td>SEA        </td> <td>-6   </td>\n",
       "        </tr>\n",
       "        <tr>\n",
       "            <td>6   </td> <td>6/1/15</td> <td>278          </td> <td>SEA        </td> <td>-8   </td>\n",
       "        </tr>\n",
       "        <tr>\n",
       "            <td>7   </td> <td>6/1/15</td> <td>292          </td> <td>EWR        </td> <td>12   </td>\n",
       "        </tr>\n",
       "        <tr>\n",
       "            <td>8   </td> <td>6/1/15</td> <td>300          </td> <td>HNL        </td> <td>20   </td>\n",
       "        </tr>\n",
       "        <tr>\n",
       "            <td>9   </td> <td>6/1/15</td> <td>317          </td> <td>IND        </td> <td>-10  </td>\n",
       "        </tr>\n",
       "    </tbody>\n",
       "</table>\n",
       "<p>... (13815 rows omitted)</p>"
      ],
      "text/plain": [
       "Row  | Date   | Flight Number | Destination | Delay\n",
       "0    | 6/1/15 | 73            | HNL         | 257\n",
       "1    | 6/1/15 | 217           | EWR         | 28\n",
       "2    | 6/1/15 | 237           | STL         | -3\n",
       "3    | 6/1/15 | 250           | SAN         | 0\n",
       "4    | 6/1/15 | 267           | PHL         | 64\n",
       "5    | 6/1/15 | 273           | SEA         | -6\n",
       "6    | 6/1/15 | 278           | SEA         | -8\n",
       "7    | 6/1/15 | 292           | EWR         | 12\n",
       "8    | 6/1/15 | 300           | HNL         | 20\n",
       "9    | 6/1/15 | 317           | IND         | -10\n",
       "... (13815 rows omitted)"
      ]
     },
     "execution_count": 19,
     "metadata": {},
     "output_type": "execute_result"
    }
   ],
   "source": [
    "united"
   ]
  },
  {
   "cell_type": "markdown",
   "metadata": {
    "slideshow": {
     "slide_type": "fragment"
    }
   },
   "source": [
    "Perform several calculations on the delay values such as min, max, average, etc."
   ]
  },
  {
   "cell_type": "code",
   "execution_count": 21,
   "metadata": {
    "scrolled": true,
    "slideshow": {
     "slide_type": "fragment"
    }
   },
   "outputs": [
    {
     "data": {
      "text/plain": [
       "-16"
      ]
     },
     "execution_count": 21,
     "metadata": {},
     "output_type": "execute_result"
    }
   ],
   "source": [
    "np.min(united.column(\"Delay\"))"
   ]
  },
  {
   "cell_type": "code",
   "execution_count": 22,
   "metadata": {
    "scrolled": true
   },
   "outputs": [
    {
     "data": {
      "text/plain": [
       "580"
      ]
     },
     "execution_count": 22,
     "metadata": {},
     "output_type": "execute_result"
    }
   ],
   "source": [
    "max(united.column(\"Delay\"))"
   ]
  },
  {
   "cell_type": "code",
   "execution_count": 23,
   "metadata": {
    "scrolled": false
   },
   "outputs": [
    {
     "data": {
      "text/plain": [
       "16.658155515370705"
      ]
     },
     "execution_count": 23,
     "metadata": {},
     "output_type": "execute_result"
    }
   ],
   "source": [
    "np.mean(united.column(\"Delay\"))"
   ]
  },
  {
   "cell_type": "code",
   "execution_count": 25,
   "metadata": {},
   "outputs": [
    {
     "data": {
      "text/html": [
       "<table border=\"1\" class=\"dataframe\">\n",
       "    <thead>\n",
       "        <tr>\n",
       "            <th>Row</th> <th>Date</th> <th>Flight Number</th> <th>Destination</th> <th>Delay</th>\n",
       "        </tr>\n",
       "    </thead>\n",
       "    <tbody>\n",
       "        <tr>\n",
       "            <td>3140 </td> <td>6/21/15</td> <td>1964         </td> <td>SEA        </td> <td>580  </td>\n",
       "        </tr>\n",
       "        <tr>\n",
       "            <td>3154 </td> <td>6/22/15</td> <td>300          </td> <td>HNL        </td> <td>537  </td>\n",
       "        </tr>\n",
       "        <tr>\n",
       "            <td>3069 </td> <td>6/21/15</td> <td>1149         </td> <td>IAD        </td> <td>508  </td>\n",
       "        </tr>\n",
       "        <tr>\n",
       "            <td>2888 </td> <td>6/20/15</td> <td>353          </td> <td>ORD        </td> <td>505  </td>\n",
       "        </tr>\n",
       "        <tr>\n",
       "            <td>12627</td> <td>8/23/15</td> <td>1589         </td> <td>ORD        </td> <td>458  </td>\n",
       "        </tr>\n",
       "        <tr>\n",
       "            <td>7949 </td> <td>7/23/15</td> <td>1960         </td> <td>LAX        </td> <td>438  </td>\n",
       "        </tr>\n",
       "        <tr>\n",
       "            <td>3412 </td> <td>6/23/15</td> <td>1606         </td> <td>ORD        </td> <td>430  </td>\n",
       "        </tr>\n",
       "        <tr>\n",
       "            <td>578  </td> <td>6/4/15 </td> <td>1743         </td> <td>LAX        </td> <td>408  </td>\n",
       "        </tr>\n",
       "        <tr>\n",
       "            <td>2474 </td> <td>6/17/15</td> <td>1122         </td> <td>HNL        </td> <td>405  </td>\n",
       "        </tr>\n",
       "        <tr>\n",
       "            <td>8426 </td> <td>7/27/15</td> <td>572          </td> <td>ORD        </td> <td>385  </td>\n",
       "        </tr>\n",
       "    </tbody>\n",
       "</table>\n",
       "<p>... (13815 rows omitted)</p>"
      ],
      "text/plain": [
       "Row   | Date    | Flight Number | Destination | Delay\n",
       "3140  | 6/21/15 | 1964          | SEA         | 580\n",
       "3154  | 6/22/15 | 300           | HNL         | 537\n",
       "3069  | 6/21/15 | 1149          | IAD         | 508\n",
       "2888  | 6/20/15 | 353           | ORD         | 505\n",
       "12627 | 8/23/15 | 1589          | ORD         | 458\n",
       "7949  | 7/23/15 | 1960          | LAX         | 438\n",
       "3412  | 6/23/15 | 1606          | ORD         | 430\n",
       "578   | 6/4/15  | 1743          | LAX         | 408\n",
       "2474  | 6/17/15 | 1122          | HNL         | 405\n",
       "8426  | 7/27/15 | 572           | ORD         | 385\n",
       "... (13815 rows omitted)"
      ]
     },
     "execution_count": 25,
     "metadata": {},
     "output_type": "execute_result"
    }
   ],
   "source": [
    "united.sort(\"Delay\", descending=True)"
   ]
  },
  {
   "cell_type": "code",
   "execution_count": 26,
   "metadata": {
    "scrolled": true
   },
   "outputs": [
    {
     "data": {
      "image/png": "[encoded data removed]",
      "text/plain": [
       "<Figure size 432x288 with 1 Axes>"
      ]
     },
     "metadata": {},
     "output_type": "display_data"
    }
   ],
   "source": [
    "united_bins = np.arange(-20, 401, 5)\n",
    "united.hist('Delay', bins = united_bins)"
   ]
  },
  {
   "cell_type": "code",
   "execution_count": 28,
   "metadata": {},
   "outputs": [
    {
     "data": {
      "image/png": "[encoded data removed]",
      "text/plain": [
       "<Figure size 432x288 with 1 Axes>"
      ]
     },
     "metadata": {},
     "output_type": "display_data"
    }
   ],
   "source": [
    "united_bins = np.arange(-20, 201, 5)\n",
    "united.hist('Delay', bins = united_bins)"
   ]
  },
  {
   "cell_type": "markdown",
   "metadata": {
    "slideshow": {
     "slide_type": "slide"
    }
   },
   "source": [
    "Randomly sample 10 and 1000 flights from the United data and visualize the distributions of the samples."
   ]
  },
  {
   "cell_type": "code",
   "execution_count": 32,
   "metadata": {
    "scrolled": true,
    "slideshow": {
     "slide_type": "fragment"
    }
   },
   "outputs": [
    {
     "data": {
      "image/png": "[encoded data removed]",
      "text/plain": [
       "<Figure size 432x288 with 1 Axes>"
      ]
     },
     "metadata": {},
     "output_type": "display_data"
    }
   ],
   "source": [
    "united.sample(10).hist('Delay', bins = united_bins)"
   ]
  },
  {
   "cell_type": "code",
   "execution_count": 33,
   "metadata": {},
   "outputs": [
    {
     "data": {
      "image/png": "[encoded data removed]",
      "text/plain": [
       "<Figure size 432x288 with 1 Axes>"
      ]
     },
     "metadata": {},
     "output_type": "display_data"
    }
   ],
   "source": [
    "united.sample(1000).hist('Delay', bins = united_bins)"
   ]
  },
  {
   "cell_type": "markdown",
   "metadata": {
    "slideshow": {
     "slide_type": "slide"
    }
   },
   "source": [
    "## A Statistic"
   ]
  },
  {
   "cell_type": "markdown",
   "metadata": {
    "slideshow": {
     "slide_type": "slide"
    }
   },
   "source": [
    "### Inference"
   ]
  },
  {
   "cell_type": "markdown",
   "metadata": {
    "slideshow": {
     "slide_type": "-"
    }
   },
   "source": [
    "* Statistical Inference: Making conclusions based on data in random samples\n",
    "* Example: Use the data to guess the value of an unknown and fixed number by creating an estimate of the unknown quantity that depends on the random sample.\n",
    "\n"
   ]
  },
  {
   "cell_type": "markdown",
   "metadata": {
    "slideshow": {
     "slide_type": "slide"
    }
   },
   "source": [
    "### Terminology"
   ]
  },
  {
   "cell_type": "markdown",
   "metadata": {
    "slideshow": {
     "slide_type": "-"
    }
   },
   "source": [
    "* Parameter: A number associated with the population\n",
    "* Statistic: A number calculated from the sample\n",
    "* A statistic can be used as an estimate of a parameter"
   ]
  },
  {
   "cell_type": "markdown",
   "metadata": {
    "slideshow": {
     "slide_type": "slide"
    }
   },
   "source": [
    "### Demo: Simulating Statistics"
   ]
  },
  {
   "cell_type": "markdown",
   "metadata": {
    "slideshow": {
     "slide_type": "slide"
    }
   },
   "source": [
    "Calculate the median parameter for the United flight delays and compare it to the median statistic associated with a random sample of 10 flights."
   ]
  },
  {
   "cell_type": "code",
   "execution_count": 34,
   "metadata": {
    "slideshow": {
     "slide_type": "fragment"
    }
   },
   "outputs": [
    {
     "data": {
      "text/plain": [
       "2.0"
      ]
     },
     "execution_count": 34,
     "metadata": {},
     "output_type": "execute_result"
    }
   ],
   "source": [
    "np.median(united.column('Delay'))"
   ]
  },
  {
   "cell_type": "code",
   "execution_count": 39,
   "metadata": {},
   "outputs": [
    {
     "data": {
      "text/plain": [
       "7.0"
      ]
     },
     "execution_count": 39,
     "metadata": {},
     "output_type": "execute_result"
    }
   ],
   "source": [
    "np.median(united.sample(10).column('Delay'))"
   ]
  },
  {
   "cell_type": "markdown",
   "metadata": {
    "slideshow": {
     "slide_type": "slide"
    }
   },
   "source": [
    "Define a function that randomly samples United flight data for an inputed sample size and returns the median Delay for that sample."
   ]
  },
  {
   "cell_type": "code",
   "execution_count": 43,
   "metadata": {
    "slideshow": {
     "slide_type": "fragment"
    }
   },
   "outputs": [
    {
     "data": {
      "text/plain": [
       "3.0"
      ]
     },
     "execution_count": 43,
     "metadata": {},
     "output_type": "execute_result"
    }
   ],
   "source": [
    "def sample_median(size):\n",
    "    return np.median(united.sample(size).column('Delay'))\n",
    "sample_median(10)"
   ]
  },
  {
   "cell_type": "markdown",
   "metadata": {
    "slideshow": {
     "slide_type": "slide"
    }
   },
   "source": [
    "Simulate randomly sampling 10 flights 1000 times and storing the sample delay medians for each iteration. Add the results to a table and visualize the sampling distribution."
   ]
  },
  {
   "cell_type": "code",
   "execution_count": 44,
   "metadata": {
    "slideshow": {
     "slide_type": "fragment"
    }
   },
   "outputs": [
    {
     "data": {
      "image/png": "[encoded data removed]",
      "text/plain": [
       "<Figure size 432x288 with 1 Axes>"
      ]
     },
     "metadata": {},
     "output_type": "display_data"
    }
   ],
   "source": [
    "sample_medians = make_array()\n",
    "\n",
    "for i in np.arange(1000):\n",
    "    new_median = sample_median(10)\n",
    "    sample_medians = np.append(sample_medians, new_median)\n",
    "\n",
    "Table().with_column('Sample medians', sample_medians).hist(bins = np.arange(-10,31))"
   ]
  },
  {
   "cell_type": "markdown",
   "metadata": {
    "slideshow": {
     "slide_type": "slide"
    }
   },
   "source": [
    "Repeat the sample simulation except use a sample size of 1000, instead of 10."
   ]
  },
  {
   "cell_type": "code",
   "execution_count": 45,
   "metadata": {
    "slideshow": {
     "slide_type": "fragment"
    }
   },
   "outputs": [
    {
     "data": {
      "image/png": "[encoded data removed]",
      "text/plain": [
       "<Figure size 432x288 with 1 Axes>"
      ]
     },
     "metadata": {},
     "output_type": "display_data"
    }
   ],
   "source": [
    "sample_medians = make_array()\n",
    "\n",
    "for i in np.arange(1000):\n",
    "    new_median = sample_median(1000)\n",
    "    sample_medians = np.append(sample_medians, new_median)\n",
    "\n",
    "Table().with_column('Sample medians', sample_medians).hist(bins = np.arange(-10,31))"
   ]
  },
  {
   "cell_type": "markdown",
   "metadata": {
    "slideshow": {
     "slide_type": "slide"
    }
   },
   "source": [
    "### Probability Distribution of a Statistic"
   ]
  },
  {
   "cell_type": "markdown",
   "metadata": {
    "slideshow": {
     "slide_type": "-"
    }
   },
   "source": [
    "* Values of a statistic vary because random samples vary\n",
    "* Sampling distribution (or probability distribution) of the statistic:\n",
    "    * All possible values of the statistic,\n",
    "    * and all the corresponding probabilities\n",
    "    * Can be hard to calculate\n",
    "        * Either have to do the math\n",
    "        * Or have to generate all possible samples and calculate the statistic based on each sample\n"
   ]
  },
  {
   "cell_type": "markdown",
   "metadata": {
    "slideshow": {
     "slide_type": "slide"
    }
   },
   "source": [
    "### Empirical Distribution of a Statistic"
   ]
  },
  {
   "cell_type": "markdown",
   "metadata": {
    "slideshow": {
     "slide_type": "-"
    }
   },
   "source": [
    "* Empirical distribution of the statistic:\n",
    "    * Based on simulated values of the statistic\n",
    "    * Consists of all the observed values of the statistic,\n",
    "    * and the proportion of times each value appeared\n",
    "* Good approximation to the probability distribution of the statistic if the number of repetitions in the simulation is large\n"
   ]
  },
  {
   "cell_type": "markdown",
   "metadata": {
    "slideshow": {
     "slide_type": "notes"
    }
   },
   "source": [
    "<footer>\n",
    "    <hr>\n",
    "    <p>Adopted from UC Berkeley DATA 8 course materials.</p>\n",
    "    <p>This content is offered under a <a href=\"https://creativecommons.org/licenses/by-nc-sa/4.0/\">CC Attribution Non-Commercial Share Alike</a> license.</p>\n",
    "</footer>"
   ]
  }
 ],
 "metadata": {
  "kernelspec": {
   "display_name": "Python 3 (ipykernel)",
   "language": "python",
   "name": "python3"
  },
  "language_info": {
   "codemirror_mode": {
    "name": "ipython",
    "version": 3
   },
   "file_extension": ".py",
   "mimetype": "text/x-python",
   "name": "python",
   "nbconvert_exporter": "python",
   "pygments_lexer": "ipython3",
   "version": "3.9.9"
  },
  "toc": {
   "base_numbering": 1,
   "nav_menu": {},
   "number_sections": false,
   "sideBar": true,
   "skip_h1_title": false,
   "title_cell": "Table of Contents",
   "title_sidebar": "Contents",
   "toc_cell": true,
   "toc_position": {
    "height": "calc(100% - 180px)",
    "left": "10px",
    "top": "150px",
    "width": "231.797px"
   },
   "toc_section_display": false,
   "toc_window_display": false
  }
 },
 "nbformat": 4,
 "nbformat_minor": 2
}
