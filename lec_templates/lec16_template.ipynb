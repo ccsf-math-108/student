{
 "cells": [
  {
   "cell_type": "markdown",
   "metadata": {
    "slideshow": {
     "slide_type": "slide"
    }
   },
   "source": [
    "<div style=\"width: 38.5%;\">\n",
    "    <p><strong>City College of San Francisco</strong><p>\n",
    "    <hr>\n",
    "    <p>MATH 108 - Foundations of Data Science</p>\n",
    "</div>"
   ]
  },
  {
   "cell_type": "markdown",
   "metadata": {
    "slideshow": {
     "slide_type": "-"
    }
   },
   "source": [
    "# Lecture 16: Assessing Models"
   ]
  },
  {
   "cell_type": "markdown",
   "metadata": {
    "slideshow": {
     "slide_type": "-"
    }
   },
   "source": [
    "Associated Textbook Sections: [10.4, 11.0, 11.1](https://inferentialthinking.com/chapters/10/4/Random_Sampling_in_Python.html)"
   ]
  },
  {
   "cell_type": "markdown",
   "metadata": {
    "slideshow": {
     "slide_type": "slide"
    }
   },
   "source": [
    "<h2>Set Up the Notebook<h2>"
   ]
  },
  {
   "cell_type": "code",
   "execution_count": null,
   "metadata": {
    "slideshow": {
     "slide_type": "-"
    }
   },
   "outputs": [],
   "source": [
    "from datascience import *\n",
    "import numpy as np\n",
    "%matplotlib inline\n",
    "import matplotlib.pyplot as plots\n",
    "plots.style.use('fivethirtyeight')"
   ]
  },
  {
   "cell_type": "markdown",
   "metadata": {
    "slideshow": {
     "slide_type": "notes"
    },
    "toc": true
   },
   "source": [
    "<h1>Table of Contents<span class=\"tocSkip\"></span></h1>\n",
    "<div class=\"toc\"><ul class=\"toc-item\"><li><span><a href=\"#Lecture-16:-Assessing-Models\" data-toc-modified-id=\"Lecture-16:-Assessing-Models-1\">Lecture 16: Assessing Models</a></span><ul class=\"toc-item\"><li><span><a href=\"#Set-Up-the-Notebook\" data-toc-modified-id=\"Set-Up-the-Notebook-1.1\">Set Up the Notebook</a></span></li><li><span><a href=\"#\" data-toc-modified-id=\"-1.2\"></a></span></li><li><span><a href=\"#Assessing-Models\" data-toc-modified-id=\"Assessing-Models-1.3\">Assessing Models</a></span><ul class=\"toc-item\"><li><span><a href=\"#Models\" data-toc-modified-id=\"Models-1.3.1\">Models</a></span></li><li><span><a href=\"#Approach-to-Assessment\" data-toc-modified-id=\"Approach-to-Assessment-1.3.2\">Approach to Assessment</a></span></li></ul></li><li><span><a href=\"#Jury-Selection\" data-toc-modified-id=\"Jury-Selection-1.4\">Jury Selection</a></span><ul class=\"toc-item\"><li><span><a href=\"#Swain-vs.-Alabama,-1965\" data-toc-modified-id=\"Swain-vs.-Alabama,-1965-1.4.1\">Swain vs. Alabama, 1965</a></span></li><li><span><a href=\"#Supreme-Court-Ruling-(In-English-...-of-the-time)\" data-toc-modified-id=\"Supreme-Court-Ruling-(In-English-...-of-the-time)-1.4.2\">Supreme Court Ruling (In English ... of the time)</a></span></li><li><span><a href=\"#Supreme-Court-Ruling-(in-Data)\" data-toc-modified-id=\"Supreme-Court-Ruling-(in-Data)-1.4.3\">Supreme Court Ruling (in Data)</a></span></li><li><span><a href=\"#Sampling-from-a-Distribution\" data-toc-modified-id=\"Sampling-from-a-Distribution-1.4.4\">Sampling from a Distribution</a></span></li><li><span><a href=\"#Demo:-Swain-vs.-Alabama\" data-toc-modified-id=\"Demo:-Swain-vs.-Alabama-1.4.5\">Demo: Swain vs. Alabama</a></span></li></ul></li><li><span><a href=\"#A-Genetic-Model\" data-toc-modified-id=\"A-Genetic-Model-1.5\">A Genetic Model</a></span><ul class=\"toc-item\"><li><span><a href=\"#Gregor-Mendel,-1822-1884\" data-toc-modified-id=\"Gregor-Mendel,-1822-1884-1.5.1\">Gregor Mendel, 1822-1884</a></span></li><li><span><a href=\"#A-Model\" data-toc-modified-id=\"A-Model-1.5.2\">A Model</a></span></li><li><span><a href=\"#Choosing-a-Statistic\" data-toc-modified-id=\"Choosing-a-Statistic-1.5.3\">Choosing a Statistic</a></span></li><li><span><a href=\"#Demo:-Mendel-and-Pea-Flowers\" data-toc-modified-id=\"Demo:-Mendel-and-Pea-Flowers-1.5.4\">Demo: Mendel and Pea Flowers</a></span></li></ul></li><li><span><a href=\"#Two-Viewpoints\" data-toc-modified-id=\"Two-Viewpoints-1.6\">Two Viewpoints</a></span><ul class=\"toc-item\"><li><span><a href=\"#Model-and-Alternative\" data-toc-modified-id=\"Model-and-Alternative-1.6.1\">Model and Alternative</a></span></li><li><span><a href=\"#Steps-in-Assessing-a-Model\" data-toc-modified-id=\"Steps-in-Assessing-a-Model-1.6.2\">Steps in Assessing a Model</a></span></li></ul></li></ul></li></ul></div>"
   ]
  },
  {
   "cell_type": "markdown",
   "metadata": {
    "slideshow": {
     "slide_type": "slide"
    }
   },
   "source": [
    "## Assessing Models"
   ]
  },
  {
   "cell_type": "markdown",
   "metadata": {
    "slideshow": {
     "slide_type": "slide"
    }
   },
   "source": [
    "### Models"
   ]
  },
  {
   "cell_type": "markdown",
   "metadata": {
    "slideshow": {
     "slide_type": "-"
    }
   },
   "source": [
    "* A model is a set of assumptions about the data\n",
    "* In data science, many models involve assumptions about processes that involve randomness (\"Chance models\")\n",
    "* Key question: Does the model fit the data?"
   ]
  },
  {
   "cell_type": "markdown",
   "metadata": {
    "slideshow": {
     "slide_type": "slide"
    }
   },
   "source": [
    "### Approach to Assessment"
   ]
  },
  {
   "cell_type": "markdown",
   "metadata": {
    "slideshow": {
     "slide_type": "-"
    }
   },
   "source": [
    "* If we can simulate data according to the assumptions of the model, we can learn what the model predicts.\n",
    "* We can then compare the predictions to the data that were observed.\n",
    "* If the data and the model's predictions are not consistent, that is evidence against the model."
   ]
  },
  {
   "cell_type": "markdown",
   "metadata": {
    "slideshow": {
     "slide_type": "slide"
    }
   },
   "source": [
    "## Jury Selection"
   ]
  },
  {
   "cell_type": "markdown",
   "metadata": {
    "slideshow": {
     "slide_type": "slide"
    }
   },
   "source": [
    "### Swain vs. Alabama, 1965"
   ]
  },
  {
   "cell_type": "markdown",
   "metadata": {
    "slideshow": {
     "slide_type": "-"
    }
   },
   "source": [
    "* Talladega County, Alabama\n",
    "* Robert Swain, Black man convicted of crime\n",
    "* Appeal: one factor was all-White jury\n",
    "* Only men 21 years or older were allowed to serve\n",
    "* 26% of this population were Black\n",
    "* Swain's jury panel consisted of 100 men\n",
    "* 8 men on the panel were Black"
   ]
  },
  {
   "cell_type": "markdown",
   "metadata": {
    "slideshow": {
     "slide_type": "slide"
    }
   },
   "source": [
    "### Supreme Court Ruling (In English ... of the time)"
   ]
  },
  {
   "cell_type": "markdown",
   "metadata": {
    "slideshow": {
     "slide_type": "-"
    }
   },
   "source": [
    "* About disparities between the percentages in the eligible population and the jury panel, the Supreme Court wrote: \n",
    "> \"... the overall percentage disparity has been small and reflects no studied attempt to include or exclude a specified number of Negroes\"\n",
    "* The Supreme Court denied Robert Swain’s appeal\n"
   ]
  },
  {
   "cell_type": "markdown",
   "metadata": {
    "slideshow": {
     "slide_type": "slide"
    }
   },
   "source": [
    "### Supreme Court Ruling (in Data)"
   ]
  },
  {
   "cell_type": "markdown",
   "metadata": {
    "slideshow": {
     "slide_type": "-"
    }
   },
   "source": [
    "* Paraphrase: 8/100 is less than 26%, but not different enough to show Black men were systematically excluded\n",
    "* Question: is 8/100 a realistic outcome if the jury panel selection process were truly unbiased?"
   ]
  },
  {
   "cell_type": "markdown",
   "metadata": {
    "slideshow": {
     "slide_type": "slide"
    }
   },
   "source": [
    "### Sampling from a Distribution"
   ]
  },
  {
   "cell_type": "markdown",
   "metadata": {
    "slideshow": {
     "slide_type": "-"
    }
   },
   "source": [
    "* Sample at random from a categorical distribution using `sample_proportions(sample_size, pop_distribution)`\n",
    "* Samples at random from the population returns an array containing the distribution of the categories in the sample\n"
   ]
  },
  {
   "cell_type": "markdown",
   "metadata": {
    "slideshow": {
     "slide_type": "slide"
    }
   },
   "source": [
    "### Demo: Swain vs. Alabama"
   ]
  },
  {
   "cell_type": "markdown",
   "metadata": {
    "slideshow": {
     "slide_type": "slide"
    }
   },
   "source": [
    "Create an 2-valued array that reflects the proportion of the population that is Black and not Black."
   ]
  },
  {
   "cell_type": "code",
   "execution_count": null,
   "metadata": {
    "slideshow": {
     "slide_type": "fragment"
    }
   },
   "outputs": [],
   "source": [
    "..."
   ]
  },
  {
   "cell_type": "markdown",
   "metadata": {
    "slideshow": {
     "slide_type": "slide"
    }
   },
   "source": [
    "Use `sample_proportions` to create the proportions of a sample of size 100 from the population defined by the above array values."
   ]
  },
  {
   "cell_type": "code",
   "execution_count": null,
   "metadata": {
    "slideshow": {
     "slide_type": "fragment"
    }
   },
   "outputs": [],
   "source": [
    "..."
   ]
  },
  {
   "cell_type": "markdown",
   "metadata": {
    "slideshow": {
     "slide_type": "slide"
    }
   },
   "source": [
    "Define a function to return the proportion Black individuals in a random sample of size 100 from the given population. Visualize the distribution form from calling that function 1000 times."
   ]
  },
  {
   "cell_type": "code",
   "execution_count": null,
   "metadata": {
    "slideshow": {
     "slide_type": "fragment"
    }
   },
   "outputs": [],
   "source": [
    "..."
   ]
  },
  {
   "cell_type": "markdown",
   "metadata": {
    "slideshow": {
     "slide_type": "slide"
    }
   },
   "source": [
    "## A Genetic Model"
   ]
  },
  {
   "cell_type": "markdown",
   "metadata": {
    "slideshow": {
     "slide_type": "slide"
    }
   },
   "source": [
    "### Gregor Mendel, 1822-1884"
   ]
  },
  {
   "cell_type": "markdown",
   "metadata": {
    "slideshow": {
     "slide_type": "-"
    }
   },
   "source": [
    "<img src=\"img/Gregor_Mendel.jpeg\" width = 40%>"
   ]
  },
  {
   "cell_type": "markdown",
   "metadata": {
    "slideshow": {
     "slide_type": "notes"
    }
   },
   "source": [
    "Image Source: [Wikipedia - Gregor Mendel](https://en.wikipedia.org/wiki/Gregor_Mendel)"
   ]
  },
  {
   "cell_type": "markdown",
   "metadata": {
    "slideshow": {
     "slide_type": "slide"
    }
   },
   "source": [
    "### A Model"
   ]
  },
  {
   "cell_type": "markdown",
   "metadata": {
    "slideshow": {
     "slide_type": "-"
    }
   },
   "source": [
    "* Pea plants of a particular kind\n",
    "* Each one has either purple flowers or white flowers\n",
    "* Mendel’s model: Each plant is purple-flowering with chance 75%, regardless of the colors of the other plants\n",
    "* Question: Is the model good, or not?\n"
   ]
  },
  {
   "cell_type": "markdown",
   "metadata": {
    "slideshow": {
     "slide_type": "slide"
    }
   },
   "source": [
    "### Choosing a Statistic"
   ]
  },
  {
   "cell_type": "markdown",
   "metadata": {
    "slideshow": {
     "slide_type": "-"
    }
   },
   "source": [
    "* Take a sample, see what percent are purple-flowering\n",
    "* If that percent is much larger or much smaller than 75, that is evidence against the model\n",
    "* Distance from 75 is the key\n",
    "* Statistic: `abs(sample_percent_of_purple_flowering_plants - 75)`\n",
    "* If the statistic is large, that is evidence against the model\n"
   ]
  },
  {
   "cell_type": "markdown",
   "metadata": {
    "slideshow": {
     "slide_type": "slide"
    }
   },
   "source": [
    "### Demo: Mendel and Pea Flowers"
   ]
  },
  {
   "cell_type": "markdown",
   "metadata": {
    "slideshow": {
     "slide_type": "slide"
    }
   },
   "source": [
    "Define the observed proportion of purple flowers in Mendel's data and the predicted population proportions for purple and non-purple flowers."
   ]
  },
  {
   "cell_type": "code",
   "execution_count": null,
   "metadata": {
    "scrolled": true,
    "slideshow": {
     "slide_type": "fragment"
    }
   },
   "outputs": [],
   "source": [
    "..."
   ]
  },
  {
   "cell_type": "markdown",
   "metadata": {
    "slideshow": {
     "slide_type": "slide"
    }
   },
   "source": [
    "Simulate sampling 929 plants from a population with the proportions predicted by Mendel."
   ]
  },
  {
   "cell_type": "code",
   "execution_count": null,
   "metadata": {
    "scrolled": true,
    "slideshow": {
     "slide_type": "fragment"
    }
   },
   "outputs": [],
   "source": [
    "..."
   ]
  },
  {
   "cell_type": "markdown",
   "metadata": {
    "slideshow": {
     "slide_type": "slide"
    }
   },
   "source": [
    "Simulate randomly selecting samples of 929 plants based on Mendel's model. Repeat this process 10000 times and visualize the distribution of the sample proportions."
   ]
  },
  {
   "cell_type": "code",
   "execution_count": null,
   "metadata": {
    "slideshow": {
     "slide_type": "fragment"
    }
   },
   "outputs": [],
   "source": [
    "..."
   ]
  },
  {
   "cell_type": "markdown",
   "metadata": {
    "slideshow": {
     "slide_type": "slide"
    }
   },
   "source": [
    "Visualize the distribution of the test statistics created from the simulations and identify where the observed statistic fits in the distribution."
   ]
  },
  {
   "cell_type": "code",
   "execution_count": null,
   "metadata": {
    "scrolled": false,
    "slideshow": {
     "slide_type": "fragment"
    }
   },
   "outputs": [],
   "source": [
    "..."
   ]
  },
  {
   "cell_type": "markdown",
   "metadata": {
    "slideshow": {
     "slide_type": "slide"
    }
   },
   "source": [
    "## Two Viewpoints"
   ]
  },
  {
   "cell_type": "markdown",
   "metadata": {
    "slideshow": {
     "slide_type": "slide"
    }
   },
   "source": [
    "### Model and Alternative"
   ]
  },
  {
   "cell_type": "markdown",
   "metadata": {
    "slideshow": {
     "slide_type": "-"
    }
   },
   "source": [
    "* Jury selection:\n",
    "    * Model: The people on the jury panels were selected at random from the eligible population\n",
    "    * Alternative viewpoint: No, they weren't\n",
    "* Genetics:\n",
    "    * Model: Each plant has a 75% chance of having purple flowers\n",
    "    * Alternative viewpoint: No, it doesn't"
   ]
  },
  {
   "cell_type": "markdown",
   "metadata": {
    "slideshow": {
     "slide_type": "slide"
    }
   },
   "source": [
    "### Steps in Assessing a Model"
   ]
  },
  {
   "cell_type": "markdown",
   "metadata": {
    "slideshow": {
     "slide_type": "-"
    }
   },
   "source": [
    "* Choose a statistic to measure discrepancy between model and data\n",
    "* Simulate the statistic under the model’s assumptions\n",
    "* Compare the data to the model’s predictions:\n",
    "    * Draw a histogram of simulated values of the statistic\n",
    "    * Compute the observed statistic from the real sample\n",
    "    * If the observed statistic is far from the histogram, that is evidence against the model\n"
   ]
  },
  {
   "cell_type": "markdown",
   "metadata": {
    "slideshow": {
     "slide_type": "notes"
    }
   },
   "source": [
    "<footer>\n",
    "    <hr>\n",
    "    <p>Adopted from UC Berkeley DATA 8 course materials.</p>\n",
    "    <p>This content is offered under a <a href=\"https://creativecommons.org/licenses/by-nc-sa/4.0/\">CC Attribution Non-Commercial Share Alike</a> license.</p>\n",
    "</footer>"
   ]
  }
 ],
 "metadata": {
  "kernelspec": {
   "display_name": "Python 3 (ipykernel)",
   "language": "python",
   "name": "python3"
  },
  "language_info": {
   "codemirror_mode": {
    "name": "ipython",
    "version": 3
   },
   "file_extension": ".py",
   "mimetype": "text/x-python",
   "name": "python",
   "nbconvert_exporter": "python",
   "pygments_lexer": "ipython3",
   "version": "3.9.9"
  },
  "toc": {
   "base_numbering": 1,
   "nav_menu": {},
   "number_sections": false,
   "sideBar": true,
   "skip_h1_title": false,
   "title_cell": "Table of Contents",
   "title_sidebar": "Contents",
   "toc_cell": true,
   "toc_position": {
    "height": "calc(100% - 180px)",
    "left": "10px",
    "top": "150px",
    "width": "231.797px"
   },
   "toc_section_display": false,
   "toc_window_display": false
  }
 },
 "nbformat": 4,
 "nbformat_minor": 2
}
