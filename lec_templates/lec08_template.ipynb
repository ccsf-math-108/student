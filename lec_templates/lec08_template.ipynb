{
 "cells": [
  {
   "cell_type": "markdown",
   "metadata": {
    "slideshow": {
     "slide_type": "slide"
    }
   },
   "source": [
    "<div style=\"width: 38.5%;\">\n",
    "    <p><strong>City College of San Francisco</strong><p>\n",
    "    <hr>\n",
    "    <p>MATH 108 - Foundations of Data Science</p>\n",
    "</div>"
   ]
  },
  {
   "cell_type": "markdown",
   "metadata": {
    "slideshow": {
     "slide_type": "-"
    }
   },
   "source": [
    "# Lecture 8: Histograms"
   ]
  },
  {
   "cell_type": "markdown",
   "metadata": {
    "slideshow": {
     "slide_type": "-"
    }
   },
   "source": [
    "Associated Textbook Sections: [7.2](https://inferentialthinking.com/chapters/07/2/Visualizing_Numerical_Distributions.html)"
   ]
  },
  {
   "cell_type": "markdown",
   "metadata": {
    "slideshow": {
     "slide_type": "slide"
    }
   },
   "source": [
    "<h2>Set Up the Notebook<h2>"
   ]
  },
  {
   "cell_type": "code",
   "execution_count": null,
   "metadata": {
    "slideshow": {
     "slide_type": "-"
    }
   },
   "outputs": [],
   "source": [
    "from datascience import *\n",
    "import numpy as np\n",
    "%matplotlib inline\n",
    "import matplotlib.pyplot as plots\n",
    "plots.style.use('fivethirtyeight')"
   ]
  },
  {
   "cell_type": "markdown",
   "metadata": {
    "slideshow": {
     "slide_type": "notes"
    },
    "toc": true
   },
   "source": [
    "<h1>Table of Contents<span class=\"tocSkip\"></span></h1>\n",
    "<div class=\"toc\"><ul class=\"toc-item\"><li><span><a href=\"#Lecture-8:-Histograms\" data-toc-modified-id=\"Lecture-8:-Histograms-1\">Lecture 8: Histograms</a></span><ul class=\"toc-item\"><li><span><a href=\"#Set-Up-the-Notebook\" data-toc-modified-id=\"Set-Up-the-Notebook-1.1\">Set Up the Notebook</a></span></li><li><span><a href=\"#\" data-toc-modified-id=\"-1.2\"></a></span></li><li><span><a href=\"#Distributions\" data-toc-modified-id=\"Distributions-1.3\">Distributions</a></span><ul class=\"toc-item\"><li><span><a href=\"#Terminology\" data-toc-modified-id=\"Terminology-1.3.1\">Terminology</a></span></li></ul></li><li><span><a href=\"#Distributions-of-Categorical-Variables\" data-toc-modified-id=\"Distributions-of-Categorical-Variables-1.4\">Distributions of Categorical Variables</a></span><ul class=\"toc-item\"><li><span><a href=\"#Demo:-Categorical-Distribution\" data-toc-modified-id=\"Demo:-Categorical-Distribution-1.4.1\">Demo: Categorical Distribution</a></span></li><li><span><a href=\"#Visualization\" data-toc-modified-id=\"Visualization-1.4.2\">Visualization</a></span></li><li><span><a href=\"#Demo:-Bar-Charts\" data-toc-modified-id=\"Demo:-Bar-Charts-1.4.3\">Demo: Bar Charts</a></span></li><li><span><a href=\"#Displaying-a-Categorical-Distribution\" data-toc-modified-id=\"Displaying-a-Categorical-Distribution-1.4.4\">Displaying a Categorical Distribution</a></span></li></ul></li><li><span><a href=\"#Distributions-of-Numerical-Variables\" data-toc-modified-id=\"Distributions-of-Numerical-Variables-1.5\">Distributions of Numerical Variables</a></span><ul class=\"toc-item\"><li><span><a href=\"#Binning-Numerical-Values\" data-toc-modified-id=\"Binning-Numerical-Values-1.5.1\">Binning Numerical Values</a></span></li><li><span><a href=\"#Demo:-Binning\" data-toc-modified-id=\"Demo:-Binning-1.5.2\">Demo: Binning</a></span></li></ul></li><li><span><a href=\"#Area-Principle\" data-toc-modified-id=\"Area-Principle-1.6\">Area Principle</a></span><ul class=\"toc-item\"><li><span><a href=\"#Binning-Numerical-Values\" data-toc-modified-id=\"Binning-Numerical-Values-1.6.1\">Binning Numerical Values</a></span></li><li><span><a href=\"#Area-Principle\" data-toc-modified-id=\"Area-Principle-1.6.2\">Area Principle</a></span></li></ul></li><li><span><a href=\"#Drawing-Histograms\" data-toc-modified-id=\"Drawing-Histograms-1.7\">Drawing Histograms</a></span><ul class=\"toc-item\"><li><span><a href=\"#Histograms\" data-toc-modified-id=\"Histograms-1.7.1\">Histograms</a></span></li><li><span><a href=\"#Demo:-Histograms\" data-toc-modified-id=\"Demo:-Histograms-1.7.2\">Demo: Histograms</a></span></li></ul></li><li><span><a href=\"#Density\" data-toc-modified-id=\"Density-1.8\">Density</a></span><ul class=\"toc-item\"><li><span><a href=\"#Histogram-Axes\" data-toc-modified-id=\"Histogram-Axes-1.8.1\">Histogram Axes</a></span></li><li><span><a href=\"#Binning-Numerical-Values\" data-toc-modified-id=\"Binning-Numerical-Values-1.8.2\">Binning Numerical Values</a></span></li><li><span><a href=\"#How-to-Calculate-Height\" data-toc-modified-id=\"How-to-Calculate-Height-1.8.3\">How to Calculate Height</a></span></li><li><span><a href=\"#Height-Measures-Density\" data-toc-modified-id=\"Height-Measures-Density-1.8.4\">Height Measures Density</a></span></li><li><span><a href=\"#Area-Measures-Percent\" data-toc-modified-id=\"Area-Measures-Percent-1.8.5\">Area Measures Percent</a></span></li><li><span><a href=\"#Area-or-Height\" data-toc-modified-id=\"Area-or-Height-1.8.6\">Area or Height</a></span></li><li><span><a href=\"#Bar-Chart-or-Histogram?\" data-toc-modified-id=\"Bar-Chart-or-Histogram?-1.8.7\">Bar Chart or Histogram?</a></span></li></ul></li></ul></li></ul></div>"
   ]
  },
  {
   "cell_type": "markdown",
   "metadata": {
    "slideshow": {
     "slide_type": "slide"
    }
   },
   "source": [
    "## Distributions"
   ]
  },
  {
   "cell_type": "markdown",
   "metadata": {
    "slideshow": {
     "slide_type": "-"
    }
   },
   "source": [
    "### Terminology"
   ]
  },
  {
   "cell_type": "markdown",
   "metadata": {
    "slideshow": {
     "slide_type": "-"
    }
   },
   "source": [
    "* Individuals: those whose features are recorded\n",
    "* Variable: a feature, an attribute\n",
    "* A variable has different values\n",
    "* Values can be numerical or categorical, and of many subtypes within these \n",
    "* Each individual has exactly one value of the variable\n",
    "* Distribution: For each different value of the variable, the frequency of individuals that have that value"
   ]
  },
  {
   "cell_type": "markdown",
   "metadata": {
    "slideshow": {
     "slide_type": "slide"
    }
   },
   "source": [
    "## Distributions of Categorical Variables"
   ]
  },
  {
   "cell_type": "markdown",
   "metadata": {
    "slideshow": {
     "slide_type": "slide"
    }
   },
   "source": [
    "### Demo: Categorical Distribution"
   ]
  },
  {
   "cell_type": "markdown",
   "metadata": {
    "slideshow": {
     "slide_type": "slide"
    }
   },
   "source": [
    "Load the top_movies_2017.csv data set."
   ]
  },
  {
   "cell_type": "code",
   "execution_count": null,
   "metadata": {
    "scrolled": true,
    "slideshow": {
     "slide_type": "fragment"
    }
   },
   "outputs": [],
   "source": [
    "top_movies = Table.read_table('top_movies_2017.csv')\n",
    "top_movies"
   ]
  },
  {
   "cell_type": "markdown",
   "metadata": {
    "slideshow": {
     "slide_type": "slide"
    }
   },
   "source": [
    "Use the `group` method to show the distribution of studios."
   ]
  },
  {
   "cell_type": "code",
   "execution_count": null,
   "metadata": {
    "slideshow": {
     "slide_type": "fragment"
    }
   },
   "outputs": [],
   "source": [
    "..."
   ]
  },
  {
   "cell_type": "markdown",
   "metadata": {
    "slideshow": {
     "slide_type": "-"
    }
   },
   "source": [
    "### Visualization"
   ]
  },
  {
   "cell_type": "markdown",
   "metadata": {
    "slideshow": {
     "slide_type": "-"
    }
   },
   "source": [
    "* Bar charts are commonly used to visualize categorical distributions\n",
    "* One axis is categorical, one numerical"
   ]
  },
  {
   "cell_type": "markdown",
   "metadata": {
    "slideshow": {
     "slide_type": "slide"
    }
   },
   "source": [
    "### Demo: Bar Charts"
   ]
  },
  {
   "cell_type": "markdown",
   "metadata": {
    "slideshow": {
     "slide_type": "slide"
    }
   },
   "source": [
    "Visualize the distribution of studios."
   ]
  },
  {
   "cell_type": "code",
   "execution_count": null,
   "metadata": {
    "slideshow": {
     "slide_type": "fragment"
    }
   },
   "outputs": [],
   "source": [
    "..."
   ]
  },
  {
   "cell_type": "markdown",
   "metadata": {
    "slideshow": {
     "slide_type": "slide"
    }
   },
   "source": [
    "### Displaying a Categorical Distribution"
   ]
  },
  {
   "cell_type": "markdown",
   "metadata": {
    "slideshow": {
     "slide_type": "-"
    }
   },
   "source": [
    "* The distribution of a variable (a column, e.g. Studios) describes the frequencies of its different values\n",
    "* The group method counts the number of rows for each value in the column (e.g. the number of top movies released by each studio)\n",
    "* Bar charts can display the distribution of a categorical variable (e.g. studios):\n",
    "    * One bar for each category\n",
    "    * Length of bar is the count of individuals in that category\n",
    "    * You can choose the order of the bars\n"
   ]
  },
  {
   "cell_type": "markdown",
   "metadata": {
    "slideshow": {
     "slide_type": "slide"
    }
   },
   "source": [
    "## Distributions of Numerical Variables"
   ]
  },
  {
   "cell_type": "markdown",
   "metadata": {
    "slideshow": {
     "slide_type": "slide"
    }
   },
   "source": [
    "### Binning Numerical Values"
   ]
  },
  {
   "cell_type": "markdown",
   "metadata": {
    "slideshow": {
     "slide_type": "-"
    }
   },
   "source": [
    "Binning is counting the number of numerical values that lie within ranges, called bins.\n",
    "* Bins are defined by their lower bounds (inclusive)\n",
    "* The upper bound is the lower bound of the next bin"
   ]
  },
  {
   "cell_type": "markdown",
   "metadata": {
    "slideshow": {
     "slide_type": "fragment"
    }
   },
   "source": [
    "For example, the values 188, 170, 189, 163, 183, 171, 185, 168, 173, ... could be binned as follows:\n",
    "\n",
    "<img src=\"./img/binning_example.png\" width = 80%>"
   ]
  },
  {
   "cell_type": "markdown",
   "metadata": {
    "slideshow": {
     "slide_type": "slide"
    }
   },
   "source": [
    "### Demo: Binning"
   ]
  },
  {
   "cell_type": "markdown",
   "metadata": {
    "slideshow": {
     "slide_type": "slide"
    }
   },
   "source": [
    "Define the age of the move and create various bins for organizing those ages."
   ]
  },
  {
   "cell_type": "code",
   "execution_count": null,
   "metadata": {
    "slideshow": {
     "slide_type": "fragment"
    }
   },
   "outputs": [],
   "source": [
    "..."
   ]
  },
  {
   "cell_type": "markdown",
   "metadata": {
    "slideshow": {
     "slide_type": "slide"
    }
   },
   "source": [
    "## Area Principle"
   ]
  },
  {
   "cell_type": "markdown",
   "metadata": {
    "slideshow": {
     "slide_type": "slide"
    }
   },
   "source": [
    "### Binning Numerical Values"
   ]
  },
  {
   "cell_type": "markdown",
   "metadata": {
    "slideshow": {
     "slide_type": "slide"
    }
   },
   "source": [
    "### Area Principle"
   ]
  },
  {
   "cell_type": "markdown",
   "metadata": {
    "slideshow": {
     "slide_type": "-"
    }
   },
   "source": [
    "Areas should be proportional to the values they represent."
   ]
  },
  {
   "cell_type": "markdown",
   "metadata": {
    "slideshow": {
     "slide_type": "fragment"
    }
   },
   "source": [
    "* For example, if you represent 20% with ■, then 40% should be represented with twice that area ■■.\n",
    "* Below is [a visual example from Gizmodo in 2012](https://gizmodo.com/holy-f-ck-the-new-ipad-has-a-gigantic-70-percent-large-5893738) that mislead readers about the new iPad battery.\n",
    "\n",
    "<img src=\"./img/ipad_battery_comparison.jpeg\" width = 50%>"
   ]
  },
  {
   "cell_type": "markdown",
   "metadata": {
    "slideshow": {
     "slide_type": "slide"
    }
   },
   "source": [
    "## Drawing Histograms"
   ]
  },
  {
   "cell_type": "markdown",
   "metadata": {
    "slideshow": {
     "slide_type": "slide"
    }
   },
   "source": [
    "### Histograms"
   ]
  },
  {
   "cell_type": "markdown",
   "metadata": {
    "slideshow": {
     "slide_type": "-"
    }
   },
   "source": [
    "* Chart that displays the distribution of a numerical variable\n",
    "* Uses bins; there is one bar corresponding to each bin\n",
    "* Uses the area principle: The area of each bar is the percent of individuals in the corresponding bin\n"
   ]
  },
  {
   "cell_type": "markdown",
   "metadata": {
    "slideshow": {
     "slide_type": "slide"
    }
   },
   "source": [
    "### Demo: Histograms"
   ]
  },
  {
   "cell_type": "markdown",
   "metadata": {
    "slideshow": {
     "slide_type": "slide"
    }
   },
   "source": [
    "Create a histogrm of the ages."
   ]
  },
  {
   "cell_type": "code",
   "execution_count": null,
   "metadata": {
    "slideshow": {
     "slide_type": "fragment"
    }
   },
   "outputs": [],
   "source": [
    "..."
   ]
  },
  {
   "cell_type": "markdown",
   "metadata": {
    "slideshow": {
     "slide_type": "slide"
    }
   },
   "source": [
    "Try using equally spaced bins instead."
   ]
  },
  {
   "cell_type": "code",
   "execution_count": null,
   "metadata": {
    "scrolled": true,
    "slideshow": {
     "slide_type": "fragment"
    }
   },
   "outputs": [],
   "source": [
    "..."
   ]
  },
  {
   "cell_type": "markdown",
   "metadata": {
    "slideshow": {
     "slide_type": "slide"
    }
   },
   "source": [
    "See what happens when you don't specify any bins."
   ]
  },
  {
   "cell_type": "code",
   "execution_count": null,
   "metadata": {
    "scrolled": true,
    "slideshow": {
     "slide_type": "fragment"
    }
   },
   "outputs": [],
   "source": [
    "..."
   ]
  },
  {
   "cell_type": "markdown",
   "metadata": {
    "slideshow": {
     "slide_type": "slide"
    }
   },
   "source": [
    "Add a column containing what percent of movies are in each bin."
   ]
  },
  {
   "cell_type": "code",
   "execution_count": null,
   "metadata": {
    "scrolled": true,
    "slideshow": {
     "slide_type": "fragment"
    }
   },
   "outputs": [],
   "source": [
    "..."
   ]
  },
  {
   "cell_type": "markdown",
   "metadata": {
    "slideshow": {
     "slide_type": "slide"
    }
   },
   "source": [
    "What is the height of the [40, 65] bin?"
   ]
  },
  {
   "cell_type": "markdown",
   "metadata": {
    "slideshow": {
     "slide_type": "slide"
    }
   },
   "source": [
    "Calculate % of movies in the [40, 65) bin."
   ]
  },
  {
   "cell_type": "code",
   "execution_count": null,
   "metadata": {
    "slideshow": {
     "slide_type": "-"
    }
   },
   "outputs": [],
   "source": [
    "..."
   ]
  },
  {
   "cell_type": "markdown",
   "metadata": {
    "slideshow": {
     "slide_type": "slide"
    }
   },
   "source": [
    "Calculate the width of the 40-65 bin."
   ]
  },
  {
   "cell_type": "code",
   "execution_count": null,
   "metadata": {
    "slideshow": {
     "slide_type": "-"
    }
   },
   "outputs": [],
   "source": [
    "..."
   ]
  },
  {
   "cell_type": "markdown",
   "metadata": {
    "slideshow": {
     "slide_type": "slide"
    }
   },
   "source": [
    "Recall that the area of the bar of rectangle equals the height time the width of the bar. So, the height of the bar equals the percent in the bar (area) divided by the width of the bar."
   ]
  },
  {
   "cell_type": "code",
   "execution_count": null,
   "metadata": {
    "slideshow": {
     "slide_type": "-"
    }
   },
   "outputs": [],
   "source": [
    "..."
   ]
  },
  {
   "cell_type": "markdown",
   "metadata": {
    "slideshow": {
     "slide_type": "slide"
    }
   },
   "source": [
    "What are the heights of the rest of the bins?"
   ]
  },
  {
   "cell_type": "code",
   "execution_count": null,
   "metadata": {
    "slideshow": {
     "slide_type": "-"
    }
   },
   "outputs": [],
   "source": [
    "..."
   ]
  },
  {
   "cell_type": "markdown",
   "metadata": {
    "slideshow": {
     "slide_type": "slide"
    }
   },
   "source": [
    "## Density"
   ]
  },
  {
   "cell_type": "markdown",
   "metadata": {
    "slideshow": {
     "slide_type": "slide"
    }
   },
   "source": [
    "### Histogram Axes"
   ]
  },
  {
   "cell_type": "markdown",
   "metadata": {
    "slideshow": {
     "slide_type": "-"
    }
   },
   "source": [
    "* By default, `hist` uses a scale (`normed=True`) that ensures the area of the chart sums to 100%\n",
    "* The area of each bar is a percentage of the whole\n",
    "* The horizontal axis is a number line (e.g., years), and the bins sizes don't have to be equal to each other\n",
    "* The vertical axis is a rate (e.g., percent per year)"
   ]
  },
  {
   "cell_type": "markdown",
   "metadata": {
    "slideshow": {
     "slide_type": "slide"
    }
   },
   "source": [
    "### Binning Numerical Values"
   ]
  },
  {
   "cell_type": "markdown",
   "metadata": {
    "slideshow": {
     "slide_type": "slide"
    }
   },
   "source": [
    "### How to Calculate Height"
   ]
  },
  {
   "cell_type": "markdown",
   "metadata": {
    "slideshow": {
     "slide_type": "-"
    }
   },
   "source": [
    "The $[40, 65)$ bin contains $51$ out of $200$ movies\n",
    "* $52$ out of $200$ is $25.5\\%$\n",
    "* The bin is $65 - 40 = 25$ years wide\n",
    "* The height of the bar is calculated to be: $$\\frac{25.5 \\text{ percent}}{25 \\text{ years}} = 1.02 \\text{ percent per year}$$\n"
   ]
  },
  {
   "cell_type": "markdown",
   "metadata": {
    "slideshow": {
     "slide_type": "slide"
    }
   },
   "source": [
    "### Height Measures Density"
   ]
  },
  {
   "cell_type": "markdown",
   "metadata": {
    "slideshow": {
     "slide_type": "-"
    }
   },
   "source": [
    "* The height measures the percent of data in the bin relative to the amount of space in the bin.\n",
    "* The general formula for height is: $$\\text{height } = \\frac{\\text{percent in bin}}{\\text{width of bin}}$$\n",
    "* Height measures crowdedness, or density.\n",
    "* Units: percent per unit on the horizontal axis\n",
    "\n"
   ]
  },
  {
   "cell_type": "markdown",
   "metadata": {
    "slideshow": {
     "slide_type": "slide"
    }
   },
   "source": [
    "### Area Measures Percent"
   ]
  },
  {
   "cell_type": "markdown",
   "metadata": {
    "slideshow": {
     "slide_type": "-"
    }
   },
   "source": [
    "* The area of a bar is the percent in the bin.\n",
    "* The area of a bar can be calculated by the formula: $\\text{area of a bar } = \\text{ height of the bar} \\times \\text{ width of bin}$.\n"
   ]
  },
  {
   "cell_type": "markdown",
   "metadata": {
    "slideshow": {
     "slide_type": "slide"
    }
   },
   "source": [
    "### Area or Height"
   ]
  },
  {
   "cell_type": "markdown",
   "metadata": {
    "slideshow": {
     "slide_type": "-"
    }
   },
   "source": [
    "In general:\n",
    "* Use area when addressing a question like \"How many individuals in the bin?\"\n",
    "* Use height when addressing a question like \"How crowded is the bin?\""
   ]
  },
  {
   "cell_type": "markdown",
   "metadata": {
    "slideshow": {
     "slide_type": "slide"
    }
   },
   "source": [
    "### Bar Chart or Histogram?"
   ]
  },
  {
   "cell_type": "markdown",
   "metadata": {
    "slideshow": {
     "slide_type": "-"
    }
   },
   "source": [
    "* Use a bar chart to visualize when the:\n",
    "    * Distribution of categorical variable\n",
    "    * Bars have arbitrary (but equal) widths and spacings \n",
    "    * Height (or length) and area of bars proportional to the percent of individuals\n",
    "* Use a histogram to visualize when the:\n",
    "    * Distribution of numerical variable\n",
    "    * Horizontal axis is numerical: to scale, no gaps, bins can be unequal\n",
    "    * Area of bars proportional to the percent of individuals; height measures density"
   ]
  },
  {
   "cell_type": "markdown",
   "metadata": {
    "slideshow": {
     "slide_type": "notes"
    }
   },
   "source": [
    "<footer>\n",
    "    <hr>\n",
    "    <p>Adopted from UC Berkeley DATA 8 course materials.</p>\n",
    "    <p>This content is offered under a <a href=\"https://creativecommons.org/licenses/by-nc-sa/4.0/\">CC Attribution Non-Commercial Share Alike</a> license.</p>\n",
    "</footer>"
   ]
  }
 ],
 "metadata": {
  "kernelspec": {
   "display_name": "Python 3 (ipykernel)",
   "language": "python",
   "name": "python3"
  },
  "language_info": {
   "codemirror_mode": {
    "name": "ipython",
    "version": 3
   },
   "file_extension": ".py",
   "mimetype": "text/x-python",
   "name": "python",
   "nbconvert_exporter": "python",
   "pygments_lexer": "ipython3",
   "version": "3.9.9"
  },
  "toc": {
   "base_numbering": 1,
   "nav_menu": {},
   "number_sections": false,
   "sideBar": true,
   "skip_h1_title": false,
   "title_cell": "Table of Contents",
   "title_sidebar": "Contents",
   "toc_cell": true,
   "toc_position": {
    "height": "calc(100% - 180px)",
    "left": "10px",
    "top": "150px",
    "width": "231.797px"
   },
   "toc_section_display": false,
   "toc_window_display": false
  }
 },
 "nbformat": 4,
 "nbformat_minor": 2
}
