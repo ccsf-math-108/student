{
 "cells": [
  {
   "cell_type": "markdown",
   "metadata": {
    "slideshow": {
     "slide_type": "slide"
    }
   },
   "source": [
    "<div style=\"width: 38.5%;\">\n",
    "    <p><strong>City College of San Francisco</strong><p>\n",
    "    <hr>\n",
    "    <p>MATH 108 - Foundations of Data Science</p>\n",
    "</div>"
   ]
  },
  {
   "cell_type": "markdown",
   "metadata": {
    "slideshow": {
     "slide_type": "-"
    }
   },
   "source": [
    "# Lecture 23: Confidence Intervals"
   ]
  },
  {
   "cell_type": "markdown",
   "metadata": {
    "slideshow": {
     "slide_type": "-"
    }
   },
   "source": [
    "Associated Textbook Sections: [13.0, 13.1, 13.2](https://inferentialthinking.com/chapters/13/Estimation.html)"
   ]
  },
  {
   "cell_type": "markdown",
   "metadata": {
    "slideshow": {
     "slide_type": "slide"
    }
   },
   "source": [
    "<h2>Set Up the Notebook<h2>"
   ]
  },
  {
   "cell_type": "code",
   "execution_count": null,
   "metadata": {
    "slideshow": {
     "slide_type": "-"
    }
   },
   "outputs": [],
   "source": [
    "from datascience import *\n",
    "import numpy as np\n",
    "%matplotlib inline\n",
    "import matplotlib.pyplot as plots\n",
    "plots.style.use('fivethirtyeight')\n",
    "import warnings\n",
    "warnings.filterwarnings(\"ignore\", category=UserWarning) # hide a UserWarning linked to the datascience library"
   ]
  },
  {
   "cell_type": "markdown",
   "metadata": {
    "slideshow": {
     "slide_type": "notes"
    },
    "toc": true
   },
   "source": [
    "<h1>Table of Contents<span class=\"tocSkip\"></span></h1>\n",
    "<div class=\"toc\"><ul class=\"toc-item\"><li><span><a href=\"#Lecture-23:-Confidence-Intervals\" data-toc-modified-id=\"Lecture-23:-Confidence-Intervals-1\">Lecture 23: Confidence Intervals</a></span><ul class=\"toc-item\"><li><span><a href=\"#Set-Up-the-Notebook\" data-toc-modified-id=\"Set-Up-the-Notebook-1.1\">Set Up the Notebook</a></span></li><li><span><a href=\"#\" data-toc-modified-id=\"-1.2\"></a></span></li><li><span><a href=\"#Percentiles\" data-toc-modified-id=\"Percentiles-1.3\">Percentiles</a></span><ul class=\"toc-item\"><li><span><a href=\"#Computing-Percentiles\" data-toc-modified-id=\"Computing-Percentiles-1.3.1\">Computing Percentiles</a></span></li><li><span><a href=\"#The-percentile-Function\" data-toc-modified-id=\"The-percentile-Function-1.3.2\">The percentile Function</a></span></li><li><span><a href=\"#Demo:-Percentiles\" data-toc-modified-id=\"Demo:-Percentiles-1.3.3\">Demo: Percentiles</a></span></li></ul></li><li><span><a href=\"#Estimation\" data-toc-modified-id=\"Estimation-1.4\">Estimation</a></span><ul class=\"toc-item\"><li><span><a href=\"#Inference:-Estimation\" data-toc-modified-id=\"Inference:-Estimation-1.4.1\">Inference: Estimation</a></span></li><li><span><a href=\"#Demo:-Sample-Median-Estimation\" data-toc-modified-id=\"Demo:-Sample-Median-Estimation-1.4.2\">Demo: Sample Median Estimation</a></span></li><li><span><a href=\"#Variability-of-the-Estimate\" data-toc-modified-id=\"Variability-of-the-Estimate-1.4.3\">Variability of the Estimate</a></span></li><li><span><a href=\"#Demo:-Variability-of-the-Estimate\" data-toc-modified-id=\"Demo:-Variability-of-the-Estimate-1.4.4\">Demo: Variability of the Estimate</a></span></li><li><span><a href=\"#Quantifying-Uncertainty\" data-toc-modified-id=\"Quantifying-Uncertainty-1.4.5\">Quantifying Uncertainty</a></span></li><li><span><a href=\"#Demo:-Quantifying-Uncertainty\" data-toc-modified-id=\"Demo:-Quantifying-Uncertainty-1.4.6\">Demo: Quantifying Uncertainty</a></span></li><li><span><a href=\"#Where-to-Get-Another-Sample?\" data-toc-modified-id=\"Where-to-Get-Another-Sample?-1.4.7\">Where to Get Another Sample?</a></span></li></ul></li><li><span><a href=\"#The-Bootstrap\" data-toc-modified-id=\"The-Bootstrap-1.5\">The Bootstrap</a></span><ul class=\"toc-item\"><li><span><a href=\"#The-Bootstrap\" data-toc-modified-id=\"The-Bootstrap-1.5.1\">The Bootstrap</a></span></li><li><span><a href=\"#Why-the-Bootstrap-Works\" data-toc-modified-id=\"Why-the-Bootstrap-Works-1.5.2\">Why the Bootstrap Works</a></span></li><li><span><a href=\"#Why-We-Need-the-Bootstrap\" data-toc-modified-id=\"Why-We-Need-the-Bootstrap-1.5.3\">Why We Need the Bootstrap</a></span></li><li><span><a href=\"#Real-World-vs.-Bootstrap-World\" data-toc-modified-id=\"Real-World-vs.-Bootstrap-World-1.5.4\">Real World vs. Bootstrap World</a></span></li><li><span><a href=\"#The-Bootstrap-Principle\" data-toc-modified-id=\"The-Bootstrap-Principle-1.5.5\">The Bootstrap Principle</a></span></li><li><span><a href=\"#Key-to-Resampling\" data-toc-modified-id=\"Key-to-Resampling-1.5.6\">Key to Resampling</a></span></li><li><span><a href=\"#Demo:-Bootstrap\" data-toc-modified-id=\"Demo:-Bootstrap-1.5.7\">Demo: Bootstrap</a></span></li></ul></li><li><span><a href=\"#Confidence-Intervals\" data-toc-modified-id=\"Confidence-Intervals-1.6\">Confidence Intervals</a></span><ul class=\"toc-item\"><li><span><a href=\"#95%-Confidence-Interval\" data-toc-modified-id=\"95%-Confidence-Interval-1.6.1\">95% Confidence Interval</a></span></li><li><span><a href=\"#Demo:-Confidence-Intervals\" data-toc-modified-id=\"Demo:-Confidence-Intervals-1.6.2\">Demo: Confidence Intervals</a></span></li><li><span><a href=\"#Visualizing-Confidence\" data-toc-modified-id=\"Visualizing-Confidence-1.6.3\">Visualizing Confidence</a></span></li></ul></li></ul></li></ul></div>"
   ]
  },
  {
   "cell_type": "markdown",
   "metadata": {
    "slideshow": {
     "slide_type": "slide"
    }
   },
   "source": [
    "## Percentiles"
   ]
  },
  {
   "cell_type": "markdown",
   "metadata": {
    "slideshow": {
     "slide_type": "slide"
    }
   },
   "source": [
    "### Computing Percentiles"
   ]
  },
  {
   "cell_type": "markdown",
   "metadata": {
    "slideshow": {
     "slide_type": "-"
    }
   },
   "source": [
    "The Xth percentile is first value on the sorted list that is at least as large as X% of the elements. "
   ]
  },
  {
   "cell_type": "markdown",
   "metadata": {
    "slideshow": {
     "slide_type": "-"
    }
   },
   "source": [
    "The 80th percentile of `[1, 7, 3, 9, 5]` is the 4th ordered (`[1, 3, 5, 7, 9]`) element, 7:\n",
    "\n",
    "* $(80/100) \\cdot 5 = 4$\n",
    "* `percentile(80, s)` returns `7`\n",
    "\n",
    "For a percentile that does not exactly correspond to an element, take the next greater element instead"
   ]
  },
  {
   "cell_type": "markdown",
   "metadata": {
    "slideshow": {
     "slide_type": "slide"
    }
   },
   "source": [
    "### The percentile Function"
   ]
  },
  {
   "cell_type": "markdown",
   "metadata": {
    "slideshow": {
     "slide_type": "-"
    }
   },
   "source": [
    "* The pth percentile is the smallest value in a set that is at least as large as p% of the elements in the set\n",
    "* Function in the datascience module: `percentile(p, values)`\n",
    "    * `p` is between 0 and 100\n",
    "    * `values` is an array, list, etc.\n",
    "    * Returns the pth percentile of the array"
   ]
  },
  {
   "cell_type": "markdown",
   "metadata": {},
   "source": [
    "### Demo: Percentiles"
   ]
  },
  {
   "cell_type": "markdown",
   "metadata": {},
   "source": [
    "Compute the 55th percentile of the following array."
   ]
  },
  {
   "cell_type": "code",
   "execution_count": null,
   "metadata": {},
   "outputs": [],
   "source": [
    "x = make_array(43, 20, 51, 7, 28, 34)"
   ]
  },
  {
   "cell_type": "code",
   "execution_count": null,
   "metadata": {},
   "outputs": [],
   "source": [
    "..."
   ]
  },
  {
   "cell_type": "markdown",
   "metadata": {},
   "source": [
    "Sort the array"
   ]
  },
  {
   "cell_type": "code",
   "execution_count": null,
   "metadata": {},
   "outputs": [],
   "source": [
    "..."
   ]
  },
  {
   "cell_type": "markdown",
   "metadata": {},
   "source": [
    "Calculate the value of the index corresponding to the percentile. Round up the value."
   ]
  },
  {
   "cell_type": "code",
   "execution_count": null,
   "metadata": {},
   "outputs": [],
   "source": [
    "..."
   ]
  },
  {
   "cell_type": "markdown",
   "metadata": {
    "slideshow": {
     "slide_type": "slide"
    }
   },
   "source": [
    "## Estimation"
   ]
  },
  {
   "cell_type": "markdown",
   "metadata": {
    "slideshow": {
     "slide_type": "slide"
    }
   },
   "source": [
    "### Inference: Estimation"
   ]
  },
  {
   "cell_type": "markdown",
   "metadata": {
    "slideshow": {
     "slide_type": "-"
    }
   },
   "source": [
    "How do we calculate the value of an unknown parameter?\n",
    "* If you have a census (that is, the whole population): Just calculate the parameter and you're done\n",
    "* If you don't have a census:\n",
    "    * Take a random sample from the population\n",
    "    * Use a statistic as an estimate of the parameter"
   ]
  },
  {
   "cell_type": "markdown",
   "metadata": {},
   "source": [
    "### Demo: Sample Median Estimation"
   ]
  },
  {
   "cell_type": "markdown",
   "metadata": {},
   "source": [
    "Load the [2021 Employee Compensation data from data.sfgov.org](https://data.sfgov.org/City-Management-and-Ethics/Employee-Compensation/88g8-5mnd)."
   ]
  },
  {
   "cell_type": "code",
   "execution_count": null,
   "metadata": {
    "scrolled": true
   },
   "outputs": [],
   "source": [
    "sf = Table.read_table('https://data.sfgov.org/resource/88g8-5mnd.csv?year=2021')\n",
    "sf.show(3)"
   ]
  },
  {
   "cell_type": "markdown",
   "metadata": {},
   "source": [
    "Reduce the table to the `job`, `total_salary`, and `total_compensation` columns."
   ]
  },
  {
   "cell_type": "code",
   "execution_count": null,
   "metadata": {
    "scrolled": true
   },
   "outputs": [],
   "source": [
    "..."
   ]
  },
  {
   "cell_type": "markdown",
   "metadata": {},
   "source": [
    "Who is making the most money?"
   ]
  },
  {
   "cell_type": "code",
   "execution_count": null,
   "metadata": {
    "scrolled": false
   },
   "outputs": [],
   "source": [
    "..."
   ]
  },
  {
   "cell_type": "markdown",
   "metadata": {},
   "source": [
    "Visually explore the distribution of compensations."
   ]
  },
  {
   "cell_type": "code",
   "execution_count": null,
   "metadata": {
    "scrolled": true
   },
   "outputs": [],
   "source": [
    "..."
   ]
  },
  {
   "cell_type": "markdown",
   "metadata": {},
   "source": [
    "Filter out the bottom 5% and top 5% of compensations."
   ]
  },
  {
   "cell_type": "code",
   "execution_count": null,
   "metadata": {
    "scrolled": true
   },
   "outputs": [],
   "source": [
    "..."
   ]
  },
  {
   "cell_type": "markdown",
   "metadata": {},
   "source": [
    "Calculate the median total compensation of this population."
   ]
  },
  {
   "cell_type": "code",
   "execution_count": null,
   "metadata": {},
   "outputs": [],
   "source": [
    "..."
   ]
  },
  {
   "cell_type": "markdown",
   "metadata": {},
   "source": [
    "Randomly sample 300 employees from the population and calculate the sample median total compensation."
   ]
  },
  {
   "cell_type": "code",
   "execution_count": null,
   "metadata": {
    "scrolled": true
   },
   "outputs": [],
   "source": [
    "..."
   ]
  },
  {
   "cell_type": "code",
   "execution_count": null,
   "metadata": {
    "scrolled": true
   },
   "outputs": [],
   "source": [
    "..."
   ]
  },
  {
   "cell_type": "markdown",
   "metadata": {},
   "source": [
    "Visually compare the distribution of total compensation values for the population and random sample."
   ]
  },
  {
   "cell_type": "code",
   "execution_count": null,
   "metadata": {},
   "outputs": [],
   "source": [
    "..."
   ]
  },
  {
   "cell_type": "code",
   "execution_count": null,
   "metadata": {
    "scrolled": true
   },
   "outputs": [],
   "source": [
    "..."
   ]
  },
  {
   "cell_type": "markdown",
   "metadata": {
    "slideshow": {
     "slide_type": "slide"
    }
   },
   "source": [
    "### Variability of the Estimate"
   ]
  },
  {
   "cell_type": "markdown",
   "metadata": {
    "slideshow": {
     "slide_type": "-"
    }
   },
   "source": [
    "* One sample $\\implies$ One estimate\n",
    "* But the random sample could have come out differently\n",
    "* And so the estimate could have been different\n",
    "* **Big question**: How different would it be if we did it again?\n"
   ]
  },
  {
   "cell_type": "markdown",
   "metadata": {},
   "source": [
    "### Demo: Variability of the Estimate"
   ]
  },
  {
   "cell_type": "markdown",
   "metadata": {},
   "source": [
    "Create a function that samples randomly from the `sf` table and returns the sample median for `total_compensation`."
   ]
  },
  {
   "cell_type": "code",
   "execution_count": null,
   "metadata": {},
   "outputs": [],
   "source": [
    "..."
   ]
  },
  {
   "cell_type": "markdown",
   "metadata": {},
   "source": [
    "Compute the error if the sample median is used to estimate the population median for total compensation. Re-run the above function to see how the error varies."
   ]
  },
  {
   "cell_type": "code",
   "execution_count": null,
   "metadata": {},
   "outputs": [],
   "source": [
    "..."
   ]
  },
  {
   "cell_type": "markdown",
   "metadata": {
    "slideshow": {
     "slide_type": "slide"
    }
   },
   "source": [
    "### Quantifying Uncertainty"
   ]
  },
  {
   "cell_type": "markdown",
   "metadata": {
    "slideshow": {
     "slide_type": "-"
    }
   },
   "source": [
    "* The estimate is usually not exactly right: `Estimate = Parameter + Error`\n",
    "* How accurate is the estimate, usually?\n",
    "* How big is a typical error?\n",
    "* When we have a census, we can do this by simulation\n"
   ]
  },
  {
   "cell_type": "markdown",
   "metadata": {},
   "source": [
    "### Demo: Quantifying Uncertainty"
   ]
  },
  {
   "cell_type": "markdown",
   "metadata": {},
   "source": [
    "Generate 1000 random samples of size 300 and calculate the total compensation median for each sample. Store the median values in an array and visualize the sample distribution along with the population mean."
   ]
  },
  {
   "cell_type": "code",
   "execution_count": null,
   "metadata": {},
   "outputs": [],
   "source": [
    "..."
   ]
  },
  {
   "cell_type": "code",
   "execution_count": null,
   "metadata": {
    "scrolled": true
   },
   "outputs": [],
   "source": [
    "..."
   ]
  },
  {
   "cell_type": "markdown",
   "metadata": {},
   "source": [
    "Visualize the distribution of errors found from using the sample medians to estimate the population median."
   ]
  },
  {
   "cell_type": "code",
   "execution_count": null,
   "metadata": {
    "scrolled": true
   },
   "outputs": [],
   "source": [
    "..."
   ]
  },
  {
   "cell_type": "markdown",
   "metadata": {
    "slideshow": {
     "slide_type": "slide"
    }
   },
   "source": [
    "### Where to Get Another Sample?"
   ]
  },
  {
   "cell_type": "markdown",
   "metadata": {
    "slideshow": {
     "slide_type": "-"
    }
   },
   "source": [
    "* We want to understand errors of our estimate\n",
    "* Given the population, we could simulate... but we only have the sample!\n",
    "* To get many values of the estimate, we needed many random samples\n",
    "* We can't go back and sample again from the population:\n",
    "    * No time, no money\n",
    "    * Stuck?\n"
   ]
  },
  {
   "cell_type": "markdown",
   "metadata": {
    "slideshow": {
     "slide_type": "slide"
    }
   },
   "source": [
    "## The Bootstrap"
   ]
  },
  {
   "cell_type": "markdown",
   "metadata": {
    "slideshow": {
     "slide_type": "slide"
    }
   },
   "source": [
    "### The Bootstrap"
   ]
  },
  {
   "cell_type": "markdown",
   "metadata": {
    "slideshow": {
     "slide_type": "-"
    }
   },
   "source": [
    "* A technique for simulating repeated random sampling\n",
    "* All that we have is the original sample... which is large and random\n",
    "* Therefore, it probably resembles the population\n",
    "* So we sample at random from the original sample!"
   ]
  },
  {
   "cell_type": "markdown",
   "metadata": {
    "slideshow": {
     "slide_type": "slide"
    }
   },
   "source": [
    "### Why the Bootstrap Works"
   ]
  },
  {
   "cell_type": "markdown",
   "metadata": {
    "slideshow": {
     "slide_type": "-"
    }
   },
   "source": [
    "All of the resamples look pretty **similar**, most likely.\n",
    "\n",
    "<img src=\"./img/why_the_bootstrap_works.png\" width=90%>"
   ]
  },
  {
   "cell_type": "markdown",
   "metadata": {
    "slideshow": {
     "slide_type": "slide"
    }
   },
   "source": [
    "### Why We Need the Bootstrap"
   ]
  },
  {
   "cell_type": "markdown",
   "metadata": {
    "slideshow": {
     "slide_type": "-"
    }
   },
   "source": [
    "<img src=\"./img/why_we_need_the_bootstrap.png\" width=90%>"
   ]
  },
  {
   "cell_type": "markdown",
   "metadata": {
    "slideshow": {
     "slide_type": "slide"
    }
   },
   "source": [
    "### Real World vs. Bootstrap World"
   ]
  },
  {
   "cell_type": "markdown",
   "metadata": {
    "slideshow": {
     "slide_type": "-"
    }
   },
   "source": [
    "* Real world:\n",
    "    * True probability distribution (population)\n",
    "        * Random sample 1 $\\leadsto$ Estimate 1\n",
    "        * Random sample 2 $\\leadsto$ Estimate 2\n",
    "        * ...\n",
    "        * Random sample 10000 $\\leadsto$ Estimate 10000\n",
    "* Bootstrap world:\n",
    "    * Empirical distribution of original sample (\"population\")\n",
    "        * Bootstrap sample 1 $\\leadsto$ Estimate 1\n",
    "        * Bootstrap sample 2 $\\leadsto$ Estimate 2\n",
    "        * ...\n",
    "        * Bootstrap sample 10000 $\\leadsto$ Estimate 10000\n",
    "        \n",
    "The Hope: these two scenarios are analogous"
   ]
  },
  {
   "cell_type": "markdown",
   "metadata": {
    "slideshow": {
     "slide_type": "slide"
    }
   },
   "source": [
    "### The Bootstrap Principle"
   ]
  },
  {
   "cell_type": "markdown",
   "metadata": {
    "slideshow": {
     "slide_type": "-"
    }
   },
   "source": [
    "* The bootstrap principle: Bootstrap-world sampling $\\approx$ Real-world sampling \n",
    "* Not always true! ... but reasonable if sample is large enough\n",
    "* We hope that the following are similar to what they are in the real world\n",
    "    * Variability of bootstrap estimate\n",
    "    * Distribution of bootstrap errors\n",
    "\n"
   ]
  },
  {
   "cell_type": "markdown",
   "metadata": {
    "slideshow": {
     "slide_type": "slide"
    }
   },
   "source": [
    "### Key to Resampling"
   ]
  },
  {
   "cell_type": "markdown",
   "metadata": {
    "slideshow": {
     "slide_type": "-"
    }
   },
   "source": [
    "* From the original sample,\n",
    "    * draw at random\n",
    "    * with replacement\n",
    "    * as many values as the original sample contained\n",
    "* The size of the new sample has to be the same as the original one, so that the two estimates are comparable\n"
   ]
  },
  {
   "cell_type": "markdown",
   "metadata": {},
   "source": [
    "### Demo: Bootstrap"
   ]
  },
  {
   "cell_type": "markdown",
   "metadata": {},
   "source": [
    "Take a bootstrap (re)sample (**WITH replacement**) of size 300 from the last sf sample."
   ]
  },
  {
   "cell_type": "code",
   "execution_count": null,
   "metadata": {
    "scrolled": false
   },
   "outputs": [],
   "source": [
    "..."
   ]
  },
  {
   "cell_type": "markdown",
   "metadata": {},
   "source": [
    "Explore the distribution of 1000 bootstrap resamples from the one sample in relation to the sample median and population median."
   ]
  },
  {
   "cell_type": "code",
   "execution_count": null,
   "metadata": {},
   "outputs": [],
   "source": [
    "..."
   ]
  },
  {
   "cell_type": "markdown",
   "metadata": {
    "slideshow": {
     "slide_type": "slide"
    }
   },
   "source": [
    "## Confidence Intervals"
   ]
  },
  {
   "cell_type": "markdown",
   "metadata": {
    "slideshow": {
     "slide_type": "slide"
    }
   },
   "source": [
    "### 95% Confidence Interval"
   ]
  },
  {
   "cell_type": "markdown",
   "metadata": {
    "slideshow": {
     "slide_type": "-"
    }
   },
   "source": [
    "* Interval of estimates of a parameter\n",
    "* Based on random sampling\n",
    "* 95% is called the confidence level\n",
    "    * Could be any percent between 0 and 100\n",
    "    * Higher level means wider intervals\n",
    "* The confidence is in the process that gives the interval: It generates a \"good\" interval about 95% of the time."
   ]
  },
  {
   "cell_type": "markdown",
   "metadata": {},
   "source": [
    "### Demo: Confidence Intervals"
   ]
  },
  {
   "cell_type": "markdown",
   "metadata": {},
   "source": [
    "Make an interval based on the middle 95% of bootstrap samples."
   ]
  },
  {
   "cell_type": "code",
   "execution_count": null,
   "metadata": {
    "scrolled": true
   },
   "outputs": [],
   "source": [
    "..."
   ]
  },
  {
   "cell_type": "markdown",
   "metadata": {
    "slideshow": {
     "slide_type": "slide"
    }
   },
   "source": [
    "### Visualizing Confidence"
   ]
  },
  {
   "cell_type": "markdown",
   "metadata": {
    "slideshow": {
     "slide_type": "-"
    }
   },
   "source": [
    "* Each yellow line in the visual represents a confidence interval from a fresh sample from the population.\n",
    "* The red line marks the parameter being estimated by the intervals.\n",
    "* Approximately 95% of the yellow lines intersect the red line.\n",
    "\n",
    "<img src=\"./img/visualizing_confidence.png\" width=40%>"
   ]
  },
  {
   "cell_type": "markdown",
   "metadata": {},
   "source": [
    "A similar tool to help visualize the meaning of a confidence interval: [Interpreting Confidence Intervals](https://rpsychologist.com/d3/ci/)"
   ]
  },
  {
   "cell_type": "markdown",
   "metadata": {
    "slideshow": {
     "slide_type": "notes"
    }
   },
   "source": [
    "<footer>\n",
    "    <hr>\n",
    "    <p>Adopted from UC Berkeley DATA 8 course materials.</p>\n",
    "    <p>This content is offered under a <a href=\"https://creativecommons.org/licenses/by-nc-sa/4.0/\">CC Attribution Non-Commercial Share Alike</a> license.</p>\n",
    "</footer>"
   ]
  }
 ],
 "metadata": {
  "kernelspec": {
   "display_name": "Python 3 (ipykernel)",
   "language": "python",
   "name": "python3"
  },
  "language_info": {
   "codemirror_mode": {
    "name": "ipython",
    "version": 3
   },
   "file_extension": ".py",
   "mimetype": "text/x-python",
   "name": "python",
   "nbconvert_exporter": "python",
   "pygments_lexer": "ipython3",
   "version": "3.9.9"
  },
  "toc": {
   "base_numbering": 1,
   "nav_menu": {},
   "number_sections": false,
   "sideBar": true,
   "skip_h1_title": false,
   "title_cell": "Table of Contents",
   "title_sidebar": "Contents",
   "toc_cell": true,
   "toc_position": {
    "height": "calc(100% - 180px)",
    "left": "10px",
    "top": "150px",
    "width": "231.797px"
   },
   "toc_section_display": false,
   "toc_window_display": true
  }
 },
 "nbformat": 4,
 "nbformat_minor": 2
}
