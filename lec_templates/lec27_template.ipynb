{
 "cells": [
  {
   "cell_type": "markdown",
   "metadata": {
    "slideshow": {
     "slide_type": "slide"
    }
   },
   "source": [
    "<div style=\"width: 38.5%;\">\n",
    "    <p><strong>City College of San Francisco</strong><p>\n",
    "    <hr>\n",
    "    <p>MATH 108 - Foundations of Data Science</p>\n",
    "</div>"
   ]
  },
  {
   "cell_type": "markdown",
   "metadata": {
    "slideshow": {
     "slide_type": "-"
    }
   },
   "source": [
    "# Lecture 27: Sample Means"
   ]
  },
  {
   "cell_type": "markdown",
   "metadata": {
    "slideshow": {
     "slide_type": "-"
    }
   },
   "source": [
    "Associated Textbook Sections: [14.5](https://inferentialthinking.com/chapters/14/5/Variability_of_the_Sample_Mean.html)"
   ]
  },
  {
   "cell_type": "markdown",
   "metadata": {
    "slideshow": {
     "slide_type": "slide"
    }
   },
   "source": [
    "<h2>Set Up the Notebook<h2>"
   ]
  },
  {
   "cell_type": "code",
   "execution_count": 1,
   "metadata": {
    "slideshow": {
     "slide_type": "-"
    }
   },
   "outputs": [],
   "source": [
    "from datascience import *\n",
    "import numpy as np\n",
    "%matplotlib inline\n",
    "import matplotlib.pyplot as plots\n",
    "plots.style.use('fivethirtyeight')"
   ]
  },
  {
   "cell_type": "markdown",
   "metadata": {
    "slideshow": {
     "slide_type": "notes"
    },
    "toc": true
   },
   "source": [
    "<h1>Table of Contents<span class=\"tocSkip\"></span></h1>\n",
    "<div class=\"toc\"><ul class=\"toc-item\"><li><span><a href=\"#Lecture-27:-Sample-Means\" data-toc-modified-id=\"Lecture-27:-Sample-Means-1\">Lecture 27: Sample Means</a></span><ul class=\"toc-item\"><li><span><a href=\"#Set-Up-the-Notebook\" data-toc-modified-id=\"Set-Up-the-Notebook-1.1\">Set Up the Notebook</a></span></li><li><span><a href=\"#\" data-toc-modified-id=\"-1.2\"></a></span></li><li><span><a href=\"#Central-Limit-Theorem\" data-toc-modified-id=\"Central-Limit-Theorem-1.3\">Central Limit Theorem</a></span><ul class=\"toc-item\"><li><span><a href=\"#Sample-Averages\" data-toc-modified-id=\"Sample-Averages-1.3.1\">Sample Averages</a></span></li><li><span><a href=\"#Central-Limit-Theorem\" data-toc-modified-id=\"Central-Limit-Theorem-1.3.2\">Central Limit Theorem</a></span></li><li><span><a href=\"#Demo:-Central-Limit-Theorem\" data-toc-modified-id=\"Demo:-Central-Limit-Theorem-1.3.3\">Demo: Central Limit Theorem</a></span></li></ul></li><li><span><a href=\"#Distribution-of-the-Sample-Average\" data-toc-modified-id=\"Distribution-of-the-Sample-Average-1.4\">Distribution of the Sample Average</a></span><ul class=\"toc-item\"><li><span><a href=\"#Why-is-There-a-Distribution?\" data-toc-modified-id=\"Why-is-There-a-Distribution?-1.4.1\">Why is There a Distribution?</a></span></li><li><span><a href=\"#Distribution-of-the-Sample-Average\" data-toc-modified-id=\"Distribution-of-the-Sample-Average-1.4.2\">Distribution of the Sample Average</a></span></li><li><span><a href=\"#Demo:-Distribution-of-the-Sample-Average\" data-toc-modified-id=\"Demo:-Distribution-of-the-Sample-Average-1.4.3\">Demo: Distribution of the Sample Average</a></span></li><li><span><a href=\"#Specifying-the-Distribution\" data-toc-modified-id=\"Specifying-the-Distribution-1.4.4\">Specifying the Distribution</a></span></li></ul></li><li><span><a href=\"#Center-of-the-Distribution\" data-toc-modified-id=\"Center-of-the-Distribution-1.5\">Center of the Distribution</a></span><ul class=\"toc-item\"><li><span><a href=\"#The-Population-Average\" data-toc-modified-id=\"The-Population-Average-1.5.1\">The Population Average</a></span></li></ul></li><li><span><a href=\"#Variability-of-the-Sample-Average\" data-toc-modified-id=\"Variability-of-the-Sample-Average-1.6\">Variability of the Sample Average</a></span><ul class=\"toc-item\"><li><span><a href=\"#Why-Is-This-Important?\" data-toc-modified-id=\"Why-Is-This-Important?-1.6.1\">Why Is This Important?</a></span></li><li><span><a href=\"#Two-Histogram\" data-toc-modified-id=\"Two-Histogram-1.6.2\">Two Histogram</a></span></li><li><span><a href=\"#Demo:-The-Influence-of-Sample-Size\" data-toc-modified-id=\"Demo:-The-Influence-of-Sample-Size-1.6.3\">Demo: The Influence of Sample Size</a></span></li><li><span><a href=\"#Variability-of-the-Sample-Average\" data-toc-modified-id=\"Variability-of-the-Sample-Average-1.6.4\">Variability of the Sample Average</a></span></li><li><span><a href=\"#Reflection\" data-toc-modified-id=\"Reflection-1.6.5\">Reflection</a></span></li></ul></li></ul></li></ul></div>"
   ]
  },
  {
   "cell_type": "markdown",
   "metadata": {
    "slideshow": {
     "slide_type": "slide"
    }
   },
   "source": [
    "## Central Limit Theorem"
   ]
  },
  {
   "cell_type": "markdown",
   "metadata": {
    "slideshow": {
     "slide_type": "slide"
    }
   },
   "source": [
    "### Sample Averages"
   ]
  },
  {
   "cell_type": "markdown",
   "metadata": {
    "slideshow": {
     "slide_type": "-"
    }
   },
   "source": [
    "* The Central Limit Theorem describes how the normal distribution (a bell-shaped curve) is connected to random sample averages.\n",
    "* We care about sample averages because they estimate population averages."
   ]
  },
  {
   "cell_type": "markdown",
   "metadata": {
    "slideshow": {
     "slide_type": "slide"
    }
   },
   "source": [
    "### Central Limit Theorem"
   ]
  },
  {
   "cell_type": "markdown",
   "metadata": {
    "slideshow": {
     "slide_type": "-"
    }
   },
   "source": [
    "> If the sample is large, and it is drawn at random with replacement, then regardless of the distribution of the population, the probability distribution of the sample sum (or the sample average) is roughly normal.\n",
    "\n"
   ]
  },
  {
   "cell_type": "markdown",
   "metadata": {
    "collapsed": true
   },
   "source": [
    "### Demo: Central Limit Theorem"
   ]
  },
  {
   "cell_type": "markdown",
   "metadata": {},
   "source": [
    "Use the United flight data to demonstrate the Central Limit Theorem."
   ]
  },
  {
   "cell_type": "code",
   "execution_count": 2,
   "metadata": {},
   "outputs": [
    {
     "data": {
      "text/html": [
       "<table border=\"1\" class=\"dataframe\">\n",
       "    <thead>\n",
       "        <tr>\n",
       "            <th>Date</th> <th>Flight Number</th> <th>Destination</th> <th>Delay</th>\n",
       "        </tr>\n",
       "    </thead>\n",
       "    <tbody>\n",
       "        <tr>\n",
       "            <td>6/1/15</td> <td>73           </td> <td>HNL        </td> <td>257  </td>\n",
       "        </tr>\n",
       "        <tr>\n",
       "            <td>6/1/15</td> <td>217          </td> <td>EWR        </td> <td>28   </td>\n",
       "        </tr>\n",
       "        <tr>\n",
       "            <td>6/1/15</td> <td>237          </td> <td>STL        </td> <td>-3   </td>\n",
       "        </tr>\n",
       "        <tr>\n",
       "            <td>6/1/15</td> <td>250          </td> <td>SAN        </td> <td>0    </td>\n",
       "        </tr>\n",
       "        <tr>\n",
       "            <td>6/1/15</td> <td>267          </td> <td>PHL        </td> <td>64   </td>\n",
       "        </tr>\n",
       "        <tr>\n",
       "            <td>6/1/15</td> <td>273          </td> <td>SEA        </td> <td>-6   </td>\n",
       "        </tr>\n",
       "        <tr>\n",
       "            <td>6/1/15</td> <td>278          </td> <td>SEA        </td> <td>-8   </td>\n",
       "        </tr>\n",
       "        <tr>\n",
       "            <td>6/1/15</td> <td>292          </td> <td>EWR        </td> <td>12   </td>\n",
       "        </tr>\n",
       "        <tr>\n",
       "            <td>6/1/15</td> <td>300          </td> <td>HNL        </td> <td>20   </td>\n",
       "        </tr>\n",
       "        <tr>\n",
       "            <td>6/1/15</td> <td>317          </td> <td>IND        </td> <td>-10  </td>\n",
       "        </tr>\n",
       "    </tbody>\n",
       "</table>\n",
       "<p>... (13815 rows omitted)</p>"
      ],
      "text/plain": [
       "Date   | Flight Number | Destination | Delay\n",
       "6/1/15 | 73            | HNL         | 257\n",
       "6/1/15 | 217           | EWR         | 28\n",
       "6/1/15 | 237           | STL         | -3\n",
       "6/1/15 | 250           | SAN         | 0\n",
       "6/1/15 | 267           | PHL         | 64\n",
       "6/1/15 | 273           | SEA         | -6\n",
       "6/1/15 | 278           | SEA         | -8\n",
       "6/1/15 | 292           | EWR         | 12\n",
       "6/1/15 | 300           | HNL         | 20\n",
       "6/1/15 | 317           | IND         | -10\n",
       "... (13815 rows omitted)"
      ]
     },
     "execution_count": 2,
     "metadata": {},
     "output_type": "execute_result"
    }
   ],
   "source": [
    "united = Table.read_table('united_summer2015.csv')\n",
    "united_bins = np.arange(-20, 300, 10)\n",
    "united"
   ]
  },
  {
   "cell_type": "code",
   "execution_count": 3,
   "metadata": {},
   "outputs": [
    {
     "data": {
      "image/png": "[encoded data removed]",
      "text/plain": [
       "<Figure size 432x288 with 1 Axes>"
      ]
     },
     "metadata": {},
     "output_type": "display_data"
    }
   ],
   "source": [
    "united.hist('Delay', bins=united_bins)"
   ]
  },
  {
   "cell_type": "code",
   "execution_count": 4,
   "metadata": {},
   "outputs": [
    {
     "data": {
      "text/plain": [
       "(16.658155515370705, 39.480199851609314)"
      ]
     },
     "execution_count": 4,
     "metadata": {},
     "output_type": "execute_result"
    }
   ],
   "source": [
    "delays = united.column('Delay')\n",
    "delay_mean = np.mean(delays)\n",
    "delay_sd = np.std(delays)\n",
    "delay_mean, delay_sd"
   ]
  },
  {
   "cell_type": "code",
   "execution_count": 5,
   "metadata": {},
   "outputs": [
    {
     "data": {
      "text/plain": [
       "2"
      ]
     },
     "execution_count": 5,
     "metadata": {},
     "output_type": "execute_result"
    }
   ],
   "source": [
    "percentile(50, delays)"
   ]
  },
  {
   "cell_type": "code",
   "execution_count": 6,
   "metadata": {},
   "outputs": [],
   "source": [
    "def one_sample_mean(sample_size):\n",
    "    \"\"\" Takes a sample from the population of flights and computes its mean\"\"\"\n",
    "    sampled_flights = united.sample(sample_size)\n",
    "    return np.mean(sampled_flights.column('Delay'))"
   ]
  },
  {
   "cell_type": "code",
   "execution_count": 7,
   "metadata": {},
   "outputs": [
    {
     "data": {
      "text/plain": [
       "14.0"
      ]
     },
     "execution_count": 7,
     "metadata": {},
     "output_type": "execute_result"
    }
   ],
   "source": [
    "one_sample_mean(100)"
   ]
  },
  {
   "cell_type": "code",
   "execution_count": 8,
   "metadata": {},
   "outputs": [],
   "source": [
    "def ten_thousand_sample_means(sample_size):\n",
    "    means = make_array()\n",
    "    for i in np.arange(10000):\n",
    "        mean = one_sample_mean(sample_size)\n",
    "        means = np.append(means, mean)\n",
    "    return means"
   ]
  },
  {
   "cell_type": "code",
   "execution_count": 9,
   "metadata": {},
   "outputs": [],
   "source": [
    "sample_means_100 = ten_thousand_sample_means(100)"
   ]
  },
  {
   "cell_type": "code",
   "execution_count": 10,
   "metadata": {},
   "outputs": [
    {
     "data": {
      "text/plain": [
       "array([15.16, 22.97, 18.09, ..., 12.6 , 13.02, 13.73])"
      ]
     },
     "execution_count": 10,
     "metadata": {},
     "output_type": "execute_result"
    }
   ],
   "source": [
    "sample_means_100"
   ]
  },
  {
   "cell_type": "code",
   "execution_count": 11,
   "metadata": {},
   "outputs": [
    {
     "data": {
      "text/plain": [
       "10000"
      ]
     },
     "execution_count": 11,
     "metadata": {},
     "output_type": "execute_result"
    }
   ],
   "source": [
    "len(sample_means_100)"
   ]
  },
  {
   "cell_type": "code",
   "execution_count": 12,
   "metadata": {},
   "outputs": [
    {
     "name": "stdout",
     "output_type": "stream",
     "text": [
      "Population Average: 16.658155515370705\n"
     ]
    },
    {
     "data": {
      "image/png": "[encoded data removed]",
      "text/plain": [
       "<Figure size 432x288 with 1 Axes>"
      ]
     },
     "metadata": {},
     "output_type": "display_data"
    }
   ],
   "source": [
    "Table().with_column('Mean of 100 flight delays', sample_means_100).hist(bins=20)\n",
    "\n",
    "print('Population Average:', delay_mean)"
   ]
  },
  {
   "cell_type": "code",
   "execution_count": 13,
   "metadata": {},
   "outputs": [
    {
     "name": "stdout",
     "output_type": "stream",
     "text": [
      "Population Average: 16.658155515370705\n"
     ]
    },
    {
     "data": {
      "image/png": "[encoded data removed]",
      "text/plain": [
       "<Figure size 432x288 with 1 Axes>"
      ]
     },
     "metadata": {},
     "output_type": "display_data"
    }
   ],
   "source": [
    "sample_means_400 = ten_thousand_sample_means(400)\n",
    "Table().with_column('Mean of 400 flight delays', sample_means_400).hist(bins=20)\n",
    "print('Population Average:', delay_mean)"
   ]
  },
  {
   "cell_type": "code",
   "execution_count": 14,
   "metadata": {},
   "outputs": [],
   "source": [
    "sample_means_900 = ten_thousand_sample_means(900)"
   ]
  },
  {
   "cell_type": "markdown",
   "metadata": {
    "slideshow": {
     "slide_type": "slide"
    }
   },
   "source": [
    "## Distribution of the Sample Average"
   ]
  },
  {
   "cell_type": "markdown",
   "metadata": {
    "slideshow": {
     "slide_type": "slide"
    }
   },
   "source": [
    "### Why is There a Distribution?"
   ]
  },
  {
   "cell_type": "markdown",
   "metadata": {
    "slideshow": {
     "slide_type": "-"
    }
   },
   "source": [
    "* You have only one random sample, and it has only one average. \n",
    "* But the sample could have come out differently.\n",
    "* And then the sample average might have been different.\n",
    "* So there are many possible sample averages.\n"
   ]
  },
  {
   "cell_type": "markdown",
   "metadata": {
    "slideshow": {
     "slide_type": "slide"
    }
   },
   "source": [
    "### Distribution of the Sample Average "
   ]
  },
  {
   "cell_type": "markdown",
   "metadata": {
    "slideshow": {
     "slide_type": "-"
    }
   },
   "source": [
    "* Imagine all possible random samples of the same size as yours. There are lots of them.\n",
    "* Each of these samples has an average.\n",
    "* The distribution of the sample average is the distribution of the averages of all the possible samples."
   ]
  },
  {
   "cell_type": "markdown",
   "metadata": {},
   "source": [
    "### Demo: Distribution of the Sample Average"
   ]
  },
  {
   "cell_type": "markdown",
   "metadata": {},
   "source": [
    "Explore the distribution of sample averages for a few different distributions."
   ]
  },
  {
   "cell_type": "code",
   "execution_count": 15,
   "metadata": {},
   "outputs": [],
   "source": [
    "means_tbl = Table().with_columns(\n",
    "    '400', sample_means_400,\n",
    "    '900', sample_means_900,\n",
    ")"
   ]
  },
  {
   "cell_type": "code",
   "execution_count": 16,
   "metadata": {},
   "outputs": [
    {
     "data": {
      "image/png": "[encoded data removed]",
      "text/plain": [
       "<Figure size 432x288 with 1 Axes>"
      ]
     },
     "metadata": {},
     "output_type": "display_data"
    }
   ],
   "source": [
    "means_tbl.hist(bins = np.arange(5, 31, 0.5))\n",
    "plots.title('Distribution of Sample Average');"
   ]
  },
  {
   "cell_type": "markdown",
   "metadata": {
    "slideshow": {
     "slide_type": "slide"
    }
   },
   "source": [
    "### Specifying the Distribution"
   ]
  },
  {
   "cell_type": "markdown",
   "metadata": {
    "slideshow": {
     "slide_type": "-"
    }
   },
   "source": [
    "* Suppose the random sample is large.\n",
    "    * We have seen that the distribution of the sample average is roughly bell shaped.\n",
    "* Important questions remain:\n",
    "    * Where is the center of that bell curve?\n",
    "    * How wide is that bell curve?"
   ]
  },
  {
   "cell_type": "markdown",
   "metadata": {
    "slideshow": {
     "slide_type": "slide"
    }
   },
   "source": [
    "## Center of the Distribution"
   ]
  },
  {
   "cell_type": "markdown",
   "metadata": {
    "slideshow": {
     "slide_type": "slide"
    }
   },
   "source": [
    "###  The Population Average"
   ]
  },
  {
   "cell_type": "markdown",
   "metadata": {
    "slideshow": {
     "slide_type": "-"
    }
   },
   "source": [
    "The distribution of the sample average is roughly a bell curve centered at the population average."
   ]
  },
  {
   "cell_type": "markdown",
   "metadata": {
    "slideshow": {
     "slide_type": "slide"
    }
   },
   "source": [
    "## Variability of the Sample Average"
   ]
  },
  {
   "cell_type": "markdown",
   "metadata": {
    "slideshow": {
     "slide_type": "slide"
    }
   },
   "source": [
    "### Why Is This Important?"
   ]
  },
  {
   "cell_type": "markdown",
   "metadata": {
    "slideshow": {
     "slide_type": "-"
    }
   },
   "source": [
    "* Along with the center, the spread helps identify exactly which normal curve is the distribution of the sample average.\n",
    "* The variability of the sample average helps us measure how accurate the sample average is as an estimate of the population average.\n",
    "* If we want a specified level of accuracy, understanding the variability of the sample average helps us work out how large our sample has to be."
   ]
  },
  {
   "cell_type": "markdown",
   "metadata": {
    "slideshow": {
     "slide_type": "slide"
    }
   },
   "source": [
    "### Two Histogram"
   ]
  },
  {
   "cell_type": "markdown",
   "metadata": {
    "slideshow": {
     "slide_type": "-"
    }
   },
   "source": [
    "<img src=\"img/lec27_dist_sample_ave.png\" width = 50%>\n",
    "\n",
    "* The gold histogram shows the distribution of 10,000 values, each of which is an average of 900 randomly sampled flight delays.\n",
    "* The blue histogram shows the distribution of 10,000 values, each of which is an average of 400 randomly sampled flight delays.\n",
    "* Both are roughly bell shaped.\n",
    "* The larger the sample size, the narrower the bell."
   ]
  },
  {
   "cell_type": "markdown",
   "metadata": {
    "slideshow": {
     "slide_type": "slide"
    }
   },
   "source": [
    "### Demo: The Influence of Sample Size"
   ]
  },
  {
   "cell_type": "markdown",
   "metadata": {},
   "source": [
    "Notice how the sample size impacts the distribution of sample averages."
   ]
  },
  {
   "cell_type": "code",
   "execution_count": 17,
   "metadata": {},
   "outputs": [],
   "source": [
    "united = Table.read_table('united_summer2015.csv')"
   ]
  },
  {
   "cell_type": "code",
   "execution_count": 18,
   "metadata": {},
   "outputs": [
    {
     "data": {
      "text/plain": [
       "13825"
      ]
     },
     "execution_count": 18,
     "metadata": {},
     "output_type": "execute_result"
    }
   ],
   "source": [
    "united.num_rows"
   ]
  },
  {
   "cell_type": "code",
   "execution_count": 19,
   "metadata": {},
   "outputs": [
    {
     "data": {
      "text/plain": [
       "1845253300060122534684058597421182951017338738756884128476156537109395559702295050837795610986469015706417701209704203890696502616877632733167737247128710898267622177602279004150237321497531712957437744194467949953310673085563343687922543234838511385550568262088418334016217887061735745358842456577208939555740404373614633941136938352510678553686140728842897559436843191863609514780562396147921834537075860636817493656816017587537752125750151805566479543166742758254440594398100342650860455445795087942680221047750947255562969782801791748639952850756659518870235020316513575934561122027710440608023538776721761349403194150575014182981349346980577699633375066811153948871815566280319121565243984196831524157664160526536071758298269096548661601001356951548310460921171197940711389849058290284443729287317331793254191518876765178731748453564076631795997590039640387156475975294002056115371653663653810384491550154761367793765502453546587829476276348569091617961438914859251316410793595152416543512156519176222525375686012456475153300949448237257016682314992901731108854714280100481240308330277787527057569352848422077629847824096271549220911775951976626139238541198474345951971545910182363395101363835800498012434345133091636761182032795746446844142448244919867423330981077698924182274597759026544920974656341161972764585310457415429622273840896606709916142504003925039710004668567134806122448204818515414944603415501242828559573349452338412633791865156682427204248905349875523364526656394479383566492244844079971495826454577423053062574743146215624961827622221237394742408158154755584214993725965536145817076603276572256684406880822280072607100009918212890625"
      ]
     },
     "execution_count": 19,
     "metadata": {},
     "output_type": "execute_result"
    }
   ],
   "source": [
    "# How many possible sample means are there?\n",
    "united.num_rows ** 400"
   ]
  },
  {
   "cell_type": "code",
   "execution_count": 20,
   "metadata": {},
   "outputs": [],
   "source": [
    "delay_mean = np.mean(united.column('Delay'))\n",
    "delay_sd = np.std(united.column('Delay'))"
   ]
  },
  {
   "cell_type": "code",
   "execution_count": 21,
   "metadata": {},
   "outputs": [],
   "source": [
    "\"\"\"Empirical distribution of random sample means\"\"\"\n",
    "\n",
    "def plot_and_summarize_sample_means(sample_size):\n",
    "    sample_means = ten_thousand_sample_means(sample_size)\n",
    "    sample_means_tbl = Table().with_column('Sample Means', sample_means)\n",
    "    \n",
    "    # Print some information about the distribution of the sample means\n",
    "    print(\"Sample size: \", sample_size)\n",
    "    print(\"Population mean:\", delay_mean)\n",
    "    print(\"Average of sample means: \", np.mean(sample_means))\n",
    "    print(\"Population SD:\", delay_sd)\n",
    "    print(\"SD of sample means:\", np.std(sample_means))\n",
    "\n",
    "    # Plot a histogram of the sample means\n",
    "    sample_means_tbl.hist(bins=20)\n",
    "    plots.xlabel('Sample Means')\n",
    "    plots.title('Sample Size ' + str(sample_size))"
   ]
  },
  {
   "cell_type": "code",
   "execution_count": 22,
   "metadata": {
    "scrolled": false
   },
   "outputs": [
    {
     "name": "stdout",
     "output_type": "stream",
     "text": [
      "Sample size:  100\n",
      "Population mean: 16.658155515370705\n",
      "Average of sample means:  16.635382999999997\n",
      "Population SD: 39.480199851609314\n",
      "SD of sample means: 3.952114959526228\n"
     ]
    },
    {
     "data": {
      "image/png": "[encoded data removed]",
      "text/plain": [
       "<Figure size 432x288 with 1 Axes>"
      ]
     },
     "metadata": {},
     "output_type": "display_data"
    }
   ],
   "source": [
    "plot_and_summarize_sample_means(100)"
   ]
  },
  {
   "cell_type": "code",
   "execution_count": 23,
   "metadata": {},
   "outputs": [
    {
     "data": {
      "text/plain": [
       "10.040691759918616"
      ]
     },
     "execution_count": 23,
     "metadata": {},
     "output_type": "execute_result"
    }
   ],
   "source": [
    "39.48 / 3.932"
   ]
  },
  {
   "cell_type": "code",
   "execution_count": 24,
   "metadata": {},
   "outputs": [
    {
     "name": "stdout",
     "output_type": "stream",
     "text": [
      "Sample size:  400\n",
      "Population mean: 16.658155515370705\n",
      "Average of sample means:  16.649052500000003\n",
      "Population SD: 39.480199851609314\n",
      "SD of sample means: 1.9630690317698332\n"
     ]
    },
    {
     "data": {
      "image/png": "[encoded data removed]",
      "text/plain": [
       "<Figure size 432x288 with 1 Axes>"
      ]
     },
     "metadata": {},
     "output_type": "display_data"
    }
   ],
   "source": [
    "plot_and_summarize_sample_means(400)"
   ]
  },
  {
   "cell_type": "code",
   "execution_count": 25,
   "metadata": {},
   "outputs": [
    {
     "data": {
      "text/plain": [
       "20.010136847440442"
      ]
     },
     "execution_count": 25,
     "metadata": {},
     "output_type": "execute_result"
    }
   ],
   "source": [
    "39.48 / 1.973"
   ]
  },
  {
   "cell_type": "code",
   "execution_count": 26,
   "metadata": {},
   "outputs": [
    {
     "name": "stdout",
     "output_type": "stream",
     "text": [
      "Sample size:  625\n",
      "Population mean: 16.658155515370705\n",
      "Average of sample means:  16.64966384\n",
      "Population SD: 39.480199851609314\n",
      "SD of sample means: 1.5742904122087686\n"
     ]
    },
    {
     "data": {
      "image/png": "[encoded data removed]",
      "text/plain": [
       "<Figure size 432x288 with 1 Axes>"
      ]
     },
     "metadata": {},
     "output_type": "display_data"
    }
   ],
   "source": [
    "plot_and_summarize_sample_means(625)"
   ]
  },
  {
   "cell_type": "code",
   "execution_count": 27,
   "metadata": {},
   "outputs": [
    {
     "data": {
      "text/plain": [
       "25.034876347495242"
      ]
     },
     "execution_count": 27,
     "metadata": {},
     "output_type": "execute_result"
    }
   ],
   "source": [
    "39.48 / 1.577"
   ]
  },
  {
   "cell_type": "markdown",
   "metadata": {
    "slideshow": {
     "slide_type": "slide"
    }
   },
   "source": [
    "### Variability of the Sample Average"
   ]
  },
  {
   "cell_type": "markdown",
   "metadata": {
    "slideshow": {
     "slide_type": "-"
    }
   },
   "source": [
    "* The distribution of all possible sample averages of a given size is called the distribution of the sample average.\n",
    "* We approximate it by an empirical distribution.\n",
    "* By the CLT, it's roughly normal:\n",
    "    * Center =  the population average\n",
    "    * SD = (population SD) / the square root of the sample size\n"
   ]
  },
  {
   "cell_type": "markdown",
   "metadata": {
    "slideshow": {
     "slide_type": "slide"
    }
   },
   "source": [
    "### Reflection"
   ]
  },
  {
   "cell_type": "markdown",
   "metadata": {
    "slideshow": {
     "slide_type": "-"
    }
   },
   "source": [
    "A city has 500,000 households. The annual incomes of these households have an average of \\\\$65,000 and an SD of \\\\$45,000. The distribution of the incomes (pick one and explain):\n",
    "1. is roughly normal because the number of households is large.\n",
    "2. is not close to normal.\n",
    "2. may be close to normal, or not; we can't tell from the information given."
   ]
  },
  {
   "cell_type": "markdown",
   "metadata": {
    "slideshow": {
     "slide_type": "notes"
    }
   },
   "source": [
    "<footer>\n",
    "    <hr>\n",
    "    <p>Adopted from UC Berkeley DATA 8 course materials.</p>\n",
    "    <p>This content is offered under a <a href=\"https://creativecommons.org/licenses/by-nc-sa/4.0/\">CC Attribution Non-Commercial Share Alike</a> license.</p>\n",
    "</footer>"
   ]
  }
 ],
 "metadata": {
  "kernelspec": {
   "display_name": "Python 3 (ipykernel)",
   "language": "python",
   "name": "python3"
  },
  "language_info": {
   "codemirror_mode": {
    "name": "ipython",
    "version": 3
   },
   "file_extension": ".py",
   "mimetype": "text/x-python",
   "name": "python",
   "nbconvert_exporter": "python",
   "pygments_lexer": "ipython3",
   "version": "3.9.9"
  },
  "toc": {
   "base_numbering": 1,
   "nav_menu": {},
   "number_sections": false,
   "sideBar": true,
   "skip_h1_title": false,
   "title_cell": "Table of Contents",
   "title_sidebar": "Contents",
   "toc_cell": true,
   "toc_position": {
    "height": "calc(100% - 180px)",
    "left": "10px",
    "top": "150px",
    "width": "231.797px"
   },
   "toc_section_display": false,
   "toc_window_display": false
  }
 },
 "nbformat": 4,
 "nbformat_minor": 2
}
