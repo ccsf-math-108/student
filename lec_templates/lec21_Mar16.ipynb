{
 "cells": [
  {
   "cell_type": "markdown",
   "metadata": {
    "slideshow": {
     "slide_type": "slide"
    }
   },
   "source": [
    "<div style=\"width: 38.5%;\">\n",
    "    <p><strong>City College of San Francisco</strong><p>\n",
    "    <hr>\n",
    "    <p>MATH 108 - Foundations of Data Science</p>\n",
    "</div>"
   ]
  },
  {
   "cell_type": "markdown",
   "metadata": {
    "slideshow": {
     "slide_type": "-"
    }
   },
   "source": [
    "# Lecture 21: Examples"
   ]
  },
  {
   "cell_type": "markdown",
   "metadata": {
    "slideshow": {
     "slide_type": "-"
    }
   },
   "source": [
    "Associated Textbook Sections: [12.3](https://inferentialthinking.com/chapters/12/3/Deflategate.html)"
   ]
  },
  {
   "cell_type": "markdown",
   "metadata": {
    "slideshow": {
     "slide_type": "slide"
    }
   },
   "source": [
    "<h2>Set Up the Notebook<h2>"
   ]
  },
  {
   "cell_type": "code",
   "execution_count": 1,
   "metadata": {
    "slideshow": {
     "slide_type": "-"
    }
   },
   "outputs": [],
   "source": [
    "from datascience import *\n",
    "import numpy as np\n",
    "%matplotlib inline\n",
    "import matplotlib.pyplot as plots\n",
    "plots.style.use('fivethirtyeight')"
   ]
  },
  {
   "cell_type": "markdown",
   "metadata": {
    "slideshow": {
     "slide_type": "notes"
    },
    "toc": true
   },
   "source": [
    "<h1>Table of Contents<span class=\"tocSkip\"></span></h1>\n",
    "<div class=\"toc\"><ul class=\"toc-item\"><li><span><a href=\"#Lecture-21:-Examples\" data-toc-modified-id=\"Lecture-21:-Examples-1\">Lecture 21: Examples</a></span><ul class=\"toc-item\"><li><span><a href=\"#Set-Up-the-Notebook\" data-toc-modified-id=\"Set-Up-the-Notebook-1.1\">Set Up the Notebook</a></span></li><li><span><a href=\"#\" data-toc-modified-id=\"-1.2\"></a></span></li><li><span><a href=\"#Examples\" data-toc-modified-id=\"Examples-1.3\">Examples</a></span><ul class=\"toc-item\"><li><span><a href=\"#Example:-Benford's-Law\" data-toc-modified-id=\"Example:-Benford's-Law-1.3.1\">Example: Benford's Law</a></span></li><li><span><a href=\"#Example:-Sleep-Survey\" data-toc-modified-id=\"Example:-Sleep-Survey-1.3.2\">Example: Sleep Survey</a></span></li></ul></li></ul></li></ul></div>"
   ]
  },
  {
   "cell_type": "markdown",
   "metadata": {
    "slideshow": {
     "slide_type": "slide"
    }
   },
   "source": [
    "## Examples"
   ]
  },
  {
   "cell_type": "markdown",
   "metadata": {},
   "source": [
    "### Example: Benford's Law"
   ]
  },
  {
   "cell_type": "markdown",
   "metadata": {},
   "source": [
    "> Benford's law, also known as the Newcomb-Benford law, the law of anomalous numbers, or the first-digit law, is an observation that in many real-life sets of numerical data, the leading digit is likely to be small. [Source: Wikipedia Benford's law](https://en.wikipedia.org/wiki/Benford%27s_law) In addition, here is [a good, clear explanation of Benford's law and its application to Data Science.](https://towardsdatascience.com/what-is-benfords-law-and-why-is-it-important-for-data-science-312cb8b61048)"
   ]
  },
  {
   "cell_type": "markdown",
   "metadata": {},
   "source": [
    "Observe the distribution of the first digits of numbers according to Benford's model."
   ]
  },
  {
   "cell_type": "code",
   "execution_count": 23,
   "metadata": {},
   "outputs": [
    {
     "data": {
      "text/plain": [
       "array([0.30103   , 0.17609126, 0.12493874, 0.09691001, 0.07918125,\n",
       "       0.06694679, 0.05799195, 0.05115252, 0.04575749])"
      ]
     },
     "execution_count": 23,
     "metadata": {},
     "output_type": "execute_result"
    }
   ],
   "source": [
    "digits = np.arange(1, 10)\n",
    "benford_model = np.log10(1 + 1/digits)\n",
    "benford_model"
   ]
  },
  {
   "cell_type": "code",
   "execution_count": 3,
   "metadata": {
    "scrolled": true
   },
   "outputs": [
    {
     "data": {
      "image/png": "[encoded data removed]",
      "text/plain": [
       "<Figure size 432x324 with 1 Axes>"
      ]
     },
     "metadata": {},
     "output_type": "display_data"
    }
   ],
   "source": [
    "benford = Table().with_columns(\n",
    "    'First digit', digits,\n",
    "    'Benford model prob', benford_model)\n",
    "benford.barh('First digit')"
   ]
  },
  {
   "cell_type": "markdown",
   "metadata": {},
   "source": [
    "Explore the `first_digit` function."
   ]
  },
  {
   "cell_type": "code",
   "execution_count": 4,
   "metadata": {},
   "outputs": [],
   "source": [
    "# You are not asked to use or understand the [] notation in this course.\n",
    "def first_digit(num):\n",
    "    return int(str(num)[0])"
   ]
  },
  {
   "cell_type": "code",
   "execution_count": 6,
   "metadata": {},
   "outputs": [
    {
     "data": {
      "text/plain": [
       "1"
      ]
     },
     "execution_count": 6,
     "metadata": {},
     "output_type": "execute_result"
    }
   ],
   "source": [
    "first_digit(1234)"
   ]
  },
  {
   "cell_type": "markdown",
   "metadata": {},
   "source": [
    "Load the `counties.csv` data."
   ]
  },
  {
   "cell_type": "code",
   "execution_count": 7,
   "metadata": {},
   "outputs": [
    {
     "data": {
      "text/html": [
       "<table border=\"1\" class=\"dataframe\">\n",
       "    <thead>\n",
       "        <tr>\n",
       "            <th>State</th> <th>County</th> <th>Population</th>\n",
       "        </tr>\n",
       "    </thead>\n",
       "    <tbody>\n",
       "        <tr>\n",
       "            <td>Alabama</td> <td>Autauga County</td> <td>54684     </td>\n",
       "        </tr>\n",
       "        <tr>\n",
       "            <td>Alabama</td> <td>Baldwin County</td> <td>183216    </td>\n",
       "        </tr>\n",
       "        <tr>\n",
       "            <td>Alabama</td> <td>Barbour County</td> <td>27336     </td>\n",
       "        </tr>\n",
       "    </tbody>\n",
       "</table>\n",
       "<p>... (3139 rows omitted)</p>"
      ],
      "text/plain": [
       "<IPython.core.display.HTML object>"
      ]
     },
     "metadata": {},
     "output_type": "display_data"
    }
   ],
   "source": [
    "# County populations from the census data\n",
    "counties = Table.read_table('counties.csv')\n",
    "counties = counties.where('SUMLEV', 50).select(5,6,9)\\\n",
    "                                       .relabeled(0,'State')\\\n",
    "                                       .relabeled(1,'County')\\\n",
    "                                       .relabeled(2,'Population')\n",
    "counties.show(3)"
   ]
  },
  {
   "cell_type": "markdown",
   "metadata": {},
   "source": [
    "Apply `first_digit` to add a column to the `counties` table that shows the first digit of the population sizes."
   ]
  },
  {
   "cell_type": "code",
   "execution_count": 12,
   "metadata": {},
   "outputs": [
    {
     "data": {
      "text/html": [
       "<table border=\"1\" class=\"dataframe\">\n",
       "    <thead>\n",
       "        <tr>\n",
       "            <th>State</th> <th>County</th> <th>Population</th> <th>First digit</th>\n",
       "        </tr>\n",
       "    </thead>\n",
       "    <tbody>\n",
       "        <tr>\n",
       "            <td>Alabama</td> <td>Autauga County </td> <td>54684     </td> <td>5          </td>\n",
       "        </tr>\n",
       "        <tr>\n",
       "            <td>Alabama</td> <td>Baldwin County </td> <td>183216    </td> <td>1          </td>\n",
       "        </tr>\n",
       "        <tr>\n",
       "            <td>Alabama</td> <td>Barbour County </td> <td>27336     </td> <td>2          </td>\n",
       "        </tr>\n",
       "        <tr>\n",
       "            <td>Alabama</td> <td>Bibb County    </td> <td>22879     </td> <td>2          </td>\n",
       "        </tr>\n",
       "        <tr>\n",
       "            <td>Alabama</td> <td>Blount County  </td> <td>57344     </td> <td>5          </td>\n",
       "        </tr>\n",
       "        <tr>\n",
       "            <td>Alabama</td> <td>Bullock County </td> <td>10886     </td> <td>1          </td>\n",
       "        </tr>\n",
       "        <tr>\n",
       "            <td>Alabama</td> <td>Butler County  </td> <td>20945     </td> <td>2          </td>\n",
       "        </tr>\n",
       "        <tr>\n",
       "            <td>Alabama</td> <td>Calhoun County </td> <td>118443    </td> <td>1          </td>\n",
       "        </tr>\n",
       "        <tr>\n",
       "            <td>Alabama</td> <td>Chambers County</td> <td>34111     </td> <td>3          </td>\n",
       "        </tr>\n",
       "        <tr>\n",
       "            <td>Alabama</td> <td>Cherokee County</td> <td>25968     </td> <td>2          </td>\n",
       "        </tr>\n",
       "    </tbody>\n",
       "</table>\n",
       "<p>... (3132 rows omitted)</p>"
      ],
      "text/plain": [
       "State   | County          | Population | First digit\n",
       "Alabama | Autauga County  | 54684      | 5\n",
       "Alabama | Baldwin County  | 183216     | 1\n",
       "Alabama | Barbour County  | 27336      | 2\n",
       "Alabama | Bibb County     | 22879      | 2\n",
       "Alabama | Blount County   | 57344      | 5\n",
       "Alabama | Bullock County  | 10886      | 1\n",
       "Alabama | Butler County   | 20945      | 2\n",
       "Alabama | Calhoun County  | 118443     | 1\n",
       "Alabama | Chambers County | 34111      | 3\n",
       "Alabama | Cherokee County | 25968      | 2\n",
       "... (3132 rows omitted)"
      ]
     },
     "execution_count": 12,
     "metadata": {},
     "output_type": "execute_result"
    }
   ],
   "source": [
    "firstDigitArray = counties.apply(first_digit, \"Population\")\n",
    "counties = counties.with_column(\"First digit\", firstDigitArray)\n",
    "counties"
   ]
  },
  {
   "cell_type": "markdown",
   "metadata": {},
   "source": [
    "Visually compare the distribution of first digits from the counties data and Benford's proportions."
   ]
  },
  {
   "cell_type": "code",
   "execution_count": 15,
   "metadata": {},
   "outputs": [
    {
     "data": {
      "image/png": "[encoded data removed]",
      "text/plain": [
       "<Figure size 432x324 with 1 Axes>"
      ]
     },
     "metadata": {},
     "output_type": "display_data"
    }
   ],
   "source": [
    "num_counties = counties.num_rows\n",
    "by_digit = counties.group('First digit')\n",
    "proportions = by_digit.column('count')/num_counties\n",
    "by_digit = by_digit.with_columns(\n",
    "    'Proportion', proportions,\n",
    "    'Benford proportion', benford_model\n",
    ")\n",
    "by_digit.drop('count').barh('First digit')"
   ]
  },
  {
   "cell_type": "markdown",
   "metadata": {},
   "source": [
    "Test whether or not the distribution of proportions in `counties` is consistent with Benford's model."
   ]
  },
  {
   "cell_type": "markdown",
   "metadata": {},
   "source": [
    "Null hypothesis: The observed proportions of first digits follow Benford's model: its variations from that model reflect random variation."
   ]
  },
  {
   "cell_type": "markdown",
   "metadata": {},
   "source": [
    "Alternative hypothesis: Our observed data is too different from Benford's model - it's not just a random variation from it."
   ]
  },
  {
   "cell_type": "markdown",
   "metadata": {},
   "source": [
    "Test statistic: TVD: Total Variation Distance: difference between each digit's observed proportion compared with Benford's model, summed"
   ]
  },
  {
   "cell_type": "markdown",
   "metadata": {},
   "source": [
    "Fill in the blank with \"Bigger\" or \"Smaller\":\n",
    "\n",
    "Bigger values of the test statistic favor the alternative"
   ]
  },
  {
   "cell_type": "code",
   "execution_count": 16,
   "metadata": {},
   "outputs": [
    {
     "data": {
      "text/plain": [
       "0.01922756971800583"
      ]
     },
     "execution_count": 16,
     "metadata": {},
     "output_type": "execute_result"
    }
   ],
   "source": [
    "observed_tvd = sum(abs(proportions - benford_model))/2\n",
    "observed_tvd"
   ]
  },
  {
   "cell_type": "code",
   "execution_count": 21,
   "metadata": {},
   "outputs": [
    {
     "data": {
      "text/plain": [
       "array([0.30108211, 0.17982177, 0.12730745, 0.09388924, 0.07511139,\n",
       "       0.06779122, 0.05060471, 0.05569701, 0.0486951 ])"
      ]
     },
     "execution_count": 21,
     "metadata": {},
     "output_type": "execute_result"
    }
   ],
   "source": [
    "sample_proportions(num_counties, benford_model)"
   ]
  },
  {
   "cell_type": "code",
   "execution_count": 27,
   "metadata": {},
   "outputs": [
    {
     "data": {
      "text/plain": [
       "0.02447622053637414"
      ]
     },
     "execution_count": 27,
     "metadata": {},
     "output_type": "execute_result"
    }
   ],
   "source": [
    "simulated_frequencies = sample_proportions(num_counties, benford_model)\n",
    "tvd = sum(abs(simulated_frequencies - benford_model))/2\n",
    "tvd"
   ]
  },
  {
   "cell_type": "code",
   "execution_count": 28,
   "metadata": {},
   "outputs": [],
   "source": [
    "def simulate_county_first_digits():\n",
    "    simulated_frequencies = sample_proportions(num_counties, benford_model)\n",
    "    tvd = sum(abs(simulated_frequencies - benford_model))/2\n",
    "    return tvd"
   ]
  },
  {
   "cell_type": "code",
   "execution_count": 29,
   "metadata": {},
   "outputs": [],
   "source": [
    "simulated_tvds = make_array()\n",
    "\n",
    "for i in np.arange(10000):\n",
    "    simulated_tvds = np.append(simulated_tvds, simulate_county_first_digits())"
   ]
  },
  {
   "cell_type": "code",
   "execution_count": 30,
   "metadata": {},
   "outputs": [
    {
     "data": {
      "image/png": "[encoded data removed]",
      "text/plain": [
       "<Figure size 432x288 with 1 Axes>"
      ]
     },
     "metadata": {},
     "output_type": "display_data"
    }
   ],
   "source": [
    "Table().with_column('Simulated TVD', simulated_tvds).hist(0)"
   ]
  },
  {
   "cell_type": "code",
   "execution_count": 31,
   "metadata": {},
   "outputs": [
    {
     "data": {
      "text/plain": [
       "0.4576"
      ]
     },
     "execution_count": 31,
     "metadata": {},
     "output_type": "execute_result"
    }
   ],
   "source": [
    "np.count_nonzero(simulated_tvds >= observed_tvd) / 10000"
   ]
  },
  {
   "cell_type": "markdown",
   "metadata": {},
   "source": [
    "Are the data consistent with the null hypothesis?"
   ]
  },
  {
   "cell_type": "markdown",
   "metadata": {},
   "source": [
    "Yes, the above p-value of 0.4576 is well above our 5% cut-off. So we have confirmed the null hypotheis"
   ]
  },
  {
   "cell_type": "markdown",
   "metadata": {},
   "source": [
    "### Example: Sleep Survey"
   ]
  },
  {
   "cell_type": "markdown",
   "metadata": {},
   "source": [
    "Load the data from `welcome_survey_v4.csv` that contains information on the hours of sleep and sleep position for 1322 UC Berkeley students."
   ]
  },
  {
   "cell_type": "code",
   "execution_count": 38,
   "metadata": {
    "scrolled": true
   },
   "outputs": [
    {
     "data": {
      "text/html": [
       "<table border=\"1\" class=\"dataframe\">\n",
       "    <thead>\n",
       "        <tr>\n",
       "            <th>Year</th> <th>Extraversion</th> <th>Number of textees</th> <th>Hours of sleep</th> <th>Handedness</th> <th>Sleep position</th>\n",
       "        </tr>\n",
       "    </thead>\n",
       "    <tbody>\n",
       "        <tr>\n",
       "            <td>Second         </td> <td>6           </td> <td>10               </td> <td>7             </td> <td>Right-handed</td> <td>On your back      </td>\n",
       "        </tr>\n",
       "        <tr>\n",
       "            <td>Fourth or above</td> <td>9           </td> <td>25               </td> <td>7             </td> <td>Right-handed</td> <td>On your left side </td>\n",
       "        </tr>\n",
       "        <tr>\n",
       "            <td>First          </td> <td>7           </td> <td>5                </td> <td>8             </td> <td>Right-handed</td> <td>On your stomach   </td>\n",
       "        </tr>\n",
       "        <tr>\n",
       "            <td>Second         </td> <td>5           </td> <td>6                </td> <td>8             </td> <td>Right-handed</td> <td>On your right side</td>\n",
       "        </tr>\n",
       "        <tr>\n",
       "            <td>Second         </td> <td>5           </td> <td>10               </td> <td>7             </td> <td>Right-handed</td> <td>On your right side</td>\n",
       "        </tr>\n",
       "        <tr>\n",
       "            <td>Third          </td> <td>8           </td> <td>3                </td> <td>8             </td> <td>Right-handed</td> <td>On your stomach   </td>\n",
       "        </tr>\n",
       "        <tr>\n",
       "            <td>Third          </td> <td>8           </td> <td>2                </td> <td>5             </td> <td>Right-handed</td> <td>On your left side </td>\n",
       "        </tr>\n",
       "        <tr>\n",
       "            <td>Second         </td> <td>7           </td> <td>5                </td> <td>6             </td> <td>Right-handed</td> <td>On your right side</td>\n",
       "        </tr>\n",
       "        <tr>\n",
       "            <td>First          </td> <td>8           </td> <td>6                </td> <td>7             </td> <td>Right-handed</td> <td>On your right side</td>\n",
       "        </tr>\n",
       "        <tr>\n",
       "            <td>First          </td> <td>4           </td> <td>5                </td> <td>7             </td> <td>Left-handed </td> <td>On your right side</td>\n",
       "        </tr>\n",
       "    </tbody>\n",
       "</table>\n",
       "<p>... (1312 rows omitted)</p>"
      ],
      "text/plain": [
       "Year            | Extraversion | Number of textees | Hours of sleep | Handedness   | Sleep position\n",
       "Second          | 6            | 10                | 7              | Right-handed | On your back\n",
       "Fourth or above | 9            | 25                | 7              | Right-handed | On your left side\n",
       "First           | 7            | 5                 | 8              | Right-handed | On your stomach\n",
       "Second          | 5            | 6                 | 8              | Right-handed | On your right side\n",
       "Second          | 5            | 10                | 7              | Right-handed | On your right side\n",
       "Third           | 8            | 3                 | 8              | Right-handed | On your stomach\n",
       "Third           | 8            | 2                 | 5              | Right-handed | On your left side\n",
       "Second          | 7            | 5                 | 6              | Right-handed | On your right side\n",
       "First           | 8            | 6                 | 7              | Right-handed | On your right side\n",
       "First           | 4            | 5                 | 7              | Left-handed  | On your right side\n",
       "... (1312 rows omitted)"
      ]
     },
     "execution_count": 38,
     "metadata": {},
     "output_type": "execute_result"
    }
   ],
   "source": [
    "survey = Table.read_table('welcome_survey_v4.csv')\n",
    "survey"
   ]
  },
  {
   "cell_type": "markdown",
   "metadata": {},
   "source": [
    "Simplify the categories for `Sleep position` by combining left-side and right-side sleeper as `side` and back and stomach sleepers as `back or stomach`. Create a smaller table with just the simplified sleep positions and the hours of sleep."
   ]
  },
  {
   "cell_type": "code",
   "execution_count": 39,
   "metadata": {
    "scrolled": true
   },
   "outputs": [
    {
     "data": {
      "text/html": [
       "<table border=\"1\" class=\"dataframe\">\n",
       "    <thead>\n",
       "        <tr>\n",
       "            <th>Hours of sleep</th> <th>position</th>\n",
       "        </tr>\n",
       "    </thead>\n",
       "    <tbody>\n",
       "        <tr>\n",
       "            <td>7             </td> <td>back or stomach</td>\n",
       "        </tr>\n",
       "        <tr>\n",
       "            <td>7             </td> <td>side           </td>\n",
       "        </tr>\n",
       "        <tr>\n",
       "            <td>8             </td> <td>back or stomach</td>\n",
       "        </tr>\n",
       "        <tr>\n",
       "            <td>8             </td> <td>side           </td>\n",
       "        </tr>\n",
       "        <tr>\n",
       "            <td>7             </td> <td>side           </td>\n",
       "        </tr>\n",
       "        <tr>\n",
       "            <td>8             </td> <td>back or stomach</td>\n",
       "        </tr>\n",
       "        <tr>\n",
       "            <td>5             </td> <td>side           </td>\n",
       "        </tr>\n",
       "        <tr>\n",
       "            <td>6             </td> <td>side           </td>\n",
       "        </tr>\n",
       "        <tr>\n",
       "            <td>7             </td> <td>side           </td>\n",
       "        </tr>\n",
       "        <tr>\n",
       "            <td>7             </td> <td>side           </td>\n",
       "        </tr>\n",
       "    </tbody>\n",
       "</table>\n",
       "<p>... (1312 rows omitted)</p>"
      ],
      "text/plain": [
       "Hours of sleep | position\n",
       "7              | back or stomach\n",
       "7              | side\n",
       "8              | back or stomach\n",
       "8              | side\n",
       "7              | side\n",
       "8              | back or stomach\n",
       "5              | side\n",
       "6              | side\n",
       "7              | side\n",
       "7              | side\n",
       "... (1312 rows omitted)"
      ]
     },
     "execution_count": 39,
     "metadata": {},
     "output_type": "execute_result"
    }
   ],
   "source": [
    "def simplify(sleep_position):\n",
    "    if sleep_position == 'On your left side' or sleep_position == 'On your right side':\n",
    "        return 'side'\n",
    "    else:\n",
    "        return 'back or stomach'\n",
    "    \n",
    "survey = survey.select(\"Hours of sleep\").with_column(\"position\", survey.apply(simplify, \"Sleep position\"))\n",
    "survey"
   ]
  },
  {
   "cell_type": "markdown",
   "metadata": {},
   "source": [
    "Determine the average hours of sleep for the two different sleep positions."
   ]
  },
  {
   "cell_type": "code",
   "execution_count": 40,
   "metadata": {},
   "outputs": [
    {
     "data": {
      "text/html": [
       "<table border=\"1\" class=\"dataframe\">\n",
       "    <thead>\n",
       "        <tr>\n",
       "            <th>position</th> <th>Hours of sleep mean</th>\n",
       "        </tr>\n",
       "    </thead>\n",
       "    <tbody>\n",
       "        <tr>\n",
       "            <td>back or stomach</td> <td>7.12792            </td>\n",
       "        </tr>\n",
       "        <tr>\n",
       "            <td>side           </td> <td>7.0328             </td>\n",
       "        </tr>\n",
       "    </tbody>\n",
       "</table>"
      ],
      "text/plain": [
       "position        | Hours of sleep mean\n",
       "back or stomach | 7.12792\n",
       "side            | 7.0328"
      ]
     },
     "execution_count": 40,
     "metadata": {},
     "output_type": "execute_result"
    }
   ],
   "source": [
    "survey.group(\"position\", np.mean)"
   ]
  },
  {
   "cell_type": "markdown",
   "metadata": {},
   "source": [
    "Test whether or not there is a significant difference between the average hours of sleep for those that sleep on their side and on their back or stomach."
   ]
  },
  {
   "cell_type": "markdown",
   "metadata": {},
   "source": [
    "Null hypothesis: Sleep position is not correlated with a different number of hours of sleep: the difference we see is just random variation."
   ]
  },
  {
   "cell_type": "markdown",
   "metadata": {},
   "source": [
    "Alternative hypothesis: Our observed difference between hours of sleep based on sleep position is too large to be explained by random variation."
   ]
  },
  {
   "cell_type": "markdown",
   "metadata": {},
   "source": [
    "Test statistic: Difference between the averages of the two groups: Average hours for \"back or stomach\" minus \"side\"."
   ]
  },
  {
   "cell_type": "markdown",
   "metadata": {},
   "source": [
    "Fill in the blank with \"Bigger\" or \"Smaller\":\n",
    "\n",
    "Bigger values of the test statistic favor the alternative"
   ]
  },
  {
   "cell_type": "code",
   "execution_count": 44,
   "metadata": {},
   "outputs": [
    {
     "data": {
      "text/plain": [
       "-0.09512125823477291"
      ]
     },
     "execution_count": 44,
     "metadata": {},
     "output_type": "execute_result"
    }
   ],
   "source": [
    "def compute_test_statistic(tbl, col):\n",
    "    grouped = tbl.group(col, np.average)\n",
    "    avgs = grouped.column('Hours of sleep average')\n",
    "    return avgs.item(1) - avgs.item(0)\n",
    "\n",
    "obs_test_stat = compute_test_statistic(survey, 'position')\n",
    "obs_test_stat"
   ]
  },
  {
   "cell_type": "code",
   "execution_count": 42,
   "metadata": {},
   "outputs": [
    {
     "data": {
      "text/plain": [
       "array(['side', 'back or stomach', 'back or stomach', ...,\n",
       "       'back or stomach', 'side', 'side'], dtype='<U15')"
      ]
     },
     "execution_count": 42,
     "metadata": {},
     "output_type": "execute_result"
    }
   ],
   "source": [
    "random_labels = survey.sample(with_replacement=False).column('position')\n",
    "random_labels"
   ]
  },
  {
   "cell_type": "code",
   "execution_count": 47,
   "metadata": {},
   "outputs": [
    {
     "data": {
      "text/plain": [
       "-0.07443078938243985"
      ]
     },
     "execution_count": 47,
     "metadata": {},
     "output_type": "execute_result"
    }
   ],
   "source": [
    "def simulate_under_null():\n",
    "    random_labels = survey.sample(with_replacement=False).column('position')\n",
    "    relabeled_tbl = survey.with_column('shuffled position', random_labels)\n",
    "    return compute_test_statistic(relabeled_tbl, 'shuffled position')\n",
    "\n",
    "simulate_under_null()"
   ]
  },
  {
   "cell_type": "code",
   "execution_count": 48,
   "metadata": {},
   "outputs": [
    {
     "data": {
      "image/png": "[encoded data removed]",
      "text/plain": [
       "<Figure size 432x288 with 1 Axes>"
      ]
     },
     "metadata": {},
     "output_type": "display_data"
    }
   ],
   "source": [
    "simulated_diffs = make_array()\n",
    "for i in np.arange(1000):\n",
    "    null_stat = simulate_under_null()\n",
    "    simulated_diffs = np.append(simulated_diffs, null_stat)\n",
    "    \n",
    "Table().with_column('Simulated difference', simulated_diffs).hist(0)"
   ]
  },
  {
   "cell_type": "code",
   "execution_count": 50,
   "metadata": {},
   "outputs": [
    {
     "data": {
      "text/plain": [
       "-0.09512125823477291"
      ]
     },
     "execution_count": 50,
     "metadata": {},
     "output_type": "execute_result"
    }
   ],
   "source": [
    "obs_test_stat"
   ]
  },
  {
   "cell_type": "code",
   "execution_count": 49,
   "metadata": {},
   "outputs": [
    {
     "data": {
      "text/plain": [
       "0.051"
      ]
     },
     "execution_count": 49,
     "metadata": {},
     "output_type": "execute_result"
    }
   ],
   "source": [
    "np.mean(simulated_diffs <= obs_test_stat)"
   ]
  },
  {
   "cell_type": "markdown",
   "metadata": {},
   "source": [
    "Are the results significant?"
   ]
  },
  {
   "cell_type": "markdown",
   "metadata": {},
   "source": [
    "p-value above is 0.051, so that's 5.1%. It's almost statistically significant, but not quite. So we confirm the null hypothesis, and recommend further study."
   ]
  },
  {
   "cell_type": "markdown",
   "metadata": {
    "slideshow": {
     "slide_type": "notes"
    }
   },
   "source": [
    "<footer>\n",
    "    <hr>\n",
    "    <p>Adopted from UC Berkeley DATA 8 course materials.</p>\n",
    "    <p>This content is offered under a <a href=\"https://creativecommons.org/licenses/by-nc-sa/4.0/\">CC Attribution Non-Commercial Share Alike</a> license.</p>\n",
    "</footer>"
   ]
  }
 ],
 "metadata": {
  "kernelspec": {
   "display_name": "Python 3 (ipykernel)",
   "language": "python",
   "name": "python3"
  },
  "language_info": {
   "codemirror_mode": {
    "name": "ipython",
    "version": 3
   },
   "file_extension": ".py",
   "mimetype": "text/x-python",
   "name": "python",
   "nbconvert_exporter": "python",
   "pygments_lexer": "ipython3",
   "version": "3.9.9"
  },
  "toc": {
   "base_numbering": 1,
   "nav_menu": {},
   "number_sections": false,
   "sideBar": true,
   "skip_h1_title": false,
   "title_cell": "Table of Contents",
   "title_sidebar": "Contents",
   "toc_cell": true,
   "toc_position": {
    "height": "calc(100% - 180px)",
    "left": "10px",
    "top": "150px",
    "width": "231.797px"
   },
   "toc_section_display": false,
   "toc_window_display": false
  }
 },
 "nbformat": 4,
 "nbformat_minor": 2
}
