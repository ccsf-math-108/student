{
 "cells": [
  {
   "cell_type": "markdown",
   "metadata": {
    "slideshow": {
     "slide_type": "slide"
    }
   },
   "source": [
    "<div style=\"width: 38.5%;\">\n",
    "    <p><strong>City College of San Francisco</strong><p>\n",
    "    <hr>\n",
    "    <p>MATH 108 - Foundations of Data Science</p>\n",
    "</div>"
   ]
  },
  {
   "cell_type": "markdown",
   "metadata": {
    "slideshow": {
     "slide_type": "-"
    }
   },
   "source": [
    "# Lecture 13: Conditionals and Iteration"
   ]
  },
  {
   "cell_type": "markdown",
   "metadata": {
    "slideshow": {
     "slide_type": "-"
    }
   },
   "source": [
    "Associated Textbook Sections: [9.0, 9.1, 9.2, 9.3](https://inferentialthinking.com/chapters/09/Randomness.html)"
   ]
  },
  {
   "cell_type": "markdown",
   "metadata": {
    "slideshow": {
     "slide_type": "slide"
    }
   },
   "source": [
    "<h2>Set Up the Notebook<h2>"
   ]
  },
  {
   "cell_type": "code",
   "execution_count": null,
   "metadata": {
    "slideshow": {
     "slide_type": "-"
    }
   },
   "outputs": [],
   "source": [
    "from datascience import *\n",
    "import numpy as np\n",
    "%matplotlib inline\n",
    "import matplotlib.pyplot as plots\n",
    "plots.style.use('fivethirtyeight')\n",
    "#import warnings\n",
    "#warnings.simplefilter(action='ignore',category=np.VisibleDeprecationWarning)"
   ]
  },
  {
   "cell_type": "markdown",
   "metadata": {
    "slideshow": {
     "slide_type": "notes"
    },
    "toc": true
   },
   "source": [
    "<h1>Table of Contents<span class=\"tocSkip\"></span></h1>\n",
    "<div class=\"toc\"><ul class=\"toc-item\"><li><span><a href=\"#Lecture-13:-Conditionals-and-Iteration\" data-toc-modified-id=\"Lecture-13:-Conditionals-and-Iteration-1\">Lecture 13: Conditionals and Iteration</a></span><ul class=\"toc-item\"><li><span><a href=\"#Set-Up-the-Notebook\" data-toc-modified-id=\"Set-Up-the-Notebook-1.1\">Set Up the Notebook</a></span></li><li><span><a href=\"#\" data-toc-modified-id=\"-1.2\"></a></span></li><li><span><a href=\"#Comparison-and-Booleans\" data-toc-modified-id=\"Comparison-and-Booleans-1.3\">Comparison and Booleans</a></span><ul class=\"toc-item\"><li><span><a href=\"#Comparison-Operators\" data-toc-modified-id=\"Comparison-Operators-1.3.1\">Comparison Operators</a></span></li><li><span><a href=\"#Aggregating-Comparisons\" data-toc-modified-id=\"Aggregating-Comparisons-1.3.2\">Aggregating Comparisons</a></span></li><li><span><a href=\"#Demo:-Comparison\" data-toc-modified-id=\"Demo:-Comparison-1.3.3\">Demo: Comparison</a></span></li><li><span><a href=\"#Demo:-Comparisons-with-Arrays\" data-toc-modified-id=\"Demo:-Comparisons-with-Arrays-1.3.4\">Demo: Comparisons with Arrays</a></span></li></ul></li><li><span><a href=\"#Control-Statements\" data-toc-modified-id=\"Control-Statements-1.4\">Control Statements</a></span><ul class=\"toc-item\"><li><span><a href=\"#Control-Statements\" data-toc-modified-id=\"Control-Statements-1.4.1\">Control Statements</a></span></li><li><span><a href=\"#Demo:-Simulation\" data-toc-modified-id=\"Demo:-Simulation-1.4.2\">Demo: Simulation</a></span></li></ul></li><li><span><a href=\"#Random-Selection\" data-toc-modified-id=\"Random-Selection-1.5\">Random Selection</a></span><ul class=\"toc-item\"><li><span><a href=\"#Random-Selection\" data-toc-modified-id=\"Random-Selection-1.5.1\">Random Selection</a></span></li><li><span><a href=\"#Demo:-Random-Selection\" data-toc-modified-id=\"Demo:-Random-Selection-1.5.2\">Demo: Random Selection</a></span></li></ul></li><li><span><a href=\"#Appending-Arrays\" data-toc-modified-id=\"Appending-Arrays-1.6\">Appending Arrays</a></span><ul class=\"toc-item\"><li><span><a href=\"#A-Longer-Array\" data-toc-modified-id=\"A-Longer-Array-1.6.1\">A Longer Array</a></span></li><li><span><a href=\"#Demo:-Appending-Arrays\" data-toc-modified-id=\"Demo:-Appending-Arrays-1.6.2\">Demo: Appending Arrays</a></span></li><li><span><a href=\"#Demo:-Repeated-Betting\" data-toc-modified-id=\"Demo:-Repeated-Betting-1.6.3\">Demo: Repeated Betting</a></span></li></ul></li><li><span><a href=\"#Iteration\" data-toc-modified-id=\"Iteration-1.7\">Iteration</a></span><ul class=\"toc-item\"><li><span><a href=\"#for-Statements\" data-toc-modified-id=\"for-Statements-1.7.1\"><code>for</code> Statements</a></span></li><li><span><a href=\"#Demo:-for-Statements\" data-toc-modified-id=\"Demo:-for-Statements-1.7.2\">Demo: <code>for</code> Statements</a></span></li><li><span><a href=\"#Demo:-Simulating-Heads-in-100-Coin-Tosses\" data-toc-modified-id=\"Demo:-Simulating-Heads-in-100-Coin-Tosses-1.7.3\">Demo: Simulating Heads in 100 Coin Tosses</a></span></li></ul></li><li><span><a href=\"#Advanced-where\" data-toc-modified-id=\"Advanced-where-1.8\">Advanced <code>where</code></a></span><ul class=\"toc-item\"><li><span><a href=\"#A-Closer-Look-at-where\" data-toc-modified-id=\"A-Closer-Look-at-where-1.8.1\">A Closer Look at <code>where</code></a></span></li><li><span><a href=\"#Demo:-Advanced-where\" data-toc-modified-id=\"Demo:-Advanced-where-1.8.2\">Demo: Advanced <code>where</code></a></span></li></ul></li></ul></li></ul></div>"
   ]
  },
  {
   "cell_type": "markdown",
   "metadata": {
    "slideshow": {
     "slide_type": "slide"
    }
   },
   "source": [
    "## Comparison and Booleans"
   ]
  },
  {
   "cell_type": "markdown",
   "metadata": {
    "slideshow": {
     "slide_type": "slide"
    }
   },
   "source": [
    "### Comparison Operators"
   ]
  },
  {
   "cell_type": "markdown",
   "metadata": {
    "slideshow": {
     "slide_type": "-"
    }
   },
   "source": [
    "* Assignments Statements:\n",
    "    * `x = 6`\n",
    "    * `height = x * 12`\n",
    "* Comparison Expressions:\n",
    "    * `x > 1`\n",
    "    * `x < y`\n",
    "    * `y >= 3`\n",
    "    * `x == y`\n",
    "    * `x != y`\n",
    "    * `2 < x < 5`\n",
    "* The result of a comparison expression is a `bool` value (`True` or `False`)"
   ]
  },
  {
   "cell_type": "markdown",
   "metadata": {
    "slideshow": {
     "slide_type": "slide"
    }
   },
   "source": [
    "### Aggregating Comparisons"
   ]
  },
  {
   "cell_type": "markdown",
   "metadata": {
    "slideshow": {
     "slide_type": "-"
    }
   },
   "source": [
    "* Summing an array or list of `bool` values will count the `True` values only.\n",
    "* The following produce an output of `2`:\n",
    "    * `1 + 0 + 1`\n",
    "    * `True + False + True`\n",
    "    * `sum([1, 0, 1])`\n",
    "    * `sum([True, False, True])`"
   ]
  },
  {
   "cell_type": "markdown",
   "metadata": {
    "slideshow": {
     "slide_type": "slide"
    }
   },
   "source": [
    "### Demo: Comparison"
   ]
  },
  {
   "cell_type": "markdown",
   "metadata": {
    "slideshow": {
     "slide_type": "slide"
    }
   },
   "source": [
    "Demonstrate using the comparison operators. "
   ]
  },
  {
   "cell_type": "code",
   "execution_count": null,
   "metadata": {
    "slideshow": {
     "slide_type": "fragment"
    }
   },
   "outputs": [],
   "source": [
    "..."
   ]
  },
  {
   "cell_type": "markdown",
   "metadata": {
    "slideshow": {
     "slide_type": "slide"
    }
   },
   "source": [
    "Introduce `and`, `or`, `not`."
   ]
  },
  {
   "cell_type": "code",
   "execution_count": null,
   "metadata": {
    "slideshow": {
     "slide_type": "fragment"
    }
   },
   "outputs": [],
   "source": [
    "..."
   ]
  },
  {
   "cell_type": "markdown",
   "metadata": {
    "slideshow": {
     "slide_type": "slide"
    }
   },
   "source": [
    "### Demo: Comparisons with Arrays"
   ]
  },
  {
   "cell_type": "markdown",
   "metadata": {
    "slideshow": {
     "slide_type": "slide"
    }
   },
   "source": [
    "Demonstrate how comparisons work with arrays."
   ]
  },
  {
   "cell_type": "code",
   "execution_count": null,
   "metadata": {
    "slideshow": {
     "slide_type": "fragment"
    }
   },
   "outputs": [],
   "source": [
    "..."
   ]
  },
  {
   "cell_type": "markdown",
   "metadata": {
    "slideshow": {
     "slide_type": "slide"
    }
   },
   "source": [
    "## Control Statements"
   ]
  },
  {
   "cell_type": "markdown",
   "metadata": {
    "slideshow": {
     "slide_type": "slide"
    }
   },
   "source": [
    "### Control Statements"
   ]
  },
  {
   "cell_type": "markdown",
   "metadata": {
    "slideshow": {
     "slide_type": "slide"
    }
   },
   "source": [
    "These statements control the sequence of computations that are performed in a program\n",
    "\n",
    "* The keywords `if` and `for` begin control statements\n",
    "* The purpose of `if` is to choose different code segments based on their arguments."
   ]
  },
  {
   "cell_type": "markdown",
   "metadata": {
    "slideshow": {
     "slide_type": "slide"
    }
   },
   "source": [
    "### Demo: Simulation"
   ]
  },
  {
   "cell_type": "markdown",
   "metadata": {
    "slideshow": {
     "slide_type": "slide"
    }
   },
   "source": [
    "Consider the following game where each of 2 players rolls a die. \n",
    "\n",
    "* The player with the smaller value pays the other player one dollar.\n",
    "* If there is a tie, then no one pays anything."
   ]
  },
  {
   "cell_type": "markdown",
   "metadata": {
    "slideshow": {
     "slide_type": "slide"
    }
   },
   "source": [
    "Find a way to simulate one round of the game where each player rolls a die. It might help to think from the perspective of one of the players."
   ]
  },
  {
   "cell_type": "code",
   "execution_count": null,
   "metadata": {
    "slideshow": {
     "slide_type": "fragment"
    }
   },
   "outputs": [],
   "source": [
    "# Work in progress\n",
    "def one_round(player1, player2):\n",
    "    if player1 > player2:\n",
    "        return 1"
   ]
  },
  {
   "cell_type": "code",
   "execution_count": null,
   "metadata": {
    "slideshow": {
     "slide_type": "fragment"
    }
   },
   "outputs": [],
   "source": [
    "one_round(4, 3)"
   ]
  },
  {
   "cell_type": "code",
   "execution_count": null,
   "metadata": {
    "slideshow": {
     "slide_type": "fragment"
    }
   },
   "outputs": [],
   "source": [
    "one_round(2, 6)"
   ]
  },
  {
   "cell_type": "code",
   "execution_count": null,
   "metadata": {
    "slideshow": {
     "slide_type": "fragment"
    }
   },
   "outputs": [],
   "source": [
    "..."
   ]
  },
  {
   "cell_type": "markdown",
   "metadata": {
    "slideshow": {
     "slide_type": "slide"
    }
   },
   "source": [
    "## Random Selection"
   ]
  },
  {
   "cell_type": "markdown",
   "metadata": {
    "slideshow": {
     "slide_type": "slide"
    }
   },
   "source": [
    "### Random Selection"
   ]
  },
  {
   "cell_type": "markdown",
   "metadata": {
    "slideshow": {
     "slide_type": "slide"
    }
   },
   "source": [
    "The command \n",
    "\n",
    "`np.random.choice(some_array, sample_size)`\n",
    "\n",
    "creates an array by selecting a number (`sample_size`) of values uniformly at random with replacement from an array (`some_array`)."
   ]
  },
  {
   "cell_type": "markdown",
   "metadata": {
    "slideshow": {
     "slide_type": "slide"
    }
   },
   "source": [
    "### Demo: Random Selection"
   ]
  },
  {
   "cell_type": "markdown",
   "metadata": {
    "slideshow": {
     "slide_type": "slide"
    }
   },
   "source": [
    "Demonstrate how to use `np.random.choice`."
   ]
  },
  {
   "cell_type": "code",
   "execution_count": null,
   "metadata": {
    "slideshow": {
     "slide_type": "fragment"
    }
   },
   "outputs": [],
   "source": [
    "..."
   ]
  },
  {
   "cell_type": "markdown",
   "metadata": {
    "slideshow": {
     "slide_type": "slide"
    }
   },
   "source": [
    "Create an array that represents the faces of a single six-sided die."
   ]
  },
  {
   "cell_type": "code",
   "execution_count": null,
   "metadata": {
    "slideshow": {
     "slide_type": "fragment"
    }
   },
   "outputs": [],
   "source": [
    "..."
   ]
  },
  {
   "cell_type": "markdown",
   "metadata": {
    "slideshow": {
     "slide_type": "slide"
    }
   },
   "source": [
    "Create a function that simulates one round of the game described earlier by randomly generating the rolls."
   ]
  },
  {
   "cell_type": "code",
   "execution_count": null,
   "metadata": {
    "slideshow": {
     "slide_type": "fragment"
    }
   },
   "outputs": [],
   "source": [
    "..."
   ]
  },
  {
   "cell_type": "markdown",
   "metadata": {
    "slideshow": {
     "slide_type": "slide"
    }
   },
   "source": [
    "## Appending Arrays"
   ]
  },
  {
   "cell_type": "markdown",
   "metadata": {
    "slideshow": {
     "slide_type": "slide"
    }
   },
   "source": [
    "### A Longer Array"
   ]
  },
  {
   "cell_type": "markdown",
   "metadata": {
    "slideshow": {
     "slide_type": "slide"
    }
   },
   "source": [
    "* `np.append(array_1, value)`\n",
    "    * new array with value appended to `array_1`\n",
    "    * `value` has to be of the same type as elements of `array_1`\n",
    "* `np.append(array_1, array_2)`\n",
    "    * new array with `array_2` appended to `array_1`\n",
    "    * `array_2` elements must have the same type as `array_1` elements"
   ]
  },
  {
   "cell_type": "markdown",
   "metadata": {
    "slideshow": {
     "slide_type": "slide"
    }
   },
   "source": [
    "### Demo: Appending Arrays"
   ]
  },
  {
   "cell_type": "markdown",
   "metadata": {
    "slideshow": {
     "slide_type": "slide"
    }
   },
   "source": [
    "Demonstrate how to append values to an array."
   ]
  },
  {
   "cell_type": "code",
   "execution_count": null,
   "metadata": {
    "slideshow": {
     "slide_type": "fragment"
    }
   },
   "outputs": [],
   "source": [
    "..."
   ]
  },
  {
   "cell_type": "markdown",
   "metadata": {
    "slideshow": {
     "slide_type": "slide"
    }
   },
   "source": [
    "### Demo: Repeated Betting"
   ]
  },
  {
   "cell_type": "markdown",
   "metadata": {
    "slideshow": {
     "slide_type": "slide"
    }
   },
   "source": [
    "Store the results of the simulated game in an array for each player. First, create an empty array."
   ]
  },
  {
   "cell_type": "code",
   "execution_count": null,
   "metadata": {
    "slideshow": {
     "slide_type": "fragment"
    }
   },
   "outputs": [],
   "source": [
    "..."
   ]
  },
  {
   "cell_type": "markdown",
   "metadata": {
    "slideshow": {
     "slide_type": "slide"
    }
   },
   "source": [
    "## Iteration"
   ]
  },
  {
   "cell_type": "markdown",
   "metadata": {
    "slideshow": {
     "slide_type": "slide"
    }
   },
   "source": [
    "### `for` Statements"
   ]
  },
  {
   "cell_type": "markdown",
   "metadata": {
    "slideshow": {
     "slide_type": "slide"
    }
   },
   "source": [
    "* `for` is a keyword that begins a control statement\n",
    "* The purpose of `for` is to perform a computation for every element in a list or array"
   ]
  },
  {
   "cell_type": "markdown",
   "metadata": {
    "slideshow": {
     "slide_type": "slide"
    }
   },
   "source": [
    "### Demo: `for` Statements"
   ]
  },
  {
   "cell_type": "markdown",
   "metadata": {
    "slideshow": {
     "slide_type": "slide"
    }
   },
   "source": [
    "Demonstrate how `for` statements work."
   ]
  },
  {
   "cell_type": "code",
   "execution_count": null,
   "metadata": {
    "scrolled": true,
    "slideshow": {
     "slide_type": "fragment"
    }
   },
   "outputs": [],
   "source": [
    "..."
   ]
  },
  {
   "cell_type": "markdown",
   "metadata": {
    "slideshow": {
     "slide_type": "slide"
    }
   },
   "source": [
    "Simulate and the store results of 10,000 iterations of the game described earlier."
   ]
  },
  {
   "cell_type": "code",
   "execution_count": null,
   "metadata": {
    "slideshow": {
     "slide_type": "fragment"
    }
   },
   "outputs": [],
   "source": [
    "..."
   ]
  },
  {
   "cell_type": "markdown",
   "metadata": {
    "slideshow": {
     "slide_type": "slide"
    }
   },
   "source": [
    "Create a table with the results of the game and visualize the results for Player 1."
   ]
  },
  {
   "cell_type": "code",
   "execution_count": null,
   "metadata": {
    "slideshow": {
     "slide_type": "fragment"
    }
   },
   "outputs": [],
   "source": [
    "..."
   ]
  },
  {
   "cell_type": "markdown",
   "metadata": {
    "collapsed": true,
    "slideshow": {
     "slide_type": "slide"
    }
   },
   "source": [
    "### Demo: Simulating Heads in 100 Coin Tosses"
   ]
  },
  {
   "cell_type": "markdown",
   "metadata": {
    "slideshow": {
     "slide_type": "slide"
    }
   },
   "source": [
    "Create a fair coin and develop the components to simulate flipping the coin 100 times. Make sure to keep track of the results where the simulation is repeated 10,000 times."
   ]
  },
  {
   "cell_type": "code",
   "execution_count": null,
   "metadata": {
    "slideshow": {
     "slide_type": "fragment"
    }
   },
   "outputs": [],
   "source": [
    "..."
   ]
  },
  {
   "cell_type": "markdown",
   "metadata": {
    "slideshow": {
     "slide_type": "slide"
    }
   },
   "source": [
    "## Advanced `where`"
   ]
  },
  {
   "cell_type": "markdown",
   "metadata": {
    "slideshow": {
     "slide_type": "slide"
    }
   },
   "source": [
    "### A Closer Look at `where`"
   ]
  },
  {
   "cell_type": "markdown",
   "metadata": {
    "slideshow": {
     "slide_type": "slide"
    }
   },
   "source": [
    "The command\n",
    "\n",
    "`t.where(array_of_bool_values)`\n",
    "\n",
    "returns a table with only the rows of `t` for which the corresponding `bool` is `True`."
   ]
  },
  {
   "cell_type": "markdown",
   "metadata": {
    "slideshow": {
     "slide_type": "slide"
    }
   },
   "source": [
    "### Demo: Advanced `where`"
   ]
  },
  {
   "cell_type": "markdown",
   "metadata": {
    "slideshow": {
     "slide_type": "slide"
    }
   },
   "source": [
    "Demonstrate how to use conditionals with the `where` method."
   ]
  },
  {
   "cell_type": "code",
   "execution_count": null,
   "metadata": {
    "slideshow": {
     "slide_type": "fragment"
    }
   },
   "outputs": [],
   "source": [
    "..."
   ]
  },
  {
   "cell_type": "markdown",
   "metadata": {
    "slideshow": {
     "slide_type": "notes"
    }
   },
   "source": [
    "<footer>\n",
    "    <hr>\n",
    "    <p>Adopted from UC Berkeley DATA 8 course materials.</p>\n",
    "    <p>This content is offered under a <a href=\"https://creativecommons.org/licenses/by-nc-sa/4.0/\">CC Attribution Non-Commercial Share Alike</a> license.</p>\n",
    "</footer>"
   ]
  }
 ],
 "metadata": {
  "kernelspec": {
   "display_name": "Python 3 (ipykernel)",
   "language": "python",
   "name": "python3"
  },
  "language_info": {
   "codemirror_mode": {
    "name": "ipython",
    "version": 3
   },
   "file_extension": ".py",
   "mimetype": "text/x-python",
   "name": "python",
   "nbconvert_exporter": "python",
   "pygments_lexer": "ipython3",
   "version": "3.9.9"
  },
  "toc": {
   "base_numbering": 1,
   "nav_menu": {},
   "number_sections": false,
   "sideBar": true,
   "skip_h1_title": false,
   "title_cell": "Table of Contents",
   "title_sidebar": "Contents",
   "toc_cell": true,
   "toc_position": {
    "height": "calc(100% - 180px)",
    "left": "10px",
    "top": "150px",
    "width": "231.797px"
   },
   "toc_section_display": false,
   "toc_window_display": false
  }
 },
 "nbformat": 4,
 "nbformat_minor": 2
}
