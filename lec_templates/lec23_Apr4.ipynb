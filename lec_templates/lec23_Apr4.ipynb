{
 "cells": [
  {
   "cell_type": "markdown",
   "metadata": {
    "slideshow": {
     "slide_type": "slide"
    }
   },
   "source": [
    "<div style=\"width: 38.5%;\">\n",
    "    <p><strong>City College of San Francisco</strong><p>\n",
    "    <hr>\n",
    "    <p>MATH 108 - Foundations of Data Science</p>\n",
    "</div>"
   ]
  },
  {
   "cell_type": "markdown",
   "metadata": {
    "slideshow": {
     "slide_type": "-"
    }
   },
   "source": [
    "# Lecture 23: Confidence Intervals"
   ]
  },
  {
   "cell_type": "markdown",
   "metadata": {
    "slideshow": {
     "slide_type": "-"
    }
   },
   "source": [
    "Associated Textbook Sections: [13.0, 13.1, 13.2](https://inferentialthinking.com/chapters/13/Estimation.html)"
   ]
  },
  {
   "cell_type": "markdown",
   "metadata": {
    "slideshow": {
     "slide_type": "slide"
    }
   },
   "source": [
    "<h2>Set Up the Notebook<h2>"
   ]
  },
  {
   "cell_type": "code",
   "execution_count": 1,
   "metadata": {
    "slideshow": {
     "slide_type": "-"
    }
   },
   "outputs": [],
   "source": [
    "from datascience import *\n",
    "import numpy as np\n",
    "%matplotlib inline\n",
    "import matplotlib.pyplot as plots\n",
    "plots.style.use('fivethirtyeight')\n",
    "import warnings\n",
    "warnings.filterwarnings(\"ignore\", category=UserWarning) # hide a UserWarning linked to the datascience library"
   ]
  },
  {
   "cell_type": "markdown",
   "metadata": {
    "slideshow": {
     "slide_type": "notes"
    },
    "toc": true
   },
   "source": [
    "<h1>Table of Contents<span class=\"tocSkip\"></span></h1>\n",
    "<div class=\"toc\"><ul class=\"toc-item\"><li><span><a href=\"#Lecture-23:-Confidence-Intervals\" data-toc-modified-id=\"Lecture-23:-Confidence-Intervals-1\">Lecture 23: Confidence Intervals</a></span><ul class=\"toc-item\"><li><span><a href=\"#Set-Up-the-Notebook\" data-toc-modified-id=\"Set-Up-the-Notebook-1.1\">Set Up the Notebook</a></span></li><li><span><a href=\"#\" data-toc-modified-id=\"-1.2\"></a></span></li><li><span><a href=\"#Percentiles\" data-toc-modified-id=\"Percentiles-1.3\">Percentiles</a></span><ul class=\"toc-item\"><li><span><a href=\"#Computing-Percentiles\" data-toc-modified-id=\"Computing-Percentiles-1.3.1\">Computing Percentiles</a></span></li><li><span><a href=\"#The-percentile-Function\" data-toc-modified-id=\"The-percentile-Function-1.3.2\">The percentile Function</a></span></li><li><span><a href=\"#Demo:-Percentiles\" data-toc-modified-id=\"Demo:-Percentiles-1.3.3\">Demo: Percentiles</a></span></li></ul></li><li><span><a href=\"#Estimation\" data-toc-modified-id=\"Estimation-1.4\">Estimation</a></span><ul class=\"toc-item\"><li><span><a href=\"#Inference:-Estimation\" data-toc-modified-id=\"Inference:-Estimation-1.4.1\">Inference: Estimation</a></span></li><li><span><a href=\"#Demo:-Sample-Median-Estimation\" data-toc-modified-id=\"Demo:-Sample-Median-Estimation-1.4.2\">Demo: Sample Median Estimation</a></span></li><li><span><a href=\"#Variability-of-the-Estimate\" data-toc-modified-id=\"Variability-of-the-Estimate-1.4.3\">Variability of the Estimate</a></span></li><li><span><a href=\"#Demo:-Variability-of-the-Estimate\" data-toc-modified-id=\"Demo:-Variability-of-the-Estimate-1.4.4\">Demo: Variability of the Estimate</a></span></li><li><span><a href=\"#Quantifying-Uncertainty\" data-toc-modified-id=\"Quantifying-Uncertainty-1.4.5\">Quantifying Uncertainty</a></span></li><li><span><a href=\"#Demo:-Quantifying-Uncertainty\" data-toc-modified-id=\"Demo:-Quantifying-Uncertainty-1.4.6\">Demo: Quantifying Uncertainty</a></span></li><li><span><a href=\"#Where-to-Get-Another-Sample?\" data-toc-modified-id=\"Where-to-Get-Another-Sample?-1.4.7\">Where to Get Another Sample?</a></span></li></ul></li><li><span><a href=\"#The-Bootstrap\" data-toc-modified-id=\"The-Bootstrap-1.5\">The Bootstrap</a></span><ul class=\"toc-item\"><li><span><a href=\"#The-Bootstrap\" data-toc-modified-id=\"The-Bootstrap-1.5.1\">The Bootstrap</a></span></li><li><span><a href=\"#Why-the-Bootstrap-Works\" data-toc-modified-id=\"Why-the-Bootstrap-Works-1.5.2\">Why the Bootstrap Works</a></span></li><li><span><a href=\"#Why-We-Need-the-Bootstrap\" data-toc-modified-id=\"Why-We-Need-the-Bootstrap-1.5.3\">Why We Need the Bootstrap</a></span></li><li><span><a href=\"#Real-World-vs.-Bootstrap-World\" data-toc-modified-id=\"Real-World-vs.-Bootstrap-World-1.5.4\">Real World vs. Bootstrap World</a></span></li><li><span><a href=\"#The-Bootstrap-Principle\" data-toc-modified-id=\"The-Bootstrap-Principle-1.5.5\">The Bootstrap Principle</a></span></li><li><span><a href=\"#Key-to-Resampling\" data-toc-modified-id=\"Key-to-Resampling-1.5.6\">Key to Resampling</a></span></li><li><span><a href=\"#Demo:-Bootstrap\" data-toc-modified-id=\"Demo:-Bootstrap-1.5.7\">Demo: Bootstrap</a></span></li></ul></li><li><span><a href=\"#Confidence-Intervals\" data-toc-modified-id=\"Confidence-Intervals-1.6\">Confidence Intervals</a></span><ul class=\"toc-item\"><li><span><a href=\"#95%-Confidence-Interval\" data-toc-modified-id=\"95%-Confidence-Interval-1.6.1\">95% Confidence Interval</a></span></li><li><span><a href=\"#Demo:-Confidence-Intervals\" data-toc-modified-id=\"Demo:-Confidence-Intervals-1.6.2\">Demo: Confidence Intervals</a></span></li><li><span><a href=\"#Visualizing-Confidence\" data-toc-modified-id=\"Visualizing-Confidence-1.6.3\">Visualizing Confidence</a></span></li></ul></li></ul></li></ul></div>"
   ]
  },
  {
   "cell_type": "markdown",
   "metadata": {
    "slideshow": {
     "slide_type": "slide"
    }
   },
   "source": [
    "## Percentiles"
   ]
  },
  {
   "cell_type": "markdown",
   "metadata": {
    "slideshow": {
     "slide_type": "slide"
    }
   },
   "source": [
    "### Computing Percentiles"
   ]
  },
  {
   "cell_type": "markdown",
   "metadata": {
    "slideshow": {
     "slide_type": "-"
    }
   },
   "source": [
    "The Xth percentile is first value on the sorted list that is at least as large as X% of the elements. "
   ]
  },
  {
   "cell_type": "markdown",
   "metadata": {
    "slideshow": {
     "slide_type": "-"
    }
   },
   "source": [
    "The 80th percentile of `[1, 7, 3, 9, 5]` is the 4th ordered (`[1, 3, 5, 7, 9]`) element, 7:\n",
    "\n",
    "* $(80/100) \\cdot 5 = 4$\n",
    "* `percentile(80, s)` returns `7`\n",
    "\n",
    "For a percentile that does not exactly correspond to an element, take the next greater element instead"
   ]
  },
  {
   "cell_type": "markdown",
   "metadata": {
    "slideshow": {
     "slide_type": "slide"
    }
   },
   "source": [
    "### The percentile Function"
   ]
  },
  {
   "cell_type": "markdown",
   "metadata": {
    "slideshow": {
     "slide_type": "-"
    }
   },
   "source": [
    "* The pth percentile is the smallest value in a set that is at least as large as p% of the elements in the set\n",
    "* Function in the datascience module: `percentile(p, values)`\n",
    "    * `p` is between 0 and 100\n",
    "    * `values` is an array, list, etc.\n",
    "    * Returns the pth percentile of the array"
   ]
  },
  {
   "cell_type": "markdown",
   "metadata": {},
   "source": [
    "### Demo: Percentiles"
   ]
  },
  {
   "cell_type": "markdown",
   "metadata": {},
   "source": [
    "Compute the 55th percentile of the following array."
   ]
  },
  {
   "cell_type": "code",
   "execution_count": 3,
   "metadata": {},
   "outputs": [],
   "source": [
    "x = make_array(43, 20, 51, 7, 28, 34)"
   ]
  },
  {
   "cell_type": "code",
   "execution_count": 4,
   "metadata": {},
   "outputs": [
    {
     "data": {
      "text/plain": [
       "34"
      ]
     },
     "execution_count": 4,
     "metadata": {},
     "output_type": "execute_result"
    }
   ],
   "source": [
    "percentile(55, x)"
   ]
  },
  {
   "cell_type": "markdown",
   "metadata": {},
   "source": [
    "Sort the array"
   ]
  },
  {
   "cell_type": "code",
   "execution_count": 5,
   "metadata": {},
   "outputs": [
    {
     "data": {
      "text/plain": [
       "array([ 7, 20, 28, 34, 43, 51])"
      ]
     },
     "execution_count": 5,
     "metadata": {},
     "output_type": "execute_result"
    }
   ],
   "source": [
    "np.sort(x)"
   ]
  },
  {
   "cell_type": "markdown",
   "metadata": {},
   "source": [
    "Calculate the value of the index corresponding to the percentile. Round up the value."
   ]
  },
  {
   "cell_type": "code",
   "execution_count": 6,
   "metadata": {},
   "outputs": [
    {
     "data": {
      "text/plain": [
       "3.3000000000000003"
      ]
     },
     "execution_count": 6,
     "metadata": {},
     "output_type": "execute_result"
    }
   ],
   "source": [
    "55 / 100 * 6"
   ]
  },
  {
   "cell_type": "markdown",
   "metadata": {
    "slideshow": {
     "slide_type": "slide"
    }
   },
   "source": [
    "## Estimation"
   ]
  },
  {
   "cell_type": "markdown",
   "metadata": {
    "slideshow": {
     "slide_type": "slide"
    }
   },
   "source": [
    "### Inference: Estimation"
   ]
  },
  {
   "cell_type": "markdown",
   "metadata": {
    "slideshow": {
     "slide_type": "-"
    }
   },
   "source": [
    "How do we calculate the value of an unknown parameter?\n",
    "* If you have a census (that is, the whole population): Just calculate the parameter and you're done\n",
    "* If you don't have a census:\n",
    "    * Take a random sample from the population\n",
    "    * Use a statistic as an estimate of the parameter"
   ]
  },
  {
   "cell_type": "markdown",
   "metadata": {},
   "source": [
    "### Demo: Sample Median Estimation"
   ]
  },
  {
   "cell_type": "markdown",
   "metadata": {},
   "source": [
    "Load the [2021 Employee Compensation data from data.sfgov.org](https://data.sfgov.org/City-Management-and-Ethics/Employee-Compensation/88g8-5mnd)."
   ]
  },
  {
   "cell_type": "code",
   "execution_count": 13,
   "metadata": {
    "scrolled": true
   },
   "outputs": [
    {
     "data": {
      "text/html": [
       "<table border=\"1\" class=\"dataframe\">\n",
       "    <thead>\n",
       "        <tr>\n",
       "            <th>organization_group_code</th> <th>job_family_code</th> <th>job_code</th> <th>year_type</th> <th>year</th> <th>organization_group</th> <th>department_code</th> <th>department</th> <th>union_code</th> <th>union</th> <th>job_family</th> <th>job</th> <th>employee_identifier</th> <th>salaries</th> <th>overtime</th> <th>other_salaries</th> <th>total_salary</th> <th>retirement</th> <th>health_and_dental</th> <th>other_benefits</th> <th>total_benefits</th> <th>total_compensation</th>\n",
       "        </tr>\n",
       "    </thead>\n",
       "    <tbody>\n",
       "        <tr>\n",
       "            <td>1                      </td> <td>1000           </td> <td>1032    </td> <td>Calendar </td> <td>2021</td> <td>Public Protection </td> <td>ADP            </td> <td>Adult Probation</td> <td>21        </td> <td>Prof & Tech Eng, Local 21</td> <td>Information Systems</td> <td>IS Trainer-Journey        </td> <td>47369836           </td> <td>107167  </td> <td>0       </td> <td>0             </td> <td>107167      </td> <td>23017.6   </td> <td>15979.3          </td> <td>8022.93       </td> <td>47019.8       </td> <td>154187            </td>\n",
       "        </tr>\n",
       "        <tr>\n",
       "            <td>1                      </td> <td>1000           </td> <td>1041    </td> <td>Calendar </td> <td>2021</td> <td>Public Protection </td> <td>ADP            </td> <td>Adult Probation</td> <td>21        </td> <td>Prof & Tech Eng, Local 21</td> <td>Information Systems</td> <td>IS Engineer-Assistant     </td> <td>47359929           </td> <td>132523  </td> <td>0       </td> <td>0             </td> <td>132523      </td> <td>27821.3   </td> <td>15979.3          </td> <td>10320         </td> <td>54120.6       </td> <td>186644            </td>\n",
       "        </tr>\n",
       "        <tr>\n",
       "            <td>1                      </td> <td>1000           </td> <td>1053    </td> <td>Calendar </td> <td>2021</td> <td>Public Protection </td> <td>ADP            </td> <td>Adult Probation</td> <td>21        </td> <td>Prof & Tech Eng, Local 21</td> <td>Information Systems</td> <td>IS Business Analyst-Senior</td> <td>45916094           </td> <td>12533.2 </td> <td>0       </td> <td>97.66         </td> <td>12630.9     </td> <td>2830      </td> <td>1536.31          </td> <td>988.06        </td> <td>5354.37       </td> <td>17985.3           </td>\n",
       "        </tr>\n",
       "    </tbody>\n",
       "</table>\n",
       "<p>... (997 rows omitted)</p>"
      ],
      "text/plain": [
       "<IPython.core.display.HTML object>"
      ]
     },
     "metadata": {},
     "output_type": "display_data"
    }
   ],
   "source": [
    "sf_Complete = Table.read_table('https://data.sfgov.org/resource/88g8-5mnd.csv?year=2021')\n",
    "sf_Complete.show(3)"
   ]
  },
  {
   "cell_type": "markdown",
   "metadata": {},
   "source": [
    "Reduce the table to the `job`, `total_salary`, and `total_compensation` columns."
   ]
  },
  {
   "cell_type": "code",
   "execution_count": 14,
   "metadata": {
    "scrolled": true
   },
   "outputs": [
    {
     "data": {
      "text/html": [
       "<table border=\"1\" class=\"dataframe\">\n",
       "    <thead>\n",
       "        <tr>\n",
       "            <th>job</th> <th>total_salary</th> <th>total_compensation</th>\n",
       "        </tr>\n",
       "    </thead>\n",
       "    <tbody>\n",
       "        <tr>\n",
       "            <td>IS Trainer-Journey        </td> <td>107167      </td> <td>154187            </td>\n",
       "        </tr>\n",
       "        <tr>\n",
       "            <td>IS Engineer-Assistant     </td> <td>132523      </td> <td>186644            </td>\n",
       "        </tr>\n",
       "        <tr>\n",
       "            <td>IS Business Analyst-Senior</td> <td>12630.9     </td> <td>17985.3           </td>\n",
       "        </tr>\n",
       "    </tbody>\n",
       "</table>\n",
       "<p>... (997 rows omitted)</p>"
      ],
      "text/plain": [
       "<IPython.core.display.HTML object>"
      ]
     },
     "metadata": {},
     "output_type": "display_data"
    }
   ],
   "source": [
    "sf_Complete = sf_Complete.select('job', 'total_salary', 'total_compensation')\n",
    "sf_Complete.show(3)"
   ]
  },
  {
   "cell_type": "markdown",
   "metadata": {},
   "source": [
    "Who is making the most money?"
   ]
  },
  {
   "cell_type": "code",
   "execution_count": 15,
   "metadata": {
    "scrolled": false
   },
   "outputs": [
    {
     "data": {
      "text/html": [
       "<table border=\"1\" class=\"dataframe\">\n",
       "    <thead>\n",
       "        <tr>\n",
       "            <th>job</th> <th>total_salary</th> <th>total_compensation</th>\n",
       "        </tr>\n",
       "    </thead>\n",
       "    <tbody>\n",
       "        <tr>\n",
       "            <td>District Attorney             </td> <td>309905      </td> <td>410754            </td>\n",
       "        </tr>\n",
       "        <tr>\n",
       "            <td>Assistant Chief Attorney 1    </td> <td>268859      </td> <td>355220            </td>\n",
       "        </tr>\n",
       "        <tr>\n",
       "            <td>Chief Atty1 (Civil & Criminal)</td> <td>268231      </td> <td>354672            </td>\n",
       "        </tr>\n",
       "        <tr>\n",
       "            <td>Head Atty, Civil & Criminal   </td> <td>263625      </td> <td>350042            </td>\n",
       "        </tr>\n",
       "        <tr>\n",
       "            <td>Dep Dir IV                    </td> <td>259015      </td> <td>347507            </td>\n",
       "        </tr>\n",
       "        <tr>\n",
       "            <td>Assistant Chief Attorney 1    </td> <td>260609      </td> <td>347152            </td>\n",
       "        </tr>\n",
       "        <tr>\n",
       "            <td>Head Atty, Civil & Criminal   </td> <td>259509      </td> <td>343000            </td>\n",
       "        </tr>\n",
       "        <tr>\n",
       "            <td>Assistant Chief Attorney 1    </td> <td>257029      </td> <td>342047            </td>\n",
       "        </tr>\n",
       "        <tr>\n",
       "            <td>Assistant Chief Attorney 1    </td> <td>255529      </td> <td>340600            </td>\n",
       "        </tr>\n",
       "        <tr>\n",
       "            <td>Attorney (Civil/Criminal)     </td> <td>250259      </td> <td>334712            </td>\n",
       "        </tr>\n",
       "    </tbody>\n",
       "</table>\n",
       "<p>... (990 rows omitted)</p>"
      ],
      "text/plain": [
       "job                            | total_salary | total_compensation\n",
       "District Attorney              | 309905       | 410754\n",
       "Assistant Chief Attorney 1     | 268859       | 355220\n",
       "Chief Atty1 (Civil & Criminal) | 268231       | 354672\n",
       "Head Atty, Civil & Criminal    | 263625       | 350042\n",
       "Dep Dir IV                     | 259015       | 347507\n",
       "Assistant Chief Attorney 1     | 260609       | 347152\n",
       "Head Atty, Civil & Criminal    | 259509       | 343000\n",
       "Assistant Chief Attorney 1     | 257029       | 342047\n",
       "Assistant Chief Attorney 1     | 255529       | 340600\n",
       "Attorney (Civil/Criminal)      | 250259       | 334712\n",
       "... (990 rows omitted)"
      ]
     },
     "execution_count": 15,
     "metadata": {},
     "output_type": "execute_result"
    }
   ],
   "source": [
    "sf_Complete.sort('total_compensation', descending=True)"
   ]
  },
  {
   "cell_type": "markdown",
   "metadata": {},
   "source": [
    "Visually explore the distribution of compensations."
   ]
  },
  {
   "cell_type": "code",
   "execution_count": 16,
   "metadata": {
    "scrolled": true
   },
   "outputs": [
    {
     "data": {
      "image/png": "[encoded data removed]",
      "text/plain": [
       "<Figure size 432x288 with 1 Axes>"
      ]
     },
     "metadata": {},
     "output_type": "display_data"
    }
   ],
   "source": [
    "sf_Complete.select('total_compensation').hist(bins=100)"
   ]
  },
  {
   "cell_type": "markdown",
   "metadata": {},
   "source": [
    "Filter out the bottom 5% and top 5% of compensations."
   ]
  },
  {
   "cell_type": "code",
   "execution_count": 17,
   "metadata": {
    "scrolled": true
   },
   "outputs": [
    {
     "data": {
      "image/png": "[encoded data removed]",
      "text/plain": [
       "<Figure size 432x288 with 1 Axes>"
      ]
     },
     "metadata": {},
     "output_type": "display_data"
    }
   ],
   "source": [
    "bottom_5 = percentile(5, sf_Complete.column('total_compensation'))\n",
    "top_5 = percentile(95, sf_Complete.column('total_compensation'))\n",
    "sf = sf_Complete.where('total_compensation', are.between_or_equal_to(bottom_5, top_5))\n",
    "sf.select('total_compensation').hist(bins=100)"
   ]
  },
  {
   "cell_type": "markdown",
   "metadata": {},
   "source": [
    "Calculate the median total compensation of this population."
   ]
  },
  {
   "cell_type": "code",
   "execution_count": 20,
   "metadata": {},
   "outputs": [
    {
     "name": "stdout",
     "output_type": "stream",
     "text": [
      "Median of middle 90% of population: 140198.7\n"
     ]
    }
   ],
   "source": [
    "pop_median = percentile(50, sf.column('total_compensation')) # np.median works but demo percentile\n",
    "print(\"Median of middle 90% of population:\", pop_median)"
   ]
  },
  {
   "cell_type": "code",
   "execution_count": 34,
   "metadata": {},
   "outputs": [
    {
     "name": "stdout",
     "output_type": "stream",
     "text": [
      "Median of complete population: 140198.7\n"
     ]
    }
   ],
   "source": [
    "pop_median = percentile(50, sf_Complete.column('total_compensation'))\n",
    "print(\"Median of complete population:\", pop_median)"
   ]
  },
  {
   "cell_type": "markdown",
   "metadata": {},
   "source": [
    "Randomly sample 300 employees from the population and calculate the sample median total compensation."
   ]
  },
  {
   "cell_type": "code",
   "execution_count": 21,
   "metadata": {
    "scrolled": true
   },
   "outputs": [
    {
     "data": {
      "text/html": [
       "<table border=\"1\" class=\"dataframe\">\n",
       "    <thead>\n",
       "        <tr>\n",
       "            <th>job</th> <th>total_salary</th> <th>total_compensation</th>\n",
       "        </tr>\n",
       "    </thead>\n",
       "    <tbody>\n",
       "        <tr>\n",
       "            <td>Manager II            </td> <td>157488      </td> <td>218779            </td>\n",
       "        </tr>\n",
       "        <tr>\n",
       "            <td>Deputy Court Clerk III</td> <td>86109.5     </td> <td>131041            </td>\n",
       "        </tr>\n",
       "        <tr>\n",
       "            <td>Court Reporter        </td> <td>125913      </td> <td>182974            </td>\n",
       "        </tr>\n",
       "        <tr>\n",
       "            <td>Deputy Court Clerk III</td> <td>93742.8     </td> <td>140898            </td>\n",
       "        </tr>\n",
       "        <tr>\n",
       "            <td>Legal Assistant       </td> <td>81164.4     </td> <td>120854            </td>\n",
       "        </tr>\n",
       "    </tbody>\n",
       "</table>\n",
       "<p>... (295 rows omitted)</p>"
      ],
      "text/plain": [
       "<IPython.core.display.HTML object>"
      ]
     },
     "metadata": {},
     "output_type": "display_data"
    }
   ],
   "source": [
    "our_sample = sf.sample(300, with_replacement=False)\n",
    "our_sample.show(5)"
   ]
  },
  {
   "cell_type": "code",
   "execution_count": 22,
   "metadata": {
    "scrolled": true
   },
   "outputs": [
    {
     "data": {
      "text/plain": [
       "140692.56"
      ]
     },
     "execution_count": 22,
     "metadata": {},
     "output_type": "execute_result"
    }
   ],
   "source": [
    "percentile(50, our_sample.column('total_compensation'))"
   ]
  },
  {
   "cell_type": "markdown",
   "metadata": {},
   "source": [
    "Visually compare the distribution of total compensation values for the population and random sample."
   ]
  },
  {
   "cell_type": "code",
   "execution_count": 23,
   "metadata": {},
   "outputs": [
    {
     "data": {
      "image/png": "[encoded data removed]",
      "text/plain": [
       "<Figure size 432x288 with 1 Axes>"
      ]
     },
     "metadata": {},
     "output_type": "display_data"
    }
   ],
   "source": [
    "sf.hist('total_compensation', bins=10)\n",
    "plots.title('Population Distribution');"
   ]
  },
  {
   "cell_type": "code",
   "execution_count": 24,
   "metadata": {
    "scrolled": true
   },
   "outputs": [
    {
     "data": {
      "image/png": "[encoded data removed]",
      "text/plain": [
       "<Figure size 432x288 with 1 Axes>"
      ]
     },
     "metadata": {},
     "output_type": "display_data"
    }
   ],
   "source": [
    "our_sample.hist('total_compensation', bins=10)\n",
    "plots.title('Sample Distribution');"
   ]
  },
  {
   "cell_type": "markdown",
   "metadata": {
    "slideshow": {
     "slide_type": "slide"
    }
   },
   "source": [
    "### Variability of the Estimate"
   ]
  },
  {
   "cell_type": "markdown",
   "metadata": {
    "slideshow": {
     "slide_type": "-"
    }
   },
   "source": [
    "* One sample $\\implies$ One estimate\n",
    "* But the random sample could have come out differently\n",
    "* And so the estimate could have been different\n",
    "* **Big question**: How different would it be if we did it again?\n"
   ]
  },
  {
   "cell_type": "markdown",
   "metadata": {},
   "source": [
    "### Demo: Variability of the Estimate"
   ]
  },
  {
   "cell_type": "markdown",
   "metadata": {},
   "source": [
    "Create a function that samples randomly from the `sf` table and returns the sample median for `total_compensation`."
   ]
  },
  {
   "cell_type": "code",
   "execution_count": 28,
   "metadata": {},
   "outputs": [
    {
     "data": {
      "text/plain": [
       "140653.15"
      ]
     },
     "execution_count": 28,
     "metadata": {},
     "output_type": "execute_result"
    }
   ],
   "source": [
    "def generate_sample_median(samp_size):\n",
    "    our_sample = sf.sample(samp_size, with_replacement=False)\n",
    "    return percentile(50, our_sample.column('total_compensation'))\n",
    "\n",
    "sample_median = generate_sample_median(300)\n",
    "sample_median"
   ]
  },
  {
   "cell_type": "markdown",
   "metadata": {},
   "source": [
    "Compute the error if the sample median is used to estimate the population median for total compensation. Re-run the above function to see how the error varies."
   ]
  },
  {
   "cell_type": "code",
   "execution_count": 29,
   "metadata": {},
   "outputs": [
    {
     "data": {
      "text/plain": [
       "454.44999999998254"
      ]
     },
     "execution_count": 29,
     "metadata": {},
     "output_type": "execute_result"
    }
   ],
   "source": [
    "error = sample_median - pop_median\n",
    "error"
   ]
  },
  {
   "cell_type": "markdown",
   "metadata": {
    "slideshow": {
     "slide_type": "slide"
    }
   },
   "source": [
    "### Quantifying Uncertainty"
   ]
  },
  {
   "cell_type": "markdown",
   "metadata": {
    "slideshow": {
     "slide_type": "-"
    }
   },
   "source": [
    "* The estimate is usually not exactly right: `Estimate = Parameter + Error`\n",
    "* How accurate is the estimate, usually?\n",
    "* How big is a typical error?\n",
    "* When we have a census, we can do this by simulation\n"
   ]
  },
  {
   "cell_type": "markdown",
   "metadata": {},
   "source": [
    "### Demo: Quantifying Uncertainty"
   ]
  },
  {
   "cell_type": "markdown",
   "metadata": {},
   "source": [
    "Generate 1000 random samples of size 300 and calculate the total compensation median for each sample. Store the median values in an array and visualize the sample distribution along with the population mean."
   ]
  },
  {
   "cell_type": "code",
   "execution_count": 30,
   "metadata": {},
   "outputs": [],
   "source": [
    "sample_medians = make_array()\n",
    "\n",
    "for i in np.arange(1000):\n",
    "    new_median = generate_sample_median(300)\n",
    "    sample_medians = np.append(sample_medians, new_median)"
   ]
  },
  {
   "cell_type": "code",
   "execution_count": 31,
   "metadata": {
    "scrolled": true
   },
   "outputs": [
    {
     "data": {
      "image/png": "[encoded data removed]",
      "text/plain": [
       "<Figure size 432x288 with 1 Axes>"
      ]
     },
     "metadata": {},
     "output_type": "display_data"
    }
   ],
   "source": [
    "Table().with_column(\n",
    "    'Sample Medians', sample_medians\n",
    ").hist(bins = 20)\n",
    "\n",
    "plots.scatter(pop_median, 0, color=\"red\", s=60, zorder=3);"
   ]
  },
  {
   "cell_type": "markdown",
   "metadata": {},
   "source": [
    "Visualize the distribution of errors found from using the sample medians to estimate the population median."
   ]
  },
  {
   "cell_type": "code",
   "execution_count": 32,
   "metadata": {
    "scrolled": true
   },
   "outputs": [
    {
     "data": {
      "image/png": "[encoded data removed]",
      "text/plain": [
       "<Figure size 432x288 with 1 Axes>"
      ]
     },
     "metadata": {},
     "output_type": "display_data"
    }
   ],
   "source": [
    "Table().with_column(\n",
    "    'Errors', sample_medians - pop_median\n",
    ").hist(bins=20)\n",
    "\n",
    "plots.scatter(0, 0, color=\"red\", s=60, zorder=3);"
   ]
  },
  {
   "cell_type": "markdown",
   "metadata": {
    "slideshow": {
     "slide_type": "slide"
    }
   },
   "source": [
    "### Where to Get Another Sample?"
   ]
  },
  {
   "cell_type": "markdown",
   "metadata": {
    "slideshow": {
     "slide_type": "-"
    }
   },
   "source": [
    "* We want to understand errors of our estimate\n",
    "* Given the population, we could simulate... but we only have the sample!\n",
    "* To get many values of the estimate, we needed many random samples\n",
    "* We can't go back and sample again from the population:\n",
    "    * No time, no money\n",
    "    * Stuck?\n"
   ]
  },
  {
   "cell_type": "markdown",
   "metadata": {
    "slideshow": {
     "slide_type": "slide"
    }
   },
   "source": [
    "## The Bootstrap"
   ]
  },
  {
   "cell_type": "markdown",
   "metadata": {
    "slideshow": {
     "slide_type": "slide"
    }
   },
   "source": [
    "### The Bootstrap"
   ]
  },
  {
   "cell_type": "markdown",
   "metadata": {
    "slideshow": {
     "slide_type": "-"
    }
   },
   "source": [
    "* A technique for simulating repeated random sampling\n",
    "* All that we have is the original sample... which is large and random\n",
    "* Therefore, it probably resembles the population\n",
    "* So we sample at random from the original sample!"
   ]
  },
  {
   "cell_type": "markdown",
   "metadata": {
    "slideshow": {
     "slide_type": "slide"
    }
   },
   "source": [
    "### Why the Bootstrap Works"
   ]
  },
  {
   "cell_type": "markdown",
   "metadata": {
    "slideshow": {
     "slide_type": "-"
    }
   },
   "source": [
    "All of the resamples look pretty **similar**, most likely.\n",
    "\n",
    "<img src=\"./img/why_the_bootstrap_works.png\" width=90%>"
   ]
  },
  {
   "cell_type": "markdown",
   "metadata": {
    "slideshow": {
     "slide_type": "slide"
    }
   },
   "source": [
    "### Why We Need the Bootstrap"
   ]
  },
  {
   "cell_type": "markdown",
   "metadata": {
    "slideshow": {
     "slide_type": "-"
    }
   },
   "source": [
    "<img src=\"./img/why_we_need_the_bootstrap.png\" width=90%>"
   ]
  },
  {
   "cell_type": "markdown",
   "metadata": {
    "slideshow": {
     "slide_type": "slide"
    }
   },
   "source": [
    "### Real World vs. Bootstrap World"
   ]
  },
  {
   "cell_type": "markdown",
   "metadata": {
    "slideshow": {
     "slide_type": "-"
    }
   },
   "source": [
    "* Real world:\n",
    "    * True probability distribution (population)\n",
    "        * Random sample 1 $\\leadsto$ Estimate 1\n",
    "        * Random sample 2 $\\leadsto$ Estimate 2\n",
    "        * ...\n",
    "        * Random sample 10000 $\\leadsto$ Estimate 10000\n",
    "* Bootstrap world:\n",
    "    * Empirical distribution of original sample (\"population\")\n",
    "        * Bootstrap sample 1 $\\leadsto$ Estimate 1\n",
    "        * Bootstrap sample 2 $\\leadsto$ Estimate 2\n",
    "        * ...\n",
    "        * Bootstrap sample 10000 $\\leadsto$ Estimate 10000\n",
    "        \n",
    "The Hope: these two scenarios are analogous"
   ]
  },
  {
   "cell_type": "markdown",
   "metadata": {
    "slideshow": {
     "slide_type": "slide"
    }
   },
   "source": [
    "### The Bootstrap Principle"
   ]
  },
  {
   "cell_type": "markdown",
   "metadata": {
    "slideshow": {
     "slide_type": "-"
    }
   },
   "source": [
    "* The bootstrap principle: Bootstrap-world sampling $\\approx$ Real-world sampling \n",
    "* Not always true! ... but reasonable if sample is large enough\n",
    "* We hope that the following are similar to what they are in the real world\n",
    "    * Variability of bootstrap estimate\n",
    "    * Distribution of bootstrap errors\n",
    "\n"
   ]
  },
  {
   "cell_type": "markdown",
   "metadata": {
    "slideshow": {
     "slide_type": "slide"
    }
   },
   "source": [
    "### Key to Resampling"
   ]
  },
  {
   "cell_type": "markdown",
   "metadata": {
    "slideshow": {
     "slide_type": "-"
    }
   },
   "source": [
    "* From the original sample,\n",
    "    * draw at random\n",
    "    * with replacement\n",
    "    * as many values as the original sample contained\n",
    "* The size of the new sample has to be the same as the original one, so that the two estimates are comparable\n"
   ]
  },
  {
   "cell_type": "markdown",
   "metadata": {},
   "source": [
    "### Demo: Bootstrap"
   ]
  },
  {
   "cell_type": "markdown",
   "metadata": {},
   "source": [
    "Take a bootstrap (re)sample (**WITH replacement**) of size 300 from the last sf sample."
   ]
  },
  {
   "cell_type": "code",
   "execution_count": 35,
   "metadata": {
    "scrolled": false
   },
   "outputs": [
    {
     "name": "stdout",
     "output_type": "stream",
     "text": [
      "Population Median =        140198.7\n",
      "Our Sample Median =        140653.15\n",
      "Bootstrap Sample Median =  140692.58\n"
     ]
    },
    {
     "data": {
      "image/png": "[encoded data removed]",
      "text/plain": [
       "<Figure size 432x288 with 1 Axes>"
      ]
     },
     "metadata": {},
     "output_type": "display_data"
    }
   ],
   "source": [
    "boot_sample = our_sample.sample(300, with_replacement=True)\n",
    "boot_sample.hist('total_compensation', bins=20)\n",
    "plots.title('Bootstrap sample');\n",
    "\n",
    "print(\"Population Median =       \", pop_median)\n",
    "print(\"Our Sample Median =       \", sample_median)\n",
    "print(\"Bootstrap Sample Median = \", \n",
    "      percentile(50,boot_sample.column('total_compensation')))"
   ]
  },
  {
   "cell_type": "markdown",
   "metadata": {},
   "source": [
    "Explore the distribution of 1000 bootstrap resamples from the one sample in relation to the sample median and population median."
   ]
  },
  {
   "cell_type": "code",
   "execution_count": 37,
   "metadata": {},
   "outputs": [],
   "source": [
    "def one_bootstrap_median():\n",
    "    single_sample = our_sample.sample()\n",
    "    return percentile(50, single_sample.column('total_compensation'))"
   ]
  },
  {
   "cell_type": "code",
   "execution_count": 39,
   "metadata": {},
   "outputs": [],
   "source": [
    "bootstrap_medians = make_array()\n",
    "for i in np.arange(1000):\n",
    "    new_median = one_bootstrap_median()\n",
    "    bootstrap_medians = np.append(bootstrap_medians, new_median)"
   ]
  },
  {
   "cell_type": "code",
   "execution_count": 40,
   "metadata": {},
   "outputs": [
    {
     "data": {
      "image/png": "[encoded data removed]",
      "text/plain": [
       "<Figure size 432x288 with 1 Axes>"
      ]
     },
     "metadata": {},
     "output_type": "display_data"
    }
   ],
   "source": [
    "Table().with_column(\n",
    "    'Bootstrap Medians', bootstrap_medians\n",
    ").hist('Bootstrap Medians', bins=20)\n",
    "\n",
    "plots.scatter(pop_median, 0, color=\"red\", s=60, zorder=3);\n",
    "plots.scatter(sample_median, 0, color=\"blue\", s=60, zorder=3);"
   ]
  },
  {
   "cell_type": "markdown",
   "metadata": {
    "slideshow": {
     "slide_type": "slide"
    }
   },
   "source": [
    "## Confidence Intervals"
   ]
  },
  {
   "cell_type": "markdown",
   "metadata": {
    "slideshow": {
     "slide_type": "slide"
    }
   },
   "source": [
    "### 95% Confidence Interval"
   ]
  },
  {
   "cell_type": "markdown",
   "metadata": {
    "slideshow": {
     "slide_type": "-"
    }
   },
   "source": [
    "* Interval of estimates of a parameter\n",
    "* Based on random sampling\n",
    "* 95% is called the confidence level\n",
    "    * Could be any percent between 0 and 100\n",
    "    * Higher level means wider intervals\n",
    "* The confidence is in the process that gives the interval: It generates a \"good\" interval about 95% of the time."
   ]
  },
  {
   "cell_type": "markdown",
   "metadata": {},
   "source": [
    "### Demo: Confidence Intervals"
   ]
  },
  {
   "cell_type": "markdown",
   "metadata": {},
   "source": [
    "Make an interval based on the middle 95% of bootstrap samples."
   ]
  },
  {
   "cell_type": "code",
   "execution_count": 41,
   "metadata": {
    "scrolled": true
   },
   "outputs": [
    {
     "data": {
      "image/png": "[encoded data removed]",
      "text/plain": [
       "<Figure size 432x288 with 1 Axes>"
      ]
     },
     "metadata": {},
     "output_type": "display_data"
    }
   ],
   "source": [
    "left = percentile(2.5, bootstrap_medians)\n",
    "right = percentile(97.5, bootstrap_medians)\n",
    "\n",
    "Table().with_column(\n",
    "    'Bootstrap Medians', bootstrap_medians\n",
    ").hist('Bootstrap Medians', bins=20)\n",
    "\n",
    "plots.plot([left, right], [0,0], color=\"gold\",lw=6, zorder=3);\n",
    "plots.scatter(pop_median, 0, color=\"red\", s=60, zorder=4);\n",
    "plots.scatter(sample_median, 0, color=\"blue\", s=60, zorder=4);"
   ]
  },
  {
   "cell_type": "markdown",
   "metadata": {
    "slideshow": {
     "slide_type": "slide"
    }
   },
   "source": [
    "### Visualizing Confidence"
   ]
  },
  {
   "cell_type": "markdown",
   "metadata": {
    "slideshow": {
     "slide_type": "-"
    }
   },
   "source": [
    "* Each yellow line in the visual represents a confidence interval from a fresh sample from the population.\n",
    "* The red line marks the parameter being estimated by the intervals.\n",
    "* Approximately 95% of the yellow lines intersect the red line.\n",
    "\n",
    "<img src=\"./img/visualizing_confidence.png\" width=40%>"
   ]
  },
  {
   "cell_type": "markdown",
   "metadata": {},
   "source": [
    "A similar tool to help visualize the meaning of a confidence interval: [Interpreting Confidence Intervals](https://rpsychologist.com/d3/ci/)"
   ]
  },
  {
   "cell_type": "markdown",
   "metadata": {
    "slideshow": {
     "slide_type": "notes"
    }
   },
   "source": [
    "<footer>\n",
    "    <hr>\n",
    "    <p>Adopted from UC Berkeley DATA 8 course materials.</p>\n",
    "    <p>This content is offered under a <a href=\"https://creativecommons.org/licenses/by-nc-sa/4.0/\">CC Attribution Non-Commercial Share Alike</a> license.</p>\n",
    "</footer>"
   ]
  }
 ],
 "metadata": {
  "kernelspec": {
   "display_name": "Python 3 (ipykernel)",
   "language": "python",
   "name": "python3"
  },
  "language_info": {
   "codemirror_mode": {
    "name": "ipython",
    "version": 3
   },
   "file_extension": ".py",
   "mimetype": "text/x-python",
   "name": "python",
   "nbconvert_exporter": "python",
   "pygments_lexer": "ipython3",
   "version": "3.9.9"
  },
  "toc": {
   "base_numbering": 1,
   "nav_menu": {},
   "number_sections": false,
   "sideBar": true,
   "skip_h1_title": false,
   "title_cell": "Table of Contents",
   "title_sidebar": "Contents",
   "toc_cell": true,
   "toc_position": {
    "height": "calc(100% - 180px)",
    "left": "10px",
    "top": "150px",
    "width": "231.797px"
   },
   "toc_section_display": false,
   "toc_window_display": false
  }
 },
 "nbformat": 4,
 "nbformat_minor": 2
}
