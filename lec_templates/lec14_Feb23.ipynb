{
 "cells": [
  {
   "cell_type": "markdown",
   "metadata": {
    "slideshow": {
     "slide_type": "slide"
    }
   },
   "source": [
    "<div style=\"width: 38.5%;\">\n",
    "    <p><strong>City College of San Francisco</strong><p>\n",
    "    <hr>\n",
    "    <p>MATH 108 - Foundations of Data Science</p>\n",
    "</div>"
   ]
  },
  {
   "cell_type": "markdown",
   "metadata": {
    "slideshow": {
     "slide_type": "-"
    }
   },
   "source": [
    "# Lecture 14: Chance and Probability"
   ]
  },
  {
   "cell_type": "markdown",
   "metadata": {
    "slideshow": {
     "slide_type": "-"
    }
   },
   "source": [
    "Associated Textbook Sections: [9.4, 9.5](https://inferentialthinking.com/chapters/09/4/Monty_Hall_Problem.html)"
   ]
  },
  {
   "cell_type": "markdown",
   "metadata": {
    "slideshow": {
     "slide_type": "slide"
    }
   },
   "source": [
    "<h2>Set Up the Notebook<h2>"
   ]
  },
  {
   "cell_type": "code",
   "execution_count": 1,
   "metadata": {
    "slideshow": {
     "slide_type": "-"
    }
   },
   "outputs": [],
   "source": [
    "from datascience import *\n",
    "import numpy as np\n",
    "%matplotlib inline\n",
    "import matplotlib.pyplot as plots\n",
    "plots.style.use('fivethirtyeight')"
   ]
  },
  {
   "cell_type": "markdown",
   "metadata": {
    "slideshow": {
     "slide_type": "notes"
    },
    "toc": true
   },
   "source": [
    "<h1>Table of Contents<span class=\"tocSkip\"></span></h1>\n",
    "<div class=\"toc\"><ul class=\"toc-item\"><li><span><a href=\"#Lecture-14:-Chance-and-Probability\" data-toc-modified-id=\"Lecture-14:-Chance-and-Probability-1\">Lecture 14: Chance and Probability</a></span><ul class=\"toc-item\"><li><span><a href=\"#Set-Up-the-Notebook\" data-toc-modified-id=\"Set-Up-the-Notebook-1.1\">Set Up the Notebook</a></span></li><li><span><a href=\"#\" data-toc-modified-id=\"-1.2\"></a></span></li><li><span><a href=\"#The-Monty-Hall-Problem\" data-toc-modified-id=\"The-Monty-Hall-Problem-1.3\">The Monty Hall Problem</a></span><ul class=\"toc-item\"><li><span><a href=\"#Monty-Hall-Problem\" data-toc-modified-id=\"Monty-Hall-Problem-1.3.1\">Monty Hall Problem</a></span></li><li><span><a href=\"#Demo:-Monty-Hall\" data-toc-modified-id=\"Demo:-Monty-Hall-1.3.2\">Demo: Monty Hall</a></span></li></ul></li><li><span><a href=\"#Probability\" data-toc-modified-id=\"Probability-1.4\">Probability</a></span><ul class=\"toc-item\"><li><span><a href=\"#Basics\" data-toc-modified-id=\"Basics-1.4.1\">Basics</a></span></li><li><span><a href=\"#Equally-Likely-Outcomes\" data-toc-modified-id=\"Equally-Likely-Outcomes-1.4.2\">Equally Likely Outcomes</a></span></li><li><span><a href=\"#A-Question\" data-toc-modified-id=\"A-Question-1.4.3\">A Question</a></span></li><li><span><a href=\"#An-Interpretation\" data-toc-modified-id=\"An-Interpretation-1.4.4\">An Interpretation</a></span></li><li><span><a href=\"#Multiplication-Rule\" data-toc-modified-id=\"Multiplication-Rule-1.4.5\">Multiplication Rule</a></span></li><li><span><a href=\"#Another-Question\" data-toc-modified-id=\"Another-Question-1.4.6\">Another Question</a></span></li><li><span><a href=\"#Demo:-Addition-Rule\" data-toc-modified-id=\"Demo:-Addition-Rule-1.4.7\">Demo: Addition Rule</a></span></li><li><span><a href=\"#Addition-Rule\" data-toc-modified-id=\"Addition-Rule-1.4.8\">Addition Rule</a></span></li><li><span><a href=\"#Complement:-At-Least-...\" data-toc-modified-id=\"Complement:-At-Least-...-1.4.9\">Complement: At Least ...</a></span></li></ul></li></ul></li></ul></div>"
   ]
  },
  {
   "cell_type": "markdown",
   "metadata": {
    "slideshow": {
     "slide_type": "slide"
    }
   },
   "source": [
    "## The Monty Hall Problem"
   ]
  },
  {
   "cell_type": "markdown",
   "metadata": {
    "slideshow": {
     "slide_type": "slide"
    }
   },
   "source": [
    "### Monty Hall Problem"
   ]
  },
  {
   "cell_type": "markdown",
   "metadata": {
    "slideshow": {
     "slide_type": "-"
    }
   },
   "source": [
    "* There are 3 closed doors.\n",
    "* One door has a prize and two doors have what is consider not to be a prize.\n",
    "* The contestant selects a door.\n",
    "* The host reveals what is behind the remaining door that has not be selected without the prize.\n",
    "* The contestant has the chance to change doors.\n",
    "* Are the contestant's chance of winning improved by switching doors?\n",
    "<img src=\"./img/Monty_open_door.png\" width = 40%>"
   ]
  },
  {
   "cell_type": "markdown",
   "metadata": {
    "slideshow": {
     "slide_type": "notes"
    }
   },
   "source": [
    "Image Source: [Wikipedia - Monty Hall Problem](https://en.wikipedia.org/wiki/Monty_Hall_problem)"
   ]
  },
  {
   "cell_type": "markdown",
   "metadata": {
    "slideshow": {
     "slide_type": "slide"
    }
   },
   "source": [
    "### Demo: Monty Hall"
   ]
  },
  {
   "cell_type": "markdown",
   "metadata": {
    "slideshow": {
     "slide_type": "slide"
    }
   },
   "source": [
    "Create a simulation of the Monty Hall game."
   ]
  },
  {
   "cell_type": "code",
   "execution_count": 2,
   "metadata": {
    "slideshow": {
     "slide_type": "fragment"
    }
   },
   "outputs": [],
   "source": [
    "doors = make_array('car', 'first goat', 'second goat')"
   ]
  },
  {
   "cell_type": "code",
   "execution_count": 3,
   "metadata": {
    "slideshow": {
     "slide_type": "fragment"
    }
   },
   "outputs": [],
   "source": [
    "goats = make_array('first goat', 'second goat')\n",
    "\n",
    "def other_goat(a_goat):\n",
    "    if a_goat == 'first goat':\n",
    "        return 'second goat'\n",
    "    elif a_goat == 'second goat':\n",
    "        return 'first goat'\n"
   ]
  },
  {
   "cell_type": "code",
   "execution_count": 4,
   "metadata": {
    "slideshow": {
     "slide_type": "fragment"
    }
   },
   "outputs": [
    {
     "data": {
      "text/plain": [
       "'second goat'"
      ]
     },
     "execution_count": 4,
     "metadata": {},
     "output_type": "execute_result"
    }
   ],
   "source": [
    "other_goat('first goat')"
   ]
  },
  {
   "cell_type": "code",
   "execution_count": 5,
   "metadata": {
    "slideshow": {
     "slide_type": "fragment"
    }
   },
   "outputs": [],
   "source": [
    "def monty_hall():\n",
    "    \n",
    "    contestant_choice = np.random.choice(doors)\n",
    "    \n",
    "    if contestant_choice == 'first goat':\n",
    "        monty_choice = 'second goat'\n",
    "        remaining_door = 'car'\n",
    "        \n",
    "    elif contestant_choice == 'second goat':\n",
    "        monty_choice = 'first goat'\n",
    "        remaining_door = 'car'\n",
    "        \n",
    "    elif contestant_choice == 'car':\n",
    "        monty_choice = np.random.choice(goats)\n",
    "        remaining_door = other_goat(monty_choice)\n",
    "        \n",
    "    return [contestant_choice, monty_choice, remaining_door]"
   ]
  },
  {
   "cell_type": "code",
   "execution_count": 7,
   "metadata": {
    "slideshow": {
     "slide_type": "fragment"
    }
   },
   "outputs": [
    {
     "data": {
      "text/plain": [
       "['car', 'second goat', 'first goat']"
      ]
     },
     "execution_count": 7,
     "metadata": {},
     "output_type": "execute_result"
    }
   ],
   "source": [
    "monty_hall()"
   ]
  },
  {
   "cell_type": "markdown",
   "metadata": {
    "slideshow": {
     "slide_type": "slide"
    }
   },
   "source": [
    "Store the results of several random simulations of the Monty Hall game in a Table."
   ]
  },
  {
   "cell_type": "code",
   "execution_count": 8,
   "metadata": {
    "slideshow": {
     "slide_type": "fragment"
    }
   },
   "outputs": [],
   "source": [
    "games = Table(['Guess', 'Revealed', 'Remaining'])"
   ]
  },
  {
   "cell_type": "code",
   "execution_count": 12,
   "metadata": {
    "slideshow": {
     "slide_type": "fragment"
    }
   },
   "outputs": [
    {
     "data": {
      "text/html": [
       "<table border=\"1\" class=\"dataframe\">\n",
       "    <thead>\n",
       "        <tr>\n",
       "            <th>Guess</th> <th>Revealed</th> <th>Remaining</th>\n",
       "        </tr>\n",
       "    </thead>\n",
       "    <tbody>\n",
       "        <tr>\n",
       "            <td>first goat </td> <td>second goat</td> <td>car        </td>\n",
       "        </tr>\n",
       "        <tr>\n",
       "            <td>first goat </td> <td>second goat</td> <td>car        </td>\n",
       "        </tr>\n",
       "        <tr>\n",
       "            <td>second goat</td> <td>first goat </td> <td>car        </td>\n",
       "        </tr>\n",
       "        <tr>\n",
       "            <td>car        </td> <td>first goat </td> <td>second goat</td>\n",
       "        </tr>\n",
       "    </tbody>\n",
       "</table>"
      ],
      "text/plain": [
       "Guess       | Revealed    | Remaining\n",
       "first goat  | second goat | car\n",
       "first goat  | second goat | car\n",
       "second goat | first goat  | car\n",
       "car         | first goat  | second goat"
      ]
     },
     "execution_count": 12,
     "metadata": {},
     "output_type": "execute_result"
    }
   ],
   "source": [
    "games.append(monty_hall())"
   ]
  },
  {
   "cell_type": "code",
   "execution_count": 13,
   "metadata": {
    "scrolled": false,
    "slideshow": {
     "slide_type": "fragment"
    }
   },
   "outputs": [
    {
     "data": {
      "text/html": [
       "<table border=\"1\" class=\"dataframe\">\n",
       "    <thead>\n",
       "        <tr>\n",
       "            <th>Guess</th> <th>Revealed</th> <th>Remaining</th>\n",
       "        </tr>\n",
       "    </thead>\n",
       "    <tbody>\n",
       "        <tr>\n",
       "            <td>first goat </td> <td>second goat</td> <td>car       </td>\n",
       "        </tr>\n",
       "        <tr>\n",
       "            <td>car        </td> <td>second goat</td> <td>first goat</td>\n",
       "        </tr>\n",
       "        <tr>\n",
       "            <td>second goat</td> <td>first goat </td> <td>car       </td>\n",
       "        </tr>\n",
       "        <tr>\n",
       "            <td>first goat </td> <td>second goat</td> <td>car       </td>\n",
       "        </tr>\n",
       "        <tr>\n",
       "            <td>first goat </td> <td>second goat</td> <td>car       </td>\n",
       "        </tr>\n",
       "        <tr>\n",
       "            <td>car        </td> <td>second goat</td> <td>first goat</td>\n",
       "        </tr>\n",
       "        <tr>\n",
       "            <td>first goat </td> <td>second goat</td> <td>car       </td>\n",
       "        </tr>\n",
       "        <tr>\n",
       "            <td>second goat</td> <td>first goat </td> <td>car       </td>\n",
       "        </tr>\n",
       "        <tr>\n",
       "            <td>second goat</td> <td>first goat </td> <td>car       </td>\n",
       "        </tr>\n",
       "        <tr>\n",
       "            <td>car        </td> <td>second goat</td> <td>first goat</td>\n",
       "        </tr>\n",
       "    </tbody>\n",
       "</table>\n",
       "<p>... (2990 rows omitted)</p>"
      ],
      "text/plain": [
       "Guess       | Revealed    | Remaining\n",
       "first goat  | second goat | car\n",
       "car         | second goat | first goat\n",
       "second goat | first goat  | car\n",
       "first goat  | second goat | car\n",
       "first goat  | second goat | car\n",
       "car         | second goat | first goat\n",
       "first goat  | second goat | car\n",
       "second goat | first goat  | car\n",
       "second goat | first goat  | car\n",
       "car         | second goat | first goat\n",
       "... (2990 rows omitted)"
      ]
     },
     "execution_count": 13,
     "metadata": {},
     "output_type": "execute_result"
    }
   ],
   "source": [
    "games = Table(['Guess', 'Revealed', 'Remaining'])\n",
    "for i in range(3000):\n",
    "    games.append(monty_hall())\n",
    "    \n",
    "games"
   ]
  },
  {
   "cell_type": "markdown",
   "metadata": {
    "slideshow": {
     "slide_type": "slide"
    }
   },
   "source": [
    "Determine the proportion of times that the player would have won if they switched doors."
   ]
  },
  {
   "cell_type": "code",
   "execution_count": 14,
   "metadata": {},
   "outputs": [
    {
     "data": {
      "text/plain": [
       "0.6713333333333333"
      ]
     },
     "execution_count": 14,
     "metadata": {},
     "output_type": "execute_result"
    }
   ],
   "source": [
    "games.where(\"Remaining\", are.containing(\"car\")).num_rows/games.num_rows"
   ]
  },
  {
   "cell_type": "markdown",
   "metadata": {
    "slideshow": {
     "slide_type": "slide"
    }
   },
   "source": [
    "## Probability"
   ]
  },
  {
   "cell_type": "markdown",
   "metadata": {
    "slideshow": {
     "slide_type": "slide"
    }
   },
   "source": [
    "### Basics"
   ]
  },
  {
   "cell_type": "markdown",
   "metadata": {
    "slideshow": {
     "slide_type": "-"
    }
   },
   "source": [
    "* Lowest value: 0 (or 0%) --- Chance of event that is impossible.\n",
    "* Highest value: 1 (or 100%) --- Chance of event that is certain.\n",
    "* Complement: If an event has chance 70%, then the chance that it doesn’t happen is:\n",
    "    * 100% - 70% = 30%\n",
    "    * 1 - 0.7 = 0.3\n"
   ]
  },
  {
   "cell_type": "markdown",
   "metadata": {
    "slideshow": {
     "slide_type": "slide"
    }
   },
   "source": [
    "### Equally Likely Outcomes"
   ]
  },
  {
   "cell_type": "markdown",
   "metadata": {
    "slideshow": {
     "slide_type": "-"
    }
   },
   "source": [
    "Assuming all outcomes are equally likely, the chance of an event $A$ is:\n",
    "                \n",
    "$$P(A) = \\frac{\\text{number of outcomes that make $A$ happen}}{\\text{total number of outcomes}}$$\n",
    "                             \n"
   ]
  },
  {
   "cell_type": "markdown",
   "metadata": {
    "slideshow": {
     "slide_type": "slide"
    }
   },
   "source": [
    "### A Question"
   ]
  },
  {
   "cell_type": "markdown",
   "metadata": {
    "slideshow": {
     "slide_type": "-"
    }
   },
   "source": [
    "* Set Up:\n",
    "    * There are three cards: ace of hearts, king of diamonds, and queen of spades.\n",
    "    * The cards are shuffled and two cards are drawn at random without replacement.\n",
    "* What is the chance that I get the Queen followed by the King?"
   ]
  },
  {
   "cell_type": "code",
   "execution_count": 16,
   "metadata": {
    "slideshow": {
     "slide_type": "fragment"
    }
   },
   "outputs": [
    {
     "data": {
      "text/plain": [
       "0.16666666666666666"
      ]
     },
     "execution_count": 16,
     "metadata": {},
     "output_type": "execute_result"
    }
   ],
   "source": [
    "prob_QK = 1/6\n",
    "#only options are: AK, AQ, KQ, KA, QK, QA\n",
    "\n",
    "# put another way:\n",
    "#prob_QK = (1/3) * (1/2)\n",
    "prob_QK"
   ]
  },
  {
   "cell_type": "markdown",
   "metadata": {
    "slideshow": {
     "slide_type": "slide"
    }
   },
   "source": [
    "### An Interpretation"
   ]
  },
  {
   "cell_type": "markdown",
   "metadata": {
    "slideshow": {
     "slide_type": "-"
    }
   },
   "source": [
    "[One way](https://en.wikipedia.org/wiki/Frequentist_probability) to interpret that there is an approximately 16.67% chance of selecting a Queen followed by a King is to say that if the situation was repeated many many times, the calculated proportion of Queen-King outcomes narrows in on the value of 0.1667."
   ]
  },
  {
   "cell_type": "code",
   "execution_count": 19,
   "metadata": {
    "slideshow": {
     "slide_type": "fragment"
    }
   },
   "outputs": [
    {
     "data": {
      "image/png": "[encoded data removed]",
      "text/plain": [
       "<Figure size 432x432 with 1 Axes>"
      ]
     },
     "metadata": {},
     "output_type": "display_data"
    }
   ],
   "source": [
    "# Simulation parameters\n",
    "cards = ['A', 'K', 'Q']\n",
    "max_reps = 2500\n",
    "steps = 25\n",
    "successes = make_array()\n",
    "\n",
    "# Simulate the situation -- Takes a few seconds to run\n",
    "for reps in np.arange(steps, max_reps + 1, steps):\n",
    "    outcomes = make_array()\n",
    "    for _ in np.arange(reps):\n",
    "        random_outcome = np.random.choice(cards, 2, replace=False)\n",
    "        first_card = random_outcome.item(0)\n",
    "        second_card = random_outcome.item(1)\n",
    "        if first_card == 'Q' and second_card == 'K':\n",
    "            outcomes = np.append(outcomes, True)\n",
    "        else:\n",
    "            outcomes = np.append(outcomes, False)\n",
    "    successes = np.append(successes, sum(outcomes) / reps)\n",
    "\n",
    "# Visualize the Results\n",
    "Table().with_columns('Repetitions', np.arange(steps, max_reps + 1, steps),\n",
    "                     'Queen-King Proportion', successes).plot('Repetitions')\n",
    "plots.plot([0, max_reps], [0.167, 0.167], 'r--', linewidth=1, zorder=-1)\n",
    "plots.ylim(0, 0.4)\n",
    "plots.show()"
   ]
  },
  {
   "cell_type": "markdown",
   "metadata": {
    "slideshow": {
     "slide_type": "slide"
    }
   },
   "source": [
    "### Multiplication Rule"
   ]
  },
  {
   "cell_type": "markdown",
   "metadata": {
    "slideshow": {
     "slide_type": "-"
    }
   },
   "source": [
    "* Chance that two events $A$ and $B$ both happen is $P(\\text{$A$ happens}) \\times P(\\text{$B$ happens given that $A$ has happened})$\n",
    "* The answer is less than or equal to each of the two chances being multiplied\n",
    "* The more conditions you have to satisfy, the less likely you are to satisfy them all\n"
   ]
  },
  {
   "cell_type": "markdown",
   "metadata": {
    "slideshow": {
     "slide_type": "slide"
    }
   },
   "source": [
    "### Another Question"
   ]
  },
  {
   "cell_type": "markdown",
   "metadata": {
    "slideshow": {
     "slide_type": "-"
    }
   },
   "source": [
    "* Set up:\n",
    "    * There are three cards: ace of hearts, king of diamonds, and queen of spades.\n",
    "    * The cards are shuffled and two cards are drawn at random without replacement.\n",
    "* What is the chance that one of the cards I draw is a King and the other is Queen?\n"
   ]
  },
  {
   "cell_type": "markdown",
   "metadata": {
    "slideshow": {
     "slide_type": "slide"
    }
   },
   "source": [
    "### Demo: Addition Rule"
   ]
  },
  {
   "cell_type": "code",
   "execution_count": 20,
   "metadata": {
    "scrolled": true,
    "slideshow": {
     "slide_type": "fragment"
    }
   },
   "outputs": [
    {
     "data": {
      "text/html": [
       "<table border=\"1\" class=\"dataframe\">\n",
       "    <thead>\n",
       "        <tr>\n",
       "            <th>First Card</th> <th>First Card Chance</th> <th>Second Card</th> <th>Second Card Chance</th> <th>Outcome</th> <th>Outcome Chance</th>\n",
       "        </tr>\n",
       "    </thead>\n",
       "    <tbody>\n",
       "        <tr>\n",
       "            <td>A         </td> <td>0.333333         </td> <td>K          </td> <td>0.5               </td> <td>AK     </td> <td>0.166667      </td>\n",
       "        </tr>\n",
       "        <tr>\n",
       "            <td>A         </td> <td>0.333333         </td> <td>Q          </td> <td>0.5               </td> <td>AQ     </td> <td>0.166667      </td>\n",
       "        </tr>\n",
       "        <tr>\n",
       "            <td>K         </td> <td>0.333333         </td> <td>Q          </td> <td>0.5               </td> <td>KQ     </td> <td>0.166667      </td>\n",
       "        </tr>\n",
       "        <tr>\n",
       "            <td>K         </td> <td>0.333333         </td> <td>A          </td> <td>0.5               </td> <td>KA     </td> <td>0.166667      </td>\n",
       "        </tr>\n",
       "        <tr>\n",
       "            <td>Q         </td> <td>0.333333         </td> <td>A          </td> <td>0.5               </td> <td>QA     </td> <td>0.166667      </td>\n",
       "        </tr>\n",
       "        <tr>\n",
       "            <td>Q         </td> <td>0.333333         </td> <td>K          </td> <td>0.5               </td> <td>QK     </td> <td>0.166667      </td>\n",
       "        </tr>\n",
       "    </tbody>\n",
       "</table>"
      ],
      "text/plain": [
       "First Card | First Card Chance | Second Card | Second Card Chance | Outcome | Outcome Chance\n",
       "A          | 0.333333          | K           | 0.5                | AK      | 0.166667\n",
       "A          | 0.333333          | Q           | 0.5                | AQ      | 0.166667\n",
       "K          | 0.333333          | Q           | 0.5                | KQ      | 0.166667\n",
       "K          | 0.333333          | A           | 0.5                | KA      | 0.166667\n",
       "Q          | 0.333333          | A           | 0.5                | QA      | 0.166667\n",
       "Q          | 0.333333          | K           | 0.5                | QK      | 0.166667"
      ]
     },
     "execution_count": 20,
     "metadata": {},
     "output_type": "execute_result"
    }
   ],
   "source": [
    "outcomes = make_array('AK', 'AQ', 'KQ', 'KA', 'QA', 'QK')\n",
    "first_card = make_array('A', 'A', 'K', 'K', 'Q', 'Q')\n",
    "second_card = make_array('K', 'Q', 'Q', 'A', 'A', 'K')\n",
    "Table().with_columns('First Card', first_card,\n",
    "                     'First Card Chance', np.ones(6) / 3,\n",
    "                     'Second Card', second_card,\n",
    "                     'Second Card Chance', np.ones(6) / 2,\n",
    "                     'Outcome', outcomes,\n",
    "                     'Outcome Chance', np.ones(6) / 6\n",
    "                    )"
   ]
  },
  {
   "cell_type": "markdown",
   "metadata": {
    "slideshow": {
     "slide_type": "slide"
    }
   },
   "source": [
    "Notice that there are two rows (possibilities) with the outcome of interest."
   ]
  },
  {
   "cell_type": "code",
   "execution_count": 22,
   "metadata": {
    "slideshow": {
     "slide_type": "fragment"
    }
   },
   "outputs": [
    {
     "name": "stdout",
     "output_type": "stream",
     "text": [
      "0.333334\n"
     ]
    },
    {
     "data": {
      "text/plain": [
       "0.3333333333333333"
      ]
     },
     "execution_count": 22,
     "metadata": {},
     "output_type": "execute_result"
    }
   ],
   "source": [
    "# from above table:\n",
    "print(0.166667 + 0.166667)\n",
    "\n",
    "# calculating two options like in earlier example:\n",
    "prob_KQ_QK = (1/3) * (1/2) + (1/3) * (1/2)\n",
    "prob_KQ_QK"
   ]
  },
  {
   "cell_type": "markdown",
   "metadata": {
    "slideshow": {
     "slide_type": "slide"
    }
   },
   "source": [
    "### Addition Rule"
   ]
  },
  {
   "cell_type": "markdown",
   "metadata": {
    "slideshow": {
     "slide_type": "-"
    }
   },
   "source": [
    "* If event $A$ can happen in exactly one of two ways, then $P(A)  =   P(\\text{first way})  +  P(\\text{second way})$\n",
    "* The answer is greater than or equal to the chance of each individual way"
   ]
  },
  {
   "cell_type": "markdown",
   "metadata": {
    "slideshow": {
     "slide_type": "slide"
    }
   },
   "source": [
    "### Complement: At Least ..."
   ]
  },
  {
   "cell_type": "markdown",
   "metadata": {
    "slideshow": {
     "slide_type": "-"
    }
   },
   "source": [
    "What is the chance of getting at least one head in a certain number of flips of a fair coin?\n",
    "* In 3 tosses:\n",
    "    At least one head means any outcome except $TTT$\n",
    "    * $P(TTT)  =  (1/2) \\times (1/2) \\times (1/2)  =  (1/2)^{3}$\n",
    "    * $P(\\text{at least one head}) = 1 - P(TTT) = 1 - (1/2)^{3} = 87.5\\% $                                           \n",
    "* In 10 tosses: $P(\\text{at least one head}) = 1 - (1/2)^{10} \\approx 99.9\\%$\n"
   ]
  },
  {
   "cell_type": "code",
   "execution_count": 23,
   "metadata": {
    "slideshow": {
     "slide_type": "fragment"
    }
   },
   "outputs": [
    {
     "data": {
      "text/plain": [
       "0.9990234375"
      ]
     },
     "execution_count": 23,
     "metadata": {},
     "output_type": "execute_result"
    }
   ],
   "source": [
    "prob_at_least_one_head_in_ten = 1 - (1/2) ** 10\n",
    "prob_at_least_one_head_in_ten "
   ]
  },
  {
   "cell_type": "markdown",
   "metadata": {
    "slideshow": {
     "slide_type": "notes"
    }
   },
   "source": [
    "<footer>\n",
    "    <hr>\n",
    "    <p>Adopted from UC Berkeley DATA 8 course materials.</p>\n",
    "    <p>This content is offered under a <a href=\"https://creativecommons.org/licenses/by-nc-sa/4.0/\">CC Attribution Non-Commercial Share Alike</a> license.</p>\n",
    "</footer>"
   ]
  }
 ],
 "metadata": {
  "kernelspec": {
   "display_name": "Python 3 (ipykernel)",
   "language": "python",
   "name": "python3"
  },
  "language_info": {
   "codemirror_mode": {
    "name": "ipython",
    "version": 3
   },
   "file_extension": ".py",
   "mimetype": "text/x-python",
   "name": "python",
   "nbconvert_exporter": "python",
   "pygments_lexer": "ipython3",
   "version": "3.9.9"
  },
  "toc": {
   "base_numbering": 1,
   "nav_menu": {},
   "number_sections": false,
   "sideBar": true,
   "skip_h1_title": false,
   "title_cell": "Table of Contents",
   "title_sidebar": "Contents",
   "toc_cell": true,
   "toc_position": {
    "height": "calc(100% - 180px)",
    "left": "10px",
    "top": "150px",
    "width": "231.797px"
   },
   "toc_section_display": false,
   "toc_window_display": false
  }
 },
 "nbformat": 4,
 "nbformat_minor": 2
}
