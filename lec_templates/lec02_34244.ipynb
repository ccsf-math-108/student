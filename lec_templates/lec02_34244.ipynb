{
 "cells": [
  {
   "cell_type": "markdown",
   "metadata": {
    "slideshow": {
     "slide_type": "slide"
    }
   },
   "source": [
    "<div style=\"width: 38.5%;\">\n",
    "    <p><strong>City College of San Francisco</strong><p>\n",
    "    <hr>\n",
    "    <p>MATH 108 - Foundations of Data Science</p>\n",
    "</div>"
   ]
  },
  {
   "cell_type": "markdown",
   "metadata": {
    "slideshow": {
     "slide_type": "-"
    }
   },
   "source": [
    "<h1>Lecture 02: Cause and Effect</h1>"
   ]
  },
  {
   "cell_type": "markdown",
   "metadata": {
    "slideshow": {
     "slide_type": "-"
    }
   },
   "source": [
    "Associated Textbook Sections: [2.0, 2.1, 2.2, 2.3. 2.4, 2.5](https://inferentialthinking.com/chapters/02/causality-and-experiments.html)"
   ]
  },
  {
   "cell_type": "markdown",
   "metadata": {
    "slideshow": {
     "slide_type": "slide"
    }
   },
   "source": [
    "<h2>Set Up the Notebook<h2>"
   ]
  },
  {
   "cell_type": "code",
   "execution_count": 2,
   "metadata": {
    "slideshow": {
     "slide_type": "-"
    }
   },
   "outputs": [],
   "source": [
    "from datascience import *\n",
    "import numpy as np\n",
    "from IPython.display import IFrame"
   ]
  },
  {
   "cell_type": "markdown",
   "metadata": {
    "slideshow": {
     "slide_type": "notes"
    },
    "toc": true
   },
   "source": [
    "<h1>Table of Contents<span class=\"tocSkip\"></span></h1>\n",
    "<div class=\"toc\"><ul class=\"toc-item\"><li><span><a href=\"#Lecture-02:-Cause-and-Effect\" data-toc-modified-id=\"Lecture-02:-Cause-and-Effect-1\">Lecture 02: Cause and Effect</a></span><ul class=\"toc-item\"><li><span><a href=\"#Set-Up-the-Notebook\" data-toc-modified-id=\"Set-Up-the-Notebook-1.1\">Set Up the Notebook</a></span></li><li><span><a href=\"#\" data-toc-modified-id=\"-1.2\"></a></span></li><li><span><a href=\"#Associations\" data-toc-modified-id=\"Associations-1.3\">Associations</a></span><ul class=\"toc-item\"><li><span><a href=\"#A-Link-Between-Coffee-Consumption-and-Health-Benefits\" data-toc-modified-id=\"A-Link-Between-Coffee-Consumption-and-Health-Benefits-1.3.1\">A Link Between Coffee Consumption and Health Benefits</a></span></li><li><span><a href=\"#A-Link-Between-Chocolate-Consumption-and-Heart-Health\" data-toc-modified-id=\"A-Link-Between-Chocolate-Consumption-and-Heart-Health-1.3.2\">A Link Between Chocolate Consumption and Heart Health</a></span></li><li><span><a href=\"#Study-Observations\" data-toc-modified-id=\"Study-Observations-1.3.3\">Study Observations</a></span></li><li><span><a href=\"#An-Initial-Question\" data-toc-modified-id=\"An-Initial-Question-1.3.4\">An Initial Question</a></span></li><li><span><a href=\"#An-Answer\" data-toc-modified-id=\"An-Answer-1.3.5\">An Answer</a></span></li><li><span><a href=\"#A-Follow-Up-Question\" data-toc-modified-id=\"A-Follow-Up-Question-1.3.6\">A Follow Up Question</a></span></li></ul></li><li><span><a href=\"#The-(Documented)-Development-of-the-Double-Blind-Experiment\" data-toc-modified-id=\"The-(Documented)-Development-of-the-Double-Blind-Experiment-1.4\">The (Documented) Development of the Double Blind Experiment</a></span><ul class=\"toc-item\"><li><span><a href=\"#London,-Early-1850’s\" data-toc-modified-id=\"London,-Early-1850’s-1.4.1\">London, Early 1850’s</a></span></li><li><span><a href=\"#Miasmas,-Miasmatism,-Miasmatists\" data-toc-modified-id=\"Miasmas,-Miasmatism,-Miasmatists-1.4.2\">Miasmas, Miasmatism, Miasmatists</a></span></li><li><span><a href=\"#John-Snow,-1813-1858\" data-toc-modified-id=\"John-Snow,-1813-1858-1.4.3\">John Snow, 1813-1858</a></span></li><li><span><a href=\"#Cholera-Map\" data-toc-modified-id=\"Cholera-Map-1.4.4\">Cholera Map</a></span></li></ul></li><li><span><a href=\"#Causation\" data-toc-modified-id=\"Causation-1.5\">Causation</a></span><ul class=\"toc-item\"><li><span><a href=\"#London-Water-Supply-Service-Regions\" data-toc-modified-id=\"London-Water-Supply-Service-Regions-1.5.1\">London Water Supply Service Regions</a></span></li><li><span><a href=\"#Comparison\" data-toc-modified-id=\"Comparison-1.5.2\">Comparison</a></span></li><li><span><a href=\"#Snow’s-“Grand-Experiment”-...-Study\" data-toc-modified-id=\"Snow’s-“Grand-Experiment”-...-Study-1.5.3\">Snow’s “Grand Experiment” ... Study</a></span></li><li><span><a href=\"#Snow's-Table\" data-toc-modified-id=\"Snow's-Table-1.5.4\">Snow's Table</a></span></li><li><span><a href=\"#A-Key-to-Establishing-Causality\" data-toc-modified-id=\"A-Key-to-Establishing-Causality-1.5.5\">A Key to Establishing Causality</a></span></li></ul></li><li><span><a href=\"#Confounding-Variables\" data-toc-modified-id=\"Confounding-Variables-1.6\">Confounding Variables</a></span><ul class=\"toc-item\"><li><span><a href=\"#Confounding-Factors-Weaken-a-Causal-Argument\" data-toc-modified-id=\"Confounding-Factors-Weaken-a-Causal-Argument-1.6.1\">Confounding Factors Weaken a Causal Argument</a></span></li><li><span><a href=\"#Example-of-a-Confounding-Relationship\" data-toc-modified-id=\"Example-of-a-Confounding-Relationship-1.6.2\">Example of a Confounding Relationship</a></span></li><li><span><a href=\"#Randomize!-to-Strengthen-a-Causal-Argument\" data-toc-modified-id=\"Randomize!-to-Strengthen-a-Causal-Argument-1.6.3\">Randomize! to Strengthen a Causal Argument</a></span></li><li><span><a href=\"#Be-Careful-...\" data-toc-modified-id=\"Be-Careful-...-1.6.4\">Be Careful ...</a></span></li></ul></li></ul></li></ul></div>"
   ]
  },
  {
   "cell_type": "markdown",
   "metadata": {
    "slideshow": {
     "slide_type": "slide"
    }
   },
   "source": [
    "<h2>Associations</h2>"
   ]
  },
  {
   "cell_type": "markdown",
   "metadata": {
    "slideshow": {
     "slide_type": "slide"
    }
   },
   "source": [
    "<h3>A Link Between Coffee Consumption and Health Benefits</h3>"
   ]
  },
  {
   "cell_type": "markdown",
   "metadata": {
    "slideshow": {
     "slide_type": "notes"
    }
   },
   "source": [
    "Image Source: [The Guardian - Three Coffees a Day Linked to a Range of Health Benefits](https://www.theguardian.com/lifeandstyle/2017/nov/23/three-coffees-a-day-linked-to-a-range-of-health-benefits)"
   ]
  },
  {
   "cell_type": "markdown",
   "metadata": {
    "slideshow": {
     "slide_type": "-"
    }
   },
   "source": [
    "<a href=\"https://www.theguardian.com/lifeandstyle/2017/nov/23/three-coffees-a-day-linked-to-a-range-of-health-benefits\"><img src=\"./img/three-coffees-a-day-linked-to-a-range-of-health-benefits.png\" width = 50%></a>"
   ]
  },
  {
   "cell_type": "markdown",
   "metadata": {
    "slideshow": {
     "slide_type": "slide"
    }
   },
   "source": [
    "<h3>A Link Between Chocolate Consumption and Heart Health</h3>"
   ]
  },
  {
   "cell_type": "markdown",
   "metadata": {
    "slideshow": {
     "slide_type": "notes"
    }
   },
   "source": [
    "Study Source: [Heart - Habitual chocolate consumption and risk of cardiovascular disease among healthy men and women](https://heart.bmj.com/content/101/16/1279)"
   ]
  },
  {
   "cell_type": "markdown",
   "metadata": {
    "slideshow": {
     "slide_type": "notes"
    }
   },
   "source": [
    "Image Source: [NPR - Chocolate, Chocolate, It's Good For Your Heart, Study Finds](https://www.npr.org/sections/thesalt/2015/06/19/415527652/chocolate-chocolate-its-good-for-your-heart-study-finds)"
   ]
  },
  {
   "cell_type": "markdown",
   "metadata": {
    "slideshow": {
     "slide_type": "-"
    }
   },
   "source": [
    "<a href=\"https://www.npr.org/sections/thesalt/2015/06/19/415527652/chocolate-chocolate-its-good-for-your-heart-study-finds\"><img src=\"./img/chocolate-chocolate-its-good-for-your-heart-study-finds.png\" width = 60%></a>"
   ]
  },
  {
   "cell_type": "markdown",
   "metadata": {
    "slideshow": {
     "slide_type": "slide"
    }
   },
   "source": [
    "<h3>Study Observations</h3>\n"
   ]
  },
  {
   "cell_type": "markdown",
   "metadata": {
    "slideshow": {
     "slide_type": "fragment"
    }
   },
   "source": [
    "* Individuals (study subjects, participants, units, etc.)\n",
    "    * European adults\n",
    "* Treatment\n",
    "    * Chocolate consumption\n",
    "* Outcome\n",
    "    * Coronary heart disease risk"
   ]
  },
  {
   "cell_type": "markdown",
   "metadata": {
    "slideshow": {
     "slide_type": "slide"
    }
   },
   "source": [
    "<h3>An Initial Question</h3>"
   ]
  },
  {
   "cell_type": "markdown",
   "metadata": {
    "slideshow": {
     "slide_type": "fragment"
    }
   },
   "source": [
    "Is there an association (any relation or link) between chocolate consumption and heart disease?"
   ]
  },
  {
   "cell_type": "markdown",
   "metadata": {
    "slideshow": {
     "slide_type": "slide"
    }
   },
   "source": [
    "<h3>An Answer</h3>"
   ]
  },
  {
   "cell_type": "markdown",
   "metadata": {
    "slideshow": {
     "slide_type": "fragment"
    }
   },
   "source": [
    "From [the NPR article](https://www.npr.org/sections/thesalt/2015/06/19/415527652/chocolate-chocolate-its-good-for-your-heart-study-finds):\n",
    "\n",
    "> \"Among those in the top tier of chocolate consumption, 12 percent developed or died of cardiovascular disease during the study, compared to 17.4 percent of those who didn't eat chocolate.\"\n"
   ]
  },
  {
   "cell_type": "markdown",
   "metadata": {
    "slideshow": {
     "slide_type": "slide"
    }
   },
   "source": [
    "<h3>A Follow Up Question</h3>"
   ]
  },
  {
   "cell_type": "markdown",
   "metadata": {
    "slideshow": {
     "slide_type": "fragment"
    }
   },
   "source": [
    "Does chocolate consumption **lead to** a reduction in heart disease? This question is often harder to answer."
   ]
  },
  {
   "cell_type": "markdown",
   "metadata": {
    "slideshow": {
     "slide_type": "fragment"
    }
   },
   "source": [
    "<center>\n",
    "    Causality\n",
    "</center>"
   ]
  },
  {
   "cell_type": "markdown",
   "metadata": {
    "slideshow": {
     "slide_type": "fragment"
    }
   },
   "source": [
    "From [the NPR article](https://www.npr.org/sections/thesalt/2015/06/19/415527652/chocolate-chocolate-its-good-for-your-heart-study-finds):\n",
    "\n",
    ">  \"It doesn't prove a cause-and-effect relationship between chocolate and reduced risk of heart disease and stroke.\"\n"
   ]
  },
  {
   "cell_type": "markdown",
   "metadata": {
    "slideshow": {
     "slide_type": "slide"
    }
   },
   "source": [
    "<h2>The (Documented) Development of the Double Blind Experiment</h2>\n",
    "\n"
   ]
  },
  {
   "cell_type": "markdown",
   "metadata": {
    "slideshow": {
     "slide_type": "slide"
    }
   },
   "source": [
    "<h3>London, Early 1850’s</h3>"
   ]
  },
  {
   "cell_type": "markdown",
   "metadata": {
    "slideshow": {
     "slide_type": "notes"
    }
   },
   "source": [
    "Image Source: [Wikipedia - 1954 Broad Street Cholera Outbreak](https://en.wikipedia.org/wiki/1854_Broad_Street_cholera_outbreak)"
   ]
  },
  {
   "cell_type": "markdown",
   "metadata": {
    "slideshow": {
     "slide_type": "fragment"
    }
   },
   "source": [
    "<img src=\"./img/punch_a_court_for_king_cholera.png\" width = 50%>"
   ]
  },
  {
   "cell_type": "markdown",
   "metadata": {
    "slideshow": {
     "slide_type": "slide"
    }
   },
   "source": [
    "<h3>Miasmas, Miasmatism, Miasmatists</h3>"
   ]
  },
  {
   "cell_type": "markdown",
   "metadata": {
    "slideshow": {
     "slide_type": "fragment"
    }
   },
   "source": [
    "* Bad smells given off by waste and rotting matter\n",
    "* Believed to be the main source of disease\n",
    "* Suggested remedies:\n",
    "    * “fly to clene air”\n",
    "    * “a pocket full o’posies”\n",
    "    * “fire off barrels of gunpowder”\n",
    "* Staunch believers:\n",
    "    * Florence Nightingale (founder of modern nursing)\n",
    "    * Edwin Chadwick (Commissioner of the General Board of Health)\n"
   ]
  },
  {
   "cell_type": "markdown",
   "metadata": {
    "slideshow": {
     "slide_type": "slide"
    }
   },
   "source": [
    "<h3>John Snow, 1813-1858</h3>"
   ]
  },
  {
   "cell_type": "markdown",
   "metadata": {
    "slideshow": {
     "slide_type": "-"
    }
   },
   "source": [
    "<img src=\"./img/john_snow.jpeg\" width = 25%>"
   ]
  },
  {
   "cell_type": "markdown",
   "metadata": {
    "slideshow": {
     "slide_type": "slide"
    }
   },
   "source": [
    "<h3>Cholera Map</h3>"
   ]
  },
  {
   "cell_type": "markdown",
   "metadata": {
    "slideshow": {
     "slide_type": "notes"
    }
   },
   "source": [
    "Image and Text Source: [National Geographic - Mapping A London Epidemic](https://www.nationalgeographic.org/activity/mapping-london-epidemic/)\n",
    "\n",
    "According to the National Geographic Society, \n",
    "\n",
    "> \"this map of London was created by John Snow in 1854. London was experiencing a deadly cholera epidemic, when Snow tracked the cases on this map. The cholera cases are highlighted in black. Using this map, Snow and other scientists were able to trace the cholera outbreak to a single infected water pump.\""
   ]
  },
  {
   "cell_type": "markdown",
   "metadata": {
    "slideshow": {
     "slide_type": "-"
    }
   },
   "source": [
    "<img src=\"./img/cholera_map.jpeg\" width = 50%>"
   ]
  },
  {
   "cell_type": "code",
   "execution_count": 3,
   "metadata": {
    "hide_input": true,
    "slideshow": {
     "slide_type": "slide"
    }
   },
   "outputs": [
    {
     "data": {
      "text/html": [
       "\n",
       "        <iframe\n",
       "            width=\"800\"\n",
       "            height=\"600\"\n",
       "            src=\"https://www.google.com/maps/embed?pb=!1m18!1m12!1m3!1d2482.9971371478814!2d-            0.13879218398430104!3d51.51326851809472!2m3!1f0!2f0!3f0!3m2!1i1024!2i768!4f13            .1!3m3!1m2!1s0x487604d4eb49ec6d%3A0xc4ff84518f83499d!2sJohn%20Snow!5e0!3m2!1            sen!2sus!4v1642117611191!5m2!1sen!2sus\"\n",
       "            frameborder=\"0\"\n",
       "            allowfullscreen\n",
       "            \n",
       "        ></iframe>\n",
       "        "
      ],
      "text/plain": [
       "<IPython.lib.display.IFrame at 0x7ff63134c6a0>"
      ]
     },
     "execution_count": 3,
     "metadata": {},
     "output_type": "execute_result"
    }
   ],
   "source": [
    "IFrame(src=\"https://www.google.com/maps/embed?pb=!1m18!1m12!1m3!1d2482.9971371478814!2d-\\\n",
    "            0.13879218398430104!3d51.51326851809472!2m3!1f0!2f0!3f0!3m2!1i1024!2i768!4f13\\\n",
    "            .1!3m3!1m2!1s0x487604d4eb49ec6d%3A0xc4ff84518f83499d!2sJohn%20Snow!5e0!3m2!1\\\n",
    "            sen!2sus!4v1642117611191!5m2!1sen!2sus\", \n",
    "       width=800, height=600)"
   ]
  },
  {
   "cell_type": "markdown",
   "metadata": {
    "slideshow": {
     "slide_type": "slide"
    }
   },
   "source": [
    "<h2>Causation</h2>"
   ]
  },
  {
   "cell_type": "markdown",
   "metadata": {
    "slideshow": {
     "slide_type": "slide"
    }
   },
   "source": [
    "<h3>London Water Supply Service Regions</h3>"
   ]
  },
  {
   "cell_type": "markdown",
   "metadata": {
    "slideshow": {
     "slide_type": "notes"
    }
   },
   "source": [
    "Image Source: [British Library - John Snow's map showing the water supply in London, 1855](https://www.bl.uk/collection-items/john-snows-map-showing-the-water-supply-in-london-1855)\n",
    "\n",
    "Image NOTE:\n",
    "* Blue - Southwark and Vauxhall Company\n",
    "* Red - Lambeth Company\n",
    "* Purple - The area in which the pipes of both Companies are intermingled."
   ]
  },
  {
   "cell_type": "markdown",
   "metadata": {
    "slideshow": {
     "slide_type": "-"
    }
   },
   "source": [
    "<a href = \"./img/johnsnow_water_companies.jpeg\"><img src=\"./img/johnsnow_water_companies.jpeg\" width = 50%></a>"
   ]
  },
  {
   "cell_type": "markdown",
   "metadata": {
    "slideshow": {
     "slide_type": "slide"
    }
   },
   "source": [
    "<h3>Comparison</h3>"
   ]
  },
  {
   "cell_type": "markdown",
   "metadata": {
    "slideshow": {
     "slide_type": "fragment"
    }
   },
   "source": [
    "* Treatment group\n",
    "* Control group\n",
    "    * Does not receive the treatment\n"
   ]
  },
  {
   "cell_type": "markdown",
   "metadata": {
    "slideshow": {
     "slide_type": "slide"
    }
   },
   "source": [
    "<h3>Snow’s “Grand Experiment” ... Study</h3>"
   ]
  },
  {
   "cell_type": "markdown",
   "metadata": {
    "slideshow": {
     "slide_type": "fragment"
    }
   },
   "source": [
    "“… there is no difference whatever in the houses or the people receiving the supply of the two Water Companies, or in any of the physical conditions with which they are surrounded …”\n",
    "\n",
    "The two groups were similar except for the treatment.\n"
   ]
  },
  {
   "cell_type": "markdown",
   "metadata": {
    "slideshow": {
     "slide_type": "slide"
    }
   },
   "source": [
    "<h3>Snow's Table</h3>"
   ]
  },
  {
   "cell_type": "code",
   "execution_count": 7,
   "metadata": {
    "slideshow": {
     "slide_type": "fragment"
    }
   },
   "outputs": [
    {
     "data": {
      "text/html": [
       "<table border=\"1\" class=\"dataframe\">\n",
       "    <thead>\n",
       "        <tr>\n",
       "            <th>Supply Area</th> <th>Number of Houses</th> <th>Cholera Deaths</th>\n",
       "        </tr>\n",
       "    </thead>\n",
       "    <tbody>\n",
       "        <tr>\n",
       "            <td>S&V           </td> <td>40046           </td> <td>1263          </td>\n",
       "        </tr>\n",
       "        <tr>\n",
       "            <td>Lambeth       </td> <td>26107           </td> <td>98            </td>\n",
       "        </tr>\n",
       "        <tr>\n",
       "            <td>Rest of London</td> <td>256423          </td> <td>1422          </td>\n",
       "        </tr>\n",
       "    </tbody>\n",
       "</table>"
      ],
      "text/plain": [
       "Supply Area    | Number of Houses | Cholera Deaths\n",
       "S&V            | 40046            | 1263\n",
       "Lambeth        | 26107            | 98\n",
       "Rest of London | 256423           | 1422"
      ]
     },
     "execution_count": 7,
     "metadata": {},
     "output_type": "execute_result"
    }
   ],
   "source": [
    "snows_table = Table(['Supply Area', 'Number of Houses', 'Cholera Deaths']).with_rows([\n",
    "    ['S&V', 40046, 1263], \n",
    "    ['Lambeth', 26107, 98],\n",
    "    ['Rest of London', 256423, 1422]\n",
    "])\n",
    "snows_table"
   ]
  },
  {
   "cell_type": "markdown",
   "metadata": {
    "slideshow": {
     "slide_type": "slide"
    }
   },
   "source": [
    "To compare the deaths totals in various supply areas, calculate the relative frequency of deaths per household."
   ]
  },
  {
   "cell_type": "code",
   "execution_count": 10,
   "metadata": {
    "slideshow": {
     "slide_type": "-"
    }
   },
   "outputs": [
    {
     "data": {
      "text/html": [
       "<table border=\"1\" class=\"dataframe\">\n",
       "    <thead>\n",
       "        <tr>\n",
       "            <th>Supply Area</th> <th>Number of Houses</th> <th>Cholera Deaths</th> <th>Deaths per House</th>\n",
       "        </tr>\n",
       "    </thead>\n",
       "    <tbody>\n",
       "        <tr>\n",
       "            <td>S&V           </td> <td>40046           </td> <td>1263          </td> <td>0.0315387       </td>\n",
       "        </tr>\n",
       "        <tr>\n",
       "            <td>Lambeth       </td> <td>26107           </td> <td>98            </td> <td>0.00375378      </td>\n",
       "        </tr>\n",
       "        <tr>\n",
       "            <td>Rest of London</td> <td>256423          </td> <td>1422          </td> <td>0.00554552      </td>\n",
       "        </tr>\n",
       "    </tbody>\n",
       "</table>"
      ],
      "text/plain": [
       "Supply Area    | Number of Houses | Cholera Deaths | Deaths per House\n",
       "S&V            | 40046            | 1263           | 0.0315387\n",
       "Lambeth        | 26107            | 98             | 0.00375378\n",
       "Rest of London | 256423           | 1422           | 0.00554552"
      ]
     },
     "execution_count": 10,
     "metadata": {},
     "output_type": "execute_result"
    }
   ],
   "source": [
    "death_per_house = snows_table.column('Cholera Deaths') / snows_table.column('Number of Houses')\n",
    "snows_table.with_column('Deaths per House', \n",
    "                        death_per_house)"
   ]
  },
  {
   "cell_type": "markdown",
   "metadata": {
    "slideshow": {
     "slide_type": "slide"
    }
   },
   "source": [
    "Scale and round the rates to show whole numbers."
   ]
  },
  {
   "cell_type": "code",
   "execution_count": 13,
   "metadata": {
    "slideshow": {
     "slide_type": "-"
    }
   },
   "outputs": [
    {
     "data": {
      "text/html": [
       "<table border=\"1\" class=\"dataframe\">\n",
       "    <thead>\n",
       "        <tr>\n",
       "            <th>Supply Area</th> <th>Number of Houses</th> <th>Cholera Deaths</th> <th>Deaths per 10,000 Houses</th>\n",
       "        </tr>\n",
       "    </thead>\n",
       "    <tbody>\n",
       "        <tr>\n",
       "            <td>S&V           </td> <td>40046           </td> <td>1263          </td> <td>315                     </td>\n",
       "        </tr>\n",
       "        <tr>\n",
       "            <td>Lambeth       </td> <td>26107           </td> <td>98            </td> <td>38                      </td>\n",
       "        </tr>\n",
       "        <tr>\n",
       "            <td>Rest of London</td> <td>256423          </td> <td>1422          </td> <td>55                      </td>\n",
       "        </tr>\n",
       "    </tbody>\n",
       "</table>"
      ],
      "text/plain": [
       "Supply Area    | Number of Houses | Cholera Deaths | Deaths per 10,000 Houses\n",
       "S&V            | 40046            | 1263           | 315\n",
       "Lambeth        | 26107            | 98             | 38\n",
       "Rest of London | 256423           | 1422           | 55"
      ]
     },
     "execution_count": 13,
     "metadata": {},
     "output_type": "execute_result"
    }
   ],
   "source": [
    "deaths_per_10000_houses = snows_table.column('Cholera Deaths') / snows_table.column('Number of Houses') * 10000\n",
    "snows_table.with_column('Deaths per 10,000 Houses', \n",
    "                        np.round(deaths_per_10000_houses))"
   ]
  },
  {
   "cell_type": "markdown",
   "metadata": {
    "slideshow": {
     "slide_type": "slide"
    }
   },
   "source": [
    "Scaling rates a common presentation technique. This can provide clarity, but it can also be misleading!"
   ]
  },
  {
   "cell_type": "markdown",
   "metadata": {
    "slideshow": {
     "slide_type": "notes"
    }
   },
   "source": [
    "Image Source: [CDC - Rates of COVID-19-Associated Hospitalization (Updated Jan 8, 2022)](https://gis.cdc.gov/grasp/covidnet/covid19_3.html)"
   ]
  },
  {
   "cell_type": "markdown",
   "metadata": {
    "slideshow": {
     "slide_type": "-"
    }
   },
   "source": [
    "<a href=\"https://gis.cdc.gov/grasp/covidnet/covid19_3.html\"><img src=\"./img/CDC-COVID-hospitalization-rates.png\" width = 50%></a>"
   ]
  },
  {
   "cell_type": "markdown",
   "metadata": {
    "slideshow": {
     "slide_type": "slide"
    }
   },
   "source": [
    "<h3>A Key to Establishing Causality</h3>"
   ]
  },
  {
   "cell_type": "markdown",
   "metadata": {
    "slideshow": {
     "slide_type": "fragment"
    }
   },
   "source": [
    "If the treatment and control groups are similar apart from the treatment, then differences between the outcomes in the two groups can be ascribed to the treatment."
   ]
  },
  {
   "cell_type": "markdown",
   "metadata": {
    "slideshow": {
     "slide_type": "slide"
    }
   },
   "source": [
    "<h2>Confounding Variables</h2>"
   ]
  },
  {
   "cell_type": "markdown",
   "metadata": {
    "slideshow": {
     "slide_type": "slide"
    }
   },
   "source": [
    "<h3>Confounding Factors Weaken a Causal Argument</h3>"
   ]
  },
  {
   "cell_type": "markdown",
   "metadata": {
    "slideshow": {
     "slide_type": "fragment"
    }
   },
   "source": [
    "* If the treatment and control groups have systematic differences other than the treatment, then it might be difficult to identify causality. \n",
    "\n",
    "* Such differences are often present in observational studies.\n",
    "\n",
    "* When they lead researchers astray, they are called confounding factors."
   ]
  },
  {
   "cell_type": "markdown",
   "metadata": {
    "slideshow": {
     "slide_type": "slide"
    }
   },
   "source": [
    "<h3>Example of a Confounding Relationship</h3>"
   ]
  },
  {
   "cell_type": "markdown",
   "metadata": {
    "slideshow": {
     "slide_type": "fragment"
    }
   },
   "source": [
    "<img src=\"./img/cheese_sheets_association.svg\" width = 100%>"
   ]
  },
  {
   "cell_type": "markdown",
   "metadata": {
    "slideshow": {
     "slide_type": "slide"
    }
   },
   "source": [
    "<h3>Randomize! to Strengthen a Causal Argument</h3>"
   ]
  },
  {
   "cell_type": "markdown",
   "metadata": {
    "slideshow": {
     "slide_type": "fragment"
    }
   },
   "source": [
    "* If you assign individuals to treatment and control at random, then the two groups are *likely* to be similar apart from the treatment.\n",
    "* You can (mathematically) account for variability in the assignment.\n",
    "* **Randomized Controlled Experiment**:\n",
    "    * Randomly assign individuals to treatments\n",
    "    * Ensure one treatment is a control where there outcome is understood."
   ]
  },
  {
   "cell_type": "markdown",
   "metadata": {
    "slideshow": {
     "slide_type": "slide"
    }
   },
   "source": [
    "<h3>Be Careful ...</h3>"
   ]
  },
  {
   "cell_type": "markdown",
   "metadata": {
    "slideshow": {
     "slide_type": "fragment"
    }
   },
   "source": [
    "Regardless of what the dictionary says,\n",
    "in probability theory\n",
    "\n",
    "<center>\n",
    "    Random ≠ Haphazard\n",
    "</center>"
   ]
  },
  {
   "cell_type": "markdown",
   "metadata": {
    "slideshow": {
     "slide_type": "notes"
    }
   },
   "source": [
    "<footer>\n",
    "    <hr>\n",
    "    <p>Adopted from UC Berkeley DATA 8 course materials.</p>\n",
    "    <p>This content is offered under a <a href=\"https://creativecommons.org/licenses/by-nc-sa/4.0/\">CC Attribution Non-Commercial Share Alike</a> license.</p>\n",
    "</footer>"
   ]
  }
 ],
 "metadata": {
  "kernelspec": {
   "display_name": "Python 3 (ipykernel)",
   "language": "python",
   "name": "python3"
  },
  "language_info": {
   "codemirror_mode": {
    "name": "ipython",
    "version": 3
   },
   "file_extension": ".py",
   "mimetype": "text/x-python",
   "name": "python",
   "nbconvert_exporter": "python",
   "pygments_lexer": "ipython3",
   "version": "3.9.9"
  },
  "toc": {
   "base_numbering": 1,
   "nav_menu": {},
   "number_sections": false,
   "sideBar": true,
   "skip_h1_title": false,
   "title_cell": "Table of Contents",
   "title_sidebar": "Contents",
   "toc_cell": true,
   "toc_position": {
    "height": "calc(100% - 180px)",
    "left": "10px",
    "top": "150px",
    "width": "231.797px"
   },
   "toc_section_display": false,
   "toc_window_display": false
  }
 },
 "nbformat": 4,
 "nbformat_minor": 2
}
