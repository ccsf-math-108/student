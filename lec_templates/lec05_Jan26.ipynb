{
 "cells": [
  {
   "cell_type": "markdown",
   "metadata": {
    "slideshow": {
     "slide_type": "slide"
    }
   },
   "source": [
    "<div style=\"width: 38.5%;\">\n",
    "    <p><strong>City College of San Francisco</strong><p>\n",
    "    <hr>\n",
    "    <p>MATH 108 - Foundations of Data Science</p>\n",
    "</div>"
   ]
  },
  {
   "cell_type": "markdown",
   "metadata": {
    "slideshow": {
     "slide_type": "-"
    }
   },
   "source": [
    "# Lecture 05: Building Tables"
   ]
  },
  {
   "cell_type": "markdown",
   "metadata": {
    "slideshow": {
     "slide_type": "-"
    }
   },
   "source": [
    "Associated Textbook Sections: [5.0, 5.1, 5.2, 5.3](https://inferentialthinking.com/chapters/05/Sequences.html)"
   ]
  },
  {
   "cell_type": "markdown",
   "metadata": {
    "slideshow": {
     "slide_type": "slide"
    }
   },
   "source": [
    "<h2>Set Up the Notebook<h2>"
   ]
  },
  {
   "cell_type": "code",
   "execution_count": 1,
   "metadata": {
    "slideshow": {
     "slide_type": "-"
    }
   },
   "outputs": [],
   "source": [
    "from datascience import *\n",
    "import numpy as np\n",
    "%matplotlib inline\n",
    "import matplotlib.pyplot as plots\n",
    "plots.style.use('fivethirtyeight')"
   ]
  },
  {
   "cell_type": "markdown",
   "metadata": {
    "slideshow": {
     "slide_type": "notes"
    },
    "toc": true
   },
   "source": [
    "<h1>Table of Contents<span class=\"tocSkip\"></span></h1>\n",
    "<div class=\"toc\"><ul class=\"toc-item\"><li><span><a href=\"#Lecture-05:-Building-Tables\" data-toc-modified-id=\"Lecture-05:-Building-Tables-1\">Lecture 05: Building Tables</a></span><ul class=\"toc-item\"><li><span><a href=\"#Set-Up-the-Notebook\" data-toc-modified-id=\"Set-Up-the-Notebook-1.1\">Set Up the Notebook</a></span></li><li><span><a href=\"#\" data-toc-modified-id=\"-1.2\"></a></span></li><li><span><a href=\"#Arrays\" data-toc-modified-id=\"Arrays-1.3\">Arrays</a></span><ul class=\"toc-item\"><li><span><a href=\"#Demo:-Columns-of-Tables-are-Arrays\" data-toc-modified-id=\"Demo:-Columns-of-Tables-are-Arrays-1.3.1\">Demo: Columns of Tables are Arrays</a></span></li><li><span><a href=\"#Ranges\" data-toc-modified-id=\"Ranges-1.3.2\">Ranges</a></span></li></ul></li><li><span><a href=\"#Ranges\" data-toc-modified-id=\"Ranges-1.4\">Ranges</a></span><ul class=\"toc-item\"><li><span><a href=\"#Ways-to-Create-a-Table\" data-toc-modified-id=\"Ways-to-Create-a-Table-1.4.1\">Ways to Create a Table</a></span></li><li><span><a href=\"#Demo:-Creating-a-Table-from-Scratch\" data-toc-modified-id=\"Demo:-Creating-a-Table-from-Scratch-1.4.2\">Demo: Creating a Table from Scratch</a></span></li></ul></li><li><span><a href=\"#Example:-W.-E.-B.-Du-Bois\" data-toc-modified-id=\"Example:-W.-E.-B.-Du-Bois-1.5\">Example: W. E. B. Du Bois</a></span><ul class=\"toc-item\"><li><span><a href=\"#Demo:-Reading-a-Table-from-a-File\" data-toc-modified-id=\"Demo:-Reading-a-Table-from-a-File-1.5.1\">Demo: Reading a Table from a File</a></span></li><li><span><a href=\"#Table-Methods\" data-toc-modified-id=\"Table-Methods-1.5.2\">Table Methods</a></span></li><li><span><a href=\"#Demo:-Selecting-Data-in-a-Column\" data-toc-modified-id=\"Demo:-Selecting-Data-in-a-Column-1.5.3\">Demo: Selecting Data in a Column</a></span></li></ul></li></ul></li></ul></div>"
   ]
  },
  {
   "cell_type": "markdown",
   "metadata": {
    "slideshow": {
     "slide_type": "slide"
    }
   },
   "source": [
    "## Arrays"
   ]
  },
  {
   "cell_type": "markdown",
   "metadata": {
    "slideshow": {
     "slide_type": "slide"
    }
   },
   "source": [
    "### Demo: Columns of Tables are Arrays"
   ]
  },
  {
   "cell_type": "markdown",
   "metadata": {
    "slideshow": {
     "slide_type": "-"
    }
   },
   "source": [
    "Import the data on skyscrapers as a table and explore the San Francisco content of that table."
   ]
  },
  {
   "cell_type": "code",
   "execution_count": 2,
   "metadata": {
    "slideshow": {
     "slide_type": "fragment"
    }
   },
   "outputs": [
    {
     "data": {
      "text/html": [
       "<table border=\"1\" class=\"dataframe\">\n",
       "    <thead>\n",
       "        <tr>\n",
       "            <th>name</th> <th>material</th> <th>city</th> <th>height</th> <th>completed</th>\n",
       "        </tr>\n",
       "    </thead>\n",
       "    <tbody>\n",
       "        <tr>\n",
       "            <td>One World Trade Center           </td> <td>mixed/composite</td> <td>New York City</td> <td>541.3 </td> <td>2014     </td>\n",
       "        </tr>\n",
       "        <tr>\n",
       "            <td>Willis Tower                     </td> <td>steel          </td> <td>Chicago      </td> <td>442.14</td> <td>1974     </td>\n",
       "        </tr>\n",
       "        <tr>\n",
       "            <td>432 Park Avenue                  </td> <td>concrete       </td> <td>New York City</td> <td>425.5 </td> <td>2015     </td>\n",
       "        </tr>\n",
       "        <tr>\n",
       "            <td>Trump International Hotel & Tower</td> <td>concrete       </td> <td>Chicago      </td> <td>423.22</td> <td>2009     </td>\n",
       "        </tr>\n",
       "        <tr>\n",
       "            <td>Empire State Building            </td> <td>steel          </td> <td>New York City</td> <td>381   </td> <td>1931     </td>\n",
       "        </tr>\n",
       "        <tr>\n",
       "            <td>Bank of America Tower            </td> <td>mixed/composite</td> <td>New York City</td> <td>365.8 </td> <td>2009     </td>\n",
       "        </tr>\n",
       "        <tr>\n",
       "            <td>Stratosphere Tower               </td> <td>concrete       </td> <td>Las Vegas    </td> <td>350.22</td> <td>1996     </td>\n",
       "        </tr>\n",
       "        <tr>\n",
       "            <td>Aon Center                       </td> <td>steel          </td> <td>Chicago      </td> <td>346.26</td> <td>1973     </td>\n",
       "        </tr>\n",
       "        <tr>\n",
       "            <td>John Hancock Center              </td> <td>steel          </td> <td>Chicago      </td> <td>343.69</td> <td>1969     </td>\n",
       "        </tr>\n",
       "        <tr>\n",
       "            <td>Chrysler Building                </td> <td>steel          </td> <td>New York City</td> <td>318.9 </td> <td>1930     </td>\n",
       "        </tr>\n",
       "    </tbody>\n",
       "</table>\n",
       "<p>... (1771 rows omitted)</p>"
      ],
      "text/plain": [
       "name                              | material        | city          | height | completed\n",
       "One World Trade Center            | mixed/composite | New York City | 541.3  | 2014\n",
       "Willis Tower                      | steel           | Chicago       | 442.14 | 1974\n",
       "432 Park Avenue                   | concrete        | New York City | 425.5  | 2015\n",
       "Trump International Hotel & Tower | concrete        | Chicago       | 423.22 | 2009\n",
       "Empire State Building             | steel           | New York City | 381    | 1931\n",
       "Bank of America Tower             | mixed/composite | New York City | 365.8  | 2009\n",
       "Stratosphere Tower                | concrete        | Las Vegas     | 350.22 | 1996\n",
       "Aon Center                        | steel           | Chicago       | 346.26 | 1973\n",
       "John Hancock Center               | steel           | Chicago       | 343.69 | 1969\n",
       "Chrysler Building                 | steel           | New York City | 318.9  | 1930\n",
       "... (1771 rows omitted)"
      ]
     },
     "execution_count": 2,
     "metadata": {},
     "output_type": "execute_result"
    }
   ],
   "source": [
    "skyscrapers = Table.read_table('skyscrapers_v2.csv')\n",
    "skyscrapers"
   ]
  },
  {
   "cell_type": "code",
   "execution_count": 15,
   "metadata": {},
   "outputs": [
    {
     "data": {
      "text/html": [
       "<table border=\"1\" class=\"dataframe\">\n",
       "    <thead>\n",
       "        <tr>\n",
       "            <th>name</th> <th>material</th> <th>city</th> <th>height</th> <th>completed</th>\n",
       "        </tr>\n",
       "    </thead>\n",
       "    <tbody>\n",
       "        <tr>\n",
       "            <td>Transamerica Pyramid       </td> <td>mixed/composite</td> <td>San Francisco</td> <td>260   </td> <td>1972     </td>\n",
       "        </tr>\n",
       "        <tr>\n",
       "            <td>555 California Street      </td> <td>steel          </td> <td>San Francisco</td> <td>237.44</td> <td>1969     </td>\n",
       "        </tr>\n",
       "        <tr>\n",
       "            <td>345 California Center      </td> <td>steel          </td> <td>San Francisco</td> <td>211.84</td> <td>1986     </td>\n",
       "        </tr>\n",
       "        <tr>\n",
       "            <td>Millennium Tower           </td> <td>concrete       </td> <td>San Francisco</td> <td>196.6 </td> <td>2009     </td>\n",
       "        </tr>\n",
       "        <tr>\n",
       "            <td>One Rincon Hill South Tower</td> <td>concrete       </td> <td>San Francisco</td> <td>184.41</td> <td>2008     </td>\n",
       "        </tr>\n",
       "        <tr>\n",
       "            <td>101 California Street      </td> <td>steel          </td> <td>San Francisco</td> <td>183   </td> <td>1982     </td>\n",
       "        </tr>\n",
       "        <tr>\n",
       "            <td>50 Fremont Center          </td> <td>steel          </td> <td>San Francisco</td> <td>183   </td> <td>1985     </td>\n",
       "        </tr>\n",
       "        <tr>\n",
       "            <td>Chevron Tower              </td> <td>steel          </td> <td>San Francisco</td> <td>174.65</td> <td>1975     </td>\n",
       "        </tr>\n",
       "        <tr>\n",
       "            <td>Four Embarcadero Center    </td> <td>steel          </td> <td>San Francisco</td> <td>173.74</td> <td>1984     </td>\n",
       "        </tr>\n",
       "        <tr>\n",
       "            <td>One Embarcadero Center     </td> <td>steel          </td> <td>San Francisco</td> <td>173.43</td> <td>1970     </td>\n",
       "        </tr>\n",
       "    </tbody>\n",
       "</table>\n",
       "<p>... (51 rows omitted)</p>"
      ],
      "text/plain": [
       "name                        | material        | city          | height | completed\n",
       "Transamerica Pyramid        | mixed/composite | San Francisco | 260    | 1972\n",
       "555 California Street       | steel           | San Francisco | 237.44 | 1969\n",
       "345 California Center       | steel           | San Francisco | 211.84 | 1986\n",
       "Millennium Tower            | concrete        | San Francisco | 196.6  | 2009\n",
       "One Rincon Hill South Tower | concrete        | San Francisco | 184.41 | 2008\n",
       "101 California Street       | steel           | San Francisco | 183    | 1982\n",
       "50 Fremont Center           | steel           | San Francisco | 183    | 1985\n",
       "Chevron Tower               | steel           | San Francisco | 174.65 | 1975\n",
       "Four Embarcadero Center     | steel           | San Francisco | 173.74 | 1984\n",
       "One Embarcadero Center      | steel           | San Francisco | 173.43 | 1970\n",
       "... (51 rows omitted)"
      ]
     },
     "execution_count": 15,
     "metadata": {},
     "output_type": "execute_result"
    }
   ],
   "source": [
    "sf = skyscrapers.where('city', 'San Francisco')\n",
    "sf.sort('height', descending=True)"
   ]
  },
  {
   "cell_type": "code",
   "execution_count": 4,
   "metadata": {},
   "outputs": [
    {
     "data": {
      "text/html": [
       "<table border=\"1\" class=\"dataframe\">\n",
       "    <thead>\n",
       "        <tr>\n",
       "            <th>height</th>\n",
       "        </tr>\n",
       "    </thead>\n",
       "    <tbody>\n",
       "        <tr>\n",
       "            <td>260   </td>\n",
       "        </tr>\n",
       "        <tr>\n",
       "            <td>237.44</td>\n",
       "        </tr>\n",
       "        <tr>\n",
       "            <td>211.84</td>\n",
       "        </tr>\n",
       "        <tr>\n",
       "            <td>196.6 </td>\n",
       "        </tr>\n",
       "        <tr>\n",
       "            <td>184.41</td>\n",
       "        </tr>\n",
       "        <tr>\n",
       "            <td>183   </td>\n",
       "        </tr>\n",
       "        <tr>\n",
       "            <td>183   </td>\n",
       "        </tr>\n",
       "        <tr>\n",
       "            <td>174.65</td>\n",
       "        </tr>\n",
       "        <tr>\n",
       "            <td>173.74</td>\n",
       "        </tr>\n",
       "        <tr>\n",
       "            <td>173.43</td>\n",
       "        </tr>\n",
       "    </tbody>\n",
       "</table>\n",
       "<p>... (51 rows omitted)</p>"
      ],
      "text/plain": [
       "height\n",
       "260\n",
       "237.44\n",
       "211.84\n",
       "196.6\n",
       "184.41\n",
       "183\n",
       "183\n",
       "174.65\n",
       "173.74\n",
       "173.43\n",
       "... (51 rows omitted)"
      ]
     },
     "execution_count": 4,
     "metadata": {},
     "output_type": "execute_result"
    }
   ],
   "source": [
    "sf.select('height')"
   ]
  },
  {
   "cell_type": "code",
   "execution_count": 6,
   "metadata": {},
   "outputs": [
    {
     "data": {
      "text/plain": [
       "array([260.        , 237.44000244, 211.83999634, 196.6000061 ,\n",
       "       184.41000366, 183.        , 183.        , 174.6499939 ,\n",
       "       173.74000549, 173.42999268, 172.25      , 172.        ,\n",
       "       168.        , 165.        , 163.97999573, 161.24000549,\n",
       "       161.24000549, 159.69999695, 152.3999939 , 150.88000488,\n",
       "       150.27000427, 149.96000671, 148.44000244, 148.44000244,\n",
       "       147.52999878, 145.1000061 , 145.        , 144.        ,\n",
       "       142.        , 133.5       , 132.8999939 , 132.69999695,\n",
       "       132.6000061 , 129.5       , 128.02000427, 128.        ,\n",
       "       127.40000153, 127.        , 126.        , 126.        ,\n",
       "       125.        , 122.        , 121.30000305, 115.37000275,\n",
       "       115.22000122, 114.30000305, 112.77999878, 111.        ,\n",
       "       108.        , 106.69999695, 106.37999725, 101.41999817,\n",
       "       100.58000183, 100.58000183, 100.        ,  98.25      ,\n",
       "        90.83000183,  86.87000275,  74.68000031,  71.31999969,\n",
       "        64.        ])"
      ]
     },
     "execution_count": 6,
     "metadata": {},
     "output_type": "execute_result"
    }
   ],
   "source": [
    "height_array = sf.column('height')\n",
    "height_array"
   ]
  },
  {
   "cell_type": "code",
   "execution_count": 7,
   "metadata": {},
   "outputs": [
    {
     "data": {
      "text/plain": [
       "139.27442681984814"
      ]
     },
     "execution_count": 7,
     "metadata": {},
     "output_type": "execute_result"
    }
   ],
   "source": [
    "np.average(height_array)"
   ]
  },
  {
   "cell_type": "markdown",
   "metadata": {
    "slideshow": {
     "slide_type": "slide"
    }
   },
   "source": [
    "Add the Salesforce Tower to the table using [the information from Wikipedia](https://en.wikipedia.org/wiki/List_of_tallest_buildings_in_San_Francisco) and observe how adding just one very tall building can drastically change the average height. \n",
    "\n",
    "The demonstrated method to add a row of information to a table is destructive. Be care when you use they kinds of operations. Always check the documentation."
   ]
  },
  {
   "cell_type": "code",
   "execution_count": 16,
   "metadata": {
    "slideshow": {
     "slide_type": "fragment"
    }
   },
   "outputs": [
    {
     "data": {
      "text/html": [
       "<table border=\"1\" class=\"dataframe\">\n",
       "    <thead>\n",
       "        <tr>\n",
       "            <th>name</th> <th>material</th> <th>city</th> <th>height</th> <th>completed</th>\n",
       "        </tr>\n",
       "    </thead>\n",
       "    <tbody>\n",
       "        <tr>\n",
       "            <td>Salesforce Tower           </td> <td>Steel          </td> <td>San Franicsco</td> <td>1070  </td> <td>2018     </td>\n",
       "        </tr>\n",
       "        <tr>\n",
       "            <td>Transamerica Pyramid       </td> <td>mixed/composite</td> <td>San Francisco</td> <td>260   </td> <td>1972     </td>\n",
       "        </tr>\n",
       "        <tr>\n",
       "            <td>555 California Street      </td> <td>steel          </td> <td>San Francisco</td> <td>237.44</td> <td>1969     </td>\n",
       "        </tr>\n",
       "        <tr>\n",
       "            <td>345 California Center      </td> <td>steel          </td> <td>San Francisco</td> <td>211.84</td> <td>1986     </td>\n",
       "        </tr>\n",
       "        <tr>\n",
       "            <td>Millennium Tower           </td> <td>concrete       </td> <td>San Francisco</td> <td>196.6 </td> <td>2009     </td>\n",
       "        </tr>\n",
       "        <tr>\n",
       "            <td>One Rincon Hill South Tower</td> <td>concrete       </td> <td>San Francisco</td> <td>184.41</td> <td>2008     </td>\n",
       "        </tr>\n",
       "        <tr>\n",
       "            <td>101 California Street      </td> <td>steel          </td> <td>San Francisco</td> <td>183   </td> <td>1982     </td>\n",
       "        </tr>\n",
       "        <tr>\n",
       "            <td>50 Fremont Center          </td> <td>steel          </td> <td>San Francisco</td> <td>183   </td> <td>1985     </td>\n",
       "        </tr>\n",
       "        <tr>\n",
       "            <td>Chevron Tower              </td> <td>steel          </td> <td>San Francisco</td> <td>174.65</td> <td>1975     </td>\n",
       "        </tr>\n",
       "        <tr>\n",
       "            <td>Four Embarcadero Center    </td> <td>steel          </td> <td>San Francisco</td> <td>173.74</td> <td>1984     </td>\n",
       "        </tr>\n",
       "    </tbody>\n",
       "</table>\n",
       "<p>... (52 rows omitted)</p>"
      ],
      "text/plain": [
       "name                        | material        | city          | height | completed\n",
       "Salesforce Tower            | Steel           | San Franicsco | 1070   | 2018\n",
       "Transamerica Pyramid        | mixed/composite | San Francisco | 260    | 1972\n",
       "555 California Street       | steel           | San Francisco | 237.44 | 1969\n",
       "345 California Center       | steel           | San Francisco | 211.84 | 1986\n",
       "Millennium Tower            | concrete        | San Francisco | 196.6  | 2009\n",
       "One Rincon Hill South Tower | concrete        | San Francisco | 184.41 | 2008\n",
       "101 California Street       | steel           | San Francisco | 183    | 1982\n",
       "50 Fremont Center           | steel           | San Francisco | 183    | 1985\n",
       "Chevron Tower               | steel           | San Francisco | 174.65 | 1975\n",
       "Four Embarcadero Center     | steel           | San Francisco | 173.74 | 1984\n",
       "... (52 rows omitted)"
      ]
     },
     "execution_count": 16,
     "metadata": {},
     "output_type": "execute_result"
    }
   ],
   "source": [
    "sf.append(['Salesforce Tower', 'Steel', 'San Franicsco', 1070, 2018])\n",
    "sf = sf.sort('height', descending=True)\n",
    "sf"
   ]
  },
  {
   "cell_type": "code",
   "execution_count": 18,
   "metadata": {},
   "outputs": [
    {
     "data": {
      "text/html": [
       "<table border=\"1\" class=\"dataframe\">\n",
       "    <thead>\n",
       "        <tr>\n",
       "            <th>name</th> <th>material</th> <th>city</th> <th>height</th> <th>completed</th>\n",
       "        </tr>\n",
       "    </thead>\n",
       "    <tbody>\n",
       "        <tr>\n",
       "            <td>Salesforce Tower           </td> <td>Steel          </td> <td>San Franicsco</td> <td>1070  </td> <td>2018     </td>\n",
       "        </tr>\n",
       "        <tr>\n",
       "            <td>Salesforce Tower           </td> <td>Steel          </td> <td>San Franicsco</td> <td>1070  </td> <td>2018     </td>\n",
       "        </tr>\n",
       "        <tr>\n",
       "            <td>Transamerica Pyramid       </td> <td>mixed/composite</td> <td>San Francisco</td> <td>260   </td> <td>1972     </td>\n",
       "        </tr>\n",
       "        <tr>\n",
       "            <td>555 California Street      </td> <td>steel          </td> <td>San Francisco</td> <td>237.44</td> <td>1969     </td>\n",
       "        </tr>\n",
       "        <tr>\n",
       "            <td>345 California Center      </td> <td>steel          </td> <td>San Francisco</td> <td>211.84</td> <td>1986     </td>\n",
       "        </tr>\n",
       "        <tr>\n",
       "            <td>Millennium Tower           </td> <td>concrete       </td> <td>San Francisco</td> <td>196.6 </td> <td>2009     </td>\n",
       "        </tr>\n",
       "        <tr>\n",
       "            <td>One Rincon Hill South Tower</td> <td>concrete       </td> <td>San Francisco</td> <td>184.41</td> <td>2008     </td>\n",
       "        </tr>\n",
       "        <tr>\n",
       "            <td>101 California Street      </td> <td>steel          </td> <td>San Francisco</td> <td>183   </td> <td>1982     </td>\n",
       "        </tr>\n",
       "        <tr>\n",
       "            <td>50 Fremont Center          </td> <td>steel          </td> <td>San Francisco</td> <td>183   </td> <td>1985     </td>\n",
       "        </tr>\n",
       "        <tr>\n",
       "            <td>Chevron Tower              </td> <td>steel          </td> <td>San Francisco</td> <td>174.65</td> <td>1975     </td>\n",
       "        </tr>\n",
       "    </tbody>\n",
       "</table>\n",
       "<p>... (53 rows omitted)</p>"
      ],
      "text/plain": [
       "name                        | material        | city          | height | completed\n",
       "Salesforce Tower            | Steel           | San Franicsco | 1070   | 2018\n",
       "Salesforce Tower            | Steel           | San Franicsco | 1070   | 2018\n",
       "Transamerica Pyramid        | mixed/composite | San Francisco | 260    | 1972\n",
       "555 California Street       | steel           | San Francisco | 237.44 | 1969\n",
       "345 California Center       | steel           | San Francisco | 211.84 | 1986\n",
       "Millennium Tower            | concrete        | San Francisco | 196.6  | 2009\n",
       "One Rincon Hill South Tower | concrete        | San Francisco | 184.41 | 2008\n",
       "101 California Street       | steel           | San Francisco | 183    | 1982\n",
       "50 Fremont Center           | steel           | San Francisco | 183    | 1985\n",
       "Chevron Tower               | steel           | San Francisco | 174.65 | 1975\n",
       "... (53 rows omitted)"
      ]
     },
     "execution_count": 18,
     "metadata": {},
     "output_type": "execute_result"
    }
   ],
   "source": [
    "sf_copy = sf.copy()\n",
    "sf_copy.append(['Salesforce Tower', 'Steel', 'San Franicsco', 1070, 2018])\n",
    "sf_copy.sort('height', descending=True)"
   ]
  },
  {
   "cell_type": "code",
   "execution_count": 19,
   "metadata": {},
   "outputs": [
    {
     "data": {
      "text/html": [
       "<table border=\"1\" class=\"dataframe\">\n",
       "    <thead>\n",
       "        <tr>\n",
       "            <th>name</th> <th>material</th> <th>city</th> <th>height</th> <th>completed</th>\n",
       "        </tr>\n",
       "    </thead>\n",
       "    <tbody>\n",
       "        <tr>\n",
       "            <td>Salesforce Tower           </td> <td>Steel          </td> <td>San Franicsco</td> <td>1070  </td> <td>2018     </td>\n",
       "        </tr>\n",
       "        <tr>\n",
       "            <td>Transamerica Pyramid       </td> <td>mixed/composite</td> <td>San Francisco</td> <td>260   </td> <td>1972     </td>\n",
       "        </tr>\n",
       "        <tr>\n",
       "            <td>555 California Street      </td> <td>steel          </td> <td>San Francisco</td> <td>237.44</td> <td>1969     </td>\n",
       "        </tr>\n",
       "        <tr>\n",
       "            <td>345 California Center      </td> <td>steel          </td> <td>San Francisco</td> <td>211.84</td> <td>1986     </td>\n",
       "        </tr>\n",
       "        <tr>\n",
       "            <td>Millennium Tower           </td> <td>concrete       </td> <td>San Francisco</td> <td>196.6 </td> <td>2009     </td>\n",
       "        </tr>\n",
       "        <tr>\n",
       "            <td>One Rincon Hill South Tower</td> <td>concrete       </td> <td>San Francisco</td> <td>184.41</td> <td>2008     </td>\n",
       "        </tr>\n",
       "        <tr>\n",
       "            <td>101 California Street      </td> <td>steel          </td> <td>San Francisco</td> <td>183   </td> <td>1982     </td>\n",
       "        </tr>\n",
       "        <tr>\n",
       "            <td>50 Fremont Center          </td> <td>steel          </td> <td>San Francisco</td> <td>183   </td> <td>1985     </td>\n",
       "        </tr>\n",
       "        <tr>\n",
       "            <td>Chevron Tower              </td> <td>steel          </td> <td>San Francisco</td> <td>174.65</td> <td>1975     </td>\n",
       "        </tr>\n",
       "        <tr>\n",
       "            <td>Four Embarcadero Center    </td> <td>steel          </td> <td>San Francisco</td> <td>173.74</td> <td>1984     </td>\n",
       "        </tr>\n",
       "    </tbody>\n",
       "</table>\n",
       "<p>... (52 rows omitted)</p>"
      ],
      "text/plain": [
       "name                        | material        | city          | height | completed\n",
       "Salesforce Tower            | Steel           | San Franicsco | 1070   | 2018\n",
       "Transamerica Pyramid        | mixed/composite | San Francisco | 260    | 1972\n",
       "555 California Street       | steel           | San Francisco | 237.44 | 1969\n",
       "345 California Center       | steel           | San Francisco | 211.84 | 1986\n",
       "Millennium Tower            | concrete        | San Francisco | 196.6  | 2009\n",
       "One Rincon Hill South Tower | concrete        | San Francisco | 184.41 | 2008\n",
       "101 California Street       | steel           | San Francisco | 183    | 1982\n",
       "50 Fremont Center           | steel           | San Francisco | 183    | 1985\n",
       "Chevron Tower               | steel           | San Francisco | 174.65 | 1975\n",
       "Four Embarcadero Center     | steel           | San Francisco | 173.74 | 1984\n",
       "... (52 rows omitted)"
      ]
     },
     "execution_count": 19,
     "metadata": {},
     "output_type": "execute_result"
    }
   ],
   "source": [
    "sf"
   ]
  },
  {
   "cell_type": "code",
   "execution_count": 20,
   "metadata": {},
   "outputs": [
    {
     "data": {
      "text/plain": [
       "154.2861296130764"
      ]
     },
     "execution_count": 20,
     "metadata": {},
     "output_type": "execute_result"
    }
   ],
   "source": [
    "np.average(sf.column('height'))"
   ]
  },
  {
   "cell_type": "markdown",
   "metadata": {
    "slideshow": {
     "slide_type": "slide"
    }
   },
   "source": [
    "### Ranges"
   ]
  },
  {
   "cell_type": "markdown",
   "metadata": {
    "slideshow": {
     "slide_type": "-"
    }
   },
   "source": [
    "* A range is an array of consecutive numbers\n",
    "    * `np.arange(stop)`: An array of increasing integers from `0` up to `stop`\n",
    "    * `np.arange(start, stop)`: An array of increasing integers from `start` up to `stop`\n",
    "    * `np.arange(start, stop, step)`: A range with step between consecutive values\n",
    "* The range always includes `start` but excludes `stop`"
   ]
  },
  {
   "cell_type": "markdown",
   "metadata": {
    "slideshow": {
     "slide_type": "slide"
    }
   },
   "source": [
    "## Ranges ##"
   ]
  },
  {
   "cell_type": "markdown",
   "metadata": {
    "slideshow": {
     "slide_type": "-"
    }
   },
   "source": [
    "Make an array explicitly using `make_array` and then construct it and several others using `np.arange`. Access items in an array using the `item` method. Explore the documentation for `np.arange` and force some common errors.\n",
    "\n",
    "For those with experience using Python arrays, keep in mind that this course does not use the bracket notation `[]` to access items in an array and that may trigger an error in the auto-grader on assignments."
   ]
  },
  {
   "cell_type": "code",
   "execution_count": 21,
   "metadata": {
    "slideshow": {
     "slide_type": "fragment"
    }
   },
   "outputs": [
    {
     "data": {
      "text/plain": [
       "array([0, 1, 2, 3, 4, 5, 6])"
      ]
     },
     "execution_count": 21,
     "metadata": {},
     "output_type": "execute_result"
    }
   ],
   "source": [
    "np.arange(7)"
   ]
  },
  {
   "cell_type": "code",
   "execution_count": 22,
   "metadata": {},
   "outputs": [
    {
     "data": {
      "text/plain": [
       "array([1, 2, 3, 4, 5, 6])"
      ]
     },
     "execution_count": 22,
     "metadata": {},
     "output_type": "execute_result"
    }
   ],
   "source": [
    "np.arange(1, 7)"
   ]
  },
  {
   "cell_type": "code",
   "execution_count": 28,
   "metadata": {},
   "outputs": [
    {
     "data": {
      "text/plain": [
       "array([ 1, 11, 21, 31, 41, 51, 61, 71, 81, 91])"
      ]
     },
     "execution_count": 28,
     "metadata": {},
     "output_type": "execute_result"
    }
   ],
   "source": [
    "np.arange(1, 101, 10)"
   ]
  },
  {
   "cell_type": "code",
   "execution_count": 29,
   "metadata": {},
   "outputs": [
    {
     "data": {
      "text/plain": [
       "array([50, 45, 40, 35, 30, 25, 20, 15, 10,  5])"
      ]
     },
     "execution_count": 29,
     "metadata": {},
     "output_type": "execute_result"
    }
   ],
   "source": [
    "x = np.arange(50, 4, -5)\n",
    "x"
   ]
  },
  {
   "cell_type": "code",
   "execution_count": 30,
   "metadata": {},
   "outputs": [
    {
     "data": {
      "text/plain": [
       "50"
      ]
     },
     "execution_count": 30,
     "metadata": {},
     "output_type": "execute_result"
    }
   ],
   "source": [
    "x.item(0)"
   ]
  },
  {
   "cell_type": "code",
   "execution_count": 31,
   "metadata": {},
   "outputs": [
    {
     "data": {
      "text/plain": [
       "45"
      ]
     },
     "execution_count": 31,
     "metadata": {},
     "output_type": "execute_result"
    }
   ],
   "source": [
    "x.item(1)"
   ]
  },
  {
   "cell_type": "code",
   "execution_count": 32,
   "metadata": {},
   "outputs": [
    {
     "data": {
      "text/plain": [
       "5"
      ]
     },
     "execution_count": 32,
     "metadata": {},
     "output_type": "execute_result"
    }
   ],
   "source": [
    "x.item(9)"
   ]
  },
  {
   "cell_type": "code",
   "execution_count": 33,
   "metadata": {},
   "outputs": [
    {
     "ename": "IndexError",
     "evalue": "index 10 is out of bounds for axis 0 with size 10",
     "output_type": "error",
     "traceback": [
      "\u001b[0;31m---------------------------------------------------------------------------\u001b[0m",
      "\u001b[0;31mIndexError\u001b[0m                                Traceback (most recent call last)",
      "Input \u001b[0;32mIn [33]\u001b[0m, in \u001b[0;36m<module>\u001b[0;34m\u001b[0m\n\u001b[0;32m----> 1\u001b[0m \u001b[43mx\u001b[49m\u001b[38;5;241;43m.\u001b[39;49m\u001b[43mitem\u001b[49m\u001b[43m(\u001b[49m\u001b[38;5;241;43m10\u001b[39;49m\u001b[43m)\u001b[49m\n",
      "\u001b[0;31mIndexError\u001b[0m: index 10 is out of bounds for axis 0 with size 10"
     ]
    }
   ],
   "source": [
    "x.item(10)"
   ]
  },
  {
   "cell_type": "markdown",
   "metadata": {
    "slideshow": {
     "slide_type": "slide"
    }
   },
   "source": [
    "### Ways to Create a Table"
   ]
  },
  {
   "cell_type": "markdown",
   "metadata": {
    "slideshow": {
     "slide_type": "-"
    }
   },
   "source": [
    "* `Table.read_table(filename)` - reads a table from a spreadsheet\n",
    "* `Table()` - an empty table\n",
    "* and… `select`, `drop`, `where`, `sort` and a few other table methods all create new tables"
   ]
  },
  {
   "cell_type": "markdown",
   "metadata": {
    "slideshow": {
     "slide_type": "slide"
    }
   },
   "source": [
    "### Demo: Creating a Table from Scratch"
   ]
  },
  {
   "cell_type": "markdown",
   "metadata": {
    "slideshow": {
     "slide_type": "-"
    }
   },
   "source": [
    "Create a table containing information on the major east-west streets north of the Ocean campus and how far they are from campus. Make sure how to see that most table methods will end up creating a new table and not modify the original one.\n",
    "\n",
    "[Google Maps near CCSF - Ocean Campus](https://goo.gl/maps/QVR57VvqKWqLeSA9A)"
   ]
  },
  {
   "cell_type": "code",
   "execution_count": 34,
   "metadata": {
    "slideshow": {
     "slide_type": "fragment"
    }
   },
   "outputs": [
    {
     "data": {
      "text/plain": [
       "array(['Judson', 'Staples', 'Flood', 'Hearst'], dtype='<U7')"
      ]
     },
     "execution_count": 34,
     "metadata": {},
     "output_type": "execute_result"
    }
   ],
   "source": [
    "streets = make_array('Judson', 'Staples', 'Flood', 'Hearst')\n",
    "streets"
   ]
  },
  {
   "cell_type": "code",
   "execution_count": 36,
   "metadata": {},
   "outputs": [
    {
     "data": {
      "text/html": [
       "<table border=\"1\" class=\"dataframe\">\n",
       "    <thead>\n",
       "        <tr>\n",
       "            <th>Streets</th>\n",
       "        </tr>\n",
       "    </thead>\n",
       "    <tbody>\n",
       "        <tr>\n",
       "            <td>Judson </td>\n",
       "        </tr>\n",
       "        <tr>\n",
       "            <td>Staples</td>\n",
       "        </tr>\n",
       "        <tr>\n",
       "            <td>Flood  </td>\n",
       "        </tr>\n",
       "        <tr>\n",
       "            <td>Hearst </td>\n",
       "        </tr>\n",
       "    </tbody>\n",
       "</table>"
      ],
      "text/plain": [
       "Streets\n",
       "Judson\n",
       "Staples\n",
       "Flood\n",
       "Hearst"
      ]
     },
     "execution_count": 36,
     "metadata": {},
     "output_type": "execute_result"
    }
   ],
   "source": [
    "northside = Table().with_column('Streets', streets)\n",
    "northside"
   ]
  },
  {
   "cell_type": "code",
   "execution_count": 37,
   "metadata": {},
   "outputs": [
    {
     "data": {
      "text/html": [
       "<table border=\"1\" class=\"dataframe\">\n",
       "    <thead>\n",
       "        <tr>\n",
       "            <th>Streets</th> <th>Blocks from campus</th>\n",
       "        </tr>\n",
       "    </thead>\n",
       "    <tbody>\n",
       "        <tr>\n",
       "            <td>Judson </td> <td>0                 </td>\n",
       "        </tr>\n",
       "        <tr>\n",
       "            <td>Staples</td> <td>1                 </td>\n",
       "        </tr>\n",
       "        <tr>\n",
       "            <td>Flood  </td> <td>2                 </td>\n",
       "        </tr>\n",
       "        <tr>\n",
       "            <td>Hearst </td> <td>3                 </td>\n",
       "        </tr>\n",
       "    </tbody>\n",
       "</table>"
      ],
      "text/plain": [
       "Streets | Blocks from campus\n",
       "Judson  | 0\n",
       "Staples | 1\n",
       "Flood   | 2\n",
       "Hearst  | 3"
      ]
     },
     "execution_count": 37,
     "metadata": {},
     "output_type": "execute_result"
    }
   ],
   "source": [
    "northside.with_column('Blocks from campus', np.arange(4))\n"
   ]
  },
  {
   "cell_type": "code",
   "execution_count": 38,
   "metadata": {},
   "outputs": [
    {
     "data": {
      "text/html": [
       "<table border=\"1\" class=\"dataframe\">\n",
       "    <thead>\n",
       "        <tr>\n",
       "            <th>Streets</th>\n",
       "        </tr>\n",
       "    </thead>\n",
       "    <tbody>\n",
       "        <tr>\n",
       "            <td>Judson </td>\n",
       "        </tr>\n",
       "        <tr>\n",
       "            <td>Staples</td>\n",
       "        </tr>\n",
       "        <tr>\n",
       "            <td>Flood  </td>\n",
       "        </tr>\n",
       "        <tr>\n",
       "            <td>Hearst </td>\n",
       "        </tr>\n",
       "    </tbody>\n",
       "</table>"
      ],
      "text/plain": [
       "Streets\n",
       "Judson\n",
       "Staples\n",
       "Flood\n",
       "Hearst"
      ]
     },
     "execution_count": 38,
     "metadata": {},
     "output_type": "execute_result"
    }
   ],
   "source": [
    "northside"
   ]
  },
  {
   "cell_type": "markdown",
   "metadata": {},
   "source": [
    "There are various properties of a table that you can access as well using the dot notation such as labels, num_columns, and num_rows."
   ]
  },
  {
   "cell_type": "code",
   "execution_count": 39,
   "metadata": {},
   "outputs": [
    {
     "data": {
      "text/plain": [
       "('Streets', 'Blocks from campus')"
      ]
     },
     "execution_count": 39,
     "metadata": {},
     "output_type": "execute_result"
    }
   ],
   "source": [
    "northside = northside.with_column('Blocks from campus', np.arange(4))\n",
    "northside.labels"
   ]
  },
  {
   "cell_type": "code",
   "execution_count": 41,
   "metadata": {},
   "outputs": [
    {
     "data": {
      "text/plain": [
       "2"
      ]
     },
     "execution_count": 41,
     "metadata": {},
     "output_type": "execute_result"
    }
   ],
   "source": [
    "northside.num_columns"
   ]
  },
  {
   "cell_type": "code",
   "execution_count": 42,
   "metadata": {},
   "outputs": [
    {
     "data": {
      "text/plain": [
       "4"
      ]
     },
     "execution_count": 42,
     "metadata": {},
     "output_type": "execute_result"
    }
   ],
   "source": [
    "northside.num_rows"
   ]
  },
  {
   "cell_type": "markdown",
   "metadata": {
    "slideshow": {
     "slide_type": "slide"
    }
   },
   "source": [
    "## Example: W. E. B. Du Bois"
   ]
  },
  {
   "cell_type": "markdown",
   "metadata": {
    "slideshow": {
     "slide_type": "notes"
    }
   },
   "source": [
    "Image Source: [Wikipedia - W. E. B. Du Bois](https://en.wikipedia.org/wiki/W._E._B._Du_Bois)"
   ]
  },
  {
   "cell_type": "markdown",
   "metadata": {
    "slideshow": {
     "slide_type": "-"
    }
   },
   "source": [
    "<a href=\"https://en.wikipedia.org/wiki/W._E._B._Du_Bois\"><img src=\"./img/WEB_DuBois_1918.jpeg\" width = 12%></a>\n",
    "\n",
    "* Scholar, historian, activist, and data scientist\n",
    "* NAACP founder\n",
    "* Made a series of visualizations for the 1900 Paris Exposition\n",
    "    * Goal: change the way people see Black Americans\n",
    "    * Hundreds of photographs and patents\n",
    "    * 60+ handmade graphs in 3 months"
   ]
  },
  {
   "cell_type": "markdown",
   "metadata": {
    "slideshow": {
     "slide_type": "notes"
    }
   },
   "source": [
    "Image Sources:\n",
    "* [Smithsonian Magazine - W.E.B. Du Bois’ Visionary Infographics Come Together for the First Time in Full Color](https://www.smithsonianmag.com/history/first-time-together-and-color-book-displays-web-du-bois-visionary-infographics-180970826/#)\n",
    "* [WBUR - W.E.B. Du Bois Created These Infographics In 1900 To Humanize The African-American Experience](https://www.wbur.org/news/2019/02/21/web-du-bois-infographics-humanity-african-american)"
   ]
  },
  {
   "cell_type": "markdown",
   "metadata": {
    "slideshow": {
     "slide_type": "slide"
    }
   },
   "source": [
    "<img src=\"//cdn.thinglink.me/api/image/1119379323288027138/1024/10/scaletowidth#tl-1119379323288027138;1750075619\" width=32%>"
   ]
  },
  {
   "cell_type": "markdown",
   "metadata": {
    "slideshow": {
     "slide_type": "slide"
    }
   },
   "source": [
    "<img src=\"//cdn.thinglink.me/api/image/1119380866397634562/1024/10/scaletowidth#tl-1119380866397634562;1750075619\" width = 32%>"
   ]
  },
  {
   "cell_type": "markdown",
   "metadata": {
    "slideshow": {
     "slide_type": "slide"
    }
   },
   "source": [
    "<img src=\"./img/WEB_DuBois_income_and_expenditure.jpeg\" width = 50%>"
   ]
  },
  {
   "cell_type": "markdown",
   "metadata": {
    "slideshow": {
     "slide_type": "slide"
    }
   },
   "source": [
    "### Demo: Reading a Table from a File"
   ]
  },
  {
   "cell_type": "markdown",
   "metadata": {
    "slideshow": {
     "slide_type": "-"
    }
   },
   "source": [
    "Read the `du_bois.csv` data as a table."
   ]
  },
  {
   "cell_type": "code",
   "execution_count": 43,
   "metadata": {
    "slideshow": {
     "slide_type": "fragment"
    }
   },
   "outputs": [
    {
     "data": {
      "text/html": [
       "<table border=\"1\" class=\"dataframe\">\n",
       "    <thead>\n",
       "        <tr>\n",
       "            <th>CLASS</th> <th>ACTUAL AVERAGE</th> <th>RENT</th> <th>FOOD</th> <th>CLOTHES</th> <th>TAXES</th> <th>OTHER</th> <th>STATUS</th>\n",
       "        </tr>\n",
       "    </thead>\n",
       "    <tbody>\n",
       "        <tr>\n",
       "            <td>100-200      </td> <td>139.1         </td> <td>0.19</td> <td>0.43</td> <td>0.28   </td> <td>0.001</td> <td>0.099</td> <td>POOR       </td>\n",
       "        </tr>\n",
       "        <tr>\n",
       "            <td>200-300      </td> <td>249.45        </td> <td>0.22</td> <td>0.47</td> <td>0.23   </td> <td>0.04 </td> <td>0.04 </td> <td>POOR       </td>\n",
       "        </tr>\n",
       "        <tr>\n",
       "            <td>300-400      </td> <td>335.66        </td> <td>0.23</td> <td>0.43</td> <td>0.18   </td> <td>0.045</td> <td>0.115</td> <td>FAIR       </td>\n",
       "        </tr>\n",
       "        <tr>\n",
       "            <td>400-500      </td> <td>433.82        </td> <td>0.18</td> <td>0.37</td> <td>0.15   </td> <td>0.055</td> <td>0.245</td> <td>FAIR       </td>\n",
       "        </tr>\n",
       "        <tr>\n",
       "            <td>500-750      </td> <td>547           </td> <td>0.13</td> <td>0.31</td> <td>0.17   </td> <td>0.05 </td> <td>0.34 </td> <td>COMFORTABLE</td>\n",
       "        </tr>\n",
       "        <tr>\n",
       "            <td>750-1000     </td> <td>880           </td> <td>0   </td> <td>0.37</td> <td>0.19   </td> <td>0.08 </td> <td>0.36 </td> <td>COMFORTABLE</td>\n",
       "        </tr>\n",
       "        <tr>\n",
       "            <td>1000 and over</td> <td>1125          </td> <td>0   </td> <td>0.29</td> <td>0.16   </td> <td>0.045</td> <td>0.505</td> <td>WELL-TO-DO </td>\n",
       "        </tr>\n",
       "    </tbody>\n",
       "</table>"
      ],
      "text/plain": [
       "CLASS         | ACTUAL AVERAGE | RENT | FOOD | CLOTHES | TAXES | OTHER | STATUS\n",
       "100-200       | 139.1          | 0.19 | 0.43 | 0.28    | 0.001 | 0.099 | POOR\n",
       "200-300       | 249.45         | 0.22 | 0.47 | 0.23    | 0.04  | 0.04  | POOR\n",
       "300-400       | 335.66         | 0.23 | 0.43 | 0.18    | 0.045 | 0.115 | FAIR\n",
       "400-500       | 433.82         | 0.18 | 0.37 | 0.15    | 0.055 | 0.245 | FAIR\n",
       "500-750       | 547            | 0.13 | 0.31 | 0.17    | 0.05  | 0.34  | COMFORTABLE\n",
       "750-1000      | 880            | 0    | 0.37 | 0.19    | 0.08  | 0.36  | COMFORTABLE\n",
       "1000 and over | 1125           | 0    | 0.29 | 0.16    | 0.045 | 0.505 | WELL-TO-DO"
      ]
     },
     "execution_count": 43,
     "metadata": {},
     "output_type": "execute_result"
    }
   ],
   "source": [
    "du_bois = Table.read_table('du_bois.csv')\n",
    "du_bois"
   ]
  },
  {
   "cell_type": "markdown",
   "metadata": {
    "slideshow": {
     "slide_type": "slide"
    }
   },
   "source": [
    "Find the income bracket (`CLASS`) that spent the highest percentage of their income on rent."
   ]
  },
  {
   "cell_type": "code",
   "execution_count": 44,
   "metadata": {
    "slideshow": {
     "slide_type": "fragment"
    }
   },
   "outputs": [
    {
     "data": {
      "text/html": [
       "<table border=\"1\" class=\"dataframe\">\n",
       "    <thead>\n",
       "        <tr>\n",
       "            <th>CLASS</th> <th>ACTUAL AVERAGE</th> <th>RENT</th> <th>FOOD</th> <th>CLOTHES</th> <th>TAXES</th> <th>OTHER</th> <th>STATUS</th>\n",
       "        </tr>\n",
       "    </thead>\n",
       "    <tbody>\n",
       "        <tr>\n",
       "            <td>300-400      </td> <td>335.66        </td> <td>0.23</td> <td>0.43</td> <td>0.18   </td> <td>0.045</td> <td>0.115</td> <td>FAIR       </td>\n",
       "        </tr>\n",
       "        <tr>\n",
       "            <td>200-300      </td> <td>249.45        </td> <td>0.22</td> <td>0.47</td> <td>0.23   </td> <td>0.04 </td> <td>0.04 </td> <td>POOR       </td>\n",
       "        </tr>\n",
       "        <tr>\n",
       "            <td>100-200      </td> <td>139.1         </td> <td>0.19</td> <td>0.43</td> <td>0.28   </td> <td>0.001</td> <td>0.099</td> <td>POOR       </td>\n",
       "        </tr>\n",
       "        <tr>\n",
       "            <td>400-500      </td> <td>433.82        </td> <td>0.18</td> <td>0.37</td> <td>0.15   </td> <td>0.055</td> <td>0.245</td> <td>FAIR       </td>\n",
       "        </tr>\n",
       "        <tr>\n",
       "            <td>500-750      </td> <td>547           </td> <td>0.13</td> <td>0.31</td> <td>0.17   </td> <td>0.05 </td> <td>0.34 </td> <td>COMFORTABLE</td>\n",
       "        </tr>\n",
       "        <tr>\n",
       "            <td>750-1000     </td> <td>880           </td> <td>0   </td> <td>0.37</td> <td>0.19   </td> <td>0.08 </td> <td>0.36 </td> <td>COMFORTABLE</td>\n",
       "        </tr>\n",
       "        <tr>\n",
       "            <td>1000 and over</td> <td>1125          </td> <td>0   </td> <td>0.29</td> <td>0.16   </td> <td>0.045</td> <td>0.505</td> <td>WELL-TO-DO </td>\n",
       "        </tr>\n",
       "    </tbody>\n",
       "</table>"
      ],
      "text/plain": [
       "CLASS         | ACTUAL AVERAGE | RENT | FOOD | CLOTHES | TAXES | OTHER | STATUS\n",
       "300-400       | 335.66         | 0.23 | 0.43 | 0.18    | 0.045 | 0.115 | FAIR\n",
       "200-300       | 249.45         | 0.22 | 0.47 | 0.23    | 0.04  | 0.04  | POOR\n",
       "100-200       | 139.1          | 0.19 | 0.43 | 0.28    | 0.001 | 0.099 | POOR\n",
       "400-500       | 433.82         | 0.18 | 0.37 | 0.15    | 0.055 | 0.245 | FAIR\n",
       "500-750       | 547            | 0.13 | 0.31 | 0.17    | 0.05  | 0.34  | COMFORTABLE\n",
       "750-1000      | 880            | 0    | 0.37 | 0.19    | 0.08  | 0.36  | COMFORTABLE\n",
       "1000 and over | 1125           | 0    | 0.29 | 0.16    | 0.045 | 0.505 | WELL-TO-DO"
      ]
     },
     "execution_count": 44,
     "metadata": {},
     "output_type": "execute_result"
    }
   ],
   "source": [
    "du_bois.sort('RENT', descending=True)"
   ]
  },
  {
   "cell_type": "markdown",
   "metadata": {
    "slideshow": {
     "slide_type": "slide"
    }
   },
   "source": [
    "Explore the table using `select`, `column`"
   ]
  },
  {
   "cell_type": "code",
   "execution_count": 45,
   "metadata": {
    "slideshow": {
     "slide_type": "fragment"
    }
   },
   "outputs": [
    {
     "data": {
      "text/html": [
       "<table border=\"1\" class=\"dataframe\">\n",
       "    <thead>\n",
       "        <tr>\n",
       "            <th>STATUS</th>\n",
       "        </tr>\n",
       "    </thead>\n",
       "    <tbody>\n",
       "        <tr>\n",
       "            <td>POOR       </td>\n",
       "        </tr>\n",
       "        <tr>\n",
       "            <td>POOR       </td>\n",
       "        </tr>\n",
       "        <tr>\n",
       "            <td>FAIR       </td>\n",
       "        </tr>\n",
       "        <tr>\n",
       "            <td>FAIR       </td>\n",
       "        </tr>\n",
       "        <tr>\n",
       "            <td>COMFORTABLE</td>\n",
       "        </tr>\n",
       "        <tr>\n",
       "            <td>COMFORTABLE</td>\n",
       "        </tr>\n",
       "        <tr>\n",
       "            <td>WELL-TO-DO </td>\n",
       "        </tr>\n",
       "    </tbody>\n",
       "</table>"
      ],
      "text/plain": [
       "STATUS\n",
       "POOR\n",
       "POOR\n",
       "FAIR\n",
       "FAIR\n",
       "COMFORTABLE\n",
       "COMFORTABLE\n",
       "WELL-TO-DO"
      ]
     },
     "execution_count": 45,
     "metadata": {},
     "output_type": "execute_result"
    }
   ],
   "source": [
    "du_bois.select(\"STATUS\")"
   ]
  },
  {
   "cell_type": "markdown",
   "metadata": {
    "slideshow": {
     "slide_type": "slide"
    }
   },
   "source": [
    "Add a column to the table showing the dollar amount for food based on the presented average."
   ]
  },
  {
   "cell_type": "code",
   "execution_count": 47,
   "metadata": {},
   "outputs": [
    {
     "data": {
      "text/plain": [
       "array([ 59.813 , 117.2415, 144.3338, 160.5134, 169.57  , 325.6   ,\n",
       "       326.25  ])"
      ]
     },
     "execution_count": 47,
     "metadata": {},
     "output_type": "execute_result"
    }
   ],
   "source": [
    "food_in_dollars = du_bois.column('ACTUAL AVERAGE') * du_bois.column('FOOD')\n",
    "food_in_dollars"
   ]
  },
  {
   "cell_type": "code",
   "execution_count": 48,
   "metadata": {
    "slideshow": {
     "slide_type": "fragment"
    }
   },
   "outputs": [
    {
     "data": {
      "text/html": [
       "<table border=\"1\" class=\"dataframe\">\n",
       "    <thead>\n",
       "        <tr>\n",
       "            <th>CLASS</th> <th>ACTUAL AVERAGE</th> <th>RENT</th> <th>FOOD</th> <th>CLOTHES</th> <th>TAXES</th> <th>OTHER</th> <th>STATUS</th> <th>Food Cost in Dollars</th>\n",
       "        </tr>\n",
       "    </thead>\n",
       "    <tbody>\n",
       "        <tr>\n",
       "            <td>100-200      </td> <td>139.1         </td> <td>0.19</td> <td>0.43</td> <td>0.28   </td> <td>0.001</td> <td>0.099</td> <td>POOR       </td> <td>59.813              </td>\n",
       "        </tr>\n",
       "        <tr>\n",
       "            <td>200-300      </td> <td>249.45        </td> <td>0.22</td> <td>0.47</td> <td>0.23   </td> <td>0.04 </td> <td>0.04 </td> <td>POOR       </td> <td>117.241             </td>\n",
       "        </tr>\n",
       "        <tr>\n",
       "            <td>300-400      </td> <td>335.66        </td> <td>0.23</td> <td>0.43</td> <td>0.18   </td> <td>0.045</td> <td>0.115</td> <td>FAIR       </td> <td>144.334             </td>\n",
       "        </tr>\n",
       "        <tr>\n",
       "            <td>400-500      </td> <td>433.82        </td> <td>0.18</td> <td>0.37</td> <td>0.15   </td> <td>0.055</td> <td>0.245</td> <td>FAIR       </td> <td>160.513             </td>\n",
       "        </tr>\n",
       "        <tr>\n",
       "            <td>500-750      </td> <td>547           </td> <td>0.13</td> <td>0.31</td> <td>0.17   </td> <td>0.05 </td> <td>0.34 </td> <td>COMFORTABLE</td> <td>169.57              </td>\n",
       "        </tr>\n",
       "        <tr>\n",
       "            <td>750-1000     </td> <td>880           </td> <td>0   </td> <td>0.37</td> <td>0.19   </td> <td>0.08 </td> <td>0.36 </td> <td>COMFORTABLE</td> <td>325.6               </td>\n",
       "        </tr>\n",
       "        <tr>\n",
       "            <td>1000 and over</td> <td>1125          </td> <td>0   </td> <td>0.29</td> <td>0.16   </td> <td>0.045</td> <td>0.505</td> <td>WELL-TO-DO </td> <td>326.25              </td>\n",
       "        </tr>\n",
       "    </tbody>\n",
       "</table>"
      ],
      "text/plain": [
       "CLASS         | ACTUAL AVERAGE | RENT | FOOD | CLOTHES | TAXES | OTHER | STATUS      | Food Cost in Dollars\n",
       "100-200       | 139.1          | 0.19 | 0.43 | 0.28    | 0.001 | 0.099 | POOR        | 59.813\n",
       "200-300       | 249.45         | 0.22 | 0.47 | 0.23    | 0.04  | 0.04  | POOR        | 117.241\n",
       "300-400       | 335.66         | 0.23 | 0.43 | 0.18    | 0.045 | 0.115 | FAIR        | 144.334\n",
       "400-500       | 433.82         | 0.18 | 0.37 | 0.15    | 0.055 | 0.245 | FAIR        | 160.513\n",
       "500-750       | 547            | 0.13 | 0.31 | 0.17    | 0.05  | 0.34  | COMFORTABLE | 169.57\n",
       "750-1000      | 880            | 0    | 0.37 | 0.19    | 0.08  | 0.36  | COMFORTABLE | 325.6\n",
       "1000 and over | 1125           | 0    | 0.29 | 0.16    | 0.045 | 0.505 | WELL-TO-DO  | 326.25"
      ]
     },
     "execution_count": 48,
     "metadata": {},
     "output_type": "execute_result"
    }
   ],
   "source": [
    "du_bois = du_bois.with_column(\"Food Cost in Dollars\", food_in_dollars)\n",
    "du_bois"
   ]
  },
  {
   "cell_type": "markdown",
   "metadata": {
    "slideshow": {
     "slide_type": "slide"
    }
   },
   "source": [
    "Format the `Food` column as a percent using the `set_format` method."
   ]
  },
  {
   "cell_type": "code",
   "execution_count": 49,
   "metadata": {
    "slideshow": {
     "slide_type": "fragment"
    }
   },
   "outputs": [
    {
     "data": {
      "text/html": [
       "<table border=\"1\" class=\"dataframe\">\n",
       "    <thead>\n",
       "        <tr>\n",
       "            <th>CLASS</th> <th>ACTUAL AVERAGE</th> <th>RENT</th> <th>FOOD</th> <th>CLOTHES</th> <th>TAXES</th> <th>OTHER</th> <th>STATUS</th> <th>Food Cost in Dollars</th>\n",
       "        </tr>\n",
       "    </thead>\n",
       "    <tbody>\n",
       "        <tr>\n",
       "            <td>100-200      </td> <td>139.1         </td> <td>0.19</td> <td>43.00%</td> <td>0.28   </td> <td>0.001</td> <td>0.099</td> <td>POOR       </td> <td>59.813              </td>\n",
       "        </tr>\n",
       "        <tr>\n",
       "            <td>200-300      </td> <td>249.45        </td> <td>0.22</td> <td>47.00%</td> <td>0.23   </td> <td>0.04 </td> <td>0.04 </td> <td>POOR       </td> <td>117.241             </td>\n",
       "        </tr>\n",
       "        <tr>\n",
       "            <td>300-400      </td> <td>335.66        </td> <td>0.23</td> <td>43.00%</td> <td>0.18   </td> <td>0.045</td> <td>0.115</td> <td>FAIR       </td> <td>144.334             </td>\n",
       "        </tr>\n",
       "        <tr>\n",
       "            <td>400-500      </td> <td>433.82        </td> <td>0.18</td> <td>37.00%</td> <td>0.15   </td> <td>0.055</td> <td>0.245</td> <td>FAIR       </td> <td>160.513             </td>\n",
       "        </tr>\n",
       "        <tr>\n",
       "            <td>500-750      </td> <td>547           </td> <td>0.13</td> <td>31.00%</td> <td>0.17   </td> <td>0.05 </td> <td>0.34 </td> <td>COMFORTABLE</td> <td>169.57              </td>\n",
       "        </tr>\n",
       "        <tr>\n",
       "            <td>750-1000     </td> <td>880           </td> <td>0   </td> <td>37.00%</td> <td>0.19   </td> <td>0.08 </td> <td>0.36 </td> <td>COMFORTABLE</td> <td>325.6               </td>\n",
       "        </tr>\n",
       "        <tr>\n",
       "            <td>1000 and over</td> <td>1125          </td> <td>0   </td> <td>29.00%</td> <td>0.16   </td> <td>0.045</td> <td>0.505</td> <td>WELL-TO-DO </td> <td>326.25              </td>\n",
       "        </tr>\n",
       "    </tbody>\n",
       "</table>"
      ],
      "text/plain": [
       "CLASS         | ACTUAL AVERAGE | RENT | FOOD   | CLOTHES | TAXES | OTHER | STATUS      | Food Cost in Dollars\n",
       "100-200       | 139.1          | 0.19 | 43.00% | 0.28    | 0.001 | 0.099 | POOR        | 59.813\n",
       "200-300       | 249.45         | 0.22 | 47.00% | 0.23    | 0.04  | 0.04  | POOR        | 117.241\n",
       "300-400       | 335.66         | 0.23 | 43.00% | 0.18    | 0.045 | 0.115 | FAIR        | 144.334\n",
       "400-500       | 433.82         | 0.18 | 37.00% | 0.15    | 0.055 | 0.245 | FAIR        | 160.513\n",
       "500-750       | 547            | 0.13 | 31.00% | 0.17    | 0.05  | 0.34  | COMFORTABLE | 169.57\n",
       "750-1000      | 880            | 0    | 37.00% | 0.19    | 0.08  | 0.36  | COMFORTABLE | 325.6\n",
       "1000 and over | 1125           | 0    | 29.00% | 0.16    | 0.045 | 0.505 | WELL-TO-DO  | 326.25"
      ]
     },
     "execution_count": 49,
     "metadata": {},
     "output_type": "execute_result"
    }
   ],
   "source": [
    "du_bois.set_format('FOOD', PercentFormatter)"
   ]
  },
  {
   "cell_type": "code",
   "execution_count": 50,
   "metadata": {},
   "outputs": [
    {
     "data": {
      "text/html": [
       "<table border=\"1\" class=\"dataframe\">\n",
       "    <thead>\n",
       "        <tr>\n",
       "            <th>CLASS</th> <th>ACTUAL AVERAGE</th> <th>RENT</th> <th>FOOD</th> <th>CLOTHES</th> <th>TAXES</th> <th>OTHER</th> <th>STATUS</th> <th>FOOD COST IN DOLLARS</th>\n",
       "        </tr>\n",
       "    </thead>\n",
       "    <tbody>\n",
       "        <tr>\n",
       "            <td>100-200      </td> <td>139.1         </td> <td>0.19</td> <td>43.00%</td> <td>0.28   </td> <td>0.001</td> <td>0.099</td> <td>POOR       </td> <td>59.813              </td>\n",
       "        </tr>\n",
       "        <tr>\n",
       "            <td>200-300      </td> <td>249.45        </td> <td>0.22</td> <td>47.00%</td> <td>0.23   </td> <td>0.04 </td> <td>0.04 </td> <td>POOR       </td> <td>117.241             </td>\n",
       "        </tr>\n",
       "        <tr>\n",
       "            <td>300-400      </td> <td>335.66        </td> <td>0.23</td> <td>43.00%</td> <td>0.18   </td> <td>0.045</td> <td>0.115</td> <td>FAIR       </td> <td>144.334             </td>\n",
       "        </tr>\n",
       "        <tr>\n",
       "            <td>400-500      </td> <td>433.82        </td> <td>0.18</td> <td>37.00%</td> <td>0.15   </td> <td>0.055</td> <td>0.245</td> <td>FAIR       </td> <td>160.513             </td>\n",
       "        </tr>\n",
       "        <tr>\n",
       "            <td>500-750      </td> <td>547           </td> <td>0.13</td> <td>31.00%</td> <td>0.17   </td> <td>0.05 </td> <td>0.34 </td> <td>COMFORTABLE</td> <td>169.57              </td>\n",
       "        </tr>\n",
       "        <tr>\n",
       "            <td>750-1000     </td> <td>880           </td> <td>0   </td> <td>37.00%</td> <td>0.19   </td> <td>0.08 </td> <td>0.36 </td> <td>COMFORTABLE</td> <td>325.6               </td>\n",
       "        </tr>\n",
       "        <tr>\n",
       "            <td>1000 and over</td> <td>1125          </td> <td>0   </td> <td>29.00%</td> <td>0.16   </td> <td>0.045</td> <td>0.505</td> <td>WELL-TO-DO </td> <td>326.25              </td>\n",
       "        </tr>\n",
       "    </tbody>\n",
       "</table>"
      ],
      "text/plain": [
       "CLASS         | ACTUAL AVERAGE | RENT | FOOD   | CLOTHES | TAXES | OTHER | STATUS      | FOOD COST IN DOLLARS\n",
       "100-200       | 139.1          | 0.19 | 43.00% | 0.28    | 0.001 | 0.099 | POOR        | 59.813\n",
       "200-300       | 249.45         | 0.22 | 47.00% | 0.23    | 0.04  | 0.04  | POOR        | 117.241\n",
       "300-400       | 335.66         | 0.23 | 43.00% | 0.18    | 0.045 | 0.115 | FAIR        | 144.334\n",
       "400-500       | 433.82         | 0.18 | 37.00% | 0.15    | 0.055 | 0.245 | FAIR        | 160.513\n",
       "500-750       | 547            | 0.13 | 31.00% | 0.17    | 0.05  | 0.34  | COMFORTABLE | 169.57\n",
       "750-1000      | 880            | 0    | 37.00% | 0.19    | 0.08  | 0.36  | COMFORTABLE | 325.6\n",
       "1000 and over | 1125           | 0    | 29.00% | 0.16    | 0.045 | 0.505 | WELL-TO-DO  | 326.25"
      ]
     },
     "execution_count": 50,
     "metadata": {},
     "output_type": "execute_result"
    }
   ],
   "source": [
    "du_bois.relabeled(\"Food Cost in Dollars\", \"FOOD COST IN DOLLARS\")"
   ]
  },
  {
   "cell_type": "code",
   "execution_count": 51,
   "metadata": {},
   "outputs": [
    {
     "data": {
      "text/html": [
       "<table border=\"1\" class=\"dataframe\">\n",
       "    <thead>\n",
       "        <tr>\n",
       "            <th>CLASS</th> <th>ACTUAL AVERAGE</th> <th>RENT</th> <th>FOOD</th> <th>CLOTHES</th> <th>TAXES</th> <th>OTHER</th> <th>STATUS</th> <th>Food Cost in Dollars</th>\n",
       "        </tr>\n",
       "    </thead>\n",
       "    <tbody>\n",
       "        <tr>\n",
       "            <td>100-200      </td> <td>139.1         </td> <td>0.19</td> <td>43.00%</td> <td>0.28   </td> <td>0.001</td> <td>0.099</td> <td>POOR       </td> <td>59.813              </td>\n",
       "        </tr>\n",
       "        <tr>\n",
       "            <td>200-300      </td> <td>249.45        </td> <td>0.22</td> <td>47.00%</td> <td>0.23   </td> <td>0.04 </td> <td>0.04 </td> <td>POOR       </td> <td>117.241             </td>\n",
       "        </tr>\n",
       "        <tr>\n",
       "            <td>300-400      </td> <td>335.66        </td> <td>0.23</td> <td>43.00%</td> <td>0.18   </td> <td>0.045</td> <td>0.115</td> <td>FAIR       </td> <td>144.334             </td>\n",
       "        </tr>\n",
       "        <tr>\n",
       "            <td>400-500      </td> <td>433.82        </td> <td>0.18</td> <td>37.00%</td> <td>0.15   </td> <td>0.055</td> <td>0.245</td> <td>FAIR       </td> <td>160.513             </td>\n",
       "        </tr>\n",
       "        <tr>\n",
       "            <td>500-750      </td> <td>547           </td> <td>0.13</td> <td>31.00%</td> <td>0.17   </td> <td>0.05 </td> <td>0.34 </td> <td>COMFORTABLE</td> <td>169.57              </td>\n",
       "        </tr>\n",
       "        <tr>\n",
       "            <td>750-1000     </td> <td>880           </td> <td>0   </td> <td>37.00%</td> <td>0.19   </td> <td>0.08 </td> <td>0.36 </td> <td>COMFORTABLE</td> <td>325.6               </td>\n",
       "        </tr>\n",
       "        <tr>\n",
       "            <td>1000 and over</td> <td>1125          </td> <td>0   </td> <td>29.00%</td> <td>0.16   </td> <td>0.045</td> <td>0.505</td> <td>WELL-TO-DO </td> <td>326.25              </td>\n",
       "        </tr>\n",
       "    </tbody>\n",
       "</table>"
      ],
      "text/plain": [
       "CLASS         | ACTUAL AVERAGE | RENT | FOOD   | CLOTHES | TAXES | OTHER | STATUS      | Food Cost in Dollars\n",
       "100-200       | 139.1          | 0.19 | 43.00% | 0.28    | 0.001 | 0.099 | POOR        | 59.813\n",
       "200-300       | 249.45         | 0.22 | 47.00% | 0.23    | 0.04  | 0.04  | POOR        | 117.241\n",
       "300-400       | 335.66         | 0.23 | 43.00% | 0.18    | 0.045 | 0.115 | FAIR        | 144.334\n",
       "400-500       | 433.82         | 0.18 | 37.00% | 0.15    | 0.055 | 0.245 | FAIR        | 160.513\n",
       "500-750       | 547            | 0.13 | 31.00% | 0.17    | 0.05  | 0.34  | COMFORTABLE | 169.57\n",
       "750-1000      | 880            | 0    | 37.00% | 0.19    | 0.08  | 0.36  | COMFORTABLE | 325.6\n",
       "1000 and over | 1125           | 0    | 29.00% | 0.16    | 0.045 | 0.505 | WELL-TO-DO  | 326.25"
      ]
     },
     "execution_count": 51,
     "metadata": {},
     "output_type": "execute_result"
    }
   ],
   "source": [
    "du_bois"
   ]
  },
  {
   "cell_type": "markdown",
   "metadata": {
    "slideshow": {
     "slide_type": "slide"
    }
   },
   "source": [
    "### Table Methods"
   ]
  },
  {
   "cell_type": "markdown",
   "metadata": {
    "slideshow": {
     "slide_type": "-"
    }
   },
   "source": [
    "* Creating and extending tables: `Table().with_column` and `Table.read_table`\n",
    "* Finding the size: `num_rows` and `num_columns`\n",
    "* Referring to columns: labels, relabeling, and indices \n",
    "    * `labels` and `relabeled`; column indices start at 0\n",
    "* Accessing data in a column: `column` takes a label or index and returns an array\n",
    "* Using array methods to work with data in columns: `item`, `sum`, `min`, `max`, and so on\n",
    "* Creating new tables containing some of the original columns: `select`, `drop`"
   ]
  },
  {
   "cell_type": "markdown",
   "metadata": {
    "slideshow": {
     "slide_type": "slide"
    }
   },
   "source": [
    "### Demo: Selecting Data in a Column"
   ]
  },
  {
   "cell_type": "markdown",
   "metadata": {
    "slideshow": {
     "slide_type": "-"
    }
   },
   "source": [
    "Explore the `movies_by_year_with_ticket_price.csv` data set trying to implement several of the methods used so far. Also, preview the `plot` method."
   ]
  },
  {
   "cell_type": "code",
   "execution_count": 52,
   "metadata": {
    "scrolled": false,
    "slideshow": {
     "slide_type": "fragment"
    }
   },
   "outputs": [
    {
     "data": {
      "text/html": [
       "<table border=\"1\" class=\"dataframe\">\n",
       "    <thead>\n",
       "        <tr>\n",
       "            <th>Year</th> <th>Average Ticket Price</th> <th>Total Gross</th> <th>Number of Movies</th> <th>#1 Movie</th>\n",
       "        </tr>\n",
       "    </thead>\n",
       "    <tbody>\n",
       "        <tr>\n",
       "            <td>2019</td> <td>9.16                </td> <td>11237.9    </td> <td>788             </td> <td>Avengers: Endgame                             </td>\n",
       "        </tr>\n",
       "        <tr>\n",
       "            <td>2018</td> <td>9.11                </td> <td>11611.3    </td> <td>878             </td> <td>Black Panther                                 </td>\n",
       "        </tr>\n",
       "        <tr>\n",
       "            <td>2017</td> <td>8.97                </td> <td>11125.4    </td> <td>740             </td> <td>Star Wars: Episode VIII - The Last Jedi       </td>\n",
       "        </tr>\n",
       "        <tr>\n",
       "            <td>2016</td> <td>8.65                </td> <td>11373.7    </td> <td>737             </td> <td>Rogue One: A Star Wars Story                  </td>\n",
       "        </tr>\n",
       "        <tr>\n",
       "            <td>2015</td> <td>8.43                </td> <td>11098.8    </td> <td>706             </td> <td>Star Wars: Episode VII - The Force Awakens    </td>\n",
       "        </tr>\n",
       "        <tr>\n",
       "            <td>2014</td> <td>8.17                </td> <td>10436.8    </td> <td>708             </td> <td>American Sniper                               </td>\n",
       "        </tr>\n",
       "        <tr>\n",
       "            <td>2013</td> <td>8.13                </td> <td>10955.9    </td> <td>689             </td> <td>The Hunger Games: Catching Fire               </td>\n",
       "        </tr>\n",
       "        <tr>\n",
       "            <td>2012</td> <td>7.96                </td> <td>10959.6    </td> <td>669             </td> <td>The Avengers                                  </td>\n",
       "        </tr>\n",
       "        <tr>\n",
       "            <td>2011</td> <td>7.93                </td> <td>10114.1    </td> <td>601             </td> <td>Harry Potter and the Deathly Hallows: Part 2  </td>\n",
       "        </tr>\n",
       "        <tr>\n",
       "            <td>2010</td> <td>7.89                </td> <td>10212.7    </td> <td>538             </td> <td>Toy Story 3                                   </td>\n",
       "        </tr>\n",
       "        <tr>\n",
       "            <td>2009</td> <td>7.5                 </td> <td>10821.6    </td> <td>520             </td> <td>Avatar                                        </td>\n",
       "        </tr>\n",
       "        <tr>\n",
       "            <td>2008</td> <td>7.18                </td> <td>9698.2     </td> <td>607             </td> <td>The Dark Knight                               </td>\n",
       "        </tr>\n",
       "        <tr>\n",
       "            <td>2007</td> <td>6.88                </td> <td>9690.7     </td> <td>632             </td> <td>Spider-Man 3                                  </td>\n",
       "        </tr>\n",
       "        <tr>\n",
       "            <td>2006</td> <td>6.55                </td> <td>9214.6     </td> <td>608             </td> <td>Pirates of the Caribbean: Dead Man's Chest    </td>\n",
       "        </tr>\n",
       "        <tr>\n",
       "            <td>2005</td> <td>6.41                </td> <td>8804.7     </td> <td>547             </td> <td>Star Wars: Episode III - Revenge of the Sith  </td>\n",
       "        </tr>\n",
       "        <tr>\n",
       "            <td>2004</td> <td>6.21                </td> <td>9321.7     </td> <td>551             </td> <td>Shrek 2                                       </td>\n",
       "        </tr>\n",
       "        <tr>\n",
       "            <td>2003</td> <td>6.03                </td> <td>9057.5     </td> <td>506             </td> <td>The Lord of the Rings: The Return of the King </td>\n",
       "        </tr>\n",
       "        <tr>\n",
       "            <td>2002</td> <td>5.8                 </td> <td>9206.4     </td> <td>480             </td> <td>Spider-Man                                    </td>\n",
       "        </tr>\n",
       "        <tr>\n",
       "            <td>2001</td> <td>5.65                </td> <td>8070       </td> <td>356             </td> <td>Harry Potter and the Sorcerer's Stone         </td>\n",
       "        </tr>\n",
       "        <tr>\n",
       "            <td>2000</td> <td>5.39                </td> <td>7678.3     </td> <td>371             </td> <td>How the Grinch Stole Christmas                </td>\n",
       "        </tr>\n",
       "        <tr>\n",
       "            <td>1999</td> <td>5.06                </td> <td>7316.7     </td> <td>385             </td> <td>Star Wars: Episode I - The Phantom Menace     </td>\n",
       "        </tr>\n",
       "        <tr>\n",
       "            <td>1998</td> <td>4.69                </td> <td>6575.8     </td> <td>336             </td> <td>Saving Private Ryan                           </td>\n",
       "        </tr>\n",
       "        <tr>\n",
       "            <td>1997</td> <td>4.59                </td> <td>6671.8     </td> <td>303             </td> <td>Titanic                                       </td>\n",
       "        </tr>\n",
       "        <tr>\n",
       "            <td>1996</td> <td>4.42                </td> <td>5706.7     </td> <td>310             </td> <td>Independence Day                              </td>\n",
       "        </tr>\n",
       "        <tr>\n",
       "            <td>1995</td> <td>4.35                </td> <td>5383.5     </td> <td>279             </td> <td>Toy Story                                     </td>\n",
       "        </tr>\n",
       "        <tr>\n",
       "            <td>1994</td> <td>4.08                </td> <td>5079.2     </td> <td>254             </td> <td>Forrest Gump                                  </td>\n",
       "        </tr>\n",
       "        <tr>\n",
       "            <td>1993</td> <td>4.14                </td> <td>4983.2     </td> <td>258             </td> <td>Jurassic Park                                 </td>\n",
       "        </tr>\n",
       "        <tr>\n",
       "            <td>1992</td> <td>4.15                </td> <td>4603.9     </td> <td>234             </td> <td>Aladdin                                       </td>\n",
       "        </tr>\n",
       "        <tr>\n",
       "            <td>1991</td> <td>4.21                </td> <td>4313.9     </td> <td>244             </td> <td>Terminator 2: Judgment Day                    </td>\n",
       "        </tr>\n",
       "        <tr>\n",
       "            <td>1990</td> <td>4.22                </td> <td>4527       </td> <td>224             </td> <td>Home Alone                                    </td>\n",
       "        </tr>\n",
       "        <tr>\n",
       "            <td>1989</td> <td>3.99                </td> <td>4155.4     </td> <td>236             </td> <td>Batman                                        </td>\n",
       "        </tr>\n",
       "        <tr>\n",
       "            <td>1988</td> <td>4.11                </td> <td>3565.8     </td> <td>248             </td> <td>Rain Man                                      </td>\n",
       "        </tr>\n",
       "        <tr>\n",
       "            <td>1987</td> <td>3.91                </td> <td>3562.9     </td> <td>232             </td> <td>Three Men and a Baby                          </td>\n",
       "        </tr>\n",
       "        <tr>\n",
       "            <td>1986</td> <td>3.71                </td> <td>3200.5     </td> <td>207             </td> <td>Top Gun                                       </td>\n",
       "        </tr>\n",
       "        <tr>\n",
       "            <td>1985</td> <td>3.55                </td> <td>3056.4     </td> <td>180             </td> <td>Back to the Future                            </td>\n",
       "        </tr>\n",
       "        <tr>\n",
       "            <td>1984</td> <td>3.36                </td> <td>3347.7     </td> <td>165             </td> <td>Beverly Hills Cop                             </td>\n",
       "        </tr>\n",
       "        <tr>\n",
       "            <td>1983</td> <td>3.15                </td> <td>2652.9     </td> <td>158             </td> <td>Star Wars: Episode VI - Return of the Jedi    </td>\n",
       "        </tr>\n",
       "        <tr>\n",
       "            <td>1982</td> <td>2.94                </td> <td>2866.2     </td> <td>131             </td> <td>E.T. the Extra-Terrestrial                    </td>\n",
       "        </tr>\n",
       "        <tr>\n",
       "            <td>1981</td> <td>2.78                </td> <td>2281.9     </td> <td>112             </td> <td>Raiders of the Lost Ark                       </td>\n",
       "        </tr>\n",
       "        <tr>\n",
       "            <td>1980</td> <td>2.69                </td> <td>2299       </td> <td>115             </td> <td>Star Wars: Episode V - The Empire Strikes Back</td>\n",
       "        </tr>\n",
       "        <tr>\n",
       "            <td>1979</td> <td>2.47                </td> <td>1957.5     </td> <td>83              </td> <td>Kramer vs. Kramer                             </td>\n",
       "        </tr>\n",
       "        <tr>\n",
       "            <td>1978</td> <td>2.34                </td> <td>1552.3     </td> <td>55              </td> <td>Grease                                        </td>\n",
       "        </tr>\n",
       "        <tr>\n",
       "            <td>1977</td> <td>2.23                </td> <td>1373.1     </td> <td>35              </td> <td>Star Wars: Episode IV - A New Hope            </td>\n",
       "        </tr>\n",
       "    </tbody>\n",
       "</table>"
      ],
      "text/plain": [
       "<IPython.core.display.HTML object>"
      ]
     },
     "metadata": {},
     "output_type": "display_data"
    }
   ],
   "source": [
    "movies = Table.read_table('movies_by_year_with_ticket_price.csv')\n",
    "movies.show()"
   ]
  },
  {
   "cell_type": "code",
   "execution_count": 55,
   "metadata": {},
   "outputs": [
    {
     "data": {
      "text/html": [
       "<table border=\"1\" class=\"dataframe\">\n",
       "    <thead>\n",
       "        <tr>\n",
       "            <th>Year</th> <th>Average Ticket Price</th> <th>Total Gross</th> <th>Number of Movies</th> <th>#1 Movie</th> <th>Number of Tickets</th>\n",
       "        </tr>\n",
       "    </thead>\n",
       "    <tbody>\n",
       "        <tr>\n",
       "            <td>2019</td> <td>9.16                </td> <td>11237.9    </td> <td>788             </td> <td>Avengers: Endgame                           </td> <td>1226.84          </td>\n",
       "        </tr>\n",
       "        <tr>\n",
       "            <td>2018</td> <td>9.11                </td> <td>11611.3    </td> <td>878             </td> <td>Black Panther                               </td> <td>1274.57          </td>\n",
       "        </tr>\n",
       "        <tr>\n",
       "            <td>2017</td> <td>8.97                </td> <td>11125.4    </td> <td>740             </td> <td>Star Wars: Episode VIII - The Last Jedi     </td> <td>1240.29          </td>\n",
       "        </tr>\n",
       "        <tr>\n",
       "            <td>2016</td> <td>8.65                </td> <td>11373.7    </td> <td>737             </td> <td>Rogue One: A Star Wars Story                </td> <td>1314.88          </td>\n",
       "        </tr>\n",
       "        <tr>\n",
       "            <td>2015</td> <td>8.43                </td> <td>11098.8    </td> <td>706             </td> <td>Star Wars: Episode VII - The Force Awakens  </td> <td>1316.58          </td>\n",
       "        </tr>\n",
       "        <tr>\n",
       "            <td>2014</td> <td>8.17                </td> <td>10436.8    </td> <td>708             </td> <td>American Sniper                             </td> <td>1277.45          </td>\n",
       "        </tr>\n",
       "        <tr>\n",
       "            <td>2013</td> <td>8.13                </td> <td>10955.9    </td> <td>689             </td> <td>The Hunger Games: Catching Fire             </td> <td>1347.59          </td>\n",
       "        </tr>\n",
       "        <tr>\n",
       "            <td>2012</td> <td>7.96                </td> <td>10959.6    </td> <td>669             </td> <td>The Avengers                                </td> <td>1376.83          </td>\n",
       "        </tr>\n",
       "        <tr>\n",
       "            <td>2011</td> <td>7.93                </td> <td>10114.1    </td> <td>601             </td> <td>Harry Potter and the Deathly Hallows: Part 2</td> <td>1275.42          </td>\n",
       "        </tr>\n",
       "        <tr>\n",
       "            <td>2010</td> <td>7.89                </td> <td>10212.7    </td> <td>538             </td> <td>Toy Story 3                                 </td> <td>1294.39          </td>\n",
       "        </tr>\n",
       "    </tbody>\n",
       "</table>\n",
       "<p>... (33 rows omitted)</p>"
      ],
      "text/plain": [
       "Year | Average Ticket Price | Total Gross | Number of Movies | #1 Movie                                     | Number of Tickets\n",
       "2019 | 9.16                 | 11237.9     | 788              | Avengers: Endgame                            | 1226.84\n",
       "2018 | 9.11                 | 11611.3     | 878              | Black Panther                                | 1274.57\n",
       "2017 | 8.97                 | 11125.4     | 740              | Star Wars: Episode VIII - The Last Jedi      | 1240.29\n",
       "2016 | 8.65                 | 11373.7     | 737              | Rogue One: A Star Wars Story                 | 1314.88\n",
       "2015 | 8.43                 | 11098.8     | 706              | Star Wars: Episode VII - The Force Awakens   | 1316.58\n",
       "2014 | 8.17                 | 10436.8     | 708              | American Sniper                              | 1277.45\n",
       "2013 | 8.13                 | 10955.9     | 689              | The Hunger Games: Catching Fire              | 1347.59\n",
       "2012 | 7.96                 | 10959.6     | 669              | The Avengers                                 | 1376.83\n",
       "2011 | 7.93                 | 10114.1     | 601              | Harry Potter and the Deathly Hallows: Part 2 | 1275.42\n",
       "2010 | 7.89                 | 10212.7     | 538              | Toy Story 3                                  | 1294.39\n",
       "... (33 rows omitted)"
      ]
     },
     "execution_count": 55,
     "metadata": {},
     "output_type": "execute_result"
    }
   ],
   "source": [
    "num_tix = movies.column(\"Total Gross\") / movies.column(\"Average Ticket Price\")\n",
    "movies = movies.with_column(\"Number of Tickets\", num_tix)\n",
    "movies"
   ]
  },
  {
   "cell_type": "code",
   "execution_count": 57,
   "metadata": {},
   "outputs": [
    {
     "data": {
      "image/png": "[encoded data removed]",
      "text/plain": [
       "<Figure size 432x432 with 1 Axes>"
      ]
     },
     "metadata": {},
     "output_type": "display_data"
    }
   ],
   "source": [
    "movies.plot('Year', 'Number of Tickets')"
   ]
  },
  {
   "cell_type": "code",
   "execution_count": 58,
   "metadata": {},
   "outputs": [
    {
     "data": {
      "text/html": [
       "<table border=\"1\" class=\"dataframe\">\n",
       "    <thead>\n",
       "        <tr>\n",
       "            <th>Year</th> <th>Number of Tickets</th> <th>Average Ticket Price</th> <th>Total Gross</th> <th>Number of Movies</th> <th>#1 Movie</th>\n",
       "        </tr>\n",
       "    </thead>\n",
       "    <tbody>\n",
       "        <tr>\n",
       "            <td>2019</td> <td>1226.84          </td> <td>9.16                </td> <td>11237.9    </td> <td>788             </td> <td>Avengers: Endgame                           </td>\n",
       "        </tr>\n",
       "        <tr>\n",
       "            <td>2018</td> <td>1274.57          </td> <td>9.11                </td> <td>11611.3    </td> <td>878             </td> <td>Black Panther                               </td>\n",
       "        </tr>\n",
       "        <tr>\n",
       "            <td>2017</td> <td>1240.29          </td> <td>8.97                </td> <td>11125.4    </td> <td>740             </td> <td>Star Wars: Episode VIII - The Last Jedi     </td>\n",
       "        </tr>\n",
       "        <tr>\n",
       "            <td>2016</td> <td>1314.88          </td> <td>8.65                </td> <td>11373.7    </td> <td>737             </td> <td>Rogue One: A Star Wars Story                </td>\n",
       "        </tr>\n",
       "        <tr>\n",
       "            <td>2015</td> <td>1316.58          </td> <td>8.43                </td> <td>11098.8    </td> <td>706             </td> <td>Star Wars: Episode VII - The Force Awakens  </td>\n",
       "        </tr>\n",
       "        <tr>\n",
       "            <td>2014</td> <td>1277.45          </td> <td>8.17                </td> <td>10436.8    </td> <td>708             </td> <td>American Sniper                             </td>\n",
       "        </tr>\n",
       "        <tr>\n",
       "            <td>2013</td> <td>1347.59          </td> <td>8.13                </td> <td>10955.9    </td> <td>689             </td> <td>The Hunger Games: Catching Fire             </td>\n",
       "        </tr>\n",
       "        <tr>\n",
       "            <td>2012</td> <td>1376.83          </td> <td>7.96                </td> <td>10959.6    </td> <td>669             </td> <td>The Avengers                                </td>\n",
       "        </tr>\n",
       "        <tr>\n",
       "            <td>2011</td> <td>1275.42          </td> <td>7.93                </td> <td>10114.1    </td> <td>601             </td> <td>Harry Potter and the Deathly Hallows: Part 2</td>\n",
       "        </tr>\n",
       "        <tr>\n",
       "            <td>2010</td> <td>1294.39          </td> <td>7.89                </td> <td>10212.7    </td> <td>538             </td> <td>Toy Story 3                                 </td>\n",
       "        </tr>\n",
       "    </tbody>\n",
       "</table>\n",
       "<p>... (33 rows omitted)</p>"
      ],
      "text/plain": [
       "Year | Number of Tickets | Average Ticket Price | Total Gross | Number of Movies | #1 Movie\n",
       "2019 | 1226.84           | 9.16                 | 11237.9     | 788              | Avengers: Endgame\n",
       "2018 | 1274.57           | 9.11                 | 11611.3     | 878              | Black Panther\n",
       "2017 | 1240.29           | 8.97                 | 11125.4     | 740              | Star Wars: Episode VIII - The Last Jedi\n",
       "2016 | 1314.88           | 8.65                 | 11373.7     | 737              | Rogue One: A Star Wars Story\n",
       "2015 | 1316.58           | 8.43                 | 11098.8     | 706              | Star Wars: Episode VII - The Force Awakens\n",
       "2014 | 1277.45           | 8.17                 | 10436.8     | 708              | American Sniper\n",
       "2013 | 1347.59           | 8.13                 | 10955.9     | 689              | The Hunger Games: Catching Fire\n",
       "2012 | 1376.83           | 7.96                 | 10959.6     | 669              | The Avengers\n",
       "2011 | 1275.42           | 7.93                 | 10114.1     | 601              | Harry Potter and the Deathly Hallows: Part 2\n",
       "2010 | 1294.39           | 7.89                 | 10212.7     | 538              | Toy Story 3\n",
       "... (33 rows omitted)"
      ]
     },
     "execution_count": 58,
     "metadata": {},
     "output_type": "execute_result"
    }
   ],
   "source": [
    "movies.move_column(\"Number of Tickets\", 1)"
   ]
  },
  {
   "cell_type": "markdown",
   "metadata": {
    "slideshow": {
     "slide_type": "notes"
    }
   },
   "source": [
    "<footer>\n",
    "    <hr>\n",
    "    <p>Adopted from UC Berkeley DATA 8 course materials.</p>\n",
    "    <p>This content is offered under a <a href=\"https://creativecommons.org/licenses/by-nc-sa/4.0/\">CC Attribution Non-Commercial Share Alike</a> license.</p>\n",
    "</footer>"
   ]
  }
 ],
 "metadata": {
  "kernelspec": {
   "display_name": "Python 3 (ipykernel)",
   "language": "python",
   "name": "python3"
  },
  "language_info": {
   "codemirror_mode": {
    "name": "ipython",
    "version": 3
   },
   "file_extension": ".py",
   "mimetype": "text/x-python",
   "name": "python",
   "nbconvert_exporter": "python",
   "pygments_lexer": "ipython3",
   "version": "3.9.9"
  },
  "toc": {
   "base_numbering": 1,
   "nav_menu": {},
   "number_sections": false,
   "sideBar": true,
   "skip_h1_title": false,
   "title_cell": "Table of Contents",
   "title_sidebar": "Contents",
   "toc_cell": true,
   "toc_position": {
    "height": "calc(100% - 180px)",
    "left": "10px",
    "top": "150px",
    "width": "231.797px"
   },
   "toc_section_display": false,
   "toc_window_display": false
  }
 },
 "nbformat": 4,
 "nbformat_minor": 2
}
