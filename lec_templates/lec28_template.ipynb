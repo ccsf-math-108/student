{
 "cells": [
  {
   "cell_type": "markdown",
   "metadata": {
    "slideshow": {
     "slide_type": "slide"
    }
   },
   "source": [
    "<div style=\"width: 38.5%;\">\n",
    "    <p><strong>City College of San Francisco</strong><p>\n",
    "    <hr>\n",
    "    <p>MATH 108 - Foundations of Data Science</p>\n",
    "</div>"
   ]
  },
  {
   "cell_type": "markdown",
   "metadata": {
    "slideshow": {
     "slide_type": "-"
    }
   },
   "source": [
    "# Lecture 28: Designing Experiments"
   ]
  },
  {
   "cell_type": "markdown",
   "metadata": {
    "slideshow": {
     "slide_type": "-"
    }
   },
   "source": [
    "Associated Textbook Sections: [14.6](https://inferentialthinking.com/chapters/14/6/Choosing_a_Sample_Size.html)"
   ]
  },
  {
   "cell_type": "markdown",
   "metadata": {
    "slideshow": {
     "slide_type": "slide"
    }
   },
   "source": [
    "<h2>Set Up the Notebook<h2>"
   ]
  },
  {
   "cell_type": "code",
   "execution_count": 1,
   "metadata": {
    "slideshow": {
     "slide_type": "-"
    }
   },
   "outputs": [],
   "source": [
    "from datascience import *\n",
    "import numpy as np\n",
    "%matplotlib inline\n",
    "import matplotlib.pyplot as plots\n",
    "plots.style.use('fivethirtyeight')"
   ]
  },
  {
   "cell_type": "markdown",
   "metadata": {
    "slideshow": {
     "slide_type": "notes"
    },
    "toc": true
   },
   "source": [
    "<h1>Table of Contents<span class=\"tocSkip\"></span></h1>\n",
    "<div class=\"toc\"><ul class=\"toc-item\"><li><span><a href=\"#Lecture-28:-Designing-Experiments\" data-toc-modified-id=\"Lecture-28:-Designing-Experiments-1\">Lecture 28: Designing Experiments</a></span><ul class=\"toc-item\"><li><span><a href=\"#Set-Up-the-Notebook\" data-toc-modified-id=\"Set-Up-the-Notebook-1.1\">Set Up the Notebook</a></span></li><li><span><a href=\"#\" data-toc-modified-id=\"-1.2\"></a></span></li><li><span><a href=\"#Confidence-Intervals\" data-toc-modified-id=\"Confidence-Intervals-1.3\">Confidence Intervals</a></span><ul class=\"toc-item\"><li><span><a href=\"#Graph-of-the-Distribution\" data-toc-modified-id=\"Graph-of-the-Distribution-1.3.1\">Graph of the Distribution</a></span></li><li><span><a href=\"#The-Key-to-95%-Confidence\" data-toc-modified-id=\"The-Key-to-95%-Confidence-1.3.2\">The Key to 95% Confidence</a></span></li><li><span><a href=\"#Constructing-the-Interval\" data-toc-modified-id=\"Constructing-the-Interval-1.3.3\">Constructing the Interval</a></span></li><li><span><a href=\"#The-Interval\" data-toc-modified-id=\"The-Interval-1.3.4\">The Interval</a></span></li><li><span><a href=\"#Width-of-the-Interval\" data-toc-modified-id=\"Width-of-the-Interval-1.3.5\">Width of the Interval</a></span></li></ul></li><li><span><a href=\"#Sample-Proportions\" data-toc-modified-id=\"Sample-Proportions-1.4\">Sample Proportions</a></span><ul class=\"toc-item\"><li><span><a href=\"#Proportions-are-Averages\" data-toc-modified-id=\"Proportions-are-Averages-1.4.1\">Proportions are Averages</a></span></li><li><span><a href=\"#Confidence-Interval\" data-toc-modified-id=\"Confidence-Interval-1.4.2\">Confidence Interval</a></span></li><li><span><a href=\"#Controlling-the-Width\" data-toc-modified-id=\"Controlling-the-Width-1.4.3\">Controlling the Width</a></span></li><li><span><a href=\"#The-Sample-Size-for-a-Given-Width\" data-toc-modified-id=\"The-Sample-Size-for-a-Given-Width-1.4.4\">The Sample Size for a Given Width</a></span></li><li><span><a href=\"#Demo:-SD-of-0/1-Population\" data-toc-modified-id=\"Demo:-SD-of-0/1-Population-1.4.5\">Demo: SD of 0/1 Population</a></span></li><li><span><a href=\"#&quot;Worst-Case&quot;-Population-SD\" data-toc-modified-id=\"&quot;Worst-Case&quot;-Population-SD-1.4.6\">\"Worst Case\" Population SD</a></span></li><li><span><a href=\"#Example\" data-toc-modified-id=\"Example-1.4.7\">Example</a></span></li><li><span><a href=\"#Another-Example\" data-toc-modified-id=\"Another-Example-1.4.8\">Another Example</a></span></li></ul></li></ul></li></ul></div>"
   ]
  },
  {
   "cell_type": "markdown",
   "metadata": {
    "slideshow": {
     "slide_type": "slide"
    }
   },
   "source": [
    "## Confidence Intervals"
   ]
  },
  {
   "cell_type": "markdown",
   "metadata": {
    "slideshow": {
     "slide_type": "slide"
    }
   },
   "source": [
    "### Graph of the Distribution"
   ]
  },
  {
   "cell_type": "markdown",
   "metadata": {
    "slideshow": {
     "slide_type": "-"
    }
   },
   "source": [
    "<img src=\"img/lec28_approx_dist_sample_ave.png\" width=50%>"
   ]
  },
  {
   "cell_type": "markdown",
   "metadata": {
    "slideshow": {
     "slide_type": "slide"
    }
   },
   "source": [
    "### The Key to 95% Confidence "
   ]
  },
  {
   "cell_type": "markdown",
   "metadata": {
    "slideshow": {
     "slide_type": "-"
    }
   },
   "source": [
    "<img src=\"img/lec28_95_confidence.png\" width=80%>\n",
    "\n",
    "* For about 95% of all samples, the sample average and population average are within 2 SDs of each other.\n",
    "* SD = SD of sample average = $(\\text{population SD}) / \\sqrt{\\text{sample size}}$\n"
   ]
  },
  {
   "cell_type": "markdown",
   "metadata": {
    "slideshow": {
     "slide_type": "slide"
    }
   },
   "source": [
    "### Constructing the Interval"
   ]
  },
  {
   "cell_type": "markdown",
   "metadata": {
    "slideshow": {
     "slide_type": "-"
    }
   },
   "source": [
    "For 95% of all samples,\n",
    "\n",
    "* If you stand at the population average and look two SDs on both sides, you will find the sample average.\n",
    "* Distance is symmetric.\n",
    "* So if you stand at the sample average and look two SDs on both sides, you will capture the population average.\n"
   ]
  },
  {
   "cell_type": "markdown",
   "metadata": {
    "slideshow": {
     "slide_type": "slide"
    }
   },
   "source": [
    "### The Interval"
   ]
  },
  {
   "cell_type": "markdown",
   "metadata": {
    "slideshow": {
     "slide_type": "-"
    }
   },
   "source": [
    "<img src=\"img/lec28_the_interval_mean.png\" width=80%>"
   ]
  },
  {
   "cell_type": "markdown",
   "metadata": {
    "slideshow": {
     "slide_type": "slide"
    }
   },
   "source": [
    "### Width of the Interval"
   ]
  },
  {
   "cell_type": "markdown",
   "metadata": {
    "slideshow": {
     "slide_type": "-"
    }
   },
   "source": [
    "Total width of a 95% confidence interval for the population average\n",
    "\n",
    "* $=  4 * \\text{SD of the sample average}$\n",
    "* $=  4 * (\\text{population SD}) / \\sqrt{\\text{sample size}}$\n"
   ]
  },
  {
   "cell_type": "markdown",
   "metadata": {
    "slideshow": {
     "slide_type": "slide"
    }
   },
   "source": [
    "## Sample Proportions"
   ]
  },
  {
   "cell_type": "markdown",
   "metadata": {
    "slideshow": {
     "slide_type": "slide"
    }
   },
   "source": [
    "### Proportions are Averages"
   ]
  },
  {
   "cell_type": "markdown",
   "metadata": {
    "slideshow": {
     "slide_type": "-"
    }
   },
   "source": [
    "* Data: 0 1 0 0 1 0 1 1 0 0 (10 entries)\n",
    "    * Sum  =  4  (number of 1's)\n",
    "    * Average  =  4/10  =  0.4 (proportion of 1's)\n",
    "* If the population consists of 1's and 0's (yes/no answers to a question), then:\n",
    "    * the population average is the proportion of 1's in the population\n",
    "    * the sample average is the proportion of 1's in the sample\n"
   ]
  },
  {
   "cell_type": "markdown",
   "metadata": {
    "slideshow": {
     "slide_type": "slide"
    }
   },
   "source": [
    "### Confidence Interval"
   ]
  },
  {
   "cell_type": "markdown",
   "metadata": {
    "slideshow": {
     "slide_type": "-"
    }
   },
   "source": [
    "<img src=\"img/lec28_the_interval_prop.png\" width=80%>"
   ]
  },
  {
   "cell_type": "markdown",
   "metadata": {
    "slideshow": {
     "slide_type": "slide"
    }
   },
   "source": [
    "### Controlling the Width"
   ]
  },
  {
   "cell_type": "markdown",
   "metadata": {
    "slideshow": {
     "slide_type": "-"
    }
   },
   "source": [
    "* Total width of an approximate 95% confidence interval for a population proportion is equal to \n",
    "\n",
    "$$4 * (\\text{SD of 0/1 population}) / \\sqrt{\\text{sample size}}$$\n",
    "\n",
    "* The narrower the interval, the more precise your estimate.\n",
    "* Suppose you want the total width of the interval to be no more than 1%. How should you choose the sample size?\n"
   ]
  },
  {
   "cell_type": "markdown",
   "metadata": {
    "slideshow": {
     "slide_type": "slide"
    }
   },
   "source": [
    "### The Sample Size for a Given Width"
   ]
  },
  {
   "cell_type": "markdown",
   "metadata": {
    "slideshow": {
     "slide_type": "-"
    }
   },
   "source": [
    "* $0.01  =  4 * (\\text{SD of 0/1 population}) / \\sqrt{\\text{sample size}}$\n",
    "* Left side: 1%, the max total width that you'll accept\n",
    "* Right side: formula for the total width\n",
    "* $\\sqrt{\\text{sample size}} =  4 * (\\text{SD of 0/1 population}) / 0.01$\n",
    "\n"
   ]
  },
  {
   "cell_type": "markdown",
   "metadata": {},
   "source": [
    "### Demo: SD of 0/1 Population"
   ]
  },
  {
   "cell_type": "markdown",
   "metadata": {},
   "source": [
    "Create a population of size 10"
   ]
  },
  {
   "cell_type": "code",
   "execution_count": 2,
   "metadata": {},
   "outputs": [
    {
     "data": {
      "text/plain": [
       "array([1., 1., 0., 0., 0., 0., 0., 0., 0., 0.])"
      ]
     },
     "execution_count": 2,
     "metadata": {},
     "output_type": "execute_result"
    }
   ],
   "source": [
    "number_of_ones = 2\n",
    "zero_one_population = np.append(np.ones(number_of_ones), np.zeros(10 - number_of_ones))\n",
    "zero_one_population"
   ]
  },
  {
   "cell_type": "code",
   "execution_count": 3,
   "metadata": {},
   "outputs": [
    {
     "data": {
      "text/plain": [
       "0.4000000000000001"
      ]
     },
     "execution_count": 3,
     "metadata": {},
     "output_type": "execute_result"
    }
   ],
   "source": [
    "np.std(zero_one_population)"
   ]
  },
  {
   "cell_type": "markdown",
   "metadata": {},
   "source": [
    "Let's make a graph with proportion of ones on the x axis and SD on the y axis."
   ]
  },
  {
   "cell_type": "code",
   "execution_count": 4,
   "metadata": {},
   "outputs": [],
   "source": [
    "def sd_of_zero_one_population(number_of_ones):\n",
    "    \"\"\"SD of a population with num_ones ones and (10 - num_ones) zeros\"\"\"\n",
    "    zero_one_population = np.append(np.ones(number_of_ones), np.zeros(10 - number_of_ones))\n",
    "    return np.std(zero_one_population)"
   ]
  },
  {
   "cell_type": "code",
   "execution_count": 5,
   "metadata": {},
   "outputs": [],
   "source": [
    "poss_ones = np.arange(11)\n",
    "zero_one_pop = Table().with_columns(\n",
    "    'Number of ones', poss_ones,\n",
    "    'Proportion of ones', poss_ones / 10\n",
    ")"
   ]
  },
  {
   "cell_type": "code",
   "execution_count": 6,
   "metadata": {},
   "outputs": [],
   "source": [
    "sds = zero_one_pop.apply(sd_of_zero_one_population, 'Number of ones')\n",
    "zero_one_pop = zero_one_pop.with_column('SD', sds)"
   ]
  },
  {
   "cell_type": "code",
   "execution_count": 7,
   "metadata": {},
   "outputs": [
    {
     "data": {
      "image/png": "[encoded data removed]",
      "text/plain": [
       "<Figure size 360x360 with 1 Axes>"
      ]
     },
     "metadata": {},
     "output_type": "display_data"
    }
   ],
   "source": [
    "zero_one_pop.scatter('Proportion of ones', 'SD')"
   ]
  },
  {
   "cell_type": "markdown",
   "metadata": {
    "slideshow": {
     "slide_type": "slide"
    }
   },
   "source": [
    "### \"Worst Case\" Population SD"
   ]
  },
  {
   "cell_type": "markdown",
   "metadata": {
    "slideshow": {
     "slide_type": "-"
    }
   },
   "source": [
    "* $\\sqrt{\\text{sample size}} =  4 * (\\text{SD of 0/1 population}) / 0.01$\n",
    "* SD of 0/1 population is at most 0.5\n",
    "* $\\sqrt{\\text{sample size}} \\geq 4 * 0.5 / 0.01$\n",
    "* $\\text{sample size} \\geq  (4 * 0.5 / 0.01)^ 2   =   40000$\n",
    "* The sample size should be 40,000 or more\n"
   ]
  },
  {
   "cell_type": "markdown",
   "metadata": {
    "slideshow": {
     "slide_type": "slide"
    }
   },
   "source": [
    "### Example"
   ]
  },
  {
   "cell_type": "markdown",
   "metadata": {
    "slideshow": {
     "slide_type": "-"
    }
   },
   "source": [
    "* A researcher is estimating a population proportion based on a random sample of size 10,000. \n",
    "* With chance at least 95%, the estimate will be correct to within 1%."
   ]
  },
  {
   "cell_type": "code",
   "execution_count": 8,
   "metadata": {},
   "outputs": [
    {
     "data": {
      "text/plain": [
       "0.01"
      ]
     },
     "execution_count": 8,
     "metadata": {},
     "output_type": "execute_result"
    }
   ],
   "source": [
    "2 * 0.5 / (10000) ** (1/2)"
   ]
  },
  {
   "cell_type": "markdown",
   "metadata": {
    "slideshow": {
     "slide_type": "slide"
    }
   },
   "source": [
    "### Another Example"
   ]
  },
  {
   "cell_type": "markdown",
   "metadata": {
    "slideshow": {
     "slide_type": "-"
    }
   },
   "source": [
    "* I am going to use a 68% confidence interval to estimate a population proportion. \n",
    "* I want the total width of my interval to be no more than 2.5%.\n",
    "* How large must my random sample be?\n",
    "* $2 * \\frac{0.5}{\\sqrt{\\text{sample_size}}} = 0.025$\n"
   ]
  },
  {
   "cell_type": "code",
   "execution_count": 9,
   "metadata": {},
   "outputs": [
    {
     "data": {
      "text/plain": [
       "1600.0"
      ]
     },
     "execution_count": 9,
     "metadata": {},
     "output_type": "execute_result"
    }
   ],
   "source": [
    "# After solving for sample_size\n",
    "sample_size = ((2 * 0.5) / 0.025 ) ** 2\n",
    "sample_size"
   ]
  },
  {
   "cell_type": "markdown",
   "metadata": {
    "slideshow": {
     "slide_type": "notes"
    }
   },
   "source": [
    "<footer>\n",
    "    <hr>\n",
    "    <p>Adopted from UC Berkeley DATA 8 course materials.</p>\n",
    "    <p>This content is offered under a <a href=\"https://creativecommons.org/licenses/by-nc-sa/4.0/\">CC Attribution Non-Commercial Share Alike</a> license.</p>\n",
    "</footer>"
   ]
  }
 ],
 "metadata": {
  "kernelspec": {
   "display_name": "Python 3 (ipykernel)",
   "language": "python",
   "name": "python3"
  },
  "language_info": {
   "codemirror_mode": {
    "name": "ipython",
    "version": 3
   },
   "file_extension": ".py",
   "mimetype": "text/x-python",
   "name": "python",
   "nbconvert_exporter": "python",
   "pygments_lexer": "ipython3",
   "version": "3.9.9"
  },
  "toc": {
   "base_numbering": 1,
   "nav_menu": {},
   "number_sections": false,
   "sideBar": true,
   "skip_h1_title": false,
   "title_cell": "Table of Contents",
   "title_sidebar": "Contents",
   "toc_cell": true,
   "toc_position": {
    "height": "calc(100% - 180px)",
    "left": "10px",
    "top": "150px",
    "width": "231.797px"
   },
   "toc_section_display": false,
   "toc_window_display": false
  }
 },
 "nbformat": 4,
 "nbformat_minor": 2
}
