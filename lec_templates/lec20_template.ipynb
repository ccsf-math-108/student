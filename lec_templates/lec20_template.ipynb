{
 "cells": [
  {
   "cell_type": "markdown",
   "metadata": {
    "slideshow": {
     "slide_type": "slide"
    }
   },
   "source": [
    "<div style=\"width: 38.5%;\">\n",
    "    <p><strong>City College of San Francisco</strong><p>\n",
    "    <hr>\n",
    "    <p>MATH 108 - Foundations of Data Science</p>\n",
    "</div>"
   ]
  },
  {
   "cell_type": "markdown",
   "metadata": {
    "slideshow": {
     "slide_type": "-"
    }
   },
   "source": [
    "# Lecture 20: Causality"
   ]
  },
  {
   "cell_type": "markdown",
   "metadata": {
    "slideshow": {
     "slide_type": "-"
    }
   },
   "source": [
    "Associated Textbook Sections: [12.2](https://inferentialthinking.com/chapters/12/2/Causality.html)"
   ]
  },
  {
   "cell_type": "markdown",
   "metadata": {
    "slideshow": {
     "slide_type": "slide"
    }
   },
   "source": [
    "<h2>Set Up the Notebook<h2>"
   ]
  },
  {
   "cell_type": "code",
   "execution_count": null,
   "metadata": {
    "slideshow": {
     "slide_type": "-"
    }
   },
   "outputs": [],
   "source": [
    "from datascience import *\n",
    "import numpy as np\n",
    "%matplotlib inline\n",
    "import matplotlib.pyplot as plots\n",
    "plots.style.use('fivethirtyeight')"
   ]
  },
  {
   "cell_type": "markdown",
   "metadata": {
    "slideshow": {
     "slide_type": "notes"
    },
    "toc": true
   },
   "source": [
    "<h1>Table of Contents<span class=\"tocSkip\"></span></h1>\n",
    "<div class=\"toc\"><ul class=\"toc-item\"><li><span><a href=\"#Lecture-20:-Causality\" data-toc-modified-id=\"Lecture-20:-Causality-1\">Lecture 20: Causality</a></span><ul class=\"toc-item\"><li><span><a href=\"#Set-Up-the-Notebook\" data-toc-modified-id=\"Set-Up-the-Notebook-1.1\">Set Up the Notebook</a></span></li><li><span><a href=\"#\" data-toc-modified-id=\"-1.2\"></a></span></li><li><span><a href=\"#Causality\" data-toc-modified-id=\"Causality-1.3\">Causality</a></span><ul class=\"toc-item\"><li><span><a href=\"#Randomized-Controlled-Experiment\" data-toc-modified-id=\"Randomized-Controlled-Experiment-1.3.1\">Randomized Controlled Experiment</a></span></li><li><span><a href=\"#Demo:-Randomized-Control-Experiment\" data-toc-modified-id=\"Demo:-Randomized-Control-Experiment-1.3.2\">Demo: Randomized Control Experiment</a></span></li><li><span><a href=\"#Before-the-Randomization\" data-toc-modified-id=\"Before-the-Randomization-1.3.3\">Before the Randomization</a></span></li><li><span><a href=\"#The-Data\" data-toc-modified-id=\"The-Data-1.3.4\">The Data</a></span></li><li><span><a href=\"#The-Hypotheses\" data-toc-modified-id=\"The-Hypotheses-1.3.5\">The Hypotheses</a></span></li><li><span><a href=\"#Demo:-Testing-the-Hypothesis\" data-toc-modified-id=\"Demo:-Testing-the-Hypothesis-1.3.6\">Demo: Testing the Hypothesis</a></span></li><li><span><a href=\"#Random-Assignment-&amp;-Shuffling\" data-toc-modified-id=\"Random-Assignment-&amp;-Shuffling-1.3.7\">Random Assignment &amp; Shuffling</a></span></li></ul></li><li><span><a href=\"#An-Error-Probability\" data-toc-modified-id=\"An-Error-Probability-1.4\">An Error Probability</a></span><ul class=\"toc-item\"><li><span><a href=\"#Can-the-Conclusion-be-Wrong?\" data-toc-modified-id=\"Can-the-Conclusion-be-Wrong?-1.4.1\">Can the Conclusion be Wrong?</a></span></li><li><span><a href=\"#An-Error-Probability\" data-toc-modified-id=\"An-Error-Probability-1.4.2\">An Error Probability</a></span></li><li><span><a href=\"#P-value-cutoff-vs-P-value\" data-toc-modified-id=\"P-value-cutoff-vs-P-value-1.4.3\">P-value cutoff vs P-value</a></span></li></ul></li></ul></li></ul></div>"
   ]
  },
  {
   "cell_type": "markdown",
   "metadata": {
    "slideshow": {
     "slide_type": "slide"
    }
   },
   "source": [
    "## Causality"
   ]
  },
  {
   "cell_type": "markdown",
   "metadata": {
    "slideshow": {
     "slide_type": "slide"
    }
   },
   "source": [
    "### Randomized Controlled Experiment"
   ]
  },
  {
   "cell_type": "markdown",
   "metadata": {
    "slideshow": {
     "slide_type": "-"
    }
   },
   "source": [
    "* Sample A: control group\n",
    "* Sample B: treatment group\n",
    "* If the treatment and control groups are selected at random, then you can make causal conclusions.\n",
    "* Any difference in outcomes between the two groups could be due to chance or the treatment.\n"
   ]
  },
  {
   "cell_type": "markdown",
   "metadata": {},
   "source": [
    "### Demo: Randomized Control Experiment"
   ]
  },
  {
   "cell_type": "markdown",
   "metadata": {},
   "source": [
    "Load the data in `bta.csv` that is associated with an experiment to assess whether or not Botox and be used to reduce pain."
   ]
  },
  {
   "cell_type": "code",
   "execution_count": null,
   "metadata": {
    "scrolled": false
   },
   "outputs": [],
   "source": [
    "botox = Table.read_table('bta.csv')\n",
    "botox.show()"
   ]
  },
  {
   "cell_type": "markdown",
   "metadata": {},
   "source": [
    "Compare the results for the two groups."
   ]
  },
  {
   "cell_type": "code",
   "execution_count": null,
   "metadata": {},
   "outputs": [],
   "source": [
    "..."
   ]
  },
  {
   "cell_type": "markdown",
   "metadata": {
    "slideshow": {
     "slide_type": "slide"
    }
   },
   "source": [
    "### Before the Randomization"
   ]
  },
  {
   "cell_type": "markdown",
   "metadata": {
    "slideshow": {
     "slide_type": "-"
    }
   },
   "source": [
    "* In the population there is one imaginary ticket for each of the 31 participants in the experiment.\n",
    "* Each participant’s ticket looks like this:\n",
    "\n",
    "<img src=\"img/lec20_before_randomization.png\" width=70%>"
   ]
  },
  {
   "cell_type": "markdown",
   "metadata": {
    "slideshow": {
     "slide_type": "slide"
    }
   },
   "source": [
    "### The Data"
   ]
  },
  {
   "cell_type": "markdown",
   "metadata": {
    "slideshow": {
     "slide_type": "-"
    }
   },
   "source": [
    "16 randomly picked tickets show:\n",
    "\n",
    "<img src=\"img/lec20_16_tickets.png\" width=50%>"
   ]
  },
  {
   "cell_type": "markdown",
   "metadata": {
    "slideshow": {
     "slide_type": "-"
    }
   },
   "source": [
    "The remaining 15 tickets show:\n",
    "\n",
    "<img src=\"img/lec20_15_remaining.png\" width=50%>"
   ]
  },
  {
   "cell_type": "markdown",
   "metadata": {
    "slideshow": {
     "slide_type": "slide"
    }
   },
   "source": [
    "### The Hypotheses"
   ]
  },
  {
   "cell_type": "markdown",
   "metadata": {
    "slideshow": {
     "slide_type": "-"
    }
   },
   "source": [
    "* Null: In the population, the distribution of all potential control scores is the same as the distribution of all potential treatment scores. (The treatment has no effect.)\n",
    "* Alternative: In the population, more of the potential treatment scores are 1 (pain improves) than the potential control scores."
   ]
  },
  {
   "cell_type": "markdown",
   "metadata": {},
   "source": [
    "### Demo: Testing the Hypothesis"
   ]
  },
  {
   "cell_type": "markdown",
   "metadata": {},
   "source": [
    "Compute the observed difference in results for the treatment and control groups using the `difference_of_means` function."
   ]
  },
  {
   "cell_type": "code",
   "execution_count": null,
   "metadata": {},
   "outputs": [],
   "source": [
    "def difference_of_means(table, numeric_label, group_label):\n",
    "    \"\"\"\n",
    "    Takes: name of table, column label of numerical variable,\n",
    "    column label of group-label variable\n",
    "    \n",
    "    Returns: Difference of means of the two groups\n",
    "    \"\"\"\n",
    "    \n",
    "    #table with the two relevant columns\n",
    "    reduced = table.select(numeric_label, group_label)  \n",
    "    \n",
    "    # table containing group means\n",
    "    means_table = reduced.group(group_label, np.average)\n",
    "    \n",
    "    # array of group means\n",
    "    means = means_table.column(1)\n",
    "    \n",
    "    return means.item(1) - means.item(0)"
   ]
  },
  {
   "cell_type": "code",
   "execution_count": null,
   "metadata": {},
   "outputs": [],
   "source": [
    "..."
   ]
  },
  {
   "cell_type": "markdown",
   "metadata": {},
   "source": [
    "Use `one_simulated_difference` to determine the chance of observing the above sample data if it were true that Botox had no impact on pain reduction."
   ]
  },
  {
   "cell_type": "code",
   "execution_count": null,
   "metadata": {},
   "outputs": [],
   "source": [
    "def one_simulated_difference(table, numeric_label, group_label):\n",
    "    \"\"\"\n",
    "    Takes: name of table, column label of numerical variable,\n",
    "    column label of group-label variable\n",
    "    \n",
    "    Returns: Difference of means of the two groups after shuffling labels\n",
    "    \"\"\"\n",
    "    \n",
    "    # array of shuffled labels\n",
    "    shuffled_labels = table.sample(\n",
    "        with_replacement = False).column(group_label)\n",
    "    \n",
    "    # table of numerical variable and shuffled labels\n",
    "    shuffled_table = table.select(numeric_label).with_column(\n",
    "        'Shuffled Label', shuffled_labels)\n",
    "    \n",
    "    return difference_of_means(\n",
    "        shuffled_table, numeric_label, 'Shuffled Label')   "
   ]
  },
  {
   "cell_type": "code",
   "execution_count": null,
   "metadata": {},
   "outputs": [],
   "source": [
    "..."
   ]
  },
  {
   "cell_type": "markdown",
   "metadata": {
    "slideshow": {
     "slide_type": "slide"
    }
   },
   "source": [
    "### Random Assignment & Shuffling"
   ]
  },
  {
   "cell_type": "markdown",
   "metadata": {
    "slideshow": {
     "slide_type": "-"
    }
   },
   "source": [
    "<img src=\"img/lec20_random_assignment_and_shuffling.png\" width=80%>"
   ]
  },
  {
   "cell_type": "markdown",
   "metadata": {
    "slideshow": {
     "slide_type": "slide"
    }
   },
   "source": [
    "## An Error Probability"
   ]
  },
  {
   "cell_type": "markdown",
   "metadata": {
    "slideshow": {
     "slide_type": "slide"
    }
   },
   "source": [
    "### Can the Conclusion be Wrong?"
   ]
  },
  {
   "cell_type": "markdown",
   "metadata": {
    "slideshow": {
     "slide_type": "-"
    }
   },
   "source": [
    "Yes.\n",
    "\n",
    "|  | Null is True | Alternative is True\n",
    "| --- | ----------- | |\n",
    "| Test favors the Null | ✅ | ❌ |\n",
    "| Test favors the Alternative | ❌ | ✅ |"
   ]
  },
  {
   "cell_type": "markdown",
   "metadata": {
    "slideshow": {
     "slide_type": "slide"
    }
   },
   "source": [
    "### An Error Probability"
   ]
  },
  {
   "cell_type": "markdown",
   "metadata": {
    "slideshow": {
     "slide_type": "-"
    }
   },
   "source": [
    "* The cutoff for the P-value is an error probability.\n",
    "* If your cutoff is 5% and the null hypothesis happens to be true, then there is about a 5% chance that your test will reject the null hypothesis."
   ]
  },
  {
   "cell_type": "markdown",
   "metadata": {
    "slideshow": {
     "slide_type": "slide"
    }
   },
   "source": [
    "### P-value cutoff vs P-value"
   ]
  },
  {
   "cell_type": "markdown",
   "metadata": {
    "slideshow": {
     "slide_type": "-"
    }
   },
   "source": [
    "* P-value cutoff\n",
    "    * Does not depend on observed data or simulation\n",
    "    * Decide on it before seeing the results\n",
    "    * Conventional values at 5% and 1%\n",
    "    * Probability of hypothesis testing making an error\n",
    "* P-value\n",
    "    * Depends on the observed data and simulation\n",
    "    * Probability under the null hypothesis that the test statistic is the observed value or further towards the alternative\n"
   ]
  },
  {
   "cell_type": "markdown",
   "metadata": {
    "slideshow": {
     "slide_type": "notes"
    }
   },
   "source": [
    "<footer>\n",
    "    <hr>\n",
    "    <p>Adopted from UC Berkeley DATA 8 course materials.</p>\n",
    "    <p>This content is offered under a <a href=\"https://creativecommons.org/licenses/by-nc-sa/4.0/\">CC Attribution Non-Commercial Share Alike</a> license.</p>\n",
    "</footer>"
   ]
  }
 ],
 "metadata": {
  "kernelspec": {
   "display_name": "Python 3 (ipykernel)",
   "language": "python",
   "name": "python3"
  },
  "language_info": {
   "codemirror_mode": {
    "name": "ipython",
    "version": 3
   },
   "file_extension": ".py",
   "mimetype": "text/x-python",
   "name": "python",
   "nbconvert_exporter": "python",
   "pygments_lexer": "ipython3",
   "version": "3.9.9"
  },
  "toc": {
   "base_numbering": 1,
   "nav_menu": {},
   "number_sections": false,
   "sideBar": true,
   "skip_h1_title": false,
   "title_cell": "Table of Contents",
   "title_sidebar": "Contents",
   "toc_cell": true,
   "toc_position": {
    "height": "calc(100% - 180px)",
    "left": "10px",
    "top": "150px",
    "width": "231.797px"
   },
   "toc_section_display": false,
   "toc_window_display": false
  }
 },
 "nbformat": 4,
 "nbformat_minor": 2
}
