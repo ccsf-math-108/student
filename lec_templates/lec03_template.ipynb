{
 "cells": [
  {
   "cell_type": "markdown",
   "metadata": {
    "slideshow": {
     "slide_type": "slide"
    }
   },
   "source": [
    "<div style=\"width: 38.5%;\">\n",
    "    <p><strong>City College of San Francisco</strong><p>\n",
    "    <hr>\n",
    "    <p>MATH 108 - Foundations of Data Science</p>\n",
    "</div>"
   ]
  },
  {
   "cell_type": "markdown",
   "metadata": {
    "slideshow": {
     "slide_type": "-"
    }
   },
   "source": [
    "<h1>Lecture 03: Tables</h1>"
   ]
  },
  {
   "cell_type": "markdown",
   "metadata": {
    "slideshow": {
     "slide_type": "-"
    }
   },
   "source": [
    "Associated Textbook Sections: [3.0, 3.1, 3.2, 3.3, 3.4](https://inferentialthinking.com/chapters/03/programming-in-python.html)"
   ]
  },
  {
   "cell_type": "markdown",
   "metadata": {
    "slideshow": {
     "slide_type": "slide"
    }
   },
   "source": [
    "<h2>Set Up the Notebook<h2>"
   ]
  },
  {
   "cell_type": "code",
   "execution_count": null,
   "metadata": {
    "slideshow": {
     "slide_type": "-"
    }
   },
   "outputs": [],
   "source": [
    "from datascience import *\n",
    "import numpy as np\n",
    "%matplotlib inline\n",
    "import matplotlib.pyplot as plots\n",
    "plots.style.use('fivethirtyeight')"
   ]
  },
  {
   "cell_type": "markdown",
   "metadata": {
    "slideshow": {
     "slide_type": "notes"
    },
    "toc": true
   },
   "source": [
    "<h1>Table of Contents<span class=\"tocSkip\"></span></h1>\n",
    "<div class=\"toc\"><ul class=\"toc-item\"><li><span><a href=\"#Lecture-03:-Tables\" data-toc-modified-id=\"Lecture-03:-Tables-1\">Lecture 03: Tables</a></span><ul class=\"toc-item\"><li><span><a href=\"#Set-Up-the-Notebook\" data-toc-modified-id=\"Set-Up-the-Notebook-1.1\">Set Up the Notebook</a></span></li><li><span><a href=\"#\" data-toc-modified-id=\"-1.2\"></a></span></li><li><span><a href=\"#Python\" data-toc-modified-id=\"Python-1.3\">Python</a></span><ul class=\"toc-item\"><li><span><a href=\"#Python-3.9\" data-toc-modified-id=\"Python-3.9-1.3.1\">Python 3.9</a></span></li><li><span><a href=\"#Demo:-Arithmetic-in-Python\" data-toc-modified-id=\"Demo:-Arithmetic-in-Python-1.3.2\">Demo: Arithmetic in Python</a></span></li></ul></li><li><span><a href=\"#Names\" data-toc-modified-id=\"Names-1.4\">Names</a></span><ul class=\"toc-item\"><li><span><a href=\"#Assignment-Statements\" data-toc-modified-id=\"Assignment-Statements-1.4.1\">Assignment Statements</a></span></li><li><span><a href=\"#Demo:-Names\" data-toc-modified-id=\"Demo:-Names-1.4.2\">Demo: Names</a></span></li><li><span><a href=\"#Demo:-Why-Names?\" data-toc-modified-id=\"Demo:-Why-Names?-1.4.3\">Demo: Why Names?</a></span></li></ul></li><li><span><a href=\"#Functions\" data-toc-modified-id=\"Functions-1.5\">Functions</a></span><ul class=\"toc-item\"><li><span><a href=\"#Anatomy-of-a-Call-Expression\" data-toc-modified-id=\"Anatomy-of-a-Call-Expression-1.5.1\">Anatomy of a Call Expression</a></span></li><li><span><a href=\"#Anatomy-of-a-Call-Expression---Multiple-Arguments\" data-toc-modified-id=\"Anatomy-of-a-Call-Expression---Multiple-Arguments-1.5.2\">Anatomy of a Call Expression - Multiple Arguments</a></span></li><li><span><a href=\"#Demo:-Functions-and-Call-Expressions\" data-toc-modified-id=\"Demo:-Functions-and-Call-Expressions-1.5.3\">Demo: Functions and Call Expressions</a></span></li></ul></li><li><span><a href=\"#Tables\" data-toc-modified-id=\"Tables-1.6\">Tables</a></span><ul class=\"toc-item\"><li><span><a href=\"#Table-Structure\" data-toc-modified-id=\"Table-Structure-1.6.1\">Table Structure</a></span></li><li><span><a href=\"#Demo:-Tables\" data-toc-modified-id=\"Demo:-Tables-1.6.2\">Demo: Tables</a></span></li><li><span><a href=\"#Demo:-Searching-and-Sorting\" data-toc-modified-id=\"Demo:-Searching-and-Sorting-1.6.3\">Demo: Searching and Sorting</a></span></li><li><span><a href=\"#Some-Table-Operations\" data-toc-modified-id=\"Some-Table-Operations-1.6.4\">Some Table Operations</a></span></li></ul></li></ul></li></ul></div>"
   ]
  },
  {
   "cell_type": "markdown",
   "metadata": {
    "slideshow": {
     "slide_type": "slide"
    }
   },
   "source": [
    "## Python"
   ]
  },
  {
   "cell_type": "markdown",
   "metadata": {
    "slideshow": {
     "slide_type": "slide"
    }
   },
   "source": [
    "### Python 3.9"
   ]
  },
  {
   "cell_type": "markdown",
   "metadata": {
    "slideshow": {
     "slide_type": "-"
    }
   },
   "source": [
    "* Python is popular both for data science & general software development\n",
    "* Mastering the language fundamentals is critical\n",
    "* Learn through practice, not by reading or listening\n",
    "* Follow along with the Live Demo Notebook posted in the Canvas Lecture pages. \n",
    "* The lecture notebooks contain coding demonstrations. \n",
    "    * The lecture templates notebooks show the code partial completed, and I'll complete those during the lecture. \n",
    "    * You can follow along with your own copy of notebook to help the lectures feel more interactive and to get more practice with the language. \n",
    "    * A complete version of the meeting's notebook will be shared on Canvas.\n"
   ]
  },
  {
   "cell_type": "markdown",
   "metadata": {
    "slideshow": {
     "slide_type": "slide"
    }
   },
   "source": [
    "### Demo: Arithmetic in Python"
   ]
  },
  {
   "cell_type": "markdown",
   "metadata": {
    "slideshow": {
     "slide_type": "-"
    }
   },
   "source": [
    "Explore a few basic arithmetic operations, including exponentiation. "
   ]
  },
  {
   "cell_type": "code",
   "execution_count": null,
   "metadata": {
    "slideshow": {
     "slide_type": "fragment"
    }
   },
   "outputs": [],
   "source": []
  },
  {
   "cell_type": "markdown",
   "metadata": {
    "slideshow": {
     "slide_type": "slide"
    }
   },
   "source": [
    "## Names"
   ]
  },
  {
   "cell_type": "markdown",
   "metadata": {
    "slideshow": {
     "slide_type": "slide"
    }
   },
   "source": [
    "### Assignment Statements"
   ]
  },
  {
   "cell_type": "markdown",
   "metadata": {
    "slideshow": {
     "slide_type": "-"
    }
   },
   "source": [
    "<img src=\"./img/assignment_statements.png\" width = 50%>\n",
    "\n",
    "* Statements don't have a value; they perform an action\n",
    "* An assignment statement changes the meaning of the name to the left of the = symbol\n",
    "* The name is bound to a value (not an equation)\n"
   ]
  },
  {
   "cell_type": "markdown",
   "metadata": {
    "slideshow": {
     "slide_type": "slide"
    }
   },
   "source": [
    "### Demo: Names"
   ]
  },
  {
   "cell_type": "markdown",
   "metadata": {
    "slideshow": {
     "slide_type": "-"
    }
   },
   "source": [
    "Define a few names, apply them to create arithmetic operations, and differentiate between names and strings."
   ]
  },
  {
   "cell_type": "code",
   "execution_count": null,
   "metadata": {
    "slideshow": {
     "slide_type": "fragment"
    }
   },
   "outputs": [],
   "source": []
  },
  {
   "cell_type": "markdown",
   "metadata": {
    "slideshow": {
     "slide_type": "slide"
    }
   },
   "source": [
    "### Demo: Why Names?"
   ]
  },
  {
   "cell_type": "markdown",
   "metadata": {
    "slideshow": {
     "slide_type": "-"
    }
   },
   "source": [
    "See how helpful choices of names can help you and others navigate your code."
   ]
  },
  {
   "cell_type": "code",
   "execution_count": null,
   "metadata": {
    "slideshow": {
     "slide_type": "fragment"
    }
   },
   "outputs": [],
   "source": []
  },
  {
   "cell_type": "markdown",
   "metadata": {
    "slideshow": {
     "slide_type": "slide"
    }
   },
   "source": [
    "## Functions"
   ]
  },
  {
   "cell_type": "markdown",
   "metadata": {
    "slideshow": {
     "slide_type": "slide"
    }
   },
   "source": [
    "### Anatomy of a Call Expression"
   ]
  },
  {
   "cell_type": "markdown",
   "metadata": {
    "slideshow": {
     "slide_type": "-"
    }
   },
   "source": [
    "<img src=\"./img/anatomy_of_a_call_expression.png\" width = 50%>"
   ]
  },
  {
   "cell_type": "markdown",
   "metadata": {
    "slideshow": {
     "slide_type": "fragment"
    }
   },
   "source": [
    "\"Call `f` on 27.\""
   ]
  },
  {
   "cell_type": "markdown",
   "metadata": {
    "slideshow": {
     "slide_type": "slide"
    }
   },
   "source": [
    "### Anatomy of a Call Expression - Multiple Arguments"
   ]
  },
  {
   "cell_type": "markdown",
   "metadata": {
    "slideshow": {
     "slide_type": "-"
    }
   },
   "source": [
    "<img src=\"./img/anatomy_of_a_call_expression_multiple_arguments.png\" width = 50%>"
   ]
  },
  {
   "cell_type": "markdown",
   "metadata": {
    "slideshow": {
     "slide_type": "slide"
    }
   },
   "source": [
    "### Demo: Functions and Call Expressions"
   ]
  },
  {
   "cell_type": "markdown",
   "metadata": {
    "slideshow": {
     "slide_type": "-"
    }
   },
   "source": [
    "Use a few built in functions that have 1 or more arguments."
   ]
  },
  {
   "cell_type": "code",
   "execution_count": null,
   "metadata": {
    "slideshow": {
     "slide_type": "fragment"
    }
   },
   "outputs": [],
   "source": []
  },
  {
   "cell_type": "markdown",
   "metadata": {
    "slideshow": {
     "slide_type": "slide"
    }
   },
   "source": [
    "Find the help documentation on the `round` function and explore the arguments with default values. Notice that you can explicitly specify argument values, but python can also know what to do based on the position of the values."
   ]
  },
  {
   "cell_type": "code",
   "execution_count": null,
   "metadata": {
    "slideshow": {
     "slide_type": "fragment"
    }
   },
   "outputs": [],
   "source": []
  },
  {
   "cell_type": "markdown",
   "metadata": {
    "slideshow": {
     "slide_type": "slide"
    }
   },
   "source": [
    "## Tables"
   ]
  },
  {
   "cell_type": "markdown",
   "metadata": {
    "slideshow": {
     "slide_type": "slide"
    }
   },
   "source": [
    "### Table Structure"
   ]
  },
  {
   "cell_type": "markdown",
   "metadata": {
    "slideshow": {
     "slide_type": "-"
    }
   },
   "source": [
    "* A Table is a sequence of labeled columns\n",
    "* Each row represents one individual\n",
    "* Data within a column represents one attribute of the individuals\n",
    "\n",
    "<img src=\"./img/table_structure.png\" width=80%>\n"
   ]
  },
  {
   "cell_type": "markdown",
   "metadata": {
    "slideshow": {
     "slide_type": "slide"
    }
   },
   "source": [
    "### Demo: Tables"
   ]
  },
  {
   "cell_type": "markdown",
   "metadata": {
    "slideshow": {
     "slide_type": "-"
    }
   },
   "source": [
    "Import and explore the Ice Cream cone table using `read_table`, `show`, `select`, `drop`, `where`, and `sort`. Make sure to create an error where the column name was used incorrectly."
   ]
  },
  {
   "cell_type": "code",
   "execution_count": null,
   "metadata": {
    "slideshow": {
     "slide_type": "fragment"
    }
   },
   "outputs": [],
   "source": [
    "cones = Table.read_table('cones.csv')\n",
    "cones"
   ]
  },
  {
   "cell_type": "code",
   "execution_count": null,
   "metadata": {
    "slideshow": {
     "slide_type": "fragment"
    }
   },
   "outputs": [],
   "source": []
  },
  {
   "cell_type": "markdown",
   "metadata": {
    "slideshow": {
     "slide_type": "slide"
    }
   },
   "source": [
    "### Demo: Searching and Sorting"
   ]
  },
  {
   "cell_type": "markdown",
   "metadata": {
    "slideshow": {
     "slide_type": "-"
    }
   },
   "source": [
    "Import the skyscrapers data from `skyscrapers_v2.csv` and create a table showing all the New York City skyscrapers sorted by the year they were completed from newest to oldest."
   ]
  },
  {
   "cell_type": "code",
   "execution_count": null,
   "metadata": {
    "slideshow": {
     "slide_type": "fragment"
    }
   },
   "outputs": [],
   "source": []
  },
  {
   "cell_type": "markdown",
   "metadata": {
    "slideshow": {
     "slide_type": "slide"
    }
   },
   "source": [
    "### Some Table Operations"
   ]
  },
  {
   "cell_type": "markdown",
   "metadata": {
    "slideshow": {
     "slide_type": "-"
    }
   },
   "source": [
    "* `tbl.select(col1, col2, ...)` - constructs a new table with just the specified columns\n",
    "* `tbl.drop(col1, col2, ...)` - constructs a new table in which the specified columns are omitted\n",
    "* `tbl.sort(column_name_or_index)` - constructs a new table with rows sorted by the specified column\n",
    "* `tbl.where(column, predicate)` - constructs a new table with just the rows that match the condition/predicate"
   ]
  },
  {
   "cell_type": "markdown",
   "metadata": {
    "slideshow": {
     "slide_type": "fragment"
    }
   },
   "source": [
    "* [Python Reference](https://ccsf-math-108.github.io/materials-sp22/python-reference.html) - A student created reference guide for the commonly used operations in the course\n",
    "* [`datascience` Documentaiton](https://datascience.readthedocs.io/) "
   ]
  },
  {
   "cell_type": "markdown",
   "metadata": {
    "slideshow": {
     "slide_type": "notes"
    }
   },
   "source": [
    "<footer>\n",
    "    <hr>\n",
    "    <p>Adopted from UC Berkeley DATA 8 course materials.</p>\n",
    "    <p>This content is offered under a <a href=\"https://creativecommons.org/licenses/by-nc-sa/4.0/\">CC Attribution Non-Commercial Share Alike</a> license.</p>\n",
    "</footer>"
   ]
  }
 ],
 "metadata": {
  "kernelspec": {
   "display_name": "Python 3 (ipykernel)",
   "language": "python",
   "name": "python3"
  },
  "language_info": {
   "codemirror_mode": {
    "name": "ipython",
    "version": 3
   },
   "file_extension": ".py",
   "mimetype": "text/x-python",
   "name": "python",
   "nbconvert_exporter": "python",
   "pygments_lexer": "ipython3",
   "version": "3.9.9"
  },
  "toc": {
   "base_numbering": 1,
   "nav_menu": {},
   "number_sections": false,
   "sideBar": true,
   "skip_h1_title": false,
   "title_cell": "Table of Contents",
   "title_sidebar": "Contents",
   "toc_cell": true,
   "toc_position": {
    "height": "calc(100% - 180px)",
    "left": "10px",
    "top": "150px",
    "width": "231.797px"
   },
   "toc_section_display": false,
   "toc_window_display": false
  }
 },
 "nbformat": 4,
 "nbformat_minor": 2
}
