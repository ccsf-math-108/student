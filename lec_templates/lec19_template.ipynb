{
 "cells": [
  {
   "cell_type": "markdown",
   "metadata": {
    "slideshow": {
     "slide_type": "slide"
    }
   },
   "source": [
    "<div style=\"width: 38.5%;\">\n",
    "    <p><strong>City College of San Francisco</strong><p>\n",
    "    <hr>\n",
    "    <p>MATH 108 - Foundations of Data Science</p>\n",
    "</div>"
   ]
  },
  {
   "cell_type": "markdown",
   "metadata": {
    "slideshow": {
     "slide_type": "-"
    }
   },
   "source": [
    "# Lecture 19: A/B Testing"
   ]
  },
  {
   "cell_type": "markdown",
   "metadata": {
    "slideshow": {
     "slide_type": "-"
    }
   },
   "source": [
    "Associated Textbook Sections: [12.0, 12.1](https://inferentialthinking.com/chapters/12/Comparing_Two_Samples.html)"
   ]
  },
  {
   "cell_type": "markdown",
   "metadata": {
    "slideshow": {
     "slide_type": "slide"
    }
   },
   "source": [
    "<h2>Set Up the Notebook<h2>"
   ]
  },
  {
   "cell_type": "code",
   "execution_count": null,
   "metadata": {
    "slideshow": {
     "slide_type": "-"
    }
   },
   "outputs": [],
   "source": [
    "from datascience import *\n",
    "import numpy as np\n",
    "%matplotlib inline\n",
    "import matplotlib.pyplot as plots\n",
    "plots.style.use('fivethirtyeight')"
   ]
  },
  {
   "cell_type": "markdown",
   "metadata": {
    "slideshow": {
     "slide_type": "notes"
    },
    "toc": true
   },
   "source": [
    "<h1>Table of Contents<span class=\"tocSkip\"></span></h1>\n",
    "<div class=\"toc\"><ul class=\"toc-item\"><li><span><a href=\"#Lecture-19:-A/B-Testing\" data-toc-modified-id=\"Lecture-19:-A/B-Testing-1\">Lecture 19: A/B Testing</a></span><ul class=\"toc-item\"><li><span><a href=\"#Set-Up-the-Notebook\" data-toc-modified-id=\"Set-Up-the-Notebook-1.1\">Set Up the Notebook</a></span></li><li><span><a href=\"#\" data-toc-modified-id=\"-1.2\"></a></span></li><li><span><a href=\"#A/B-Testing\" data-toc-modified-id=\"A/B-Testing-1.3\">A/B Testing</a></span><ul class=\"toc-item\"><li><span><a href=\"#Comparing-Two-Samples\" data-toc-modified-id=\"Comparing-Two-Samples-1.3.1\">Comparing Two Samples</a></span></li><li><span><a href=\"#Demo:-Comparing-Two-Samples\" data-toc-modified-id=\"Demo:-Comparing-Two-Samples-1.3.2\">Demo: Comparing Two Samples</a></span></li><li><span><a href=\"#The-Groups-and-the-Question\" data-toc-modified-id=\"The-Groups-and-the-Question-1.3.3\">The Groups and the Question</a></span></li><li><span><a href=\"#Hypotheses\" data-toc-modified-id=\"Hypotheses-1.3.4\">Hypotheses</a></span></li><li><span><a href=\"#Test-Statistic\" data-toc-modified-id=\"Test-Statistic-1.3.5\">Test Statistic</a></span></li><li><span><a href=\"#Demo:-Test-Statistic\" data-toc-modified-id=\"Demo:-Test-Statistic-1.3.6\">Demo: Test Statistic</a></span></li><li><span><a href=\"#The-Data\" data-toc-modified-id=\"The-Data-1.3.7\">The Data</a></span></li><li><span><a href=\"#Shuffling-Labels-Under-the-Null\" data-toc-modified-id=\"Shuffling-Labels-Under-the-Null-1.3.8\">Shuffling Labels Under the Null</a></span></li></ul></li><li><span><a href=\"#Shuffling-Rows\" data-toc-modified-id=\"Shuffling-Rows-1.4\">Shuffling Rows</a></span><ul class=\"toc-item\"><li><span><a href=\"#Random-Permutation\" data-toc-modified-id=\"Random-Permutation-1.4.1\">Random Permutation</a></span></li><li><span><a href=\"#Demo:--Random-Permutation-(Shuffling)\" data-toc-modified-id=\"Demo:--Random-Permutation-(Shuffling)-1.4.2\">Demo:  Random Permutation (Shuffling)</a></span></li><li><span><a href=\"#Simulating-Under-the-Null\" data-toc-modified-id=\"Simulating-Under-the-Null-1.4.3\">Simulating Under the Null</a></span></li><li><span><a href=\"#Demo:-Simulation-Under-Null-Hypothesis\" data-toc-modified-id=\"Demo:-Simulation-Under-Null-Hypothesis-1.4.4\">Demo: Simulation Under Null Hypothesis</a></span></li><li><span><a href=\"#Demo:-Permutation-Test\" data-toc-modified-id=\"Demo:-Permutation-Test-1.4.5\">Demo: Permutation Test</a></span></li></ul></li><li><span><a href=\"#How-We've-Tested-Thus-Far\" data-toc-modified-id=\"How-We've-Tested-Thus-Far-1.5\">How We've Tested Thus Far</a></span><ul class=\"toc-item\"><li><span><a href=\"#Hypothesis-Testing-Review\" data-toc-modified-id=\"Hypothesis-Testing-Review-1.5.1\">Hypothesis Testing Review</a></span></li></ul></li></ul></li></ul></div>"
   ]
  },
  {
   "cell_type": "markdown",
   "metadata": {
    "slideshow": {
     "slide_type": "slide"
    }
   },
   "source": [
    "## A/B Testing"
   ]
  },
  {
   "cell_type": "markdown",
   "metadata": {
    "slideshow": {
     "slide_type": "slide"
    }
   },
   "source": [
    "### Comparing Two Samples"
   ]
  },
  {
   "cell_type": "markdown",
   "metadata": {
    "slideshow": {
     "slide_type": "-"
    }
   },
   "source": [
    "* Compare values of sampled individuals in Group A with values of sampled individuals in Group B.\n",
    "* Question: Do the two sets of values come from the same underlying distribution?\n",
    "* Answering this question by performing a statistical test is called A/B testing."
   ]
  },
  {
   "cell_type": "markdown",
   "metadata": {},
   "source": [
    "### Demo: Comparing Two Samples"
   ]
  },
  {
   "cell_type": "markdown",
   "metadata": {},
   "source": [
    "Load the `baby.csv` data and visually compare the distributions of birth weights for babies born to mothers that smoked and didn't smoke during pregnancy."
   ]
  },
  {
   "cell_type": "code",
   "execution_count": null,
   "metadata": {},
   "outputs": [],
   "source": [
    "births = Table.read_table('baby.csv')"
   ]
  },
  {
   "cell_type": "code",
   "execution_count": null,
   "metadata": {},
   "outputs": [],
   "source": [
    "..."
   ]
  },
  {
   "cell_type": "markdown",
   "metadata": {
    "slideshow": {
     "slide_type": "slide"
    }
   },
   "source": [
    "### The Groups and the Question"
   ]
  },
  {
   "cell_type": "markdown",
   "metadata": {
    "slideshow": {
     "slide_type": "-"
    }
   },
   "source": [
    "* Random sample of mothers of newborns. Compare:\n",
    "    * (A) Birth weights of babies of mothers who smoked during pregnancy \n",
    "    * (B) Birth weights of babies of mothers who didn't smoke\n",
    "* Question: Could the difference be due to chance alone?\n"
   ]
  },
  {
   "cell_type": "markdown",
   "metadata": {
    "slideshow": {
     "slide_type": "slide"
    }
   },
   "source": [
    "### Hypotheses"
   ]
  },
  {
   "cell_type": "markdown",
   "metadata": {
    "slideshow": {
     "slide_type": "-"
    }
   },
   "source": [
    "* Null: In the population, the distributions of the birth weights of the babies in the two groups are the same. (They are different in the sample just due to chance.)\n",
    "* Alternative: In the population, the babies of the mothers who smoked weigh less, on average, than the babies of the non-smokers.\n"
   ]
  },
  {
   "cell_type": "markdown",
   "metadata": {
    "slideshow": {
     "slide_type": "slide"
    }
   },
   "source": [
    "### Test Statistic"
   ]
  },
  {
   "cell_type": "markdown",
   "metadata": {
    "slideshow": {
     "slide_type": "-"
    }
   },
   "source": [
    "* Group A: non-smokers\n",
    "* Group B: smokers\n",
    "* Statistic: Difference between average weights: `group_B_mean - group_A_mean`  \n",
    "* Negative values of this statistic favor the alternative\n"
   ]
  },
  {
   "cell_type": "markdown",
   "metadata": {},
   "source": [
    "### Demo: Test Statistic"
   ]
  },
  {
   "cell_type": "markdown",
   "metadata": {},
   "source": [
    "Determine the average difference in the birth weights associated with mothers that did and didn't smoke during pregnancy."
   ]
  },
  {
   "cell_type": "code",
   "execution_count": null,
   "metadata": {},
   "outputs": [],
   "source": [
    "..."
   ]
  },
  {
   "cell_type": "markdown",
   "metadata": {},
   "source": [
    "Create a function that take name of table, column label of numerical variable, column label of group-label variable and returns the difference of means of the two groups."
   ]
  },
  {
   "cell_type": "code",
   "execution_count": null,
   "metadata": {},
   "outputs": [],
   "source": [
    "def difference_of_means(table, label, group_label):\n",
    "    \"\"\"Takes: name of table, column label of numerical variable,\n",
    "    column label of group-label variable\n",
    "    Returns: Difference of means of the two groups\"\"\"\n",
    "    \n",
    "    #table with the two relevant columns\n",
    "    ...\n",
    "    \n",
    "    # table containing group means\n",
    "    ...\n",
    "    \n",
    "    # array of group means\n",
    "    ...\n",
    "    \n",
    "    return ..."
   ]
  },
  {
   "cell_type": "code",
   "execution_count": null,
   "metadata": {},
   "outputs": [],
   "source": [
    "difference_of_means(births, 'Birth Weight', 'Maternal Smoker')"
   ]
  },
  {
   "cell_type": "markdown",
   "metadata": {
    "slideshow": {
     "slide_type": "slide"
    }
   },
   "source": [
    "### The Data"
   ]
  },
  {
   "cell_type": "markdown",
   "metadata": {
    "slideshow": {
     "slide_type": "-"
    }
   },
   "source": [
    "<img src=\"img/lec19_the_data.png\" width=80%>"
   ]
  },
  {
   "cell_type": "markdown",
   "metadata": {
    "slideshow": {
     "slide_type": "slide"
    }
   },
   "source": [
    "### Shuffling Labels Under the Null"
   ]
  },
  {
   "cell_type": "markdown",
   "metadata": {
    "slideshow": {
     "slide_type": "-"
    }
   },
   "source": [
    "<img src=\"img/lec19_shuffling_labels.png\" width=80%>"
   ]
  },
  {
   "cell_type": "markdown",
   "metadata": {
    "slideshow": {
     "slide_type": "slide"
    }
   },
   "source": [
    "## Shuffling Rows"
   ]
  },
  {
   "cell_type": "markdown",
   "metadata": {
    "slideshow": {
     "slide_type": "slide"
    }
   },
   "source": [
    "### Random Permutation"
   ]
  },
  {
   "cell_type": "markdown",
   "metadata": {
    "slideshow": {
     "slide_type": "-"
    }
   },
   "source": [
    "* `tbl.sample(n)`: Table of `n` rows picked randomly with replacement\n",
    "* `tbl.sample()`: Table with same number of rows as original `tbl`, picked randomly with replacement\n",
    "* `tbl.sample(n, with_replacement = False)`: Table of `n` rows picked randomly without replacement\n",
    "* `tbl.sample(with_replacement = False)`: All rows of `tbl`, in random order"
   ]
  },
  {
   "cell_type": "markdown",
   "metadata": {},
   "source": [
    "### Demo:  Random Permutation (Shuffling)"
   ]
  },
  {
   "cell_type": "markdown",
   "metadata": {},
   "source": [
    "Demonstrate how to perform a random permutation using the `sample` method."
   ]
  },
  {
   "cell_type": "code",
   "execution_count": null,
   "metadata": {},
   "outputs": [],
   "source": [
    "..."
   ]
  },
  {
   "cell_type": "markdown",
   "metadata": {
    "slideshow": {
     "slide_type": "slide"
    }
   },
   "source": [
    "### Simulating Under the Null"
   ]
  },
  {
   "cell_type": "markdown",
   "metadata": {
    "slideshow": {
     "slide_type": "-"
    }
   },
   "source": [
    "* If the null is true, all rearrangements of labels are equally likely\n",
    "* Plan:\n",
    "    1. Shuffle all group labels\n",
    "    1. Assign each shuffled label to a birth weight\n",
    "    1. Find the difference between the averages of the two shuffled groups\n",
    "    1. Repeat\n"
   ]
  },
  {
   "cell_type": "markdown",
   "metadata": {},
   "source": [
    "### Demo: Simulation Under Null Hypothesis"
   ]
  },
  {
   "cell_type": "markdown",
   "metadata": {},
   "source": [
    "Perform a random permutation on the table containing a Boolean-valued column representing whether or not the mother smoked during pregnancy and a integer-valued column of their baby's birth weight."
   ]
  },
  {
   "cell_type": "code",
   "execution_count": null,
   "metadata": {},
   "outputs": [],
   "source": [
    "..."
   ]
  },
  {
   "cell_type": "markdown",
   "metadata": {},
   "source": [
    "Calculate the difference of the birth weight means for the two smoking groups based on the shuffled data and the original data."
   ]
  },
  {
   "cell_type": "code",
   "execution_count": null,
   "metadata": {},
   "outputs": [],
   "source": [
    "..."
   ]
  },
  {
   "cell_type": "markdown",
   "metadata": {},
   "source": [
    "### Demo: Permutation Test"
   ]
  },
  {
   "cell_type": "markdown",
   "metadata": {},
   "source": [
    "Perform a permutation test using 2500 simulations to determine how likely it is to see the observed birth weights if it is assumed that there was no impact on birth weight due to the mother smoking or not during pregnancy. *This might take a few minutes to run.*"
   ]
  },
  {
   "cell_type": "code",
   "execution_count": null,
   "metadata": {},
   "outputs": [],
   "source": [
    "def one_simulated_difference(table, label, group_label):\n",
    "    \"\"\"Takes: name of table, column label of numerical variable,\n",
    "    column label of group-label variable\n",
    "    Returns: Difference of means of the two groups after shuffling labels\"\"\"\n",
    "    \n",
    "    # array of shuffled labels\n",
    "    ...\n",
    "    \n",
    "    # table of numerical variable and shuffled labels\n",
    "    ...\n",
    "    \n",
    "    return ...  "
   ]
  },
  {
   "cell_type": "code",
   "execution_count": null,
   "metadata": {},
   "outputs": [],
   "source": [
    "one_simulated_difference(births, 'Birth Weight', 'Maternal Smoker')"
   ]
  },
  {
   "cell_type": "code",
   "execution_count": null,
   "metadata": {},
   "outputs": [],
   "source": [
    "differences = ...\n",
    "\n",
    "for i in np.arange(2500):\n",
    "    new_difference = ...\n",
    "    differences = ..."
   ]
  },
  {
   "cell_type": "code",
   "execution_count": null,
   "metadata": {
    "scrolled": true
   },
   "outputs": [],
   "source": [
    "Table().with_column('Difference Between Group Means', differences).hist()\n",
    "print('Observed Difference:', observed_difference)\n",
    "plots.scatter(observed_difference, 0, color='red', s=60, zorder=3)\n",
    "plots.title('Prediction Under the Null Hypothesis');"
   ]
  },
  {
   "cell_type": "markdown",
   "metadata": {
    "slideshow": {
     "slide_type": "slide"
    }
   },
   "source": [
    "## How We've Tested Thus Far"
   ]
  },
  {
   "cell_type": "markdown",
   "metadata": {
    "slideshow": {
     "slide_type": "slide"
    }
   },
   "source": [
    "### Hypothesis Testing Review"
   ]
  },
  {
   "cell_type": "markdown",
   "metadata": {
    "slideshow": {
     "slide_type": "-"
    }
   },
   "source": [
    "* 1 Sample: One Category (e.g. percent of flowers that are purple)\n",
    "    * Test Statistic: `empirical_percent`, `abs(empirical_percent - null_percent)`\n",
    "    * How to Simulate: `sample_proportions(n, null_dist)`\n",
    "* 1 Sample: Multiple Categories (e.g. ethnicity distribution of jury panel)\n",
    "    * Test Statistic: `tvd(empirical_dist, null_dist)`\n",
    "    * How to Simulate: `sample_proportions(n, null_dist)`\n",
    "* 1 Sample: Numerical Data (e.g. scores in a lab section)\n",
    "    * Test Statistic: `empirical_mean`, `abs(empirical_mean - null_mean)`\n",
    "    * How to Simulate: `population_data.sample(n, with_replacement=False)`\n",
    "* 2 Samples: Numerical Data (e.g. birth weights of smokers vs. non-smokers)\n",
    "    * Test Statistic: `group_a_mean - group_b_mean`, `group_b_mean - group_a_mean`, `abs(group_a_mean - group_b_mean)`\n",
    "    * How to Simulate: `empirical_data.sample(with_replacement=False)`\n"
   ]
  },
  {
   "cell_type": "markdown",
   "metadata": {
    "slideshow": {
     "slide_type": "notes"
    }
   },
   "source": [
    "<footer>\n",
    "    <hr>\n",
    "    <p>Adopted from UC Berkeley DATA 8 course materials.</p>\n",
    "    <p>This content is offered under a <a href=\"https://creativecommons.org/licenses/by-nc-sa/4.0/\">CC Attribution Non-Commercial Share Alike</a> license.</p>\n",
    "</footer>"
   ]
  }
 ],
 "metadata": {
  "kernelspec": {
   "display_name": "Python 3 (ipykernel)",
   "language": "python",
   "name": "python3"
  },
  "language_info": {
   "codemirror_mode": {
    "name": "ipython",
    "version": 3
   },
   "file_extension": ".py",
   "mimetype": "text/x-python",
   "name": "python",
   "nbconvert_exporter": "python",
   "pygments_lexer": "ipython3",
   "version": "3.9.9"
  },
  "toc": {
   "base_numbering": 1,
   "nav_menu": {},
   "number_sections": false,
   "sideBar": true,
   "skip_h1_title": false,
   "title_cell": "Table of Contents",
   "title_sidebar": "Contents",
   "toc_cell": true,
   "toc_position": {
    "height": "calc(100% - 180px)",
    "left": "10px",
    "top": "150px",
    "width": "231.797px"
   },
   "toc_section_display": false,
   "toc_window_display": false
  }
 },
 "nbformat": 4,
 "nbformat_minor": 2
}
