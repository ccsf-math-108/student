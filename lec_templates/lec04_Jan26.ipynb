{
 "cells": [
  {
   "cell_type": "markdown",
   "metadata": {
    "slideshow": {
     "slide_type": "slide"
    }
   },
   "source": [
    "<div style=\"width: 38.5%;\">\n",
    "    <p><strong>City College of San Francisco</strong><p>\n",
    "    <hr>\n",
    "    <p>MATH 108 - Foundations of Data Science</p>\n",
    "</div>"
   ]
  },
  {
   "cell_type": "markdown",
   "metadata": {
    "slideshow": {
     "slide_type": "-"
    }
   },
   "source": [
    "# Lecture 04: Data Types"
   ]
  },
  {
   "cell_type": "markdown",
   "metadata": {
    "slideshow": {
     "slide_type": "-"
    }
   },
   "source": [
    "Associated Textbook Sections: [4.0, 4.1, 4.2, 4.3](https://inferentialthinking.com/chapters/04/Data_Types.html)"
   ]
  },
  {
   "cell_type": "markdown",
   "metadata": {
    "slideshow": {
     "slide_type": "slide"
    }
   },
   "source": [
    "<h2>Set Up the Notebook<h2>"
   ]
  },
  {
   "cell_type": "code",
   "execution_count": 29,
   "metadata": {
    "slideshow": {
     "slide_type": "-"
    }
   },
   "outputs": [],
   "source": [
    "from datascience import *\n",
    "import numpy as np"
   ]
  },
  {
   "cell_type": "markdown",
   "metadata": {
    "slideshow": {
     "slide_type": "notes"
    },
    "toc": true
   },
   "source": [
    "<h1>Table of Contents<span class=\"tocSkip\"></span></h1>\n",
    "<div class=\"toc\"><ul class=\"toc-item\"><li><span><a href=\"#Lecture-04:-Data-Types\" data-toc-modified-id=\"Lecture-04:-Data-Types-1\">Lecture 04: Data Types</a></span><ul class=\"toc-item\"><li><span><a href=\"#Set-Up-the-Notebook\" data-toc-modified-id=\"Set-Up-the-Notebook-1.1\">Set Up the Notebook</a></span></li><li><span><a href=\"#\" data-toc-modified-id=\"-1.2\"></a></span></li><li><span><a href=\"#Numbers\" data-toc-modified-id=\"Numbers-1.3\">Numbers</a></span><ul class=\"toc-item\"><li><span><a href=\"#ints-and-floats\" data-toc-modified-id=\"ints-and-floats-1.3.1\"><code>ints</code> and <code>floats</code></a></span></li><li><span><a href=\"#Demo:-Numbers\" data-toc-modified-id=\"Demo:-Numbers-1.3.2\">Demo: Numbers</a></span></li></ul></li><li><span><a href=\"#Strings\" data-toc-modified-id=\"Strings-1.4\">Strings</a></span><ul class=\"toc-item\"><li><span><a href=\"#Text-and-Strings\" data-toc-modified-id=\"Text-and-Strings-1.4.1\">Text and Strings</a></span></li><li><span><a href=\"#Demo:-Strings\" data-toc-modified-id=\"Demo:-Strings-1.4.2\">Demo: Strings</a></span></li></ul></li><li><span><a href=\"#Types\" data-toc-modified-id=\"Types-1.5\">Types</a></span><ul class=\"toc-item\"><li><span><a href=\"#Every-Value-Has-a-Type\" data-toc-modified-id=\"Every-Value-Has-a-Type-1.5.1\">Every Value Has a Type</a></span></li><li><span><a href=\"#Demo:-Types\" data-toc-modified-id=\"Demo:-Types-1.5.2\">Demo: Types</a></span></li><li><span><a href=\"#Conversions\" data-toc-modified-id=\"Conversions-1.5.3\">Conversions</a></span></li></ul></li><li><span><a href=\"#Arrays\" data-toc-modified-id=\"Arrays-1.6\">Arrays</a></span><ul class=\"toc-item\"><li><span><a href=\"#Arrays\" data-toc-modified-id=\"Arrays-1.6.1\">Arrays</a></span></li><li><span><a href=\"#Demo:-Arrays\" data-toc-modified-id=\"Demo:-Arrays-1.6.2\">Demo: Arrays</a></span></li></ul></li></ul></li></ul></div>"
   ]
  },
  {
   "cell_type": "markdown",
   "metadata": {
    "slideshow": {
     "slide_type": "slide"
    }
   },
   "source": [
    "## Numbers"
   ]
  },
  {
   "cell_type": "markdown",
   "metadata": {
    "slideshow": {
     "slide_type": "slide"
    }
   },
   "source": [
    "### `ints` and `floats`"
   ]
  },
  {
   "cell_type": "markdown",
   "metadata": {
    "slideshow": {
     "slide_type": "-"
    }
   },
   "source": [
    "* Python has two real number types \n",
    "* `int`: an integer of any size\n",
    "* `float`: a number with an optional fractional part\n"
   ]
  },
  {
   "cell_type": "markdown",
   "metadata": {
    "slideshow": {
     "slide_type": "fragment"
    }
   },
   "source": [
    "* An `int` never has a decimal point; a `float` always does\n",
    "* A `float` might be printed using scientific notation\n",
    "* Three limitations of `float` values:\n",
    "    * They have limited size (but the limit is huge)\n",
    "    * They have limited precision of 15-16 decimal places\n",
    "    * After arithmetic, the final few decimal places can be wrong"
   ]
  },
  {
   "cell_type": "markdown",
   "metadata": {
    "slideshow": {
     "slide_type": "slide"
    }
   },
   "source": [
    "### Demo: Numbers"
   ]
  },
  {
   "cell_type": "markdown",
   "metadata": {
    "slideshow": {
     "slide_type": "-"
    }
   },
   "source": [
    "Notice how numbers have different data types."
   ]
  },
  {
   "cell_type": "code",
   "execution_count": 1,
   "metadata": {
    "slideshow": {
     "slide_type": "fragment"
    }
   },
   "outputs": [
    {
     "data": {
      "text/plain": [
       "2.0"
      ]
     },
     "execution_count": 1,
     "metadata": {},
     "output_type": "execute_result"
    }
   ],
   "source": [
    "2.000"
   ]
  },
  {
   "cell_type": "markdown",
   "metadata": {
    "slideshow": {
     "slide_type": "slide"
    }
   },
   "source": [
    "Notice how python keeps record of really large values."
   ]
  },
  {
   "cell_type": "code",
   "execution_count": 2,
   "metadata": {
    "scrolled": false,
    "slideshow": {
     "slide_type": "fragment"
    }
   },
   "outputs": [
    {
     "data": {
      "text/plain": [
       "8501231189087579600089751361553790268770349244703297428875589625722666467029941104939346554618071090198338783086373718576302438541333303880149260355204961854660219348723703108817202816413695269234965947705916615090621461642947014634336709271250452147953400166273260278848909785635002746194627726905574383510586443855838501016194842546617466128367893005423946615632150875808229800489923121719324872322046242350358131209328011811786949525196068003065158218919856058009730366652388266762742312727811381080096679122681705212621121694449552467004319038040278415300031865815686537893832036302381576784433617023034776696420714876144485434646470579451349932122786555312581410798435527766468171805917233861943182867785949421920388024490545080852578054799518628169776648400272207657901368826628263954152902385783150069479202174698194137926647193941464878985158866033603990897827957922316614328503432155899763729601975377581454913801778657241584312797743187104615112990826170240576951377437889267043522178249238593031641469549941494342759976108330779190218175412454748751926927383394413538931340595895207489380533100158406056151193717830291989516050792698599824001271625788286400083430435996225870286728426044234538211907415368581834395718465999600878488008607312853910299621718948349669855888836854252419288825696064212121647849551877875083738702829751411930599999622761621401447136127241509252032463327323070454207230975720060696828143799024367860147672207189531148445363579822690090247426809033888593346224400489864273919166242548023881535680191207682155376847968733347385604276041283073347228803815405279998112938547949111103674653832147687792102357868703111192396677366147456000088224345337686711034275719530447049014275259015225178167345787860419429746163578689112295374153342313643102860000043435063407095232225814912427371973655639573401225553397831763058803538321076134083815415808878801086989396808453086722759516791817007120094624007835769308392692512292076325216213400980105527561077936336304777689856279268528402220160062365065232332591377102473934204006130311988805188979219655541468478726919818964117814118792374862057769846985070125485535437404289927188615185691222316241621215766939710853896856813203062169027816260494177289049365381215927091498601917056060292413725363696411243333025412074745992523902361942775529526536373496738092824403787110436969853611291705542181465577860684356486366860656165512948151524933949786531146417170299635082603757569302823079309642165775339529350073334016536451546540101287343407519182886572705773752090361182764058820258039372684336875330193457187912610800811194846692844413250373790522436208281266107102797113360495590669276174666003140785418373792534074610572841949732698528501261527844158885908948457093379372805804839434654279671107358129161157542389885838451898730060682856993779392841932975136525458784109035840416983298605830506319573271130742050796746857088239476285125701191400037072451731684223974010566859507243715790643657351235859756336513849858202588873634540023879638374295951524136236923423671632288707799796254804534131404379431231204837024857385154005913719311686092928666434917434354477753061030585428817582406313947343323157529985612660681069043858038046579763847037562570547171440108195495366373958169243521224322956620783733349921065284787807945332261864322729817303151806498733348746037759221592204992833243474043011524957764893686560384098274570957300202261186252832958713676112057045040733644861358757896798944561785532803162367117322209902786366770185404104429801771112839955437055146806182689958073760306881639356780211743597322337707273020574672167834903012765163624007144211187468411542572963939660561108419475949395174963273413868852896440947424344992179718533116562699371740484706235433706366240569083524185430700469547308694857964159760700105671073001697330585529109121954741220576828524401723676757794795250083720950267587758171582501191501189637061958522207031367402612571734076441860674863814099909712130609708832863842680889265436019725367744101582454551569091979679402651954509598343981143344994024597129576527297449562174131960128341530909092632992001197144131236990528338873298678869553075209034043170992884449709029653566942008795413009270598751643823365272644494325074303521000550383539517161018722764697822086046405563680718131405792201823465582572438557456336286618410630318761812534387255321583672541646660962378801475251590166471466595258572158876046780792443577415200699819116816418271779150023325969827619668356385379492002839104719856567779948453993844186649714112183836256341312617615482430806958408238575908083762936896619234237776772177583159411023017504636095926857331555009746884320121739186130195270017824024543589427772233432983995687775589752856045849787752136728977672421047044616632815386399888296637700670466401959263236561582055778310157915470795145143796474746725370125947980275952922826108308467662042757684610567756146778339591309122209612268095258943366473761985897845055573273671724348548111948847379270386151942239409617923808520510216097802516678970040346980188629443715890930465463804492890211575470612830497028489147272192585685947796464545671963309049439258226873022205625709886668321373234244538080578360227498200648921276375417069081994650310855296691342660962147412307971339042024827405215076215739687361592800757818100677910903440952002286261610473948573453158231294083861144427334581930023810856063221538294930635014609130296973666667250400981564887676855397430415734620826642403239301737465365417336571401497355640018224265552528893856056521264468754259331309642279938999221903924272554971643852022011765947996212275421355829319833800328694415760470248441144112841871615527949567756625459528865177363760130737703504794132062456639099091337141843043572787978733434533767453243181864529530929934401760870432704557779849641423060741199004298604891642184264851178483341038511090722342118873498635737236513496645110435204599001192882345052148291893842746068818312240423860644772035686748207737937330731621572971700220581785018809135077118524157304642073960556985963276791286503519409401480367890088946361913781598819528053807824965631154067173643125103000019765896220170024014812342911173525749157697106521016854161257203523551539146282300370830977932461995240936491993635236903476374429789840395960375345964220770757740813788095016860025483170158351625008006789547501818953994047994918103675713213055967165384541604370431719729029540602763131661822887630690333465610033516515270697981295995776262959098948330585272660656116144967043969319660080776468003023689115985109243276062032314681910559853467564899656051147313316756842800810181868551222821480948679861163616172872803379733777573623808254369599685925204412819323875134478075963684161339050209936379061691033728923807475379415465383025557131060414658886176518426741514818489971200170225002785660981724657558948045769491628137308892224722090788609018498931641698349882126634530850124893008580057089031262692083463530715246539201336162343861003837177762709976164318071419708304774305664605227779130500290518760514487016040637183163730234198931327443230999593434886642032992814007487335032806974334314990662466625794888753011718986752189306642732138825853045557198359478493270993059784423790507239915335903398454260951414810668775167179806613918334466769567939609524474423632422141023039679879483408186345079632030424648847689809026711978081947903438392563709001125646893456021779329424424779391528111421469044606843018300876897395445253306890783761645221940056043388634123454588562306648298749455465977490994025174143753890716103766476979322281404578206477815990052749373250814491832851401070336784979513392325916209262885168692951437735907647072682733715902663075844281947906218641163705685395625799623292587670381081867593848818401532773950884647720702232756097645658920981343899421959357485709585505642079957307512728772215176970128993781357535088567880197542751827341139496635440210208317403228610798745224471360337944308550142133138286140336310210850089257101302693168879798276317068290928736257745653176186634263625371050768240096814085244914326618850585890836001384575901572218127873576262084578014910630523386001475565908224331383474802859023718719809018774147780237944047759978503648153192059539387669322736137970901270986925571309053202739919849451419989108352494436091493296836597733009962614962179159515434257716856173580148874002318298867398237987853860624691033672798285297799458631626290930743534995014732949479703154773215759707098072956386620819003127062648282710469678832752591863293231815729342871660619327557813453247774415659664487688398388095064059490423294993680724278374893719707121254981307094206136913986007896643600161482658832611193920247780934685992417914322966559683642055990954449127160573199392785726754635905855890063412382560973517981021050866306970467833416093939036735381065118352779372161346180266532169488697592826225229385373913274120218966809788862391276736910500922056220340985502760020115819638073740142247532804189017916769440211768994106186308752573719640071345233546773059430518424802367019060759411971955555783765928607321193807028182756584732165717947363836080443779104166099782053802892628426215105575437380575443970807930406429163847227208533516658172008981465870536417992534247869119054571725907031834192238976492462505188434925894284571802135891728461342192904519589748852378897993698002054987272239157980707384539293328406316786051257031276357363596121261371194514622932562625671032070170342014101299531464179007267091513529777800064039808987054298298686823438306885272747323730018071591283348858301520324446652833200656025652139439018968767445890277163242883795493226841395882873453066890758393808352377348137064155139165313796843738357495546901771274019801674136096948056418764420940226231277775442295382059919190325369174324707812524303352519068027684868978718371087463218055693256066300632651127553795883044234715579987402265384978881813429005659612240390356325241"
      ]
     },
     "execution_count": 2,
     "metadata": {},
     "output_type": "execute_result"
    }
   ],
   "source": [
    "123456789 ** 1234"
   ]
  },
  {
   "cell_type": "markdown",
   "metadata": {
    "slideshow": {
     "slide_type": "slide"
    }
   },
   "source": [
    "Division can be interesting. You'll notice that sometimes the result is expressed in scientific notation and sometimes the decimal values are just lost. You can get strange results with arithmetic using floats."
   ]
  },
  {
   "cell_type": "code",
   "execution_count": 3,
   "metadata": {
    "slideshow": {
     "slide_type": "fragment"
    }
   },
   "outputs": [
    {
     "data": {
      "text/plain": [
       "5.714285714285714e-18"
      ]
     },
     "execution_count": 3,
     "metadata": {},
     "output_type": "execute_result"
    }
   ],
   "source": [
    "4 / 700000000000000000"
   ]
  },
  {
   "cell_type": "code",
   "execution_count": 4,
   "metadata": {},
   "outputs": [
    {
     "data": {
      "text/plain": [
       "0.12345678901234568"
      ]
     },
     "execution_count": 4,
     "metadata": {},
     "output_type": "execute_result"
    }
   ],
   "source": [
    "0.12345678901234567890123456789"
   ]
  },
  {
   "cell_type": "code",
   "execution_count": 5,
   "metadata": {},
   "outputs": [
    {
     "data": {
      "text/plain": [
       "0.0"
      ]
     },
     "execution_count": 5,
     "metadata": {},
     "output_type": "execute_result"
    }
   ],
   "source": [
    "0.12345678901234567890123456789 - 0.1234567890123456789"
   ]
  },
  {
   "cell_type": "code",
   "execution_count": 7,
   "metadata": {},
   "outputs": [
    {
     "data": {
      "text/plain": [
       "10.000000000000002"
      ]
     },
     "execution_count": 7,
     "metadata": {},
     "output_type": "execute_result"
    }
   ],
   "source": [
    "(10 ** 0.5) ** 2"
   ]
  },
  {
   "cell_type": "markdown",
   "metadata": {
    "slideshow": {
     "slide_type": "slide"
    }
   },
   "source": [
    "Various operations may change those types: Type cast"
   ]
  },
  {
   "cell_type": "code",
   "execution_count": 12,
   "metadata": {
    "slideshow": {
     "slide_type": "fragment"
    }
   },
   "outputs": [
    {
     "data": {
      "text/plain": [
       "6"
      ]
     },
     "execution_count": 12,
     "metadata": {},
     "output_type": "execute_result"
    }
   ],
   "source": [
    "int(20/3)"
   ]
  },
  {
   "cell_type": "markdown",
   "metadata": {
    "slideshow": {
     "slide_type": "slide"
    }
   },
   "source": [
    "Be careful of your syntax. Sometimes common notation from mathematics or other languages do not work here."
   ]
  },
  {
   "cell_type": "code",
   "execution_count": 15,
   "metadata": {
    "slideshow": {
     "slide_type": "fragment"
    }
   },
   "outputs": [
    {
     "ename": "SyntaxError",
     "evalue": "invalid syntax (1333678431.py, line 2)",
     "output_type": "error",
     "traceback": [
      "\u001b[0;36m  Input \u001b[0;32mIn [15]\u001b[0;36m\u001b[0m\n\u001b[0;31m    2x\u001b[0m\n\u001b[0m     ^\u001b[0m\n\u001b[0;31mSyntaxError\u001b[0m\u001b[0;31m:\u001b[0m invalid syntax\n"
     ]
    }
   ],
   "source": [
    "x = 5\n",
    "2x"
   ]
  },
  {
   "cell_type": "markdown",
   "metadata": {
    "slideshow": {
     "slide_type": "slide"
    }
   },
   "source": [
    "## Strings"
   ]
  },
  {
   "cell_type": "markdown",
   "metadata": {
    "slideshow": {
     "slide_type": "slide"
    }
   },
   "source": [
    "### Text and Strings"
   ]
  },
  {
   "cell_type": "markdown",
   "metadata": {
    "slideshow": {
     "slide_type": "-"
    }
   },
   "source": [
    "* A string (`str`) value is a snippet of text of any length\n",
    "    * `'a'`\n",
    "    * `'word'`\n",
    "    * `\"there can be 2 sentences. Here's the second!\"`\n",
    "* Strings consisting of numbers can be converted to numbers\n",
    "    * `int('12')`\n",
    "    * `float('1.2')`\n",
    "* Any value can be converted to a string\n",
    "    * `str(5)`\n"
   ]
  },
  {
   "cell_type": "markdown",
   "metadata": {
    "slideshow": {
     "slide_type": "slide"
    }
   },
   "source": [
    "### Demo: Strings"
   ]
  },
  {
   "cell_type": "markdown",
   "metadata": {
    "slideshow": {
     "slide_type": "-"
    }
   },
   "source": [
    "Explore making strings, some of the basic mistakes in working with quotation marks."
   ]
  },
  {
   "cell_type": "code",
   "execution_count": 19,
   "metadata": {
    "slideshow": {
     "slide_type": "fragment"
    }
   },
   "outputs": [
    {
     "data": {
      "text/plain": [
       "36"
      ]
     },
     "execution_count": 19,
     "metadata": {},
     "output_type": "execute_result"
    }
   ],
   "source": [
    "x = int('12')\n",
    "x*3"
   ]
  },
  {
   "cell_type": "code",
   "execution_count": 21,
   "metadata": {},
   "outputs": [
    {
     "data": {
      "text/plain": [
       "'Result is: 36'"
      ]
     },
     "execution_count": 21,
     "metadata": {},
     "output_type": "execute_result"
    }
   ],
   "source": [
    "\"Result is: \" + str(x*3)"
   ]
  },
  {
   "cell_type": "markdown",
   "metadata": {
    "slideshow": {
     "slide_type": "slide"
    }
   },
   "source": [
    "Notice that there is some kind of \"arithmetic\" with strings."
   ]
  },
  {
   "cell_type": "code",
   "execution_count": 22,
   "metadata": {
    "slideshow": {
     "slide_type": "fragment"
    }
   },
   "outputs": [
    {
     "data": {
      "text/plain": [
       "'hahahahaha'"
      ]
     },
     "execution_count": 22,
     "metadata": {},
     "output_type": "execute_result"
    }
   ],
   "source": [
    "'ha' * 5"
   ]
  },
  {
   "cell_type": "markdown",
   "metadata": {
    "slideshow": {
     "slide_type": "slide"
    }
   },
   "source": [
    "Try converting between strings and other data types."
   ]
  },
  {
   "cell_type": "code",
   "execution_count": 24,
   "metadata": {
    "slideshow": {
     "slide_type": "fragment"
    }
   },
   "outputs": [
    {
     "data": {
      "text/plain": [
       "3.3"
      ]
     },
     "execution_count": 24,
     "metadata": {},
     "output_type": "execute_result"
    }
   ],
   "source": [
    "float(\"3.30\")"
   ]
  },
  {
   "cell_type": "markdown",
   "metadata": {
    "slideshow": {
     "slide_type": "slide"
    }
   },
   "source": [
    "## Types"
   ]
  },
  {
   "cell_type": "markdown",
   "metadata": {
    "slideshow": {
     "slide_type": "slide"
    }
   },
   "source": [
    "### Every Value Has a Type"
   ]
  },
  {
   "cell_type": "markdown",
   "metadata": {
    "slideshow": {
     "slide_type": "-"
    }
   },
   "source": [
    "* We've seen 5 types so far:\n",
    "    * `int`: `2`\n",
    "    * `float`: `2.2`\n",
    "    * `str`: `'Red fish, blue fish'`\n",
    "    * `builtin_function_or_method`: `abs`\n"
   ]
  },
  {
   "cell_type": "markdown",
   "metadata": {
    "slideshow": {
     "slide_type": "fragment"
    }
   },
   "source": [
    "* The type function can tell you the type of a value: `type(2)`, `type(2 + 2)`\n",
    "* An expression’s “type” is based on its value, not how it looks: `x = 2`, `type(x)`\n"
   ]
  },
  {
   "cell_type": "markdown",
   "metadata": {
    "slideshow": {
     "slide_type": "slide"
    }
   },
   "source": [
    "### Demo: Types"
   ]
  },
  {
   "cell_type": "markdown",
   "metadata": {
    "slideshow": {
     "slide_type": "-"
    }
   },
   "source": [
    "Use the `type` function to check an objects type."
   ]
  },
  {
   "cell_type": "code",
   "execution_count": 26,
   "metadata": {
    "slideshow": {
     "slide_type": "fragment"
    }
   },
   "outputs": [
    {
     "data": {
      "text/plain": [
       "float"
      ]
     },
     "execution_count": 26,
     "metadata": {},
     "output_type": "execute_result"
    }
   ],
   "source": [
    "type(10.0)"
   ]
  },
  {
   "cell_type": "code",
   "execution_count": 27,
   "metadata": {},
   "outputs": [
    {
     "data": {
      "text/plain": [
       "str"
      ]
     },
     "execution_count": 27,
     "metadata": {},
     "output_type": "execute_result"
    }
   ],
   "source": [
    "type(\"3.0\")"
   ]
  },
  {
   "cell_type": "code",
   "execution_count": 30,
   "metadata": {},
   "outputs": [
    {
     "data": {
      "text/plain": [
       "datascience.tables.Table"
      ]
     },
     "execution_count": 30,
     "metadata": {},
     "output_type": "execute_result"
    }
   ],
   "source": [
    "skyscrapers = Table.read_table('skyscrapers_v2.csv')\n",
    "type(skyscrapers)"
   ]
  },
  {
   "cell_type": "code",
   "execution_count": 32,
   "metadata": {},
   "outputs": [
    {
     "name": "stdout",
     "output_type": "stream",
     "text": [
      "True\n"
     ]
    },
    {
     "data": {
      "text/plain": [
       "bool"
      ]
     },
     "execution_count": 32,
     "metadata": {},
     "output_type": "execute_result"
    }
   ],
   "source": [
    "b = (3 != 4)\n",
    "print(b)\n",
    "type(b)"
   ]
  },
  {
   "cell_type": "markdown",
   "metadata": {
    "slideshow": {
     "slide_type": "slide"
    }
   },
   "source": [
    "### Conversions"
   ]
  },
  {
   "cell_type": "markdown",
   "metadata": {
    "slideshow": {
     "slide_type": "-"
    }
   },
   "source": [
    "* Strings that contain numbers can be converted to numbers\n",
    "    * `int('12')`\n",
    "    * `float('1.2')`\n",
    "    * `float('one point two')` --- **Not a Good Idea!**\n",
    "* Any value can be converted to a string\n",
    "    * `str(5)`\n",
    "* Numbers can be converted to other numeric types\n",
    "    * `float(1)`\n",
    "    * `int(1.2)` --- **DANGER: Loses Information!**\n"
   ]
  },
  {
   "cell_type": "markdown",
   "metadata": {
    "slideshow": {
     "slide_type": "slide"
    }
   },
   "source": [
    "## Arrays"
   ]
  },
  {
   "cell_type": "markdown",
   "metadata": {
    "slideshow": {
     "slide_type": "slide"
    }
   },
   "source": [
    "### Arrays"
   ]
  },
  {
   "cell_type": "markdown",
   "metadata": {
    "slideshow": {
     "slide_type": "-"
    }
   },
   "source": [
    "An array contains a sequence of values\n",
    "* All elements of an array should have the same type\n",
    "* Arithmetic is applied to each element individually\n",
    "* Adding arrays adds elements (if same length!)\n",
    "* A column of a table is an array\n"
   ]
  },
  {
   "cell_type": "markdown",
   "metadata": {
    "slideshow": {
     "slide_type": "slide"
    }
   },
   "source": [
    "### Demo: Arrays"
   ]
  },
  {
   "cell_type": "markdown",
   "metadata": {
    "slideshow": {
     "slide_type": "-"
    }
   },
   "source": [
    "Create an array using `make_array` and explore using array arithmetic and some built in functions such as `len` and `sum`. Also, try to create some errors!"
   ]
  },
  {
   "cell_type": "code",
   "execution_count": 48,
   "metadata": {
    "slideshow": {
     "slide_type": "fragment"
    }
   },
   "outputs": [
    {
     "data": {
      "text/plain": [
       "array([1, 2, 3, 4])"
      ]
     },
     "execution_count": 48,
     "metadata": {},
     "output_type": "execute_result"
    }
   ],
   "source": [
    "my_array = make_array(1, 2, 3, 4)\n",
    "my_array"
   ]
  },
  {
   "cell_type": "code",
   "execution_count": 38,
   "metadata": {},
   "outputs": [
    {
     "data": {
      "text/plain": [
       "array([ 1,  4,  9, 16])"
      ]
     },
     "execution_count": 38,
     "metadata": {},
     "output_type": "execute_result"
    }
   ],
   "source": [
    "my_array ** 2"
   ]
  },
  {
   "cell_type": "code",
   "execution_count": 37,
   "metadata": {},
   "outputs": [
    {
     "data": {
      "text/plain": [
       "array([ 2,  5, 10, 17])"
      ]
     },
     "execution_count": 37,
     "metadata": {},
     "output_type": "execute_result"
    }
   ],
   "source": [
    "my_array **2 +1"
   ]
  },
  {
   "cell_type": "code",
   "execution_count": 39,
   "metadata": {},
   "outputs": [
    {
     "data": {
      "text/plain": [
       "array([1, 2, 3, 4])"
      ]
     },
     "execution_count": 39,
     "metadata": {},
     "output_type": "execute_result"
    }
   ],
   "source": [
    "my_array"
   ]
  },
  {
   "cell_type": "code",
   "execution_count": 41,
   "metadata": {},
   "outputs": [
    {
     "data": {
      "text/plain": [
       "array([1.5, 3. , 4.5, 6. ])"
      ]
     },
     "execution_count": 41,
     "metadata": {},
     "output_type": "execute_result"
    }
   ],
   "source": [
    "new_array = my_array * 1.5\n",
    "new_array"
   ]
  },
  {
   "cell_type": "code",
   "execution_count": 42,
   "metadata": {},
   "outputs": [
    {
     "data": {
      "text/plain": [
       "4"
      ]
     },
     "execution_count": 42,
     "metadata": {},
     "output_type": "execute_result"
    }
   ],
   "source": [
    "len(my_array)"
   ]
  },
  {
   "cell_type": "code",
   "execution_count": 43,
   "metadata": {},
   "outputs": [
    {
     "data": {
      "text/plain": [
       "15.0"
      ]
     },
     "execution_count": 43,
     "metadata": {},
     "output_type": "execute_result"
    }
   ],
   "source": [
    "sum(new_array)"
   ]
  },
  {
   "cell_type": "code",
   "execution_count": 49,
   "metadata": {},
   "outputs": [
    {
     "data": {
      "text/plain": [
       "array([ 2.5,  5. ,  7.5, 10. ])"
      ]
     },
     "execution_count": 49,
     "metadata": {},
     "output_type": "execute_result"
    }
   ],
   "source": [
    "sum_array = new_array+my_array\n",
    "sum_array"
   ]
  },
  {
   "cell_type": "code",
   "execution_count": 50,
   "metadata": {},
   "outputs": [
    {
     "data": {
      "text/plain": [
       "6.25"
      ]
     },
     "execution_count": 50,
     "metadata": {},
     "output_type": "execute_result"
    }
   ],
   "source": [
    "np.average(sum_array)"
   ]
  },
  {
   "cell_type": "markdown",
   "metadata": {
    "slideshow": {
     "slide_type": "notes"
    }
   },
   "source": [
    "<footer>\n",
    "    <hr>\n",
    "    <p>Adopted from UC Berkeley DATA 8 course materials.</p>\n",
    "    <p>This content is offered under a <a href=\"https://creativecommons.org/licenses/by-nc-sa/4.0/\">CC Attribution Non-Commercial Share Alike</a> license.</p>\n",
    "</footer>"
   ]
  }
 ],
 "metadata": {
  "kernelspec": {
   "display_name": "Python 3 (ipykernel)",
   "language": "python",
   "name": "python3"
  },
  "language_info": {
   "codemirror_mode": {
    "name": "ipython",
    "version": 3
   },
   "file_extension": ".py",
   "mimetype": "text/x-python",
   "name": "python",
   "nbconvert_exporter": "python",
   "pygments_lexer": "ipython3",
   "version": "3.9.9"
  },
  "toc": {
   "base_numbering": 1,
   "nav_menu": {},
   "number_sections": false,
   "sideBar": true,
   "skip_h1_title": false,
   "title_cell": "Table of Contents",
   "title_sidebar": "Contents",
   "toc_cell": true,
   "toc_position": {
    "height": "calc(100% - 180px)",
    "left": "10px",
    "top": "150px",
    "width": "231.797px"
   },
   "toc_section_display": false,
   "toc_window_display": true
  }
 },
 "nbformat": 4,
 "nbformat_minor": 2
}
