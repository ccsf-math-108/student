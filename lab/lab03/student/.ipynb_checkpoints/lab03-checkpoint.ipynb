{
 "cells": [
  {
   "cell_type": "code",
   "execution_count": null,
   "metadata": {
    "deletable": false,
    "editable": false
   },
   "outputs": [],
   "source": [
    "# Initialize Otter\n",
    "import otter\n",
    "grader = otter.Notebook(\"lab03.ipynb\")"
   ]
  },
  {
   "cell_type": "markdown",
   "metadata": {},
   "source": [
    "# Lab 3: Python Modules"
   ]
  },
  {
   "cell_type": "markdown",
   "metadata": {},
   "source": [
    "You will learn how to import a module and access the information within those modules.\n",
    "\n",
    "First, run the following cell to set up the lab, and make sure you run the cell at the top of the notebook that initializes Otter."
   ]
  },
  {
   "cell_type": "code",
   "execution_count": null,
   "metadata": {
    "execution": {
     "iopub.execute_input": "2022-09-03T19:38:21.075797Z",
     "iopub.status.busy": "2022-09-03T19:38:21.075363Z",
     "iopub.status.idle": "2022-09-03T19:38:22.796878Z",
     "shell.execute_reply": "2022-09-03T19:38:22.795914Z"
    }
   },
   "outputs": [],
   "source": [
    "import numpy as np\n",
    "from datascience import *"
   ]
  },
  {
   "cell_type": "markdown",
   "metadata": {},
   "source": [
    "## Expressions Review"
   ]
  },
  {
   "cell_type": "markdown",
   "metadata": {},
   "source": [
    "The two building blocks of Python code are *expressions* and *statements*.  An **expression** is a piece of code that\n",
    "\n",
    "* is self-contained, meaning it would make sense to write it on a line by itself, and\n",
    "* usually evaluates to a value.\n",
    "\n",
    "\n",
    "Here are two expressions that both evaluate to 3:\n",
    "\n",
    "    3\n",
    "    5 - 2\n",
    "    \n",
    "One important type of expression is the **call expression**. A call expression begins with the name of a function and is followed by the argument(s) of that function in parentheses. The function returns some value, based on its arguments. Some important mathematical functions are listed below.\n",
    "\n",
    "| Function | Description                                                   |\n",
    "|----------|---------------------------------------------------------------|\n",
    "| `abs`      | Returns the absolute value of its argument                    |\n",
    "| `max`      | Returns the maximum of all its arguments                      |\n",
    "| `min`      | Returns the minimum of all its arguments                      |\n",
    "| `pow`      | Raises its first argument to the power of its second argument |\n",
    "| `round`    | Rounds its argument to the nearest integer                     |\n",
    "\n",
    "Here are two call expressions that both evaluate to 3:\n",
    "\n",
    "    abs(2 - 5)\n",
    "    max(round(2.8), min(pow(2, 10), -1 * pow(2, 10)))\n",
    "\n",
    "The expression `2 - 5` and the two call expressions given above are examples of **compound expressions**, meaning that they are actually combinations of several smaller expressions.  `2 - 5` combines the expressions `2` and `5` by subtraction.  In this case, `2` and `5` are called **subexpressions** because they're expressions that are part of a larger expression.\n",
    "\n",
    "A **statement** is a whole line of code.  Some statements are just expressions.  The expressions listed above are examples.\n",
    "\n",
    "Other statements *make something happen* rather than *having a value*. For example, an **assignment statement** assigns a value to a name. \n",
    "\n",
    "A good way to think about this is that we're **evaluating the right-hand side** of the equals sign and **assigning it to the left-hand side**. Here are some assignment statements:\n",
    "    \n",
    "    height = 1.3\n",
    "    the_number_five = abs(-5)\n",
    "    absolute_height_difference = abs(height - 1.688)\n",
    "\n",
    "An important idea in programming is that large, interesting things can be built by combining many simple, uninteresting things.  The key to understanding a complicated piece of code is breaking it down into its simple components.\n",
    "\n",
    "For example, a lot is going on in the last statement above, but it's really just a combination of a few things.  This picture describes what's going on.\n",
    "\n",
    "<img src=\"statement.png\">"
   ]
  },
  {
   "cell_type": "markdown",
   "metadata": {},
   "source": [
    "### Task 1 📍"
   ]
  },
  {
   "cell_type": "markdown",
   "metadata": {},
   "source": [
    "In the next cell, assign the name `new_year` to the larger number among the following two numbers:\n",
    "\n",
    "1. the **absolute value** of $2^{5}-2^{11}-2^1 + 1$, and \n",
    "2. $5 \\times 13 \\times 31 + 7$.\n",
    "\n",
    "Try to use just one statement (one line of code). Be sure to check your work by executing the test cell afterward."
   ]
  },
  {
   "cell_type": "code",
   "execution_count": null,
   "metadata": {
    "execution": {
     "iopub.execute_input": "2022-09-03T19:38:22.813009Z",
     "iopub.status.busy": "2022-09-03T19:38:22.812123Z",
     "iopub.status.idle": "2022-09-03T19:38:22.824340Z",
     "shell.execute_reply": "2022-09-03T19:38:22.823410Z"
    },
    "tags": []
   },
   "outputs": [],
   "source": [
    "new_year = ...\n",
    "new_year"
   ]
  },
  {
   "cell_type": "code",
   "execution_count": null,
   "metadata": {
    "deletable": false,
    "editable": false
   },
   "outputs": [],
   "source": [
    "grader.check(\"task_1\")"
   ]
  },
  {
   "cell_type": "markdown",
   "metadata": {},
   "source": [
    "We've asked you to use one line of code in the question above because it only involves mathematical operations. However, more complicated programming questions will more require more steps. It isn’t always a good idea to jam these steps into a single line because it can make the code harder to read and harder to debug.\n",
    "\n",
    "Good programming practice involves splitting up your code into smaller steps and using appropriate names. You'll have plenty of practice in the rest of this course!"
   ]
  },
  {
   "cell_type": "markdown",
   "metadata": {},
   "source": [
    "## Importing Code"
   ]
  },
  {
   "cell_type": "markdown",
   "metadata": {},
   "source": [
    "Most programming involves work that is very similar to work that has been done before.  Since writing code is time-consuming, it's good to rely on others' published code when you can.  Rather than copy-pasting, Python allows us to **import modules**. A module is a file with Python code that has defined variables and functions. By importing a module, we are able to use its code in our own notebook.\n",
    "\n",
    "Python includes many useful modules that are just an `import` away.  We'll look at the `math` module as a first example. The `math` module is extremely useful in computing mathematical expressions in Python. \n",
    "\n",
    "Suppose we want to very accurately compute the area of a circle with a radius of 5 meters.  For that, we need the constant $\\pi$, which is roughly 3.14.  Conveniently, the `math` module has `pi` defined for us:"
   ]
  },
  {
   "cell_type": "code",
   "execution_count": null,
   "metadata": {
    "execution": {
     "iopub.execute_input": "2022-09-03T19:38:22.878636Z",
     "iopub.status.busy": "2022-09-03T19:38:22.878057Z",
     "iopub.status.idle": "2022-09-03T19:38:22.883986Z",
     "shell.execute_reply": "2022-09-03T19:38:22.883139Z"
    }
   },
   "outputs": [],
   "source": [
    "import math\n",
    "radius = 5\n",
    "area_of_circle = radius**2 * math.pi\n",
    "area_of_circle"
   ]
  },
  {
   "cell_type": "markdown",
   "metadata": {},
   "source": [
    "In the code above, the line `import math` imports the math module. This statement creates a module and then assigns the name `math` to that module. We are now able to access any variables or functions defined within `math` by typing the name of the module followed by a dot, then followed by the name of the variable or function we want.\n",
    "\n",
    "    <module name>.<name>"
   ]
  },
  {
   "cell_type": "markdown",
   "metadata": {},
   "source": [
    "### Task 2 📍"
   ]
  },
  {
   "cell_type": "markdown",
   "metadata": {},
   "source": [
    "The module `math` also provides the name `e` for the base of the natural logarithm, which is roughly 2.71. Compute $e^{\\pi}-\\pi$, giving it the name `near_twenty`.\n",
    "\n",
    "*Remember: You can access `pi` from the `math` module as well!*"
   ]
  },
  {
   "cell_type": "code",
   "execution_count": null,
   "metadata": {
    "execution": {
     "iopub.execute_input": "2022-09-03T19:38:22.888064Z",
     "iopub.status.busy": "2022-09-03T19:38:22.887324Z",
     "iopub.status.idle": "2022-09-03T19:38:22.893746Z",
     "shell.execute_reply": "2022-09-03T19:38:22.892381Z"
    },
    "tags": []
   },
   "outputs": [],
   "source": [
    "near_twenty = ...\n",
    "near_twenty"
   ]
  },
  {
   "cell_type": "code",
   "execution_count": null,
   "metadata": {
    "deletable": false,
    "editable": false
   },
   "outputs": [],
   "source": [
    "grader.check(\"task_2\")"
   ]
  },
  {
   "cell_type": "markdown",
   "metadata": {},
   "source": [
    "![XKCD](http://imgs.xkcd.com/comics/e_to_the_pi_minus_pi.png)\n",
    "\n",
    "[Source](http://imgs.xkcd.com/comics/e_to_the_pi_minus_pi.png)\n",
    "[Explaination](https://www.explainxkcd.com/wiki/index.php/217:_e_to_the_pi_Minus_pi)"
   ]
  },
  {
   "cell_type": "markdown",
   "metadata": {},
   "source": [
    "### Accessing functions"
   ]
  },
  {
   "cell_type": "markdown",
   "metadata": {},
   "source": [
    "In the question above, you accessed variables within the `math` module. \n",
    "\n",
    "**Modules** also define **functions**.  For example, `math` provides the name `sqrt` for the square root function.  Having imported `math` already, we can write `math.sqrt(3)` to compute the square root of 3."
   ]
  },
  {
   "cell_type": "markdown",
   "metadata": {},
   "source": [
    "#### Task 3 📍"
   ]
  },
  {
   "cell_type": "markdown",
   "metadata": {},
   "source": [
    "What is the square root of pi?  Compute that value using `sqrt` and `pi` from the `math` module.  Give the result the name `square_root_of_pi`."
   ]
  },
  {
   "cell_type": "code",
   "execution_count": null,
   "metadata": {
    "execution": {
     "iopub.execute_input": "2022-09-03T19:38:22.907152Z",
     "iopub.status.busy": "2022-09-03T19:38:22.906887Z",
     "iopub.status.idle": "2022-09-03T19:38:22.912449Z",
     "shell.execute_reply": "2022-09-03T19:38:22.911671Z"
    },
    "tags": []
   },
   "outputs": [],
   "source": [
    "square_root_of_pi = ...\n",
    "square_root_of_pi"
   ]
  },
  {
   "cell_type": "code",
   "execution_count": null,
   "metadata": {
    "deletable": false,
    "editable": false
   },
   "outputs": [],
   "source": [
    "grader.check(\"task_3\")"
   ]
  },
  {
   "cell_type": "markdown",
   "metadata": {},
   "source": [
    "Different functions can take in different numbers of arguments. Often, the [documentation](https://docs.python.org/3/library/math.html) of the module will provide information on how many arguments are required for each function.  \n",
    "\n",
    "For example, the logarithm function requires two arguments, as shown below. Calculating logarithms (the logarithm of 8 in base 2). Remember that logarithms are the inverse of powers, so the result is 3 because 2 to the power of 3 is 8.\n",
    "\n",
    "*Hint: If you press `shift+tab` while next to the function call, the documentation for that function will appear*"
   ]
  },
  {
   "cell_type": "code",
   "execution_count": null,
   "metadata": {
    "execution": {
     "iopub.execute_input": "2022-09-03T19:38:22.924956Z",
     "iopub.status.busy": "2022-09-03T19:38:22.924715Z",
     "iopub.status.idle": "2022-09-03T19:38:22.930133Z",
     "shell.execute_reply": "2022-09-03T19:38:22.929274Z"
    }
   },
   "outputs": [],
   "source": [
    "math.log(8, 2)"
   ]
  },
  {
   "cell_type": "markdown",
   "metadata": {},
   "source": [
    "There are various ways to import and access code from outside sources. The method we used above — `import <module_name>` — imports the entire module and requires that we use `<module_name>.<name>` to access its code. \n",
    "\n",
    "We can also import a specific constant or function instead of the entire module. Notice that you don't have to use the module name beforehand to reference that particular value. However, you do have to be careful about reassigning the names of the constants or functions to other values!"
   ]
  },
  {
   "cell_type": "markdown",
   "metadata": {},
   "source": [
    "Importing just `sqrt` and `pi` from math means that we don't have to use `math.` in front of `sqrt` or `pi`."
   ]
  },
  {
   "cell_type": "code",
   "execution_count": null,
   "metadata": {
    "execution": {
     "iopub.execute_input": "2022-09-03T19:38:22.933667Z",
     "iopub.status.busy": "2022-09-03T19:38:22.933121Z",
     "iopub.status.idle": "2022-09-03T19:38:22.937589Z",
     "shell.execute_reply": "2022-09-03T19:38:22.936775Z"
    }
   },
   "outputs": [],
   "source": [
    "from math import sqrt, pi\n",
    "print(sqrt(pi))"
   ]
  },
  {
   "cell_type": "markdown",
   "metadata": {},
   "source": [
    "We do have to use it in front of other functions from math that we have not imported directly."
   ]
  },
  {
   "cell_type": "code",
   "execution_count": null,
   "metadata": {
    "execution": {
     "iopub.execute_input": "2022-09-03T19:38:22.940939Z",
     "iopub.status.busy": "2022-09-03T19:38:22.940389Z",
     "iopub.status.idle": "2022-09-03T19:38:22.945754Z",
     "shell.execute_reply": "2022-09-03T19:38:22.944740Z"
    }
   },
   "outputs": [],
   "source": [
    "math.log(pi)"
   ]
  },
  {
   "cell_type": "markdown",
   "metadata": {},
   "source": [
    "We can also import **every** function and value from the entire module. This isn't a good practice in general, but we will do it in this class with the `datascience` module. Notice that, with the following command, you can just use `log` instead of `math.log`."
   ]
  },
  {
   "cell_type": "code",
   "execution_count": null,
   "metadata": {
    "execution": {
     "iopub.execute_input": "2022-09-03T19:38:22.949435Z",
     "iopub.status.busy": "2022-09-03T19:38:22.948571Z",
     "iopub.status.idle": "2022-09-03T19:38:22.954304Z",
     "shell.execute_reply": "2022-09-03T19:38:22.953507Z"
    }
   },
   "outputs": [],
   "source": [
    "from math import *\n",
    "log(pi)"
   ]
  },
  {
   "cell_type": "markdown",
   "metadata": {},
   "source": [
    "For our class, it is not important to focus on which type of import to use. In almost every case, there will be a cell containing all the import commands you need to run to complete the assignments."
   ]
  },
  {
   "cell_type": "markdown",
   "metadata": {},
   "source": [
    "# Submit your Lab to Canvas\n",
    "\n",
    "Once you have finished working on the lab questions, prepare to submit your work in Canvas by completing the following steps.\n",
    "\n",
    "1. Double-check that you have run the code cell near the end of the notebook that contains the command \"grader.check_all()\". This command will run all of the run tests on all your responses to the code questions.\n",
    "2. Double-check that you have responded to all the open-response questions.\n",
    "3. Select the menu item \"File\" and \"Save and Checkpoint\" in the notebook's Toolbar to save your work and create a specific checkpoint in the notebook's work history.\n",
    "4. Select the menu items \"File\", \"Download as\", and \"HTML (.html)\" in the notebook's Toolbar to download an HTML version of this notebook file.\n",
    "5. In the related Canvas Assignment, click Start Assignment or New Attempt to upload the downloaded HTML file."
   ]
  },
  {
   "cell_type": "markdown",
   "metadata": {
    "deletable": false,
    "editable": false
   },
   "source": [
    "---\n",
    "\n",
    "To double-check your work, the cell below will rerun all of the autograder tests."
   ]
  },
  {
   "cell_type": "code",
   "execution_count": null,
   "metadata": {
    "deletable": false,
    "editable": false
   },
   "outputs": [],
   "source": [
    "grader.check_all()"
   ]
  }
 ],
 "metadata": {
  "hide_input": false,
  "kernelspec": {
   "display_name": "Python 3 (ipykernel)",
   "language": "python",
   "name": "python3"
  },
  "language_info": {
   "codemirror_mode": {
    "name": "ipython",
    "version": 3
   },
   "file_extension": ".py",
   "mimetype": "text/x-python",
   "name": "python",
   "nbconvert_exporter": "python",
   "pygments_lexer": "ipython3",
   "version": "3.10.5"
  },
  "otter": {
   "tests": {
    "task_1": {
     "name": "task_1",
     "points": 1,
     "suites": [
      {
       "cases": [
        {
         "code": ">>> \n>>> new_year != ... and new_year == 2022\nTrue",
         "failure_message": "❌ It doesn't seem that you have the correct value. Double check your expressions, make sure to use the abs function for 1., and consider using the max function with 2 inputs to get your overall value.",
         "hidden": false,
         "locked": false,
         "points": 1,
         "success_message": "✅ Great work! Hopefully, you were able to utilize the max and abs functions."
        }
       ],
       "scored": true,
       "setup": "",
       "teardown": "",
       "type": "doctest"
      }
     ]
    },
    "task_2": {
     "name": "task_2",
     "points": 1,
     "suites": [
      {
       "cases": [
        {
         "code": ">>> \n>>> near_twenty != ... and round(near_twenty, 8) == 19.99909998\nTrue",
         "failure_message": "❌ It doesn't seem that you have the correct value. Make sure you are using math.pi and math.e in your expression.",
         "hidden": false,
         "locked": false,
         "points": 1,
         "success_message": "✅ Great work. It seems you have correct value."
        }
       ],
       "scored": true,
       "setup": "",
       "teardown": "",
       "type": "doctest"
      }
     ]
    },
    "task_3": {
     "name": "task_3",
     "points": 1,
     "suites": [
      {
       "cases": [
        {
         "code": ">>> \n>>> import math\n>>> square_root_of_pi != ... and round(square_root_of_pi, 8) == 1.77245385\nTrue",
         "failure_message": "❌ It doesn't seem that you have the correct value. Make sure you are using math.pi and math.sqrt or the exponent (1/2) in your expression.",
         "hidden": false,
         "locked": false,
         "points": 1,
         "success_message": "✅ Great work. It seems you have correct value."
        }
       ],
       "scored": true,
       "setup": "",
       "teardown": "",
       "type": "doctest"
      }
     ]
    }
   }
  },
  "toc-autonumbering": false,
  "toc-showmarkdowntxt": false
 },
 "nbformat": 4,
 "nbformat_minor": 4
}
