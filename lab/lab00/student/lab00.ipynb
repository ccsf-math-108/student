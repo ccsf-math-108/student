{
 "cells": [
  {
   "cell_type": "markdown",
   "id": "55dd1cda",
   "metadata": {
    "tags": []
   },
   "source": [
    "<img style=\"display: block; margin-left: auto; margin-right: auto\" src=\"./ccsf-logo.png\" width=\"250rem;\" alt=\"The CCSF black and white logo\">"
   ]
  },
  {
   "cell_type": "markdown",
   "id": "aa5b19fd",
   "metadata": {},
   "source": [
    "<div style=\"text-align: center;\">\n",
    "    <h1>Lab 00 - JupyterHub Test</h1>\n",
    "</div>"
   ]
  },
  {
   "cell_type": "markdown",
   "id": "56c5b90b",
   "metadata": {},
   "source": [
    "* ✅ You've successfully accessed our JupyterHub. You'll learn more about this application in the first meeting.\n",
    "* For the in-person meetings:\n",
    "    * Bring your laptop or similar device. Since there are only a few outlets, make sure to charge your battery.\n",
    "    * Bring a mask.\n",
    "    * Review the college's [COVID policy updates](https://www.ccsf.edu/covid-19-updates).\n",
    "* You can close this page at any time."
   ]
  }
 ],
 "metadata": {
  "kernelspec": {
   "display_name": "Python 3 (ipykernel)",
   "language": "python",
   "name": "python3"
  },
  "language_info": {
   "codemirror_mode": {
    "name": "ipython",
    "version": 3
   },
   "file_extension": ".py",
   "mimetype": "text/x-python",
   "name": "python",
   "nbconvert_exporter": "python",
   "pygments_lexer": "ipython3",
   "version": "3.10.5"
  }
 },
 "nbformat": 4,
 "nbformat_minor": 5
}
