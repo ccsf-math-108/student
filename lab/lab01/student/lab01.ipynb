{
 "cells": [
  {
   "cell_type": "markdown",
   "id": "f8be9174",
   "metadata": {
    "tags": []
   },
   "source": [
    "<img style=\"display: block; margin-left: auto; margin-right: auto\" src=\"./ccsf-logo.png\" width=\"250rem;\" alt=\"The CCSF black and white logo\">"
   ]
  },
  {
   "cell_type": "markdown",
   "id": "bcebdab3",
   "metadata": {},
   "source": [
    "<div style=\"text-align: center;\">\n",
    "    <h1>Lab 01 - Jupyter Notebooks</h1>\n",
    "    <em>View the related <a href=\"https://ccsf.instructure.com\" target=\"_blank\">Canvas</a> Assignment page for additional details.</em>\n",
    "</div>"
   ]
  },
  {
   "cell_type": "markdown",
   "id": "79c82260",
   "metadata": {
    "tags": []
   },
   "source": [
    "## Jupyter Notebooks"
   ]
  },
  {
   "cell_type": "markdown",
   "id": "e2d4c4b8",
   "metadata": {
    "tags": []
   },
   "source": [
    "<img style=\"display: block; margin-left: auto; margin-right: auto\" src=\"jupyter-main-logo.svg\" alt=\"Jupyter's main logo\" width=\"100rem;\">\n",
    "\n",
    "This web application is called a Jupyter notebook and is part of [Project Jupyter](https://jupyter.org/). A notebook is a place to host share explanatory content intended for humans usually in association with computational programs and their results. This notebook format supports reproducible computational research where anyone with access to the notebook and the relevant data will more than likely be able to reproduce the work done by the original researchers. Reproducibility is part of the backbone of modern scientific research. Notebook files on a computer end in `.ipynb`. This file extension is a reference to the IPython programming environment developed by [Fernando Pérez](https://en.wikipedia.org/wiki/Fernando_P%C3%A9rez_(software_developer)). You'll notice that these notebooks can be edited and run on several different platforms such as the [CCSF JupyterHub](https://ccsf.cloudbank.2i2c.cloud/), [Google Colab](colab.research.google.com), [VS Code](https://code.visualstudio.com/), etc. The different platforms allow you to interact with the notebooks in slightly different ways, but the main components of a notebook typically persist through those differences.\n",
    "\n",
    "<img style=\"display: block; margin-left: auto; margin-right: auto\" src=\"otter-logo-smaller.png\" alt=\"Otter-Grader's logo\" width=\"100rem;\">\n",
    "\n",
    "We will utilize notebooks for lecture demonstrations and assignments such as this one. Typically, you will need to provide explanatory content or code for the associated **Tasks** throughout the notebook. To assist in grading your work, we will use an auto-grading tool called [Otter-Grader](https://otter-grader.readthedocs.io/en/latest). You'll learn about that grader later in this assignment. Let's get started by exploring the various types of cells you will work with in this course."
   ]
  },
  {
   "cell_type": "markdown",
   "id": "fdac7c0d",
   "metadata": {},
   "source": [
    "## Cells"
   ]
  },
  {
   "cell_type": "markdown",
   "id": "eb0d173d",
   "metadata": {},
   "source": [
    "From our point of view, notebooks consist of building blocks called cells. If you navigate through the document, you'll notice that the various cells are outlined by a rectangle. In terms of the basics of cells, you will work with Markdown cells and code cells."
   ]
  },
  {
   "cell_type": "markdown",
   "id": "10c23ecb",
   "metadata": {},
   "source": [
    "### Markdown Cells"
   ]
  },
  {
   "cell_type": "markdown",
   "id": "f5fe169a",
   "metadata": {},
   "source": [
    "Markdown cells are typically where you will find the content intended for the explanatory material. There could be text, images, etc. in these cells to explain what is going on in the notebook and in the code cells. The text in these cells are formatted with a language called Markdown. You don't need to learn all the details of Markdown, but you might find it helpful to go through the tutorial on [markdowntutorial.com](https://www.markdowntutorial.com/) or reference the [Markdown Cheat Sheet](https://www.markdownguide.org/cheat-sheet/). \n",
    "\n",
    "* If you double-click a Markdown cell, then you'll be able to see how it was formatted. Sometimes we lock the Markdown cells in these notebooks, so you won't accidentally modify our explanatory content or instructions. You should have no program editing cells that you create or cells that are associated with the assignment tasks.\n",
    "* To return back to the formatted version of the cell, select the ▶ button on the toolbar above."
   ]
  },
  {
   "cell_type": "markdown",
   "id": "5d2f29a9",
   "metadata": {},
   "source": [
    "#### Task 1 📍🔎"
   ]
  },
  {
   "cell_type": "markdown",
   "id": "6dc26b1b",
   "metadata": {
    "jp-MarkdownHeadingCollapsed": true,
    "tags": []
   },
   "source": [
    "<!-- BEGIN QUESTION -->\n",
    "\n",
    "For your first task, edit the following Markdown cell and replace the text `_Type your answer here, replacing this text._`, with your name and a song, movie, book, etc. that you have been enjoying recently. To practice using Markdown, try to format your response as an unordered list with your name in **bold** and the name of the song, movie, book, etc. in _italics_."
   ]
  },
  {
   "cell_type": "markdown",
   "id": "851e487f",
   "metadata": {},
   "source": [
    "_Type your answer here, replacing this text._"
   ]
  },
  {
   "cell_type": "markdown",
   "id": "d99c4ba4",
   "metadata": {},
   "source": [
    "<!-- END QUESTION -->\n",
    "\n",
    "### Code Cells"
   ]
  },
  {
   "cell_type": "markdown",
   "id": "ffc1a7d5",
   "metadata": {},
   "source": [
    "Code cells host text associated with some programming language. We will utilize the Python 3 programming language in this course, and you will learn some of the basics of that language throughout the semester. The following cell is a Code cell. You'll notice that Code cells have a different structure than Markdown cells. You can run the Code cell by selecting it and pressing the ▶ button. (As you progress, you'll want to familiarize yourself with a few shortcuts rather than selecting the buttons. For example, to run a Code cell, you can hold down `shift` and press `return`.)"
   ]
  },
  {
   "cell_type": "code",
   "execution_count": null,
   "id": "bb5e4f82",
   "metadata": {
    "execution": {
     "iopub.execute_input": "2022-08-31T17:28:17.974432Z",
     "iopub.status.busy": "2022-08-31T17:28:17.973923Z",
     "iopub.status.idle": "2022-08-31T17:28:17.984632Z",
     "shell.execute_reply": "2022-08-31T17:28:17.983541Z"
    }
   },
   "outputs": [],
   "source": [
    "print(\"Hello, World!\")"
   ]
  },
  {
   "cell_type": "markdown",
   "id": "141c4c6a",
   "metadata": {},
   "source": [
    "If you ran the above cell, you should notice that next to the Code cell is a set of square brackets with a number inside of it. \n",
    "* If a Code cell has not been run, then it will not contain a number `[ ]:`.\n",
    "* Depending on how long it takes for the code to run, you'll see an asterisk within the brackets while the code is running `[*]:`.\n",
    "* If it is the first cell to be executed in the notebook, then it will have a 1 in it `[1]:`. \n",
    "* The next cell (including the same cell) that is run will have a 2 within the brackets `[2]:`.\n",
    "* The numbers in the code cells provide us with the sequence in which the Code cells were run. It is important to know which cells have been executed because Code cells ran later in time might depend on Code cells previously executed."
   ]
  },
  {
   "cell_type": "markdown",
   "id": "7192aa95",
   "metadata": {},
   "source": [
    "#### Output"
   ]
  },
  {
   "cell_type": "markdown",
   "id": "46e62619",
   "metadata": {},
   "source": [
    "Notice that once the above code cell was run, `Hello, World!` appeared below the Code cell as output. The output of a code cell contain images, data tables, etc. produced by the output from running the Python commands."
   ]
  },
  {
   "cell_type": "markdown",
   "id": "a815ef8f",
   "metadata": {},
   "source": [
    "##### Task 2 📍"
   ]
  },
  {
   "cell_type": "markdown",
   "id": "86ec699f",
   "metadata": {},
   "source": [
    "In most of the assignments, it will be easy for us to run some checks on your code to see if you are doing things correctly. That auto-grading is done with the help of the Otter-Grader library. Otter runs tests on your code that we create to see how you are doing. Sometimes these tests show you what we are testing for and what the results are, but there will be times when we run hidden tests after you submit your work to help grade for correctness. In most cases, the lab assignments do not have hidden tests, but the homework and project assignments do have hidden tests. For every assignment, you'll run a cell that initializes Otter. Usually, that Code cell will appear at the top of the notebook, but for this first assignment it is below.\n",
    "\n",
    "For this task:\n",
    "\n",
    "1. Run the following Code cell that starts with `# Initialize Otter`. Before you run the cell, Python doesn't understand what the work `grader` means, but after you run the cell, Python has an association of the name `grader` with the Otter grader and its configurations for this assignment.\n",
    "2. Run the grader.check(\"task_2\") cell. \n",
    "\n",
    "You should see that there was one test performed and you passed. If you are having troubles, ask for help before moving on. For example, if you find the text `NameError: name 'grader' is not defined` as output and has been shaded red, then that means that you have not run the cell that initializes Otter. "
   ]
  },
  {
   "cell_type": "code",
   "execution_count": null,
   "id": "9b7c4d3c",
   "metadata": {
    "execution": {
     "iopub.execute_input": "2022-08-31T17:28:17.989713Z",
     "iopub.status.busy": "2022-08-31T17:28:17.989315Z",
     "iopub.status.idle": "2022-08-31T17:28:18.829823Z",
     "shell.execute_reply": "2022-08-31T17:28:18.828514Z"
    }
   },
   "outputs": [],
   "source": [
    "# Initialize Otter\n",
    "import otter\n",
    "grader = otter.Notebook(\"lab01.ipynb\")"
   ]
  },
  {
   "cell_type": "code",
   "execution_count": null,
   "id": "ddeff275",
   "metadata": {
    "deletable": false,
    "editable": false
   },
   "outputs": [],
   "source": [
    "grader.check(\"task_2\")"
   ]
  },
  {
   "cell_type": "markdown",
   "id": "20ca17b6",
   "metadata": {},
   "source": [
    "### Adding Cells to Jupyter Notebooks"
   ]
  },
  {
   "cell_type": "markdown",
   "id": "b0575a92",
   "metadata": {},
   "source": [
    "So far, you have only edited the content of this notebook. There will be times when you want to add your own cells to notebooks. To add a cell, click the + button in the toolbar.  It'll start out as a Code cell.  In order to change the cell type:\n",
    "\n",
    "1. Click to the cell that you want to change the type of.\n",
    "2. Click the drop-down box in the toolbar and choose `Markdown`."
   ]
  },
  {
   "cell_type": "markdown",
   "id": "03af6c1c",
   "metadata": {},
   "source": [
    "### Making Mistakes"
   ]
  },
  {
   "cell_type": "markdown",
   "id": "120595ae",
   "metadata": {},
   "source": [
    "Before you begin the next task, we want to remind you that you will make mistakes as you work with these notebooks. Consider the following three pieces of advice:\n",
    "\n",
    "1. If you find that you have just made a mistake, be careful of compounding the mistakes by trying to fix them. Instead, select `Edit` in the menu bar and select a relevant `Undo` option. \n",
    "2.You will create checkpoints in your notebook's history by selecting `File` in the menu bar, then `Save`. You can revert to one of these checkpoints by selecting `File` in the menu bar, followed by `Revert Notebook to Checkpoint`.\n",
    "2. If you feel that you just want to start your assignment over, then select `File` in the menu bar, followed by `Rename ...`. This keeps your work in your JupyterHub. After that, go back to Canvas and open the link to the notebook from the assignment page. This will create a new copy of the original notebook that we shared with you."
   ]
  },
  {
   "cell_type": "markdown",
   "id": "06b0da13",
   "metadata": {},
   "source": [
    "### Task 3 📍🔎"
   ]
  },
  {
   "cell_type": "markdown",
   "id": "bd675031",
   "metadata": {},
   "source": [
    "<!-- BEGIN QUESTION -->\n",
    "\n",
    "For this task,\n",
    "\n",
    "1. Add a code cell to the notebook and **position it below** this Markdown cell.\n",
    "2. Type `2 + 2` in the code cell and run it so that `4` appears in its associated output.\n",
    "3. Add a Markdown cell to the notebook and **position it above** the code cell you created.\n",
    "4. Type `I'm getting the hang of this! Here is some code:` in the Markdown cell that you added.\n",
    "\n",
    "You might need to ask for help when it comes to moving the cells around. Don't give up!"
   ]
  },
  {
   "cell_type": "markdown",
   "id": "d0e02e5d",
   "metadata": {},
   "source": [
    "<!-- END QUESTION -->\n",
    "\n",
    "### Edit and Command Modes"
   ]
  },
  {
   "cell_type": "markdown",
   "id": "a0e207b9",
   "metadata": {},
   "source": [
    "Notebooks have two modes. In edit mode, you can edit text in cells. Command mode is used for navigating the notebook using keyboard shortcuts.\n",
    "\n",
    "- If the notebook is in command mode, press `enter` on the keyboard to change to edit mode.\n",
    "- If the notebook is in edit mode, press `esc` on the keyboard to change to command mode.\n",
    "\n",
    "It can be tricky at first understanding the difference between the two modes, but you will get the hang of it over time!"
   ]
  },
  {
   "cell_type": "markdown",
   "id": "a74c6a48",
   "metadata": {},
   "source": [
    "## Shortcuts"
   ]
  },
  {
   "cell_type": "markdown",
   "id": "591b9492",
   "metadata": {},
   "source": [
    "After a few lessons, you will mind might end up moving quicker than you can edit the notebook. Learning a few shortcuts can help you speed up your editing process. You can find most of the notebook book shortcuts by selecting `Help` in the menu bar and clicking `Notebook Shortcuts`.\n",
    "\n",
    "A few of the most common shortcuts that we use are:\n",
    "\n",
    "1. Hold `shift` while pressing `return` on the keyboard: This shortcut runs the selected cell and moves to the next cell.\n",
    "2. While in command mode, pressing `b` on the keyboard will create a new cell below the selected cell.\n",
    "3. While in command mode, pressing `d` on the keyboard twice will delete the selected cell.\n",
    "4. While in command mode, pressing `m` on the keyboard turns the selected cell into a Markdown cell."
   ]
  },
  {
   "cell_type": "markdown",
   "id": "e0a4d453",
   "metadata": {},
   "source": [
    "## The Kernel"
   ]
  },
  {
   "cell_type": "markdown",
   "id": "0f9c41e0",
   "metadata": {},
   "source": [
    "The kernel is a program that executes the code inside your notebook and outputs the results. We running a Python 3 kernel in this course. In the top right of your window, you can see a circle that indicates the status of your kernel. If the circle is empty (⚪), the kernel is idle and ready to execute code. If the circle is filled in (⚫), the kernel is busy running some code. \n",
    "\n",
    "As we described above, next to every code cell, you'll see some text that reads `[ ]:`. Before you run the cell, you'll see `[ ]:`. When the cell is running, you'll see `In [*]`. If you see an asterisk (\\*) next to a cell that doesn't go away, it's likely that the code inside the cell is taking too long to run, and it might be a good time to interrupt the kernel (discussed below). When a cell is finished running, you'll see a number inside the brackets, like so: `In [1]`. The number corresponds to the order in which you run the cells; so, the first cell you run will show a 1 when it's finished running, the second will show a 2, and so on. "
   ]
  },
  {
   "cell_type": "markdown",
   "id": "3cc8b99d",
   "metadata": {},
   "source": [
    "### Restarting the Kernel"
   ]
  },
  {
   "cell_type": "markdown",
   "id": "967d026a",
   "metadata": {},
   "source": [
    "You may run into problems where your kernel is stuck for an excessive amount of time, your notebook is very slow and unresponsive, or your kernel loses its connection. If this happens, try the following steps:\n",
    "\n",
    "* At the top of your screen, click `Kernel` in the menu bar, then `Interrupt Kernel`.\n",
    "* If that doesn't help, click `Kernel` in the menu bar, then `Restart Kernel`. If you do this, you will have to run your code cells from the start of your notebook up until where you paused your work.\n",
    "* If that doesn't help, restart your server by completing the following tasks in order:\n",
    "    1. Save your work by clicking `File` in the menu bar, then `Save Notebook`. \n",
    "    2. Click `File` again, then`Hub Control Panel`. \n",
    "    3. Choose `Stop My Server` to shut it down, then `Start My Server` to start it back up.\n",
    "    4. Open the notebook using the link from the Canvas assignment. You'll still have to run your code cells again.\n",
    "    \n",
    "Note that if your notebook is inactive for a while, then the kernel will shutdown on its own and you will have to run your code cells from the start of your notebook up until where you paused your work."
   ]
  },
  {
   "cell_type": "markdown",
   "id": "98b81124",
   "metadata": {},
   "source": [
    "### Running Many Cells Automatically"
   ]
  },
  {
   "cell_type": "markdown",
   "id": "2ac171a0",
   "metadata": {},
   "source": [
    "There will be times when you need to re-run your cells. For example, you stopped working on an assignment and came back to it later, but the kernel had already shut down. If you want to quickly catch up to where last were, then \n",
    "\n",
    "1. Select the cell you last worked on.\n",
    "2. Select `Kernel` from the menu bar, then `Restart Kernel and Run up to Selected Cell ...`.\n",
    "\n",
    "Note that the cells will run in order from top to bottom and stop by executing the selected cell **unless** the kernel encounters an error. If there is an error in any of the code cells above the one you selected, then the process will stop at that point. You should probably address that error before moving one since most of our work depends on what has been done in previous cells."
   ]
  },
  {
   "cell_type": "markdown",
   "id": "8ef4db9c",
   "metadata": {},
   "source": [
    "## Errors"
   ]
  },
  {
   "cell_type": "markdown",
   "id": "382465e9",
   "metadata": {},
   "source": [
    "Python is a language, and like natural human languages, it has rules.  It differs from natural language in two important ways:\n",
    "\n",
    "1. The rules are relatively _simple_.  You can learn most of them in a few weeks and gain reasonable proficiency with the language in a semester.\n",
    "2. The rules are _rigid_.  If you're proficient in a natural language, you can understand a non-proficient speaker, glossing over small mistakes.  A computer running Python code is not smart enough to do that.\n",
    "\n",
    "Whenever you write code, you'll make mistakes.  When you run a code cell that has errors, Python will sometimes produce error messages to tell you what you did wrong.\n",
    "\n",
    "**Errors are okay; even experienced programmers make many errors.** When you make an error, you just have to find the source of the problem, fix it, and move on.\n",
    "\n",
    "We have made an error in the next cell.  Run it and see what happens."
   ]
  },
  {
   "cell_type": "code",
   "execution_count": null,
   "id": "856525a4",
   "metadata": {
    "execution": {
     "iopub.execute_input": "2022-08-31T17:28:18.854931Z",
     "iopub.status.busy": "2022-08-31T17:28:18.854482Z",
     "iopub.status.idle": "2022-08-31T17:28:18.861266Z",
     "shell.execute_reply": "2022-08-31T17:28:18.860284Z"
    }
   },
   "outputs": [],
   "source": [
    "print(\"This line is missing something.\""
   ]
  },
  {
   "cell_type": "markdown",
   "id": "d8b35a04",
   "metadata": {},
   "source": [
    "Depending on the version of Python being used to run the notebook, the error might look slightly different. We are using version 3.10 of Python, so the error should show `SyntaxError: incomplete input` at the bottom of the output. Additionally, there should be a ^ symbol attempting to point to the issue. In this case, the issue is that there is a missing parenthesis.\n",
    "\n",
    "There's a lot of terminology in programming languages, but you don't need to know it all in order to program effectively. If you see a cryptic message like this, you can often get by without deciphering it. (Of course, if you're frustrated, ask for help.)"
   ]
  },
  {
   "cell_type": "markdown",
   "id": "ef20a6b7",
   "metadata": {},
   "source": [
    "### Task 4 📍🔎"
   ]
  },
  {
   "cell_type": "markdown",
   "id": "d3b82d4e",
   "metadata": {},
   "source": [
    "<!-- BEGIN QUESTION -->\n",
    "\n",
    "For this task, complete the following:\n",
    "\n",
    "1. Edit the above cell containing the code `print(\"This line is missing something.\"` to fix the `SyntaxError`.\n",
    "2. Re-run the cell and notice that the error message is replaced with the correct output.\n",
    "3. In the following Markdown cell, explain what you did to fix the error."
   ]
  },
  {
   "cell_type": "markdown",
   "id": "d2b4492c",
   "metadata": {},
   "source": [
    "_Type your answer here, replacing this text._"
   ]
  },
  {
   "cell_type": "markdown",
   "id": "73145c0e",
   "metadata": {},
   "source": [
    "<!-- END QUESTION -->\n",
    "\n",
    "Check out [the official Python 3.10 documentation on Exceptions](https://docs.python.org/3.10/library/exceptions.html#concrete-exceptions) to view the types of errors you could see. Note that this documentation is a bit overwhelming to newcomers"
   ]
  },
  {
   "cell_type": "markdown",
   "id": "7d5331dd",
   "metadata": {},
   "source": [
    "## Submitting Your Lab to Canvas"
   ]
  },
  {
   "cell_type": "markdown",
   "id": "37951587",
   "metadata": {},
   "source": [
    "Once you have finished working on the lab questions, prepare to submit your work in Canvas by completing the following steps:\n",
    "\n",
    "1. Double-check that you have responded to all the open-response questions.\n",
    "2. Double-check that you have run the code cell near the end of the notebook that contains the command `grader.check_all()`. This command will run all of the run tests on all your responses to the code questions.\n",
    "3. Select the menu item `File` and `Save and Checkpoint` in the notebook's Toolbar to save your work and create a specific checkpoint in the notebook's work history.\n",
    "4. Select the menu items `File`, `Save and Export Notebook As ...`, and `HTML` in the notebook's Toolbar to download an HTML version of this notebook file.\n",
    "5. In the related Canvas Assignment, click Start Assignment or New Attempt to upload the downloaded HTML file."
   ]
  },
  {
   "cell_type": "markdown",
   "id": "2e0202c9",
   "metadata": {
    "deletable": false,
    "editable": false
   },
   "source": [
    "---\n",
    "\n",
    "To double-check your work, the cell below will rerun all of the autograder tests."
   ]
  },
  {
   "cell_type": "code",
   "execution_count": null,
   "id": "9687d6cc",
   "metadata": {
    "deletable": false,
    "editable": false
   },
   "outputs": [],
   "source": [
    "grader.check_all()"
   ]
  }
 ],
 "metadata": {
  "kernelspec": {
   "display_name": "Python 3 (ipykernel)",
   "language": "python",
   "name": "python3"
  },
  "language_info": {
   "codemirror_mode": {
    "name": "ipython",
    "version": 3
   },
   "file_extension": ".py",
   "mimetype": "text/x-python",
   "name": "python",
   "nbconvert_exporter": "python",
   "pygments_lexer": "ipython3",
   "version": "3.10.5"
  },
  "otter": {
   "tests": {
    "task_2": {
     "name": "task_2",
     "points": 1,
     "suites": [
      {
       "cases": [
        {
         "code": ">>> \n>>> 'grader' in vars()\nTrue",
         "failure_message": "❌ It doesn't seem that you successfully ran the cell starting with # Initialize Otter.",
         "hidden": false,
         "locked": false,
         "points": 1,
         "success_message": "✅ You've successfully run the cell and initialized Otter!"
        }
       ],
       "scored": true,
       "setup": "",
       "teardown": "",
       "type": "doctest"
      }
     ]
    }
   }
  },
  "toc": {
   "base_numbering": 1,
   "nav_menu": {},
   "number_sections": false,
   "sideBar": true,
   "skip_h1_title": false,
   "title_cell": "Table of Contents",
   "title_sidebar": "Contents",
   "toc_cell": false,
   "toc_position": {},
   "toc_section_display": true,
   "toc_window_display": false
  },
  "toc-autonumbering": false,
  "toc-showcode": false,
  "toc-showmarkdowntxt": false,
  "toc-showtags": false
 },
 "nbformat": 4,
 "nbformat_minor": 5
}
